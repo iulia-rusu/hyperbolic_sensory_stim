{
 "cells": [
  {
   "cell_type": "code",
   "execution_count": 1,
   "metadata": {},
   "outputs": [],
   "source": [
    "import os\n",
    "\n",
    "\n",
    "import tensorflow as tf"
   ]
  },
  {
   "cell_type": "code",
   "execution_count": 2,
   "metadata": {},
   "outputs": [],
   "source": [
    "import numpy as np\n",
    "import keras\n",
    "from tensorflow.keras import layers"
   ]
  },
  {
   "cell_type": "code",
   "execution_count": 3,
   "metadata": {},
   "outputs": [],
   "source": [
    "import matplotlib.pyplot as plt"
   ]
  },
  {
   "cell_type": "code",
   "execution_count": 4,
   "metadata": {},
   "outputs": [],
   "source": [
    "\n",
    "def make_linear_model(D):\n",
    "\n",
    "    input_layer = keras.layers.Input((D,))\n",
    "\n",
    "    linear_layer = keras.layers.Dense(1)(input_layer)\n",
    "\n",
    "    output_layer = keras.layers.Activation('sigmoid')(linear_layer)\n",
    "\n",
    "    model = keras.models.Model(input_layer,output_layer)\n",
    "\n",
    "    model.compile(loss='binary_crossentropy')\n",
    "\n",
    "    return model\n",
    "\n",
    "\n"
   ]
  },
  {
   "cell_type": "code",
   "execution_count": 5,
   "metadata": {},
   "outputs": [],
   "source": [
    "# def make_linear_model(D):\n",
    "#     # Define the input shape\n",
    "#     input_layer = keras.layers.Input(shape=(D,))\n",
    "\n",
    "#     # Add a linear (Dense) layer with 1 output neuron\n",
    "#     linear_layer = keras.layers.Dense(1)(input_layer)\n",
    "\n",
    "#     # Use sigmoid activation function for binary classification\n",
    "#     output_layer = keras.layers.Activation('sigmoid')(linear_layer)\n",
    "\n",
    "#     # Create the model\n",
    "#     model = keras.models.Model(inputs=input_layer, outputs=output_layer)\n",
    "\n",
    "#     # Compile the model with binary crossentropy loss and an optimizer\n",
    "#     model.compile(optimizer='adam', loss='binary_crossentropy')\n",
    "\n",
    "#     return model"
   ]
  },
  {
   "cell_type": "code",
   "execution_count": 14,
   "metadata": {},
   "outputs": [],
   "source": [
    "D = 10  # Number of features\n",
    "model = make_linear_model(D)"
   ]
  },
  {
   "cell_type": "code",
   "execution_count": 5,
   "metadata": {},
   "outputs": [],
   "source": [
    "#data\n",
    "\n",
    "inputs = np.random.random((1000, D))  # 1000 samples, D features each\n",
    "labels = np.random.randint(0, 2, (1000, 1))  # 1000 binary labels"
   ]
  },
  {
   "cell_type": "code",
   "execution_count": 6,
   "metadata": {},
   "outputs": [],
   "source": [
    "#actual data import\n",
    "stimulus = np.load('ProcAiryData/inpfull_op50_SF.npz')\n",
    "Y_full = np.load('ProcAiryData/Yfull_op50_SF.npz')"
   ]
  },
  {
   "cell_type": "code",
   "execution_count": 7,
   "metadata": {},
   "outputs": [],
   "source": [
    "stimulus_concat = np.concatenate([stimulus['arr_0'], stimulus['arr_1'], stimulus['arr_2'], stimulus['arr_3'], stimulus['arr_4'], stimulus['arr_5'], stimulus['arr_6']], axis =1)\n",
    "Y_full_concat = np.concatenate([Y_full['arr_0'],\n",
    "                         Y_full['arr_1'],\n",
    "                         Y_full['arr_2'],\n",
    "                         Y_full['arr_3'] , Y_full['arr_4'], Y_full['arr_5'], Y_full['arr_6']], axis =1)"
   ]
  },
  {
   "cell_type": "code",
   "execution_count": 8,
   "metadata": {},
   "outputs": [],
   "source": [
    "\n",
    "def get_bins(stimulus, response, bin_size, start_idx, cell_idx, num_bins = 10):\n",
    "    response_vector = []\n",
    "    stimulus_vector = []\n",
    "    stimulus_matrix = ((num_bins, bin_size))\n",
    "\n",
    "    if start_idx < num_bins * bin_size:\n",
    "        print(\"Start index is out of bounds.\")\n",
    "        return None\n",
    "    start = response[cell_idx,  start_idx: start_idx + 10] \n",
    "    response_vector.append(start)\n",
    "    end = start_idx - (bin_size * num_bins)\n",
    "    print('end', end)\n",
    "    print(\"resp\", response_vector)\n",
    "    stimulus_vector.append(stimulus[ 0, end : start_idx ])\n",
    "    print(\"stim\", stimulus_vector)\n",
    "    stimulus_vector = np.array(stimulus_vector)\n",
    "    stimulus_matrix = stimulus_vector.reshape((num_bins, bin_size))\n",
    "    return stimulus_matrix, np.array(response_vector)"
   ]
  },
  {
   "cell_type": "code",
   "execution_count": 9,
   "metadata": {},
   "outputs": [
    {
     "name": "stdout",
     "output_type": "stream",
     "text": [
      "end 300\n",
      "resp [array([0.01811616, 0.0193677 , 0.02122734, 0.02012054, 0.02539671,\n",
      "       0.0223045 , 0.01799833, 0.01557581, 0.01570844, 0.02203154])]\n",
      "stim [array([0., 0., 0., 0., 0., 0., 0., 0., 0., 0., 0., 0., 0., 0., 0., 0., 0.,\n",
      "       0., 0., 0., 0., 0., 0., 0., 0., 0., 0., 0., 0., 0., 0., 0., 0., 0.,\n",
      "       0., 0., 0., 0., 0., 0., 0., 0., 0., 0., 0., 0., 0., 0., 0., 0., 0.,\n",
      "       0., 0., 0., 0., 0., 0., 0., 0., 0., 0., 0., 0., 0., 0., 0., 0., 0.,\n",
      "       0., 0., 0., 0., 0., 0., 0., 0., 0., 0., 0., 0., 0., 0., 0., 0., 0.,\n",
      "       0., 0., 0., 0., 0., 0., 0., 0., 0., 0., 0., 0., 0., 0., 0.])]\n"
     ]
    }
   ],
   "source": [
    "stimulus_matrix, response_vector = get_bins(stimulus = stimulus_concat.T, response = Y_full_concat.T, bin_size = 10, start_idx= 400, cell_idx = 0, num_bins = 10)"
   ]
  },
  {
   "cell_type": "code",
   "execution_count": 13,
   "metadata": {},
   "outputs": [
    {
     "data": {
      "text/plain": [
       "(10, 10)"
      ]
     },
     "execution_count": 13,
     "metadata": {},
     "output_type": "execute_result"
    }
   ],
   "source": [
    "stimulus_matrix.shape"
   ]
  },
  {
   "cell_type": "code",
   "execution_count": 25,
   "metadata": {},
   "outputs": [],
   "source": [
    "inputs = stimulus_matrix  # 1000 samples, D features each\n",
    "labels = response_vector  # 1000 binary labels"
   ]
  },
  {
   "cell_type": "code",
   "execution_count": 20,
   "metadata": {},
   "outputs": [],
   "source": [
    "response_vector = response_vector.reshape((10, ))"
   ]
  },
  {
   "cell_type": "code",
   "execution_count": 22,
   "metadata": {},
   "outputs": [
    {
     "data": {
      "text/plain": [
       "(10,)"
      ]
     },
     "execution_count": 22,
     "metadata": {},
     "output_type": "execute_result"
    }
   ],
   "source": [
    "response_vector.shape"
   ]
  },
  {
   "cell_type": "code",
   "execution_count": 23,
   "metadata": {},
   "outputs": [
    {
     "data": {
      "text/plain": [
       "(10, 10)"
      ]
     },
     "execution_count": 23,
     "metadata": {},
     "output_type": "execute_result"
    }
   ],
   "source": [
    "stimulus_matrix.shape"
   ]
  },
  {
   "cell_type": "code",
   "execution_count": 26,
   "metadata": {},
   "outputs": [
    {
     "name": "stdout",
     "output_type": "stream",
     "text": [
      "Epoch 1/10\n"
     ]
    },
    {
     "name": "stderr",
     "output_type": "stream",
     "text": [
      "2024-05-21 18:04:40.595760: I tensorflow/core/grappler/optimizers/custom_graph_optimizer_registry.cc:117] Plugin optimizer for device_type GPU is enabled.\n"
     ]
    },
    {
     "name": "stdout",
     "output_type": "stream",
     "text": [
      "\u001b[1m1/1\u001b[0m \u001b[32m━━━━━━━━━━━━━━━━━━━━\u001b[0m\u001b[37m\u001b[0m \u001b[1m0s\u001b[0m 373ms/step - loss: 0.6931\n",
      "Epoch 2/10\n",
      "\u001b[1m1/1\u001b[0m \u001b[32m━━━━━━━━━━━━━━━━━━━━\u001b[0m\u001b[37m\u001b[0m \u001b[1m0s\u001b[0m 20ms/step - loss: 0.6916\n",
      "Epoch 3/10\n",
      "\u001b[1m1/1\u001b[0m \u001b[32m━━━━━━━━━━━━━━━━━━━━\u001b[0m\u001b[37m\u001b[0m \u001b[1m0s\u001b[0m 17ms/step - loss: 0.6905\n",
      "Epoch 4/10\n",
      "\u001b[1m1/1\u001b[0m \u001b[32m━━━━━━━━━━━━━━━━━━━━\u001b[0m\u001b[37m\u001b[0m \u001b[1m0s\u001b[0m 17ms/step - loss: 0.6896\n",
      "Epoch 5/10\n",
      "\u001b[1m1/1\u001b[0m \u001b[32m━━━━━━━━━━━━━━━━━━━━\u001b[0m\u001b[37m\u001b[0m \u001b[1m0s\u001b[0m 16ms/step - loss: 0.6888\n",
      "Epoch 6/10\n",
      "\u001b[1m1/1\u001b[0m \u001b[32m━━━━━━━━━━━━━━━━━━━━\u001b[0m\u001b[37m\u001b[0m \u001b[1m0s\u001b[0m 15ms/step - loss: 0.6881\n",
      "Epoch 7/10\n",
      "\u001b[1m1/1\u001b[0m \u001b[32m━━━━━━━━━━━━━━━━━━━━\u001b[0m\u001b[37m\u001b[0m \u001b[1m0s\u001b[0m 17ms/step - loss: 0.6874\n",
      "Epoch 8/10\n",
      "\u001b[1m1/1\u001b[0m \u001b[32m━━━━━━━━━━━━━━━━━━━━\u001b[0m\u001b[37m\u001b[0m \u001b[1m0s\u001b[0m 17ms/step - loss: 0.6867\n",
      "Epoch 9/10\n",
      "\u001b[1m1/1\u001b[0m \u001b[32m━━━━━━━━━━━━━━━━━━━━\u001b[0m\u001b[37m\u001b[0m \u001b[1m0s\u001b[0m 16ms/step - loss: 0.6861\n",
      "Epoch 10/10\n",
      "\u001b[1m1/1\u001b[0m \u001b[32m━━━━━━━━━━━━━━━━━━━━\u001b[0m\u001b[37m\u001b[0m \u001b[1m0s\u001b[0m 15ms/step - loss: 0.6855\n"
     ]
    },
    {
     "data": {
      "text/plain": [
       "<keras.src.callbacks.history.History at 0x179cca500>"
      ]
     },
     "execution_count": 26,
     "metadata": {},
     "output_type": "execute_result"
    }
   ],
   "source": [
    "#train\n",
    "model.fit(inputs, labels, epochs=10, batch_size=32)"
   ]
  },
  {
   "cell_type": "code",
   "execution_count": 28,
   "metadata": {},
   "outputs": [
    {
     "name": "stdout",
     "output_type": "stream",
     "text": [
      "Epoch 1/10\n",
      "\u001b[1m1/1\u001b[0m \u001b[32m━━━━━━━━━━━━━━━━━━━━\u001b[0m\u001b[37m\u001b[0m \u001b[1m0s\u001b[0m 61ms/step - loss: 0.6796\n",
      "Epoch 2/10\n",
      "\u001b[1m1/1\u001b[0m \u001b[32m━━━━━━━━━━━━━━━━━━━━\u001b[0m\u001b[37m\u001b[0m \u001b[1m0s\u001b[0m 17ms/step - loss: 0.6791\n",
      "Epoch 3/10\n",
      "\u001b[1m1/1\u001b[0m \u001b[32m━━━━━━━━━━━━━━━━━━━━\u001b[0m\u001b[37m\u001b[0m \u001b[1m0s\u001b[0m 16ms/step - loss: 0.6786\n",
      "Epoch 4/10\n",
      "\u001b[1m1/1\u001b[0m \u001b[32m━━━━━━━━━━━━━━━━━━━━\u001b[0m\u001b[37m\u001b[0m \u001b[1m0s\u001b[0m 16ms/step - loss: 0.6781\n",
      "Epoch 5/10\n",
      "\u001b[1m1/1\u001b[0m \u001b[32m━━━━━━━━━━━━━━━━━━━━\u001b[0m\u001b[37m\u001b[0m \u001b[1m0s\u001b[0m 16ms/step - loss: 0.6776\n",
      "Epoch 6/10\n",
      "\u001b[1m1/1\u001b[0m \u001b[32m━━━━━━━━━━━━━━━━━━━━\u001b[0m\u001b[37m\u001b[0m \u001b[1m0s\u001b[0m 15ms/step - loss: 0.6771\n",
      "Epoch 7/10\n",
      "\u001b[1m1/1\u001b[0m \u001b[32m━━━━━━━━━━━━━━━━━━━━\u001b[0m\u001b[37m\u001b[0m \u001b[1m0s\u001b[0m 15ms/step - loss: 0.6766\n",
      "Epoch 8/10\n",
      "\u001b[1m1/1\u001b[0m \u001b[32m━━━━━━━━━━━━━━━━━━━━\u001b[0m\u001b[37m\u001b[0m \u001b[1m0s\u001b[0m 16ms/step - loss: 0.6761\n",
      "Epoch 9/10\n",
      "\u001b[1m1/1\u001b[0m \u001b[32m━━━━━━━━━━━━━━━━━━━━\u001b[0m\u001b[37m\u001b[0m \u001b[1m0s\u001b[0m 15ms/step - loss: 0.6757\n",
      "Epoch 10/10\n",
      "\u001b[1m1/1\u001b[0m \u001b[32m━━━━━━━━━━━━━━━━━━━━\u001b[0m\u001b[37m\u001b[0m \u001b[1m0s\u001b[0m 15ms/step - loss: 0.6752\n",
      "\u001b[1m1/1\u001b[0m \u001b[32m━━━━━━━━━━━━━━━━━━━━\u001b[0m\u001b[37m\u001b[0m \u001b[1m0s\u001b[0m 129ms/step - loss: 0.6747\n"
     ]
    }
   ],
   "source": [
    "# Split data into training and testing\n",
    "train_inputs, test_inputs = inputs[:8], inputs[8:]\n",
    "train_labels, test_labels = labels[:8], labels[8:]\n",
    "\n",
    "# Train the model\n",
    "model.fit(train_inputs, train_labels, epochs=10, batch_size=32)\n",
    "\n",
    "# Evaluate the model\n",
    "loss = model.evaluate(test_inputs, test_labels)"
   ]
  },
  {
   "cell_type": "code",
   "execution_count": 30,
   "metadata": {},
   "outputs": [
    {
     "name": "stdout",
     "output_type": "stream",
     "text": [
      "\u001b[1m1/1\u001b[0m \u001b[32m━━━━━━━━━━━━━━━━━━━━\u001b[0m\u001b[37m\u001b[0m \u001b[1m0s\u001b[0m 28ms/step\n",
      "[[0.490292]\n",
      " [0.490292]\n",
      " [0.490292]\n",
      " [0.490292]\n",
      " [0.490292]\n",
      " [0.490292]\n",
      " [0.490292]\n",
      " [0.490292]\n",
      " [0.490292]\n",
      " [0.490292]]\n"
     ]
    }
   ],
   "source": [
    "predictions = model.predict(inputs)\n",
    "print(predictions[:10])"
   ]
  },
  {
   "cell_type": "code",
   "execution_count": 31,
   "metadata": {},
   "outputs": [
    {
     "data": {
      "image/png": "[encoded data removed]",
      "text/plain": [
       "<Figure size 1000x500 with 1 Axes>"
      ]
     },
     "metadata": {},
     "output_type": "display_data"
    }
   ],
   "source": [
    "predicted_classes = (predictions > 0.5).astype(int)\n",
    "\n",
    "# Plotting\n",
    "plt.figure(figsize=(10, 5))\n",
    "\n",
    "# True labels\n",
    "plt.scatter(range(len(labels)), labels, color='red', label='True Labels', alpha=0.5)\n",
    "\n",
    "# Predicted labels\n",
    "plt.scatter(range(len(predicted_classes)), predicted_classes, marker='x', color='blue', label='Predicted Labels', alpha=0.5)\n",
    "\n",
    "plt.title('Comparison of True Labels and Predictions')\n",
    "plt.xlabel('Sample index')\n",
    "plt.ylabel('Category')\n",
    "plt.legend()\n",
    "plt.grid(True)\n",
    "plt.show()"
   ]
  },
  {
   "cell_type": "code",
   "execution_count": 10,
   "metadata": {},
   "outputs": [
    {
     "name": "stdout",
     "output_type": "stream",
     "text": [
      "\u001b[1m32/32\u001b[0m \u001b[32m━━━━━━━━━━━━━━━━━━━━\u001b[0m\u001b[37m\u001b[0m \u001b[1m0s\u001b[0m 3ms/step - loss: 0.7006\n",
      "Model loss on the dataset: 0.6992741227149963\n"
     ]
    }
   ],
   "source": [
    "loss = model.evaluate(inputs, labels)\n",
    "print(f\"Model loss on the dataset: {loss}\")"
   ]
  },
  {
   "cell_type": "code",
   "execution_count": 14,
   "metadata": {},
   "outputs": [
    {
     "name": "stdout",
     "output_type": "stream",
     "text": [
      "Weights of input_layer: []\n",
      "Weights of dense: [array([[-0.17987137],\n",
      "       [ 0.36988142],\n",
      "       [ 0.14594254],\n",
      "       [ 0.17922866],\n",
      "       [-0.5248106 ],\n",
      "       [-0.48947042],\n",
      "       [-0.1333509 ],\n",
      "       [ 0.32341063],\n",
      "       [-0.34967226],\n",
      "       [ 0.5186384 ]], dtype=float32), array([0.0964781], dtype=float32)]\n",
      "Weights of activation: []\n"
     ]
    }
   ],
   "source": [
    "for layer in model.layers:\n",
    "    weights = layer.get_weights()  # list of numpy arrays\n",
    "    print(f\"Weights of {layer.name}: {weights}\")"
   ]
  },
  {
   "cell_type": "code",
   "execution_count": null,
   "metadata": {},
   "outputs": [],
   "source": [
    "def make_quad_model(D):\n",
    "\n",
    "    input_layer = keras.layers.Input(D)\n",
    "\n",
    "    linear_layer = keras.layers.Dense(1)(input_layer)\n",
    "\n",
    "    quadratic_layer = keras.layers.Dense(D,use_bias=False)(input_layer)\n",
    "\n",
    "    multiply_layer = keras.layers.Multiply()([quadratic_layer,input_layer])\n",
    "\n",
    "    ones_layer = keras.layers.Dense(1,use_bias=False,trainable=False,kernel_initializer='ones')(multiply_layer)\n",
    "\n",
    "    add_layer = keras.layers.Add()([linear_layer,ones_layer])\n",
    "\n",
    "    output_layer = keras.layers.Activation('sigmoid')(add_layer)\n",
    "\n",
    "    model = keras.models.Model(input_layer,output_layer)\n",
    "\n",
    "    model.compile(loss='binary_crossentropy')\n",
    "\n",
    "    return model"
   ]
  }
 ],
 "metadata": {
  "kernelspec": {
   "display_name": "base",
   "language": "python",
   "name": "python3"
  },
  "language_info": {
   "codemirror_mode": {
    "name": "ipython",
    "version": 3
   },
   "file_extension": ".py",
   "mimetype": "text/x-python",
   "name": "python",
   "nbconvert_exporter": "python",
   "pygments_lexer": "ipython3",
   "version": "3.10.14"
  }
 },
 "nbformat": 4,
 "nbformat_minor": 2
}
