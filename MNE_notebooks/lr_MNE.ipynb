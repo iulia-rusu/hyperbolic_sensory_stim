{
 "cells": [
  {
   "cell_type": "code",
   "execution_count": 1,
   "metadata": {},
   "outputs": [],
   "source": [
    "import os\n",
    "import tensorflow as tf\n",
    "import numpy as np\n",
    "import keras\n",
    "from sklearn.model_selection import train_test_split\n",
    "from tensorflow.keras import layers\n",
    "from tensorflow.keras.optimizers import Adam\n",
    "from tensorflow.keras.callbacks import EarlyStopping, ModelCheckpoint\n",
    "from tensorflow.keras.layers import Input, Dense, Activation\n",
    "from tensorflow.keras.models import Model\n",
    "import matplotlib.pyplot as plt\n",
    "import pandas as pd\n",
    "import seaborn as sns\n",
    "import importlib\n",
    "import random \n",
    "\n",
    "#regularization related\n",
    "import keras_tuner as kt\n"
   ]
  },
  {
   "cell_type": "code",
   "execution_count": null,
   "metadata": {},
   "outputs": [],
   "source": [
    "def make_low_rank_model(D, optimizer, seed):\n",
    "\n",
    "\n",
    "    #hyperparameters for: \n",
    "    #J, h, and UVT and VUT (lu, lv)\n",
    "    j =\n",
    "    h =\n",
    "\n",
    "\n",
    "\n",
    "\n",
    "    input_layer = keras.layers.Input((D,))\n",
    "    linear_layer = keras.layers.Dense(1)(input_layer)\n",
    "    lu_layer = keras.layers.Dense()(input_layer)\n",
    "    lv_layer = keras.layers.Dense()(input_layer)\n",
    "    luv = keras.layers.Multiply()([lu_layer, lv_layer])\n",
    "    ones_layer = keras.layers.Add(1, use_bias = False, trainable = False, kernel_initializer = 'ones')(luv)\n",
    "    add_layer = keras.layers.Add()([linear_layer, ones_layer])\n",
    "    output_layer = keras.layers.Activation('sigmoid')(add_layer)\n",
    "    model = keras.models.Model(input_layer,output_layer)\n",
    "    model.compile(optimizer = optimizer, loss= 'binary_crossentropy', seed = 42)\n",
    "    return model\n",
    "\n"
   ]
  }
 ],
 "metadata": {
  "kernelspec": {
   "display_name": "mne",
   "language": "python",
   "name": "python3"
  },
  "language_info": {
   "codemirror_mode": {
    "name": "ipython",
    "version": 3
   },
   "file_extension": ".py",
   "mimetype": "text/x-python",
   "name": "python",
   "nbconvert_exporter": "python",
   "pygments_lexer": "ipython3",
   "version": "3.10.14"
  }
 },
 "nbformat": 4,
 "nbformat_minor": 2
}
