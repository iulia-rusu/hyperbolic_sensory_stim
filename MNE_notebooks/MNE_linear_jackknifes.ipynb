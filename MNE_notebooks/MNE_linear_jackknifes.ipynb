{
 "cells": [
  {
   "cell_type": "code",
   "execution_count": 3,
   "metadata": {},
   "outputs": [],
   "source": [
    "import os\n",
    "import tensorflow as tf\n",
    "import numpy as np\n",
    "import keras\n",
    "from sklearn.model_selection import train_test_split\n",
    "from tensorflow.keras import layers\n",
    "from tensorflow.keras.optimizers import Adam\n",
    "from tensorflow.keras.callbacks import EarlyStopping, ModelCheckpoint\n",
    "import matplotlib.pyplot as plt\n"
   ]
  },
  {
   "cell_type": "code",
   "execution_count": null,
   "metadata": {},
   "outputs": [],
   "source": [
    "directory = os.getcwd()\n",
    "filename = 'best_weights.h5'\n",
    "filepath = os.path.join(directory, filename)\n"
   ]
  },
  {
   "cell_type": "code",
   "execution_count": null,
   "metadata": {},
   "outputs": [],
   "source": [
    "def run_jackknife_models(S, Y, seed=1):\n",
    "    test_size = 0.25\n",
    "    patience = 3\n",
    "    epochs = 1000\n",
    "    adam_optimizer = Adam(learning_rate=0.001)\n",
    "    best_weights = []\n",
    "    print(best_weights)\n",
    "\n",
    "    S_train,S_valid,Y_train,Y_valid = train_test_split(S,Y,test_size=test_size,random_state=seed)\n",
    "#when to stop, monitor=\"val_loss\" is default. patience, how many epochs of non-positive to stop after. min delta, what difference qualifies as no improvement \n",
    "#Model.checkpoint is also an automatic keras function\n",
    "    callbacks = [EarlyStopping(patience=patience,min_delta=1e-5),\n",
    "                 ModelCheckpoint(filepath= filepath, verbose = 1, save_weights_only=True,save_best_only=True)]\n",
    "    \n",
    "    model = model.fit(S, Y, epochs=epochs, callbacks=callbacks, validation_data=(S_valid, Y_valid), verbose=2)\n",
    "    best_weights.append = model.get_weights()"
   ]
  },
  {
   "cell_type": "code",
   "execution_count": null,
   "metadata": {},
   "outputs": [],
   "source": [
    "def make_linear_model(D):\n",
    "\n",
    "    input_layer = keras.layers.Input((D,))\n",
    "\n",
    "    linear_layer = keras.layers.Dense(1)(input_layer)\n",
    "\n",
    "    output_layer = keras.layers.Activation('sigmoid')(linear_layer)\n",
    "\n",
    "    model = keras.models.Model(input_layer,output_layer)\n",
    "\n",
    "    model.compile(optimizer = adam_optimizer, loss='binary_crossentropy')\n",
    "\n",
    "    return model"
   ]
  },
  {
   "cell_type": "code",
   "execution_count": null,
   "metadata": {},
   "outputs": [],
   "source": [
    "#previous way i fit the model\n",
    "model.fit(inputs, labels, epochs=10, batch_size=32)"
   ]
  },
  {
   "cell_type": "code",
   "execution_count": null,
   "metadata": {},
   "outputs": [],
   "source": []
  },
  {
   "cell_type": "code",
   "execution_count": null,
   "metadata": {},
   "outputs": [],
   "source": []
  }
 ],
 "metadata": {
  "kernelspec": {
   "display_name": "mne",
   "language": "python",
   "name": "python3"
  },
  "language_info": {
   "codemirror_mode": {
    "name": "ipython",
    "version": 3
   },
   "file_extension": ".py",
   "mimetype": "text/x-python",
   "name": "python",
   "nbconvert_exporter": "python",
   "pygments_lexer": "ipython3",
   "version": "3.10.14"
  }
 },
 "nbformat": 4,
 "nbformat_minor": 2
}
