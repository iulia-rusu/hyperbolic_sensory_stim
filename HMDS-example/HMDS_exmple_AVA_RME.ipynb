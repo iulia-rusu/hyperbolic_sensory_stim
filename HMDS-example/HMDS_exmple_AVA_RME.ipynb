{
 "cells": [
  {
   "cell_type": "code",
   "execution_count": 1,
   "id": "dbb521f1",
   "metadata": {},
   "outputs": [],
   "source": [
    "'''\n",
    "Method developed by Anoop Praturu: https://www.biorxiv.org/content/10.1101/2022.10.12.511940v1\n",
    "Code from Anoop Praturu on Oct 2021\n",
    "Move from pystan to cmdstanpy based on suggestions by Milo Julis\n",
    "Edited by Mingchen Yao on May 26 2023\n",
    "'''\n",
    "\n",
    "import numpy as np\n",
    "import diptest  \n",
    "import matplotlib.pyplot as plt\n",
    "import cmdstanpy as stan\n",
    "import scipy.stats as stats\n",
    "import pickle\n",
    "import seaborn as sns\n",
    "%matplotlib inline\n",
    "\n",
    "import pandas as pd\n",
    "\n",
    "import plotly.express as px\n",
    "from matplotlib import rcParams\n",
    "import plotly.express as px\n",
    "import glob\n",
    "import os"
   ]
  },
  {
   "cell_type": "code",
   "execution_count": null,
   "id": "73e1d8b7",
   "metadata": {},
   "outputs": [],
   "source": [
    "# # if there is anything wrong with comstan: re-install it. Otherwise don't run this cell\n",
    "# from cmdstanpy import install_cmdstan\n",
    "# install_cmdstan(overwrite = True)"
   ]
  },
  {
   "cell_type": "code",
   "execution_count": null,
   "id": "e6c280a4",
   "metadata": {},
   "outputs": [],
   "source": [
    "!python --version"
   ]
  },
  {
   "cell_type": "markdown",
   "id": "93f95b0f",
   "metadata": {},
   "source": [
    "# Functions for Generating Synthetic Data"
   ]
  },
  {
   "cell_type": "code",
   "execution_count": 2,
   "id": "f16c0781",
   "metadata": {},
   "outputs": [],
   "source": [
    "#returns hyperbolic distance between vectors in poincare ball\n",
    "def poincare_dist(v1, v2):\n",
    "    sq = np.sum(np.square(v1-v2))\n",
    "    r1 = np.sum(np.square(v1))\n",
    "    r2 = np.sum(np.square(v2))\n",
    "    inv = 2.0*sq/((1.0-r1)*(1.0-r2))\n",
    "    return np.arccosh(1.0 + inv)\n",
    "\n",
    "#return NxN symmetric distance matrix from poincare coordinates\n",
    "def get_dmat(p_coords):\n",
    "    N = p_coords.shape[0]\n",
    "    dists = np.zeros((N, N))\n",
    "    \n",
    "    for i in np.arange(N):\n",
    "        for j in np.arange(i+1, N):\n",
    "            dists[i][j] = poincare_dist(p_coords[i], p_coords[j])\n",
    "            dists[j][i] = dists[i][j]\n",
    "    return dists"
   ]
  },
  {
   "cell_type": "code",
   "execution_count": null,
   "id": "f942b036",
   "metadata": {},
   "outputs": [],
   "source": [
    "#generate 100 data points uniformly distributed in 5 dimensional hyperbolic space of radius R=4\n",
    "dim=5; R=4.0;\n",
    "n=100\n",
    "dirs = stats.norm.rvs(size=(n, dim))\n",
    "dirs = (dirs.T/np.sqrt(np.sum(np.square(dirs), axis=1))).T\n",
    "U = stats.uniform.rvs(size=n)\n",
    "rs_p = np.tanh(np.log((1-np.exp(-R))/np.exp(-R)*(U) + 1.0)/2.0)\n",
    "p_coords = rs_p.reshape(-1,1)*dirs\n",
    "\n",
    "#add noise to the computed distance matrix to simulate a more realistic dataset\n",
    "mat_dim = get_dmat(p_coords) + 0.05*R*stats.norm.rvs(size=(n,n))\n",
    "for i in np.arange(n):\n",
    "    for j in np.arange(i+1, n):\n",
    "        mat_dim[j][i] = mat_dim[i][j]\n",
    "mat_dim = 2.0*mat_dim/np.max(mat_dim)"
   ]
  },
  {
   "cell_type": "markdown",
   "id": "abf7bb38",
   "metadata": {},
   "source": [
    "# Code for fitting Bayesian Model"
   ]
  },
  {
   "cell_type": "code",
   "execution_count": 3,
   "id": "0a7b4752",
   "metadata": {},
   "outputs": [],
   "source": [
    "path = '/Users/iuliarusu/Documents/Sharpee/HMDS-example/model/'\n",
    "ltz_m = stan.CmdStanModel(stan_file=path+'lorentz.stan')"
   ]
  },
  {
   "cell_type": "markdown",
   "id": "4ea2a559",
   "metadata": {},
   "source": [
    "## Run the optimizer given the synthetically generated Data set"
   ]
  },
  {
   "cell_type": "code",
   "execution_count": null,
   "id": "1ed19ac0",
   "metadata": {},
   "outputs": [],
   "source": [
    "directory = '/Users/iuliarusu/Documents/Sharpee/Clustering/clustered_bacterial_stim'"
   ]
  },
  {
   "cell_type": "markdown",
   "id": "c161eb8f",
   "metadata": {},
   "source": [
    "# Work in progress functions"
   ]
  },
  {
   "cell_type": "code",
   "execution_count": null,
   "id": "ce2cc925",
   "metadata": {},
   "outputs": [],
   "source": [
    "#import with glob\n",
    "def import_files (file):\n",
    "    directory = '/Users/iuliarusu/Documents/Sharpee/Clustering/clustered_bacterial_stim'\n",
    "    pattern = 'AVA_*.csv'\n",
    "    file_paths = glob.glob(os.path.join(directory, pattern))\n",
    "    list_of_DFs = []\n",
    "    for path in paths:\n",
    "        df = pd.read_csv(path)\n",
    "\n",
    "\n",
    "        \n",
    "        list_of_DFs.append(df)\n",
    "    return list_of_DFs\n",
    "    \n",
    "    for df in list_of_DFs:\n",
    "        if df \n",
    "        \n",
    "AVA_0 = np.array(AVA_0_df.iloc[:, 1: -2])#this has an extra column for each cell's original id\n",
    "AVA_1 = np.array(AVA_1_df.iloc[:, 1: -3]) \n",
    "\n",
    "\n",
    "    \n"
   ]
  },
  {
   "cell_type": "code",
   "execution_count": 4,
   "id": "0ecd94af",
   "metadata": {},
   "outputs": [],
   "source": [
    "#import AVA data from all cells\n",
    "AVA_0_df = pd.read_csv ('/Users/iuliarusu/Documents/Sharpee/Clustering/clustered_bacterial_stim/AVA_0_df.csv')\n",
    "AVA_1_df = pd.read_csv('/Users/iuliarusu/Documents/Sharpee/Clustering/clustered_bacterial_stim/AVA_1_df.csv') \n",
    "AVA_2_df = pd.read_csv('/Users/iuliarusu/Documents/Sharpee/Clustering/clustered_bacterial_stim/AVA_2_df.csv')\n",
    "AVA_3_df = pd.read_csv('/Users/iuliarusu/Documents/Sharpee/Clustering/clustered_bacterial_stim/AVA_3_df.csv') \n",
    "AVA_4_df = pd.read_csv('/Users/iuliarusu/Documents/Sharpee/Clustering/clustered_bacterial_stim/AVA_4_df.csv') \n",
    "AVA_5_df = pd.read_csv('/Users/iuliarusu/Documents/Sharpee/Clustering/clustered_bacterial_stim/AVA_5_df.csv') \n",
    "AVA_6_df = pd.read_csv('/Users/iuliarusu/Documents/Sharpee/Clustering/clustered_bacterial_stim/AVA_6_df.csv')"
   ]
  },
  {
   "cell_type": "code",
   "execution_count": 5,
   "id": "3b998505",
   "metadata": {},
   "outputs": [],
   "source": [
    "RME_0_df = pd.read_csv ('/Users/iuliarusu/Documents/Sharpee/Clustering/clustered_bacterial_stim/RME_0_df.csv')\n",
    "RME_1_df = pd.read_csv('/Users/iuliarusu/Documents/Sharpee/Clustering/clustered_bacterial_stim/RME_1_df.csv') \n",
    "RME_2_df = pd.read_csv('/Users/iuliarusu/Documents/Sharpee/Clustering/clustered_bacterial_stim/RME_2_df.csv')\n",
    "RME_3_df = pd.read_csv('/Users/iuliarusu/Documents/Sharpee/Clustering/clustered_bacterial_stim/RME_3_df.csv') \n",
    "RME_4_df = pd.read_csv('/Users/iuliarusu/Documents/Sharpee/Clustering/clustered_bacterial_stim/RME_4_df.csv') \n",
    "RME_5_df = pd.read_csv('/Users/iuliarusu/Documents/Sharpee/Clustering/clustered_bacterial_stim/RME_5_df.csv') \n",
    "RME_6_df = pd.read_csv('/Users/iuliarusu/Documents/Sharpee/Clustering/clustered_bacterial_stim/RME_6_df.csv')"
   ]
  },
  {
   "cell_type": "markdown",
   "id": "abb74d1d",
   "metadata": {},
   "source": [
    "# Seperate Processing By Stim Condition"
   ]
  },
  {
   "cell_type": "code",
   "execution_count": null,
   "id": "2e63efd7",
   "metadata": {},
   "outputs": [],
   "source": [
    "#process all AVA cells with from the same stim, stim groups: 0, 1, 6 OR 2, 3, 4, 5\n",
    "#stim 1\n",
    "AVA_0 = np.array(AVA_0_df.iloc[:, 1: -2])\n",
    "AVA_1 = np.array(AVA_1_df.iloc[:, 1: -3]) #this has an extra column for each cell's original id\n",
    "AVA_6 = np.array(AVA_6_df.iloc[:, 1: -3]) #this has an extra column for each cell's original id\n",
    "\n",
    "#concatenate by row\n",
    "AVA_stim_0 = np.concatenate((AVA_0, AVA_1,AVA_6 ), axis=0)"
   ]
  },
  {
   "cell_type": "code",
   "execution_count": null,
   "id": "81be1634",
   "metadata": {},
   "outputs": [],
   "source": [
    "#same for RME\n",
    "RME_0 = np.array(RME_0_df.iloc[:, 1: -2])\n",
    "RME_1 = np.array(RME_1_df.iloc[:, 1: -3]) #this has an extra column for each cell's original id\n",
    "RME_6 = np.array(RME_2_df.iloc[:, 1: -3]) #this has an extra column for each cell's original id\n",
    "\n",
    "RME_stim_0 = np.concatenate((RME_0, RME_1, RME_6 ), axis=0)"
   ]
  },
  {
   "cell_type": "code",
   "execution_count": null,
   "id": "03a928e5",
   "metadata": {},
   "outputs": [],
   "source": [
    "#concatenate AVA and RME\n",
    "all_stim_0 = np.concatenate((AVA_stim_0, RME_stim_0), axis=0)"
   ]
  },
  {
   "cell_type": "code",
   "execution_count": null,
   "id": "13add130",
   "metadata": {},
   "outputs": [],
   "source": [
    "all_stim_0.shape"
   ]
  },
  {
   "cell_type": "code",
   "execution_count": null,
   "id": "01dd76a9",
   "metadata": {},
   "outputs": [],
   "source": [
    "all_stim_0_df = pd.DataFrame(all_stim_0)"
   ]
  },
  {
   "cell_type": "markdown",
   "id": "1dd6893c",
   "metadata": {},
   "source": [
    "# All Stim Together"
   ]
  },
  {
   "cell_type": "code",
   "execution_count": 6,
   "id": "90c1b947",
   "metadata": {},
   "outputs": [],
   "source": [
    "AVA_0 = np.array(AVA_0_df.iloc[:, 1: -2])#this has an extra column for each cell's original id\n",
    "AVA_1 = np.array(AVA_1_df.iloc[:, 1: -3]) \n",
    "AVA_2 = np.array(AVA_2_df.iloc[:, 1: -3]) \n",
    "AVA_3 = np.array(AVA_3_df.iloc[:, 1: -3])\n",
    "AVA_4 = np.array(AVA_4_df.iloc[:, 1: -3])\n",
    "AVA_5 = np.array(AVA_5_df.iloc[:, 1: -3])\n",
    "AVA_6 = np.array(AVA_6_df.iloc[:, 1: -3])\n",
    "\n",
    "RME_0 = np.array(RME_0_df.iloc[:, 1: -2])#this has an extra column for each cell's original id\n",
    "RME_1 = np.array(RME_1_df.iloc[:, 1: -3]) \n",
    "RME_2 = np.array(RME_2_df.iloc[:, 1: -3]) \n",
    "RME_3 = np.array(RME_3_df.iloc[:, 1: -3])\n",
    "RME_4 = np.array(RME_4_df.iloc[:, 1: -3])\n",
    "RME_5 = np.array(RME_5_df.iloc[:, 1: -3])\n",
    "RME_6 = np.array(RME_6_df.iloc[:, 1: -3])\n"
   ]
  },
  {
   "cell_type": "code",
   "execution_count": 7,
   "id": "207ce87a",
   "metadata": {},
   "outputs": [],
   "source": [
    "#concatenate by row\n",
    "AVA_stim_all = np.concatenate((AVA_0, AVA_1, AVA_2, AVA_3, AVA_4, AVA_5, AVA_6 ), axis=0)\n",
    "RME_stim_all = np.concatenate((RME_0, RME_1, RME_2, RME_3, RME_4, RME_5, RME_6 ), axis=0)"
   ]
  },
  {
   "cell_type": "code",
   "execution_count": 8,
   "id": "a6f1a7de",
   "metadata": {},
   "outputs": [],
   "source": [
    "all_stim = np.concatenate((AVA_stim_all, RME_stim_all), axis=0)"
   ]
  },
  {
   "cell_type": "code",
   "execution_count": 9,
   "id": "a77e55b4",
   "metadata": {},
   "outputs": [],
   "source": [
    "all_stim_df = pd.DataFrame(all_stim)"
   ]
  },
  {
   "cell_type": "code",
   "execution_count": 10,
   "id": "963960d0",
   "metadata": {},
   "outputs": [],
   "source": [
    "corr_matrix = all_stim_df.T.corr()\n"
   ]
  },
  {
   "cell_type": "code",
   "execution_count": 11,
   "id": "028ea7c8",
   "metadata": {},
   "outputs": [],
   "source": [
    "distance_matrix = 1 - corr_matrix\n",
    "distance_matrix_squaredp = (1 - corr_matrix**2) * 2"
   ]
  },
  {
   "cell_type": "code",
   "execution_count": 12,
   "id": "775084ae",
   "metadata": {},
   "outputs": [
    {
     "data": {
      "text/plain": [
       "(82, 82)"
      ]
     },
     "execution_count": 12,
     "metadata": {},
     "output_type": "execute_result"
    }
   ],
   "source": [
    "distance_matrix_squaredp.shape"
   ]
  },
  {
   "cell_type": "code",
   "execution_count": 13,
   "id": "8db4cafc",
   "metadata": {},
   "outputs": [
    {
     "name": "stderr",
     "output_type": "stream",
     "text": [
      "09:21:12 - cmdstanpy - INFO - Chain [1] start processing\n",
      "09:21:55 - cmdstanpy - INFO - Chain [1] done processing\n"
     ]
    }
   ],
   "source": [
    "#dictionary to specify input to simulation\n",
    "\n",
    "# dat={'N':100, 'D':5, 'deltaij':mat_dim}\n",
    "dat = {'N': 82 , 'D': 3 , 'deltaij':distance_matrix_squaredp}\n",
    "#run optimizer\n",
    "model = ltz_m.optimize(data=dat, iter=250000, algorithm='LBFGS', tol_rel_grad=1e2)"
   ]
  },
  {
   "cell_type": "code",
   "execution_count": 14,
   "id": "a880a1ed",
   "metadata": {},
   "outputs": [
    {
     "name": "stderr",
     "output_type": "stream",
     "text": [
      "09:22:12 - cmdstanpy - WARNING - The default behavior of CmdStanMLE.stan_variable() will change in a future release to always return a numpy.ndarray, even for scalar variables.\n"
     ]
    }
   ],
   "source": [
    "# build result \n",
    "hyp_emb = {'euc':model.euc, 'sig':model.sig, 'lambda':model.stan_variable('lambda')}\n",
    "\n",
    "# # and save\n",
    "# fdname = './emb5d.pickle'\n",
    "# with open(fdname,'wb') as file:\n",
    "#     pickle.dump(hyp_emb, file,  protocol=pickle.HIGHEST_PROTOCOL)"
   ]
  },
  {
   "cell_type": "code",
   "execution_count": null,
   "id": "d4ef1297",
   "metadata": {},
   "outputs": [],
   "source": [
    "# # load existing results\n",
    "# fdname = './emb5d.pickle'\n",
    "# with open(fdname, 'rb') as file:\n",
    "#     hyp_emb = pickle.load(file)"
   ]
  },
  {
   "cell_type": "markdown",
   "id": "0f4a4cf9",
   "metadata": {},
   "source": [
    "## Some utility functions for post-processing the simulation output"
   ]
  },
  {
   "cell_type": "code",
   "execution_count": 15,
   "id": "1f033e62",
   "metadata": {},
   "outputs": [],
   "source": [
    "def d_lor(t1, t2, E1, E2):\n",
    "    return np.arccosh(t1*t2 - np.dot(E1, E2))\n",
    "\n",
    "#returns embedding distance matrix from optimization fit\n",
    "def get_embed_dmat(fit):\n",
    "    N = fit['euc'].shape[0]\n",
    "    fit_ts = np.sqrt(1.0 + np.sum(np.square(fit['euc']), axis=1))\n",
    "\n",
    "    fit_mat = np.zeros((N, N))\n",
    "\n",
    "    for i in np.arange(N):\n",
    "        for j in np.arange(i+1,N):\n",
    "            fit_mat[i][j] = d_lor(fit_ts[i], fit_ts[j], fit['euc'][i], fit['euc'][j])\n",
    "            fit_mat[j][i] = fit_mat[i][j]\n",
    "            \n",
    "    return fit_mat\n",
    "\n",
    "#return poincare coordinates\n",
    "def get_poin(fit):\n",
    "    ts = np.sqrt(1.0 + np.sum(np.square(fit['euc']), axis=1))\n",
    "    return (fit['euc'].T / (ts + 1)).T"
   ]
  },
  {
   "cell_type": "code",
   "execution_count": 16,
   "id": "dac6394d",
   "metadata": {},
   "outputs": [],
   "source": [
    "def process_sim(fit):\n",
    "    fit['emb_mat'] = get_embed_dmat(fit)/fit['lambda']\n",
    "    fit['pcoords'] = get_poin(fit)\n",
    "    fit['radii'] = 2.0*np.arctanh(np.sqrt(np.sum(np.square(fit['pcoords']), axis=1)))"
   ]
  },
  {
   "cell_type": "code",
   "execution_count": 17,
   "id": "d651f3ad",
   "metadata": {},
   "outputs": [],
   "source": [
    "#run this function after running the optimizer to process the output data into more usable forms\n",
    "process_sim(hyp_emb)"
   ]
  },
  {
   "cell_type": "code",
   "execution_count": 18,
   "id": "8d3b4c66",
   "metadata": {},
   "outputs": [
    {
     "data": {
      "text/plain": [
       "5.2554"
      ]
     },
     "execution_count": 18,
     "metadata": {},
     "output_type": "execute_result"
    }
   ],
   "source": [
    "#curvature (or radius)\n",
    "hyp_emb['lambda']"
   ]
  },
  {
   "cell_type": "code",
   "execution_count": 19,
   "id": "fa441edb",
   "metadata": {},
   "outputs": [
    {
     "data": {
      "text/plain": [
       "array([[-0.25741366,  0.62091017, -0.72604386],\n",
       "       [-0.22471513,  0.62259873, -0.73785363],\n",
       "       [-0.23846592,  0.63156574, -0.72649507],\n",
       "       [-0.28256258,  0.61843114, -0.72042935],\n",
       "       [-0.29486904,  0.61275406, -0.72243153],\n",
       "       [-0.22686963,  0.61085899, -0.74615211],\n",
       "       [ 0.37632967, -0.1516046 , -0.90100801],\n",
       "       [ 0.37692989, -0.14563213, -0.9028199 ],\n",
       "       [ 0.39169817, -0.15709154, -0.89365314],\n",
       "       [ 0.38176987, -0.17482787, -0.89535346],\n",
       "       [ 0.38001085, -0.1510755 , -0.89983165],\n",
       "       [ 0.37825524, -0.14451728, -0.90244365],\n",
       "       [ 0.39275278, -0.16538824, -0.89131793],\n",
       "       [ 0.38259869, -0.17635712, -0.89492982],\n",
       "       [ 0.75115936, -0.64768622,  0.05920345],\n",
       "       [ 0.74264173, -0.65739541,  0.05811084],\n",
       "       [ 0.75118144, -0.6448643 ,  0.08723293],\n",
       "       [-0.57051152,  0.62798947,  0.51522706],\n",
       "       [-0.55865286,  0.64121228,  0.51241374],\n",
       "       [-0.54528047,  0.63604361,  0.53289005],\n",
       "       [-0.29679893, -0.79370522,  0.51173831],\n",
       "       [-0.32401128, -0.79530225,  0.48979774],\n",
       "       [-0.2784189 , -0.78594641,  0.53256642],\n",
       "       [-0.32561519, -0.75583507,  0.55164223],\n",
       "       [-0.28116884, -0.78777085,  0.52917868],\n",
       "       [-0.30279536, -0.77735858,  0.53399711],\n",
       "       [-0.32460794, -0.75726294,  0.5496998 ],\n",
       "       [-0.32082215, -0.78710802,  0.50721041],\n",
       "       [-0.87172362, -0.3477349 , -0.3236147 ],\n",
       "       [ 0.78891743,  0.4833543 ,  0.35403452],\n",
       "       [ 0.78074684,  0.48987807,  0.36440422],\n",
       "       [ 0.78630751,  0.49593733,  0.34679703],\n",
       "       [ 0.78390665,  0.48797237,  0.3619112 ],\n",
       "       [ 0.78089429,  0.49696491,  0.35609386],\n",
       "       [ 0.77429526,  0.51060999,  0.35153752],\n",
       "       [ 0.78940714,  0.4815238 ,  0.35870033],\n",
       "       [-0.24934265,  0.63804363, -0.71625007],\n",
       "       [-0.24966207,  0.64318673, -0.71183899],\n",
       "       [-0.27785502,  0.64641293, -0.69912998],\n",
       "       [-0.26346689,  0.65659792, -0.69483323],\n",
       "       [-0.25956321,  0.63770935, -0.71259715],\n",
       "       [ 0.34624793, -0.16902665, -0.91109146],\n",
       "       [ 0.34639071, -0.20562544, -0.9044363 ],\n",
       "       [ 0.36174696, -0.17029487, -0.90452614],\n",
       "       [ 0.35129786, -0.19273819, -0.90342245],\n",
       "       [ 0.33347633, -0.19914958, -0.91090593],\n",
       "       [ 0.35604567, -0.17277058, -0.90701213],\n",
       "       [ 0.34039076, -0.1672156 , -0.91532916],\n",
       "       [ 0.3373694 , -0.21005581, -0.90657265],\n",
       "       [ 0.74512716, -0.65680172,  0.00958541],\n",
       "       [ 0.72730773, -0.67613396, -0.01539118],\n",
       "       [ 0.73681565, -0.66471621, -0.03567261],\n",
       "       [-0.5801899 ,  0.65748985,  0.46579512],\n",
       "       [-0.58513167,  0.64955735,  0.46971876],\n",
       "       [-0.58464316,  0.65687721,  0.46042772],\n",
       "       [-0.60232191,  0.65909196,  0.43370516],\n",
       "       [-0.60242525,  0.6643047 ,  0.42569373],\n",
       "       [-0.59650945,  0.65844086,  0.44255672],\n",
       "       [-0.63444507,  0.64352415,  0.4114392 ],\n",
       "       [-0.30471074, -0.74897935,  0.57316488],\n",
       "       [-0.29777745, -0.72403868,  0.60893028],\n",
       "       [-0.28507497, -0.73667614,  0.59933676],\n",
       "       [-0.25870131, -0.76774022,  0.57053134],\n",
       "       [-0.27561153, -0.7372738 ,  0.60237574],\n",
       "       [-0.3013329 , -0.75328767,  0.56778086],\n",
       "       [-0.30210286, -0.72935392,  0.60003322],\n",
       "       [-0.27004667, -0.75734284,  0.57914771],\n",
       "       [-0.85145645, -0.40320603, -0.30974536],\n",
       "       [-0.83262723, -0.4438098 , -0.29997576],\n",
       "       [-0.83746432, -0.42536484, -0.31869515],\n",
       "       [-0.84429262, -0.39161534, -0.34415073],\n",
       "       [-0.82387777, -0.44780487, -0.32102276],\n",
       "       [-0.84537187, -0.40401125, -0.32536868],\n",
       "       [-0.83357341, -0.42101125, -0.32956081],\n",
       "       [ 0.74265237,  0.48134161,  0.44484251],\n",
       "       [ 0.73867926,  0.48397322,  0.44976223],\n",
       "       [ 0.74474201,  0.47810261,  0.44434132],\n",
       "       [ 0.7762486 ,  0.46058729,  0.40874261],\n",
       "       [ 0.73888579,  0.52444996,  0.40014787],\n",
       "       [ 0.74024721,  0.48696209,  0.44418599],\n",
       "       [ 0.72741935,  0.49460155,  0.45847149],\n",
       "       [ 0.74942107,  0.50113432,  0.41277621]])"
      ]
     },
     "execution_count": 19,
     "metadata": {},
     "output_type": "execute_result"
    }
   ],
   "source": [
    "#poincare embedding coordinates\n",
    "hyp_emb['pcoords']"
   ]
  },
  {
   "cell_type": "code",
   "execution_count": 20,
   "id": "1cc7a555",
   "metadata": {},
   "outputs": [
    {
     "name": "stdout",
     "output_type": "stream",
     "text": [
      "Stored 'AVA_RME_pcoords_sphere' (ndarray)\n"
     ]
    }
   ],
   "source": [
    "AVA_RME_pcoords_sphere = hyp_emb['pcoords']\n",
    "%store AVA_RME_pcoords_sphere"
   ]
  },
  {
   "cell_type": "code",
   "execution_count": null,
   "id": "e968b98f",
   "metadata": {},
   "outputs": [],
   "source": [
    "AVA_RME_pcoords_15dim = hyp_emb['pcoords']\n",
    "%store AVA_RME_pcoords_15dim"
   ]
  },
  {
   "cell_type": "code",
   "execution_count": null,
   "id": "d2761a41",
   "metadata": {},
   "outputs": [],
   "source": [
    "%store"
   ]
  },
  {
   "cell_type": "code",
   "execution_count": null,
   "id": "e0b8162b",
   "metadata": {},
   "outputs": [],
   "source": [
    "#emebdding uncertainties\n",
    "hyp_emb.keys()"
   ]
  },
  {
   "cell_type": "markdown",
   "id": "ffa4a0f2",
   "metadata": {},
   "source": [
    "# Shepard Diagram"
   ]
  },
  {
   "cell_type": "code",
   "execution_count": null,
   "id": "b68aec1a",
   "metadata": {},
   "outputs": [],
   "source": [
    "rcParams['font.family'] = 'sans-serif'\n",
    "rcParams['font.sans-serif'] = 'Arial'"
   ]
  },
  {
   "cell_type": "code",
   "execution_count": null,
   "id": "c3ed0ead",
   "metadata": {},
   "outputs": [],
   "source": [
    "fig, ax = plt.subplots(1, 2, figsize=(15,7.5))\n",
    "\n",
    "ax[0].scatter(distance_matrix_squaredp.values[np.triu_indices(69, k=1)], hyp_emb['emb_mat'][np.triu_indices(69, k=1)], c='cornflowerblue') #cornflowerblue, lightcoral\n",
    "ax[0].plot(np.arange(3), np.arange(3), c='black', linewidth=5, alpha=0.5)\n",
    "\n",
    "ax[0].set_xlabel('Original Distances', fontsize=20)\n",
    "ax[0].set_ylabel('Embedding Distances / $\\lambda$', fontsize=20)\n",
    "\n",
    "ax[1].hist(hyp_emb['sig'], color ='cornflowerblue') #cornflowerblue, lightcoral\n",
    "ax[1].set_xlabel('Embedding Uncertainties', fontsize=20)"
   ]
  },
  {
   "cell_type": "code",
   "execution_count": null,
   "id": "7ea16b78",
   "metadata": {},
   "outputs": [],
   "source": [
    "hyperbolic_df= pd.DataFrame(hyp_emb['pcoords'], columns=['x', 'y', 'z'])\n",
    "\n"
   ]
  },
  {
   "cell_type": "code",
   "execution_count": null,
   "id": "5d354ac2",
   "metadata": {},
   "outputs": [],
   "source": [
    "%store AVA_RME_labels "
   ]
  },
  {
   "cell_type": "code",
   "execution_count": null,
   "id": "59d435bd",
   "metadata": {},
   "outputs": [],
   "source": [
    "column = ['AVA'] * (AVA_0.shape[0] + AVA_1.shape[0] + AVA_2.shape[0] + AVA_3.shape[0] + AVA_4.shape[0] + AVA_5.shape[0] + AVA_6.shape[0]) + ['RME'] * (RME_0.shape[0] + RME_1.shape[0] + RME_2.shape[0] + RME_3.shape[0] + RME_4.shape[0] + RME_5.shape[0] + RME_6.shape[0] )\n",
    "AVA_RME_labels = np.array(column)\n",
    "hyperbolic_df['cluster labels'] = AVA_RME_labels.T\n",
    "hyperbolic_df"
   ]
  },
  {
   "cell_type": "code",
   "execution_count": null,
   "id": "94acbaae",
   "metadata": {},
   "outputs": [],
   "source": [
    "#label by worm number\n",
    "column = ['worm 0'] * (AVA_0.shape[0]) + ['worm 1'] * (AVA_1.shape[0]) + ['worm 2'] * (AVA_2.shape[0]) + ['worm 3'] * (AVA_3.shape[0]) + ['worm 4'] * (AVA_4.shape[0]) + ['worm 5'] * (AVA_5.shape[0]) + ['worm 6'] * (AVA_6.shape[0]) + ['worm 0'] * (RME_0.shape[0]) + ['worm 1'] * (RME_1.shape[0]) + ['worm 2'] * (RME_2.shape[0]) + ['worm 3'] * (RME_3.shape[0]) + ['worm 4'] * (RME_4.shape[0]) + ['worm 5'] * (RME_5.shape[0]) + ['worm 6'] * (RME_6.shape[0] )\n",
    "AVA_RME_worm_labels = np.array(column)"
   ]
  },
  {
   "cell_type": "code",
   "execution_count": null,
   "id": "1d6c1b9f",
   "metadata": {},
   "outputs": [],
   "source": [
    "%store AVA_RME_worm_labels\n"
   ]
  },
  {
   "cell_type": "code",
   "execution_count": null,
   "id": "7d33a4d2",
   "metadata": {},
   "outputs": [],
   "source": []
  },
  {
   "cell_type": "code",
   "execution_count": null,
   "id": "ff8fef50",
   "metadata": {},
   "outputs": [],
   "source": [
    "column = ['stimulus 0'] * (AVA_0.shape[0] + AVA_1.shape[0]) + ['stimulus 1'] * (AVA_2.shape[0] + AVA_3.shape[0] + AVA_4.shape[0] + AVA_5.shape[0]) + ['stimulus 0'] * (AVA_6.shape[0]) + ['stimulus 0'] * (RME_0.shape[0] + RME_1.shape[0]) + ['stimulus 1'] * (RME_2.shape[0] + RME_3.shape[0] + RME_4.shape[0] + RME_5.shape[0]) +  ['stimulus 0'] * (RME_6.shape[0])\n",
    "stimulus_labels = np.array(column)\n",
    "hyperbolic_df['stimuli'] = stimulus_labels.T\n",
    "hyperbolic_df"
   ]
  },
  {
   "cell_type": "code",
   "execution_count": null,
   "id": "a4e72446",
   "metadata": {},
   "outputs": [],
   "source": [
    "ava_rme_stimuli = stimulus_labels\n",
    "%store ava_rme_stimuli"
   ]
  },
  {
   "cell_type": "code",
   "execution_count": null,
   "id": "09b7a13f",
   "metadata": {},
   "outputs": [],
   "source": [
    " \n",
    "\n",
    "# Create a scatter plot\n",
    "# fig = px.scatter_3d(data_frame = hyperbolic_df, x= 'x', y = 'y', z= 'z', title='AVA and RME: Stimulus 0', color = 'cluster labels') #cornflowerblue, lightcoral\n",
    "\n",
    "fig = px.scatter_3d(data_frame = hyperbolic_df, x= 'x', y = 'y', z= 'z', title='AVA and RME Neurons Seperated by Stimulus',  color ='stimuli') #cornflowerblue, lightcoral\n",
    "fig.update_layout(\n",
    "    scene=dict(\n",
    "        xaxis=dict(ticktext=[-1, -0.5, 0, 0.5, 1]),\n",
    "        yaxis=dict(ticktext=[-1, -0.5, 0, 0.5, 1]),\n",
    "        zaxis=dict(ticktext=[-1, -0.5, 0, 0.5, 1]),\n",
    "    )\n",
    ")\n",
    "\n",
    "fig.show()"
   ]
  },
  {
   "cell_type": "code",
   "execution_count": null,
   "id": "0fb17491",
   "metadata": {},
   "outputs": [],
   "source": [
    "# import plotly.express as px\n",
    "\n",
    "# Example DataFrame, assuming hyperbolic_df is already defined with appropriate data\n",
    "# Adding a column 'labels' to hyperbolic_df for the point labels if not already present\n",
    "# hyperbolic_df['labels'] = ...\n",
    "\n",
    "fig = px.scatter_3d(\n",
    "    data_frame=hyperbolic_df, \n",
    "    x='x', \n",
    "    y='y', \n",
    "    z='z', \n",
    "    color='stimuli', \n",
    "      # assuming 'labels' column contains the point labels\n",
    "    labels={'x': 'X', 'y': 'Y', 'z': 'Z'},\n",
    "    color_discrete_map={'stimulus 0': 'grey', 'stimulus 1': 'black'}\n",
    "    \n",
    "\n",
    ")\n",
    "\n",
    "fig.update_layout(\n",
    "    scene=dict(\n",
    "        xaxis=dict(\n",
    "            tickvals=[-1, -0.5, 0, 0.5, 1],\n",
    "            ticktext=['-1', '-0.5', '0', '0.5', '1'],\n",
    "            title=dict(text='X', font=dict(size=20)),\n",
    "            tickfont=dict(size=15),\n",
    "            showgrid=False\n",
    "        ),\n",
    "        yaxis=dict(\n",
    "            tickvals=[-1, -0.5, 0, 0.5, 1],\n",
    "            ticktext=['-1', '-0.5', '0', '0.5', '1'],\n",
    "            title=dict(text='Y', font=dict(size=20)),\n",
    "            tickfont=dict(size=15),\n",
    "            showgrid=False\n",
    "        ),\n",
    "        zaxis=dict(\n",
    "            tickvals=[-1, -0.5, 0, 0.5, 1],\n",
    "            ticktext=['-1', '-0.5', '0', '0.5', '1'],\n",
    "            title=dict(text='Z', font=dict(size=20)),\n",
    "            tickfont=dict(size=15),\n",
    "            showgrid=False\n",
    "        )\n",
    "    ),\n",
    "    legend=dict(\n",
    "        title=dict(text='Cluster Labels', font=dict(size=12)),\n",
    "        font=dict(size=10)\n",
    "    # ),\n",
    "    # title=dict(\n",
    "    #     text='SMDD and SMDV Neurons',\n",
    "    #     font=dict(size=15)\n",
    "    ),\n",
    "    margin=dict(l=20, r=20, b=90, t=40),\n",
    "    autosize= True,\n",
    "    width=700,\n",
    "    height=500\n",
    ")\n",
    "\n",
    "# Customize marker size and opacity for better visualization\n",
    "fig.update_traces(marker=dict(size=10, opacity=0.6))\n",
    "\n",
    "# Export the figure as a high-resolution image\n",
    "# fig.write_image(\"AVA_RME_try{i}.png\", scale=3)\n",
    "\n",
    "fig.show()\n",
    "fig.write_image(\"AVA_RME.svg\")\n"
   ]
  },
  {
   "cell_type": "markdown",
   "id": "c4f57d57",
   "metadata": {},
   "source": [
    "# Color by Stim"
   ]
  },
  {
   "cell_type": "code",
   "execution_count": null,
   "id": "29295c60",
   "metadata": {},
   "outputs": [],
   "source": []
  },
  {
   "cell_type": "markdown",
   "id": "b6080734",
   "metadata": {},
   "source": [
    "# Fitting For Dimension\n",
    "\n",
    "Suppose we did not know a-priori that the data was 5D? This is usually the case"
   ]
  },
  {
   "cell_type": "markdown",
   "id": "ea9e919b",
   "metadata": {},
   "source": [
    "## Fit the model across a range of dimensions"
   ]
  },
  {
   "cell_type": "code",
   "execution_count": null,
   "id": "0ffeb563",
   "metadata": {},
   "outputs": [],
   "source": [
    "all_fits = []\n",
    "for d in np.arange(2,15):\n",
    "    dat={'N':82, 'D':d, 'deltaij':distance_matrix_squaredp}\n",
    "    #run optimizer\n",
    "    model = ltz_m.optimize(data=dat, iter=250000, algorithm='LBFGS', tol_rel_grad=1e2)\n",
    "    all_fits.append({'euc':model.euc, 'sig':model.sig, 'lambda':model.stan_variable('lambda'), 't':model.time})\n",
    "\n",
    "\n"
   ]
  },
  {
   "cell_type": "code",
   "execution_count": null,
   "id": "c6ddd178",
   "metadata": {},
   "outputs": [],
   "source": [
    "model.stan_variable('lambda')"
   ]
  },
  {
   "cell_type": "code",
   "execution_count": null,
   "id": "09e53bbb",
   "metadata": {},
   "outputs": [],
   "source": [
    "#access the correct iteration \n",
    "iteration = all_fits[5]['t']\n",
    "\n",
    "\n",
    "iteration"
   ]
  },
  {
   "cell_type": "code",
   "execution_count": null,
   "id": "c69f3521",
   "metadata": {},
   "outputs": [],
   "source": [
    "model.time.shape"
   ]
  },
  {
   "cell_type": "code",
   "execution_count": null,
   "id": "cadc132e",
   "metadata": {},
   "outputs": [],
   "source": [
    "#calculate radii based on time parameter\n",
    "radii = np.arccosh(iteration)"
   ]
  },
  {
   "cell_type": "code",
   "execution_count": null,
   "id": "963b2e19",
   "metadata": {},
   "outputs": [],
   "source": [
    "radii"
   ]
  },
  {
   "cell_type": "code",
   "execution_count": null,
   "id": "f44e7938",
   "metadata": {},
   "outputs": [],
   "source": [
    "#Histogram of radii\n",
    "fig, ax = plt.subplots(figsize=(15,7.5))\n",
    "\n",
    "ax.hist(radii, color ='cornflowerblue') #cornflowerblue, lightcoral\n",
    "ax.set_xlabel('Hyperbolic Embedding Radii', fontsize=20)"
   ]
  },
  {
   "cell_type": "code",
   "execution_count": null,
   "id": "75c766bc",
   "metadata": {},
   "outputs": [],
   "source": [
    "#DIP analysis of radii\n",
    "dip, pval = diptest.diptest(radii)"
   ]
  },
  {
   "cell_type": "code",
   "execution_count": null,
   "id": "2ac64e08",
   "metadata": {},
   "outputs": [],
   "source": [
    "dip, pval"
   ]
  },
  {
   "cell_type": "code",
   "execution_count": null,
   "id": "31b674d5",
   "metadata": {},
   "outputs": [],
   "source": [
    "all_fits[0]['sig']"
   ]
  },
  {
   "cell_type": "code",
   "execution_count": null,
   "id": "2793645c",
   "metadata": {},
   "outputs": [],
   "source": [
    "#return negative log likelihood of fit\n",
    "def MDS_lkl(fit, dmat):\n",
    "    lkl = 0;\n",
    "    N = fit['sig'].shape[0]\n",
    "    \n",
    "    sigs = fit['sig']\n",
    "    lam = fit['lambda']\n",
    "    emb_mat = get_embed_dmat(fit)\n",
    "    \n",
    "    for i in np.arange(N):\n",
    "        for j in np.arange(i+1, N):\n",
    "            seff = sigs[i]**2 + sigs[j]**2\n",
    "            lkl += ((dmat[i][j] - emb_mat[i][j]/lam)**2 / (2.0*seff)) + 0.5*np.log(seff*2.0*np.pi)\n",
    "    return lkl\n",
    "\n",
    "#input: optimization fit and distance matrix\n",
    "def BIC(fit, dmat):\n",
    "    N,D = fit['euc'].shape\n",
    "    n = 0.5*N*(N-1)\n",
    "    k = N*D + N + 1.0 - 0.5*D*(D-1)\n",
    "    \n",
    "    return k*np.log(n) + 2.0*MDS_lkl(fit, dmat)"
   ]
  },
  {
   "cell_type": "markdown",
   "id": "e7ccab40",
   "metadata": {},
   "source": [
    "## Bayesian information criteria\n",
    "\n",
    "There is a lot of formal Bayesian Theory behind this (see chapter 2 here https://urldefense.proofpoint.com/v2/url?u=https-3A__www.inference.org.uk_mackay_thesis.pdf&d=DwIGAg&c=-35OiAkTchMrZOngvJPOeA&r=B8GeUuyHfxQP8MseZuhipQ&m=KVww4gh9-XOtp1LqNUc0K-PGXOX3bm2QsokPFlBG9Vs&s=UBtNEdIXatq_zFpG53nmPCLbCnlgIgWigHYhEnBRYyo&e= ), but essentially we are trying to find the minimal number of parameters to describe a dataset. If the data is 5D, we don't want to use 7 parameters to describe it. The BIC is like a cost function that rewards a model that has a better fit to the likelihood function, but penalizes models that increase the number of their parameters. The model which minimizes this function will thus have the ideal trade-off of being able to model the data well without introducing too many parameters and overfitting the data."
   ]
  },
  {
   "cell_type": "code",
   "execution_count": null,
   "id": "f3688551",
   "metadata": {},
   "outputs": [],
   "source": [
    "all_BIC = [BIC(fit, distance_matrix_squaredp) for fit in all_fits]"
   ]
  },
  {
   "cell_type": "code",
   "execution_count": null,
   "id": "b1160cc0",
   "metadata": {},
   "outputs": [],
   "source": [
    "all_BIC"
   ]
  },
  {
   "cell_type": "markdown",
   "id": "daae8d10",
   "metadata": {},
   "source": [
    "As you can see the BIC is minimized at the true dimension of 5. Any more parameters would have been redundant, any less would not have properly fit the data"
   ]
  },
  {
   "cell_type": "code",
   "execution_count": null,
   "id": "c3160255",
   "metadata": {},
   "outputs": [],
   "source": [
    "fig, ax = plt.subplots(figsize=(7.5,7.5))\n",
    "\n",
    "ax.scatter(np.arange(2,15), all_BIC, c = 'cornflowerblue') #cornflowerblue, lightcoral\n",
    "ax.set_xlabel('Dimension', fontsize=20)\n",
    "ax.set_ylabel('BIC', fontsize=20)"
   ]
  },
  {
   "cell_type": "markdown",
   "id": "ce171280",
   "metadata": {},
   "source": [
    "# Re-Running the optimizer\n",
    "Lets start by generating some 2D data"
   ]
  },
  {
   "cell_type": "code",
   "execution_count": null,
   "id": "6159dca9",
   "metadata": {},
   "outputs": [],
   "source": [
    "#generate 100 data points uniformly distributed in 5 dimensional hyperbolic space of radius R=4\n",
    "dim=2; R=4.0;\n",
    "n=100\n",
    "dirs = stats.norm.rvs(size=(n, dim))\n",
    "dirs = (dirs.T/np.sqrt(np.sum(np.square(dirs), axis=1))).T\n",
    "U = stats.uniform.rvs(size=n)\n",
    "rs_p = np.tanh(np.log((1-np.exp(-R))/np.exp(-R)*(U) + 1.0)/2.0)\n",
    "p_coords = rs_p.reshape(-1,1)*dirs\n",
    "\n",
    "#add noise to the computed distance matrix to simulate a more realistic dataset\n",
    "mat_2D = get_dmat(p_coords) + 0.05*R*stats.norm.rvs(size=(n,n))\n",
    "for i in np.arange(n):\n",
    "    for j in np.arange(i+1, n):\n",
    "        mat_2D[j][i] = mat_2D[i][j]\n",
    "mat_2D = 2.0*mat_2D/np.max(mat_2D)"
   ]
  },
  {
   "cell_type": "code",
   "execution_count": null,
   "id": "9f65f1d2",
   "metadata": {},
   "outputs": [],
   "source": [
    "#dictionary to specify input to simulation\n",
    "dat={'N':100, 'D':2, 'deltaij':mat_2D}\n",
    "#run optimizer\n",
    "model2D = ltz_m.optimize(data=dat, iter=250000, algorithm='LBFGS', tol_rel_grad=1e2)\n",
    "hyp_emb2D = {'euc':model2D.euc, 'sig':model2D.sig, 'lambda':model2D.stan_variable('lambda')}"
   ]
  },
  {
   "cell_type": "code",
   "execution_count": null,
   "id": "546b43c3",
   "metadata": {},
   "outputs": [],
   "source": [
    "process_sim(hyp_emb2D)"
   ]
  },
  {
   "cell_type": "markdown",
   "id": "77ed16b6",
   "metadata": {},
   "source": [
    "#### Most pts are well fit, but a few are poorly fit (the ones with high sigma) which adds a lot of scatter to the shepard diagram\n",
    "#### The optimizer got caught in a false minimum"
   ]
  },
  {
   "cell_type": "code",
   "execution_count": null,
   "id": "bb8c2124",
   "metadata": {},
   "outputs": [],
   "source": [
    "fig, ax = plt.subplots(1, 2, figsize=(15,7.5))\n",
    "\n",
    "ax[0].scatter(mat_2D[np.triu_indices(100, k=1)], hyp_emb2D['emb_mat'][np.triu_indices(100, k=1)])\n",
    "ax[0].plot(np.arange(3), np.arange(3), c='black', linewidth=5, alpha=0.5)\n",
    "\n",
    "ax[0].set_xlabel('Original Distances', fontsize=20)\n",
    "ax[0].set_ylabel('Embedding Distances / $\\lambda$', fontsize=20)\n",
    "\n",
    "ax[1].hist(hyp_emb2D['sig'])\n",
    "ax[1].set_xlabel('Embedding Uncertainties', fontsize=20)"
   ]
  },
  {
   "cell_type": "markdown",
   "id": "23edc498",
   "metadata": {},
   "source": [
    "### Strategy: randomize the positions of the poorly fit points, and then return the coordinates as the initial conditions to continue optimizing. This bumps the simulation out of the false minimium without destroying all of the work its already done"
   ]
  },
  {
   "cell_type": "code",
   "execution_count": null,
   "id": "e47006a6",
   "metadata": {},
   "outputs": [],
   "source": [
    "#figure out which pts have high uncertainty, and randomize their coordinates without touching the rest of the points\n",
    "N_refit = np.where(hyp_emb2D['sig'] > 0.3)[0].shape[0]\n",
    "hyp_emb2D['euc'][np.where(hyp_emb2D['sig'] > 0.3)] = stats.norm.rvs(size=(N_refit,2))"
   ]
  },
  {
   "cell_type": "code",
   "execution_count": null,
   "id": "44aa4765",
   "metadata": {},
   "outputs": [],
   "source": [
    "#re-reun the optimizer, but this time sepcify the initial condition by passing the previous simulation dictionary\n",
    "dat={'N':100, 'D':2, 'deltaij':mat_2D}\n",
    "model2D = ltz_m.optimize(data=dat, iter=250000, algorithm='LBFGS', tol_rel_grad=1e2,inits = hyp_emb2D)\n",
    "hyp_emb2D = {'euc':model2D.euc, 'sig':model2D.sig, 'lambda':model2D.stan_variable('lambda')}\n",
    "# tst_2D = ltz_m.optimizing(data=dat, iter=250000, tol_rel_grad=1e2, init=tst_2D)"
   ]
  },
  {
   "cell_type": "code",
   "execution_count": null,
   "id": "4dc911c9",
   "metadata": {},
   "outputs": [],
   "source": [
    "process_sim(hyp_emb2D)"
   ]
  },
  {
   "cell_type": "markdown",
   "id": "b28b534e",
   "metadata": {},
   "source": [
    "### We see that the fit is significantly better, although there are still a few poorly fit points. We could keep iterating the above process until all points are well fit."
   ]
  },
  {
   "cell_type": "code",
   "execution_count": null,
   "id": "9f3fa17a",
   "metadata": {},
   "outputs": [],
   "source": [
    "fig, ax = plt.subplots(1, 2, figsize=(15,7.5))\n",
    "\n",
    "ax[0].scatter(mat_2D[np.triu_indices(100, k=1)], hyp_emb2D['emb_mat'][np.triu_indices(100, k=1)])\n",
    "ax[0].plot(np.arange(3), np.arange(3), c='black', linewidth=5, alpha=0.5)\n",
    "\n",
    "ax[0].set_xlabel('Original Distances', fontsize=20)\n",
    "ax[0].set_ylabel('Embedding Distances / $\\lambda$', fontsize=20)\n",
    "\n",
    "ax[1].hist(hyp_emb2D['sig'])\n",
    "ax[1].set_xlabel('Embedding Uncertainties', fontsize=20)"
   ]
  }
 ],
 "metadata": {
  "kernelspec": {
   "display_name": "Python 3 (ipykernel)",
   "language": "python",
   "name": "python3"
  },
  "language_info": {
   "codemirror_mode": {
    "name": "ipython",
    "version": 3
   },
   "file_extension": ".py",
   "mimetype": "text/x-python",
   "name": "python",
   "nbconvert_exporter": "python",
   "pygments_lexer": "ipython3",
   "version": "3.10.14"
  }
 },
 "nbformat": 4,
 "nbformat_minor": 5
}
