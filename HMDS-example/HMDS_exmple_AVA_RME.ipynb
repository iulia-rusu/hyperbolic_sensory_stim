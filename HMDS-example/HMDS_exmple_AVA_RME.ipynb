{
 "cells": [
  {
   "cell_type": "code",
   "execution_count": 1,
   "id": "dbb521f1",
   "metadata": {},
   "outputs": [],
   "source": [
    "'''\n",
    "Method developed by Anoop Praturu: https://www.biorxiv.org/content/10.1101/2022.10.12.511940v1\n",
    "Code from Anoop Praturu on Oct 2021\n",
    "Move from pystan to cmdstanpy based on suggestions by Milo Julis\n",
    "Edited by Mingchen Yao on May 26 2023\n",
    "'''\n",
    "\n",
    "import numpy as np\n",
    "import diptest  \n",
    "import matplotlib.pyplot as plt\n",
    "import cmdstanpy as stan\n",
    "import scipy.stats as stats\n",
    "import pickle\n",
    "import seaborn as sns\n",
    "%matplotlib inline\n",
    "\n",
    "import pandas as pd\n",
    "\n",
    "import plotly.express as px\n",
    "from matplotlib import rcParams\n",
    "import plotly.express as px\n",
    "import glob\n",
    "import os"
   ]
  },
  {
   "cell_type": "code",
   "execution_count": null,
   "id": "73e1d8b7",
   "metadata": {},
   "outputs": [],
   "source": [
    "# # if there is anything wrong with comstan: re-install it. Otherwise don't run this cell\n",
    "# from cmdstanpy import install_cmdstan\n",
    "# install_cmdstan(overwrite = True)"
   ]
  },
  {
   "cell_type": "code",
   "execution_count": null,
   "id": "e6c280a4",
   "metadata": {},
   "outputs": [],
   "source": [
    "!python --version"
   ]
  },
  {
   "cell_type": "markdown",
   "id": "93f95b0f",
   "metadata": {},
   "source": [
    "# Functions for Generating Synthetic Data"
   ]
  },
  {
   "cell_type": "code",
   "execution_count": 2,
   "id": "f16c0781",
   "metadata": {},
   "outputs": [],
   "source": [
    "#returns hyperbolic distance between vectors in poincare ball\n",
    "def poincare_dist(v1, v2):\n",
    "    sq = np.sum(np.square(v1-v2))\n",
    "    r1 = np.sum(np.square(v1))\n",
    "    r2 = np.sum(np.square(v2))\n",
    "    inv = 2.0*sq/((1.0-r1)*(1.0-r2))\n",
    "    return np.arccosh(1.0 + inv)\n",
    "\n",
    "#return NxN symmetric distance matrix from poincare coordinates\n",
    "def get_dmat(p_coords):\n",
    "    N = p_coords.shape[0]\n",
    "    dists = np.zeros((N, N))\n",
    "    \n",
    "    for i in np.arange(N):\n",
    "        for j in np.arange(i+1, N):\n",
    "            dists[i][j] = poincare_dist(p_coords[i], p_coords[j])\n",
    "            dists[j][i] = dists[i][j]\n",
    "    return dists"
   ]
  },
  {
   "cell_type": "code",
   "execution_count": null,
   "id": "f942b036",
   "metadata": {},
   "outputs": [],
   "source": [
    "#generate 100 data points uniformly distributed in 5 dimensional hyperbolic space of radius R=4\n",
    "dim=5; R=4.0;\n",
    "n=100\n",
    "dirs = stats.norm.rvs(size=(n, dim))\n",
    "dirs = (dirs.T/np.sqrt(np.sum(np.square(dirs), axis=1))).T\n",
    "U = stats.uniform.rvs(size=n)\n",
    "rs_p = np.tanh(np.log((1-np.exp(-R))/np.exp(-R)*(U) + 1.0)/2.0)\n",
    "p_coords = rs_p.reshape(-1,1)*dirs\n",
    "\n",
    "#add noise to the computed distance matrix to simulate a more realistic dataset\n",
    "mat_dim = get_dmat(p_coords) + 0.05*R*stats.norm.rvs(size=(n,n))\n",
    "for i in np.arange(n):\n",
    "    for j in np.arange(i+1, n):\n",
    "        mat_dim[j][i] = mat_dim[i][j]\n",
    "mat_dim = 2.0*mat_dim/np.max(mat_dim)"
   ]
  },
  {
   "cell_type": "markdown",
   "id": "abf7bb38",
   "metadata": {},
   "source": [
    "# Code for fitting Bayesian Model"
   ]
  },
  {
   "cell_type": "code",
   "execution_count": 3,
   "id": "0a7b4752",
   "metadata": {},
   "outputs": [],
   "source": [
    "path = '/Users/iuliarusu/Documents/Sharpee/HMDS-example/model/'\n",
    "ltz_m = stan.CmdStanModel(stan_file=path+'lorentz.stan')"
   ]
  },
  {
   "cell_type": "markdown",
   "id": "4ea2a559",
   "metadata": {},
   "source": [
    "## Run the optimizer given the synthetically generated Data set"
   ]
  },
  {
   "cell_type": "markdown",
   "id": "c161eb8f",
   "metadata": {},
   "source": [
    "# Work in progress functions"
   ]
  },
  {
   "cell_type": "code",
   "execution_count": 5,
   "id": "0ecd94af",
   "metadata": {},
   "outputs": [],
   "source": [
    "#import AVA data from all cells\n",
    "AVA_0_df = pd.read_csv ('/Users/iuliarusu/Documents/Sharpee/Clustering/clustered_bacterial_stim/AVA_0_df.csv')\n",
    "AVA_1_df = pd.read_csv('/Users/iuliarusu/Documents/Sharpee/Clustering/clustered_bacterial_stim/AVA_1_df.csv') \n",
    "AVA_2_df = pd.read_csv('/Users/iuliarusu/Documents/Sharpee/Clustering/clustered_bacterial_stim/AVA_2_df.csv')\n",
    "AVA_3_df = pd.read_csv('/Users/iuliarusu/Documents/Sharpee/Clustering/clustered_bacterial_stim/AVA_3_df.csv') \n",
    "AVA_4_df = pd.read_csv('/Users/iuliarusu/Documents/Sharpee/Clustering/clustered_bacterial_stim/AVA_4_df.csv') \n",
    "AVA_5_df = pd.read_csv('/Users/iuliarusu/Documents/Sharpee/Clustering/clustered_bacterial_stim/AVA_5_df.csv') \n",
    "AVA_6_df = pd.read_csv('/Users/iuliarusu/Documents/Sharpee/Clustering/clustered_bacterial_stim/AVA_6_df.csv')"
   ]
  },
  {
   "cell_type": "code",
   "execution_count": 6,
   "id": "3b998505",
   "metadata": {},
   "outputs": [],
   "source": [
    "RME_0_df = pd.read_csv ('/Users/iuliarusu/Documents/Sharpee/Clustering/clustered_bacterial_stim/RME_0_df.csv')\n",
    "RME_1_df = pd.read_csv('/Users/iuliarusu/Documents/Sharpee/Clustering/clustered_bacterial_stim/RME_1_df.csv') \n",
    "RME_2_df = pd.read_csv('/Users/iuliarusu/Documents/Sharpee/Clustering/clustered_bacterial_stim/RME_2_df.csv')\n",
    "RME_3_df = pd.read_csv('/Users/iuliarusu/Documents/Sharpee/Clustering/clustered_bacterial_stim/RME_3_df.csv') \n",
    "RME_4_df = pd.read_csv('/Users/iuliarusu/Documents/Sharpee/Clustering/clustered_bacterial_stim/RME_4_df.csv') \n",
    "RME_5_df = pd.read_csv('/Users/iuliarusu/Documents/Sharpee/Clustering/clustered_bacterial_stim/RME_5_df.csv') \n",
    "RME_6_df = pd.read_csv('/Users/iuliarusu/Documents/Sharpee/Clustering/clustered_bacterial_stim/RME_6_df.csv')"
   ]
  },
  {
   "cell_type": "markdown",
   "id": "abb74d1d",
   "metadata": {},
   "source": [
    "# Seperate Processing By Stim Condition"
   ]
  },
  {
   "cell_type": "code",
   "execution_count": null,
   "id": "2e63efd7",
   "metadata": {},
   "outputs": [],
   "source": [
    "#process all AVA cells with from the same stim, stim groups: 0, 1, 6 OR 2, 3, 4, 5\n",
    "#stim 1\n",
    "AVA_0 = np.array(AVA_0_df.iloc[:, 1: -2])\n",
    "AVA_1 = np.array(AVA_1_df.iloc[:, 1: -3]) #this has an extra column for each cell's original id\n",
    "AVA_6 = np.array(AVA_6_df.iloc[:, 1: -3]) #this has an extra column for each cell's original id\n",
    "\n",
    "#concatenate by row\n",
    "AVA_stim_0 = np.concatenate((AVA_0, AVA_1,AVA_6 ), axis=0)"
   ]
  },
  {
   "cell_type": "code",
   "execution_count": null,
   "id": "81be1634",
   "metadata": {},
   "outputs": [],
   "source": [
    "#same for RME\n",
    "RME_0 = np.array(RME_0_df.iloc[:, 1: -2])\n",
    "RME_1 = np.array(RME_1_df.iloc[:, 1: -3]) #this has an extra column for each cell's original id\n",
    "RME_6 = np.array(RME_2_df.iloc[:, 1: -3]) #this has an extra column for each cell's original id\n",
    "\n",
    "RME_stim_0 = np.concatenate((RME_0, RME_1, RME_6 ), axis=0)"
   ]
  },
  {
   "cell_type": "code",
   "execution_count": 36,
   "id": "03a928e5",
   "metadata": {},
   "outputs": [
    {
     "ename": "NameError",
     "evalue": "name 'AVA_stim_1' is not defined",
     "output_type": "error",
     "traceback": [
      "\u001b[0;31m---------------------------------------------------------------------------\u001b[0m",
      "\u001b[0;31mNameError\u001b[0m                                 Traceback (most recent call last)",
      "Cell \u001b[0;32mIn[36], line 2\u001b[0m\n\u001b[1;32m      1\u001b[0m \u001b[38;5;66;03m#concatenate AVA and RME\u001b[39;00m\n\u001b[0;32m----> 2\u001b[0m all_stim_1 \u001b[38;5;241m=\u001b[39m np\u001b[38;5;241m.\u001b[39mconcatenate((\u001b[43mAVA_stim_1\u001b[49m, RME_stim_1), axis\u001b[38;5;241m=\u001b[39m\u001b[38;5;241m0\u001b[39m)\n",
      "\u001b[0;31mNameError\u001b[0m: name 'AVA_stim_1' is not defined"
     ]
    }
   ],
   "source": [
    "#concatenate AVA and RME\n",
    "all_stim_0 = np.concatenate((AVA_stim_0, RME_stim_0), axis=0)"
   ]
  },
  {
   "cell_type": "code",
   "execution_count": null,
   "id": "13add130",
   "metadata": {},
   "outputs": [],
   "source": [
    "all_stim_0.shape"
   ]
  },
  {
   "cell_type": "code",
   "execution_count": null,
   "id": "01dd76a9",
   "metadata": {},
   "outputs": [],
   "source": [
    "all_stim_0_df = pd.DataFrame(all_stim_0)"
   ]
  },
  {
   "cell_type": "markdown",
   "id": "1dd6893c",
   "metadata": {},
   "source": [
    "# All Stim Together"
   ]
  },
  {
   "cell_type": "code",
   "execution_count": 8,
   "id": "90c1b947",
   "metadata": {},
   "outputs": [],
   "source": [
    "AVA_0 = np.array(AVA_0_df.iloc[:, 1: -2])#this has an extra column for each cell's original id\n",
    "AVA_1 = np.array(AVA_1_df.iloc[:, 1: -3]) \n",
    "AVA_2 = np.array(AVA_2_df.iloc[:, 1: -3]) \n",
    "AVA_3 = np.array(AVA_3_df.iloc[:, 1: -3])\n",
    "AVA_4 = np.array(AVA_4_df.iloc[:, 1: -3])\n",
    "AVA_5 = np.array(AVA_5_df.iloc[:, 1: -3])\n",
    "AVA_6 = np.array(AVA_6_df.iloc[:, 1: -3])\n",
    "\n",
    "RME_0 = np.array(RME_0_df.iloc[:, 1: -2])#this has an extra column for each cell's original id\n",
    "RME_1 = np.array(RME_1_df.iloc[:, 1: -3]) \n",
    "RME_2 = np.array(RME_2_df.iloc[:, 1: -3]) \n",
    "RME_3 = np.array(RME_3_df.iloc[:, 1: -3])\n",
    "RME_4 = np.array(RME_4_df.iloc[:, 1: -3])\n",
    "RME_5 = np.array(RME_5_df.iloc[:, 1: -3])\n",
    "RME_6 = np.array(RME_6_df.iloc[:, 1: -3])\n"
   ]
  },
  {
   "cell_type": "code",
   "execution_count": 7,
   "id": "207ce87a",
   "metadata": {},
   "outputs": [],
   "source": [
    "#concatenate by row\n",
    "AVA_stim_all = np.concatenate((AVA_0, AVA_1, AVA_2, AVA_3, AVA_4, AVA_5, AVA_6 ), axis=0)\n",
    "RME_stim_all = np.concatenate((RME_0, RME_1, RME_2, RME_3, RME_4, RME_5, RME_6 ), axis=0)"
   ]
  },
  {
   "cell_type": "code",
   "execution_count": 8,
   "id": "a6f1a7de",
   "metadata": {},
   "outputs": [],
   "source": [
    "all_stim = np.concatenate((AVA_stim_all, RME_stim_all), axis=0)"
   ]
  },
  {
   "cell_type": "code",
   "execution_count": 9,
   "id": "a77e55b4",
   "metadata": {},
   "outputs": [],
   "source": [
    "all_stim_df = pd.DataFrame(all_stim)"
   ]
  },
  {
   "cell_type": "code",
   "execution_count": 29,
   "id": "7adbf48b",
   "metadata": {},
   "outputs": [
    {
     "data": {
      "text/plain": [
       "6"
      ]
     },
     "execution_count": 29,
     "metadata": {},
     "output_type": "execute_result"
    }
   ],
   "source": [
    "AVA_0.shape[0]"
   ]
  },
  {
   "cell_type": "code",
   "execution_count": 102,
   "id": "0bf22e22",
   "metadata": {},
   "outputs": [],
   "source": [
    "ava_rme_6_labels = ['AVA'] * (AVA_6.shape[0]) + ['RME'] * (RME_6.shape[0])"
   ]
  },
  {
   "cell_type": "code",
   "execution_count": 103,
   "id": "a75891c1",
   "metadata": {},
   "outputs": [
    {
     "name": "stdout",
     "output_type": "stream",
     "text": [
      "Stored 'ava_rme_6_labels' (list)\n"
     ]
    }
   ],
   "source": [
    "%store ava_rme_6_labels"
   ]
  },
  {
   "cell_type": "code",
   "execution_count": 104,
   "id": "e7d62488",
   "metadata": {},
   "outputs": [],
   "source": [
    "w6 = np.concatenate((AVA_6, RME_6), axis = 0)"
   ]
  },
  {
   "cell_type": "code",
   "execution_count": 105,
   "id": "94594b43",
   "metadata": {},
   "outputs": [],
   "source": [
    "w6_df = pd.DataFrame(w6)"
   ]
  },
  {
   "cell_type": "code",
   "execution_count": 106,
   "id": "963960d0",
   "metadata": {},
   "outputs": [],
   "source": [
    "corr_matrix = w6_df.T.corr()\n"
   ]
  },
  {
   "cell_type": "code",
   "execution_count": 107,
   "id": "028ea7c8",
   "metadata": {},
   "outputs": [],
   "source": [
    "distance_matrix = 1 - corr_matrix\n",
    "distance_matrix_squaredp = (1 - corr_matrix**2) * 2"
   ]
  },
  {
   "cell_type": "code",
   "execution_count": 108,
   "id": "775084ae",
   "metadata": {},
   "outputs": [
    {
     "data": {
      "text/plain": [
       "(15, 15)"
      ]
     },
     "execution_count": 108,
     "metadata": {},
     "output_type": "execute_result"
    }
   ],
   "source": [
    "distance_matrix_squaredp.shape"
   ]
  },
  {
   "cell_type": "code",
   "execution_count": 109,
   "id": "8db4cafc",
   "metadata": {},
   "outputs": [
    {
     "name": "stderr",
     "output_type": "stream",
     "text": [
      "23:56:41 - cmdstanpy - INFO - Chain [1] start processing\n",
      "23:56:41 - cmdstanpy - INFO - Chain [1] done processing\n"
     ]
    }
   ],
   "source": [
    "#dictionary to specify input to simulation\n",
    "\n",
    "# dat={'N':100, 'D':5, 'deltaij':mat_dim}\n",
    "dat = {'N': 15 , 'D': 3 , 'deltaij':distance_matrix_squaredp}\n",
    "#run optimizer\n",
    "model = ltz_m.optimize(data=dat, iter=250000, algorithm='LBFGS', tol_rel_grad=1e2)"
   ]
  },
  {
   "cell_type": "code",
   "execution_count": 110,
   "id": "a880a1ed",
   "metadata": {},
   "outputs": [
    {
     "name": "stderr",
     "output_type": "stream",
     "text": [
      "23:56:44 - cmdstanpy - WARNING - The default behavior of CmdStanMLE.stan_variable() will change in a future release to always return a numpy.ndarray, even for scalar variables.\n"
     ]
    }
   ],
   "source": [
    "# build result \n",
    "hyp_emb = {'euc':model.euc, 'sig':model.sig, 'lambda':model.stan_variable('lambda')}\n",
    "\n",
    "# # and save\n",
    "# fdname = './emb5d.pickle'\n",
    "# with open(fdname,'wb') as file:\n",
    "#     pickle.dump(hyp_emb, file,  protocol=pickle.HIGHEST_PROTOCOL)"
   ]
  },
  {
   "cell_type": "code",
   "execution_count": null,
   "id": "d4ef1297",
   "metadata": {},
   "outputs": [],
   "source": [
    "# # load existing results\n",
    "# fdname = './emb5d.pickle'\n",
    "# with open(fdname, 'rb') as file:\n",
    "#     hyp_emb = pickle.load(file)"
   ]
  },
  {
   "cell_type": "markdown",
   "id": "0f4a4cf9",
   "metadata": {},
   "source": [
    "## Some utility functions for post-processing the simulation output"
   ]
  },
  {
   "cell_type": "code",
   "execution_count": 23,
   "id": "1f033e62",
   "metadata": {},
   "outputs": [],
   "source": [
    "def d_lor(t1, t2, E1, E2):\n",
    "    return np.arccosh(t1*t2 - np.dot(E1, E2))\n",
    "\n",
    "#returns embedding distance matrix from optimization fit\n",
    "def get_embed_dmat(fit):\n",
    "    N = fit['euc'].shape[0]\n",
    "    fit_ts = np.sqrt(1.0 + np.sum(np.square(fit['euc']), axis=1))\n",
    "\n",
    "    fit_mat = np.zeros((N, N))\n",
    "\n",
    "    for i in np.arange(N):\n",
    "        for j in np.arange(i+1,N):\n",
    "            fit_mat[i][j] = d_lor(fit_ts[i], fit_ts[j], fit['euc'][i], fit['euc'][j])\n",
    "            fit_mat[j][i] = fit_mat[i][j]\n",
    "            \n",
    "    return fit_mat\n",
    "\n",
    "#return poincare coordinates\n",
    "def get_poin(fit):\n",
    "    ts = np.sqrt(1.0 + np.sum(np.square(fit['euc']), axis=1))\n",
    "    return (fit['euc'].T / (ts + 1)).T"
   ]
  },
  {
   "cell_type": "code",
   "execution_count": 24,
   "id": "dac6394d",
   "metadata": {},
   "outputs": [],
   "source": [
    "def process_sim(fit):\n",
    "    fit['emb_mat'] = get_embed_dmat(fit)/fit['lambda']\n",
    "    fit['pcoords'] = get_poin(fit)\n",
    "    fit['radii'] = 2.0*np.arctanh(np.sqrt(np.sum(np.square(fit['pcoords']), axis=1)))"
   ]
  },
  {
   "cell_type": "code",
   "execution_count": 111,
   "id": "d651f3ad",
   "metadata": {},
   "outputs": [],
   "source": [
    "#run this function after running the optimizer to process the output data into more usable forms\n",
    "process_sim(hyp_emb)"
   ]
  },
  {
   "cell_type": "code",
   "execution_count": 112,
   "id": "8d3b4c66",
   "metadata": {},
   "outputs": [
    {
     "data": {
      "text/plain": [
       "2.43292"
      ]
     },
     "execution_count": 112,
     "metadata": {},
     "output_type": "execute_result"
    }
   ],
   "source": [
    "#curvature (or radius)\n",
    "hyp_emb['lambda']"
   ]
  },
  {
   "cell_type": "code",
   "execution_count": 113,
   "id": "fa441edb",
   "metadata": {},
   "outputs": [
    {
     "data": {
      "text/plain": [
       "array([[-0.48707324,  0.01243367, -0.12093487],\n",
       "       [-0.4480953 , -0.01140273,  0.11968814],\n",
       "       [-0.58038404, -0.2034129 ,  0.06284974],\n",
       "       [-0.50915138,  0.02901454,  0.07556122],\n",
       "       [-0.42316106, -0.19288474, -0.00834144],\n",
       "       [-0.28601609, -0.37032952, -0.14907184],\n",
       "       [-0.5266082 ,  0.08274433, -0.09132097],\n",
       "       [ 0.45149584,  0.03681191,  0.25593163],\n",
       "       [ 0.47391591,  0.12538298,  0.32915956],\n",
       "       [ 0.45782569, -0.02737026,  0.21885622],\n",
       "       [-0.03918145, -0.17920656,  0.56183391],\n",
       "       [-0.12597773,  0.37220822,  0.49499241],\n",
       "       [ 0.45322041,  0.11307871,  0.18609436],\n",
       "       [ 0.53632682,  0.31218112,  0.06228072],\n",
       "       [ 0.0704814 ,  0.42392689,  0.28715458]])"
      ]
     },
     "execution_count": 113,
     "metadata": {},
     "output_type": "execute_result"
    }
   ],
   "source": [
    "#poincare embedding coordinates\n",
    "hyp_emb['pcoords']"
   ]
  },
  {
   "cell_type": "code",
   "execution_count": 114,
   "id": "92534dc9",
   "metadata": {},
   "outputs": [
    {
     "name": "stdout",
     "output_type": "stream",
     "text": [
      "Stored 'w6_ava_rme' (ndarray)\n"
     ]
    }
   ],
   "source": [
    "w6_ava_rme = hyp_emb['pcoords']\n",
    "%store w6_ava_rme"
   ]
  },
  {
   "cell_type": "code",
   "execution_count": 20,
   "id": "1cc7a555",
   "metadata": {},
   "outputs": [
    {
     "name": "stdout",
     "output_type": "stream",
     "text": [
      "Stored 'AVA_RME_pcoords_sphere' (ndarray)\n"
     ]
    }
   ],
   "source": [
    "AVA_RME_pcoords_sphere = hyp_emb['pcoords']\n",
    "%store AVA_RME_pcoords_sphere"
   ]
  },
  {
   "cell_type": "code",
   "execution_count": null,
   "id": "e968b98f",
   "metadata": {},
   "outputs": [],
   "source": [
    "AVA_RME_pcoords_15dim = hyp_emb['pcoords']\n",
    "%store AVA_RME_pcoords_15dim"
   ]
  },
  {
   "cell_type": "code",
   "execution_count": null,
   "id": "d2761a41",
   "metadata": {},
   "outputs": [],
   "source": [
    "%store"
   ]
  },
  {
   "cell_type": "code",
   "execution_count": null,
   "id": "e0b8162b",
   "metadata": {},
   "outputs": [],
   "source": [
    "#emebdding uncertainties\n",
    "hyp_emb.keys()"
   ]
  },
  {
   "cell_type": "markdown",
   "id": "ffa4a0f2",
   "metadata": {},
   "source": [
    "# Shepard Diagram"
   ]
  },
  {
   "cell_type": "code",
   "execution_count": null,
   "id": "b68aec1a",
   "metadata": {},
   "outputs": [],
   "source": [
    "rcParams['font.family'] = 'sans-serif'\n",
    "rcParams['font.sans-serif'] = 'Arial'"
   ]
  },
  {
   "cell_type": "code",
   "execution_count": null,
   "id": "c3ed0ead",
   "metadata": {},
   "outputs": [],
   "source": [
    "fig, ax = plt.subplots(1, 2, figsize=(15,7.5))\n",
    "\n",
    "ax[0].scatter(distance_matrix_squaredp.values[np.triu_indices(69, k=1)], hyp_emb['emb_mat'][np.triu_indices(69, k=1)], c='cornflowerblue') #cornflowerblue, lightcoral\n",
    "ax[0].plot(np.arange(3), np.arange(3), c='black', linewidth=5, alpha=0.5)\n",
    "\n",
    "ax[0].set_xlabel('Original Distances', fontsize=20)\n",
    "ax[0].set_ylabel('Embedding Distances / $\\lambda$', fontsize=20)\n",
    "\n",
    "ax[1].hist(hyp_emb['sig'], color ='cornflowerblue') #cornflowerblue, lightcoral\n",
    "ax[1].set_xlabel('Embedding Uncertainties', fontsize=20)"
   ]
  },
  {
   "cell_type": "code",
   "execution_count": null,
   "id": "7ea16b78",
   "metadata": {},
   "outputs": [],
   "source": [
    "hyperbolic_df= pd.DataFrame(hyp_emb['pcoords'], columns=['x', 'y', 'z'])\n",
    "\n"
   ]
  },
  {
   "cell_type": "code",
   "execution_count": null,
   "id": "5d354ac2",
   "metadata": {},
   "outputs": [],
   "source": [
    "%store AVA_RME_labels "
   ]
  },
  {
   "cell_type": "code",
   "execution_count": null,
   "id": "59d435bd",
   "metadata": {},
   "outputs": [],
   "source": [
    "column = ['AVA'] * (AVA_0.shape[0] + AVA_1.shape[0] + AVA_2.shape[0] + AVA_3.shape[0] + AVA_4.shape[0] + AVA_5.shape[0] + AVA_6.shape[0]) + ['RME'] * (RME_0.shape[0] + RME_1.shape[0] + RME_2.shape[0] + RME_3.shape[0] + RME_4.shape[0] + RME_5.shape[0] + RME_6.shape[0] )\n",
    "AVA_RME_labels = np.array(column)\n",
    "hyperbolic_df['cluster labels'] = AVA_RME_labels.T\n",
    "hyperbolic_df"
   ]
  },
  {
   "cell_type": "code",
   "execution_count": null,
   "id": "94acbaae",
   "metadata": {},
   "outputs": [],
   "source": [
    "#label by worm number\n",
    "column = ['worm 0'] * (AVA_0.shape[0]) + ['worm 1'] * (AVA_1.shape[0]) + ['worm 2'] * (AVA_2.shape[0]) + ['worm 3'] * (AVA_3.shape[0]) + ['worm 4'] * (AVA_4.shape[0]) + ['worm 5'] * (AVA_5.shape[0]) + ['worm 6'] * (AVA_6.shape[0]) + ['worm 0'] * (RME_0.shape[0]) + ['worm 1'] * (RME_1.shape[0]) + ['worm 2'] * (RME_2.shape[0]) + ['worm 3'] * (RME_3.shape[0]) + ['worm 4'] * (RME_4.shape[0]) + ['worm 5'] * (RME_5.shape[0]) + ['worm 6'] * (RME_6.shape[0] )\n",
    "AVA_RME_worm_labels = np.array(column)"
   ]
  },
  {
   "cell_type": "code",
   "execution_count": null,
   "id": "1d6c1b9f",
   "metadata": {},
   "outputs": [],
   "source": [
    "%store AVA_RME_worm_labels\n"
   ]
  },
  {
   "cell_type": "code",
   "execution_count": null,
   "id": "7d33a4d2",
   "metadata": {},
   "outputs": [],
   "source": []
  },
  {
   "cell_type": "code",
   "execution_count": null,
   "id": "ff8fef50",
   "metadata": {},
   "outputs": [],
   "source": [
    "column = ['stimulus 0'] * (AVA_0.shape[0] + AVA_1.shape[0]) + ['stimulus 1'] * (AVA_2.shape[0] + AVA_3.shape[0] + AVA_4.shape[0] + AVA_5.shape[0]) + ['stimulus 0'] * (AVA_6.shape[0]) + ['stimulus 0'] * (RME_0.shape[0] + RME_1.shape[0]) + ['stimulus 1'] * (RME_2.shape[0] + RME_3.shape[0] + RME_4.shape[0] + RME_5.shape[0]) +  ['stimulus 0'] * (RME_6.shape[0])\n",
    "stimulus_labels = np.array(column)\n",
    "hyperbolic_df['stimuli'] = stimulus_labels.T\n",
    "hyperbolic_df"
   ]
  },
  {
   "cell_type": "code",
   "execution_count": null,
   "id": "a4e72446",
   "metadata": {},
   "outputs": [],
   "source": [
    "ava_rme_stimuli = stimulus_labels\n",
    "%store ava_rme_stimuli"
   ]
  },
  {
   "cell_type": "code",
   "execution_count": null,
   "id": "09b7a13f",
   "metadata": {},
   "outputs": [],
   "source": [
    " \n",
    "\n",
    "# Create a scatter plot\n",
    "# fig = px.scatter_3d(data_frame = hyperbolic_df, x= 'x', y = 'y', z= 'z', title='AVA and RME: Stimulus 0', color = 'cluster labels') #cornflowerblue, lightcoral\n",
    "\n",
    "fig = px.scatter_3d(data_frame = hyperbolic_df, x= 'x', y = 'y', z= 'z', title='AVA and RME Neurons Seperated by Stimulus',  color ='stimuli') #cornflowerblue, lightcoral\n",
    "fig.update_layout(\n",
    "    scene=dict(\n",
    "        xaxis=dict(ticktext=[-1, -0.5, 0, 0.5, 1]),\n",
    "        yaxis=dict(ticktext=[-1, -0.5, 0, 0.5, 1]),\n",
    "        zaxis=dict(ticktext=[-1, -0.5, 0, 0.5, 1]),\n",
    "    )\n",
    ")\n",
    "\n",
    "fig.show()"
   ]
  },
  {
   "cell_type": "code",
   "execution_count": null,
   "id": "0fb17491",
   "metadata": {},
   "outputs": [],
   "source": [
    "# import plotly.express as px\n",
    "\n",
    "# Example DataFrame, assuming hyperbolic_df is already defined with appropriate data\n",
    "# Adding a column 'labels' to hyperbolic_df for the point labels if not already present\n",
    "# hyperbolic_df['labels'] = ...\n",
    "\n",
    "fig = px.scatter_3d(\n",
    "    data_frame=hyperbolic_df, \n",
    "    x='x', \n",
    "    y='y', \n",
    "    z='z', \n",
    "    color='stimuli', \n",
    "      # assuming 'labels' column contains the point labels\n",
    "    labels={'x': 'X', 'y': 'Y', 'z': 'Z'},\n",
    "    color_discrete_map={'stimulus 0': 'grey', 'stimulus 1': 'black'}\n",
    "    \n",
    "\n",
    ")\n",
    "\n",
    "fig.update_layout(\n",
    "    scene=dict(\n",
    "        xaxis=dict(\n",
    "            tickvals=[-1, -0.5, 0, 0.5, 1],\n",
    "            ticktext=['-1', '-0.5', '0', '0.5', '1'],\n",
    "            title=dict(text='X', font=dict(size=20)),\n",
    "            tickfont=dict(size=15),\n",
    "            showgrid=False\n",
    "        ),\n",
    "        yaxis=dict(\n",
    "            tickvals=[-1, -0.5, 0, 0.5, 1],\n",
    "            ticktext=['-1', '-0.5', '0', '0.5', '1'],\n",
    "            title=dict(text='Y', font=dict(size=20)),\n",
    "            tickfont=dict(size=15),\n",
    "            showgrid=False\n",
    "        ),\n",
    "        zaxis=dict(\n",
    "            tickvals=[-1, -0.5, 0, 0.5, 1],\n",
    "            ticktext=['-1', '-0.5', '0', '0.5', '1'],\n",
    "            title=dict(text='Z', font=dict(size=20)),\n",
    "            tickfont=dict(size=15),\n",
    "            showgrid=False\n",
    "        )\n",
    "    ),\n",
    "    legend=dict(\n",
    "        title=dict(text='Cluster Labels', font=dict(size=12)),\n",
    "        font=dict(size=10)\n",
    "    # ),\n",
    "    # title=dict(\n",
    "    #     text='SMDD and SMDV Neurons',\n",
    "    #     font=dict(size=15)\n",
    "    ),\n",
    "    margin=dict(l=20, r=20, b=90, t=40),\n",
    "    autosize= True,\n",
    "    width=700,\n",
    "    height=500\n",
    ")\n",
    "\n",
    "# Customize marker size and opacity for better visualization\n",
    "fig.update_traces(marker=dict(size=10, opacity=0.6))\n",
    "\n",
    "# Export the figure as a high-resolution image\n",
    "# fig.write_image(\"AVA_RME_try{i}.png\", scale=3)\n",
    "\n",
    "fig.show()\n",
    "fig.write_image(\"AVA_RME.svg\")\n"
   ]
  },
  {
   "cell_type": "markdown",
   "id": "c4f57d57",
   "metadata": {},
   "source": [
    "# Color by Stim"
   ]
  },
  {
   "cell_type": "code",
   "execution_count": null,
   "id": "29295c60",
   "metadata": {},
   "outputs": [],
   "source": []
  },
  {
   "cell_type": "markdown",
   "id": "b6080734",
   "metadata": {},
   "source": [
    "# Fitting For Dimension\n",
    "\n",
    "Suppose we did not know a-priori that the data was 5D? This is usually the case"
   ]
  },
  {
   "cell_type": "markdown",
   "id": "ea9e919b",
   "metadata": {},
   "source": [
    "## Fit the model across a range of dimensions"
   ]
  },
  {
   "cell_type": "code",
   "execution_count": null,
   "id": "0ffeb563",
   "metadata": {},
   "outputs": [],
   "source": [
    "all_fits = []\n",
    "for d in np.arange(2,15):\n",
    "    dat={'N':82, 'D':d, 'deltaij':distance_matrix_squaredp}\n",
    "    #run optimizer\n",
    "    model = ltz_m.optimize(data=dat, iter=250000, algorithm='LBFGS', tol_rel_grad=1e2)\n",
    "    all_fits.append({'euc':model.euc, 'sig':model.sig, 'lambda':model.stan_variable('lambda'), 't':model.time})\n",
    "\n",
    "\n"
   ]
  },
  {
   "cell_type": "code",
   "execution_count": null,
   "id": "c6ddd178",
   "metadata": {},
   "outputs": [],
   "source": [
    "model.stan_variable('lambda')"
   ]
  },
  {
   "cell_type": "code",
   "execution_count": null,
   "id": "09e53bbb",
   "metadata": {},
   "outputs": [],
   "source": [
    "#access the correct iteration \n",
    "iteration = all_fits[5]['t']\n",
    "\n",
    "\n",
    "iteration"
   ]
  },
  {
   "cell_type": "code",
   "execution_count": null,
   "id": "c69f3521",
   "metadata": {},
   "outputs": [],
   "source": [
    "model.time.shape"
   ]
  },
  {
   "cell_type": "code",
   "execution_count": null,
   "id": "cadc132e",
   "metadata": {},
   "outputs": [],
   "source": [
    "#calculate radii based on time parameter\n",
    "radii = np.arccosh(iteration)"
   ]
  },
  {
   "cell_type": "code",
   "execution_count": null,
   "id": "963b2e19",
   "metadata": {},
   "outputs": [],
   "source": [
    "radii"
   ]
  },
  {
   "cell_type": "code",
   "execution_count": null,
   "id": "f44e7938",
   "metadata": {},
   "outputs": [],
   "source": [
    "#Histogram of radii\n",
    "fig, ax = plt.subplots(figsize=(15,7.5))\n",
    "\n",
    "ax.hist(radii, color ='cornflowerblue') #cornflowerblue, lightcoral\n",
    "ax.set_xlabel('Hyperbolic Embedding Radii', fontsize=20)"
   ]
  },
  {
   "cell_type": "code",
   "execution_count": null,
   "id": "75c766bc",
   "metadata": {},
   "outputs": [],
   "source": [
    "#DIP analysis of radii\n",
    "dip, pval = diptest.diptest(radii)"
   ]
  },
  {
   "cell_type": "code",
   "execution_count": null,
   "id": "2ac64e08",
   "metadata": {},
   "outputs": [],
   "source": [
    "dip, pval"
   ]
  },
  {
   "cell_type": "code",
   "execution_count": null,
   "id": "31b674d5",
   "metadata": {},
   "outputs": [],
   "source": [
    "all_fits[0]['sig']"
   ]
  },
  {
   "cell_type": "code",
   "execution_count": null,
   "id": "2793645c",
   "metadata": {},
   "outputs": [],
   "source": [
    "#return negative log likelihood of fit\n",
    "def MDS_lkl(fit, dmat):\n",
    "    lkl = 0;\n",
    "    N = fit['sig'].shape[0]\n",
    "    \n",
    "    sigs = fit['sig']\n",
    "    lam = fit['lambda']\n",
    "    emb_mat = get_embed_dmat(fit)\n",
    "    \n",
    "    for i in np.arange(N):\n",
    "        for j in np.arange(i+1, N):\n",
    "            seff = sigs[i]**2 + sigs[j]**2\n",
    "            lkl += ((dmat[i][j] - emb_mat[i][j]/lam)**2 / (2.0*seff)) + 0.5*np.log(seff*2.0*np.pi)\n",
    "    return lkl\n",
    "\n",
    "#input: optimization fit and distance matrix\n",
    "def BIC(fit, dmat):\n",
    "    N,D = fit['euc'].shape\n",
    "    n = 0.5*N*(N-1)\n",
    "    k = N*D + N + 1.0 - 0.5*D*(D-1)\n",
    "    \n",
    "    return k*np.log(n) + 2.0*MDS_lkl(fit, dmat)"
   ]
  },
  {
   "cell_type": "markdown",
   "id": "e7ccab40",
   "metadata": {},
   "source": [
    "## Bayesian information criteria\n",
    "\n",
    "There is a lot of formal Bayesian Theory behind this (see chapter 2 here https://urldefense.proofpoint.com/v2/url?u=https-3A__www.inference.org.uk_mackay_thesis.pdf&d=DwIGAg&c=-35OiAkTchMrZOngvJPOeA&r=B8GeUuyHfxQP8MseZuhipQ&m=KVww4gh9-XOtp1LqNUc0K-PGXOX3bm2QsokPFlBG9Vs&s=UBtNEdIXatq_zFpG53nmPCLbCnlgIgWigHYhEnBRYyo&e= ), but essentially we are trying to find the minimal number of parameters to describe a dataset. If the data is 5D, we don't want to use 7 parameters to describe it. The BIC is like a cost function that rewards a model that has a better fit to the likelihood function, but penalizes models that increase the number of their parameters. The model which minimizes this function will thus have the ideal trade-off of being able to model the data well without introducing too many parameters and overfitting the data."
   ]
  },
  {
   "cell_type": "code",
   "execution_count": null,
   "id": "f3688551",
   "metadata": {},
   "outputs": [],
   "source": [
    "all_BIC = [BIC(fit, distance_matrix_squaredp) for fit in all_fits]"
   ]
  },
  {
   "cell_type": "code",
   "execution_count": null,
   "id": "b1160cc0",
   "metadata": {},
   "outputs": [],
   "source": [
    "all_BIC"
   ]
  },
  {
   "cell_type": "markdown",
   "id": "daae8d10",
   "metadata": {},
   "source": [
    "As you can see the BIC is minimized at the true dimension of 5. Any more parameters would have been redundant, any less would not have properly fit the data"
   ]
  },
  {
   "cell_type": "code",
   "execution_count": null,
   "id": "c3160255",
   "metadata": {},
   "outputs": [],
   "source": [
    "fig, ax = plt.subplots(figsize=(7.5,7.5))\n",
    "\n",
    "ax.scatter(np.arange(2,15), all_BIC, c = 'cornflowerblue') #cornflowerblue, lightcoral\n",
    "ax.set_xlabel('Dimension', fontsize=20)\n",
    "ax.set_ylabel('BIC', fontsize=20)"
   ]
  },
  {
   "cell_type": "markdown",
   "id": "ce171280",
   "metadata": {},
   "source": [
    "# Re-Running the optimizer\n",
    "Lets start by generating some 2D data"
   ]
  },
  {
   "cell_type": "code",
   "execution_count": null,
   "id": "6159dca9",
   "metadata": {},
   "outputs": [],
   "source": [
    "#generate 100 data points uniformly distributed in 5 dimensional hyperbolic space of radius R=4\n",
    "dim=2; R=4.0;\n",
    "n=100\n",
    "dirs = stats.norm.rvs(size=(n, dim))\n",
    "dirs = (dirs.T/np.sqrt(np.sum(np.square(dirs), axis=1))).T\n",
    "U = stats.uniform.rvs(size=n)\n",
    "rs_p = np.tanh(np.log((1-np.exp(-R))/np.exp(-R)*(U) + 1.0)/2.0)\n",
    "p_coords = rs_p.reshape(-1,1)*dirs\n",
    "\n",
    "#add noise to the computed distance matrix to simulate a more realistic dataset\n",
    "mat_2D = get_dmat(p_coords) + 0.05*R*stats.norm.rvs(size=(n,n))\n",
    "for i in np.arange(n):\n",
    "    for j in np.arange(i+1, n):\n",
    "        mat_2D[j][i] = mat_2D[i][j]\n",
    "mat_2D = 2.0*mat_2D/np.max(mat_2D)"
   ]
  },
  {
   "cell_type": "code",
   "execution_count": null,
   "id": "9f65f1d2",
   "metadata": {},
   "outputs": [],
   "source": [
    "#dictionary to specify input to simulation\n",
    "dat={'N':100, 'D':2, 'deltaij':mat_2D}\n",
    "#run optimizer\n",
    "model2D = ltz_m.optimize(data=dat, iter=250000, algorithm='LBFGS', tol_rel_grad=1e2)\n",
    "hyp_emb2D = {'euc':model2D.euc, 'sig':model2D.sig, 'lambda':model2D.stan_variable('lambda')}"
   ]
  },
  {
   "cell_type": "code",
   "execution_count": null,
   "id": "546b43c3",
   "metadata": {},
   "outputs": [],
   "source": [
    "process_sim(hyp_emb2D)"
   ]
  },
  {
   "cell_type": "markdown",
   "id": "77ed16b6",
   "metadata": {},
   "source": [
    "#### Most pts are well fit, but a few are poorly fit (the ones with high sigma) which adds a lot of scatter to the shepard diagram\n",
    "#### The optimizer got caught in a false minimum"
   ]
  },
  {
   "cell_type": "code",
   "execution_count": null,
   "id": "bb8c2124",
   "metadata": {},
   "outputs": [],
   "source": [
    "fig, ax = plt.subplots(1, 2, figsize=(15,7.5))\n",
    "\n",
    "ax[0].scatter(mat_2D[np.triu_indices(100, k=1)], hyp_emb2D['emb_mat'][np.triu_indices(100, k=1)])\n",
    "ax[0].plot(np.arange(3), np.arange(3), c='black', linewidth=5, alpha=0.5)\n",
    "\n",
    "ax[0].set_xlabel('Original Distances', fontsize=20)\n",
    "ax[0].set_ylabel('Embedding Distances / $\\lambda$', fontsize=20)\n",
    "\n",
    "ax[1].hist(hyp_emb2D['sig'])\n",
    "ax[1].set_xlabel('Embedding Uncertainties', fontsize=20)"
   ]
  },
  {
   "cell_type": "markdown",
   "id": "23edc498",
   "metadata": {},
   "source": [
    "### Strategy: randomize the positions of the poorly fit points, and then return the coordinates as the initial conditions to continue optimizing. This bumps the simulation out of the false minimium without destroying all of the work its already done"
   ]
  },
  {
   "cell_type": "code",
   "execution_count": null,
   "id": "e47006a6",
   "metadata": {},
   "outputs": [],
   "source": [
    "#figure out which pts have high uncertainty, and randomize their coordinates without touching the rest of the points\n",
    "N_refit = np.where(hyp_emb2D['sig'] > 0.3)[0].shape[0]\n",
    "hyp_emb2D['euc'][np.where(hyp_emb2D['sig'] > 0.3)] = stats.norm.rvs(size=(N_refit,2))"
   ]
  },
  {
   "cell_type": "code",
   "execution_count": null,
   "id": "44aa4765",
   "metadata": {},
   "outputs": [],
   "source": [
    "#re-reun the optimizer, but this time sepcify the initial condition by passing the previous simulation dictionary\n",
    "dat={'N':100, 'D':2, 'deltaij':mat_2D}\n",
    "model2D = ltz_m.optimize(data=dat, iter=250000, algorithm='LBFGS', tol_rel_grad=1e2,inits = hyp_emb2D)\n",
    "hyp_emb2D = {'euc':model2D.euc, 'sig':model2D.sig, 'lambda':model2D.stan_variable('lambda')}\n",
    "# tst_2D = ltz_m.optimizing(data=dat, iter=250000, tol_rel_grad=1e2, init=tst_2D)"
   ]
  },
  {
   "cell_type": "code",
   "execution_count": null,
   "id": "4dc911c9",
   "metadata": {},
   "outputs": [],
   "source": [
    "process_sim(hyp_emb2D)"
   ]
  },
  {
   "cell_type": "markdown",
   "id": "b28b534e",
   "metadata": {},
   "source": [
    "### We see that the fit is significantly better, although there are still a few poorly fit points. We could keep iterating the above process until all points are well fit."
   ]
  },
  {
   "cell_type": "code",
   "execution_count": null,
   "id": "9f3fa17a",
   "metadata": {},
   "outputs": [],
   "source": [
    "fig, ax = plt.subplots(1, 2, figsize=(15,7.5))\n",
    "\n",
    "ax[0].scatter(mat_2D[np.triu_indices(100, k=1)], hyp_emb2D['emb_mat'][np.triu_indices(100, k=1)])\n",
    "ax[0].plot(np.arange(3), np.arange(3), c='black', linewidth=5, alpha=0.5)\n",
    "\n",
    "ax[0].set_xlabel('Original Distances', fontsize=20)\n",
    "ax[0].set_ylabel('Embedding Distances / $\\lambda$', fontsize=20)\n",
    "\n",
    "ax[1].hist(hyp_emb2D['sig'])\n",
    "ax[1].set_xlabel('Embedding Uncertainties', fontsize=20)"
   ]
  }
 ],
 "metadata": {
  "kernelspec": {
   "display_name": "HMDS",
   "language": "python",
   "name": "python3"
  },
  "language_info": {
   "codemirror_mode": {
    "name": "ipython",
    "version": 3
   },
   "file_extension": ".py",
   "mimetype": "text/x-python",
   "name": "python",
   "nbconvert_exporter": "python",
   "pygments_lexer": "ipython3",
   "version": "3.10.14"
  }
 },
 "nbformat": 4,
 "nbformat_minor": 5
}
