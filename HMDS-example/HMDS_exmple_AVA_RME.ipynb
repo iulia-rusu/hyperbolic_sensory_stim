{
 "cells": [
  {
   "cell_type": "code",
   "execution_count": 54,
   "id": "dbb521f1",
   "metadata": {},
   "outputs": [],
   "source": [
    "'''\n",
    "Method developed by Anoop Praturu: https://www.biorxiv.org/content/10.1101/2022.10.12.511940v1\n",
    "Code from Anoop Praturu on Oct 2021\n",
    "Move from pystan to cmdstanpy based on suggestions by Milo Julis\n",
    "Edited by Mingchen Yao on May 26 2023\n",
    "'''\n",
    "\n",
    "import numpy as np\n",
    "import diptest  \n",
    "import matplotlib.pyplot as plt\n",
    "import cmdstanpy as stan\n",
    "import scipy.stats as stats\n",
    "import pickle\n",
    "import seaborn as sns\n",
    "%matplotlib inline\n",
    "\n",
    "import pandas as pd\n",
    "\n",
    "import plotly.express as px\n",
    "from matplotlib import rcParams\n",
    "import plotly.express as px"
   ]
  },
  {
   "cell_type": "code",
   "execution_count": null,
   "id": "73e1d8b7",
   "metadata": {},
   "outputs": [],
   "source": [
    "# # if there is anything wrong with comstan: re-install it. Otherwise don't run this cell\n",
    "# from cmdstanpy import install_cmdstan\n",
    "# install_cmdstan(overwrite = True)"
   ]
  },
  {
   "cell_type": "code",
   "execution_count": 2,
   "id": "e6c280a4",
   "metadata": {},
   "outputs": [
    {
     "name": "stdout",
     "output_type": "stream",
     "text": [
      "Python 3.10.14\n"
     ]
    }
   ],
   "source": [
    "!python --version"
   ]
  },
  {
   "cell_type": "markdown",
   "id": "93f95b0f",
   "metadata": {},
   "source": [
    "# Functions for Generating Synthetic Data"
   ]
  },
  {
   "cell_type": "code",
   "execution_count": 2,
   "id": "f16c0781",
   "metadata": {},
   "outputs": [],
   "source": [
    "#returns hyperbolic distance between vectors in poincare ball\n",
    "def poincare_dist(v1, v2):\n",
    "    sq = np.sum(np.square(v1-v2))\n",
    "    r1 = np.sum(np.square(v1))\n",
    "    r2 = np.sum(np.square(v2))\n",
    "    inv = 2.0*sq/((1.0-r1)*(1.0-r2))\n",
    "    return np.arccosh(1.0 + inv)\n",
    "\n",
    "#return NxN symmetric distance matrix from poincare coordinates\n",
    "def get_dmat(p_coords):\n",
    "    N = p_coords.shape[0]\n",
    "    dists = np.zeros((N, N))\n",
    "    \n",
    "    for i in np.arange(N):\n",
    "        for j in np.arange(i+1, N):\n",
    "            dists[i][j] = poincare_dist(p_coords[i], p_coords[j])\n",
    "            dists[j][i] = dists[i][j]\n",
    "    return dists"
   ]
  },
  {
   "cell_type": "code",
   "execution_count": 3,
   "id": "f942b036",
   "metadata": {},
   "outputs": [],
   "source": [
    "#generate 100 data points uniformly distributed in 5 dimensional hyperbolic space of radius R=4\n",
    "dim=5; R=4.0;\n",
    "n=100\n",
    "dirs = stats.norm.rvs(size=(n, dim))\n",
    "dirs = (dirs.T/np.sqrt(np.sum(np.square(dirs), axis=1))).T\n",
    "U = stats.uniform.rvs(size=n)\n",
    "rs_p = np.tanh(np.log((1-np.exp(-R))/np.exp(-R)*(U) + 1.0)/2.0)\n",
    "p_coords = rs_p.reshape(-1,1)*dirs\n",
    "\n",
    "#add noise to the computed distance matrix to simulate a more realistic dataset\n",
    "mat_dim = get_dmat(p_coords) + 0.05*R*stats.norm.rvs(size=(n,n))\n",
    "for i in np.arange(n):\n",
    "    for j in np.arange(i+1, n):\n",
    "        mat_dim[j][i] = mat_dim[i][j]\n",
    "mat_dim = 2.0*mat_dim/np.max(mat_dim)"
   ]
  },
  {
   "cell_type": "markdown",
   "id": "abf7bb38",
   "metadata": {},
   "source": [
    "# Code for fitting Bayesian Model"
   ]
  },
  {
   "cell_type": "code",
   "execution_count": 3,
   "id": "0a7b4752",
   "metadata": {},
   "outputs": [],
   "source": [
    "path = '/Users/iuliarusu/Documents/Sharpee/HMDS-example/model/'\n",
    "ltz_m = stan.CmdStanModel(stan_file=path+'lorentz.stan')"
   ]
  },
  {
   "cell_type": "markdown",
   "id": "4ea2a559",
   "metadata": {},
   "source": [
    "## Run the optimizer given the synthetically generated Data set"
   ]
  },
  {
   "cell_type": "code",
   "execution_count": 4,
   "id": "0ecd94af",
   "metadata": {},
   "outputs": [],
   "source": [
    "#import AVA data from all cells\n",
    "AVA_0_df = pd.read_csv ('/Users/iuliarusu/Documents/Sharpee/Clustering/clustered_bacterial_stim/AVA_0_df.csv')\n",
    "AVA_1_df = pd.read_csv('/Users/iuliarusu/Documents/Sharpee/Clustering/clustered_bacterial_stim/AVA_1_df.csv') \n",
    "AVA_2_df = pd.read_csv('/Users/iuliarusu/Documents/Sharpee/Clustering/clustered_bacterial_stim/AVA_2_df.csv')\n",
    "AVA_3_df = pd.read_csv('/Users/iuliarusu/Documents/Sharpee/Clustering/clustered_bacterial_stim/AVA_3_df.csv') \n",
    "AVA_4_df = pd.read_csv('/Users/iuliarusu/Documents/Sharpee/Clustering/clustered_bacterial_stim/AVA_4_df.csv') \n",
    "AVA_5_df = pd.read_csv('/Users/iuliarusu/Documents/Sharpee/Clustering/clustered_bacterial_stim/AVA_5_df.csv') \n",
    "AVA_6_df = pd.read_csv('/Users/iuliarusu/Documents/Sharpee/Clustering/clustered_bacterial_stim/AVA_6_df.csv')"
   ]
  },
  {
   "cell_type": "code",
   "execution_count": 5,
   "id": "3b998505",
   "metadata": {},
   "outputs": [],
   "source": [
    "RME_0_df = pd.read_csv ('/Users/iuliarusu/Documents/Sharpee/Clustering/clustered_bacterial_stim/RME_0_df.csv')\n",
    "RME_1_df = pd.read_csv('/Users/iuliarusu/Documents/Sharpee/Clustering/clustered_bacterial_stim/RME_1_df.csv') \n",
    "RME_2_df = pd.read_csv('/Users/iuliarusu/Documents/Sharpee/Clustering/clustered_bacterial_stim/RME_2_df.csv')\n",
    "RME_3_df = pd.read_csv('/Users/iuliarusu/Documents/Sharpee/Clustering/clustered_bacterial_stim/RME_3_df.csv') \n",
    "RME_4_df = pd.read_csv('/Users/iuliarusu/Documents/Sharpee/Clustering/clustered_bacterial_stim/RME_4_df.csv') \n",
    "RME_5_df = pd.read_csv('/Users/iuliarusu/Documents/Sharpee/Clustering/clustered_bacterial_stim/RME_5_df.csv') \n",
    "RME_6_df = pd.read_csv('/Users/iuliarusu/Documents/Sharpee/Clustering/clustered_bacterial_stim/RME_6_df.csv')"
   ]
  },
  {
   "cell_type": "code",
   "execution_count": 6,
   "id": "2e63efd7",
   "metadata": {},
   "outputs": [],
   "source": [
    "#process all AVA cells with from the same stim, stim groups: 0, 1, 6 OR 2, 3, 4, 5\n",
    "#stim 1\n",
    "AVA_0 = np.array(AVA_0_df.iloc[:, 1: -2])\n",
    "AVA_1 = np.array(AVA_1_df.iloc[:, 1: -3]) #this has an extra column for each cell's original id\n",
    "AVA_6 = np.array(AVA_6_df.iloc[:, 1: -3]) #this has an extra column for each cell's original id\n",
    "\n",
    "#concatenate by row\n",
    "AVA_stim_0 = np.concatenate((AVA_0, AVA_1,AVA_6 ), axis=0)"
   ]
  },
  {
   "cell_type": "code",
   "execution_count": 7,
   "id": "81be1634",
   "metadata": {},
   "outputs": [],
   "source": [
    "#same for RME\n",
    "RME_0 = np.array(RME_0_df.iloc[:, 1: -2])\n",
    "RME_1 = np.array(RME_1_df.iloc[:, 1: -3]) #this has an extra column for each cell's original id\n",
    "RME_6 = np.array(RME_2_df.iloc[:, 1: -3]) #this has an extra column for each cell's original id\n",
    "\n",
    "RME_stim_0 = np.concatenate((RME_0, RME_1, RME_6 ), axis=0)"
   ]
  },
  {
   "cell_type": "code",
   "execution_count": 14,
   "id": "03a928e5",
   "metadata": {},
   "outputs": [],
   "source": [
    "#concatenate AVA and RME\n",
    "all_stim_0 = np.concatenate((AVA_stim_0, RME_stim_0), axis=0)"
   ]
  },
  {
   "cell_type": "code",
   "execution_count": 15,
   "id": "13add130",
   "metadata": {},
   "outputs": [
    {
     "data": {
      "text/plain": [
       "(69, 1600)"
      ]
     },
     "execution_count": 15,
     "metadata": {},
     "output_type": "execute_result"
    }
   ],
   "source": [
    "all_stim_0.shape"
   ]
  },
  {
   "cell_type": "code",
   "execution_count": 16,
   "id": "01dd76a9",
   "metadata": {},
   "outputs": [],
   "source": [
    "all_stim_0_df = pd.DataFrame(all_stim_0)"
   ]
  },
  {
   "cell_type": "code",
   "execution_count": 17,
   "id": "963960d0",
   "metadata": {},
   "outputs": [],
   "source": [
    "corr_matrix = all_stim_0_df.T.corr()\n"
   ]
  },
  {
   "cell_type": "code",
   "execution_count": 18,
   "id": "028ea7c8",
   "metadata": {},
   "outputs": [],
   "source": [
    "distance_matrix = 1 - corr_matrix\n",
    "distance_matrix_squaredp = (1 - corr_matrix**2) * 2"
   ]
  },
  {
   "cell_type": "code",
   "execution_count": 19,
   "id": "775084ae",
   "metadata": {},
   "outputs": [
    {
     "data": {
      "text/plain": [
       "(69, 69)"
      ]
     },
     "execution_count": 19,
     "metadata": {},
     "output_type": "execute_result"
    }
   ],
   "source": [
    "distance_matrix_squaredp.shape"
   ]
  },
  {
   "cell_type": "code",
   "execution_count": 82,
   "id": "8db4cafc",
   "metadata": {},
   "outputs": [
    {
     "name": "stderr",
     "output_type": "stream",
     "text": [
      "23:03:13 - cmdstanpy - INFO - Chain [1] start processing\n",
      "23:03:15 - cmdstanpy - INFO - Chain [1] done processing\n"
     ]
    }
   ],
   "source": [
    "#dictionary to specify input to simulation\n",
    "\n",
    "# dat={'N':100, 'D':5, 'deltaij':mat_dim}\n",
    "dat = {'N': 69 , 'D': 6 , 'deltaij':distance_matrix_squaredp}\n",
    "#run optimizer\n",
    "model = ltz_m.optimize(data=dat, iter=250000, algorithm='LBFGS', tol_rel_grad=1e2)"
   ]
  },
  {
   "cell_type": "code",
   "execution_count": 83,
   "id": "a880a1ed",
   "metadata": {},
   "outputs": [
    {
     "name": "stderr",
     "output_type": "stream",
     "text": [
      "23:06:27 - cmdstanpy - WARNING - The default behavior of CmdStanMLE.stan_variable() will change in a future release to always return a numpy.ndarray, even for scalar variables.\n"
     ]
    }
   ],
   "source": [
    "# build result \n",
    "hyp_emb = {'euc':model.euc, 'sig':model.sig, 'lambda':model.stan_variable('lambda')}\n",
    "\n",
    "# # and save\n",
    "# fdname = './emb5d.pickle'\n",
    "# with open(fdname,'wb') as file:\n",
    "#     pickle.dump(hyp_emb, file,  protocol=pickle.HIGHEST_PROTOCOL)"
   ]
  },
  {
   "cell_type": "code",
   "execution_count": null,
   "id": "d4ef1297",
   "metadata": {},
   "outputs": [],
   "source": [
    "# # load existing results\n",
    "# fdname = './emb5d.pickle'\n",
    "# with open(fdname, 'rb') as file:\n",
    "#     hyp_emb = pickle.load(file)"
   ]
  },
  {
   "cell_type": "markdown",
   "id": "0f4a4cf9",
   "metadata": {},
   "source": [
    "## Some utility functions for post-processing the simulation output"
   ]
  },
  {
   "cell_type": "code",
   "execution_count": 84,
   "id": "1f033e62",
   "metadata": {},
   "outputs": [],
   "source": [
    "def d_lor(t1, t2, E1, E2):\n",
    "    return np.arccosh(t1*t2 - np.dot(E1, E2))\n",
    "\n",
    "#returns embedding distance matrix from optimization fit\n",
    "def get_embed_dmat(fit):\n",
    "    N = fit['euc'].shape[0]\n",
    "    fit_ts = np.sqrt(1.0 + np.sum(np.square(fit['euc']), axis=1))\n",
    "\n",
    "    fit_mat = np.zeros((N, N))\n",
    "\n",
    "    for i in np.arange(N):\n",
    "        for j in np.arange(i+1,N):\n",
    "            fit_mat[i][j] = d_lor(fit_ts[i], fit_ts[j], fit['euc'][i], fit['euc'][j])\n",
    "            fit_mat[j][i] = fit_mat[i][j]\n",
    "            \n",
    "    return fit_mat\n",
    "\n",
    "#return poincare coordinates\n",
    "def get_poin(fit):\n",
    "    ts = np.sqrt(1.0 + np.sum(np.square(fit['euc']), axis=1))\n",
    "    return (fit['euc'].T / (ts + 1)).T"
   ]
  },
  {
   "cell_type": "code",
   "execution_count": 85,
   "id": "dac6394d",
   "metadata": {},
   "outputs": [],
   "source": [
    "def process_sim(fit):\n",
    "    fit['emb_mat'] = get_embed_dmat(fit)/fit['lambda']\n",
    "    fit['pcoords'] = get_poin(fit)\n",
    "    fit['radii'] = 2.0*np.arctanh(np.sqrt(np.sum(np.square(fit['pcoords']), axis=1)))"
   ]
  },
  {
   "cell_type": "code",
   "execution_count": 86,
   "id": "d651f3ad",
   "metadata": {},
   "outputs": [],
   "source": [
    "#run this function after running the optimizer to process the output data into more usable forms\n",
    "process_sim(hyp_emb)"
   ]
  },
  {
   "cell_type": "code",
   "execution_count": 87,
   "id": "8d3b4c66",
   "metadata": {},
   "outputs": [
    {
     "data": {
      "text/plain": [
       "1.8217"
      ]
     },
     "execution_count": 87,
     "metadata": {},
     "output_type": "execute_result"
    }
   ],
   "source": [
    "#curvature (or radius)\n",
    "hyp_emb['lambda']"
   ]
  },
  {
   "cell_type": "code",
   "execution_count": 88,
   "id": "fa441edb",
   "metadata": {},
   "outputs": [
    {
     "data": {
      "text/plain": [
       "array([[-0.12281661, -0.05609896, -0.21207597, -0.62164178,  0.23772518,\n",
       "         0.03426964],\n",
       "       [-0.1307973 , -0.00403754, -0.28440175, -0.62495196,  0.1506003 ,\n",
       "         0.18481829],\n",
       "       [ 0.00188605,  0.06179862, -0.2367551 , -0.63971523, -0.15293156,\n",
       "         0.22165409],\n",
       "       [-0.16522923, -0.10656132, -0.12622772, -0.6481501 ,  0.17686479,\n",
       "         0.18152675],\n",
       "       [-0.19046809, -0.04760357, -0.04904588, -0.64150789,  0.25536716,\n",
       "        -0.06454454],\n",
       "       [-0.28768107, -0.05483922,  0.01715467, -0.63646387,  0.25895913,\n",
       "        -0.04634508],\n",
       "       [-0.06145059, -0.09223836, -0.50278048, -0.48125702,  0.0654333 ,\n",
       "         0.2624305 ],\n",
       "       [-0.06095593,  0.04643753, -0.27368693, -0.65165339,  0.12925336,\n",
       "         0.11090545],\n",
       "       [-0.04273475,  0.11287129, -0.11278785, -0.66941249, -0.18173138,\n",
       "         0.20425971],\n",
       "       [-0.2113433 , -0.15662499, -0.05490939, -0.66768516,  0.13994387,\n",
       "         0.16914869],\n",
       "       [ 0.4319681 ,  0.307496  ,  0.09616629,  0.2668452 ,  0.25087496,\n",
       "         0.14640804],\n",
       "       [ 0.45134554,  0.28891058,  0.07288541,  0.3144951 ,  0.24815911,\n",
       "         0.13747915],\n",
       "       [ 0.52926165,  0.26033354,  0.1424704 ,  0.25700804,  0.13723965,\n",
       "         0.15949658],\n",
       "       [ 0.50307597,  0.20007923,  0.24663362,  0.2578762 ,  0.16832751,\n",
       "         0.18678941],\n",
       "       [ 0.18068493,  0.34309585, -0.07958786,  0.34104327,  0.46623797,\n",
       "        -0.07277703],\n",
       "       [ 0.25526134,  0.42059477, -0.13378737,  0.25657852,  0.37566653,\n",
       "        -0.06315165],\n",
       "       [ 0.45318061,  0.30220287,  0.10039675,  0.28238259,  0.22246206,\n",
       "         0.14247903],\n",
       "       [ 0.45524644,  0.27520212,  0.07151188,  0.31716387,  0.25761874,\n",
       "         0.1468439 ],\n",
       "       [ 0.53991678,  0.22340619,  0.18272257,  0.2512183 ,  0.12499906,\n",
       "         0.16162485],\n",
       "       [ 0.22366945,  0.63360705, -0.08620753,  0.22392527, -0.02535024,\n",
       "         0.09943776],\n",
       "       [ 0.50525514,  0.18685792,  0.25480798,  0.26154124,  0.16440618,\n",
       "         0.19142949],\n",
       "       [ 0.04167736,  0.62054086,  0.08302504,  0.27411646,  0.2397175 ,\n",
       "        -0.00317838],\n",
       "       [ 0.37753754,  0.52372877,  0.19238519,  0.16260494, -0.17763371,\n",
       "         0.12081755],\n",
       "       [ 0.02525849,  0.41482772, -0.00072034,  0.40857889,  0.43018614,\n",
       "        -0.16289261],\n",
       "       [ 0.25726191,  0.19830986, -0.17417547,  0.43697783,  0.41431111,\n",
       "        -0.07776624],\n",
       "       [ 0.25833683,  0.43062125, -0.0963202 ,  0.21056934,  0.43159774,\n",
       "         0.04451143],\n",
       "       [ 0.43216848,  0.04520633, -0.28902149,  0.37984538,  0.21634202,\n",
       "         0.26216052],\n",
       "       [ 0.52136125,  0.24906659, -0.1542792 ,  0.34310471, -0.15699023,\n",
       "         0.12122925],\n",
       "       [ 0.53978006,  0.12508454,  0.18742099,  0.28029136,  0.01485455,\n",
       "         0.28985356],\n",
       "       [ 0.01324583, -0.09317322,  0.05327587,  0.06240608, -0.49919517,\n",
       "        -0.57984412],\n",
       "       [-0.03259248, -0.06695396, -0.01576006,  0.06388311, -0.52267786,\n",
       "        -0.57197672],\n",
       "       [-0.01618011, -0.08317351, -0.00521591,  0.03983231, -0.59227589,\n",
       "        -0.51193594],\n",
       "       [-0.02679594, -0.06550967,  0.12635127,  0.00902562, -0.63157628,\n",
       "        -0.44599544],\n",
       "       [-0.02153037, -0.0846275 ,  0.00168784,  0.09183002, -0.53859779,\n",
       "        -0.56168361],\n",
       "       [-0.05983204, -0.10191596,  0.04591645,  0.02053642, -0.55094058,\n",
       "        -0.54895664],\n",
       "       [-0.10045794, -0.18338983,  0.1787137 ,  0.01000509, -0.52078671,\n",
       "        -0.53215528],\n",
       "       [-0.06899705, -0.08742459,  0.12400713,  0.00078217, -0.59022876,\n",
       "        -0.49792093],\n",
       "       [-0.01292246, -0.12306246,  0.02685228,  0.07677703, -0.49215819,\n",
       "        -0.59888573],\n",
       "       [-0.18552516, -0.07401736,  0.0717408 , -0.05501156, -0.45035668,\n",
       "        -0.61313366],\n",
       "       [-0.09558405, -0.17531389, -0.15094244, -0.63128232,  0.22373915,\n",
       "         0.11677377],\n",
       "       [-0.06274103, -0.18839762, -0.18714723, -0.62216965,  0.2504785 ,\n",
       "         0.09833656],\n",
       "       [ 0.13306979, -0.4029566 , -0.21628089, -0.53024142,  0.07913581,\n",
       "         0.0865267 ],\n",
       "       [-0.21935436, -0.28048926, -0.25048925, -0.58658401,  0.14861084,\n",
       "        -0.13284222],\n",
       "       [-0.01119053, -0.31360506, -0.28217687, -0.57390106,  0.11861062,\n",
       "         0.01222002],\n",
       "       [-0.15093554, -0.05367157,  0.12497861, -0.57246842,  0.28159531,\n",
       "         0.31916984],\n",
       "       [-0.20931949, -0.20647855, -0.20859806, -0.56808945,  0.31910245,\n",
       "        -0.06408267],\n",
       "       [-0.06045848, -0.37116808, -0.24860146, -0.56798994,  0.11727842,\n",
       "        -0.01122323],\n",
       "       [-0.11980051, -0.3027101 , -0.18871347, -0.58132053,  0.26526942,\n",
       "        -0.02460333],\n",
       "       [-0.02957666, -0.42070804, -0.21121853, -0.55131737,  0.03595435,\n",
       "         0.10168514],\n",
       "       [-0.11623831, -0.15077938, -0.13304871, -0.61667353,  0.29497686,\n",
       "         0.06248694],\n",
       "       [ 0.18523857,  0.29893223,  0.42136904, -0.00297685,  0.4409161 ,\n",
       "         0.0224339 ],\n",
       "       [ 0.39659446,  0.23723557,  0.2902426 ,  0.26875498,  0.32984747,\n",
       "         0.03805041],\n",
       "       [ 0.2680207 ,  0.40659741,  0.28215138,  0.23541849,  0.30695222,\n",
       "         0.15104378],\n",
       "       [ 0.45579263,  0.19914996,  0.26147391,  0.2563247 ,  0.28212821,\n",
       "         0.1174357 ],\n",
       "       [ 0.06589701,  0.30719217,  0.55218361,  0.29500273,  0.28827064,\n",
       "        -0.04533594],\n",
       "       [ 0.32933423,  0.35560232,  0.23356571,  0.2633144 ,  0.30089509,\n",
       "         0.13616518],\n",
       "       [ 0.2817293 ,  0.360509  ,  0.37434966,  0.2493781 ,  0.30634645,\n",
       "         0.10752079],\n",
       "       [ 0.42839258,  0.20915905,  0.30264016,  0.24128291,  0.30836611,\n",
       "         0.11860077],\n",
       "       [ 0.38313576,  0.20844174,  0.33226691,  0.27397533,  0.36456545,\n",
       "         0.01743755],\n",
       "       [ 0.2837888 ,  0.37438617,  0.36155764,  0.25541431,  0.24816945,\n",
       "         0.18406779],\n",
       "       [ 0.19096194,  0.03306192,  0.50006117,  0.27233773,  0.43806923,\n",
       "         0.04697513],\n",
       "       [-0.64174303, -0.098959  , -0.06645756,  0.40899627, -0.07098483,\n",
       "         0.17677898],\n",
       "       [-0.62080502,  0.08408994, -0.1575048 ,  0.36961586, -0.18036356,\n",
       "         0.21609353],\n",
       "       [-0.44893539, -0.3795051 , -0.05721452,  0.48898342, -0.00953873,\n",
       "         0.1867653 ],\n",
       "       [-0.66269538, -0.04541441, -0.02547281,  0.42845208,  0.05567723,\n",
       "        -0.0576103 ],\n",
       "       [-0.55065033, -0.03836189,  0.06943098,  0.30937794, -0.33856475,\n",
       "         0.3434597 ],\n",
       "       [-0.61375822, -0.2543622 ,  0.14151077,  0.36775299,  0.01986718,\n",
       "         0.18476991],\n",
       "       [-0.51941799, -0.23971799,  0.00862114,  0.47559476, -0.04762868,\n",
       "         0.23994031],\n",
       "       [-0.38532428, -0.1780358 , -0.34458543,  0.4235312 , -0.23432407,\n",
       "         0.3051004 ]])"
      ]
     },
     "execution_count": 88,
     "metadata": {},
     "output_type": "execute_result"
    }
   ],
   "source": [
    "#poincare embedding coordinates\n",
    "hyp_emb['pcoords']"
   ]
  },
  {
   "cell_type": "code",
   "execution_count": 89,
   "id": "e968b98f",
   "metadata": {},
   "outputs": [
    {
     "name": "stdout",
     "output_type": "stream",
     "text": [
      "Stored 'AVA_RME_stim0_pcoords' (ndarray)\n"
     ]
    }
   ],
   "source": [
    "AVA_RME_stim0_pcoords = hyp_emb['pcoords']\n",
    "%store AVA_RME_stim0_pcoords"
   ]
  },
  {
   "cell_type": "code",
   "execution_count": 90,
   "id": "d2761a41",
   "metadata": {},
   "outputs": [
    {
     "name": "stdout",
     "output_type": "stream",
     "text": [
      "Stored variables and their in-db values:\n",
      "AVA_0_df                             ->            0         1         2         3        \n",
      "AVA_RME_stim0_pcoords                -> array([[-0.12281661, -0.05609896, -0.21207597, -0.\n",
      "AVA_RME_stim1_pcoords                -> array([[ 4.50658786e-01,  4.15805332e-02,  1.84402\n",
      "RME_0_df                             ->            0         1         2         3        \n",
      "SMDD_0_df                            ->           0         1         2         3        4\n",
      "SMVD_0_df                            ->            0        1         2         3    4    \n",
      "clust_labs_AVA_RME_stim1             -> ['RME', 'RME', 'RME', 'RME', 'RME', 'RME', 'RME', \n",
      "hyp_emb                              -> {'euc': array([[ 7.99811e-01,  3.53625e+00,  4.045\n",
      "pcoords_AVA_RME_stim1                -> array([[ 0.76242116,  0.48985351, -0.31050488],\n",
      "  \n",
      "sensory_cells                        -> array([[1.11844192e-01, 9.99277417e-01, 1.92603892\n",
      "sensory_pcoords                      -> array([[ 1.50144439e-01, -7.43878432e-01,  1.56969\n",
      "stim_1_AVA_RME                       ->             0         1         2         3       \n",
      "stim_1_AVA_RME_labels                ->     worm_id  stim_group  OriginalIndex\n",
      "0         4\n"
     ]
    }
   ],
   "source": [
    "%store"
   ]
  },
  {
   "cell_type": "code",
   "execution_count": 27,
   "id": "e0b8162b",
   "metadata": {},
   "outputs": [
    {
     "data": {
      "text/plain": [
       "dict_keys(['euc', 'sig', 'lambda', 'emb_mat', 'pcoords', 'radii'])"
      ]
     },
     "execution_count": 27,
     "metadata": {},
     "output_type": "execute_result"
    }
   ],
   "source": [
    "#emebdding uncertainties\n",
    "hyp_emb.keys()"
   ]
  },
  {
   "cell_type": "markdown",
   "id": "ffa4a0f2",
   "metadata": {},
   "source": [
    "# Shepard Diagram"
   ]
  },
  {
   "cell_type": "code",
   "execution_count": 28,
   "id": "b68aec1a",
   "metadata": {},
   "outputs": [],
   "source": [
    "rcParams['font.family'] = 'sans-serif'\n",
    "rcParams['font.sans-serif'] = 'Arial'"
   ]
  },
  {
   "cell_type": "code",
   "execution_count": 30,
   "id": "c3ed0ead",
   "metadata": {},
   "outputs": [
    {
     "data": {
      "text/plain": [
       "Text(0.5, 0, 'Embedding Uncertainties')"
      ]
     },
     "execution_count": 30,
     "metadata": {},
     "output_type": "execute_result"
    },
    {
     "data": {
      "image/png": "[encoded data removed]",
      "text/plain": [
       "<Figure size 1500x750 with 2 Axes>"
      ]
     },
     "metadata": {},
     "output_type": "display_data"
    }
   ],
   "source": [
    "fig, ax = plt.subplots(1, 2, figsize=(15,7.5))\n",
    "\n",
    "ax[0].scatter(distance_matrix_squaredp.values[np.triu_indices(69, k=1)], hyp_emb['emb_mat'][np.triu_indices(69, k=1)], c='cornflowerblue') #cornflowerblue, lightcoral\n",
    "ax[0].plot(np.arange(3), np.arange(3), c='black', linewidth=5, alpha=0.5)\n",
    "\n",
    "ax[0].set_xlabel('Original Distances', fontsize=20)\n",
    "ax[0].set_ylabel('Embedding Distances / $\\lambda$', fontsize=20)\n",
    "\n",
    "ax[1].hist(hyp_emb['sig'], color ='cornflowerblue') #cornflowerblue, lightcoral\n",
    "ax[1].set_xlabel('Embedding Uncertainties', fontsize=20)"
   ]
  },
  {
   "cell_type": "code",
   "execution_count": 31,
   "id": "7ea16b78",
   "metadata": {},
   "outputs": [],
   "source": [
    "hyperbolic_df= pd.DataFrame(hyp_emb['pcoords'], columns=['x', 'y', 'z'])\n",
    "\n"
   ]
  },
  {
   "cell_type": "code",
   "execution_count": 33,
   "id": "dbfab662",
   "metadata": {},
   "outputs": [
    {
     "data": {
      "text/plain": [
       "(10, 1600)"
      ]
     },
     "execution_count": 33,
     "metadata": {},
     "output_type": "execute_result"
    }
   ],
   "source": [
    "AVA_0.shape"
   ]
  },
  {
   "cell_type": "code",
   "execution_count": 37,
   "id": "9fb33513",
   "metadata": {},
   "outputs": [
    {
     "data": {
      "text/plain": [
       "1600"
      ]
     },
     "execution_count": 37,
     "metadata": {},
     "output_type": "execute_result"
    }
   ],
   "source": [
    "len(AVA_0[0])"
   ]
  },
  {
   "cell_type": "code",
   "execution_count": 41,
   "id": "6d59a01b",
   "metadata": {},
   "outputs": [
    {
     "data": {
      "text/plain": [
       "10"
      ]
     },
     "execution_count": 41,
     "metadata": {},
     "output_type": "execute_result"
    }
   ],
   "source": [
    "RME_0.shape[0]"
   ]
  },
  {
   "cell_type": "code",
   "execution_count": 92,
   "id": "5d354ac2",
   "metadata": {},
   "outputs": [
    {
     "name": "stdout",
     "output_type": "stream",
     "text": [
      "Stored 'AVA_RME_stim0_labels' (ndarray)\n"
     ]
    }
   ],
   "source": [
    "%store AVA_RME_stim0_labels "
   ]
  },
  {
   "cell_type": "code",
   "execution_count": 91,
   "id": "59d435bd",
   "metadata": {},
   "outputs": [
    {
     "data": {
      "text/html": [
       "<div>\n",
       "<style scoped>\n",
       "    .dataframe tbody tr th:only-of-type {\n",
       "        vertical-align: middle;\n",
       "    }\n",
       "\n",
       "    .dataframe tbody tr th {\n",
       "        vertical-align: top;\n",
       "    }\n",
       "\n",
       "    .dataframe thead th {\n",
       "        text-align: right;\n",
       "    }\n",
       "</style>\n",
       "<table border=\"1\" class=\"dataframe\">\n",
       "  <thead>\n",
       "    <tr style=\"text-align: right;\">\n",
       "      <th></th>\n",
       "      <th>x</th>\n",
       "      <th>y</th>\n",
       "      <th>z</th>\n",
       "      <th>cluster labels</th>\n",
       "    </tr>\n",
       "  </thead>\n",
       "  <tbody>\n",
       "    <tr>\n",
       "      <th>0</th>\n",
       "      <td>0.646485</td>\n",
       "      <td>0.642153</td>\n",
       "      <td>-0.234737</td>\n",
       "      <td>AVA</td>\n",
       "    </tr>\n",
       "    <tr>\n",
       "      <th>1</th>\n",
       "      <td>0.537058</td>\n",
       "      <td>0.733450</td>\n",
       "      <td>-0.287925</td>\n",
       "      <td>AVA</td>\n",
       "    </tr>\n",
       "    <tr>\n",
       "      <th>2</th>\n",
       "      <td>0.373974</td>\n",
       "      <td>0.778569</td>\n",
       "      <td>-0.395048</td>\n",
       "      <td>AVA</td>\n",
       "    </tr>\n",
       "    <tr>\n",
       "      <th>3</th>\n",
       "      <td>0.600134</td>\n",
       "      <td>0.686878</td>\n",
       "      <td>-0.272593</td>\n",
       "      <td>AVA</td>\n",
       "    </tr>\n",
       "    <tr>\n",
       "      <th>4</th>\n",
       "      <td>0.702718</td>\n",
       "      <td>0.586404</td>\n",
       "      <td>-0.238313</td>\n",
       "      <td>AVA</td>\n",
       "    </tr>\n",
       "    <tr>\n",
       "      <th>...</th>\n",
       "      <td>...</td>\n",
       "      <td>...</td>\n",
       "      <td>...</td>\n",
       "      <td>...</td>\n",
       "    </tr>\n",
       "    <tr>\n",
       "      <th>64</th>\n",
       "      <td>-0.796450</td>\n",
       "      <td>0.477411</td>\n",
       "      <td>0.268523</td>\n",
       "      <td>RME</td>\n",
       "    </tr>\n",
       "    <tr>\n",
       "      <th>65</th>\n",
       "      <td>-0.878170</td>\n",
       "      <td>0.177538</td>\n",
       "      <td>0.368501</td>\n",
       "      <td>RME</td>\n",
       "    </tr>\n",
       "    <tr>\n",
       "      <th>66</th>\n",
       "      <td>-0.869044</td>\n",
       "      <td>0.414194</td>\n",
       "      <td>0.101468</td>\n",
       "      <td>RME</td>\n",
       "    </tr>\n",
       "    <tr>\n",
       "      <th>67</th>\n",
       "      <td>-0.899516</td>\n",
       "      <td>0.330684</td>\n",
       "      <td>0.102869</td>\n",
       "      <td>RME</td>\n",
       "    </tr>\n",
       "    <tr>\n",
       "      <th>68</th>\n",
       "      <td>-0.948259</td>\n",
       "      <td>0.101573</td>\n",
       "      <td>0.165189</td>\n",
       "      <td>RME</td>\n",
       "    </tr>\n",
       "  </tbody>\n",
       "</table>\n",
       "<p>69 rows × 4 columns</p>\n",
       "</div>"
      ],
      "text/plain": [
       "           x         y         z cluster labels\n",
       "0   0.646485  0.642153 -0.234737            AVA\n",
       "1   0.537058  0.733450 -0.287925            AVA\n",
       "2   0.373974  0.778569 -0.395048            AVA\n",
       "3   0.600134  0.686878 -0.272593            AVA\n",
       "4   0.702718  0.586404 -0.238313            AVA\n",
       "..       ...       ...       ...            ...\n",
       "64 -0.796450  0.477411  0.268523            RME\n",
       "65 -0.878170  0.177538  0.368501            RME\n",
       "66 -0.869044  0.414194  0.101468            RME\n",
       "67 -0.899516  0.330684  0.102869            RME\n",
       "68 -0.948259  0.101573  0.165189            RME\n",
       "\n",
       "[69 rows x 4 columns]"
      ]
     },
     "execution_count": 91,
     "metadata": {},
     "output_type": "execute_result"
    }
   ],
   "source": [
    "column = ['AVA'] * (AVA_0.shape[0] + AVA_1.shape[0] + AVA_6.shape[0]) + ['RME'] * (RME_0.shape[0] + RME_1.shape[0] + RME_6.shape[0] )\n",
    "AVA_RME_stim0_labels = np.array(column)\n",
    "hyperbolic_df['cluster labels'] = AVA_RME_stim0_labels.T\n",
    "hyperbolic_df"
   ]
  },
  {
   "cell_type": "code",
   "execution_count": 62,
   "id": "09b7a13f",
   "metadata": {},
   "outputs": [
    {
     "data": {
      "application/vnd.plotly.v1+json": {
       "config": {
        "plotlyServerURL": "https://plot.ly"
       },
       "data": [
        {
         "hovertemplate": "cluster labels=AVA<br>x=%{x}<br>y=%{y}<br>z=%{z}<extra></extra>",
         "legendgroup": "AVA",
         "marker": {
          "color": "#636efa",
          "symbol": "circle"
         },
         "mode": "markers",
         "name": "AVA",
         "scene": "scene",
         "showlegend": true,
         "type": "scatter3d",
         "x": [
          0.6464850692816723,
          0.5370581627339315,
          0.3739743686425563,
          0.6001344504355779,
          0.7027181294349486,
          0.7228839987396927,
          0.39493709760862555,
          0.5236467358795023,
          0.3672649426701651,
          0.6269339334965678,
          -0.05085422012315057,
          -0.05980252665681997,
          -0.12236134032423084,
          -0.1266382276964063,
          -0.2103894115751324,
          -0.1681393999169946,
          -0.06876462432095291,
          -0.06494655736319599,
          -0.14035275857195048,
          0.14112737635454653,
          -0.13248840434538797,
          0.2644357637159139,
          -0.017335574772835424,
          0.37810461639617593,
          -0.3319947702395016,
          -0.09937392826727928,
          -0.49162603130470517,
          -0.3098594018865552,
          -0.2261188347830991,
          0.1139176842437782,
          0.1513720260875702,
          0.15185368330246873,
          0.11342741870454584,
          0.14115877149536823,
          0.12603676136643846,
          0.05889850636891882,
          0.10927399720896742,
          0.1227002228082465,
          0.21049491891946684
         ],
         "y": [
          0.6421533958581418,
          0.7334501465169319,
          0.7785692530387208,
          0.6868775572499319,
          0.5864039435340773,
          0.568209091997103,
          0.846268162146004,
          0.7194992784179882,
          0.7514057681197628,
          0.6676842505944883,
          -0.6993192473291059,
          -0.7185203561390928,
          -0.7052587932685743,
          -0.6603690619449681,
          -0.3743196184441276,
          -0.36928774039076206,
          -0.7036135044596296,
          -0.7190661263386768,
          -0.6884795030874395,
          -0.878390933292543,
          -0.6578171862437185,
          -0.7750313087804687,
          -0.8732812028569905,
          -0.6761430560245583,
          -0.3886217759195084,
          -0.40446317297980117,
          -0.5819252682556707,
          -0.8191486360799425,
          -0.7071320660518325,
          -0.2835937704512674,
          -0.27670677028762897,
          -0.2460471861067681,
          -0.19245936886599047,
          -0.2780425264711973,
          -0.2494722768570014,
          -0.23187223621785408,
          -0.21544727317508466,
          -0.2933402015134958,
          -0.19686127300261974
         ],
         "z": [
          -0.23473716444077222,
          -0.2879251541169135,
          -0.395047635911371,
          -0.27259334142732006,
          -0.23831349474609223,
          -0.2669575087768776,
          -0.21738798276390112,
          -0.32750776927200886,
          -0.45491015846573707,
          -0.2888524074218056,
          -0.6096626532040659,
          -0.5999516348856608,
          -0.6056442285489814,
          -0.6567682565638779,
          -0.8333142585831689,
          -0.8342014827316373,
          -0.6076731121291269,
          -0.6020008698098226,
          -0.62204611865555,
          -0.31858947272072563,
          -0.6599468944353748,
          -0.47760457331945855,
          -0.36548351192649453,
          -0.5570097607286705,
          -0.78998812559317,
          -0.8386515466889781,
          -0.5643512607281554,
          -0.35081600935962254,
          -0.5876517731666366,
          0.9111581423320501,
          0.9109567787834962,
          0.9226936138202538,
          0.9394007926477007,
          0.9150049153938457,
          0.9249706753683502,
          0.9378953112741465,
          0.9361574643778142,
          0.9128213519366243,
          0.9223218446298243
         ]
        },
        {
         "hovertemplate": "cluster labels=RME<br>x=%{x}<br>y=%{y}<br>z=%{z}<extra></extra>",
         "legendgroup": "RME",
         "marker": {
          "color": "#EF553B",
          "symbol": "circle"
         },
         "mode": "markers",
         "name": "RME",
         "scene": "scene",
         "showlegend": true,
         "type": "scatter3d",
         "x": [
          0.6098984543982328,
          0.6098424180754359,
          0.5442384074487748,
          0.6855830385865176,
          0.5803827524785952,
          0.6356362856565908,
          0.6920220947075836,
          0.6064423358932449,
          0.6518994580494041,
          0.54396851940853,
          0.6420825024636444,
          0.2404683535953406,
          -0.030482496636089575,
          0.07504009239997167,
          -0.07216857812517473,
          0.2452592323625246,
          0.022647364761039148,
          0.06056854100874431,
          -0.05472546155237442,
          -0.030356644617199106,
          0.07358173276794305,
          0.10485070360852772,
          -0.8779721468996654,
          -0.8661012599539146,
          -0.9191874931518764,
          -0.7964495455821101,
          -0.8781701085126588,
          -0.8690439094076334,
          -0.8995160562966998,
          -0.9482591649592556
         ],
         "y": [
          0.6924190020234954,
          0.7028389014314927,
          0.7701281639737695,
          0.6691119888692689,
          0.7428185755386489,
          0.5404172940827188,
          0.6462855575326348,
          0.7307411309927968,
          0.6882017659185601,
          0.7788988212706195,
          0.6669974891909963,
          -0.4950181223777229,
          -0.6108526775714658,
          -0.6643480989645619,
          -0.6355483123041842,
          -0.6031902755689911,
          -0.6613446916106492,
          -0.6272418677310753,
          -0.6274200954509197,
          -0.5952743954499345,
          -0.6472264148387821,
          -0.48685549429826247,
          0.3491718200050233,
          0.30386615044931203,
          0.29817321136081026,
          0.47741088670824383,
          0.17753820022422762,
          0.4141941136125117,
          0.33068443457874314,
          0.10157283281581314
         ],
         "z": [
          -0.21058895618778117,
          -0.18920770851214835,
          0.028661916618073068,
          -0.06454597489125653,
          -0.0840655583237591,
          -0.4575725642495469,
          -0.14556791846685954,
          -0.053768251759223104,
          -0.11847046300423783,
          -0.037436763127960876,
          -0.20387244932041879,
          -0.7595537470555086,
          -0.7133143590690406,
          -0.6644763030697446,
          -0.6856648773895209,
          -0.714547574319451,
          -0.662007324410881,
          -0.7117435669748575,
          -0.6997197915593597,
          -0.7382128819054443,
          -0.6915218712591062,
          -0.8229991364332016,
          0.20787249226040846,
          0.309207760490754,
          0.030720289131852214,
          0.2685228643523967,
          0.3685009820353596,
          0.10146808985801549,
          0.10286881949431684,
          0.1651893238320245
         ]
        }
       ],
       "layout": {
        "legend": {
         "title": {
          "text": "cluster labels"
         },
         "tracegroupgap": 0
        },
        "scene": {
         "domain": {
          "x": [
           0,
           1
          ],
          "y": [
           0,
           1
          ]
         },
         "xaxis": {
          "ticktext": [
           -1,
           -0.5,
           0,
           0.5,
           1
          ],
          "title": {
           "text": "x"
          }
         },
         "yaxis": {
          "ticktext": [
           -1,
           -0.5,
           0,
           0.5,
           1
          ],
          "title": {
           "text": "y"
          }
         },
         "zaxis": {
          "ticktext": [
           -1,
           -0.5,
           0,
           0.5,
           1
          ],
          "title": {
           "text": "z"
          }
         }
        },
        "template": {
         "data": {
          "bar": [
           {
            "error_x": {
             "color": "#2a3f5f"
            },
            "error_y": {
             "color": "#2a3f5f"
            },
            "marker": {
             "line": {
              "color": "#E5ECF6",
              "width": 0.5
             },
             "pattern": {
              "fillmode": "overlay",
              "size": 10,
              "solidity": 0.2
             }
            },
            "type": "bar"
           }
          ],
          "barpolar": [
           {
            "marker": {
             "line": {
              "color": "#E5ECF6",
              "width": 0.5
             },
             "pattern": {
              "fillmode": "overlay",
              "size": 10,
              "solidity": 0.2
             }
            },
            "type": "barpolar"
           }
          ],
          "carpet": [
           {
            "aaxis": {
             "endlinecolor": "#2a3f5f",
             "gridcolor": "white",
             "linecolor": "white",
             "minorgridcolor": "white",
             "startlinecolor": "#2a3f5f"
            },
            "baxis": {
             "endlinecolor": "#2a3f5f",
             "gridcolor": "white",
             "linecolor": "white",
             "minorgridcolor": "white",
             "startlinecolor": "#2a3f5f"
            },
            "type": "carpet"
           }
          ],
          "choropleth": [
           {
            "colorbar": {
             "outlinewidth": 0,
             "ticks": ""
            },
            "type": "choropleth"
           }
          ],
          "contour": [
           {
            "colorbar": {
             "outlinewidth": 0,
             "ticks": ""
            },
            "colorscale": [
             [
              0,
              "#0d0887"
             ],
             [
              0.1111111111111111,
              "#46039f"
             ],
             [
              0.2222222222222222,
              "#7201a8"
             ],
             [
              0.3333333333333333,
              "#9c179e"
             ],
             [
              0.4444444444444444,
              "#bd3786"
             ],
             [
              0.5555555555555556,
              "#d8576b"
             ],
             [
              0.6666666666666666,
              "#ed7953"
             ],
             [
              0.7777777777777778,
              "#fb9f3a"
             ],
             [
              0.8888888888888888,
              "#fdca26"
             ],
             [
              1,
              "#f0f921"
             ]
            ],
            "type": "contour"
           }
          ],
          "contourcarpet": [
           {
            "colorbar": {
             "outlinewidth": 0,
             "ticks": ""
            },
            "type": "contourcarpet"
           }
          ],
          "heatmap": [
           {
            "colorbar": {
             "outlinewidth": 0,
             "ticks": ""
            },
            "colorscale": [
             [
              0,
              "#0d0887"
             ],
             [
              0.1111111111111111,
              "#46039f"
             ],
             [
              0.2222222222222222,
              "#7201a8"
             ],
             [
              0.3333333333333333,
              "#9c179e"
             ],
             [
              0.4444444444444444,
              "#bd3786"
             ],
             [
              0.5555555555555556,
              "#d8576b"
             ],
             [
              0.6666666666666666,
              "#ed7953"
             ],
             [
              0.7777777777777778,
              "#fb9f3a"
             ],
             [
              0.8888888888888888,
              "#fdca26"
             ],
             [
              1,
              "#f0f921"
             ]
            ],
            "type": "heatmap"
           }
          ],
          "heatmapgl": [
           {
            "colorbar": {
             "outlinewidth": 0,
             "ticks": ""
            },
            "colorscale": [
             [
              0,
              "#0d0887"
             ],
             [
              0.1111111111111111,
              "#46039f"
             ],
             [
              0.2222222222222222,
              "#7201a8"
             ],
             [
              0.3333333333333333,
              "#9c179e"
             ],
             [
              0.4444444444444444,
              "#bd3786"
             ],
             [
              0.5555555555555556,
              "#d8576b"
             ],
             [
              0.6666666666666666,
              "#ed7953"
             ],
             [
              0.7777777777777778,
              "#fb9f3a"
             ],
             [
              0.8888888888888888,
              "#fdca26"
             ],
             [
              1,
              "#f0f921"
             ]
            ],
            "type": "heatmapgl"
           }
          ],
          "histogram": [
           {
            "marker": {
             "pattern": {
              "fillmode": "overlay",
              "size": 10,
              "solidity": 0.2
             }
            },
            "type": "histogram"
           }
          ],
          "histogram2d": [
           {
            "colorbar": {
             "outlinewidth": 0,
             "ticks": ""
            },
            "colorscale": [
             [
              0,
              "#0d0887"
             ],
             [
              0.1111111111111111,
              "#46039f"
             ],
             [
              0.2222222222222222,
              "#7201a8"
             ],
             [
              0.3333333333333333,
              "#9c179e"
             ],
             [
              0.4444444444444444,
              "#bd3786"
             ],
             [
              0.5555555555555556,
              "#d8576b"
             ],
             [
              0.6666666666666666,
              "#ed7953"
             ],
             [
              0.7777777777777778,
              "#fb9f3a"
             ],
             [
              0.8888888888888888,
              "#fdca26"
             ],
             [
              1,
              "#f0f921"
             ]
            ],
            "type": "histogram2d"
           }
          ],
          "histogram2dcontour": [
           {
            "colorbar": {
             "outlinewidth": 0,
             "ticks": ""
            },
            "colorscale": [
             [
              0,
              "#0d0887"
             ],
             [
              0.1111111111111111,
              "#46039f"
             ],
             [
              0.2222222222222222,
              "#7201a8"
             ],
             [
              0.3333333333333333,
              "#9c179e"
             ],
             [
              0.4444444444444444,
              "#bd3786"
             ],
             [
              0.5555555555555556,
              "#d8576b"
             ],
             [
              0.6666666666666666,
              "#ed7953"
             ],
             [
              0.7777777777777778,
              "#fb9f3a"
             ],
             [
              0.8888888888888888,
              "#fdca26"
             ],
             [
              1,
              "#f0f921"
             ]
            ],
            "type": "histogram2dcontour"
           }
          ],
          "mesh3d": [
           {
            "colorbar": {
             "outlinewidth": 0,
             "ticks": ""
            },
            "type": "mesh3d"
           }
          ],
          "parcoords": [
           {
            "line": {
             "colorbar": {
              "outlinewidth": 0,
              "ticks": ""
             }
            },
            "type": "parcoords"
           }
          ],
          "pie": [
           {
            "automargin": true,
            "type": "pie"
           }
          ],
          "scatter": [
           {
            "fillpattern": {
             "fillmode": "overlay",
             "size": 10,
             "solidity": 0.2
            },
            "type": "scatter"
           }
          ],
          "scatter3d": [
           {
            "line": {
             "colorbar": {
              "outlinewidth": 0,
              "ticks": ""
             }
            },
            "marker": {
             "colorbar": {
              "outlinewidth": 0,
              "ticks": ""
             }
            },
            "type": "scatter3d"
           }
          ],
          "scattercarpet": [
           {
            "marker": {
             "colorbar": {
              "outlinewidth": 0,
              "ticks": ""
             }
            },
            "type": "scattercarpet"
           }
          ],
          "scattergeo": [
           {
            "marker": {
             "colorbar": {
              "outlinewidth": 0,
              "ticks": ""
             }
            },
            "type": "scattergeo"
           }
          ],
          "scattergl": [
           {
            "marker": {
             "colorbar": {
              "outlinewidth": 0,
              "ticks": ""
             }
            },
            "type": "scattergl"
           }
          ],
          "scattermapbox": [
           {
            "marker": {
             "colorbar": {
              "outlinewidth": 0,
              "ticks": ""
             }
            },
            "type": "scattermapbox"
           }
          ],
          "scatterpolar": [
           {
            "marker": {
             "colorbar": {
              "outlinewidth": 0,
              "ticks": ""
             }
            },
            "type": "scatterpolar"
           }
          ],
          "scatterpolargl": [
           {
            "marker": {
             "colorbar": {
              "outlinewidth": 0,
              "ticks": ""
             }
            },
            "type": "scatterpolargl"
           }
          ],
          "scatterternary": [
           {
            "marker": {
             "colorbar": {
              "outlinewidth": 0,
              "ticks": ""
             }
            },
            "type": "scatterternary"
           }
          ],
          "surface": [
           {
            "colorbar": {
             "outlinewidth": 0,
             "ticks": ""
            },
            "colorscale": [
             [
              0,
              "#0d0887"
             ],
             [
              0.1111111111111111,
              "#46039f"
             ],
             [
              0.2222222222222222,
              "#7201a8"
             ],
             [
              0.3333333333333333,
              "#9c179e"
             ],
             [
              0.4444444444444444,
              "#bd3786"
             ],
             [
              0.5555555555555556,
              "#d8576b"
             ],
             [
              0.6666666666666666,
              "#ed7953"
             ],
             [
              0.7777777777777778,
              "#fb9f3a"
             ],
             [
              0.8888888888888888,
              "#fdca26"
             ],
             [
              1,
              "#f0f921"
             ]
            ],
            "type": "surface"
           }
          ],
          "table": [
           {
            "cells": {
             "fill": {
              "color": "#EBF0F8"
             },
             "line": {
              "color": "white"
             }
            },
            "header": {
             "fill": {
              "color": "#C8D4E3"
             },
             "line": {
              "color": "white"
             }
            },
            "type": "table"
           }
          ]
         },
         "layout": {
          "annotationdefaults": {
           "arrowcolor": "#2a3f5f",
           "arrowhead": 0,
           "arrowwidth": 1
          },
          "autotypenumbers": "strict",
          "coloraxis": {
           "colorbar": {
            "outlinewidth": 0,
            "ticks": ""
           }
          },
          "colorscale": {
           "diverging": [
            [
             0,
             "#8e0152"
            ],
            [
             0.1,
             "#c51b7d"
            ],
            [
             0.2,
             "#de77ae"
            ],
            [
             0.3,
             "#f1b6da"
            ],
            [
             0.4,
             "#fde0ef"
            ],
            [
             0.5,
             "#f7f7f7"
            ],
            [
             0.6,
             "#e6f5d0"
            ],
            [
             0.7,
             "#b8e186"
            ],
            [
             0.8,
             "#7fbc41"
            ],
            [
             0.9,
             "#4d9221"
            ],
            [
             1,
             "#276419"
            ]
           ],
           "sequential": [
            [
             0,
             "#0d0887"
            ],
            [
             0.1111111111111111,
             "#46039f"
            ],
            [
             0.2222222222222222,
             "#7201a8"
            ],
            [
             0.3333333333333333,
             "#9c179e"
            ],
            [
             0.4444444444444444,
             "#bd3786"
            ],
            [
             0.5555555555555556,
             "#d8576b"
            ],
            [
             0.6666666666666666,
             "#ed7953"
            ],
            [
             0.7777777777777778,
             "#fb9f3a"
            ],
            [
             0.8888888888888888,
             "#fdca26"
            ],
            [
             1,
             "#f0f921"
            ]
           ],
           "sequentialminus": [
            [
             0,
             "#0d0887"
            ],
            [
             0.1111111111111111,
             "#46039f"
            ],
            [
             0.2222222222222222,
             "#7201a8"
            ],
            [
             0.3333333333333333,
             "#9c179e"
            ],
            [
             0.4444444444444444,
             "#bd3786"
            ],
            [
             0.5555555555555556,
             "#d8576b"
            ],
            [
             0.6666666666666666,
             "#ed7953"
            ],
            [
             0.7777777777777778,
             "#fb9f3a"
            ],
            [
             0.8888888888888888,
             "#fdca26"
            ],
            [
             1,
             "#f0f921"
            ]
           ]
          },
          "colorway": [
           "#636efa",
           "#EF553B",
           "#00cc96",
           "#ab63fa",
           "#FFA15A",
           "#19d3f3",
           "#FF6692",
           "#B6E880",
           "#FF97FF",
           "#FECB52"
          ],
          "font": {
           "color": "#2a3f5f"
          },
          "geo": {
           "bgcolor": "white",
           "lakecolor": "white",
           "landcolor": "#E5ECF6",
           "showlakes": true,
           "showland": true,
           "subunitcolor": "white"
          },
          "hoverlabel": {
           "align": "left"
          },
          "hovermode": "closest",
          "mapbox": {
           "style": "light"
          },
          "paper_bgcolor": "white",
          "plot_bgcolor": "#E5ECF6",
          "polar": {
           "angularaxis": {
            "gridcolor": "white",
            "linecolor": "white",
            "ticks": ""
           },
           "bgcolor": "#E5ECF6",
           "radialaxis": {
            "gridcolor": "white",
            "linecolor": "white",
            "ticks": ""
           }
          },
          "scene": {
           "xaxis": {
            "backgroundcolor": "#E5ECF6",
            "gridcolor": "white",
            "gridwidth": 2,
            "linecolor": "white",
            "showbackground": true,
            "ticks": "",
            "zerolinecolor": "white"
           },
           "yaxis": {
            "backgroundcolor": "#E5ECF6",
            "gridcolor": "white",
            "gridwidth": 2,
            "linecolor": "white",
            "showbackground": true,
            "ticks": "",
            "zerolinecolor": "white"
           },
           "zaxis": {
            "backgroundcolor": "#E5ECF6",
            "gridcolor": "white",
            "gridwidth": 2,
            "linecolor": "white",
            "showbackground": true,
            "ticks": "",
            "zerolinecolor": "white"
           }
          },
          "shapedefaults": {
           "line": {
            "color": "#2a3f5f"
           }
          },
          "ternary": {
           "aaxis": {
            "gridcolor": "white",
            "linecolor": "white",
            "ticks": ""
           },
           "baxis": {
            "gridcolor": "white",
            "linecolor": "white",
            "ticks": ""
           },
           "bgcolor": "#E5ECF6",
           "caxis": {
            "gridcolor": "white",
            "linecolor": "white",
            "ticks": ""
           }
          },
          "title": {
           "x": 0.05
          },
          "xaxis": {
           "automargin": true,
           "gridcolor": "white",
           "linecolor": "white",
           "ticks": "",
           "title": {
            "standoff": 15
           },
           "zerolinecolor": "white",
           "zerolinewidth": 2
          },
          "yaxis": {
           "automargin": true,
           "gridcolor": "white",
           "linecolor": "white",
           "ticks": "",
           "title": {
            "standoff": 15
           },
           "zerolinecolor": "white",
           "zerolinewidth": 2
          }
         }
        },
        "title": {
         "text": "Stim1 AVA and RME Bacterial Stimulus"
        }
       }
      }
     },
     "metadata": {},
     "output_type": "display_data"
    }
   ],
   "source": [
    "\n",
    "\n",
    "# Create a scatter plot\n",
    "# fig = px.scatter_3d(data_frame = hyperbolic_df, x= 'x', y = 'y', z= 'z', title='AVA and RME: Stimulus 0', color = 'cluster labels') #cornflowerblue, lightcoral\n",
    "\n",
    "fig = px.scatter_3d(data_frame = hyperbolic_df, x= 'x', y = 'y', z= 'z', title='AVA and RME Neurons: Bacterial Stimulus No. 0',  color ='cluster labels') #cornflowerblue, lightcoral\n",
    "fig.update_layout(\n",
    "    scene=dict(\n",
    "        xaxis=dict(ticktext=[-1, -0.5, 0, 0.5, 1]),\n",
    "        yaxis=dict(ticktext=[-1, -0.5, 0, 0.5, 1]),\n",
    "        zaxis=dict(ticktext=[-1, -0.5, 0, 0.5, 1]),\n",
    "    )\n",
    ")\n",
    "\n",
    "fig.show()"
   ]
  },
  {
   "cell_type": "markdown",
   "id": "b6080734",
   "metadata": {},
   "source": [
    "# Fitting For Dimension\n",
    "\n",
    "Suppose we did not know a-priori that the data was 5D? This is usually the case"
   ]
  },
  {
   "cell_type": "markdown",
   "id": "ea9e919b",
   "metadata": {},
   "source": [
    "## Fit the model across a range of dimensions"
   ]
  },
  {
   "cell_type": "code",
   "execution_count": 77,
   "id": "0ffeb563",
   "metadata": {},
   "outputs": [
    {
     "name": "stderr",
     "output_type": "stream",
     "text": [
      "22:12:37 - cmdstanpy - INFO - Chain [1] start processing\n",
      "22:12:59 - cmdstanpy - INFO - Chain [1] done processing\n",
      "22:12:59 - cmdstanpy - WARNING - The default behavior of CmdStanMLE.stan_variable() will change in a future release to always return a numpy.ndarray, even for scalar variables.\n",
      "22:12:59 - cmdstanpy - INFO - Chain [1] start processing\n",
      "22:13:07 - cmdstanpy - INFO - Chain [1] done processing\n",
      "22:13:07 - cmdstanpy - WARNING - The default behavior of CmdStanMLE.stan_variable() will change in a future release to always return a numpy.ndarray, even for scalar variables.\n",
      "22:13:07 - cmdstanpy - INFO - Chain [1] start processing\n",
      "22:13:10 - cmdstanpy - INFO - Chain [1] done processing\n",
      "22:13:10 - cmdstanpy - WARNING - The default behavior of CmdStanMLE.stan_variable() will change in a future release to always return a numpy.ndarray, even for scalar variables.\n",
      "22:13:10 - cmdstanpy - INFO - Chain [1] start processing\n",
      "22:13:13 - cmdstanpy - INFO - Chain [1] done processing\n",
      "22:13:13 - cmdstanpy - WARNING - The default behavior of CmdStanMLE.stan_variable() will change in a future release to always return a numpy.ndarray, even for scalar variables.\n",
      "22:13:13 - cmdstanpy - INFO - Chain [1] start processing\n",
      "22:13:15 - cmdstanpy - INFO - Chain [1] done processing\n",
      "22:13:15 - cmdstanpy - WARNING - The default behavior of CmdStanMLE.stan_variable() will change in a future release to always return a numpy.ndarray, even for scalar variables.\n",
      "22:13:15 - cmdstanpy - INFO - Chain [1] start processing\n",
      "22:13:18 - cmdstanpy - INFO - Chain [1] done processing\n",
      "22:13:18 - cmdstanpy - WARNING - The default behavior of CmdStanMLE.stan_variable() will change in a future release to always return a numpy.ndarray, even for scalar variables.\n",
      "22:13:18 - cmdstanpy - INFO - Chain [1] start processing\n",
      "22:13:20 - cmdstanpy - INFO - Chain [1] done processing\n",
      "22:13:20 - cmdstanpy - WARNING - The default behavior of CmdStanMLE.stan_variable() will change in a future release to always return a numpy.ndarray, even for scalar variables.\n",
      "22:13:20 - cmdstanpy - INFO - Chain [1] start processing\n",
      "22:13:23 - cmdstanpy - INFO - Chain [1] done processing\n",
      "22:13:23 - cmdstanpy - WARNING - The default behavior of CmdStanMLE.stan_variable() will change in a future release to always return a numpy.ndarray, even for scalar variables.\n",
      "22:13:23 - cmdstanpy - INFO - Chain [1] start processing\n",
      "22:13:27 - cmdstanpy - INFO - Chain [1] done processing\n",
      "22:13:27 - cmdstanpy - WARNING - The default behavior of CmdStanMLE.stan_variable() will change in a future release to always return a numpy.ndarray, even for scalar variables.\n",
      "22:13:27 - cmdstanpy - INFO - Chain [1] start processing\n",
      "22:13:30 - cmdstanpy - INFO - Chain [1] done processing\n",
      "22:13:30 - cmdstanpy - WARNING - The default behavior of CmdStanMLE.stan_variable() will change in a future release to always return a numpy.ndarray, even for scalar variables.\n",
      "22:13:30 - cmdstanpy - INFO - Chain [1] start processing\n",
      "22:13:34 - cmdstanpy - INFO - Chain [1] done processing\n",
      "22:13:34 - cmdstanpy - WARNING - The default behavior of CmdStanMLE.stan_variable() will change in a future release to always return a numpy.ndarray, even for scalar variables.\n",
      "22:13:34 - cmdstanpy - INFO - Chain [1] start processing\n",
      "22:13:38 - cmdstanpy - INFO - Chain [1] done processing\n",
      "22:13:38 - cmdstanpy - WARNING - The default behavior of CmdStanMLE.stan_variable() will change in a future release to always return a numpy.ndarray, even for scalar variables.\n",
      "22:13:38 - cmdstanpy - INFO - Chain [1] start processing\n",
      "22:13:42 - cmdstanpy - INFO - Chain [1] done processing\n",
      "22:13:42 - cmdstanpy - WARNING - The default behavior of CmdStanMLE.stan_variable() will change in a future release to always return a numpy.ndarray, even for scalar variables.\n"
     ]
    }
   ],
   "source": [
    "all_fits = []\n",
    "for d in np.arange(2,15):\n",
    "    dat={'N':69, 'D':d, 'deltaij':distance_matrix_squaredp}\n",
    "    #run optimizer\n",
    "    model = ltz_m.optimize(data=dat, iter=250000, algorithm='LBFGS', tol_rel_grad=1e2)\n",
    "    all_fits.append({'euc':model.euc, 'sig':model.sig, 'lambda':model.stan_variable('lambda'), 't':model.time})\n",
    "\n",
    "\n"
   ]
  },
  {
   "cell_type": "code",
   "execution_count": 70,
   "id": "c6ddd178",
   "metadata": {},
   "outputs": [
    {
     "name": "stderr",
     "output_type": "stream",
     "text": [
      "22:05:56 - cmdstanpy - WARNING - The default behavior of CmdStanMLE.stan_variable() will change in a future release to always return a numpy.ndarray, even for scalar variables.\n"
     ]
    },
    {
     "data": {
      "text/plain": [
       "0.650785"
      ]
     },
     "execution_count": 70,
     "metadata": {},
     "output_type": "execute_result"
    }
   ],
   "source": [
    "model.stan_variable('lambda')"
   ]
  },
  {
   "cell_type": "code",
   "execution_count": 104,
   "id": "09e53bbb",
   "metadata": {},
   "outputs": [
    {
     "data": {
      "text/plain": [
       "array([1.12689, 1.1251 , 1.12687, 1.12687, 1.1255 , 1.12697, 1.12656,\n",
       "       1.12591, 1.12582, 1.1259 , 1.12511, 1.12532, 1.12585, 1.1269 ,\n",
       "       1.12568, 1.126  , 1.12592, 1.12665, 1.1255 , 1.12606, 1.1269 ,\n",
       "       1.12659, 1.12642, 1.12608, 1.1269 , 1.12522, 1.12684, 1.1275 ,\n",
       "       1.12613, 1.12776, 1.12601, 1.12658, 1.12565, 1.12652, 1.12698,\n",
       "       1.1254 , 1.12709, 1.12529, 1.12525, 1.12631, 1.12601, 1.12595,\n",
       "       1.12587, 1.12735, 1.12711, 1.12711, 1.12749, 1.12519, 1.12591,\n",
       "       1.12635, 1.12568, 1.12507, 1.12563, 1.12739, 1.12692, 1.12665,\n",
       "       1.1257 , 1.12725, 1.12526, 1.12508, 1.12566, 1.12663, 1.12785,\n",
       "       1.12687, 1.12675, 1.12797, 1.12698, 1.12533, 1.12632, 1.1269 ,\n",
       "       1.12709, 1.12808, 1.12557, 1.12714, 1.12548, 1.12654, 1.12762,\n",
       "       1.12649, 1.12587, 1.12554, 1.12575, 1.12552, 1.12558, 1.12527,\n",
       "       1.12657, 1.12689, 1.12688, 1.12565, 1.12551, 1.12519, 1.12634,\n",
       "       1.12583, 1.12816, 1.12628, 1.12591, 1.12616, 1.12711, 1.12562,\n",
       "       1.12614, 1.12675, 1.12547, 1.12597, 1.12714, 1.1266 , 1.12759,\n",
       "       1.12554, 1.1258 , 1.12655, 1.12594, 1.12592, 1.12569, 1.12802,\n",
       "       1.12677, 1.12525, 1.12603, 1.12501, 1.12685, 1.12593, 1.12543,\n",
       "       1.12767, 1.12761, 1.126  , 1.12667, 1.12549, 1.12623, 1.125  ,\n",
       "       1.12583, 1.12583, 1.1274 , 1.12547, 1.12546, 1.12574, 1.1253 ,\n",
       "       1.12531, 1.1259 ])"
      ]
     },
     "execution_count": 104,
     "metadata": {},
     "output_type": "execute_result"
    }
   ],
   "source": [
    "#access the correct iteration \n",
    "iteration = all_fits[5]['t']\n",
    "\n",
    "\n",
    "iteration"
   ]
  },
  {
   "cell_type": "code",
   "execution_count": 105,
   "id": "c69f3521",
   "metadata": {},
   "outputs": [
    {
     "data": {
      "text/plain": [
       "(135,)"
      ]
     },
     "execution_count": 105,
     "metadata": {},
     "output_type": "execute_result"
    }
   ],
   "source": [
    "model.time.shape"
   ]
  },
  {
   "cell_type": "code",
   "execution_count": 106,
   "id": "cadc132e",
   "metadata": {},
   "outputs": [],
   "source": [
    "#calculate radii based on time parameter\n",
    "radii = np.arccosh(iteration)"
   ]
  },
  {
   "cell_type": "code",
   "execution_count": 93,
   "id": "963b2e19",
   "metadata": {},
   "outputs": [
    {
     "data": {
      "text/plain": [
       "array([0.47524407, 0.47055713, 0.47522379, 0.47504132, 0.47135539,\n",
       "       0.47508187, 0.47349739, 0.4673288 , 0.46712237, 0.46706042,\n",
       "       0.47035221, 0.46813297, 0.46718431, 0.47530487, 0.46753514,\n",
       "       0.47092574, 0.46800935, 0.47520352, 0.47245829, 0.47264184,\n",
       "       0.47522379, 0.47192761, 0.47400585, 0.47121222, 0.47522379,\n",
       "       0.46831834, 0.47498047, 0.47196845, 0.47256027, 0.46883283,\n",
       "       0.46907958, 0.47380254, 0.47092574, 0.47469643, 0.47504132,\n",
       "       0.46838011, 0.47355843, 0.47090527, 0.46872998, 0.47420908,\n",
       "       0.47282531, 0.46695715, 0.47211138, 0.47453404, 0.47280493,\n",
       "       0.4753454 , 0.47376186, 0.4703727 , 0.47233588, 0.47188676,\n",
       "       0.46724624, 0.4703932 , 0.4703932 , 0.46926454, 0.47481819,\n",
       "       0.47196845, 0.46724624, 0.47542646, 0.47031121, 0.47082338,\n",
       "       0.47221344, 0.47516298, 0.47353809, 0.47345668, 0.46946997,\n",
       "       0.4743919 , 0.47538593, 0.47184591, 0.46953158, 0.47394487,\n",
       "       0.47469643, 0.47178462, 0.47274378, 0.47388388, 0.47241749,\n",
       "       0.47351774, 0.47556827, 0.47451374, 0.47355843, 0.47321239,\n",
       "       0.47241749, 0.47229507, 0.47237669, 0.47184591, 0.47453404,\n",
       "       0.47424971, 0.47155984, 0.4673288 , 0.47131449, 0.47227467,\n",
       "       0.47223385, 0.47241749, 0.47008567, 0.47233588, 0.47347704,\n",
       "       0.47229507, 0.46877113, 0.47284569, 0.47414812, 0.47024971,\n",
       "       0.46977793, 0.47076195, 0.47341598, 0.47215221, 0.47321239,\n",
       "       0.47129404, 0.47065955, 0.46846246, 0.46718431, 0.47372118,\n",
       "       0.47341598, 0.47239709, 0.47461524, 0.46796813, 0.47008567,\n",
       "       0.47090527, 0.47235629, 0.4739652 , 0.47113039, 0.47002414,\n",
       "       0.46988054, 0.47300871, 0.47000363, 0.47243789, 0.47047517,\n",
       "       0.47053664, 0.47115085, 0.47321239, 0.47100761, 0.47217262,\n",
       "       0.46951104, 0.47227467, 0.47178462, 0.47180505, 0.47284569])"
      ]
     },
     "execution_count": 93,
     "metadata": {},
     "output_type": "execute_result"
    }
   ],
   "source": [
    "radii"
   ]
  },
  {
   "cell_type": "code",
   "execution_count": 107,
   "id": "f44e7938",
   "metadata": {},
   "outputs": [
    {
     "data": {
      "text/plain": [
       "Text(0.5, 0, 'Hyperbolic Embedding Radii')"
      ]
     },
     "execution_count": 107,
     "metadata": {},
     "output_type": "execute_result"
    },
    {
     "data": {
      "image/png": "[encoded data removed]",
      "text/plain": [
       "<Figure size 1500x750 with 1 Axes>"
      ]
     },
     "metadata": {},
     "output_type": "display_data"
    }
   ],
   "source": [
    "#Histogram of radii\n",
    "fig, ax = plt.subplots(figsize=(15,7.5))\n",
    "\n",
    "ax.hist(radii, color ='cornflowerblue') #cornflowerblue, lightcoral\n",
    "ax.set_xlabel('Hyperbolic Embedding Radii', fontsize=20)"
   ]
  },
  {
   "cell_type": "code",
   "execution_count": 96,
   "id": "75c766bc",
   "metadata": {},
   "outputs": [],
   "source": [
    "#DIP analysis of radii\n",
    "dip, pval = diptest.diptest(radii)"
   ]
  },
  {
   "cell_type": "code",
   "execution_count": 97,
   "id": "2ac64e08",
   "metadata": {},
   "outputs": [
    {
     "data": {
      "text/plain": [
       "(0.023741562861925133, 0.9005797759390655)"
      ]
     },
     "execution_count": 97,
     "metadata": {},
     "output_type": "execute_result"
    }
   ],
   "source": [
    "dip, pval"
   ]
  },
  {
   "cell_type": "code",
   "execution_count": 73,
   "id": "31b674d5",
   "metadata": {},
   "outputs": [
    {
     "data": {
      "text/plain": [
       "array([0.0907976, 0.0476265, 0.0634148, 0.0474095, 0.134867 , 0.163955 ,\n",
       "       0.0608507, 0.0556096, 0.175084 , 0.0499973, 0.076132 , 0.0710916,\n",
       "       0.0437686, 0.0746573, 0.101605 , 0.0886019, 0.0604872, 0.063853 ,\n",
       "       0.0434062, 0.0990106, 0.0796798, 0.103261 , 0.18043  , 0.100734 ,\n",
       "       0.117071 , 0.108837 , 0.107962 , 0.111151 , 0.0534022, 0.569273 ,\n",
       "       0.0571706, 0.053498 , 0.0604001, 0.589253 , 0.0586211, 0.0671372,\n",
       "       0.0505383, 0.573924 , 0.0752823, 0.0685892, 0.0633732, 0.0559701,\n",
       "       0.0678217, 0.0468669, 0.19487  , 0.0580551, 0.0436558, 0.0414245,\n",
       "       0.0452617, 0.0542473, 0.187306 , 0.0420244, 0.0445101, 0.0443021,\n",
       "       0.242963 , 0.0609382, 0.0453698, 0.0477493, 0.0596065, 0.0484598,\n",
       "       0.157442 , 0.11315  , 0.351083 , 0.087152 , 0.120892 , 0.117548 ,\n",
       "       0.365593 , 0.0906183, 0.098219 ])"
      ]
     },
     "execution_count": 73,
     "metadata": {},
     "output_type": "execute_result"
    }
   ],
   "source": [
    "all_fits[0]['sig']"
   ]
  },
  {
   "cell_type": "code",
   "execution_count": 71,
   "id": "2793645c",
   "metadata": {},
   "outputs": [],
   "source": [
    "#return negative log likelihood of fit\n",
    "def MDS_lkl(fit, dmat):\n",
    "    lkl = 0;\n",
    "    N = fit['sig'].shape[0]\n",
    "    \n",
    "    sigs = fit['sig']\n",
    "    lam = fit['lambda']\n",
    "    emb_mat = get_embed_dmat(fit)\n",
    "    \n",
    "    for i in np.arange(N):\n",
    "        for j in np.arange(i+1, N):\n",
    "            seff = sigs[i]**2 + sigs[j]**2\n",
    "            lkl += ((dmat[i][j] - emb_mat[i][j]/lam)**2 / (2.0*seff)) + 0.5*np.log(seff*2.0*np.pi)\n",
    "    return lkl\n",
    "\n",
    "#input: optimization fit and distance matrix\n",
    "def BIC(fit, dmat):\n",
    "    N,D = fit['euc'].shape\n",
    "    n = 0.5*N*(N-1)\n",
    "    k = N*D + N + 1.0 - 0.5*D*(D-1)\n",
    "    \n",
    "    return k*np.log(n) + 2.0*MDS_lkl(fit, dmat)"
   ]
  },
  {
   "cell_type": "markdown",
   "id": "e7ccab40",
   "metadata": {},
   "source": [
    "## Bayesian information criteria\n",
    "\n",
    "There is a lot of formal Bayesian Theory behind this (see chapter 2 here https://urldefense.proofpoint.com/v2/url?u=https-3A__www.inference.org.uk_mackay_thesis.pdf&d=DwIGAg&c=-35OiAkTchMrZOngvJPOeA&r=B8GeUuyHfxQP8MseZuhipQ&m=KVww4gh9-XOtp1LqNUc0K-PGXOX3bm2QsokPFlBG9Vs&s=UBtNEdIXatq_zFpG53nmPCLbCnlgIgWigHYhEnBRYyo&e= ), but essentially we are trying to find the minimal number of parameters to describe a dataset. If the data is 5D, we don't want to use 7 parameters to describe it. The BIC is like a cost function that rewards a model that has a better fit to the likelihood function, but penalizes models that increase the number of their parameters. The model which minimizes this function will thus have the ideal trade-off of being able to model the data well without introducing too many parameters and overfitting the data."
   ]
  },
  {
   "cell_type": "code",
   "execution_count": 78,
   "id": "f3688551",
   "metadata": {},
   "outputs": [],
   "source": [
    "all_BIC = [BIC(fit, distance_matrix_squaredp) for fit in all_fits]"
   ]
  },
  {
   "cell_type": "code",
   "execution_count": 79,
   "id": "b1160cc0",
   "metadata": {},
   "outputs": [
    {
     "data": {
      "text/plain": [
       "[-644.9033255928,\n",
       " -4239.648682349035,\n",
       " -4492.305965194283,\n",
       " -4761.761141384209,\n",
       " -5136.132786049722,\n",
       " -5138.589718630882,\n",
       " -5035.72357405272,\n",
       " -4779.826417127117,\n",
       " -4509.510600710118,\n",
       " -4213.010318104651,\n",
       " -3939.966421335682,\n",
       " -3653.3198511392175,\n",
       " -3360.5559478366786]"
      ]
     },
     "execution_count": 79,
     "metadata": {},
     "output_type": "execute_result"
    }
   ],
   "source": [
    "all_BIC"
   ]
  },
  {
   "cell_type": "markdown",
   "id": "daae8d10",
   "metadata": {},
   "source": [
    "As you can see the BIC is minimized at the true dimension of 5. Any more parameters would have been redundant, any less would not have properly fit the data"
   ]
  },
  {
   "cell_type": "code",
   "execution_count": 80,
   "id": "c3160255",
   "metadata": {},
   "outputs": [
    {
     "data": {
      "text/plain": [
       "Text(0, 0.5, 'BIC')"
      ]
     },
     "execution_count": 80,
     "metadata": {},
     "output_type": "execute_result"
    },
    {
     "data": {
      "image/png": "[encoded data removed]",
      "text/plain": [
       "<Figure size 750x750 with 1 Axes>"
      ]
     },
     "metadata": {},
     "output_type": "display_data"
    }
   ],
   "source": [
    "fig, ax = plt.subplots(figsize=(7.5,7.5))\n",
    "\n",
    "ax.scatter(np.arange(2,15), all_BIC, c = 'cornflowerblue') #cornflowerblue, lightcoral\n",
    "ax.set_xlabel('Dimension', fontsize=20)\n",
    "ax.set_ylabel('BIC', fontsize=20)"
   ]
  },
  {
   "cell_type": "markdown",
   "id": "ce171280",
   "metadata": {},
   "source": [
    "# Re-Running the optimizer\n",
    "Lets start by generating some 2D data"
   ]
  },
  {
   "cell_type": "code",
   "execution_count": 81,
   "id": "6159dca9",
   "metadata": {},
   "outputs": [],
   "source": [
    "#generate 100 data points uniformly distributed in 5 dimensional hyperbolic space of radius R=4\n",
    "dim=2; R=4.0;\n",
    "n=100\n",
    "dirs = stats.norm.rvs(size=(n, dim))\n",
    "dirs = (dirs.T/np.sqrt(np.sum(np.square(dirs), axis=1))).T\n",
    "U = stats.uniform.rvs(size=n)\n",
    "rs_p = np.tanh(np.log((1-np.exp(-R))/np.exp(-R)*(U) + 1.0)/2.0)\n",
    "p_coords = rs_p.reshape(-1,1)*dirs\n",
    "\n",
    "#add noise to the computed distance matrix to simulate a more realistic dataset\n",
    "mat_2D = get_dmat(p_coords) + 0.05*R*stats.norm.rvs(size=(n,n))\n",
    "for i in np.arange(n):\n",
    "    for j in np.arange(i+1, n):\n",
    "        mat_2D[j][i] = mat_2D[i][j]\n",
    "mat_2D = 2.0*mat_2D/np.max(mat_2D)"
   ]
  },
  {
   "cell_type": "code",
   "execution_count": null,
   "id": "9f65f1d2",
   "metadata": {},
   "outputs": [],
   "source": [
    "#dictionary to specify input to simulation\n",
    "dat={'N':100, 'D':2, 'deltaij':mat_2D}\n",
    "#run optimizer\n",
    "model2D = ltz_m.optimize(data=dat, iter=250000, algorithm='LBFGS', tol_rel_grad=1e2)\n",
    "hyp_emb2D = {'euc':model2D.euc, 'sig':model2D.sig, 'lambda':model2D.stan_variable('lambda')}"
   ]
  },
  {
   "cell_type": "code",
   "execution_count": null,
   "id": "546b43c3",
   "metadata": {},
   "outputs": [],
   "source": [
    "process_sim(hyp_emb2D)"
   ]
  },
  {
   "cell_type": "markdown",
   "id": "77ed16b6",
   "metadata": {},
   "source": [
    "#### Most pts are well fit, but a few are poorly fit (the ones with high sigma) which adds a lot of scatter to the shepard diagram\n",
    "#### The optimizer got caught in a false minimum"
   ]
  },
  {
   "cell_type": "code",
   "execution_count": null,
   "id": "bb8c2124",
   "metadata": {},
   "outputs": [],
   "source": [
    "fig, ax = plt.subplots(1, 2, figsize=(15,7.5))\n",
    "\n",
    "ax[0].scatter(mat_2D[np.triu_indices(100, k=1)], hyp_emb2D['emb_mat'][np.triu_indices(100, k=1)])\n",
    "ax[0].plot(np.arange(3), np.arange(3), c='black', linewidth=5, alpha=0.5)\n",
    "\n",
    "ax[0].set_xlabel('Original Distances', fontsize=20)\n",
    "ax[0].set_ylabel('Embedding Distances / $\\lambda$', fontsize=20)\n",
    "\n",
    "ax[1].hist(hyp_emb2D['sig'])\n",
    "ax[1].set_xlabel('Embedding Uncertainties', fontsize=20)"
   ]
  },
  {
   "cell_type": "markdown",
   "id": "23edc498",
   "metadata": {},
   "source": [
    "### Strategy: randomize the positions of the poorly fit points, and then return the coordinates as the initial conditions to continue optimizing. This bumps the simulation out of the false minimium without destroying all of the work its already done"
   ]
  },
  {
   "cell_type": "code",
   "execution_count": null,
   "id": "e47006a6",
   "metadata": {},
   "outputs": [],
   "source": [
    "#figure out which pts have high uncertainty, and randomize their coordinates without touching the rest of the points\n",
    "N_refit = np.where(hyp_emb2D['sig'] > 0.3)[0].shape[0]\n",
    "hyp_emb2D['euc'][np.where(hyp_emb2D['sig'] > 0.3)] = stats.norm.rvs(size=(N_refit,2))"
   ]
  },
  {
   "cell_type": "code",
   "execution_count": null,
   "id": "44aa4765",
   "metadata": {},
   "outputs": [],
   "source": [
    "#re-reun the optimizer, but this time sepcify the initial condition by passing the previous simulation dictionary\n",
    "dat={'N':100, 'D':2, 'deltaij':mat_2D}\n",
    "model2D = ltz_m.optimize(data=dat, iter=250000, algorithm='LBFGS', tol_rel_grad=1e2,inits = hyp_emb2D)\n",
    "hyp_emb2D = {'euc':model2D.euc, 'sig':model2D.sig, 'lambda':model2D.stan_variable('lambda')}\n",
    "# tst_2D = ltz_m.optimizing(data=dat, iter=250000, tol_rel_grad=1e2, init=tst_2D)"
   ]
  },
  {
   "cell_type": "code",
   "execution_count": null,
   "id": "4dc911c9",
   "metadata": {},
   "outputs": [],
   "source": [
    "process_sim(hyp_emb2D)"
   ]
  },
  {
   "cell_type": "markdown",
   "id": "b28b534e",
   "metadata": {},
   "source": [
    "### We see that the fit is significantly better, although there are still a few poorly fit points. We could keep iterating the above process until all points are well fit."
   ]
  },
  {
   "cell_type": "code",
   "execution_count": null,
   "id": "9f3fa17a",
   "metadata": {},
   "outputs": [],
   "source": [
    "fig, ax = plt.subplots(1, 2, figsize=(15,7.5))\n",
    "\n",
    "ax[0].scatter(mat_2D[np.triu_indices(100, k=1)], hyp_emb2D['emb_mat'][np.triu_indices(100, k=1)])\n",
    "ax[0].plot(np.arange(3), np.arange(3), c='black', linewidth=5, alpha=0.5)\n",
    "\n",
    "ax[0].set_xlabel('Original Distances', fontsize=20)\n",
    "ax[0].set_ylabel('Embedding Distances / $\\lambda$', fontsize=20)\n",
    "\n",
    "ax[1].hist(hyp_emb2D['sig'])\n",
    "ax[1].set_xlabel('Embedding Uncertainties', fontsize=20)"
   ]
  }
 ],
 "metadata": {
  "kernelspec": {
   "display_name": "Python 3 (ipykernel)",
   "language": "python",
   "name": "python3"
  },
  "language_info": {
   "codemirror_mode": {
    "name": "ipython",
    "version": 3
   },
   "file_extension": ".py",
   "mimetype": "text/x-python",
   "name": "python",
   "nbconvert_exporter": "python",
   "pygments_lexer": "ipython3",
   "version": "3.10.14"
  }
 },
 "nbformat": 4,
 "nbformat_minor": 5
}
