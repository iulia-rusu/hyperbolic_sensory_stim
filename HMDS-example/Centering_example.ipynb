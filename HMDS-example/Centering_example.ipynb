{
 "cells": [
  {
   "cell_type": "code",
   "execution_count": 1,
   "id": "27c03ca7",
   "metadata": {},
   "outputs": [
    {
     "name": "stderr",
     "output_type": "stream",
     "text": [
      "/Users/iuliarusu/miniconda3/envs/HMDS/lib/python3.10/site-packages/tqdm/auto.py:21: TqdmWarning: IProgress not found. Please update jupyter and ipywidgets. See https://ipywidgets.readthedocs.io/en/stable/user_install.html\n",
      "  from .autonotebook import tqdm as notebook_tqdm\n"
     ]
    }
   ],
   "source": [
    "'''\n",
    "Method developed by Anoop Praturu: https://www.biorxiv.org/content/10.1101/2022.10.12.511940v1\n",
    "Code from Anoop Praturu on Oct 2021\n",
    "Move from pystan to cmdstanpy based on suggestions by Milo Julis\n",
    "Edited by Mingchen Yao on May 26 2023\n",
    "'''\n",
    "\n",
    "import numpy as np\n",
    "import matplotlib.pyplot as plt\n",
    "import cmdstanpy as stan\n",
    "import scipy.stats as stats\n",
    "import pickle\n",
    "%matplotlib inline"
   ]
  },
  {
   "cell_type": "code",
   "execution_count": 14,
   "id": "5fedf9ea",
   "metadata": {},
   "outputs": [],
   "source": [
    "# # if there is anything wrong with comstan: re-install it. Otherwise don't run this cell\n",
    "# from cmdstanpy import install_cmdstan\n",
    "# install_cmdstan(overwrite = True)"
   ]
  },
  {
   "cell_type": "code",
   "execution_count": 2,
   "id": "aa3f3a51",
   "metadata": {},
   "outputs": [
    {
     "name": "stderr",
     "output_type": "stream",
     "text": [
      "12:14:32 - cmdstanpy - INFO - compiling stan file /Users/iuliarusu/Documents/Sharpee/HMDS-example/model/CM.stan to exe file /Users/iuliarusu/Documents/Sharpee/HMDS-example/model/CM\n",
      "12:14:36 - cmdstanpy - INFO - compiled model executable: /Users/iuliarusu/Documents/Sharpee/HMDS-example/model/CM\n"
     ]
    }
   ],
   "source": [
    "path = '/Users/iuliarusu/Documents/Sharpee/HMDS-example/model/'\n",
    "CM_m = stan.CmdStanModel(stan_file=path+'CM.stan')"
   ]
  },
  {
   "cell_type": "code",
   "execution_count": 16,
   "id": "37113927",
   "metadata": {},
   "outputs": [
    {
     "name": "stderr",
     "output_type": "stream",
     "text": [
      "11:53:37 - cmdstanpy - INFO - Chain [1] start processing\n",
      "11:53:37 - cmdstanpy - INFO - Chain [1] done processing\n"
     ]
    }
   ],
   "source": [
    "#example usage:\n",
    "#input: number of points, dimension they are embedded in, lorentzian cordinates of embedding\n",
    "# for lorentzian coordinates you can just pass the ['euc'] coordinates from the dictionary of a previous HMDS fit\n",
    "\n",
    "fdname = './emb5d.pickle'\n",
    "with open(fdname, 'rb') as file:\n",
    "    fit = pickle.load(file)\n",
    "\n",
    "ex_data = {'N':100, 'D':5, 'coords':fit['euc']}\n",
    "\n",
    "cm_fit = CM_m.optimize(data=ex_data)"
   ]
  },
  {
   "cell_type": "code",
   "execution_count": 17,
   "id": "18f6520b",
   "metadata": {},
   "outputs": [],
   "source": [
    "def get_poin(fit):\n",
    "    ts = np.sqrt(1.0 + np.sum(np.square(fit['euc']), axis=1))\n",
    "    return (fit['euc'].T / (ts + 1)).T\n",
    "#translation of x so origin is translated to v\n",
    "#thus -v is translated to origin, so put in -v if you want v to be the new origin\n",
    "def trans_poin(v, x):\n",
    "    dp = v.dot(x)\n",
    "    v2 = v.dot(v)\n",
    "    x2 = x.dot(x)\n",
    "    \n",
    "    return ((1.0 + 2.0*dp + x2)*v + (1.0 - v2)*x) / (1.0 + 2.0*dp + x2*v2)\n",
    "\n",
    "#given center of mass fit of new center, return poincare coords of fit points translated so new center is at origin\n",
    "def re_center(fit, CM_fit):\n",
    "    p_coords = get_poin(fit)\n",
    "    CM_poin = CM_fit['CM']/(1.0 + CM_fit['CM_t'])\n",
    "    \n",
    "    return np.asarray([trans_poin(-CM_poin, pt) for pt in p_coords])"
   ]
  },
  {
   "cell_type": "code",
   "execution_count": 18,
   "id": "5d519771",
   "metadata": {},
   "outputs": [],
   "source": [
    "# get recentered position in poincare ball\n",
    "cm_fit_dict = {'CM':cm_fit.CM, 'CM_t':cm_fit.CM_t}\n",
    "poin_recenter = re_center(fit,cm_fit_dict)"
   ]
  }
 ],
 "metadata": {
  "kernelspec": {
   "display_name": "HMDS",
   "language": "python",
   "name": "python3"
  },
  "language_info": {
   "codemirror_mode": {
    "name": "ipython",
    "version": 3
   },
   "file_extension": ".py",
   "mimetype": "text/x-python",
   "name": "python",
   "nbconvert_exporter": "python",
   "pygments_lexer": "ipython3",
   "version": "3.10.14"
  }
 },
 "nbformat": 4,
 "nbformat_minor": 5
}
