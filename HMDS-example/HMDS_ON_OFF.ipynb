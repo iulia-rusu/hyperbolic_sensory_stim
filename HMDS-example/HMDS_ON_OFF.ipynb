{
 "cells": [
  {
   "cell_type": "code",
   "execution_count": 1,
   "id": "dbb521f1",
   "metadata": {},
   "outputs": [],
   "source": [
    "'''\n",
    "Method developed by Anoop Praturu: https://www.biorxiv.org/content/10.1101/2022.10.12.511940v1\n",
    "Code from Anoop Praturu on Oct 2021\n",
    "Move from pystan to cmdstanpy based on suggestions by Milo Julis\n",
    "Edited by Mingchen Yao on May 26 2023\n",
    "'''\n",
    "\n",
    "import numpy as np\n",
    "import diptest  \n",
    "import matplotlib.pyplot as plt\n",
    "import cmdstanpy as stan\n",
    "import scipy.stats as stats\n",
    "import pickle\n",
    "import seaborn as sns\n",
    "%matplotlib inline\n",
    "\n",
    "import pandas as pd\n",
    "\n",
    "import plotly.express as px\n",
    "from matplotlib import rcParams\n",
    "import plotly.express as px"
   ]
  },
  {
   "cell_type": "code",
   "execution_count": null,
   "id": "73e1d8b7",
   "metadata": {},
   "outputs": [],
   "source": [
    "# # if there is anything wrong with comstan: re-install it. Otherwise don't run this cell\n",
    "# from cmdstanpy import install_cmdstan\n",
    "# install_cmdstan(overwrite = True)"
   ]
  },
  {
   "cell_type": "code",
   "execution_count": 2,
   "id": "e6c280a4",
   "metadata": {},
   "outputs": [
    {
     "name": "stdout",
     "output_type": "stream",
     "text": [
      "Python 3.10.14\n"
     ]
    }
   ],
   "source": [
    "!python --version"
   ]
  },
  {
   "cell_type": "markdown",
   "id": "93f95b0f",
   "metadata": {},
   "source": [
    "# Functions for Generating Synthetic Data"
   ]
  },
  {
   "cell_type": "code",
   "execution_count": 4,
   "id": "f16c0781",
   "metadata": {},
   "outputs": [],
   "source": [
    "#returns hyperbolic distance between vectors in poincare ball\n",
    "def poincare_dist(v1, v2):\n",
    "    sq = np.sum(np.square(v1-v2))\n",
    "    r1 = np.sum(np.square(v1))\n",
    "    r2 = np.sum(np.square(v2))\n",
    "    inv = 2.0*sq/((1.0-r1)*(1.0-r2))\n",
    "    return np.arccosh(1.0 + inv)\n",
    "\n",
    "#return NxN symmetric distance matrix from poincare coordinates\n",
    "def get_dmat(p_coords):\n",
    "    N = p_coords.shape[0]\n",
    "    dists = np.zeros((N, N))\n",
    "    \n",
    "    for i in np.arange(N):\n",
    "        for j in np.arange(i+1, N):\n",
    "            dists[i][j] = poincare_dist(p_coords[i], p_coords[j])\n",
    "            dists[j][i] = dists[i][j]\n",
    "    return dists"
   ]
  },
  {
   "cell_type": "code",
   "execution_count": 3,
   "id": "f942b036",
   "metadata": {},
   "outputs": [],
   "source": [
    "#generate 100 data points uniformly distributed in 5 dimensional hyperbolic space of radius R=4\n",
    "dim=5; R=4.0;\n",
    "n=100\n",
    "dirs = stats.norm.rvs(size=(n, dim))\n",
    "dirs = (dirs.T/np.sqrt(np.sum(np.square(dirs), axis=1))).T\n",
    "U = stats.uniform.rvs(size=n)\n",
    "rs_p = np.tanh(np.log((1-np.exp(-R))/np.exp(-R)*(U) + 1.0)/2.0)\n",
    "p_coords = rs_p.reshape(-1,1)*dirs\n",
    "\n",
    "#add noise to the computed distance matrix to simulate a more realistic dataset\n",
    "mat_dim = get_dmat(p_coords) + 0.05*R*stats.norm.rvs(size=(n,n))\n",
    "for i in np.arange(n):\n",
    "    for j in np.arange(i+1, n):\n",
    "        mat_dim[j][i] = mat_dim[i][j]\n",
    "mat_dim = 2.0*mat_dim/np.max(mat_dim)"
   ]
  },
  {
   "cell_type": "markdown",
   "id": "abf7bb38",
   "metadata": {},
   "source": [
    "# Code for fitting Bayesian Model"
   ]
  },
  {
   "cell_type": "code",
   "execution_count": 13,
   "id": "0a7b4752",
   "metadata": {},
   "outputs": [],
   "source": [
    "path = '/Users/iuliarusu/Documents/Sharpee/HMDS-example/model/'\n",
    "ltz_m = stan.CmdStanModel(stan_file=path+'lorentz.stan')"
   ]
  },
  {
   "cell_type": "markdown",
   "id": "4ea2a559",
   "metadata": {},
   "source": [
    "## Run the optimizer given the synthetically generated Data set"
   ]
  },
  {
   "cell_type": "code",
   "execution_count": 5,
   "id": "b35a571e",
   "metadata": {},
   "outputs": [],
   "source": [
    "ON = pd.read_csv('/Users/iuliarusu/Documents/Sharpee/Clustering/clustered_bacterial_stim/ON_cluster.csv') \n",
    "OFF = pd.read_csv('/Users/iuliarusu/Documents/Sharpee/Clustering/clustered_bacterial_stim/OFF_cluster.csv')"
   ]
  },
  {
   "cell_type": "markdown",
   "id": "1dd6893c",
   "metadata": {},
   "source": [
    "# All Stim Together: ON and OFF"
   ]
  },
  {
   "cell_type": "code",
   "execution_count": 6,
   "id": "90c1b947",
   "metadata": {},
   "outputs": [],
   "source": [
    "ON_counts = np.array(ON.iloc[:, 1: -2])#this has an extra column for each cell's original id\n",
    "OFF_counts = np.array(OFF.iloc[:, 1: -2]) \n",
    "\n"
   ]
  },
  {
   "cell_type": "code",
   "execution_count": 7,
   "id": "a3d44fb4",
   "metadata": {},
   "outputs": [],
   "source": [
    "all_stim = np.concatenate((ON_counts, OFF_counts), axis=0)"
   ]
  },
  {
   "cell_type": "code",
   "execution_count": 8,
   "id": "531e342f",
   "metadata": {},
   "outputs": [],
   "source": [
    "all_stim_df = pd.DataFrame(all_stim)"
   ]
  },
  {
   "cell_type": "code",
   "execution_count": 9,
   "id": "963960d0",
   "metadata": {},
   "outputs": [],
   "source": [
    "corr_matrix = all_stim_df.T.corr()\n"
   ]
  },
  {
   "cell_type": "code",
   "execution_count": 10,
   "id": "028ea7c8",
   "metadata": {},
   "outputs": [],
   "source": [
    "distance_matrix = 1 - corr_matrix\n",
    "distance_matrix_squaredp = (1 - corr_matrix**2) * 2"
   ]
  },
  {
   "cell_type": "code",
   "execution_count": 11,
   "id": "775084ae",
   "metadata": {},
   "outputs": [
    {
     "data": {
      "text/plain": [
       "(76, 76)"
      ]
     },
     "execution_count": 11,
     "metadata": {},
     "output_type": "execute_result"
    }
   ],
   "source": [
    "distance_matrix_squaredp.shape"
   ]
  },
  {
   "cell_type": "code",
   "execution_count": 14,
   "id": "8db4cafc",
   "metadata": {},
   "outputs": [
    {
     "name": "stderr",
     "output_type": "stream",
     "text": [
      "15:17:46 - cmdstanpy - INFO - Chain [1] start processing\n",
      "15:17:54 - cmdstanpy - INFO - Chain [1] done processing\n"
     ]
    }
   ],
   "source": [
    "#dictionary to specify input to simulation\n",
    "\n",
    "# dat={'N':100, 'D':5, 'deltaij':mat_dim}\n",
    "dat = {'N': 76 , 'D': 3 , 'deltaij':distance_matrix_squaredp}\n",
    "#run optimizer\n",
    "model = ltz_m.optimize(data=dat, iter=250000, algorithm='LBFGS', tol_rel_grad=1e2)"
   ]
  },
  {
   "cell_type": "code",
   "execution_count": 15,
   "id": "a880a1ed",
   "metadata": {},
   "outputs": [
    {
     "name": "stderr",
     "output_type": "stream",
     "text": [
      "15:18:06 - cmdstanpy - WARNING - The default behavior of CmdStanMLE.stan_variable() will change in a future release to always return a numpy.ndarray, even for scalar variables.\n"
     ]
    }
   ],
   "source": [
    "# build result \n",
    "hyp_emb = {'euc':model.euc, 'sig':model.sig, 'lambda':model.stan_variable('lambda')}\n",
    "\n",
    "# # and save\n",
    "# fdname = './emb5d.pickle'\n",
    "# with open(fdname,'wb') as file:\n",
    "#     pickle.dump(hyp_emb, file,  protocol=pickle.HIGHEST_PROTOCOL)"
   ]
  },
  {
   "cell_type": "code",
   "execution_count": null,
   "id": "d4ef1297",
   "metadata": {},
   "outputs": [],
   "source": [
    "# # load existing results\n",
    "# fdname = './emb5d.pickle'\n",
    "# with open(fdname, 'rb') as file:\n",
    "#     hyp_emb = pickle.load(file)"
   ]
  },
  {
   "cell_type": "markdown",
   "id": "0f4a4cf9",
   "metadata": {},
   "source": [
    "## Some utility functions for post-processing the simulation output"
   ]
  },
  {
   "cell_type": "code",
   "execution_count": 16,
   "id": "1f033e62",
   "metadata": {},
   "outputs": [],
   "source": [
    "def d_lor(t1, t2, E1, E2):\n",
    "    return np.arccosh(t1*t2 - np.dot(E1, E2))\n",
    "\n",
    "#returns embedding distance matrix from optimization fit\n",
    "def get_embed_dmat(fit):\n",
    "    N = fit['euc'].shape[0]\n",
    "    fit_ts = np.sqrt(1.0 + np.sum(np.square(fit['euc']), axis=1))\n",
    "\n",
    "    fit_mat = np.zeros((N, N))\n",
    "\n",
    "    for i in np.arange(N):\n",
    "        for j in np.arange(i+1,N):\n",
    "            fit_mat[i][j] = d_lor(fit_ts[i], fit_ts[j], fit['euc'][i], fit['euc'][j])\n",
    "            fit_mat[j][i] = fit_mat[i][j]\n",
    "            \n",
    "    return fit_mat\n",
    "\n",
    "#return poincare coordinates\n",
    "def get_poin(fit):\n",
    "    ts = np.sqrt(1.0 + np.sum(np.square(fit['euc']), axis=1))\n",
    "    return (fit['euc'].T / (ts + 1)).T"
   ]
  },
  {
   "cell_type": "code",
   "execution_count": 17,
   "id": "dac6394d",
   "metadata": {},
   "outputs": [],
   "source": [
    "def process_sim(fit):\n",
    "    fit['emb_mat'] = get_embed_dmat(fit)/fit['lambda']\n",
    "    fit['pcoords'] = get_poin(fit)\n",
    "    fit['radii'] = 2.0*np.arctanh(np.sqrt(np.sum(np.square(fit['pcoords']), axis=1)))"
   ]
  },
  {
   "cell_type": "code",
   "execution_count": 18,
   "id": "d651f3ad",
   "metadata": {},
   "outputs": [],
   "source": [
    "#run this function after running the optimizer to process the output data into more usable forms\n",
    "process_sim(hyp_emb)"
   ]
  },
  {
   "cell_type": "code",
   "execution_count": 19,
   "id": "8d3b4c66",
   "metadata": {},
   "outputs": [
    {
     "data": {
      "text/plain": [
       "3.54521"
      ]
     },
     "execution_count": 19,
     "metadata": {},
     "output_type": "execute_result"
    }
   ],
   "source": [
    "#curvature (or radius)\n",
    "hyp_emb['lambda']"
   ]
  },
  {
   "cell_type": "code",
   "execution_count": 20,
   "id": "fa441edb",
   "metadata": {},
   "outputs": [
    {
     "data": {
      "text/plain": [
       "array([[-0.2073611 , -0.35166573,  0.85590138],\n",
       "       [-0.15804397, -0.41568042,  0.83461587],\n",
       "       [-0.05761987, -0.29206755,  0.90083139],\n",
       "       [-0.2218657 , -0.34513735,  0.85669633],\n",
       "       [-0.0116589 , -0.59916326,  0.73954745],\n",
       "       [ 0.21518556, -0.23746569,  0.90098206],\n",
       "       [-0.08762214, -0.39396062,  0.86190738],\n",
       "       [-0.56798337, -0.76975724,  0.03279567],\n",
       "       [-0.16800605, -0.38433842,  0.84613342],\n",
       "       [-0.22679727, -0.39253338,  0.83199157],\n",
       "       [-0.02120175, -0.32493044,  0.8962364 ],\n",
       "       [-0.1710051 , -0.34736652,  0.8700977 ],\n",
       "       [-0.15799789, -0.47063296,  0.8046063 ],\n",
       "       [ 0.02677232, -0.38148167,  0.87226497],\n",
       "       [ 0.58178539,  0.02365723, -0.73132843],\n",
       "       [ 0.56371983, -0.24133622, -0.7285364 ],\n",
       "       [ 0.59974309, -0.03955602, -0.72319272],\n",
       "       [ 0.16824506, -0.29716482, -0.88216091],\n",
       "       [ 0.59724167,  0.01107186, -0.71439596],\n",
       "       [ 0.60950369, -0.07252989, -0.70860875],\n",
       "       [ 0.04527543,  0.5376289 , -0.79051413],\n",
       "       [ 0.55699139,  0.02151488, -0.75575453],\n",
       "       [ 0.52105576, -0.36183461, -0.70831159],\n",
       "       [ 0.23227957, -0.71509376, -0.5885016 ],\n",
       "       [ 0.47784784, -0.08793741, -0.80774869],\n",
       "       [ 0.77794305,  0.10778518, -0.54327297],\n",
       "       [ 0.51628229, -0.12067311, -0.78274695],\n",
       "       [ 0.56671084, -0.05709654, -0.74270627],\n",
       "       [ 0.36613369, -0.21217876, -0.84766971],\n",
       "       [ 0.50316767, -0.22650859, -0.7710191 ],\n",
       "       [ 0.53535526,  0.19373568, -0.76624027],\n",
       "       [ 0.60780225,  0.13184005, -0.70718298],\n",
       "       [ 0.56335693, -0.12761996, -0.7412702 ],\n",
       "       [ 0.34110626,  0.08687806, -0.87606794],\n",
       "       [ 0.27845831, -0.00820594, -0.9096004 ],\n",
       "       [ 0.63904631,  0.02479442, -0.6848754 ],\n",
       "       [ 0.79994216,  0.14129608, -0.49497625],\n",
       "       [ 0.79993451, -0.0643685 , -0.51387373],\n",
       "       [ 0.68705058, -0.25573174, -0.60261822],\n",
       "       [-0.42628882, -0.35284484,  0.76851817],\n",
       "       [-0.24148354, -0.43102619,  0.80624903],\n",
       "       [-0.40055551, -0.62181523,  0.59887475],\n",
       "       [-0.14649982, -0.5889736 ,  0.73542939],\n",
       "       [-0.47672947, -0.56033235,  0.60193346],\n",
       "       [-0.15487465, -0.25709952,  0.90346277],\n",
       "       [-0.88451996,  0.24655655,  0.22983987],\n",
       "       [-0.83010571, -0.38858031, -0.2882279 ],\n",
       "       [-0.6323762 ,  0.71111097,  0.1136652 ],\n",
       "       [-0.80699909,  0.03090659,  0.48046342],\n",
       "       [-0.58196947,  0.7444283 ,  0.15638249],\n",
       "       [-0.95299573, -0.05857706, -0.1138045 ],\n",
       "       [-0.82417474,  0.14070579, -0.45862933],\n",
       "       [-0.87419952,  0.33757974,  0.14452917],\n",
       "       [-0.88018632,  0.06676203,  0.34395742],\n",
       "       [-0.89098229,  0.34643462,  0.01364643],\n",
       "       [-0.76156341,  0.42687712, -0.39803053],\n",
       "       [-0.8112962 ,  0.18302438,  0.44809278],\n",
       "       [ 0.40101744,  0.81819131, -0.25454893],\n",
       "       [ 0.26657659,  0.84546385, -0.30792423],\n",
       "       [ 0.57576537, -0.74968361, -0.09612392],\n",
       "       [ 0.72799334,  0.31032387, -0.50092116],\n",
       "       [ 0.7637711 ,  0.56507341, -0.03577634],\n",
       "       [ 0.78537482,  0.51463703,  0.17195533],\n",
       "       [ 0.51843398,  0.49079959, -0.61355644],\n",
       "       [ 0.43561684,  0.73135461, -0.4134412 ],\n",
       "       [ 0.84495059,  0.39868597, -0.18024468],\n",
       "       [ 0.56470617,  0.37832846, -0.65465283],\n",
       "       [ 0.72235109,  0.57506199, -0.22132529],\n",
       "       [ 0.73188064,  0.4928982 , -0.32491928],\n",
       "       [ 0.93074244,  0.14353743, -0.07290977],\n",
       "       [ 0.64562898,  0.42512761, -0.52474034],\n",
       "       [ 0.53576095,  0.7795859 , -0.08196801],\n",
       "       [ 0.63479833,  0.36520138, -0.58323633],\n",
       "       [-0.84402185,  0.35767669,  0.2530602 ],\n",
       "       [-0.81637474,  0.50180844,  0.03206888],\n",
       "       [-0.54953582,  0.2443381 ,  0.73612788]])"
      ]
     },
     "execution_count": 20,
     "metadata": {},
     "output_type": "execute_result"
    }
   ],
   "source": [
    "#poincare embedding coordinates\n",
    "hyp_emb['pcoords']"
   ]
  },
  {
   "cell_type": "code",
   "execution_count": 21,
   "id": "b7366ca2",
   "metadata": {},
   "outputs": [
    {
     "name": "stdout",
     "output_type": "stream",
     "text": [
      "Stored 'ON_OFF_pcoords_sphere' (ndarray)\n"
     ]
    }
   ],
   "source": [
    "ON_OFF_pcoords_sphere = hyp_emb['pcoords']\n",
    "%store ON_OFF_pcoords_sphere"
   ]
  },
  {
   "cell_type": "code",
   "execution_count": 46,
   "id": "e968b98f",
   "metadata": {},
   "outputs": [
    {
     "name": "stdout",
     "output_type": "stream",
     "text": [
      "Stored 'ON_OFF_pcoords' (ndarray)\n"
     ]
    }
   ],
   "source": [
    "ON_OFF_pcoords = hyp_emb['pcoords']\n",
    "%store ON_OFF_pcoords"
   ]
  },
  {
   "cell_type": "code",
   "execution_count": 47,
   "id": "d2761a41",
   "metadata": {},
   "outputs": [
    {
     "name": "stdout",
     "output_type": "stream",
     "text": [
      "Stored variables and their in-db values:\n",
      "AVA_0_df                             ->            0         1         2         3        \n",
      "AVA_RME_stim0_labels                 -> array(['AVA', 'AVA', 'AVA', 'AVA', 'AVA', 'AVA', '\n",
      "AVA_RME_stim0_pcoords                -> array([[-0.12281661, -0.05609896, -0.21207597, -0.\n",
      "AVA_RME_stim1_labels                 -> array(['AVA', 'AVA', 'AVA', 'AVA', 'AVA', 'AVA', '\n",
      "AVA_RME_stim1_pcoords                -> array([[ 4.50658786e-01,  4.15805332e-02,  1.84402\n",
      "ON_OFF_pcoords                       -> array([[ 0.07966197,  0.00259599,  0.12440066,  0.\n",
      "RME_0_df                             ->            0         1         2         3        \n",
      "SMDD_0_df                            ->           0         1         2         3        4\n",
      "SMDD_SMDV_stim0_labels               -> array(['SMDD', 'SMDD', 'SMDD', 'SMDD', 'SMDD', 'SM\n",
      "SMDD_SMDV_stim0_pcoords              -> array([[ 0.29088065, -0.09782843,  0.93438751],\n",
      "  \n",
      "SMDD_SMDV_stim1_labels               -> array(['SMDD', 'SMDD', 'SMDD', 'SMDD', 'SMDD', 'SM\n",
      "SMDD_SMDV_stim1_pcoords              -> array([[-0.82962275, -0.41191753,  0.35303398],\n",
      "  \n",
      "SMVD_0_df                            ->            0        1         2         3    4    \n",
      "clust_labs_AVA_RME_stim1             -> ['RME', 'RME', 'RME', 'RME', 'RME', 'RME', 'RME', \n",
      "hyp_emb                              -> {'euc': array([[ 7.99811e-01,  3.53625e+00,  4.045\n",
      "pcoords_AVA_RME_stim1                -> array([[ 0.76242116,  0.48985351, -0.31050488],\n",
      "  \n",
      "sensory_cells                        -> array([[1.11844192e-01, 9.99277417e-01, 1.92603892\n",
      "sensory_pcoords                      -> array([[ 1.50144439e-01, -7.43878432e-01,  1.56969\n",
      "stim_1_AVA_RME                       ->             0         1         2         3       \n",
      "stim_1_AVA_RME_labels                ->     worm_id  stim_group  OriginalIndex\n",
      "0         4\n"
     ]
    }
   ],
   "source": [
    "%store"
   ]
  },
  {
   "cell_type": "code",
   "execution_count": 27,
   "id": "e0b8162b",
   "metadata": {},
   "outputs": [
    {
     "data": {
      "text/plain": [
       "dict_keys(['euc', 'sig', 'lambda', 'emb_mat', 'pcoords', 'radii'])"
      ]
     },
     "execution_count": 27,
     "metadata": {},
     "output_type": "execute_result"
    }
   ],
   "source": [
    "#emebdding uncertainties\n",
    "hyp_emb.keys()"
   ]
  },
  {
   "cell_type": "markdown",
   "id": "ffa4a0f2",
   "metadata": {},
   "source": [
    "# Shepard Diagram"
   ]
  },
  {
   "cell_type": "code",
   "execution_count": 19,
   "id": "b68aec1a",
   "metadata": {},
   "outputs": [],
   "source": [
    "rcParams['font.family'] = 'sans-serif'\n",
    "rcParams['font.sans-serif'] = 'Arial'"
   ]
  },
  {
   "cell_type": "code",
   "execution_count": 20,
   "id": "c3ed0ead",
   "metadata": {},
   "outputs": [
    {
     "data": {
      "text/plain": [
       "Text(0.5, 0, 'Embedding Uncertainties')"
      ]
     },
     "execution_count": 20,
     "metadata": {},
     "output_type": "execute_result"
    },
    {
     "data": {
      "image/png": "[encoded data removed]",
      "text/plain": [
       "<Figure size 1500x750 with 2 Axes>"
      ]
     },
     "metadata": {},
     "output_type": "display_data"
    }
   ],
   "source": [
    "fig, ax = plt.subplots(1, 2, figsize=(15,7.5))\n",
    "\n",
    "ax[0].scatter(distance_matrix_squaredp.values[np.triu_indices(69, k=1)], hyp_emb['emb_mat'][np.triu_indices(69, k=1)], c='cornflowerblue') #cornflowerblue, lightcoral\n",
    "ax[0].plot(np.arange(3), np.arange(3), c='black', linewidth=5, alpha=0.5)\n",
    "\n",
    "ax[0].set_xlabel('Original Distances', fontsize=20)\n",
    "ax[0].set_ylabel('Embedding Distances / $\\lambda$', fontsize=20)\n",
    "\n",
    "ax[1].hist(hyp_emb['sig'], color ='cornflowerblue') #cornflowerblue, lightcoral\n",
    "ax[1].set_xlabel('Embedding Uncertainties', fontsize=20)"
   ]
  },
  {
   "cell_type": "code",
   "execution_count": 21,
   "id": "7ea16b78",
   "metadata": {},
   "outputs": [],
   "source": [
    "hyperbolic_df= pd.DataFrame(hyp_emb['pcoords'], columns=['x', 'y', 'z'])\n",
    "\n"
   ]
  },
  {
   "cell_type": "code",
   "execution_count": 48,
   "id": "5d354ac2",
   "metadata": {},
   "outputs": [
    {
     "name": "stdout",
     "output_type": "stream",
     "text": [
      "Stored 'ON_OFF_labels' (ndarray)\n"
     ]
    }
   ],
   "source": [
    "%store ON_OFF_labels "
   ]
  },
  {
   "cell_type": "code",
   "execution_count": 22,
   "id": "59d435bd",
   "metadata": {},
   "outputs": [
    {
     "data": {
      "text/html": [
       "<div>\n",
       "<style scoped>\n",
       "    .dataframe tbody tr th:only-of-type {\n",
       "        vertical-align: middle;\n",
       "    }\n",
       "\n",
       "    .dataframe tbody tr th {\n",
       "        vertical-align: top;\n",
       "    }\n",
       "\n",
       "    .dataframe thead th {\n",
       "        text-align: right;\n",
       "    }\n",
       "</style>\n",
       "<table border=\"1\" class=\"dataframe\">\n",
       "  <thead>\n",
       "    <tr style=\"text-align: right;\">\n",
       "      <th></th>\n",
       "      <th>x</th>\n",
       "      <th>y</th>\n",
       "      <th>z</th>\n",
       "      <th>cluster labels</th>\n",
       "    </tr>\n",
       "  </thead>\n",
       "  <tbody>\n",
       "    <tr>\n",
       "      <th>0</th>\n",
       "      <td>-0.019547</td>\n",
       "      <td>-0.152189</td>\n",
       "      <td>0.941846</td>\n",
       "      <td>ON</td>\n",
       "    </tr>\n",
       "    <tr>\n",
       "      <th>1</th>\n",
       "      <td>0.024429</td>\n",
       "      <td>-0.214935</td>\n",
       "      <td>0.927400</td>\n",
       "      <td>ON</td>\n",
       "    </tr>\n",
       "    <tr>\n",
       "      <th>2</th>\n",
       "      <td>0.139945</td>\n",
       "      <td>-0.162845</td>\n",
       "      <td>0.931738</td>\n",
       "      <td>ON</td>\n",
       "    </tr>\n",
       "    <tr>\n",
       "      <th>3</th>\n",
       "      <td>-0.033355</td>\n",
       "      <td>-0.144818</td>\n",
       "      <td>0.944120</td>\n",
       "      <td>ON</td>\n",
       "    </tr>\n",
       "    <tr>\n",
       "      <th>4</th>\n",
       "      <td>0.181220</td>\n",
       "      <td>-0.389027</td>\n",
       "      <td>0.856557</td>\n",
       "      <td>ON</td>\n",
       "    </tr>\n",
       "    <tr>\n",
       "      <th>...</th>\n",
       "      <td>...</td>\n",
       "      <td>...</td>\n",
       "      <td>...</td>\n",
       "      <td>...</td>\n",
       "    </tr>\n",
       "    <tr>\n",
       "      <th>71</th>\n",
       "      <td>0.173086</td>\n",
       "      <td>0.913671</td>\n",
       "      <td>-0.222343</td>\n",
       "      <td>OFF</td>\n",
       "    </tr>\n",
       "    <tr>\n",
       "      <th>72</th>\n",
       "      <td>0.377375</td>\n",
       "      <td>0.575544</td>\n",
       "      <td>-0.644641</td>\n",
       "      <td>OFF</td>\n",
       "    </tr>\n",
       "    <tr>\n",
       "      <th>73</th>\n",
       "      <td>-0.815986</td>\n",
       "      <td>-0.474793</td>\n",
       "      <td>0.142062</td>\n",
       "      <td>OFF</td>\n",
       "    </tr>\n",
       "    <tr>\n",
       "      <th>74</th>\n",
       "      <td>-0.789543</td>\n",
       "      <td>-0.537976</td>\n",
       "      <td>-0.120339</td>\n",
       "      <td>OFF</td>\n",
       "    </tr>\n",
       "    <tr>\n",
       "      <th>75</th>\n",
       "      <td>-0.334760</td>\n",
       "      <td>-0.704782</td>\n",
       "      <td>0.552310</td>\n",
       "      <td>OFF</td>\n",
       "    </tr>\n",
       "  </tbody>\n",
       "</table>\n",
       "<p>76 rows × 4 columns</p>\n",
       "</div>"
      ],
      "text/plain": [
       "           x         y         z cluster labels\n",
       "0  -0.019547 -0.152189  0.941846             ON\n",
       "1   0.024429 -0.214935  0.927400             ON\n",
       "2   0.139945 -0.162845  0.931738             ON\n",
       "3  -0.033355 -0.144818  0.944120             ON\n",
       "4   0.181220 -0.389027  0.856557             ON\n",
       "..       ...       ...       ...            ...\n",
       "71  0.173086  0.913671 -0.222343            OFF\n",
       "72  0.377375  0.575544 -0.644641            OFF\n",
       "73 -0.815986 -0.474793  0.142062            OFF\n",
       "74 -0.789543 -0.537976 -0.120339            OFF\n",
       "75 -0.334760 -0.704782  0.552310            OFF\n",
       "\n",
       "[76 rows x 4 columns]"
      ]
     },
     "execution_count": 22,
     "metadata": {},
     "output_type": "execute_result"
    }
   ],
   "source": [
    "column = ['ON'] * (ON.shape[0]) + ['OFF'] * (OFF.shape[0]) \n",
    "ON_OFF_labels = np.array(column)\n",
    "hyperbolic_df['cluster labels'] = ON_OFF_labels.T\n",
    "hyperbolic_df"
   ]
  },
  {
   "cell_type": "code",
   "execution_count": 49,
   "id": "09b7a13f",
   "metadata": {},
   "outputs": [
    {
     "data": {
      "application/vnd.plotly.v1+json": {
       "config": {
        "plotlyServerURL": "https://plot.ly"
       },
       "data": [
        {
         "hovertemplate": "cluster labels=ON<br>x=%{x}<br>y=%{y}<br>z=%{z}<extra></extra>",
         "legendgroup": "ON",
         "marker": {
          "color": "#636efa",
          "symbol": "circle"
         },
         "mode": "markers",
         "name": "ON",
         "scene": "scene",
         "showlegend": true,
         "type": "scatter3d",
         "x": [
          -0.019547107270290097,
          0.024428732465202736,
          0.13994548551611685,
          -0.033355204958668366,
          0.18122049151440256,
          0.37848002411956455,
          0.08883913443677577,
          -0.6090830057196998,
          0.020596172288974673,
          -0.02443746628878864,
          0.14562429950935737,
          0.013580461372310167,
          0.0070509555519863145,
          0.20511671212738528,
          0.5894294046085757,
          0.6698673205414255,
          0.5937019082285142,
          0.8922077555486617,
          0.5775769322330847,
          0.6253981045159701,
          -0.18197500129907263,
          0.6140188343525164,
          0.6993800047064431,
          0.7058497278998064,
          0.7147898780137281,
          0.3247429211821002,
          0.7040614342496914,
          0.6236329099914736,
          0.8064470277260998,
          0.7144022094166445,
          0.5486063166091236,
          0.5154161169445883,
          0.6627240751129512,
          0.7454571258453958,
          0.8150588482133425,
          0.5398151596499967,
          0.26634959818648013,
          0.37167116265992617,
          0.5449224253453403,
          -0.22841019985760738,
          -0.06971217583546065,
          -0.32950745273364623,
          0.046335471158874146,
          -0.37692111851183774,
          0.054266576639295516
         ],
         "y": [
          -0.15218917872311422,
          -0.21493464138271323,
          -0.16284507113634358,
          -0.14481806508659026,
          -0.3890266461933572,
          -0.053374837655090906,
          -0.21861755478880854,
          0.44898838010300063,
          -0.1776689243992843,
          -0.20096198149158803,
          -0.10506027716308929,
          -0.13148115547307396,
          -0.26920891886868586,
          -0.16790881269564653,
          0.28454406146797434,
          0.04916213586562958,
          0.20384190297478516,
          -0.008891318238288808,
          0.2663271306115035,
          0.22689558502458562,
          0.15314472076391972,
          0.29369765313928586,
          -0.07321988637343155,
          -0.4834457074894538,
          0.155299250516106,
          0.3310791856081161,
          0.21612051120121556,
          0.19946342097582007,
          0.09264333774593377,
          0.06474580524494034,
          0.43592407694774243,
          0.3702062020152276,
          0.16177592368038213,
          0.38027882537201213,
          0.2988781430927432,
          0.2695895648947205,
          0.3616226269333881,
          0.17031736331146619,
          0.0015830070992030876,
          -0.243144849556764,
          -0.20497146523901083,
          -0.0030410307334791647,
          -0.382549935230959,
          -0.07101956485826456,
          -0.06646141167737084
         ],
         "z": [
          0.9418457618152715,
          0.9273998719831036,
          0.9317377977036085,
          0.9441199959763928,
          0.8565574382012849,
          0.8823782265448153,
          0.9276434877757668,
          0.5944589418191872,
          0.9340114078647943,
          0.9322365550263509,
          0.941834570136388,
          0.9486894422684701,
          0.9139542151920147,
          0.920401803597184,
          -0.6740723956041188,
          -0.6814397034371155,
          -0.7043501997681696,
          -0.33182504321995027,
          -0.6863840422259234,
          -0.6688830656690661,
          -0.9298805025971503,
          -0.6542659766208581,
          -0.6470313839942596,
          -0.43425749006419706,
          -0.6026843267255679,
          -0.8359268369007016,
          -0.5997128731272992,
          -0.6739026452454216,
          -0.4984294195368565,
          -0.6272455446699724,
          -0.6574135561062864,
          -0.7021636555716392,
          -0.6537482008937965,
          -0.4504189678037433,
          -0.40038254757644165,
          -0.7220256817018488,
          -0.8397502756120568,
          -0.8638530272027684,
          -0.7822287495516405,
          0.8928086584675613,
          0.9278017750444785,
          0.8994246075886336,
          0.8790857513755702,
          0.8766523675569218,
          0.9533968805643098
         ]
        },
        {
         "hovertemplate": "cluster labels=OFF<br>x=%{x}<br>y=%{y}<br>z=%{z}<extra></extra>",
         "legendgroup": "OFF",
         "marker": {
          "color": "#EF553B",
          "symbol": "circle"
         },
         "mode": "markers",
         "name": "OFF",
         "scene": "scene",
         "showlegend": true,
         "type": "scatter3d",
         "x": [
          -0.7485262621346646,
          -0.08415334074111581,
          -0.877675433599444,
          -0.623159006214546,
          -0.8897990107224538,
          -0.955048839261824,
          -0.4347586714911104,
          -0.7677632002936563,
          -0.7331877008935413,
          -0.7215057276982589,
          -0.884003593320051,
          -0.6433826155621261,
          0.014470181929935846,
          0.16491562586391353,
          0.07552085413325821,
          0.2788090236011077,
          -0.09763587571009985,
          -0.30822903806919955,
          0.43240217613372867,
          -0.30638297238709694,
          -0.03754712877966479,
          0.45528708037666193,
          0.06417740436794127,
          0.1421554225770031,
          -0.10023552649525527,
          0.3242717887363011,
          0.1730863983069011,
          0.3773750475957163,
          -0.8159864122374959,
          -0.7895432425643144,
          -0.3347595228126156
         ],
         "y": [
          -0.5543770417117257,
          -0.9623989300441382,
          -0.31057268811109445,
          -0.5146691105797662,
          -0.24851120178816188,
          0.12157123652100892,
          -0.7701342881970412,
          -0.5590695198466359,
          -0.4612153598554941,
          -0.634606244331351,
          0.018662509080813676,
          -0.593118730155628,
          0.9402389057064879,
          0.9266502269898196,
          -0.630342850390366,
          0.5485387151368586,
          0.8460437285025945,
          0.8229528145076226,
          0.6785646004067664,
          0.6414337814305832,
          0.6880803949116315,
          0.5974327731525236,
          0.811122839463292,
          0.7411169520248623,
          0.5056229630319493,
          0.6347921802007193,
          0.9136705349703925,
          0.5755443871253463,
          -0.4747932463181163,
          -0.5379758722960329,
          -0.7047822881493776
         ],
         "z": [
          0.19494523883263484,
          0.0077908294396475,
          -0.24302941225815874,
          0.4913452976884351,
          -0.2667151216346924,
          0.025203670097008572,
          -0.3708235254671302,
          0.0780379836428294,
          0.39675007782566424,
          -0.012014606734954891,
          0.3861799309679728,
          0.36962386678818243,
          -0.11571375952869964,
          0.004579794714013444,
          -0.7103361606654707,
          -0.7116119814993559,
          -0.4289830595353785,
          -0.37979046097125935,
          -0.5025682199051205,
          -0.620345442171773,
          -0.6605942769430992,
          -0.5814782473392774,
          -0.49663684781039147,
          -0.5680760853820322,
          -0.7993152687889891,
          -0.6139443629857388,
          -0.22234308693155758,
          -0.6446405091265464,
          0.1420616106954252,
          -0.12033862201477052,
          0.5523098251167189
         ]
        }
       ],
       "layout": {
        "legend": {
         "title": {
          "text": "cluster labels"
         },
         "tracegroupgap": 0
        },
        "scene": {
         "domain": {
          "x": [
           0,
           1
          ],
          "y": [
           0,
           1
          ]
         },
         "xaxis": {
          "ticktext": [
           -1,
           -0.5,
           0,
           0.5,
           1
          ],
          "title": {
           "text": "x"
          }
         },
         "yaxis": {
          "ticktext": [
           -1,
           -0.5,
           0,
           0.5,
           1
          ],
          "title": {
           "text": "y"
          }
         },
         "zaxis": {
          "ticktext": [
           -1,
           -0.5,
           0,
           0.5,
           1
          ],
          "title": {
           "text": "z"
          }
         }
        },
        "template": {
         "data": {
          "bar": [
           {
            "error_x": {
             "color": "#2a3f5f"
            },
            "error_y": {
             "color": "#2a3f5f"
            },
            "marker": {
             "line": {
              "color": "#E5ECF6",
              "width": 0.5
             },
             "pattern": {
              "fillmode": "overlay",
              "size": 10,
              "solidity": 0.2
             }
            },
            "type": "bar"
           }
          ],
          "barpolar": [
           {
            "marker": {
             "line": {
              "color": "#E5ECF6",
              "width": 0.5
             },
             "pattern": {
              "fillmode": "overlay",
              "size": 10,
              "solidity": 0.2
             }
            },
            "type": "barpolar"
           }
          ],
          "carpet": [
           {
            "aaxis": {
             "endlinecolor": "#2a3f5f",
             "gridcolor": "white",
             "linecolor": "white",
             "minorgridcolor": "white",
             "startlinecolor": "#2a3f5f"
            },
            "baxis": {
             "endlinecolor": "#2a3f5f",
             "gridcolor": "white",
             "linecolor": "white",
             "minorgridcolor": "white",
             "startlinecolor": "#2a3f5f"
            },
            "type": "carpet"
           }
          ],
          "choropleth": [
           {
            "colorbar": {
             "outlinewidth": 0,
             "ticks": ""
            },
            "type": "choropleth"
           }
          ],
          "contour": [
           {
            "colorbar": {
             "outlinewidth": 0,
             "ticks": ""
            },
            "colorscale": [
             [
              0,
              "#0d0887"
             ],
             [
              0.1111111111111111,
              "#46039f"
             ],
             [
              0.2222222222222222,
              "#7201a8"
             ],
             [
              0.3333333333333333,
              "#9c179e"
             ],
             [
              0.4444444444444444,
              "#bd3786"
             ],
             [
              0.5555555555555556,
              "#d8576b"
             ],
             [
              0.6666666666666666,
              "#ed7953"
             ],
             [
              0.7777777777777778,
              "#fb9f3a"
             ],
             [
              0.8888888888888888,
              "#fdca26"
             ],
             [
              1,
              "#f0f921"
             ]
            ],
            "type": "contour"
           }
          ],
          "contourcarpet": [
           {
            "colorbar": {
             "outlinewidth": 0,
             "ticks": ""
            },
            "type": "contourcarpet"
           }
          ],
          "heatmap": [
           {
            "colorbar": {
             "outlinewidth": 0,
             "ticks": ""
            },
            "colorscale": [
             [
              0,
              "#0d0887"
             ],
             [
              0.1111111111111111,
              "#46039f"
             ],
             [
              0.2222222222222222,
              "#7201a8"
             ],
             [
              0.3333333333333333,
              "#9c179e"
             ],
             [
              0.4444444444444444,
              "#bd3786"
             ],
             [
              0.5555555555555556,
              "#d8576b"
             ],
             [
              0.6666666666666666,
              "#ed7953"
             ],
             [
              0.7777777777777778,
              "#fb9f3a"
             ],
             [
              0.8888888888888888,
              "#fdca26"
             ],
             [
              1,
              "#f0f921"
             ]
            ],
            "type": "heatmap"
           }
          ],
          "heatmapgl": [
           {
            "colorbar": {
             "outlinewidth": 0,
             "ticks": ""
            },
            "colorscale": [
             [
              0,
              "#0d0887"
             ],
             [
              0.1111111111111111,
              "#46039f"
             ],
             [
              0.2222222222222222,
              "#7201a8"
             ],
             [
              0.3333333333333333,
              "#9c179e"
             ],
             [
              0.4444444444444444,
              "#bd3786"
             ],
             [
              0.5555555555555556,
              "#d8576b"
             ],
             [
              0.6666666666666666,
              "#ed7953"
             ],
             [
              0.7777777777777778,
              "#fb9f3a"
             ],
             [
              0.8888888888888888,
              "#fdca26"
             ],
             [
              1,
              "#f0f921"
             ]
            ],
            "type": "heatmapgl"
           }
          ],
          "histogram": [
           {
            "marker": {
             "pattern": {
              "fillmode": "overlay",
              "size": 10,
              "solidity": 0.2
             }
            },
            "type": "histogram"
           }
          ],
          "histogram2d": [
           {
            "colorbar": {
             "outlinewidth": 0,
             "ticks": ""
            },
            "colorscale": [
             [
              0,
              "#0d0887"
             ],
             [
              0.1111111111111111,
              "#46039f"
             ],
             [
              0.2222222222222222,
              "#7201a8"
             ],
             [
              0.3333333333333333,
              "#9c179e"
             ],
             [
              0.4444444444444444,
              "#bd3786"
             ],
             [
              0.5555555555555556,
              "#d8576b"
             ],
             [
              0.6666666666666666,
              "#ed7953"
             ],
             [
              0.7777777777777778,
              "#fb9f3a"
             ],
             [
              0.8888888888888888,
              "#fdca26"
             ],
             [
              1,
              "#f0f921"
             ]
            ],
            "type": "histogram2d"
           }
          ],
          "histogram2dcontour": [
           {
            "colorbar": {
             "outlinewidth": 0,
             "ticks": ""
            },
            "colorscale": [
             [
              0,
              "#0d0887"
             ],
             [
              0.1111111111111111,
              "#46039f"
             ],
             [
              0.2222222222222222,
              "#7201a8"
             ],
             [
              0.3333333333333333,
              "#9c179e"
             ],
             [
              0.4444444444444444,
              "#bd3786"
             ],
             [
              0.5555555555555556,
              "#d8576b"
             ],
             [
              0.6666666666666666,
              "#ed7953"
             ],
             [
              0.7777777777777778,
              "#fb9f3a"
             ],
             [
              0.8888888888888888,
              "#fdca26"
             ],
             [
              1,
              "#f0f921"
             ]
            ],
            "type": "histogram2dcontour"
           }
          ],
          "mesh3d": [
           {
            "colorbar": {
             "outlinewidth": 0,
             "ticks": ""
            },
            "type": "mesh3d"
           }
          ],
          "parcoords": [
           {
            "line": {
             "colorbar": {
              "outlinewidth": 0,
              "ticks": ""
             }
            },
            "type": "parcoords"
           }
          ],
          "pie": [
           {
            "automargin": true,
            "type": "pie"
           }
          ],
          "scatter": [
           {
            "fillpattern": {
             "fillmode": "overlay",
             "size": 10,
             "solidity": 0.2
            },
            "type": "scatter"
           }
          ],
          "scatter3d": [
           {
            "line": {
             "colorbar": {
              "outlinewidth": 0,
              "ticks": ""
             }
            },
            "marker": {
             "colorbar": {
              "outlinewidth": 0,
              "ticks": ""
             }
            },
            "type": "scatter3d"
           }
          ],
          "scattercarpet": [
           {
            "marker": {
             "colorbar": {
              "outlinewidth": 0,
              "ticks": ""
             }
            },
            "type": "scattercarpet"
           }
          ],
          "scattergeo": [
           {
            "marker": {
             "colorbar": {
              "outlinewidth": 0,
              "ticks": ""
             }
            },
            "type": "scattergeo"
           }
          ],
          "scattergl": [
           {
            "marker": {
             "colorbar": {
              "outlinewidth": 0,
              "ticks": ""
             }
            },
            "type": "scattergl"
           }
          ],
          "scattermapbox": [
           {
            "marker": {
             "colorbar": {
              "outlinewidth": 0,
              "ticks": ""
             }
            },
            "type": "scattermapbox"
           }
          ],
          "scatterpolar": [
           {
            "marker": {
             "colorbar": {
              "outlinewidth": 0,
              "ticks": ""
             }
            },
            "type": "scatterpolar"
           }
          ],
          "scatterpolargl": [
           {
            "marker": {
             "colorbar": {
              "outlinewidth": 0,
              "ticks": ""
             }
            },
            "type": "scatterpolargl"
           }
          ],
          "scatterternary": [
           {
            "marker": {
             "colorbar": {
              "outlinewidth": 0,
              "ticks": ""
             }
            },
            "type": "scatterternary"
           }
          ],
          "surface": [
           {
            "colorbar": {
             "outlinewidth": 0,
             "ticks": ""
            },
            "colorscale": [
             [
              0,
              "#0d0887"
             ],
             [
              0.1111111111111111,
              "#46039f"
             ],
             [
              0.2222222222222222,
              "#7201a8"
             ],
             [
              0.3333333333333333,
              "#9c179e"
             ],
             [
              0.4444444444444444,
              "#bd3786"
             ],
             [
              0.5555555555555556,
              "#d8576b"
             ],
             [
              0.6666666666666666,
              "#ed7953"
             ],
             [
              0.7777777777777778,
              "#fb9f3a"
             ],
             [
              0.8888888888888888,
              "#fdca26"
             ],
             [
              1,
              "#f0f921"
             ]
            ],
            "type": "surface"
           }
          ],
          "table": [
           {
            "cells": {
             "fill": {
              "color": "#EBF0F8"
             },
             "line": {
              "color": "white"
             }
            },
            "header": {
             "fill": {
              "color": "#C8D4E3"
             },
             "line": {
              "color": "white"
             }
            },
            "type": "table"
           }
          ]
         },
         "layout": {
          "annotationdefaults": {
           "arrowcolor": "#2a3f5f",
           "arrowhead": 0,
           "arrowwidth": 1
          },
          "autotypenumbers": "strict",
          "coloraxis": {
           "colorbar": {
            "outlinewidth": 0,
            "ticks": ""
           }
          },
          "colorscale": {
           "diverging": [
            [
             0,
             "#8e0152"
            ],
            [
             0.1,
             "#c51b7d"
            ],
            [
             0.2,
             "#de77ae"
            ],
            [
             0.3,
             "#f1b6da"
            ],
            [
             0.4,
             "#fde0ef"
            ],
            [
             0.5,
             "#f7f7f7"
            ],
            [
             0.6,
             "#e6f5d0"
            ],
            [
             0.7,
             "#b8e186"
            ],
            [
             0.8,
             "#7fbc41"
            ],
            [
             0.9,
             "#4d9221"
            ],
            [
             1,
             "#276419"
            ]
           ],
           "sequential": [
            [
             0,
             "#0d0887"
            ],
            [
             0.1111111111111111,
             "#46039f"
            ],
            [
             0.2222222222222222,
             "#7201a8"
            ],
            [
             0.3333333333333333,
             "#9c179e"
            ],
            [
             0.4444444444444444,
             "#bd3786"
            ],
            [
             0.5555555555555556,
             "#d8576b"
            ],
            [
             0.6666666666666666,
             "#ed7953"
            ],
            [
             0.7777777777777778,
             "#fb9f3a"
            ],
            [
             0.8888888888888888,
             "#fdca26"
            ],
            [
             1,
             "#f0f921"
            ]
           ],
           "sequentialminus": [
            [
             0,
             "#0d0887"
            ],
            [
             0.1111111111111111,
             "#46039f"
            ],
            [
             0.2222222222222222,
             "#7201a8"
            ],
            [
             0.3333333333333333,
             "#9c179e"
            ],
            [
             0.4444444444444444,
             "#bd3786"
            ],
            [
             0.5555555555555556,
             "#d8576b"
            ],
            [
             0.6666666666666666,
             "#ed7953"
            ],
            [
             0.7777777777777778,
             "#fb9f3a"
            ],
            [
             0.8888888888888888,
             "#fdca26"
            ],
            [
             1,
             "#f0f921"
            ]
           ]
          },
          "colorway": [
           "#636efa",
           "#EF553B",
           "#00cc96",
           "#ab63fa",
           "#FFA15A",
           "#19d3f3",
           "#FF6692",
           "#B6E880",
           "#FF97FF",
           "#FECB52"
          ],
          "font": {
           "color": "#2a3f5f"
          },
          "geo": {
           "bgcolor": "white",
           "lakecolor": "white",
           "landcolor": "#E5ECF6",
           "showlakes": true,
           "showland": true,
           "subunitcolor": "white"
          },
          "hoverlabel": {
           "align": "left"
          },
          "hovermode": "closest",
          "mapbox": {
           "style": "light"
          },
          "paper_bgcolor": "white",
          "plot_bgcolor": "#E5ECF6",
          "polar": {
           "angularaxis": {
            "gridcolor": "white",
            "linecolor": "white",
            "ticks": ""
           },
           "bgcolor": "#E5ECF6",
           "radialaxis": {
            "gridcolor": "white",
            "linecolor": "white",
            "ticks": ""
           }
          },
          "scene": {
           "xaxis": {
            "backgroundcolor": "#E5ECF6",
            "gridcolor": "white",
            "gridwidth": 2,
            "linecolor": "white",
            "showbackground": true,
            "ticks": "",
            "zerolinecolor": "white"
           },
           "yaxis": {
            "backgroundcolor": "#E5ECF6",
            "gridcolor": "white",
            "gridwidth": 2,
            "linecolor": "white",
            "showbackground": true,
            "ticks": "",
            "zerolinecolor": "white"
           },
           "zaxis": {
            "backgroundcolor": "#E5ECF6",
            "gridcolor": "white",
            "gridwidth": 2,
            "linecolor": "white",
            "showbackground": true,
            "ticks": "",
            "zerolinecolor": "white"
           }
          },
          "shapedefaults": {
           "line": {
            "color": "#2a3f5f"
           }
          },
          "ternary": {
           "aaxis": {
            "gridcolor": "white",
            "linecolor": "white",
            "ticks": ""
           },
           "baxis": {
            "gridcolor": "white",
            "linecolor": "white",
            "ticks": ""
           },
           "bgcolor": "#E5ECF6",
           "caxis": {
            "gridcolor": "white",
            "linecolor": "white",
            "ticks": ""
           }
          },
          "title": {
           "x": 0.05
          },
          "xaxis": {
           "automargin": true,
           "gridcolor": "white",
           "linecolor": "white",
           "ticks": "",
           "title": {
            "standoff": 15
           },
           "zerolinecolor": "white",
           "zerolinewidth": 2
          },
          "yaxis": {
           "automargin": true,
           "gridcolor": "white",
           "linecolor": "white",
           "ticks": "",
           "title": {
            "standoff": 15
           },
           "zerolinecolor": "white",
           "zerolinewidth": 2
          }
         }
        },
        "title": {
         "text": "ON and OFF Neurons: Bacterial Stimulus No. 0"
        }
       }
      }
     },
     "metadata": {},
     "output_type": "display_data"
    }
   ],
   "source": [
    "\n",
    "\n",
    "# Create a scatter plot\n",
    "# fig = px.scatter_3d(data_frame = hyperbolic_df, x= 'x', y = 'y', z= 'z', title='AVA and RME: Stimulus 0', color = 'cluster labels') #cornflowerblue, lightcoral\n",
    "\n",
    "fig = px.scatter_3d(data_frame = hyperbolic_df, x= 'x', y = 'y', z= 'z', title='ON and OFF Neurons: Bacterial Stimulus No. 0',  color ='cluster labels') #cornflowerblue, lightcoral\n",
    "fig.update_layout(\n",
    "    scene=dict(\n",
    "        xaxis=dict(ticktext=[-1, -0.5, 0, 0.5, 1]),\n",
    "        yaxis=dict(ticktext=[-1, -0.5, 0, 0.5, 1]),\n",
    "        zaxis=dict(ticktext=[-1, -0.5, 0, 0.5, 1]),\n",
    "    )\n",
    ")\n",
    "\n",
    "fig.show()"
   ]
  },
  {
   "cell_type": "code",
   "execution_count": 55,
   "id": "0fb17491",
   "metadata": {},
   "outputs": [
    {
     "data": {
      "application/vnd.plotly.v1+json": {
       "config": {
        "plotlyServerURL": "https://plot.ly"
       },
       "data": [
        {
         "hovertemplate": "cluster labels=ON<br>X=%{x}<br>Y=%{y}<br>Z=%{z}<extra></extra>",
         "legendgroup": "ON",
         "marker": {
          "color": "teal",
          "opacity": 0.6,
          "size": 10,
          "symbol": "circle"
         },
         "mode": "markers",
         "name": "ON",
         "scene": "scene",
         "showlegend": true,
         "type": "scatter3d",
         "x": [
          -0.019547107270290097,
          0.024428732465202736,
          0.13994548551611685,
          -0.033355204958668366,
          0.18122049151440256,
          0.37848002411956455,
          0.08883913443677577,
          -0.6090830057196998,
          0.020596172288974673,
          -0.02443746628878864,
          0.14562429950935737,
          0.013580461372310167,
          0.0070509555519863145,
          0.20511671212738528,
          0.5894294046085757,
          0.6698673205414255,
          0.5937019082285142,
          0.8922077555486617,
          0.5775769322330847,
          0.6253981045159701,
          -0.18197500129907263,
          0.6140188343525164,
          0.6993800047064431,
          0.7058497278998064,
          0.7147898780137281,
          0.3247429211821002,
          0.7040614342496914,
          0.6236329099914736,
          0.8064470277260998,
          0.7144022094166445,
          0.5486063166091236,
          0.5154161169445883,
          0.6627240751129512,
          0.7454571258453958,
          0.8150588482133425,
          0.5398151596499967,
          0.26634959818648013,
          0.37167116265992617,
          0.5449224253453403,
          -0.22841019985760738,
          -0.06971217583546065,
          -0.32950745273364623,
          0.046335471158874146,
          -0.37692111851183774,
          0.054266576639295516
         ],
         "y": [
          -0.15218917872311422,
          -0.21493464138271323,
          -0.16284507113634358,
          -0.14481806508659026,
          -0.3890266461933572,
          -0.053374837655090906,
          -0.21861755478880854,
          0.44898838010300063,
          -0.1776689243992843,
          -0.20096198149158803,
          -0.10506027716308929,
          -0.13148115547307396,
          -0.26920891886868586,
          -0.16790881269564653,
          0.28454406146797434,
          0.04916213586562958,
          0.20384190297478516,
          -0.008891318238288808,
          0.2663271306115035,
          0.22689558502458562,
          0.15314472076391972,
          0.29369765313928586,
          -0.07321988637343155,
          -0.4834457074894538,
          0.155299250516106,
          0.3310791856081161,
          0.21612051120121556,
          0.19946342097582007,
          0.09264333774593377,
          0.06474580524494034,
          0.43592407694774243,
          0.3702062020152276,
          0.16177592368038213,
          0.38027882537201213,
          0.2988781430927432,
          0.2695895648947205,
          0.3616226269333881,
          0.17031736331146619,
          0.0015830070992030876,
          -0.243144849556764,
          -0.20497146523901083,
          -0.0030410307334791647,
          -0.382549935230959,
          -0.07101956485826456,
          -0.06646141167737084
         ],
         "z": [
          0.9418457618152715,
          0.9273998719831036,
          0.9317377977036085,
          0.9441199959763928,
          0.8565574382012849,
          0.8823782265448153,
          0.9276434877757668,
          0.5944589418191872,
          0.9340114078647943,
          0.9322365550263509,
          0.941834570136388,
          0.9486894422684701,
          0.9139542151920147,
          0.920401803597184,
          -0.6740723956041188,
          -0.6814397034371155,
          -0.7043501997681696,
          -0.33182504321995027,
          -0.6863840422259234,
          -0.6688830656690661,
          -0.9298805025971503,
          -0.6542659766208581,
          -0.6470313839942596,
          -0.43425749006419706,
          -0.6026843267255679,
          -0.8359268369007016,
          -0.5997128731272992,
          -0.6739026452454216,
          -0.4984294195368565,
          -0.6272455446699724,
          -0.6574135561062864,
          -0.7021636555716392,
          -0.6537482008937965,
          -0.4504189678037433,
          -0.40038254757644165,
          -0.7220256817018488,
          -0.8397502756120568,
          -0.8638530272027684,
          -0.7822287495516405,
          0.8928086584675613,
          0.9278017750444785,
          0.8994246075886336,
          0.8790857513755702,
          0.8766523675569218,
          0.9533968805643098
         ]
        },
        {
         "hovertemplate": "cluster labels=OFF<br>X=%{x}<br>Y=%{y}<br>Z=%{z}<extra></extra>",
         "legendgroup": "OFF",
         "marker": {
          "color": "#FF8C00",
          "opacity": 0.6,
          "size": 10,
          "symbol": "circle"
         },
         "mode": "markers",
         "name": "OFF",
         "scene": "scene",
         "showlegend": true,
         "type": "scatter3d",
         "x": [
          -0.7485262621346646,
          -0.08415334074111581,
          -0.877675433599444,
          -0.623159006214546,
          -0.8897990107224538,
          -0.955048839261824,
          -0.4347586714911104,
          -0.7677632002936563,
          -0.7331877008935413,
          -0.7215057276982589,
          -0.884003593320051,
          -0.6433826155621261,
          0.014470181929935846,
          0.16491562586391353,
          0.07552085413325821,
          0.2788090236011077,
          -0.09763587571009985,
          -0.30822903806919955,
          0.43240217613372867,
          -0.30638297238709694,
          -0.03754712877966479,
          0.45528708037666193,
          0.06417740436794127,
          0.1421554225770031,
          -0.10023552649525527,
          0.3242717887363011,
          0.1730863983069011,
          0.3773750475957163,
          -0.8159864122374959,
          -0.7895432425643144,
          -0.3347595228126156
         ],
         "y": [
          -0.5543770417117257,
          -0.9623989300441382,
          -0.31057268811109445,
          -0.5146691105797662,
          -0.24851120178816188,
          0.12157123652100892,
          -0.7701342881970412,
          -0.5590695198466359,
          -0.4612153598554941,
          -0.634606244331351,
          0.018662509080813676,
          -0.593118730155628,
          0.9402389057064879,
          0.9266502269898196,
          -0.630342850390366,
          0.5485387151368586,
          0.8460437285025945,
          0.8229528145076226,
          0.6785646004067664,
          0.6414337814305832,
          0.6880803949116315,
          0.5974327731525236,
          0.811122839463292,
          0.7411169520248623,
          0.5056229630319493,
          0.6347921802007193,
          0.9136705349703925,
          0.5755443871253463,
          -0.4747932463181163,
          -0.5379758722960329,
          -0.7047822881493776
         ],
         "z": [
          0.19494523883263484,
          0.0077908294396475,
          -0.24302941225815874,
          0.4913452976884351,
          -0.2667151216346924,
          0.025203670097008572,
          -0.3708235254671302,
          0.0780379836428294,
          0.39675007782566424,
          -0.012014606734954891,
          0.3861799309679728,
          0.36962386678818243,
          -0.11571375952869964,
          0.004579794714013444,
          -0.7103361606654707,
          -0.7116119814993559,
          -0.4289830595353785,
          -0.37979046097125935,
          -0.5025682199051205,
          -0.620345442171773,
          -0.6605942769430992,
          -0.5814782473392774,
          -0.49663684781039147,
          -0.5680760853820322,
          -0.7993152687889891,
          -0.6139443629857388,
          -0.22234308693155758,
          -0.6446405091265464,
          0.1420616106954252,
          -0.12033862201477052,
          0.5523098251167189
         ]
        }
       ],
       "layout": {
        "autosize": true,
        "height": 500,
        "legend": {
         "font": {
          "size": 10
         },
         "title": {
          "font": {
           "size": 12
          },
          "text": "Cluster Labels"
         },
         "tracegroupgap": 0
        },
        "margin": {
         "b": 90,
         "l": 20,
         "r": 20,
         "t": 40
        },
        "scene": {
         "domain": {
          "x": [
           0,
           1
          ],
          "y": [
           0,
           1
          ]
         },
         "xaxis": {
          "showgrid": false,
          "tickfont": {
           "size": 15
          },
          "ticktext": [
           "-1",
           "-0.5",
           "0",
           "0.5",
           "1"
          ],
          "tickvals": [
           -1,
           -0.5,
           0,
           0.5,
           1
          ],
          "title": {
           "font": {
            "size": 20
           },
           "text": "X"
          }
         },
         "yaxis": {
          "showgrid": false,
          "tickfont": {
           "size": 15
          },
          "ticktext": [
           "-1",
           "-0.5",
           "0",
           "0.5",
           "1"
          ],
          "tickvals": [
           -1,
           -0.5,
           0,
           0.5,
           1
          ],
          "title": {
           "font": {
            "size": 20
           },
           "text": "Y "
          }
         },
         "zaxis": {
          "showgrid": false,
          "tickfont": {
           "size": 15
          },
          "ticktext": [
           "-1",
           "-0.5",
           "0",
           "0.5",
           "1"
          ],
          "tickvals": [
           -1,
           -0.5,
           0,
           0.5,
           1
          ],
          "title": {
           "font": {
            "size": 20
           },
           "text": "Z "
          }
         }
        },
        "template": {
         "data": {
          "bar": [
           {
            "error_x": {
             "color": "#2a3f5f"
            },
            "error_y": {
             "color": "#2a3f5f"
            },
            "marker": {
             "line": {
              "color": "#E5ECF6",
              "width": 0.5
             },
             "pattern": {
              "fillmode": "overlay",
              "size": 10,
              "solidity": 0.2
             }
            },
            "type": "bar"
           }
          ],
          "barpolar": [
           {
            "marker": {
             "line": {
              "color": "#E5ECF6",
              "width": 0.5
             },
             "pattern": {
              "fillmode": "overlay",
              "size": 10,
              "solidity": 0.2
             }
            },
            "type": "barpolar"
           }
          ],
          "carpet": [
           {
            "aaxis": {
             "endlinecolor": "#2a3f5f",
             "gridcolor": "white",
             "linecolor": "white",
             "minorgridcolor": "white",
             "startlinecolor": "#2a3f5f"
            },
            "baxis": {
             "endlinecolor": "#2a3f5f",
             "gridcolor": "white",
             "linecolor": "white",
             "minorgridcolor": "white",
             "startlinecolor": "#2a3f5f"
            },
            "type": "carpet"
           }
          ],
          "choropleth": [
           {
            "colorbar": {
             "outlinewidth": 0,
             "ticks": ""
            },
            "type": "choropleth"
           }
          ],
          "contour": [
           {
            "colorbar": {
             "outlinewidth": 0,
             "ticks": ""
            },
            "colorscale": [
             [
              0,
              "#0d0887"
             ],
             [
              0.1111111111111111,
              "#46039f"
             ],
             [
              0.2222222222222222,
              "#7201a8"
             ],
             [
              0.3333333333333333,
              "#9c179e"
             ],
             [
              0.4444444444444444,
              "#bd3786"
             ],
             [
              0.5555555555555556,
              "#d8576b"
             ],
             [
              0.6666666666666666,
              "#ed7953"
             ],
             [
              0.7777777777777778,
              "#fb9f3a"
             ],
             [
              0.8888888888888888,
              "#fdca26"
             ],
             [
              1,
              "#f0f921"
             ]
            ],
            "type": "contour"
           }
          ],
          "contourcarpet": [
           {
            "colorbar": {
             "outlinewidth": 0,
             "ticks": ""
            },
            "type": "contourcarpet"
           }
          ],
          "heatmap": [
           {
            "colorbar": {
             "outlinewidth": 0,
             "ticks": ""
            },
            "colorscale": [
             [
              0,
              "#0d0887"
             ],
             [
              0.1111111111111111,
              "#46039f"
             ],
             [
              0.2222222222222222,
              "#7201a8"
             ],
             [
              0.3333333333333333,
              "#9c179e"
             ],
             [
              0.4444444444444444,
              "#bd3786"
             ],
             [
              0.5555555555555556,
              "#d8576b"
             ],
             [
              0.6666666666666666,
              "#ed7953"
             ],
             [
              0.7777777777777778,
              "#fb9f3a"
             ],
             [
              0.8888888888888888,
              "#fdca26"
             ],
             [
              1,
              "#f0f921"
             ]
            ],
            "type": "heatmap"
           }
          ],
          "heatmapgl": [
           {
            "colorbar": {
             "outlinewidth": 0,
             "ticks": ""
            },
            "colorscale": [
             [
              0,
              "#0d0887"
             ],
             [
              0.1111111111111111,
              "#46039f"
             ],
             [
              0.2222222222222222,
              "#7201a8"
             ],
             [
              0.3333333333333333,
              "#9c179e"
             ],
             [
              0.4444444444444444,
              "#bd3786"
             ],
             [
              0.5555555555555556,
              "#d8576b"
             ],
             [
              0.6666666666666666,
              "#ed7953"
             ],
             [
              0.7777777777777778,
              "#fb9f3a"
             ],
             [
              0.8888888888888888,
              "#fdca26"
             ],
             [
              1,
              "#f0f921"
             ]
            ],
            "type": "heatmapgl"
           }
          ],
          "histogram": [
           {
            "marker": {
             "pattern": {
              "fillmode": "overlay",
              "size": 10,
              "solidity": 0.2
             }
            },
            "type": "histogram"
           }
          ],
          "histogram2d": [
           {
            "colorbar": {
             "outlinewidth": 0,
             "ticks": ""
            },
            "colorscale": [
             [
              0,
              "#0d0887"
             ],
             [
              0.1111111111111111,
              "#46039f"
             ],
             [
              0.2222222222222222,
              "#7201a8"
             ],
             [
              0.3333333333333333,
              "#9c179e"
             ],
             [
              0.4444444444444444,
              "#bd3786"
             ],
             [
              0.5555555555555556,
              "#d8576b"
             ],
             [
              0.6666666666666666,
              "#ed7953"
             ],
             [
              0.7777777777777778,
              "#fb9f3a"
             ],
             [
              0.8888888888888888,
              "#fdca26"
             ],
             [
              1,
              "#f0f921"
             ]
            ],
            "type": "histogram2d"
           }
          ],
          "histogram2dcontour": [
           {
            "colorbar": {
             "outlinewidth": 0,
             "ticks": ""
            },
            "colorscale": [
             [
              0,
              "#0d0887"
             ],
             [
              0.1111111111111111,
              "#46039f"
             ],
             [
              0.2222222222222222,
              "#7201a8"
             ],
             [
              0.3333333333333333,
              "#9c179e"
             ],
             [
              0.4444444444444444,
              "#bd3786"
             ],
             [
              0.5555555555555556,
              "#d8576b"
             ],
             [
              0.6666666666666666,
              "#ed7953"
             ],
             [
              0.7777777777777778,
              "#fb9f3a"
             ],
             [
              0.8888888888888888,
              "#fdca26"
             ],
             [
              1,
              "#f0f921"
             ]
            ],
            "type": "histogram2dcontour"
           }
          ],
          "mesh3d": [
           {
            "colorbar": {
             "outlinewidth": 0,
             "ticks": ""
            },
            "type": "mesh3d"
           }
          ],
          "parcoords": [
           {
            "line": {
             "colorbar": {
              "outlinewidth": 0,
              "ticks": ""
             }
            },
            "type": "parcoords"
           }
          ],
          "pie": [
           {
            "automargin": true,
            "type": "pie"
           }
          ],
          "scatter": [
           {
            "fillpattern": {
             "fillmode": "overlay",
             "size": 10,
             "solidity": 0.2
            },
            "type": "scatter"
           }
          ],
          "scatter3d": [
           {
            "line": {
             "colorbar": {
              "outlinewidth": 0,
              "ticks": ""
             }
            },
            "marker": {
             "colorbar": {
              "outlinewidth": 0,
              "ticks": ""
             }
            },
            "type": "scatter3d"
           }
          ],
          "scattercarpet": [
           {
            "marker": {
             "colorbar": {
              "outlinewidth": 0,
              "ticks": ""
             }
            },
            "type": "scattercarpet"
           }
          ],
          "scattergeo": [
           {
            "marker": {
             "colorbar": {
              "outlinewidth": 0,
              "ticks": ""
             }
            },
            "type": "scattergeo"
           }
          ],
          "scattergl": [
           {
            "marker": {
             "colorbar": {
              "outlinewidth": 0,
              "ticks": ""
             }
            },
            "type": "scattergl"
           }
          ],
          "scattermapbox": [
           {
            "marker": {
             "colorbar": {
              "outlinewidth": 0,
              "ticks": ""
             }
            },
            "type": "scattermapbox"
           }
          ],
          "scatterpolar": [
           {
            "marker": {
             "colorbar": {
              "outlinewidth": 0,
              "ticks": ""
             }
            },
            "type": "scatterpolar"
           }
          ],
          "scatterpolargl": [
           {
            "marker": {
             "colorbar": {
              "outlinewidth": 0,
              "ticks": ""
             }
            },
            "type": "scatterpolargl"
           }
          ],
          "scatterternary": [
           {
            "marker": {
             "colorbar": {
              "outlinewidth": 0,
              "ticks": ""
             }
            },
            "type": "scatterternary"
           }
          ],
          "surface": [
           {
            "colorbar": {
             "outlinewidth": 0,
             "ticks": ""
            },
            "colorscale": [
             [
              0,
              "#0d0887"
             ],
             [
              0.1111111111111111,
              "#46039f"
             ],
             [
              0.2222222222222222,
              "#7201a8"
             ],
             [
              0.3333333333333333,
              "#9c179e"
             ],
             [
              0.4444444444444444,
              "#bd3786"
             ],
             [
              0.5555555555555556,
              "#d8576b"
             ],
             [
              0.6666666666666666,
              "#ed7953"
             ],
             [
              0.7777777777777778,
              "#fb9f3a"
             ],
             [
              0.8888888888888888,
              "#fdca26"
             ],
             [
              1,
              "#f0f921"
             ]
            ],
            "type": "surface"
           }
          ],
          "table": [
           {
            "cells": {
             "fill": {
              "color": "#EBF0F8"
             },
             "line": {
              "color": "white"
             }
            },
            "header": {
             "fill": {
              "color": "#C8D4E3"
             },
             "line": {
              "color": "white"
             }
            },
            "type": "table"
           }
          ]
         },
         "layout": {
          "annotationdefaults": {
           "arrowcolor": "#2a3f5f",
           "arrowhead": 0,
           "arrowwidth": 1
          },
          "autotypenumbers": "strict",
          "coloraxis": {
           "colorbar": {
            "outlinewidth": 0,
            "ticks": ""
           }
          },
          "colorscale": {
           "diverging": [
            [
             0,
             "#8e0152"
            ],
            [
             0.1,
             "#c51b7d"
            ],
            [
             0.2,
             "#de77ae"
            ],
            [
             0.3,
             "#f1b6da"
            ],
            [
             0.4,
             "#fde0ef"
            ],
            [
             0.5,
             "#f7f7f7"
            ],
            [
             0.6,
             "#e6f5d0"
            ],
            [
             0.7,
             "#b8e186"
            ],
            [
             0.8,
             "#7fbc41"
            ],
            [
             0.9,
             "#4d9221"
            ],
            [
             1,
             "#276419"
            ]
           ],
           "sequential": [
            [
             0,
             "#0d0887"
            ],
            [
             0.1111111111111111,
             "#46039f"
            ],
            [
             0.2222222222222222,
             "#7201a8"
            ],
            [
             0.3333333333333333,
             "#9c179e"
            ],
            [
             0.4444444444444444,
             "#bd3786"
            ],
            [
             0.5555555555555556,
             "#d8576b"
            ],
            [
             0.6666666666666666,
             "#ed7953"
            ],
            [
             0.7777777777777778,
             "#fb9f3a"
            ],
            [
             0.8888888888888888,
             "#fdca26"
            ],
            [
             1,
             "#f0f921"
            ]
           ],
           "sequentialminus": [
            [
             0,
             "#0d0887"
            ],
            [
             0.1111111111111111,
             "#46039f"
            ],
            [
             0.2222222222222222,
             "#7201a8"
            ],
            [
             0.3333333333333333,
             "#9c179e"
            ],
            [
             0.4444444444444444,
             "#bd3786"
            ],
            [
             0.5555555555555556,
             "#d8576b"
            ],
            [
             0.6666666666666666,
             "#ed7953"
            ],
            [
             0.7777777777777778,
             "#fb9f3a"
            ],
            [
             0.8888888888888888,
             "#fdca26"
            ],
            [
             1,
             "#f0f921"
            ]
           ]
          },
          "colorway": [
           "#636efa",
           "#EF553B",
           "#00cc96",
           "#ab63fa",
           "#FFA15A",
           "#19d3f3",
           "#FF6692",
           "#B6E880",
           "#FF97FF",
           "#FECB52"
          ],
          "font": {
           "color": "#2a3f5f"
          },
          "geo": {
           "bgcolor": "white",
           "lakecolor": "white",
           "landcolor": "#E5ECF6",
           "showlakes": true,
           "showland": true,
           "subunitcolor": "white"
          },
          "hoverlabel": {
           "align": "left"
          },
          "hovermode": "closest",
          "mapbox": {
           "style": "light"
          },
          "paper_bgcolor": "white",
          "plot_bgcolor": "#E5ECF6",
          "polar": {
           "angularaxis": {
            "gridcolor": "white",
            "linecolor": "white",
            "ticks": ""
           },
           "bgcolor": "#E5ECF6",
           "radialaxis": {
            "gridcolor": "white",
            "linecolor": "white",
            "ticks": ""
           }
          },
          "scene": {
           "xaxis": {
            "backgroundcolor": "#E5ECF6",
            "gridcolor": "white",
            "gridwidth": 2,
            "linecolor": "white",
            "showbackground": true,
            "ticks": "",
            "zerolinecolor": "white"
           },
           "yaxis": {
            "backgroundcolor": "#E5ECF6",
            "gridcolor": "white",
            "gridwidth": 2,
            "linecolor": "white",
            "showbackground": true,
            "ticks": "",
            "zerolinecolor": "white"
           },
           "zaxis": {
            "backgroundcolor": "#E5ECF6",
            "gridcolor": "white",
            "gridwidth": 2,
            "linecolor": "white",
            "showbackground": true,
            "ticks": "",
            "zerolinecolor": "white"
           }
          },
          "shapedefaults": {
           "line": {
            "color": "#2a3f5f"
           }
          },
          "ternary": {
           "aaxis": {
            "gridcolor": "white",
            "linecolor": "white",
            "ticks": ""
           },
           "baxis": {
            "gridcolor": "white",
            "linecolor": "white",
            "ticks": ""
           },
           "bgcolor": "#E5ECF6",
           "caxis": {
            "gridcolor": "white",
            "linecolor": "white",
            "ticks": ""
           }
          },
          "title": {
           "x": 0.05
          },
          "xaxis": {
           "automargin": true,
           "gridcolor": "white",
           "linecolor": "white",
           "ticks": "",
           "title": {
            "standoff": 15
           },
           "zerolinecolor": "white",
           "zerolinewidth": 2
          },
          "yaxis": {
           "automargin": true,
           "gridcolor": "white",
           "linecolor": "white",
           "ticks": "",
           "title": {
            "standoff": 15
           },
           "zerolinecolor": "white",
           "zerolinewidth": 2
          }
         }
        },
        "width": 700
       }
      }
     },
     "metadata": {},
     "output_type": "display_data"
    }
   ],
   "source": [
    "# import plotly.express as px\n",
    "\n",
    "# Example DataFrame, assuming hyperbolic_df is already defined with appropriate data\n",
    "# Adding a column 'labels' to hyperbolic_df for the point labels if not already present\n",
    "# hyperbolic_df['labels'] = ...\n",
    "\n",
    "\n",
    "\n",
    "fig = px.scatter_3d(\n",
    "    data_frame=hyperbolic_df, \n",
    "    x='x', \n",
    "    y='y', \n",
    "    z='z', \n",
    "    color='cluster labels', \n",
    "    # text='cluster labels',  # assuming 'labels' column contains the point labels\n",
    "    # title='ON and OFF Neurons',\n",
    "    labels={'x': 'X', 'y': 'Y', 'z': 'Z'},\n",
    "    color_discrete_map={'ON': 'teal', 'OFF': '#FF8C00'}\n",
    ")\n",
    "\n",
    "fig.update_layout(\n",
    "    scene=dict(\n",
    "        xaxis=dict(\n",
    "            tickvals=[-1, -0.5, 0, 0.5, 1],\n",
    "            ticktext=['-1', '-0.5', '0', '0.5', '1'],\n",
    "            title=dict(text='X', font=dict(size=20)),\n",
    "            tickfont=dict(size=15),\n",
    "            showgrid=False\n",
    "        ),\n",
    "        yaxis=dict(\n",
    "            tickvals=[-1, -0.5, 0, 0.5, 1],\n",
    "            ticktext=['-1', '-0.5', '0', '0.5', '1'],\n",
    "            title=dict(text='Y ', font=dict(size=20)),\n",
    "            tickfont=dict(size=15),\n",
    "            showgrid=False\n",
    "        ),\n",
    "        zaxis=dict(\n",
    "            tickvals=[-1, -0.5, 0, 0.5, 1],\n",
    "            ticktext=['-1', '-0.5', '0', '0.5', '1'],\n",
    "            title=dict(text='Z ', font=dict(size=20)),\n",
    "            tickfont=dict(size=15), \n",
    "            showgrid=False\n",
    "        )\n",
    "    ),\n",
    "    legend=dict(\n",
    "        title=dict(text='Cluster Labels', font=dict(size=12)),\n",
    "        font=dict(size=10)\n",
    "    # ),\n",
    "    # title=dict(\n",
    "    #     text='ON and OFF Neurons',\n",
    "    #     font=dict(size=15)\n",
    "    ),\n",
    "    margin=dict(l=20, r=20, b=90, t=40),\n",
    "    autosize=True,\n",
    "    width=700,\n",
    "    height=500\n",
    ")\n",
    "\n",
    "# Customize marker size and opacity for better visualization\n",
    "fig.update_traces(marker=dict(size=10, opacity=0.6))\n",
    "\n",
    "\n",
    "\n",
    "\n",
    "fig.show()\n",
    "fig.write_image(\"ON_OFF.svg\")"
   ]
  },
  {
   "cell_type": "markdown",
   "id": "c4f57d57",
   "metadata": {},
   "source": [
    "# Color by Stim"
   ]
  },
  {
   "cell_type": "code",
   "execution_count": null,
   "id": "29295c60",
   "metadata": {},
   "outputs": [],
   "source": []
  },
  {
   "cell_type": "markdown",
   "id": "b6080734",
   "metadata": {},
   "source": [
    "# Fitting For Dimension\n",
    "\n",
    "Suppose we did not know a-priori that the data was 5D? This is usually the case"
   ]
  },
  {
   "cell_type": "markdown",
   "id": "ea9e919b",
   "metadata": {},
   "source": [
    "## Fit the model across a range of dimensions"
   ]
  },
  {
   "cell_type": "code",
   "execution_count": 25,
   "id": "0ffeb563",
   "metadata": {},
   "outputs": [
    {
     "name": "stderr",
     "output_type": "stream",
     "text": [
      "14:00:35 - cmdstanpy - INFO - Chain [1] start processing\n",
      "14:01:05 - cmdstanpy - INFO - Chain [1] done processing\n",
      "14:01:05 - cmdstanpy - WARNING - The default behavior of CmdStanMLE.stan_variable() will change in a future release to always return a numpy.ndarray, even for scalar variables.\n",
      "14:01:05 - cmdstanpy - INFO - Chain [1] start processing\n",
      "14:01:12 - cmdstanpy - INFO - Chain [1] done processing\n",
      "14:01:12 - cmdstanpy - WARNING - The default behavior of CmdStanMLE.stan_variable() will change in a future release to always return a numpy.ndarray, even for scalar variables.\n",
      "14:01:12 - cmdstanpy - INFO - Chain [1] start processing\n",
      "14:01:16 - cmdstanpy - INFO - Chain [1] done processing\n",
      "14:01:16 - cmdstanpy - WARNING - The default behavior of CmdStanMLE.stan_variable() will change in a future release to always return a numpy.ndarray, even for scalar variables.\n",
      "14:01:16 - cmdstanpy - INFO - Chain [1] start processing\n",
      "14:01:21 - cmdstanpy - INFO - Chain [1] done processing\n",
      "14:01:21 - cmdstanpy - WARNING - The default behavior of CmdStanMLE.stan_variable() will change in a future release to always return a numpy.ndarray, even for scalar variables.\n",
      "14:01:21 - cmdstanpy - INFO - Chain [1] start processing\n",
      "14:01:26 - cmdstanpy - INFO - Chain [1] done processing\n",
      "14:01:26 - cmdstanpy - WARNING - The default behavior of CmdStanMLE.stan_variable() will change in a future release to always return a numpy.ndarray, even for scalar variables.\n",
      "14:01:26 - cmdstanpy - INFO - Chain [1] start processing\n",
      "14:01:30 - cmdstanpy - INFO - Chain [1] done processing\n",
      "14:01:30 - cmdstanpy - WARNING - The default behavior of CmdStanMLE.stan_variable() will change in a future release to always return a numpy.ndarray, even for scalar variables.\n",
      "14:01:30 - cmdstanpy - INFO - Chain [1] start processing\n",
      "14:01:34 - cmdstanpy - INFO - Chain [1] done processing\n",
      "14:01:34 - cmdstanpy - WARNING - The default behavior of CmdStanMLE.stan_variable() will change in a future release to always return a numpy.ndarray, even for scalar variables.\n",
      "14:01:34 - cmdstanpy - INFO - Chain [1] start processing\n",
      "14:01:38 - cmdstanpy - INFO - Chain [1] done processing\n",
      "14:01:38 - cmdstanpy - WARNING - The default behavior of CmdStanMLE.stan_variable() will change in a future release to always return a numpy.ndarray, even for scalar variables.\n",
      "14:01:38 - cmdstanpy - INFO - Chain [1] start processing\n",
      "14:01:42 - cmdstanpy - INFO - Chain [1] done processing\n",
      "14:01:42 - cmdstanpy - WARNING - The default behavior of CmdStanMLE.stan_variable() will change in a future release to always return a numpy.ndarray, even for scalar variables.\n",
      "14:01:42 - cmdstanpy - INFO - Chain [1] start processing\n",
      "14:01:47 - cmdstanpy - INFO - Chain [1] done processing\n",
      "14:01:47 - cmdstanpy - WARNING - The default behavior of CmdStanMLE.stan_variable() will change in a future release to always return a numpy.ndarray, even for scalar variables.\n",
      "14:01:47 - cmdstanpy - INFO - Chain [1] start processing\n",
      "14:01:57 - cmdstanpy - INFO - Chain [1] done processing\n",
      "14:01:57 - cmdstanpy - WARNING - The default behavior of CmdStanMLE.stan_variable() will change in a future release to always return a numpy.ndarray, even for scalar variables.\n",
      "14:01:57 - cmdstanpy - INFO - Chain [1] start processing\n",
      "14:02:02 - cmdstanpy - INFO - Chain [1] done processing\n",
      "14:02:02 - cmdstanpy - WARNING - The default behavior of CmdStanMLE.stan_variable() will change in a future release to always return a numpy.ndarray, even for scalar variables.\n",
      "14:02:02 - cmdstanpy - INFO - Chain [1] start processing\n",
      "14:02:07 - cmdstanpy - INFO - Chain [1] done processing\n",
      "14:02:07 - cmdstanpy - WARNING - The default behavior of CmdStanMLE.stan_variable() will change in a future release to always return a numpy.ndarray, even for scalar variables.\n"
     ]
    }
   ],
   "source": [
    "all_fits = []\n",
    "for d in np.arange(2,15):\n",
    "    dat={'N':76, 'D':d, 'deltaij':distance_matrix_squaredp}\n",
    "    #run optimizer\n",
    "    model = ltz_m.optimize(data=dat, iter=250000, algorithm='LBFGS', tol_rel_grad=1e2)\n",
    "    all_fits.append({'euc':model.euc, 'sig':model.sig, 'lambda':model.stan_variable('lambda'), 't':model.time})\n",
    "\n",
    "\n"
   ]
  },
  {
   "cell_type": "code",
   "execution_count": 26,
   "id": "c6ddd178",
   "metadata": {},
   "outputs": [
    {
     "name": "stderr",
     "output_type": "stream",
     "text": [
      "14:13:18 - cmdstanpy - WARNING - The default behavior of CmdStanMLE.stan_variable() will change in a future release to always return a numpy.ndarray, even for scalar variables.\n"
     ]
    },
    {
     "data": {
      "text/plain": [
       "1.25372"
      ]
     },
     "execution_count": 26,
     "metadata": {},
     "output_type": "execute_result"
    }
   ],
   "source": [
    "model.stan_variable('lambda')"
   ]
  },
  {
   "cell_type": "code",
   "execution_count": 27,
   "id": "09e53bbb",
   "metadata": {},
   "outputs": [
    {
     "data": {
      "text/plain": [
       "array([4.65796, 4.53835, 4.85966, 4.7172 , 4.97693, 5.5885 , 4.73094,\n",
       "       4.99493, 4.53761, 4.60776, 5.16083, 4.85112, 4.58651, 5.19353,\n",
       "       3.81626, 4.63913, 4.03351, 4.52437, 3.74195, 3.91785, 4.91369,\n",
       "       3.95498, 4.67216, 5.11388, 4.10145, 4.40862, 4.00937, 3.85566,\n",
       "       4.24575, 4.34768, 4.4079 , 3.99742, 3.92906, 4.14401, 4.4362 ,\n",
       "       3.94349, 4.28251, 4.61915, 4.59164, 4.57165, 4.47831, 4.71834,\n",
       "       4.96185, 4.69576, 4.88437, 4.44569, 5.39446, 5.23524, 4.17215,\n",
       "       5.19021, 5.52843, 4.60926, 4.46173, 4.257  , 4.84562, 4.99059,\n",
       "       4.18488, 4.47157, 4.34826, 4.50942, 3.96938, 4.34771, 4.65526,\n",
       "       4.15124, 4.43782, 4.38972, 4.09816, 4.29193, 3.95677, 4.14665,\n",
       "       3.83703, 4.73436, 3.90407, 4.55837, 5.06815, 4.62647])"
      ]
     },
     "execution_count": 27,
     "metadata": {},
     "output_type": "execute_result"
    }
   ],
   "source": [
    "#access the correct iteration \n",
    "iteration = all_fits[5]['t']\n",
    "\n",
    "\n",
    "iteration"
   ]
  },
  {
   "cell_type": "code",
   "execution_count": 28,
   "id": "c69f3521",
   "metadata": {},
   "outputs": [
    {
     "data": {
      "text/plain": [
       "(76,)"
      ]
     },
     "execution_count": 28,
     "metadata": {},
     "output_type": "execute_result"
    }
   ],
   "source": [
    "model.time.shape"
   ]
  },
  {
   "cell_type": "code",
   "execution_count": 29,
   "id": "cadc132e",
   "metadata": {},
   "outputs": [],
   "source": [
    "#calculate radii based on time parameter\n",
    "radii = np.arccosh(iteration)"
   ]
  },
  {
   "cell_type": "code",
   "execution_count": 30,
   "id": "963b2e19",
   "metadata": {},
   "outputs": [
    {
     "data": {
      "text/plain": [
       "array([2.2199978 , 2.19334563, 2.26335759, 2.23293342, 2.28771117,\n",
       "       2.40575545, 2.23590937, 2.29139621, 2.19317845, 2.20890044,\n",
       "       2.32472318, 2.26156018, 2.20416459, 2.33116061, 2.01479261,\n",
       "       2.21584996, 2.07205089, 2.19018247, 1.99440162, 2.04199014,\n",
       "       2.27465335, 2.0517426 , 2.22311415, 2.31540594, 2.08928348,\n",
       "       2.1635906 , 2.06585338, 2.02543182, 2.12489938, 2.14929328,\n",
       "       2.1634229 , 2.06277069, 2.0449449 , 2.09992462, 2.16999287,\n",
       "       2.04873516, 2.1337675 , 2.21142944, 2.20530998, 2.20083912,\n",
       "       2.17968761, 2.23318068, 2.28461322, 2.22827154, 2.26853976,\n",
       "       2.17218613, 2.3698158 , 2.33931096, 2.10689683, 2.33050894,\n",
       "       2.39476914, 2.20923387, 2.17588199, 2.12762197, 2.26040085,\n",
       "       2.29050898, 2.11003454, 2.17814236, 2.14943036, 2.18678845,\n",
       "       2.05549856, 2.14930038, 2.21940413, 2.10172077, 2.17036762,\n",
       "       2.15917883, 2.08845601, 2.13602705, 2.05221028, 2.10058086,\n",
       "       2.02041575, 2.2366487 , 2.03834555, 2.19785762, 2.30624492,\n",
       "       2.21305129])"
      ]
     },
     "execution_count": 30,
     "metadata": {},
     "output_type": "execute_result"
    }
   ],
   "source": [
    "radii"
   ]
  },
  {
   "cell_type": "code",
   "execution_count": 31,
   "id": "f44e7938",
   "metadata": {},
   "outputs": [
    {
     "data": {
      "text/plain": [
       "Text(0.5, 0, 'Hyperbolic Embedding Radii')"
      ]
     },
     "execution_count": 31,
     "metadata": {},
     "output_type": "execute_result"
    },
    {
     "data": {
      "image/png": "[encoded data removed]",
      "text/plain": [
       "<Figure size 1500x750 with 1 Axes>"
      ]
     },
     "metadata": {},
     "output_type": "display_data"
    }
   ],
   "source": [
    "#Histogram of radii\n",
    "fig, ax = plt.subplots(figsize=(15,7.5))\n",
    "\n",
    "ax.hist(radii, color ='cornflowerblue') #cornflowerblue, lightcoral\n",
    "ax.set_xlabel('Hyperbolic Embedding Radii', fontsize=20)"
   ]
  },
  {
   "cell_type": "code",
   "execution_count": 32,
   "id": "75c766bc",
   "metadata": {},
   "outputs": [],
   "source": [
    "#DIP analysis of radii\n",
    "dip, pval = diptest.diptest(radii)"
   ]
  },
  {
   "cell_type": "code",
   "execution_count": 33,
   "id": "2ac64e08",
   "metadata": {},
   "outputs": [
    {
     "data": {
      "text/plain": [
       "(0.025688424421584817, 0.9902274885824863)"
      ]
     },
     "execution_count": 33,
     "metadata": {},
     "output_type": "execute_result"
    }
   ],
   "source": [
    "dip, pval"
   ]
  },
  {
   "cell_type": "code",
   "execution_count": 34,
   "id": "31b674d5",
   "metadata": {},
   "outputs": [
    {
     "data": {
      "text/plain": [
       "array([0.0500568, 0.0916656, 0.075349 , 0.0536402, 0.46355  , 0.0987759,\n",
       "       0.0686382, 0.136451 , 0.0713232, 0.08242  , 0.0564525, 0.063881 ,\n",
       "       0.0711747, 0.0659979, 0.0710293, 0.131812 , 0.051008 , 0.12453  ,\n",
       "       0.073032 , 0.050053 , 0.23624  , 0.0646059, 0.378362 , 0.225097 ,\n",
       "       0.0691776, 0.137104 , 0.0613722, 0.0559111, 0.133152 , 0.0992169,\n",
       "       0.0848259, 0.0517975, 0.0556332, 0.108813 , 0.117896 , 0.060314 ,\n",
       "       0.142156 , 0.157039 , 0.188895 , 0.0814291, 0.0872675, 0.166464 ,\n",
       "       0.114109 , 0.410415 , 0.0775552, 0.3385   , 0.12751  , 0.0511221,\n",
       "       0.106066 , 0.0498717, 0.175783 , 0.331507 , 0.160641 , 0.382248 ,\n",
       "       0.07129  , 0.176491 , 0.0888986, 0.243524 , 0.209691 , 0.211077 ,\n",
       "       0.10948  , 0.0673026, 0.246214 , 0.0814874, 0.258873 , 0.0628344,\n",
       "       0.0684687, 0.0757936, 0.0580658, 0.189641 , 0.0863733, 0.0853444,\n",
       "       0.0888527, 0.108706 , 0.0525846, 0.294471 ])"
      ]
     },
     "execution_count": 34,
     "metadata": {},
     "output_type": "execute_result"
    }
   ],
   "source": [
    "all_fits[0]['sig']"
   ]
  },
  {
   "cell_type": "code",
   "execution_count": 35,
   "id": "2793645c",
   "metadata": {},
   "outputs": [],
   "source": [
    "#return negative log likelihood of fit\n",
    "def MDS_lkl(fit, dmat):\n",
    "    lkl = 0;\n",
    "    N = fit['sig'].shape[0]\n",
    "    \n",
    "    sigs = fit['sig']\n",
    "    lam = fit['lambda']\n",
    "    emb_mat = get_embed_dmat(fit)\n",
    "    \n",
    "    for i in np.arange(N):\n",
    "        for j in np.arange(i+1, N):\n",
    "            seff = sigs[i]**2 + sigs[j]**2\n",
    "            lkl += ((dmat[i][j] - emb_mat[i][j]/lam)**2 / (2.0*seff)) + 0.5*np.log(seff*2.0*np.pi)\n",
    "    return lkl\n",
    "\n",
    "#input: optimization fit and distance matrix\n",
    "def BIC(fit, dmat):\n",
    "    N,D = fit['euc'].shape\n",
    "    n = 0.5*N*(N-1)\n",
    "    k = N*D + N + 1.0 - 0.5*D*(D-1)\n",
    "    \n",
    "    return k*np.log(n) + 2.0*MDS_lkl(fit, dmat)"
   ]
  },
  {
   "cell_type": "markdown",
   "id": "e7ccab40",
   "metadata": {},
   "source": [
    "## Bayesian information criteria\n",
    "\n",
    "There is a lot of formal Bayesian Theory behind this (see chapter 2 here https://urldefense.proofpoint.com/v2/url?u=https-3A__www.inference.org.uk_mackay_thesis.pdf&d=DwIGAg&c=-35OiAkTchMrZOngvJPOeA&r=B8GeUuyHfxQP8MseZuhipQ&m=KVww4gh9-XOtp1LqNUc0K-PGXOX3bm2QsokPFlBG9Vs&s=UBtNEdIXatq_zFpG53nmPCLbCnlgIgWigHYhEnBRYyo&e= ), but essentially we are trying to find the minimal number of parameters to describe a dataset. If the data is 5D, we don't want to use 7 parameters to describe it. The BIC is like a cost function that rewards a model that has a better fit to the likelihood function, but penalizes models that increase the number of their parameters. The model which minimizes this function will thus have the ideal trade-off of being able to model the data well without introducing too many parameters and overfitting the data."
   ]
  },
  {
   "cell_type": "code",
   "execution_count": 36,
   "id": "f3688551",
   "metadata": {},
   "outputs": [],
   "source": [
    "all_BIC = [BIC(fit, distance_matrix_squaredp) for fit in all_fits]"
   ]
  },
  {
   "cell_type": "code",
   "execution_count": 37,
   "id": "b1160cc0",
   "metadata": {},
   "outputs": [
    {
     "data": {
      "text/plain": [
       "[-191.72538777170212,\n",
       " -3185.5441384609458,\n",
       " -4125.225129623301,\n",
       " -4380.30074990758,\n",
       " -4409.602781483565,\n",
       " -4324.5490892271755,\n",
       " -4219.4552591465135,\n",
       " -4040.850754315974,\n",
       " -3826.4873811069783,\n",
       " -3592.8742656092545,\n",
       " -3325.6076451315503,\n",
       " -3069.1454008361343,\n",
       " -2794.170350916913]"
      ]
     },
     "execution_count": 37,
     "metadata": {},
     "output_type": "execute_result"
    }
   ],
   "source": [
    "all_BIC"
   ]
  },
  {
   "cell_type": "markdown",
   "id": "daae8d10",
   "metadata": {},
   "source": [
    "As you can see the BIC is minimized at the true dimension of 5. Any more parameters would have been redundant, any less would not have properly fit the data"
   ]
  },
  {
   "cell_type": "code",
   "execution_count": 38,
   "id": "c3160255",
   "metadata": {},
   "outputs": [
    {
     "data": {
      "text/plain": [
       "Text(0, 0.5, 'BIC')"
      ]
     },
     "execution_count": 38,
     "metadata": {},
     "output_type": "execute_result"
    },
    {
     "data": {
      "image/png": "[encoded data removed]",
      "text/plain": [
       "<Figure size 750x750 with 1 Axes>"
      ]
     },
     "metadata": {},
     "output_type": "display_data"
    }
   ],
   "source": [
    "fig, ax = plt.subplots(figsize=(7.5,7.5))\n",
    "\n",
    "ax.scatter(np.arange(2,15), all_BIC, c = 'cornflowerblue') #cornflowerblue, lightcoral\n",
    "ax.set_xlabel('Dimension', fontsize=20)\n",
    "ax.set_ylabel('BIC', fontsize=20)"
   ]
  },
  {
   "cell_type": "markdown",
   "id": "ce171280",
   "metadata": {},
   "source": [
    "# Re-Running the optimizer\n",
    "Lets start by generating some 2D data"
   ]
  },
  {
   "cell_type": "markdown",
   "id": "66b6d256",
   "metadata": {},
   "source": [
    "What is the purpose of re-running?"
   ]
  },
  {
   "cell_type": "code",
   "execution_count": 39,
   "id": "6159dca9",
   "metadata": {},
   "outputs": [],
   "source": [
    "#generate 100 data points uniformly distributed in 5 dimensional hyperbolic space of radius R=4\n",
    "dim=2; R=4.0;\n",
    "n=100\n",
    "dirs = stats.norm.rvs(size=(n, dim))\n",
    "dirs = (dirs.T/np.sqrt(np.sum(np.square(dirs), axis=1))).T\n",
    "U = stats.uniform.rvs(size=n)\n",
    "rs_p = np.tanh(np.log((1-np.exp(-R))/np.exp(-R)*(U) + 1.0)/2.0)\n",
    "p_coords = rs_p.reshape(-1,1)*dirs\n",
    "\n",
    "#add noise to the computed distance matrix to simulate a more realistic dataset\n",
    "mat_2D = get_dmat(p_coords) + 0.05*R*stats.norm.rvs(size=(n,n))\n",
    "for i in np.arange(n):\n",
    "    for j in np.arange(i+1, n):\n",
    "        mat_2D[j][i] = mat_2D[i][j]\n",
    "mat_2D = 2.0*mat_2D/np.max(mat_2D)"
   ]
  },
  {
   "cell_type": "code",
   "execution_count": 52,
   "id": "9f65f1d2",
   "metadata": {},
   "outputs": [
    {
     "name": "stderr",
     "output_type": "stream",
     "text": [
      "08:23:15 - cmdstanpy - INFO - Chain [1] start processing\n"
     ]
    },
    {
     "name": "stderr",
     "output_type": "stream",
     "text": [
      "08:23:22 - cmdstanpy - INFO - Chain [1] done processing\n",
      "08:23:22 - cmdstanpy - WARNING - The default behavior of CmdStanMLE.stan_variable() will change in a future release to always return a numpy.ndarray, even for scalar variables.\n"
     ]
    }
   ],
   "source": [
    "#dictionary to specify input to simulation\n",
    "dat={'N':76, 'D':6, 'deltaij':distance_matrix_squaredp}\n",
    "#run optimizer\n",
    "model2D = ltz_m.optimize(data=dat, iter=250000, algorithm='LBFGS', tol_rel_grad=1e2)\n",
    "hyp_emb2D = {'euc':model2D.euc, 'sig':model2D.sig, 'lambda':model2D.stan_variable('lambda')}"
   ]
  },
  {
   "cell_type": "code",
   "execution_count": 68,
   "id": "546b43c3",
   "metadata": {},
   "outputs": [],
   "source": [
    "process_sim(hyp_emb2D)"
   ]
  },
  {
   "cell_type": "markdown",
   "id": "77ed16b6",
   "metadata": {},
   "source": [
    "#### Most pts are well fit, but a few are poorly fit (the ones with high sigma) which adds a lot of scatter to the shepard diagram\n",
    "#### The optimizer got caught in a false minimum"
   ]
  },
  {
   "cell_type": "code",
   "execution_count": 69,
   "id": "4bddb3f4",
   "metadata": {},
   "outputs": [
    {
     "data": {
      "text/plain": [
       "dict_keys(['euc', 'sig', 'lambda', 'emb_mat', 'pcoords', 'radii'])"
      ]
     },
     "execution_count": 69,
     "metadata": {},
     "output_type": "execute_result"
    }
   ],
   "source": [
    "#can't find 'emb_mat' parameter \n",
    "hyp_emb2D.keys()"
   ]
  },
  {
   "cell_type": "code",
   "execution_count": 70,
   "id": "bb8c2124",
   "metadata": {},
   "outputs": [
    {
     "ename": "KeyError",
     "evalue": "(array([ 0,  0,  0, ..., 73, 73, 74]), array([ 1,  2,  3, ..., 74, 75, 75]))",
     "output_type": "error",
     "traceback": [
      "\u001b[0;31m---------------------------------------------------------------------------\u001b[0m",
      "\u001b[0;31mKeyError\u001b[0m                                  Traceback (most recent call last)",
      "Cell \u001b[0;32mIn[70], line 3\u001b[0m\n\u001b[1;32m      1\u001b[0m fig, ax \u001b[38;5;241m=\u001b[39m plt\u001b[38;5;241m.\u001b[39msubplots(\u001b[38;5;241m1\u001b[39m, \u001b[38;5;241m2\u001b[39m, figsize\u001b[38;5;241m=\u001b[39m(\u001b[38;5;241m15\u001b[39m,\u001b[38;5;241m7.5\u001b[39m))\n\u001b[0;32m----> 3\u001b[0m ax[\u001b[38;5;241m0\u001b[39m]\u001b[38;5;241m.\u001b[39mscatter(\u001b[43mdistance_matrix_squaredp\u001b[49m\u001b[43m[\u001b[49m\u001b[43mnp\u001b[49m\u001b[38;5;241;43m.\u001b[39;49m\u001b[43mtriu_indices\u001b[49m\u001b[43m(\u001b[49m\u001b[38;5;241;43m76\u001b[39;49m\u001b[43m,\u001b[49m\u001b[43m \u001b[49m\u001b[43mk\u001b[49m\u001b[38;5;241;43m=\u001b[39;49m\u001b[38;5;241;43m1\u001b[39;49m\u001b[43m)\u001b[49m\u001b[43m]\u001b[49m, hyp_emb2D[\u001b[38;5;124m'\u001b[39m\u001b[38;5;124msig\u001b[39m\u001b[38;5;124m'\u001b[39m][np\u001b[38;5;241m.\u001b[39mtriu_indices(\u001b[38;5;241m76\u001b[39m, k\u001b[38;5;241m=\u001b[39m\u001b[38;5;241m1\u001b[39m)])\n\u001b[1;32m      4\u001b[0m ax[\u001b[38;5;241m0\u001b[39m]\u001b[38;5;241m.\u001b[39mplot(np\u001b[38;5;241m.\u001b[39marange(\u001b[38;5;241m3\u001b[39m), np\u001b[38;5;241m.\u001b[39marange(\u001b[38;5;241m3\u001b[39m), c\u001b[38;5;241m=\u001b[39m\u001b[38;5;124m'\u001b[39m\u001b[38;5;124mblack\u001b[39m\u001b[38;5;124m'\u001b[39m, linewidth\u001b[38;5;241m=\u001b[39m\u001b[38;5;241m5\u001b[39m, alpha\u001b[38;5;241m=\u001b[39m\u001b[38;5;241m0.5\u001b[39m)\n\u001b[1;32m      6\u001b[0m ax[\u001b[38;5;241m0\u001b[39m]\u001b[38;5;241m.\u001b[39mset_xlabel(\u001b[38;5;124m'\u001b[39m\u001b[38;5;124mOriginal Distances\u001b[39m\u001b[38;5;124m'\u001b[39m, fontsize\u001b[38;5;241m=\u001b[39m\u001b[38;5;241m20\u001b[39m)\n",
      "File \u001b[0;32m~/miniconda3/envs/HMDS/lib/python3.10/site-packages/pandas/core/frame.py:4102\u001b[0m, in \u001b[0;36mDataFrame.__getitem__\u001b[0;34m(self, key)\u001b[0m\n\u001b[1;32m   4100\u001b[0m \u001b[38;5;28;01mif\u001b[39;00m \u001b[38;5;28mself\u001b[39m\u001b[38;5;241m.\u001b[39mcolumns\u001b[38;5;241m.\u001b[39mnlevels \u001b[38;5;241m>\u001b[39m \u001b[38;5;241m1\u001b[39m:\n\u001b[1;32m   4101\u001b[0m     \u001b[38;5;28;01mreturn\u001b[39;00m \u001b[38;5;28mself\u001b[39m\u001b[38;5;241m.\u001b[39m_getitem_multilevel(key)\n\u001b[0;32m-> 4102\u001b[0m indexer \u001b[38;5;241m=\u001b[39m \u001b[38;5;28;43mself\u001b[39;49m\u001b[38;5;241;43m.\u001b[39;49m\u001b[43mcolumns\u001b[49m\u001b[38;5;241;43m.\u001b[39;49m\u001b[43mget_loc\u001b[49m\u001b[43m(\u001b[49m\u001b[43mkey\u001b[49m\u001b[43m)\u001b[49m\n\u001b[1;32m   4103\u001b[0m \u001b[38;5;28;01mif\u001b[39;00m is_integer(indexer):\n\u001b[1;32m   4104\u001b[0m     indexer \u001b[38;5;241m=\u001b[39m [indexer]\n",
      "File \u001b[0;32m~/miniconda3/envs/HMDS/lib/python3.10/site-packages/pandas/core/indexes/range.py:417\u001b[0m, in \u001b[0;36mRangeIndex.get_loc\u001b[0;34m(self, key)\u001b[0m\n\u001b[1;32m    415\u001b[0m         \u001b[38;5;28;01mraise\u001b[39;00m \u001b[38;5;167;01mKeyError\u001b[39;00m(key) \u001b[38;5;28;01mfrom\u001b[39;00m \u001b[38;5;21;01merr\u001b[39;00m\n\u001b[1;32m    416\u001b[0m \u001b[38;5;28;01mif\u001b[39;00m \u001b[38;5;28misinstance\u001b[39m(key, Hashable):\n\u001b[0;32m--> 417\u001b[0m     \u001b[38;5;28;01mraise\u001b[39;00m \u001b[38;5;167;01mKeyError\u001b[39;00m(key)\n\u001b[1;32m    418\u001b[0m \u001b[38;5;28mself\u001b[39m\u001b[38;5;241m.\u001b[39m_check_indexing_error(key)\n\u001b[1;32m    419\u001b[0m \u001b[38;5;28;01mraise\u001b[39;00m \u001b[38;5;167;01mKeyError\u001b[39;00m(key)\n",
      "\u001b[0;31mKeyError\u001b[0m: (array([ 0,  0,  0, ..., 73, 73, 74]), array([ 1,  2,  3, ..., 74, 75, 75]))"
     ]
    },
    {
     "data": {
      "image/png": "[encoded data removed]",
      "text/plain": [
       "<Figure size 1500x750 with 2 Axes>"
      ]
     },
     "metadata": {},
     "output_type": "display_data"
    }
   ],
   "source": [
    "fig, ax = plt.subplots(1, 2, figsize=(15,7.5))\n",
    "\n",
    "ax[0].scatter(distance_matrix_squaredp[np.triu_indices(76, k=1)], hyp_emb2D['sig'][np.triu_indices(76, k=1)])\n",
    "ax[0].plot(np.arange(3), np.arange(3), c='black', linewidth=5, alpha=0.5)\n",
    "\n",
    "ax[0].set_xlabel('Original Distances', fontsize=20)\n",
    "ax[0].set_ylabel('Embedding Distances / $\\lambda$', fontsize=20)\n",
    "\n",
    "ax[1].hist(hyp_emb2D['sig'])\n",
    "ax[1].set_xlabel('Embedding Uncertainties', fontsize=20)"
   ]
  },
  {
   "cell_type": "markdown",
   "id": "23edc498",
   "metadata": {},
   "source": [
    "### Strategy: randomize the positions of the poorly fit points, and then return the coordinates as the initial conditions to continue optimizing. This bumps the simulation out of the false minimium without destroying all of the work its already done"
   ]
  },
  {
   "cell_type": "code",
   "execution_count": null,
   "id": "e47006a6",
   "metadata": {},
   "outputs": [],
   "source": [
    "#figure out which pts have high uncertainty, and randomize their coordinates without touching the rest of the points\n",
    "N_refit = np.where(hyp_emb2D['sig'] > 0.3)[0].shape[0]\n",
    "hyp_emb2D['euc'][np.where(hyp_emb2D['sig'] > 0.3)] = stats.norm.rvs(size=(N_refit,2))"
   ]
  },
  {
   "cell_type": "code",
   "execution_count": 63,
   "id": "44aa4765",
   "metadata": {},
   "outputs": [
    {
     "name": "stderr",
     "output_type": "stream",
     "text": [
      "10:43:02 - cmdstanpy - INFO - Chain [1] start processing\n"
     ]
    },
    {
     "name": "stderr",
     "output_type": "stream",
     "text": [
      "10:43:02 - cmdstanpy - INFO - Chain [1] done processing\n",
      "10:43:02 - cmdstanpy - ERROR - Chain [1] error: error during processing Operation not permitted\n"
     ]
    },
    {
     "ename": "RuntimeError",
     "evalue": "Error during optimization! Command '/Users/iuliarusu/Documents/Sharpee/HMDS-example/model/lorentz random seed=68596 data file=/var/folders/4x/v6r504vx43l3xd43p7kmbr400000gn/T/tmpsa_hre7t/u121a30o.json init=/var/folders/4x/v6r504vx43l3xd43p7kmbr400000gn/T/tmpsa_hre7t/dp7kyew5.json output file=/var/folders/4x/v6r504vx43l3xd43p7kmbr400000gn/T/tmpsa_hre7t/lorentz45741blj/lorentz-20240801104302.csv method=optimize algorithm=lbfgs tol_rel_grad=100.0 iter=250000' failed: console log output:\n\nmethod = optimize\n  optimize\n    algorithm = lbfgs (Default)\n      lbfgs\n        init_alpha = 0.001 (Default)\n        tol_obj = 1e-12 (Default)\n        tol_rel_obj = 10000 (Default)\n        tol_grad = 1e-08 (Default)\n        tol_rel_grad = 100\n        tol_param = 1e-08 (Default)\n        history_size = 5 (Default)\n    jacobian = 0 (Default)\n    iter = 250000\n    save_iterations = 0 (Default)\nid = 1 (Default)\ndata\n  file = /var/folders/4x/v6r504vx43l3xd43p7kmbr400000gn/T/tmpsa_hre7t/u121a30o.json\ninit = /var/folders/4x/v6r504vx43l3xd43p7kmbr400000gn/T/tmpsa_hre7t/dp7kyew5.json\nrandom\n  seed = 68596\noutput\n  file = /var/folders/4x/v6r504vx43l3xd43p7kmbr400000gn/T/tmpsa_hre7t/lorentz45741blj/lorentz-20240801104302.csv\n  diagnostic_file =  (Default)\n  refresh = 100 (Default)\n  sig_figs = -1 (Default)\n  profile_file = profile.csv (Default)\n  save_cmdstan_config = 0 (Default)\nnum_threads = 1 (Default)\n\nUnrecoverable error evaluating the log probability at the initial value.\nException: mismatch in dimension declared and found in context; processing stage=parameter initialization; variable name=euc; position=0; dims declared=(100,2); dims found=(76,6) (in 'lorentz.stan', line 19, column 4 to column 27)\n",
     "output_type": "error",
     "traceback": [
      "\u001b[0;31m---------------------------------------------------------------------------\u001b[0m",
      "\u001b[0;31mRuntimeError\u001b[0m                              Traceback (most recent call last)",
      "Cell \u001b[0;32mIn[63], line 3\u001b[0m\n\u001b[1;32m      1\u001b[0m \u001b[38;5;66;03m#re-reun the optimizer, but this time sepcify the initial condition by passing the previous simulation dictionary\u001b[39;00m\n\u001b[1;32m      2\u001b[0m dat\u001b[38;5;241m=\u001b[39m{\u001b[38;5;124m'\u001b[39m\u001b[38;5;124mN\u001b[39m\u001b[38;5;124m'\u001b[39m:\u001b[38;5;241m100\u001b[39m, \u001b[38;5;124m'\u001b[39m\u001b[38;5;124mD\u001b[39m\u001b[38;5;124m'\u001b[39m:\u001b[38;5;241m2\u001b[39m, \u001b[38;5;124m'\u001b[39m\u001b[38;5;124mdeltaij\u001b[39m\u001b[38;5;124m'\u001b[39m:mat_2D}\n\u001b[0;32m----> 3\u001b[0m model2D \u001b[38;5;241m=\u001b[39m \u001b[43mltz_m\u001b[49m\u001b[38;5;241;43m.\u001b[39;49m\u001b[43moptimize\u001b[49m\u001b[43m(\u001b[49m\u001b[43mdata\u001b[49m\u001b[38;5;241;43m=\u001b[39;49m\u001b[43mdat\u001b[49m\u001b[43m,\u001b[49m\u001b[43m \u001b[49m\u001b[38;5;28;43miter\u001b[39;49m\u001b[38;5;241;43m=\u001b[39;49m\u001b[38;5;241;43m250000\u001b[39;49m\u001b[43m,\u001b[49m\u001b[43m \u001b[49m\u001b[43malgorithm\u001b[49m\u001b[38;5;241;43m=\u001b[39;49m\u001b[38;5;124;43m'\u001b[39;49m\u001b[38;5;124;43mLBFGS\u001b[39;49m\u001b[38;5;124;43m'\u001b[39;49m\u001b[43m,\u001b[49m\u001b[43m \u001b[49m\u001b[43mtol_rel_grad\u001b[49m\u001b[38;5;241;43m=\u001b[39;49m\u001b[38;5;241;43m1e2\u001b[39;49m\u001b[43m,\u001b[49m\u001b[43minits\u001b[49m\u001b[43m \u001b[49m\u001b[38;5;241;43m=\u001b[39;49m\u001b[43m \u001b[49m\u001b[43mhyp_emb2D\u001b[49m\u001b[43m)\u001b[49m\n\u001b[1;32m      4\u001b[0m hyp_emb2D \u001b[38;5;241m=\u001b[39m {\u001b[38;5;124m'\u001b[39m\u001b[38;5;124meuc\u001b[39m\u001b[38;5;124m'\u001b[39m:model2D\u001b[38;5;241m.\u001b[39meuc, \u001b[38;5;124m'\u001b[39m\u001b[38;5;124msig\u001b[39m\u001b[38;5;124m'\u001b[39m:model2D\u001b[38;5;241m.\u001b[39msig, \u001b[38;5;124m'\u001b[39m\u001b[38;5;124mlambda\u001b[39m\u001b[38;5;124m'\u001b[39m:model2D\u001b[38;5;241m.\u001b[39mstan_variable(\u001b[38;5;124m'\u001b[39m\u001b[38;5;124mlambda\u001b[39m\u001b[38;5;124m'\u001b[39m)}\n\u001b[1;32m      5\u001b[0m \u001b[38;5;66;03m# tst_2D = ltz_m.optimizing(data=dat, iter=250000, tol_rel_grad=1e2, init=tst_2D)\u001b[39;00m\n",
      "File \u001b[0;32m~/miniconda3/envs/HMDS/lib/python3.10/site-packages/cmdstanpy/model.py:659\u001b[0m, in \u001b[0;36mCmdStanModel.optimize\u001b[0;34m(self, data, seed, inits, output_dir, sig_figs, save_profile, algorithm, init_alpha, tol_obj, tol_rel_obj, tol_grad, tol_rel_grad, tol_param, history_size, iter, save_iterations, require_converged, show_console, refresh, time_fmt, timeout, jacobian)\u001b[0m\n\u001b[1;32m    657\u001b[0m         get_logger()\u001b[38;5;241m.\u001b[39mwarning(msg)\n\u001b[1;32m    658\u001b[0m     \u001b[38;5;28;01melse\u001b[39;00m:\n\u001b[0;32m--> 659\u001b[0m         \u001b[38;5;28;01mraise\u001b[39;00m \u001b[38;5;167;01mRuntimeError\u001b[39;00m(msg)\n\u001b[1;32m    660\u001b[0m mle \u001b[38;5;241m=\u001b[39m CmdStanMLE(runset)\n\u001b[1;32m    661\u001b[0m \u001b[38;5;28;01mreturn\u001b[39;00m mle\n",
      "\u001b[0;31mRuntimeError\u001b[0m: Error during optimization! Command '/Users/iuliarusu/Documents/Sharpee/HMDS-example/model/lorentz random seed=68596 data file=/var/folders/4x/v6r504vx43l3xd43p7kmbr400000gn/T/tmpsa_hre7t/u121a30o.json init=/var/folders/4x/v6r504vx43l3xd43p7kmbr400000gn/T/tmpsa_hre7t/dp7kyew5.json output file=/var/folders/4x/v6r504vx43l3xd43p7kmbr400000gn/T/tmpsa_hre7t/lorentz45741blj/lorentz-20240801104302.csv method=optimize algorithm=lbfgs tol_rel_grad=100.0 iter=250000' failed: console log output:\n\nmethod = optimize\n  optimize\n    algorithm = lbfgs (Default)\n      lbfgs\n        init_alpha = 0.001 (Default)\n        tol_obj = 1e-12 (Default)\n        tol_rel_obj = 10000 (Default)\n        tol_grad = 1e-08 (Default)\n        tol_rel_grad = 100\n        tol_param = 1e-08 (Default)\n        history_size = 5 (Default)\n    jacobian = 0 (Default)\n    iter = 250000\n    save_iterations = 0 (Default)\nid = 1 (Default)\ndata\n  file = /var/folders/4x/v6r504vx43l3xd43p7kmbr400000gn/T/tmpsa_hre7t/u121a30o.json\ninit = /var/folders/4x/v6r504vx43l3xd43p7kmbr400000gn/T/tmpsa_hre7t/dp7kyew5.json\nrandom\n  seed = 68596\noutput\n  file = /var/folders/4x/v6r504vx43l3xd43p7kmbr400000gn/T/tmpsa_hre7t/lorentz45741blj/lorentz-20240801104302.csv\n  diagnostic_file =  (Default)\n  refresh = 100 (Default)\n  sig_figs = -1 (Default)\n  profile_file = profile.csv (Default)\n  save_cmdstan_config = 0 (Default)\nnum_threads = 1 (Default)\n\nUnrecoverable error evaluating the log probability at the initial value.\nException: mismatch in dimension declared and found in context; processing stage=parameter initialization; variable name=euc; position=0; dims declared=(100,2); dims found=(76,6) (in 'lorentz.stan', line 19, column 4 to column 27)\n"
     ]
    }
   ],
   "source": [
    "#re-reun the optimizer, but this time sepcify the initial condition by passing the previous simulation dictionary\n",
    "dat={'N':100, 'D':2, 'deltaij':mat_2D}\n",
    "model2D = ltz_m.optimize(data=dat, iter=250000, algorithm='LBFGS', tol_rel_grad=1e2,inits = hyp_emb2D)\n",
    "hyp_emb2D = {'euc':model2D.euc, 'sig':model2D.sig, 'lambda':model2D.stan_variable('lambda')}\n",
    "# tst_2D = ltz_m.optimizing(data=dat, iter=250000, tol_rel_grad=1e2, init=tst_2D)"
   ]
  },
  {
   "cell_type": "code",
   "execution_count": null,
   "id": "4dc911c9",
   "metadata": {},
   "outputs": [],
   "source": [
    "process_sim(hyp_emb2D)"
   ]
  },
  {
   "cell_type": "markdown",
   "id": "b28b534e",
   "metadata": {},
   "source": [
    "### We see that the fit is significantly better, although there are still a few poorly fit points. We could keep iterating the above process until all points are well fit."
   ]
  },
  {
   "cell_type": "code",
   "execution_count": null,
   "id": "9f3fa17a",
   "metadata": {},
   "outputs": [],
   "source": [
    "fig, ax = plt.subplots(1, 2, figsize=(15,7.5))\n",
    "\n",
    "ax[0].scatter(mat_2D[np.triu_indices(100, k=1)], hyp_emb2D['emb_mat'][np.triu_indices(100, k=1)])\n",
    "ax[0].plot(np.arange(3), np.arange(3), c='black', linewidth=5, alpha=0.5)\n",
    "\n",
    "ax[0].set_xlabel('Original Distances', fontsize=20)\n",
    "ax[0].set_ylabel('Embedding Distances / $\\lambda$', fontsize=20)\n",
    "\n",
    "ax[1].hist(hyp_emb2D['sig'])\n",
    "ax[1].set_xlabel('Embedding Uncertainties', fontsize=20)"
   ]
  }
 ],
 "metadata": {
  "kernelspec": {
   "display_name": "Python 3 (ipykernel)",
   "language": "python",
   "name": "python3"
  },
  "language_info": {
   "codemirror_mode": {
    "name": "ipython",
    "version": 3
   },
   "file_extension": ".py",
   "mimetype": "text/x-python",
   "name": "python",
   "nbconvert_exporter": "python",
   "pygments_lexer": "ipython3",
   "version": "3.10.14"
  }
 },
 "nbformat": 4,
 "nbformat_minor": 5
}
