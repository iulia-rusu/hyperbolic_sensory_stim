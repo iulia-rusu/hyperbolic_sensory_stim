{
 "cells": [
  {
   "cell_type": "code",
   "execution_count": 1,
   "metadata": {},
   "outputs": [],
   "source": [
    "import numpy as np\n",
    "import pandas as pd\n",
    "import matplotlib.pyplot as plt\n",
    "import plotly.express as px\n"
   ]
  },
  {
   "cell_type": "code",
   "execution_count": 32,
   "metadata": {},
   "outputs": [
    {
     "name": "stdout",
     "output_type": "stream",
     "text": [
      "Stored variables and their in-db values:\n",
      "AVA_0_df                             ->            0         1         2         3        \n",
      "AVA_RME_labels                       -> array(['AVA', 'AVA', 'AVA', 'AVA', 'AVA', 'AVA', '\n",
      "AVA_RME_pcoords                      -> array([[ 2.07991102e-01, -1.30040395e-01,  2.60703\n",
      "AVA_RME_pcoords_15dim                -> array([[-0.12600773,  0.08347497,  0.14896734, ...\n",
      "AVA_RME_stim0_labels                 -> array(['AVA', 'AVA', 'AVA', 'AVA', 'AVA', 'AVA', '\n",
      "AVA_RME_stim0_pcoords                -> array([[-0.12281661, -0.05609896, -0.21207597, -0.\n",
      "AVA_RME_stim1_labels                 -> array(['AVA', 'AVA', 'AVA', 'AVA', 'AVA', 'AVA', '\n",
      "AVA_RME_stim1_pcoords                -> array([[ 4.50658786e-01,  4.15805332e-02,  1.84402\n",
      "AVA_RME_worm_labels                  -> array(['worm 0', 'worm 0', 'worm 0', 'worm 0', 'wo\n",
      "ON_OFF_labels                        -> array(['ON', 'ON', 'ON', 'ON', 'ON', 'ON', 'ON', '\n",
      "ON_OFF_pcoords                       -> array([[ 0.07966197,  0.00259599,  0.12440066,  0.\n",
      "RME_0_df                             ->            0         1         2         3        \n",
      "SMDD_0_df                            ->           0         1         2         3        4\n",
      "SMDD_SMDV_labels                     -> array(['SMDD', 'SMDD', 'SMDD', 'SMDD', 'SMDD', 'SM\n",
      "SMDD_SMDV_pcoords                    -> array([[-0.03107731, -0.95572063,  0.24437986,  0.\n",
      "SMDD_SMDV_pcoords_15                 -> array([[-0.28855151, -0.08214893, -0.17786911,  0.\n",
      "SMDD_SMDV_stim0_labels               -> array(['SMDD', 'SMDD', 'SMDD', 'SMDD', 'SMDD', 'SM\n",
      "SMDD_SMDV_stim0_pcoords              -> array([[ 0.29088065, -0.09782843,  0.93438751],\n",
      "  \n",
      "SMDD_SMDV_stim1_labels               -> array(['SMDD', 'SMDD', 'SMDD', 'SMDD', 'SMDD', 'SM\n",
      "SMDD_SMDV_stim1_pcoords              -> array([[-0.82962275, -0.41191753,  0.35303398],\n",
      "  \n",
      "SMVD_0_df                            ->            0        1         2         3    4    \n",
      "ava_rme_stimuli                      -> array(['stimulus 0', 'stimulus 0', 'stimulus 0', '\n",
      "clust_labs_AVA_RME_stim1             -> ['RME', 'RME', 'RME', 'RME', 'RME', 'RME', 'RME', \n",
      "hyp_emb                              -> {'euc': array([[ 7.99811e-01,  3.53625e+00,  4.045\n",
      "pcoords_AVA_RME_stim1                -> array([[ 0.76242116,  0.48985351, -0.31050488],\n",
      "  \n",
      "sensory_cells                        -> array([[1.11844192e-01, 9.99277417e-01, 1.92603892\n",
      "sensory_pcoords                      -> array([[ 1.50144439e-01, -7.43878432e-01,  1.56969\n",
      "stim_1_AVA_RME                       ->             0         1         2         3       \n",
      "stim_1_AVA_RME_labels                ->     worm_id  stim_group  OriginalIndex\n",
      "0         4\n",
      "w_0_cluster_labels                   -> array(['ON', 'ON', 'ON', 'ON', 'ON', 'ON', 'ON', '\n",
      "w_0_clustered                        -> array([[-0.76952588,  0.40197302, -0.38086669],\n",
      "  \n",
      "w_0_radii                            -> array([1.81641173, 1.53441208, 1.58526969, 1.85174\n",
      "w_1_radii                            -> array([2.26409117, 2.65537119, 2.26485151, 2.31786\n",
      "w_1_unclustered                      -> array([[-0.13845089, -0.92366882, -0.30190105],\n",
      "  \n",
      "w_2_radii                            -> array([1.9067896 , 1.87096569, 1.93433479, 1.76526\n",
      "w_3_radii                            -> array([2.26675395, 2.42544511, 2.49602196, 2.31126\n",
      "w_4_radii                            -> array([1.90831052, 2.05115179, 2.08767568, 1.97836\n",
      "w_5_radii                            -> array([1.92306872, 1.76099192, 1.67302891, 2.02243\n",
      "w_6_radii                            -> array([1.45730165, 1.44094244, 1.72656391, 1.60304\n"
     ]
    }
   ],
   "source": [
    "%store \n"
   ]
  },
  {
   "cell_type": "code",
   "execution_count": 34,
   "metadata": {},
   "outputs": [],
   "source": [
    "# $ lets you inject a variable into a magic command\n",
    "# putting f intront lets {i} be treated as a variable and not part of the string\n",
    "#eval uses the value of the string\n",
    "\n",
    "radii_dic= {}\n",
    "for i in range(0, 7):\n",
    "    x = f'w_{i}_radii'\n",
    "    %store -r $x\n",
    "    radii_dic[x] = eval(x)"
   ]
  },
  {
   "cell_type": "code",
   "execution_count": 35,
   "metadata": {},
   "outputs": [
    {
     "data": {
      "text/plain": [
       "dict_keys(['w_0_radii', 'w_1_radii', 'w_2_radii', 'w_3_radii', 'w_4_radii', 'w_5_radii', 'w_6_radii'])"
      ]
     },
     "execution_count": 35,
     "metadata": {},
     "output_type": "execute_result"
    }
   ],
   "source": [
    "radii_dic.keys()"
   ]
  },
  {
   "cell_type": "code",
   "execution_count": 55,
   "metadata": {},
   "outputs": [
    {
     "name": "stderr",
     "output_type": "stream",
     "text": [
      "/var/folders/4x/v6r504vx43l3xd43p7kmbr400000gn/T/ipykernel_89988/141103464.py:8: UserWarning: set_ticklabels() should only be used with a fixed number of ticks, i.e. after set_ticks() or using a FixedLocator.\n",
      "  ax.set_yticklabels(ax.get_yticks(), fontsize=15)\n"
     ]
    },
    {
     "data": {
      "image/png": "[encoded data removed]",
      "text/plain": [
       "<Figure size 640x480 with 1 Axes>"
      ]
     },
     "metadata": {},
     "output_type": "display_data"
    }
   ],
   "source": [
    "data = list(radii_dic.values())\n",
    "labels = list(radii_dic.keys())\n",
    "\n",
    "fig, ax = plt.subplots()\n",
    "plt.title('Hyperbolic Embedding Radius', size = 15)\n",
    "ax.boxplot(data, labels = labels, medianprops=dict(color='red'))\n",
    "ax.set_ylim(0,3)\n",
    "ax.set_yticklabels(ax.get_yticks(), fontsize=15)\n",
    "ax.set_xticklabels(['0', '1', '2', '3', '4', '5', '6'], size = 15)\n",
    "plt.show()\n",
    "    "
   ]
  },
  {
   "cell_type": "code",
   "execution_count": null,
   "metadata": {},
   "outputs": [],
   "source": []
  }
 ],
 "metadata": {
  "kernelspec": {
   "display_name": "HMDS",
   "language": "python",
   "name": "python3"
  },
  "language_info": {
   "codemirror_mode": {
    "name": "ipython",
    "version": 3
   },
   "file_extension": ".py",
   "mimetype": "text/x-python",
   "name": "python",
   "nbconvert_exporter": "python",
   "pygments_lexer": "ipython3",
   "version": "3.10.14"
  }
 },
 "nbformat": 4,
 "nbformat_minor": 2
}
