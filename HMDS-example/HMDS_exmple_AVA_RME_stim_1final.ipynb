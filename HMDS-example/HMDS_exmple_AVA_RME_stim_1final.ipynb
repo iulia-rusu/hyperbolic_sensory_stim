{
 "cells": [
  {
   "cell_type": "code",
   "execution_count": 1,
   "id": "dbb521f1",
   "metadata": {},
   "outputs": [],
   "source": [
    "'''\n",
    "Method developed by Anoop Praturu: https://www.biorxiv.org/content/10.1101/2022.10.12.511940v1\n",
    "Code from Anoop Praturu on Oct 2021\n",
    "Move from pystan to cmdstanpy based on suggestions by Milo Julis\n",
    "Edited by Mingchen Yao on May 26 2023\n",
    "'''\n",
    "\n",
    "import numpy as np\n",
    "import diptest  \n",
    "import matplotlib.pyplot as plt\n",
    "import cmdstanpy as stan\n",
    "import scipy.stats as stats\n",
    "import pickle\n",
    "import seaborn as sns\n",
    "%matplotlib inline\n",
    "\n",
    "import pandas as pd\n",
    "\n",
    "import plotly.express as px\n",
    "from matplotlib import rcParams\n",
    "import plotly.express as px"
   ]
  },
  {
   "cell_type": "code",
   "execution_count": null,
   "id": "73e1d8b7",
   "metadata": {},
   "outputs": [],
   "source": [
    "# # if there is anything wrong with comstan: re-install it. Otherwise don't run this cell\n",
    "# from cmdstanpy import install_cmdstan\n",
    "# install_cmdstan(overwrite = True)"
   ]
  },
  {
   "cell_type": "code",
   "execution_count": 2,
   "id": "e6c280a4",
   "metadata": {},
   "outputs": [
    {
     "name": "stdout",
     "output_type": "stream",
     "text": [
      "Python 3.10.14\n"
     ]
    }
   ],
   "source": [
    "!python --version"
   ]
  },
  {
   "cell_type": "markdown",
   "id": "93f95b0f",
   "metadata": {},
   "source": [
    "# Functions for Generating Synthetic Data"
   ]
  },
  {
   "cell_type": "code",
   "execution_count": 2,
   "id": "f16c0781",
   "metadata": {},
   "outputs": [],
   "source": [
    "#returns hyperbolic distance between vectors in poincare ball\n",
    "def poincare_dist(v1, v2):\n",
    "    sq = np.sum(np.square(v1-v2))\n",
    "    r1 = np.sum(np.square(v1))\n",
    "    r2 = np.sum(np.square(v2))\n",
    "    inv = 2.0*sq/((1.0-r1)*(1.0-r2))\n",
    "    return np.arccosh(1.0 + inv)\n",
    "\n",
    "#return NxN symmetric distance matrix from poincare coordinates\n",
    "def get_dmat(p_coords):\n",
    "    N = p_coords.shape[0]\n",
    "    dists = np.zeros((N, N))\n",
    "    \n",
    "    for i in np.arange(N):\n",
    "        for j in np.arange(i+1, N):\n",
    "            dists[i][j] = poincare_dist(p_coords[i], p_coords[j])\n",
    "            dists[j][i] = dists[i][j]\n",
    "    return dists"
   ]
  },
  {
   "cell_type": "code",
   "execution_count": 3,
   "id": "f942b036",
   "metadata": {},
   "outputs": [],
   "source": [
    "#generate 100 data points uniformly distributed in 5 dimensional hyperbolic space of radius R=4\n",
    "dim=5; R=4.0;\n",
    "n=100\n",
    "dirs = stats.norm.rvs(size=(n, dim))\n",
    "dirs = (dirs.T/np.sqrt(np.sum(np.square(dirs), axis=1))).T\n",
    "U = stats.uniform.rvs(size=n)\n",
    "rs_p = np.tanh(np.log((1-np.exp(-R))/np.exp(-R)*(U) + 1.0)/2.0)\n",
    "p_coords = rs_p.reshape(-1,1)*dirs\n",
    "\n",
    "#add noise to the computed distance matrix to simulate a more realistic dataset\n",
    "mat_dim = get_dmat(p_coords) + 0.05*R*stats.norm.rvs(size=(n,n))\n",
    "for i in np.arange(n):\n",
    "    for j in np.arange(i+1, n):\n",
    "        mat_dim[j][i] = mat_dim[i][j]\n",
    "mat_dim = 2.0*mat_dim/np.max(mat_dim)"
   ]
  },
  {
   "cell_type": "markdown",
   "id": "abf7bb38",
   "metadata": {},
   "source": [
    "# Code for fitting Bayesian Model"
   ]
  },
  {
   "cell_type": "code",
   "execution_count": 3,
   "id": "0a7b4752",
   "metadata": {},
   "outputs": [],
   "source": [
    "path = '/Users/iuliarusu/Documents/Sharpee/HMDS-example/model/'\n",
    "ltz_m = stan.CmdStanModel(stan_file=path+'lorentz.stan')"
   ]
  },
  {
   "cell_type": "markdown",
   "id": "4ea2a559",
   "metadata": {},
   "source": [
    "## Run the optimizer given the synthetically generated Data set"
   ]
  },
  {
   "cell_type": "code",
   "execution_count": 4,
   "id": "0ecd94af",
   "metadata": {},
   "outputs": [],
   "source": [
    "#import AVA data from all cells\n",
    "AVA_0_df = pd.read_csv ('/Users/iuliarusu/Documents/Sharpee/Clustering/clustered_bacterial_stim/AVA_0_df.csv')\n",
    "AVA_1_df = pd.read_csv('/Users/iuliarusu/Documents/Sharpee/Clustering/clustered_bacterial_stim/AVA_1_df.csv') \n",
    "AVA_2_df = pd.read_csv('/Users/iuliarusu/Documents/Sharpee/Clustering/clustered_bacterial_stim/AVA_2_df.csv')\n",
    "AVA_3_df = pd.read_csv('/Users/iuliarusu/Documents/Sharpee/Clustering/clustered_bacterial_stim/AVA_3_df.csv') \n",
    "AVA_4_df = pd.read_csv('/Users/iuliarusu/Documents/Sharpee/Clustering/clustered_bacterial_stim/AVA_4_df.csv') \n",
    "AVA_5_df = pd.read_csv('/Users/iuliarusu/Documents/Sharpee/Clustering/clustered_bacterial_stim/AVA_5_df.csv') \n",
    "AVA_6_df = pd.read_csv('/Users/iuliarusu/Documents/Sharpee/Clustering/clustered_bacterial_stim/AVA_6_df.csv')"
   ]
  },
  {
   "cell_type": "code",
   "execution_count": 5,
   "id": "3b998505",
   "metadata": {},
   "outputs": [],
   "source": [
    "RME_0_df = pd.read_csv ('/Users/iuliarusu/Documents/Sharpee/Clustering/clustered_bacterial_stim/RME_0_df.csv')\n",
    "RME_1_df = pd.read_csv('/Users/iuliarusu/Documents/Sharpee/Clustering/clustered_bacterial_stim/RME_1_df.csv') \n",
    "RME_2_df = pd.read_csv('/Users/iuliarusu/Documents/Sharpee/Clustering/clustered_bacterial_stim/RME_2_df.csv')\n",
    "RME_3_df = pd.read_csv('/Users/iuliarusu/Documents/Sharpee/Clustering/clustered_bacterial_stim/RME_3_df.csv') \n",
    "RME_4_df = pd.read_csv('/Users/iuliarusu/Documents/Sharpee/Clustering/clustered_bacterial_stim/RME_4_df.csv') \n",
    "RME_5_df = pd.read_csv('/Users/iuliarusu/Documents/Sharpee/Clustering/clustered_bacterial_stim/RME_5_df.csv') \n",
    "RME_6_df = pd.read_csv('/Users/iuliarusu/Documents/Sharpee/Clustering/clustered_bacterial_stim/RME_6_df.csv')"
   ]
  },
  {
   "cell_type": "code",
   "execution_count": 11,
   "id": "2ec3f3dd",
   "metadata": {},
   "outputs": [
    {
     "data": {
      "text/plain": [
       "(7, 1600)"
      ]
     },
     "execution_count": 11,
     "metadata": {},
     "output_type": "execute_result"
    }
   ],
   "source": [
    "np.array(AVA_2_df.iloc[:, 1: -3]).shape "
   ]
  },
  {
   "cell_type": "code",
   "execution_count": 12,
   "id": "2e63efd7",
   "metadata": {},
   "outputs": [],
   "source": [
    "#process all AVA cells with from the same stim, stim groups: 0, 1, 6 OR 2, 3, 4, 5\n",
    "#stim 1\n",
    "AVA_2 = np.array(AVA_2_df.iloc[:, 1: -3])\n",
    "AVA_3 = np.array(AVA_3_df.iloc[:, 1: -3]) #this has an extra column for each cell's original id\n",
    "AVA_4 = np.array(AVA_4_df.iloc[:, 1: -3]) #this has an extra column for each cell's original id\n",
    "AVA_5 = np.array(AVA_5_df.iloc[:, 1: -3]) \n",
    "\n",
    "#concatenate by row\n",
    "AVA_stim_0 = np.concatenate((AVA_2, AVA_3, AVA_4, AVA_5 ), axis=0)"
   ]
  },
  {
   "cell_type": "code",
   "execution_count": 13,
   "id": "81be1634",
   "metadata": {},
   "outputs": [],
   "source": [
    "#same for RME\n",
    "RME_2 = np.array(RME_2_df.iloc[:, 1: -3])\n",
    "RME_3 = np.array(RME_3_df.iloc[:, 1: -3]) #this has an extra column for each cell's original id\n",
    "RME_4 = np.array(RME_4_df.iloc[:, 1: -3]) #this has an extra column for each cell's original id\n",
    "RME_5 = np.array(RME_5_df.iloc[:, 1: -3])\n",
    "\n",
    "RME_stim_0 = np.concatenate((RME_2, RME_3, RME_4, RME_5 ), axis=0)"
   ]
  },
  {
   "cell_type": "code",
   "execution_count": 14,
   "id": "03a928e5",
   "metadata": {},
   "outputs": [],
   "source": [
    "#concatenate AVA and RME\n",
    "all_stim_0 = np.concatenate((AVA_stim_0, RME_stim_0), axis=0)"
   ]
  },
  {
   "cell_type": "code",
   "execution_count": 15,
   "id": "13add130",
   "metadata": {},
   "outputs": [
    {
     "data": {
      "text/plain": [
       "(97, 1600)"
      ]
     },
     "execution_count": 15,
     "metadata": {},
     "output_type": "execute_result"
    }
   ],
   "source": [
    "all_stim_0.shape"
   ]
  },
  {
   "cell_type": "code",
   "execution_count": 16,
   "id": "01dd76a9",
   "metadata": {},
   "outputs": [],
   "source": [
    "all_stim_0_df = pd.DataFrame(all_stim_0)"
   ]
  },
  {
   "cell_type": "code",
   "execution_count": 17,
   "id": "963960d0",
   "metadata": {},
   "outputs": [],
   "source": [
    "corr_matrix = all_stim_0_df.T.corr()\n"
   ]
  },
  {
   "cell_type": "code",
   "execution_count": 18,
   "id": "028ea7c8",
   "metadata": {},
   "outputs": [],
   "source": [
    "distance_matrix = 1 - corr_matrix\n",
    "distance_matrix_squaredp = (1 - corr_matrix**2) * 2"
   ]
  },
  {
   "cell_type": "code",
   "execution_count": 51,
   "id": "8db4cafc",
   "metadata": {},
   "outputs": [
    {
     "name": "stderr",
     "output_type": "stream",
     "text": [
      "23:03:00 - cmdstanpy - INFO - Chain [1] start processing\n",
      "23:03:11 - cmdstanpy - INFO - Chain [1] done processing\n"
     ]
    }
   ],
   "source": [
    "#dictionary to specify input to simulation\n",
    "\n",
    "# dat={'N':100, 'D':5, 'deltaij':mat_dim}\n",
    "dat = {'N': 97 , 'D': 6 , 'deltaij':distance_matrix_squaredp}\n",
    "#run optimizer\n",
    "model = ltz_m.optimize(data=dat, iter=250000, algorithm='LBFGS', tol_rel_grad=1e2)"
   ]
  },
  {
   "cell_type": "code",
   "execution_count": 52,
   "id": "a880a1ed",
   "metadata": {},
   "outputs": [
    {
     "name": "stderr",
     "output_type": "stream",
     "text": [
      "23:03:17 - cmdstanpy - WARNING - The default behavior of CmdStanMLE.stan_variable() will change in a future release to always return a numpy.ndarray, even for scalar variables.\n"
     ]
    }
   ],
   "source": [
    "# build result \n",
    "hyp_emb = {'euc':model.euc, 'sig':model.sig, 'lambda':model.stan_variable('lambda')}\n",
    "\n",
    "# # and save\n",
    "# fdname = './emb5d.pickle'\n",
    "# with open(fdname,'wb') as file:\n",
    "#     pickle.dump(hyp_emb, file,  protocol=pickle.HIGHEST_PROTOCOL)"
   ]
  },
  {
   "cell_type": "code",
   "execution_count": null,
   "id": "d4ef1297",
   "metadata": {},
   "outputs": [],
   "source": [
    "# # load existing results\n",
    "# fdname = './emb5d.pickle'\n",
    "# with open(fdname, 'rb') as file:\n",
    "#     hyp_emb = pickle.load(file)"
   ]
  },
  {
   "cell_type": "markdown",
   "id": "0f4a4cf9",
   "metadata": {},
   "source": [
    "## Some utility functions for post-processing the simulation output"
   ]
  },
  {
   "cell_type": "code",
   "execution_count": 53,
   "id": "1f033e62",
   "metadata": {},
   "outputs": [],
   "source": [
    "def d_lor(t1, t2, E1, E2):\n",
    "    return np.arccosh(t1*t2 - np.dot(E1, E2))\n",
    "\n",
    "#returns embedding distance matrix from optimization fit\n",
    "def get_embed_dmat(fit):\n",
    "    N = fit['euc'].shape[0]\n",
    "    fit_ts = np.sqrt(1.0 + np.sum(np.square(fit['euc']), axis=1))\n",
    "\n",
    "    fit_mat = np.zeros((N, N))\n",
    "\n",
    "    for i in np.arange(N):\n",
    "        for j in np.arange(i+1,N):\n",
    "            fit_mat[i][j] = d_lor(fit_ts[i], fit_ts[j], fit['euc'][i], fit['euc'][j])\n",
    "            fit_mat[j][i] = fit_mat[i][j]\n",
    "            \n",
    "    return fit_mat\n",
    "\n",
    "#return poincare coordinates\n",
    "def get_poin(fit):\n",
    "    ts = np.sqrt(1.0 + np.sum(np.square(fit['euc']), axis=1))\n",
    "    return (fit['euc'].T / (ts + 1)).T"
   ]
  },
  {
   "cell_type": "code",
   "execution_count": 54,
   "id": "dac6394d",
   "metadata": {},
   "outputs": [],
   "source": [
    "def process_sim(fit):\n",
    "    fit['emb_mat'] = get_embed_dmat(fit)/fit['lambda']\n",
    "    fit['pcoords'] = get_poin(fit)\n",
    "    fit['radii'] = 2.0*np.arctanh(np.sqrt(np.sum(np.square(fit['pcoords']), axis=1)))"
   ]
  },
  {
   "cell_type": "code",
   "execution_count": 55,
   "id": "d651f3ad",
   "metadata": {},
   "outputs": [],
   "source": [
    "#run this function after running the optimizer to process the output data into more usable forms\n",
    "process_sim(hyp_emb)"
   ]
  },
  {
   "cell_type": "code",
   "execution_count": 56,
   "id": "8d3b4c66",
   "metadata": {},
   "outputs": [
    {
     "data": {
      "text/plain": [
       "2.30527"
      ]
     },
     "execution_count": 56,
     "metadata": {},
     "output_type": "execute_result"
    }
   ],
   "source": [
    "#curvature (or radius)\n",
    "hyp_emb['lambda']"
   ]
  },
  {
   "cell_type": "code",
   "execution_count": 57,
   "id": "fa441edb",
   "metadata": {},
   "outputs": [
    {
     "data": {
      "text/plain": [
       "array([[ 4.50658786e-01,  4.15805332e-02,  1.84402139e-01,\n",
       "        -6.96393771e-01, -1.10441857e-01,  1.48447356e-02],\n",
       "       [ 4.49540499e-01, -1.61574186e-02,  2.63573857e-01,\n",
       "        -6.17918087e-01, -2.74458245e-01, -8.79858232e-02],\n",
       "       [ 4.17031912e-01,  1.38444968e-01,  6.66618713e-02,\n",
       "        -7.13891062e-01,  1.35884613e-01, -1.27547072e-01],\n",
       "       [ 2.86076748e-01,  5.45595003e-02,  4.10988145e-02,\n",
       "        -7.26932599e-01, -2.80145729e-02, -3.51286646e-01],\n",
       "       [ 4.69415977e-01, -4.38347849e-03,  3.11543950e-01,\n",
       "        -5.22222179e-01, -3.82538750e-01, -1.02907822e-02],\n",
       "       [ 4.68754149e-01,  7.46070367e-03,  1.23077985e-01,\n",
       "        -6.89891837e-01, -9.85558198e-02, -7.01779425e-02],\n",
       "       [ 3.76661432e-01,  9.74119000e-02,  2.03353030e-01,\n",
       "        -7.28606212e-01, -1.36147976e-03, -1.16192191e-01],\n",
       "       [-3.35172850e-01, -2.53964371e-01,  5.06418495e-01,\n",
       "        -2.57881118e-02,  5.11957520e-01,  1.13773640e-01],\n",
       "       [-3.25123162e-01, -1.52038995e-01,  5.26197698e-01,\n",
       "        -8.89404470e-02,  5.34774406e-01,  9.65389766e-02],\n",
       "       [-2.48475886e-01, -4.25204089e-01,  2.59466045e-01,\n",
       "        -1.07154927e-01,  5.65727965e-01,  2.62120092e-01],\n",
       "       [-3.25199561e-01, -2.84534988e-01,  3.42950724e-01,\n",
       "        -6.31142729e-02,  6.17734640e-01,  1.32397057e-01],\n",
       "       [-2.28952796e-01, -1.56899689e-01,  2.74524131e-01,\n",
       "        -1.94773193e-01,  7.14367224e-01, -7.40004130e-02],\n",
       "       [-2.57892462e-01, -2.87697231e-01,  3.04040062e-01,\n",
       "         1.64241125e-02,  6.63588102e-01,  1.71549281e-01],\n",
       "       [-1.91658067e-01, -3.50938319e-01,  1.52186070e-01,\n",
       "        -9.91174564e-02,  7.14770184e-01, -3.07388459e-02],\n",
       "       [-2.58714403e-01, -3.72931139e-01,  3.93307027e-02,\n",
       "        -4.87833824e-03,  7.07801209e-01, -1.09668380e-01],\n",
       "       [-2.42783511e-01, -4.48692980e-01,  2.44427917e-01,\n",
       "        -6.87152150e-02,  5.54632088e-01,  2.79988747e-01],\n",
       "       [-2.49339323e-01, -3.13504262e-01,  1.73719883e-01,\n",
       "         4.83871032e-02,  7.15120498e-01,  1.33067869e-01],\n",
       "       [-2.58816621e-01, -3.10829479e-01,  3.07779632e-01,\n",
       "        -1.01681387e-01,  6.58006692e-01,  1.51997450e-02],\n",
       "       [-1.60676501e-01, -5.45020637e-01,  4.02953377e-02,\n",
       "        -9.61925615e-03,  6.05331178e-01,  1.57261088e-01],\n",
       "       [-4.17361544e-01,  4.44637902e-01, -3.28056421e-01,\n",
       "         1.80784461e-01, -3.35422645e-01,  2.38665348e-01],\n",
       "       [-2.99566707e-01,  5.20558957e-01, -3.53423056e-01,\n",
       "         2.13282830e-01, -2.38110529e-01,  3.07460365e-01],\n",
       "       [-4.04719816e-01,  4.47072865e-01, -3.57994589e-01,\n",
       "         1.05444117e-01, -4.01131148e-01,  1.17093906e-01],\n",
       "       [-3.46507302e-01,  4.95884680e-01, -5.07686515e-01,\n",
       "         2.47006528e-02, -1.85611894e-01,  2.06108638e-01],\n",
       "       [-4.16210657e-01,  4.53855556e-01, -3.42758299e-01,\n",
       "         1.29432899e-01, -3.86314327e-01,  1.19936018e-01],\n",
       "       [-2.86367819e-01,  7.15412197e-01, -2.74017678e-01,\n",
       "        -1.90542765e-01, -5.14519747e-02,  5.13580314e-02],\n",
       "       [-4.63610722e-01,  5.02228583e-01, -6.42059915e-02,\n",
       "         2.28067852e-01, -4.07058646e-01, -6.43520551e-02],\n",
       "       [-4.97701350e-01,  4.67214814e-01, -1.63326288e-01,\n",
       "        -8.85821179e-02, -4.01995814e-01, -2.22998352e-01],\n",
       "       [-4.01702910e-01,  6.69010343e-01, -2.13242792e-01,\n",
       "        -1.58733811e-01, -1.83631152e-01, -1.53665474e-04],\n",
       "       [-4.25205952e-01,  5.09364974e-01, -3.75575131e-01,\n",
       "         5.98989368e-02, -2.81078924e-01,  1.66597493e-01],\n",
       "       [-3.51162212e-01,  4.99512319e-01, -4.95087169e-01,\n",
       "         2.73671681e-02, -1.92475218e-01,  2.08176150e-01],\n",
       "       [-3.59377642e-01,  5.26669640e-01, -3.55865069e-01,\n",
       "         1.39082808e-01, -2.41977585e-01,  2.90315828e-01],\n",
       "       [-3.47930016e-01,  3.97750791e-01, -2.98062734e-01,\n",
       "         2.55442702e-01, -3.16023512e-01,  3.95895185e-01],\n",
       "       [-4.74705768e-01,  6.04723454e-01, -2.70945335e-01,\n",
       "         1.09931636e-02, -1.28572913e-01,  1.49106784e-01],\n",
       "       [-4.77081690e-01,  3.77672680e-01, -9.35513242e-02,\n",
       "         2.48386346e-01, -4.96526831e-01,  1.35369859e-01],\n",
       "       [-2.69126948e-01,  5.33577852e-01, -1.62659833e-01,\n",
       "         1.97557379e-01, -1.55328637e-01,  5.11504068e-01],\n",
       "       [-3.81292990e-01,  4.23989753e-01, -1.83536207e-01,\n",
       "         2.84909967e-01, -4.21838354e-01,  2.52094355e-01],\n",
       "       [ 4.64599594e-01, -8.29091845e-02, -1.01652342e-01,\n",
       "         5.38526458e-01,  1.24608078e-01, -4.26100537e-01],\n",
       "       [ 5.47253265e-01,  6.03485419e-02,  6.86537051e-02,\n",
       "         5.22824519e-01, -5.76003080e-02, -3.71682751e-01],\n",
       "       [ 5.13548140e-01,  5.81663938e-02,  7.01595613e-02,\n",
       "         5.15510142e-01, -2.49898101e-02, -4.31082015e-01],\n",
       "       [ 4.06391980e-01, -2.11516448e-01, -3.54995190e-01,\n",
       "         3.44887299e-01,  9.04361597e-02, -4.98777961e-01],\n",
       "       [ 5.24030826e-01, -1.05795676e-01,  2.34849629e-02,\n",
       "         6.64947236e-01, -6.95786545e-02, -3.69733472e-02],\n",
       "       [ 3.37613556e-01,  5.75643237e-02, -1.51238526e-01,\n",
       "         5.83650928e-01,  1.27625410e-01, -4.58899605e-01],\n",
       "       [ 5.05700676e-01,  5.45337728e-02,  1.43586548e-02,\n",
       "         5.34231019e-01, -9.30264712e-03, -4.12493946e-01],\n",
       "       [ 4.45678056e-01,  7.03788595e-02,  4.69004782e-02,\n",
       "         4.50042934e-01,  1.56321188e-02, -5.54230054e-01],\n",
       "       [ 5.02694129e-01, -1.10394628e-01,  1.41624877e-01,\n",
       "        -6.13041359e-01, -2.47742495e-01,  9.64943765e-02],\n",
       "       [ 4.33737833e-01,  5.52993010e-02,  2.66312984e-01,\n",
       "        -6.49323303e-01, -2.15607453e-01,  1.05614560e-01],\n",
       "       [ 5.80381061e-01, -1.94611408e-01, -3.21728365e-02,\n",
       "        -4.46389458e-01, -2.29068274e-01,  3.45065412e-01],\n",
       "       [ 5.44459192e-01, -3.99127486e-01,  8.51338711e-03,\n",
       "        -4.24963502e-01, -2.98015537e-01,  1.99379906e-02],\n",
       "       [ 3.69087140e-01, -2.15136381e-01,  3.21740744e-01,\n",
       "        -4.43937903e-01, -4.40689986e-01,  2.61810575e-01],\n",
       "       [ 5.43210921e-01, -1.12235451e-01, -4.89769736e-02,\n",
       "        -6.30443123e-01, -1.30709336e-01,  1.25027282e-01],\n",
       "       [ 5.51894347e-01, -1.35877945e-01,  1.89166748e-02,\n",
       "        -5.57414888e-01, -2.22824528e-01,  2.42119372e-01],\n",
       "       [ 4.79474160e-01,  6.24140703e-02,  2.60692227e-01,\n",
       "        -3.95029071e-01, -2.73975624e-01,  4.61816698e-01],\n",
       "       [-3.71323526e-01, -4.17041120e-01,  5.69336274e-01,\n",
       "         1.16177272e-01,  2.13831525e-01,  1.67874630e-01],\n",
       "       [-2.38354741e-01, -4.26731599e-01,  3.21314214e-01,\n",
       "         2.35674409e-02,  5.13736455e-01,  3.30118785e-01],\n",
       "       [-2.53931957e-01, -4.40527212e-01,  3.32361080e-01,\n",
       "         4.59466208e-02,  5.27235006e-01,  2.40740572e-01],\n",
       "       [-2.63240591e-01, -4.55702271e-01,  3.34821159e-01,\n",
       "         3.53528451e-02,  4.78129894e-01,  3.02769295e-01],\n",
       "       [-3.54094746e-01, -5.33529044e-01,  4.52352289e-01,\n",
       "        -4.39241334e-02,  2.70879017e-01, -7.40575529e-02],\n",
       "       [-1.07135380e-01, -5.55169905e-01,  3.95068108e-01,\n",
       "         1.05466347e-01,  3.51670064e-01,  3.17016640e-01],\n",
       "       [-3.04613410e-01, -5.38347586e-01,  3.88618899e-01,\n",
       "         8.57678183e-02,  3.48101732e-01,  2.34530349e-01],\n",
       "       [-3.32480760e-01, -5.45824282e-01,  3.75271119e-01,\n",
       "         1.32752466e-01,  3.16500341e-01,  2.34855357e-01],\n",
       "       [-2.76682063e-01, -4.62185827e-01,  2.68670840e-01,\n",
       "         2.13372182e-01,  4.59248103e-01,  3.25002937e-01],\n",
       "       [-3.03601429e-01, -4.80393148e-01,  4.05264214e-01,\n",
       "         6.86203507e-02,  3.77937224e-01,  2.83680393e-01],\n",
       "       [-2.37882539e-01, -4.14374973e-01,  4.18336732e-01,\n",
       "         5.88888587e-02,  3.44963920e-01,  4.46963766e-01],\n",
       "       [-4.01915476e-01, -5.95698590e-01,  4.16388583e-01,\n",
       "        -3.94226419e-02,  9.79871387e-02, -1.32575512e-01],\n",
       "       [-3.87366049e-01, -6.06028640e-01,  3.15420497e-01,\n",
       "        -2.50373299e-02,  2.90949802e-01,  9.14628960e-02],\n",
       "       [-4.02089667e-01,  4.41604733e-01, -5.36560055e-01,\n",
       "         4.87921310e-02, -2.12443322e-01,  4.84879574e-02],\n",
       "       [-4.22781656e-01,  2.60967334e-01, -6.05586086e-01,\n",
       "        -2.35841622e-02, -2.69423029e-01, -7.61080160e-02],\n",
       "       [-2.28844561e-01,  4.83774160e-02, -7.54236672e-01,\n",
       "         5.35716867e-03, -2.58758274e-01,  6.50925025e-02],\n",
       "       [-3.89140377e-01,  2.47464776e-01, -6.33079717e-01,\n",
       "        -2.26813818e-03, -1.20595394e-01, -2.55276579e-01],\n",
       "       [-4.03766627e-01,  1.60313332e-01, -4.63197153e-01,\n",
       "        -1.28853395e-01, -5.30929092e-01,  4.60737969e-02],\n",
       "       [-3.92733503e-01,  2.80719654e-01, -6.34420994e-01,\n",
       "         2.26778612e-02, -2.29307604e-01,  5.60793575e-02],\n",
       "       [-2.95104810e-01,  4.27405029e-01, -5.22046018e-01,\n",
       "         5.46959468e-02, -3.87871509e-01,  1.50270429e-03],\n",
       "       [-3.00652488e-01,  3.14090204e-01, -4.26800427e-01,\n",
       "        -9.95216539e-03, -4.28908593e-01,  3.87152163e-01],\n",
       "       [-4.09007407e-01,  7.05912554e-02, -4.40759521e-01,\n",
       "        -8.12362575e-02, -5.22073770e-01,  2.57892036e-01],\n",
       "       [-3.90133896e-01,  2.60397452e-01, -6.22922866e-01,\n",
       "         7.28085874e-02, -2.73412339e-01,  9.87705303e-02],\n",
       "       [-4.09010221e-01,  4.12954061e-01, -5.18821153e-01,\n",
       "         3.58556171e-02, -2.61574784e-01,  1.09089426e-01],\n",
       "       [-3.42963160e-01,  1.72801141e-01, -6.73690250e-01,\n",
       "        -3.21540942e-02, -2.28016559e-02, -3.06480814e-01],\n",
       "       [-4.35301928e-01,  3.21543257e-01, -5.77017156e-01,\n",
       "        -4.45919467e-03, -2.40176415e-01, -6.91671921e-02],\n",
       "       [-5.44475785e-01,  2.70167244e-01, -4.41898486e-01,\n",
       "        -5.72811513e-02, -3.40491649e-01,  1.51934466e-01],\n",
       "       [-4.17977203e-01,  9.89486012e-02, -5.54709563e-01,\n",
       "        -1.78478892e-02, -4.56983968e-01,  8.83344797e-02],\n",
       "       [-3.83296584e-01,  3.20572500e-01, -5.23402542e-01,\n",
       "        -2.72517081e-02, -4.02258632e-01,  5.50935814e-02],\n",
       "       [-2.09794637e-01,  4.52101395e-01, -6.60803811e-01,\n",
       "        -1.20668522e-01, -7.72536255e-02, -1.21250294e-01],\n",
       "       [ 5.09686829e-01,  7.18862959e-02, -1.43885953e-02,\n",
       "         5.79972255e-01, -9.81482499e-02, -2.97572317e-01],\n",
       "       [ 6.40744206e-01,  1.90269074e-02, -8.18629763e-02,\n",
       "         3.31359185e-01,  9.82982843e-02, -4.34404804e-01],\n",
       "       [ 5.27592937e-01,  6.24281085e-02, -2.54014924e-01,\n",
       "         5.67572906e-01, -7.57154754e-02, -1.52075599e-01],\n",
       "       [ 3.93107487e-01,  1.76060138e-01,  6.78271173e-02,\n",
       "         6.86940550e-01, -2.05131261e-01, -9.40061985e-02],\n",
       "       [ 5.93955423e-01,  1.34701246e-02, -9.73553769e-02,\n",
       "         5.56482939e-01, -1.04146781e-02, -1.89831994e-01],\n",
       "       [ 6.56302863e-01,  5.64675593e-02, -1.48091705e-01,\n",
       "         4.07742062e-01,  6.31170325e-02, -2.99876616e-01],\n",
       "       [ 6.20099633e-01,  9.60634265e-02, -4.75773300e-02,\n",
       "         4.55919791e-01,  9.91287608e-02, -3.21026673e-01],\n",
       "       [ 4.92218378e-01,  2.03714507e-01,  1.27621232e-01,\n",
       "         6.14512736e-01,  6.24577799e-03, -2.18100625e-01],\n",
       "       [ 5.68725868e-01,  1.79724466e-02, -2.03962873e-01,\n",
       "         5.75007076e-01, -5.02040725e-02, -5.01064611e-02],\n",
       "       [ 5.80486508e-01,  6.34784400e-02, -7.41851616e-02,\n",
       "         5.03817010e-01,  5.31232445e-04, -3.16614441e-01],\n",
       "       [ 3.77958249e-01,  2.65944738e-02,  6.45528348e-02,\n",
       "         6.72159800e-01, -2.88358126e-01, -1.90051919e-01],\n",
       "       [ 5.47862779e-01,  2.44489078e-01,  1.64160405e-01,\n",
       "         4.29325908e-01,  1.33469021e-01, -3.69250711e-01],\n",
       "       [ 4.87982023e-01, -1.17134070e-01, -1.13285097e-01,\n",
       "         5.37278952e-01, -2.54775121e-01, -3.05164459e-01],\n",
       "       [ 5.76391194e-01,  1.07460344e-01, -9.96510553e-02,\n",
       "         5.46299954e-01, -1.90676489e-02, -2.13386459e-01],\n",
       "       [ 6.62036452e-01,  7.00397998e-02, -1.95447364e-01,\n",
       "         4.50664896e-01,  2.36169995e-01,  5.92068651e-02]])"
      ]
     },
     "execution_count": 57,
     "metadata": {},
     "output_type": "execute_result"
    }
   ],
   "source": [
    "#poincare embedding coordinates\n",
    "hyp_emb['pcoords']"
   ]
  },
  {
   "cell_type": "code",
   "execution_count": 58,
   "id": "6a8085e3",
   "metadata": {},
   "outputs": [
    {
     "name": "stdout",
     "output_type": "stream",
     "text": [
      "Stored 'AVA_RME_stim1_pcoords' (ndarray)\n"
     ]
    }
   ],
   "source": [
    "AVA_RME_stim1_pcoords = hyp_emb['pcoords']\n",
    "%store AVA_RME_stim1_pcoords"
   ]
  },
  {
   "cell_type": "code",
   "execution_count": 28,
   "id": "e0b8162b",
   "metadata": {},
   "outputs": [
    {
     "data": {
      "text/plain": [
       "dict_keys(['euc', 'sig', 'lambda', 'emb_mat', 'pcoords', 'radii'])"
      ]
     },
     "execution_count": 28,
     "metadata": {},
     "output_type": "execute_result"
    }
   ],
   "source": [
    "#emebdding uncertainties\n",
    "hyp_emb.keys()"
   ]
  },
  {
   "cell_type": "markdown",
   "id": "ffa4a0f2",
   "metadata": {},
   "source": [
    "# Shepard Diagram"
   ]
  },
  {
   "cell_type": "code",
   "execution_count": 29,
   "id": "b68aec1a",
   "metadata": {},
   "outputs": [],
   "source": [
    "rcParams['font.family'] = 'sans-serif'\n",
    "rcParams['font.sans-serif'] = 'Arial'"
   ]
  },
  {
   "cell_type": "code",
   "execution_count": 30,
   "id": "c3ed0ead",
   "metadata": {},
   "outputs": [
    {
     "data": {
      "text/plain": [
       "Text(0.5, 0, 'Embedding Uncertainties')"
      ]
     },
     "execution_count": 30,
     "metadata": {},
     "output_type": "execute_result"
    },
    {
     "data": {
      "image/png": "[encoded data removed]",
      "text/plain": [
       "<Figure size 1500x750 with 2 Axes>"
      ]
     },
     "metadata": {},
     "output_type": "display_data"
    }
   ],
   "source": [
    "fig, ax = plt.subplots(1, 2, figsize=(15,7.5))\n",
    "\n",
    "ax[0].scatter(distance_matrix_squaredp.values[np.triu_indices(97, k=1)], hyp_emb['emb_mat'][np.triu_indices(97, k=1)], c='cornflowerblue') #cornflowerblue, lightcoral\n",
    "ax[0].plot(np.arange(3), np.arange(3), c='black', linewidth=5, alpha=0.5)\n",
    "\n",
    "ax[0].set_xlabel('Original Distances', fontsize=20)\n",
    "ax[0].set_ylabel('Embedding Distances / $\\lambda$', fontsize=20)\n",
    "\n",
    "ax[1].hist(hyp_emb['sig'], color ='cornflowerblue') #cornflowerblue, lightcoral\n",
    "ax[1].set_xlabel('Embedding Uncertainties', fontsize=20)"
   ]
  },
  {
   "cell_type": "code",
   "execution_count": 31,
   "id": "7ea16b78",
   "metadata": {},
   "outputs": [],
   "source": [
    "hyperbolic_df= pd.DataFrame(hyp_emb['pcoords'], columns=['x', 'y', 'z'])\n",
    "\n"
   ]
  },
  {
   "cell_type": "code",
   "execution_count": 59,
   "id": "59d435bd",
   "metadata": {},
   "outputs": [
    {
     "data": {
      "text/html": [
       "<div>\n",
       "<style scoped>\n",
       "    .dataframe tbody tr th:only-of-type {\n",
       "        vertical-align: middle;\n",
       "    }\n",
       "\n",
       "    .dataframe tbody tr th {\n",
       "        vertical-align: top;\n",
       "    }\n",
       "\n",
       "    .dataframe thead th {\n",
       "        text-align: right;\n",
       "    }\n",
       "</style>\n",
       "<table border=\"1\" class=\"dataframe\">\n",
       "  <thead>\n",
       "    <tr style=\"text-align: right;\">\n",
       "      <th></th>\n",
       "      <th>x</th>\n",
       "      <th>y</th>\n",
       "      <th>z</th>\n",
       "      <th>cluster labels</th>\n",
       "    </tr>\n",
       "  </thead>\n",
       "  <tbody>\n",
       "    <tr>\n",
       "      <th>0</th>\n",
       "      <td>-0.305127</td>\n",
       "      <td>-0.070656</td>\n",
       "      <td>0.914532</td>\n",
       "      <td>AVA</td>\n",
       "    </tr>\n",
       "    <tr>\n",
       "      <th>1</th>\n",
       "      <td>-0.341069</td>\n",
       "      <td>0.068825</td>\n",
       "      <td>0.903222</td>\n",
       "      <td>AVA</td>\n",
       "    </tr>\n",
       "    <tr>\n",
       "      <th>2</th>\n",
       "      <td>-0.028368</td>\n",
       "      <td>0.878973</td>\n",
       "      <td>-0.420567</td>\n",
       "      <td>AVA</td>\n",
       "    </tr>\n",
       "    <tr>\n",
       "      <th>3</th>\n",
       "      <td>-0.238259</td>\n",
       "      <td>-0.330584</td>\n",
       "      <td>0.882371</td>\n",
       "      <td>AVA</td>\n",
       "    </tr>\n",
       "    <tr>\n",
       "      <th>4</th>\n",
       "      <td>0.193402</td>\n",
       "      <td>0.768641</td>\n",
       "      <td>-0.565825</td>\n",
       "      <td>AVA</td>\n",
       "    </tr>\n",
       "    <tr>\n",
       "      <th>...</th>\n",
       "      <td>...</td>\n",
       "      <td>...</td>\n",
       "      <td>...</td>\n",
       "      <td>...</td>\n",
       "    </tr>\n",
       "    <tr>\n",
       "      <th>92</th>\n",
       "      <td>-0.958255</td>\n",
       "      <td>-0.114301</td>\n",
       "      <td>-0.041858</td>\n",
       "      <td>RME</td>\n",
       "    </tr>\n",
       "    <tr>\n",
       "      <th>93</th>\n",
       "      <td>-0.944180</td>\n",
       "      <td>0.200940</td>\n",
       "      <td>-0.082940</td>\n",
       "      <td>RME</td>\n",
       "    </tr>\n",
       "    <tr>\n",
       "      <th>94</th>\n",
       "      <td>-0.963484</td>\n",
       "      <td>-0.052233</td>\n",
       "      <td>0.049367</td>\n",
       "      <td>RME</td>\n",
       "    </tr>\n",
       "    <tr>\n",
       "      <th>95</th>\n",
       "      <td>-0.949517</td>\n",
       "      <td>0.053687</td>\n",
       "      <td>0.136044</td>\n",
       "      <td>RME</td>\n",
       "    </tr>\n",
       "    <tr>\n",
       "      <th>96</th>\n",
       "      <td>-0.877608</td>\n",
       "      <td>-0.014051</td>\n",
       "      <td>0.414094</td>\n",
       "      <td>RME</td>\n",
       "    </tr>\n",
       "  </tbody>\n",
       "</table>\n",
       "<p>97 rows × 4 columns</p>\n",
       "</div>"
      ],
      "text/plain": [
       "           x         y         z cluster labels\n",
       "0  -0.305127 -0.070656  0.914532            AVA\n",
       "1  -0.341069  0.068825  0.903222            AVA\n",
       "2  -0.028368  0.878973 -0.420567            AVA\n",
       "3  -0.238259 -0.330584  0.882371            AVA\n",
       "4   0.193402  0.768641 -0.565825            AVA\n",
       "..       ...       ...       ...            ...\n",
       "92 -0.958255 -0.114301 -0.041858            RME\n",
       "93 -0.944180  0.200940 -0.082940            RME\n",
       "94 -0.963484 -0.052233  0.049367            RME\n",
       "95 -0.949517  0.053687  0.136044            RME\n",
       "96 -0.877608 -0.014051  0.414094            RME\n",
       "\n",
       "[97 rows x 4 columns]"
      ]
     },
     "execution_count": 59,
     "metadata": {},
     "output_type": "execute_result"
    }
   ],
   "source": [
    "column = ['AVA'] * (AVA_2.shape[0] + AVA_3.shape[0] + AVA_4.shape[0] + AVA_5.shape[0]) + ['RME'] * (RME_2.shape[0] + RME_3.shape[0] + RME_4.shape[0] +  RME_5.shape[0] )\n",
    "AVA_RME_stim1_labels= np.array(column)\n",
    "hyperbolic_df['cluster labels'] = AVA_RME_stim1_labels.T\n",
    "hyperbolic_df"
   ]
  },
  {
   "cell_type": "code",
   "execution_count": 60,
   "id": "40916322",
   "metadata": {},
   "outputs": [
    {
     "name": "stdout",
     "output_type": "stream",
     "text": [
      "Stored 'AVA_RME_stim1_labels' (ndarray)\n"
     ]
    }
   ],
   "source": [
    "%store AVA_RME_stim1_labels"
   ]
  },
  {
   "cell_type": "code",
   "execution_count": 33,
   "id": "09b7a13f",
   "metadata": {},
   "outputs": [
    {
     "data": {
      "application/vnd.plotly.v1+json": {
       "config": {
        "plotlyServerURL": "https://plot.ly"
       },
       "data": [
        {
         "hovertemplate": "cluster labels=AVA<br>x=%{x}<br>y=%{y}<br>z=%{z}<extra></extra>",
         "legendgroup": "AVA",
         "marker": {
          "color": "#636efa",
          "symbol": "circle"
         },
         "mode": "markers",
         "name": "AVA",
         "scene": "scene",
         "showlegend": true,
         "type": "scatter3d",
         "x": [
          -0.3051271696307879,
          -0.341068833429581,
          -0.02836800196023962,
          -0.23825917044227668,
          0.19340177566684325,
          0.03711125098318517,
          -0.26648048147640907,
          0.5597374817325546,
          0.5329877209339277,
          0.5418034225776414,
          0.5091301697636633,
          0.36941131178299363,
          0.4913772744150138,
          0.3732190419184853,
          0.30304630184690146,
          0.5504794065105518,
          0.44159962714168,
          0.44892129563766603,
          0.43671249961173453,
          0.20012768038977014,
          0.1309114995437148,
          0.2252648609489019,
          0.09446120633221826,
          0.22278364335948342,
          -0.16346468673322861,
          0.05521902191987016,
          0.5114500155131496,
          -0.10108062638324271,
          0.15911350801924,
          0.09855757211705324,
          0.13529553815716067,
          0.19467452120064777,
          0.01636569014142292,
          0.3401144998684746,
          0.2214344358193903,
          0.2632135657715172,
          -0.9211544250144558,
          -0.9578925617585031,
          -0.9546750166678142,
          -0.8266784693499054,
          -0.9502631778648455,
          -0.9073821773114189,
          -0.9502089324531949,
          -0.9427480772434614
         ],
         "y": [
          -0.07065634465610968,
          0.0688248133642302,
          0.8789729687128233,
          -0.33058384113076766,
          0.7686409341837348,
          0.7837729364249636,
          -0.13979782652503858,
          0.5167926170232627,
          0.5645326692562913,
          0.38520318397057873,
          0.47911689276422403,
          0.5978514376018775,
          0.44989806572532015,
          0.5102361299258107,
          0.4820046029866622,
          0.37190373824355466,
          0.43763548441326244,
          0.5190121291239681,
          0.32673328806899665,
          -0.8896145361519748,
          -0.9127249081866098,
          -0.8586927608907199,
          -0.870948393237004,
          -0.8649771638451762,
          -0.8903809722015513,
          -0.9569927255521595,
          -0.7754597186794114,
          -0.9064758901234465,
          -0.8785813046825779,
          -0.8720539103550784,
          -0.9030677520110958,
          -0.9158747726710259,
          -0.9136365778261336,
          -0.8891380553230449,
          -0.9391527293318166,
          -0.9012444051411951,
          0.2585433479416892,
          0.12914484676576157,
          0.158072937016688,
          0.4296742447129227,
          -0.13932979097172343,
          0.31508506468642916,
          0.15953884517486608,
          0.21966599670735473
         ],
         "z": [
          0.914532162128297,
          0.9032223087799284,
          -0.4205674387020345,
          0.882370828294016,
          -0.5658251740974447,
          -0.5744664802022416,
          0.9215064717060656,
          0.5982208230034306,
          0.5815433866869811,
          0.7049835031429839,
          0.6685648608762917,
          0.6666514954770694,
          0.7025202511365604,
          0.7313967905181766,
          0.7842779553712936,
          0.7047425959777841,
          0.7448066270312695,
          0.6793447839987381,
          0.799772197349105,
          -0.2998039605196823,
          -0.2718857313549084,
          -0.36434183682795346,
          -0.4067582769688621,
          -0.3503446081588105,
          -0.34610580104097344,
          -0.0746396760868056,
          -0.26966916862247337,
          -0.32906793718222827,
          -0.3613011294352685,
          -0.40193696695496917,
          -0.3100172776121528,
          -0.2303280584497061,
          -0.31595920818504686,
          -0.16412440648453652,
          -0.02938014901079747,
          -0.20197285327949396,
          0.13815268134618452,
          0.0552075773705992,
          0.05029403272519425,
          0.25020975579417293,
          0.1326068067187302,
          0.06719177027376627,
          0.06972744903412123,
          0.02068940232901526
         ]
        },
        {
         "hovertemplate": "cluster labels=RME<br>x=%{x}<br>y=%{y}<br>z=%{z}<extra></extra>",
         "legendgroup": "RME",
         "marker": {
          "color": "#EF553B",
          "symbol": "circle"
         },
         "mode": "markers",
         "name": "RME",
         "scene": "scene",
         "showlegend": true,
         "type": "scatter3d",
         "x": [
          0.07531082464921707,
          0.15709181381436685,
          -0.00234907503619239,
          -0.184383271449422,
          0.2997984640440758,
          -0.01656064457090896,
          0.021633103673474288,
          0.2082738640189885,
          0.7632944580677047,
          0.5922162289575327,
          0.5891344704531714,
          0.6060324633034323,
          0.7117992194032464,
          0.6894008870293524,
          0.6722047279243295,
          0.690317443760621,
          0.6106521150900887,
          0.6534597925157891,
          0.6625776998085386,
          0.7698302236381059,
          0.6981418468751436,
          0.11471496095413254,
          0.13294539991869744,
          0.10553310687017489,
          -0.020680266197699974,
          0.33481726434898584,
          0.131812108768647,
          0.20215795929095642,
          0.3494155331108596,
          0.40271452762708276,
          0.1589689600916259,
          0.13972390808251742,
          -0.0955351577644313,
          0.09850803484864248,
          0.2909936974203785,
          0.2724647262325435,
          0.22467401653835775,
          0.19235700370846492,
          -0.9559583481050716,
          -0.9244740135014584,
          -0.9411920220485275,
          -0.9550561841140398,
          -0.9475464108462109,
          -0.9354333033468644,
          -0.942793189182672,
          -0.9649332644592177,
          -0.9322747361935634,
          -0.9456101148492652,
          -0.958254753422964,
          -0.9441796073108883,
          -0.9634839845703396,
          -0.9495169601708432,
          -0.8776076880262947
         ],
         "y": [
          0.7113811350797562,
          0.7292204715373726,
          0.6029303196379597,
          0.698410939783525,
          0.6495034688741873,
          0.7021583917632367,
          0.6575510009242058,
          0.5313224988367047,
          0.3283701440672623,
          0.35640468244926027,
          0.38459973405358044,
          0.35534724195129613,
          0.4753614900069108,
          0.245437619384137,
          0.34850644909740247,
          0.33997886969405783,
          0.28008853087382407,
          0.345575316776335,
          0.28707094428223817,
          0.473538492137235,
          0.4196929326173806,
          -0.8386411999708044,
          -0.7578819756865341,
          -0.6583068523622412,
          -0.7215410757918514,
          -0.7081363193164667,
          -0.7919981481904772,
          -0.8237043739562595,
          -0.8207584674640076,
          -0.7067549123922604,
          -0.7916535413360983,
          -0.8387545463944079,
          -0.6526795600054088,
          -0.7773087315543056,
          -0.7976797962681872,
          -0.7257392744314425,
          -0.7871861812226296,
          -0.5761601894067956,
          0.07639517519339965,
          0.20377906523259975,
          -0.031730415179487506,
          -0.07817402228153057,
          0.040738922961679726,
          0.12453549125509518,
          0.14176887105588248,
          0.06780670566838208,
          -0.05270206319617255,
          0.11281081518931596,
          -0.11430111397838938,
          0.200940183389658,
          -0.05223289110723962,
          0.05368695371823437,
          -0.01405137311779788
         ],
         "z": [
          -0.658587682914451,
          -0.6280187669086402,
          -0.7652272732258801,
          -0.6469130553661031,
          -0.6620985965573171,
          -0.6751609063565431,
          -0.7177994446623783,
          -0.7895326113077813,
          0.5027273806997776,
          0.6796068479270372,
          0.6620501569360435,
          0.6649305780174507,
          0.4456494627285632,
          0.6323701409989931,
          0.6055001161404255,
          0.5922288142744502,
          0.7006985951573746,
          0.6267499629512102,
          0.6532475182159675,
          0.35515458145225764,
          0.5247376144236499,
          -0.46158593502728346,
          -0.5799428494168283,
          -0.6955294418175993,
          -0.6390223541361176,
          -0.56562515702975,
          -0.5331234935373178,
          -0.46358124631515246,
          -0.37173882607661435,
          -0.523568044868526,
          -0.5280755912722636,
          -0.4476756602507433,
          -0.7035616675630469,
          -0.5573665027536087,
          -0.4618803150773396,
          -0.5790285292448863,
          -0.5039609382721546,
          -0.7497606042596289,
          0.06438986004516914,
          0.20905936065018252,
          0.186645493210522,
          -0.10356338998916151,
          0.1652740540939768,
          0.20903556424613357,
          0.16210377215531302,
          -0.040412712596725374,
          0.22523326597218202,
          0.13055602478786454,
          -0.04185765566016884,
          -0.08294047851366178,
          0.04936730593914676,
          0.1360435117664426,
          0.4140943320205943
         ]
        }
       ],
       "layout": {
        "legend": {
         "title": {
          "text": "cluster labels"
         },
         "tracegroupgap": 0
        },
        "scene": {
         "domain": {
          "x": [
           0,
           1
          ],
          "y": [
           0,
           1
          ]
         },
         "xaxis": {
          "ticktext": [
           -1,
           -0.5,
           0,
           0.5,
           1
          ],
          "title": {
           "text": "x"
          }
         },
         "yaxis": {
          "ticktext": [
           -1,
           -0.5,
           0,
           0.5,
           1
          ],
          "title": {
           "text": "y"
          }
         },
         "zaxis": {
          "ticktext": [
           -1,
           -0.5,
           0,
           0.5,
           1
          ],
          "title": {
           "text": "z"
          }
         }
        },
        "template": {
         "data": {
          "bar": [
           {
            "error_x": {
             "color": "#2a3f5f"
            },
            "error_y": {
             "color": "#2a3f5f"
            },
            "marker": {
             "line": {
              "color": "#E5ECF6",
              "width": 0.5
             },
             "pattern": {
              "fillmode": "overlay",
              "size": 10,
              "solidity": 0.2
             }
            },
            "type": "bar"
           }
          ],
          "barpolar": [
           {
            "marker": {
             "line": {
              "color": "#E5ECF6",
              "width": 0.5
             },
             "pattern": {
              "fillmode": "overlay",
              "size": 10,
              "solidity": 0.2
             }
            },
            "type": "barpolar"
           }
          ],
          "carpet": [
           {
            "aaxis": {
             "endlinecolor": "#2a3f5f",
             "gridcolor": "white",
             "linecolor": "white",
             "minorgridcolor": "white",
             "startlinecolor": "#2a3f5f"
            },
            "baxis": {
             "endlinecolor": "#2a3f5f",
             "gridcolor": "white",
             "linecolor": "white",
             "minorgridcolor": "white",
             "startlinecolor": "#2a3f5f"
            },
            "type": "carpet"
           }
          ],
          "choropleth": [
           {
            "colorbar": {
             "outlinewidth": 0,
             "ticks": ""
            },
            "type": "choropleth"
           }
          ],
          "contour": [
           {
            "colorbar": {
             "outlinewidth": 0,
             "ticks": ""
            },
            "colorscale": [
             [
              0,
              "#0d0887"
             ],
             [
              0.1111111111111111,
              "#46039f"
             ],
             [
              0.2222222222222222,
              "#7201a8"
             ],
             [
              0.3333333333333333,
              "#9c179e"
             ],
             [
              0.4444444444444444,
              "#bd3786"
             ],
             [
              0.5555555555555556,
              "#d8576b"
             ],
             [
              0.6666666666666666,
              "#ed7953"
             ],
             [
              0.7777777777777778,
              "#fb9f3a"
             ],
             [
              0.8888888888888888,
              "#fdca26"
             ],
             [
              1,
              "#f0f921"
             ]
            ],
            "type": "contour"
           }
          ],
          "contourcarpet": [
           {
            "colorbar": {
             "outlinewidth": 0,
             "ticks": ""
            },
            "type": "contourcarpet"
           }
          ],
          "heatmap": [
           {
            "colorbar": {
             "outlinewidth": 0,
             "ticks": ""
            },
            "colorscale": [
             [
              0,
              "#0d0887"
             ],
             [
              0.1111111111111111,
              "#46039f"
             ],
             [
              0.2222222222222222,
              "#7201a8"
             ],
             [
              0.3333333333333333,
              "#9c179e"
             ],
             [
              0.4444444444444444,
              "#bd3786"
             ],
             [
              0.5555555555555556,
              "#d8576b"
             ],
             [
              0.6666666666666666,
              "#ed7953"
             ],
             [
              0.7777777777777778,
              "#fb9f3a"
             ],
             [
              0.8888888888888888,
              "#fdca26"
             ],
             [
              1,
              "#f0f921"
             ]
            ],
            "type": "heatmap"
           }
          ],
          "heatmapgl": [
           {
            "colorbar": {
             "outlinewidth": 0,
             "ticks": ""
            },
            "colorscale": [
             [
              0,
              "#0d0887"
             ],
             [
              0.1111111111111111,
              "#46039f"
             ],
             [
              0.2222222222222222,
              "#7201a8"
             ],
             [
              0.3333333333333333,
              "#9c179e"
             ],
             [
              0.4444444444444444,
              "#bd3786"
             ],
             [
              0.5555555555555556,
              "#d8576b"
             ],
             [
              0.6666666666666666,
              "#ed7953"
             ],
             [
              0.7777777777777778,
              "#fb9f3a"
             ],
             [
              0.8888888888888888,
              "#fdca26"
             ],
             [
              1,
              "#f0f921"
             ]
            ],
            "type": "heatmapgl"
           }
          ],
          "histogram": [
           {
            "marker": {
             "pattern": {
              "fillmode": "overlay",
              "size": 10,
              "solidity": 0.2
             }
            },
            "type": "histogram"
           }
          ],
          "histogram2d": [
           {
            "colorbar": {
             "outlinewidth": 0,
             "ticks": ""
            },
            "colorscale": [
             [
              0,
              "#0d0887"
             ],
             [
              0.1111111111111111,
              "#46039f"
             ],
             [
              0.2222222222222222,
              "#7201a8"
             ],
             [
              0.3333333333333333,
              "#9c179e"
             ],
             [
              0.4444444444444444,
              "#bd3786"
             ],
             [
              0.5555555555555556,
              "#d8576b"
             ],
             [
              0.6666666666666666,
              "#ed7953"
             ],
             [
              0.7777777777777778,
              "#fb9f3a"
             ],
             [
              0.8888888888888888,
              "#fdca26"
             ],
             [
              1,
              "#f0f921"
             ]
            ],
            "type": "histogram2d"
           }
          ],
          "histogram2dcontour": [
           {
            "colorbar": {
             "outlinewidth": 0,
             "ticks": ""
            },
            "colorscale": [
             [
              0,
              "#0d0887"
             ],
             [
              0.1111111111111111,
              "#46039f"
             ],
             [
              0.2222222222222222,
              "#7201a8"
             ],
             [
              0.3333333333333333,
              "#9c179e"
             ],
             [
              0.4444444444444444,
              "#bd3786"
             ],
             [
              0.5555555555555556,
              "#d8576b"
             ],
             [
              0.6666666666666666,
              "#ed7953"
             ],
             [
              0.7777777777777778,
              "#fb9f3a"
             ],
             [
              0.8888888888888888,
              "#fdca26"
             ],
             [
              1,
              "#f0f921"
             ]
            ],
            "type": "histogram2dcontour"
           }
          ],
          "mesh3d": [
           {
            "colorbar": {
             "outlinewidth": 0,
             "ticks": ""
            },
            "type": "mesh3d"
           }
          ],
          "parcoords": [
           {
            "line": {
             "colorbar": {
              "outlinewidth": 0,
              "ticks": ""
             }
            },
            "type": "parcoords"
           }
          ],
          "pie": [
           {
            "automargin": true,
            "type": "pie"
           }
          ],
          "scatter": [
           {
            "fillpattern": {
             "fillmode": "overlay",
             "size": 10,
             "solidity": 0.2
            },
            "type": "scatter"
           }
          ],
          "scatter3d": [
           {
            "line": {
             "colorbar": {
              "outlinewidth": 0,
              "ticks": ""
             }
            },
            "marker": {
             "colorbar": {
              "outlinewidth": 0,
              "ticks": ""
             }
            },
            "type": "scatter3d"
           }
          ],
          "scattercarpet": [
           {
            "marker": {
             "colorbar": {
              "outlinewidth": 0,
              "ticks": ""
             }
            },
            "type": "scattercarpet"
           }
          ],
          "scattergeo": [
           {
            "marker": {
             "colorbar": {
              "outlinewidth": 0,
              "ticks": ""
             }
            },
            "type": "scattergeo"
           }
          ],
          "scattergl": [
           {
            "marker": {
             "colorbar": {
              "outlinewidth": 0,
              "ticks": ""
             }
            },
            "type": "scattergl"
           }
          ],
          "scattermapbox": [
           {
            "marker": {
             "colorbar": {
              "outlinewidth": 0,
              "ticks": ""
             }
            },
            "type": "scattermapbox"
           }
          ],
          "scatterpolar": [
           {
            "marker": {
             "colorbar": {
              "outlinewidth": 0,
              "ticks": ""
             }
            },
            "type": "scatterpolar"
           }
          ],
          "scatterpolargl": [
           {
            "marker": {
             "colorbar": {
              "outlinewidth": 0,
              "ticks": ""
             }
            },
            "type": "scatterpolargl"
           }
          ],
          "scatterternary": [
           {
            "marker": {
             "colorbar": {
              "outlinewidth": 0,
              "ticks": ""
             }
            },
            "type": "scatterternary"
           }
          ],
          "surface": [
           {
            "colorbar": {
             "outlinewidth": 0,
             "ticks": ""
            },
            "colorscale": [
             [
              0,
              "#0d0887"
             ],
             [
              0.1111111111111111,
              "#46039f"
             ],
             [
              0.2222222222222222,
              "#7201a8"
             ],
             [
              0.3333333333333333,
              "#9c179e"
             ],
             [
              0.4444444444444444,
              "#bd3786"
             ],
             [
              0.5555555555555556,
              "#d8576b"
             ],
             [
              0.6666666666666666,
              "#ed7953"
             ],
             [
              0.7777777777777778,
              "#fb9f3a"
             ],
             [
              0.8888888888888888,
              "#fdca26"
             ],
             [
              1,
              "#f0f921"
             ]
            ],
            "type": "surface"
           }
          ],
          "table": [
           {
            "cells": {
             "fill": {
              "color": "#EBF0F8"
             },
             "line": {
              "color": "white"
             }
            },
            "header": {
             "fill": {
              "color": "#C8D4E3"
             },
             "line": {
              "color": "white"
             }
            },
            "type": "table"
           }
          ]
         },
         "layout": {
          "annotationdefaults": {
           "arrowcolor": "#2a3f5f",
           "arrowhead": 0,
           "arrowwidth": 1
          },
          "autotypenumbers": "strict",
          "coloraxis": {
           "colorbar": {
            "outlinewidth": 0,
            "ticks": ""
           }
          },
          "colorscale": {
           "diverging": [
            [
             0,
             "#8e0152"
            ],
            [
             0.1,
             "#c51b7d"
            ],
            [
             0.2,
             "#de77ae"
            ],
            [
             0.3,
             "#f1b6da"
            ],
            [
             0.4,
             "#fde0ef"
            ],
            [
             0.5,
             "#f7f7f7"
            ],
            [
             0.6,
             "#e6f5d0"
            ],
            [
             0.7,
             "#b8e186"
            ],
            [
             0.8,
             "#7fbc41"
            ],
            [
             0.9,
             "#4d9221"
            ],
            [
             1,
             "#276419"
            ]
           ],
           "sequential": [
            [
             0,
             "#0d0887"
            ],
            [
             0.1111111111111111,
             "#46039f"
            ],
            [
             0.2222222222222222,
             "#7201a8"
            ],
            [
             0.3333333333333333,
             "#9c179e"
            ],
            [
             0.4444444444444444,
             "#bd3786"
            ],
            [
             0.5555555555555556,
             "#d8576b"
            ],
            [
             0.6666666666666666,
             "#ed7953"
            ],
            [
             0.7777777777777778,
             "#fb9f3a"
            ],
            [
             0.8888888888888888,
             "#fdca26"
            ],
            [
             1,
             "#f0f921"
            ]
           ],
           "sequentialminus": [
            [
             0,
             "#0d0887"
            ],
            [
             0.1111111111111111,
             "#46039f"
            ],
            [
             0.2222222222222222,
             "#7201a8"
            ],
            [
             0.3333333333333333,
             "#9c179e"
            ],
            [
             0.4444444444444444,
             "#bd3786"
            ],
            [
             0.5555555555555556,
             "#d8576b"
            ],
            [
             0.6666666666666666,
             "#ed7953"
            ],
            [
             0.7777777777777778,
             "#fb9f3a"
            ],
            [
             0.8888888888888888,
             "#fdca26"
            ],
            [
             1,
             "#f0f921"
            ]
           ]
          },
          "colorway": [
           "#636efa",
           "#EF553B",
           "#00cc96",
           "#ab63fa",
           "#FFA15A",
           "#19d3f3",
           "#FF6692",
           "#B6E880",
           "#FF97FF",
           "#FECB52"
          ],
          "font": {
           "color": "#2a3f5f"
          },
          "geo": {
           "bgcolor": "white",
           "lakecolor": "white",
           "landcolor": "#E5ECF6",
           "showlakes": true,
           "showland": true,
           "subunitcolor": "white"
          },
          "hoverlabel": {
           "align": "left"
          },
          "hovermode": "closest",
          "mapbox": {
           "style": "light"
          },
          "paper_bgcolor": "white",
          "plot_bgcolor": "#E5ECF6",
          "polar": {
           "angularaxis": {
            "gridcolor": "white",
            "linecolor": "white",
            "ticks": ""
           },
           "bgcolor": "#E5ECF6",
           "radialaxis": {
            "gridcolor": "white",
            "linecolor": "white",
            "ticks": ""
           }
          },
          "scene": {
           "xaxis": {
            "backgroundcolor": "#E5ECF6",
            "gridcolor": "white",
            "gridwidth": 2,
            "linecolor": "white",
            "showbackground": true,
            "ticks": "",
            "zerolinecolor": "white"
           },
           "yaxis": {
            "backgroundcolor": "#E5ECF6",
            "gridcolor": "white",
            "gridwidth": 2,
            "linecolor": "white",
            "showbackground": true,
            "ticks": "",
            "zerolinecolor": "white"
           },
           "zaxis": {
            "backgroundcolor": "#E5ECF6",
            "gridcolor": "white",
            "gridwidth": 2,
            "linecolor": "white",
            "showbackground": true,
            "ticks": "",
            "zerolinecolor": "white"
           }
          },
          "shapedefaults": {
           "line": {
            "color": "#2a3f5f"
           }
          },
          "ternary": {
           "aaxis": {
            "gridcolor": "white",
            "linecolor": "white",
            "ticks": ""
           },
           "baxis": {
            "gridcolor": "white",
            "linecolor": "white",
            "ticks": ""
           },
           "bgcolor": "#E5ECF6",
           "caxis": {
            "gridcolor": "white",
            "linecolor": "white",
            "ticks": ""
           }
          },
          "title": {
           "x": 0.05
          },
          "xaxis": {
           "automargin": true,
           "gridcolor": "white",
           "linecolor": "white",
           "ticks": "",
           "title": {
            "standoff": 15
           },
           "zerolinecolor": "white",
           "zerolinewidth": 2
          },
          "yaxis": {
           "automargin": true,
           "gridcolor": "white",
           "linecolor": "white",
           "ticks": "",
           "title": {
            "standoff": 15
           },
           "zerolinecolor": "white",
           "zerolinewidth": 2
          }
         }
        },
        "title": {
         "text": "AVA and RME Neurons: Bacterial Stimulus No. 1"
        }
       }
      }
     },
     "metadata": {},
     "output_type": "display_data"
    }
   ],
   "source": [
    "\n",
    "\n",
    "# Create a scatter plot\n",
    "# fig = px.scatter_3d(data_frame = hyperbolic_df, x= 'x', y = 'y', z= 'z', title='AVA and RME: Stimulus 0', color = 'cluster labels') #cornflowerblue, lightcoral\n",
    "\n",
    "fig = px.scatter_3d(data_frame = hyperbolic_df, x= 'x', y = 'y', z= 'z', title='AVA and RME Neurons: Bacterial Stimulus No. 1',  color ='cluster labels') #cornflowerblue, lightcoral\n",
    "fig.update_layout(\n",
    "    scene=dict(\n",
    "        xaxis=dict(ticktext=[-1, -0.5, 0, 0.5, 1]),\n",
    "        yaxis=dict(ticktext=[-1, -0.5, 0, 0.5, 1]),\n",
    "        zaxis=dict(ticktext=[-1, -0.5, 0, 0.5, 1]),\n",
    "    )\n",
    ")\n",
    "\n",
    "fig.show()"
   ]
  },
  {
   "cell_type": "markdown",
   "id": "b6080734",
   "metadata": {},
   "source": [
    "# Fitting For Dimension\n",
    "\n",
    "Suppose we did not know a-priori that the data was 5D? This is usually the case"
   ]
  },
  {
   "cell_type": "markdown",
   "id": "ea9e919b",
   "metadata": {},
   "source": [
    "## Fit the model across a range of dimensions"
   ]
  },
  {
   "cell_type": "code",
   "execution_count": 34,
   "id": "0ffeb563",
   "metadata": {},
   "outputs": [
    {
     "name": "stderr",
     "output_type": "stream",
     "text": [
      "22:52:36 - cmdstanpy - INFO - Chain [1] start processing\n"
     ]
    },
    {
     "name": "stderr",
     "output_type": "stream",
     "text": [
      "22:54:28 - cmdstanpy - INFO - Chain [1] done processing\n",
      "22:54:28 - cmdstanpy - WARNING - The default behavior of CmdStanMLE.stan_variable() will change in a future release to always return a numpy.ndarray, even for scalar variables.\n",
      "22:54:28 - cmdstanpy - INFO - Chain [1] start processing\n",
      "22:55:12 - cmdstanpy - INFO - Chain [1] done processing\n",
      "22:55:12 - cmdstanpy - WARNING - The default behavior of CmdStanMLE.stan_variable() will change in a future release to always return a numpy.ndarray, even for scalar variables.\n",
      "22:55:12 - cmdstanpy - INFO - Chain [1] start processing\n",
      "22:55:23 - cmdstanpy - INFO - Chain [1] done processing\n",
      "22:55:23 - cmdstanpy - WARNING - The default behavior of CmdStanMLE.stan_variable() will change in a future release to always return a numpy.ndarray, even for scalar variables.\n",
      "22:55:23 - cmdstanpy - INFO - Chain [1] start processing\n",
      "22:55:28 - cmdstanpy - INFO - Chain [1] done processing\n",
      "22:55:28 - cmdstanpy - WARNING - The default behavior of CmdStanMLE.stan_variable() will change in a future release to always return a numpy.ndarray, even for scalar variables.\n",
      "22:55:28 - cmdstanpy - INFO - Chain [1] start processing\n",
      "22:55:34 - cmdstanpy - INFO - Chain [1] done processing\n",
      "22:55:34 - cmdstanpy - WARNING - The default behavior of CmdStanMLE.stan_variable() will change in a future release to always return a numpy.ndarray, even for scalar variables.\n",
      "22:55:34 - cmdstanpy - INFO - Chain [1] start processing\n",
      "22:55:42 - cmdstanpy - INFO - Chain [1] done processing\n",
      "22:55:42 - cmdstanpy - WARNING - The default behavior of CmdStanMLE.stan_variable() will change in a future release to always return a numpy.ndarray, even for scalar variables.\n",
      "22:55:42 - cmdstanpy - INFO - Chain [1] start processing\n",
      "22:55:51 - cmdstanpy - INFO - Chain [1] done processing\n",
      "22:55:51 - cmdstanpy - WARNING - The default behavior of CmdStanMLE.stan_variable() will change in a future release to always return a numpy.ndarray, even for scalar variables.\n",
      "22:55:51 - cmdstanpy - INFO - Chain [1] start processing\n",
      "22:56:00 - cmdstanpy - INFO - Chain [1] done processing\n",
      "22:56:00 - cmdstanpy - WARNING - The default behavior of CmdStanMLE.stan_variable() will change in a future release to always return a numpy.ndarray, even for scalar variables.\n",
      "22:56:00 - cmdstanpy - INFO - Chain [1] start processing\n",
      "22:56:11 - cmdstanpy - INFO - Chain [1] done processing\n",
      "22:56:11 - cmdstanpy - WARNING - The default behavior of CmdStanMLE.stan_variable() will change in a future release to always return a numpy.ndarray, even for scalar variables.\n",
      "22:56:11 - cmdstanpy - INFO - Chain [1] start processing\n",
      "22:56:24 - cmdstanpy - INFO - Chain [1] done processing\n",
      "22:56:24 - cmdstanpy - WARNING - The default behavior of CmdStanMLE.stan_variable() will change in a future release to always return a numpy.ndarray, even for scalar variables.\n",
      "22:56:24 - cmdstanpy - INFO - Chain [1] start processing\n",
      "22:56:33 - cmdstanpy - INFO - Chain [1] done processing\n",
      "22:56:33 - cmdstanpy - WARNING - The default behavior of CmdStanMLE.stan_variable() will change in a future release to always return a numpy.ndarray, even for scalar variables.\n",
      "22:56:33 - cmdstanpy - INFO - Chain [1] start processing\n",
      "22:56:41 - cmdstanpy - INFO - Chain [1] done processing\n",
      "22:56:41 - cmdstanpy - WARNING - The default behavior of CmdStanMLE.stan_variable() will change in a future release to always return a numpy.ndarray, even for scalar variables.\n",
      "22:56:41 - cmdstanpy - INFO - Chain [1] start processing\n",
      "22:56:48 - cmdstanpy - INFO - Chain [1] done processing\n",
      "22:56:48 - cmdstanpy - WARNING - The default behavior of CmdStanMLE.stan_variable() will change in a future release to always return a numpy.ndarray, even for scalar variables.\n"
     ]
    }
   ],
   "source": [
    "all_fits = []\n",
    "for d in np.arange(2,15):\n",
    "    dat={'N':97, 'D':d, 'deltaij':distance_matrix_squaredp}\n",
    "    #run optimizer\n",
    "    model = ltz_m.optimize(data=dat, iter=250000, algorithm='LBFGS', tol_rel_grad=1e2)\n",
    "    all_fits.append({'euc':model.euc, 'sig':model.sig, 'lambda':model.stan_variable('lambda'), 't':model.time})\n",
    "\n",
    "\n"
   ]
  },
  {
   "cell_type": "code",
   "execution_count": 35,
   "id": "c6ddd178",
   "metadata": {},
   "outputs": [
    {
     "name": "stderr",
     "output_type": "stream",
     "text": [
      "22:57:11 - cmdstanpy - WARNING - The default behavior of CmdStanMLE.stan_variable() will change in a future release to always return a numpy.ndarray, even for scalar variables.\n"
     ]
    },
    {
     "data": {
      "text/plain": [
       "1.21617"
      ]
     },
     "execution_count": 35,
     "metadata": {},
     "output_type": "execute_result"
    }
   ],
   "source": [
    "model.stan_variable('lambda')"
   ]
  },
  {
   "cell_type": "code",
   "execution_count": 36,
   "id": "09e53bbb",
   "metadata": {},
   "outputs": [
    {
     "data": {
      "text/plain": [
       "array([5.56917, 5.59887, 5.6254 , 5.59536, 5.59643, 5.32002, 5.57941,\n",
       "       4.77175, 4.82929, 4.62422, 4.71085, 4.81013, 4.76347, 4.68514,\n",
       "       4.98056, 4.6103 , 4.94509, 4.63248, 4.70164, 4.17086, 4.19434,\n",
       "       4.09613, 4.4102 , 4.09641, 4.57073, 4.34969, 4.53619, 4.61661,\n",
       "       4.28459, 4.37684, 4.36048, 4.34162, 4.49481, 4.58088, 4.68834,\n",
       "       4.1626 , 4.86584, 4.95796, 4.98909, 4.76612, 5.21927, 4.61212,\n",
       "       4.7972 , 4.8309 , 5.37868, 5.66229, 5.68579, 5.07013, 5.67053,\n",
       "       5.58968, 5.62861, 5.8583 , 4.83744, 4.66339, 4.54952, 4.57651,\n",
       "       4.48823, 4.56046, 4.64862, 4.69245, 4.68051, 4.63311, 4.79614,\n",
       "       4.83021, 4.57857, 4.26823, 4.25351, 4.23359, 4.21523, 4.58415,\n",
       "       4.19649, 4.37445, 4.53325, 4.71281, 4.30664, 4.21342, 4.27439,\n",
       "       4.16953, 4.47493, 4.62868, 4.28826, 4.78152, 4.55749, 4.9389 ,\n",
       "       4.45991, 4.82129, 4.62327, 4.70541, 4.72137, 4.93858, 4.47128,\n",
       "       4.51466, 5.00259, 4.86978, 4.89037, 4.43607, 5.22582])"
      ]
     },
     "execution_count": 36,
     "metadata": {},
     "output_type": "execute_result"
    }
   ],
   "source": [
    "#access the correct iteration \n",
    "iteration = all_fits[5]['t']\n",
    "\n",
    "\n",
    "iteration"
   ]
  },
  {
   "cell_type": "code",
   "execution_count": 37,
   "id": "c69f3521",
   "metadata": {},
   "outputs": [
    {
     "data": {
      "text/plain": [
       "(97,)"
      ]
     },
     "execution_count": 37,
     "metadata": {},
     "output_type": "execute_result"
    }
   ],
   "source": [
    "model.time.shape"
   ]
  },
  {
   "cell_type": "code",
   "execution_count": 38,
   "id": "cadc132e",
   "metadata": {},
   "outputs": [],
   "source": [
    "#calculate radii based on time parameter\n",
    "radii = np.arccosh(iteration)"
   ]
  },
  {
   "cell_type": "code",
   "execution_count": 39,
   "id": "963b2e19",
   "metadata": {},
   "outputs": [
    {
     "data": {
      "text/plain": [
       "array([2.40223353, 2.40763968, 2.41244383, 2.40700232, 2.40719666,\n",
       "       2.35567175, 2.40410082, 2.24469537, 2.25695058, 2.21255306,\n",
       "       2.231555  , 2.2528868 , 2.24291914, 2.22595409, 2.28845544,\n",
       "       2.20946498, 2.2811586 , 2.21438088, 2.2295523 , 2.1065783 ,\n",
       "       2.11235972, 2.08794509, 2.16395851, 2.08801558, 2.20063287,\n",
       "       2.14976822, 2.19285757, 2.21086603, 2.13426687, 2.1561608 ,\n",
       "       2.1523138 , 2.14785998, 2.18346016, 2.202906  , 2.22665296,\n",
       "       2.10453624, 2.26465623, 2.28381249, 2.29020214, 2.24348797,\n",
       "       2.33619833, 2.2098693 , 2.25013481, 2.25729129, 2.36683447,\n",
       "       2.41908526, 2.4232928 , 2.30664335, 2.42056263, 2.40597004,\n",
       "       2.41302352, 2.45364128, 2.25867407, 2.22119065, 2.19586563,\n",
       "       2.20192797, 2.18195746, 2.19832745, 2.2179426 , 2.22754984,\n",
       "       2.22494202, 2.21452015, 2.24990886, 2.25714529, 2.20238913,\n",
       "       2.13033214, 2.12677818, 2.12194795, 2.11747463, 2.20363721,\n",
       "       2.11288739, 2.15559975, 2.19219287, 2.23198067, 2.13954504,\n",
       "       2.11703252, 2.13181555, 2.10624978, 2.178913  , 2.21354042,\n",
       "       2.13514736, 2.2467871 , 2.19765973, 2.27987961, 2.17546334,\n",
       "       2.25525586, 2.21234261, 2.23037258, 2.23383756, 2.27981345,\n",
       "       2.17807582, 2.1879794 , 2.29296021, 2.26548327, 2.26979394,\n",
       "       2.16996279, 2.33747615])"
      ]
     },
     "execution_count": 39,
     "metadata": {},
     "output_type": "execute_result"
    }
   ],
   "source": [
    "radii"
   ]
  },
  {
   "cell_type": "code",
   "execution_count": 40,
   "id": "f44e7938",
   "metadata": {},
   "outputs": [
    {
     "data": {
      "text/plain": [
       "Text(0.5, 0, 'Hyperbolic Embedding Radii')"
      ]
     },
     "execution_count": 40,
     "metadata": {},
     "output_type": "execute_result"
    },
    {
     "data": {
      "image/png": "[encoded data removed]",
      "text/plain": [
       "<Figure size 1500x750 with 1 Axes>"
      ]
     },
     "metadata": {},
     "output_type": "display_data"
    }
   ],
   "source": [
    "#Histogram of radii\n",
    "fig, ax = plt.subplots(figsize=(15,7.5))\n",
    "\n",
    "ax.hist(radii, color ='cornflowerblue') #cornflowerblue, lightcoral\n",
    "ax.set_xlabel('Hyperbolic Embedding Radii', fontsize=20)"
   ]
  },
  {
   "cell_type": "code",
   "execution_count": 41,
   "id": "75c766bc",
   "metadata": {},
   "outputs": [],
   "source": [
    "#DIP analysis of radii\n",
    "dip, pval = diptest.diptest(radii)"
   ]
  },
  {
   "cell_type": "code",
   "execution_count": 42,
   "id": "2ac64e08",
   "metadata": {},
   "outputs": [
    {
     "data": {
      "text/plain": [
       "(0.043374760877021905, 0.1986676806299592)"
      ]
     },
     "execution_count": 42,
     "metadata": {},
     "output_type": "execute_result"
    }
   ],
   "source": [
    "dip, pval"
   ]
  },
  {
   "cell_type": "code",
   "execution_count": 43,
   "id": "31b674d5",
   "metadata": {},
   "outputs": [
    {
     "data": {
      "text/plain": [
       "array([0.0590246, 0.0545914, 0.0758723, 0.0836753, 0.107349 , 0.0614368,\n",
       "       0.0502482, 0.502939 , 0.0852158, 0.512803 , 0.429363 , 0.350118 ,\n",
       "       0.469613 , 0.333471 , 0.337741 , 0.511625 , 0.367939 , 0.396203 ,\n",
       "       0.352091 , 0.241216 , 0.0830406, 0.110788 , 0.0510959, 0.109111 ,\n",
       "       0.168815 , 0.0612409, 0.127917 , 0.193223 , 0.0653885, 0.0522735,\n",
       "       0.0552849, 0.217568 , 0.0698337, 0.0705976, 0.172363 , 0.188067 ,\n",
       "       0.0817168, 0.045598 , 0.0419822, 0.0875577, 0.0709741, 0.0895914,\n",
       "       0.0430751, 0.0775661, 0.0695588, 0.0850937, 0.323655 , 0.0924253,\n",
       "       0.295068 , 0.370806 , 0.405493 , 0.109142 , 0.0587041, 0.0546213,\n",
       "       0.0527095, 0.531283 , 0.0506906, 0.106716 , 0.0577131, 0.0477761,\n",
       "       0.443834 , 0.0596828, 0.0676344, 0.0850454, 0.0852005, 0.0454386,\n",
       "       0.0812604, 0.21736  , 0.273971 , 0.0690848, 0.0516689, 0.0887297,\n",
       "       0.153211 , 0.0775774, 0.0562495, 0.0504322, 0.43981  , 0.0723086,\n",
       "       0.0904031, 0.0761014, 0.0731709, 0.205693 , 0.0827521, 0.139448 ,\n",
       "       0.0910811, 0.396216 , 0.070797 , 0.0839118, 0.0514768, 0.148266 ,\n",
       "       0.0939736, 0.0503309, 0.123079 , 0.13137  , 0.118717 , 0.0551819,\n",
       "       0.0963895])"
      ]
     },
     "execution_count": 43,
     "metadata": {},
     "output_type": "execute_result"
    }
   ],
   "source": [
    "all_fits[0]['sig']"
   ]
  },
  {
   "cell_type": "code",
   "execution_count": 44,
   "id": "2793645c",
   "metadata": {},
   "outputs": [],
   "source": [
    "#return negative log likelihood of fit\n",
    "def MDS_lkl(fit, dmat):\n",
    "    lkl = 0;\n",
    "    N = fit['sig'].shape[0]\n",
    "    \n",
    "    sigs = fit['sig']\n",
    "    lam = fit['lambda']\n",
    "    emb_mat = get_embed_dmat(fit)\n",
    "    \n",
    "    for i in np.arange(N):\n",
    "        for j in np.arange(i+1, N):\n",
    "            seff = sigs[i]**2 + sigs[j]**2\n",
    "            lkl += ((dmat[i][j] - emb_mat[i][j]/lam)**2 / (2.0*seff)) + 0.5*np.log(seff*2.0*np.pi)\n",
    "    return lkl\n",
    "\n",
    "#input: optimization fit and distance matrix\n",
    "def BIC(fit, dmat):\n",
    "    N,D = fit['euc'].shape\n",
    "    n = 0.5*N*(N-1)\n",
    "    k = N*D + N + 1.0 - 0.5*D*(D-1)\n",
    "    \n",
    "    return k*np.log(n) + 2.0*MDS_lkl(fit, dmat)"
   ]
  },
  {
   "cell_type": "markdown",
   "id": "e7ccab40",
   "metadata": {},
   "source": [
    "## Bayesian information criteria\n",
    "\n",
    "There is a lot of formal Bayesian Theory behind this (see chapter 2 here https://urldefense.proofpoint.com/v2/url?u=https-3A__www.inference.org.uk_mackay_thesis.pdf&d=DwIGAg&c=-35OiAkTchMrZOngvJPOeA&r=B8GeUuyHfxQP8MseZuhipQ&m=KVww4gh9-XOtp1LqNUc0K-PGXOX3bm2QsokPFlBG9Vs&s=UBtNEdIXatq_zFpG53nmPCLbCnlgIgWigHYhEnBRYyo&e= ), but essentially we are trying to find the minimal number of parameters to describe a dataset. If the data is 5D, we don't want to use 7 parameters to describe it. The BIC is like a cost function that rewards a model that has a better fit to the likelihood function, but penalizes models that increase the number of their parameters. The model which minimizes this function will thus have the ideal trade-off of being able to model the data well without introducing too many parameters and overfitting the data."
   ]
  },
  {
   "cell_type": "code",
   "execution_count": 48,
   "id": "f3688551",
   "metadata": {},
   "outputs": [],
   "source": [
    "all_BIC = [BIC(fit, distance_matrix_squaredp) for fit in all_fits]"
   ]
  },
  {
   "cell_type": "code",
   "execution_count": 49,
   "id": "b1160cc0",
   "metadata": {},
   "outputs": [
    {
     "data": {
      "text/plain": [
       "[319.6076084116071,\n",
       " -7556.355134085234,\n",
       " -8676.254499242234,\n",
       " -9325.673976417598,\n",
       " -9625.033714296957,\n",
       " -9639.164816793282,\n",
       " -9640.959312140349,\n",
       " -9450.941521875471,\n",
       " -9098.11422557724,\n",
       " -8743.70057674311,\n",
       " -8367.973032122047,\n",
       " -7976.211912594852,\n",
       " -7623.212429932184]"
      ]
     },
     "execution_count": 49,
     "metadata": {},
     "output_type": "execute_result"
    }
   ],
   "source": [
    "all_BIC"
   ]
  },
  {
   "cell_type": "markdown",
   "id": "daae8d10",
   "metadata": {},
   "source": [
    "As you can see the BIC is minimized at the true dimension of 5. Any more parameters would have been redundant, any less would not have properly fit the data"
   ]
  },
  {
   "cell_type": "code",
   "execution_count": 50,
   "id": "c3160255",
   "metadata": {},
   "outputs": [
    {
     "data": {
      "text/plain": [
       "Text(0, 0.5, 'BIC')"
      ]
     },
     "execution_count": 50,
     "metadata": {},
     "output_type": "execute_result"
    },
    {
     "data": {
      "image/png": "[encoded data removed]",
      "text/plain": [
       "<Figure size 750x750 with 1 Axes>"
      ]
     },
     "metadata": {},
     "output_type": "display_data"
    }
   ],
   "source": [
    "fig, ax = plt.subplots(figsize=(7.5,7.5))\n",
    "\n",
    "ax.scatter(np.arange(2,15), all_BIC, c = 'cornflowerblue') #cornflowerblue, lightcoral\n",
    "ax.set_xlabel('Dimension', fontsize=20)\n",
    "ax.set_ylabel('BIC', fontsize=20)"
   ]
  },
  {
   "cell_type": "markdown",
   "id": "ce171280",
   "metadata": {},
   "source": [
    "# Re-Running the optimizer\n",
    "Lets start by generating some 2D data"
   ]
  },
  {
   "cell_type": "code",
   "execution_count": null,
   "id": "6159dca9",
   "metadata": {},
   "outputs": [],
   "source": [
    "#generate 100 data points uniformly distributed in 5 dimensional hyperbolic space of radius R=4\n",
    "dim=2; R=4.0;\n",
    "n=100\n",
    "dirs = stats.norm.rvs(size=(n, dim))\n",
    "dirs = (dirs.T/np.sqrt(np.sum(np.square(dirs), axis=1))).T\n",
    "U = stats.uniform.rvs(size=n)\n",
    "rs_p = np.tanh(np.log((1-np.exp(-R))/np.exp(-R)*(U) + 1.0)/2.0)\n",
    "p_coords = rs_p.reshape(-1,1)*dirs\n",
    "\n",
    "#add noise to the computed distance matrix to simulate a more realistic dataset\n",
    "mat_2D = get_dmat(p_coords) + 0.05*R*stats.norm.rvs(size=(n,n))\n",
    "for i in np.arange(n):\n",
    "    for j in np.arange(i+1, n):\n",
    "        mat_2D[j][i] = mat_2D[i][j]\n",
    "mat_2D = 2.0*mat_2D/np.max(mat_2D)"
   ]
  },
  {
   "cell_type": "code",
   "execution_count": null,
   "id": "9f65f1d2",
   "metadata": {},
   "outputs": [],
   "source": [
    "#dictionary to specify input to simulation\n",
    "dat={'N':100, 'D':2, 'deltaij':mat_2D}\n",
    "#run optimizer\n",
    "model2D = ltz_m.optimize(data=dat, iter=250000, algorithm='LBFGS', tol_rel_grad=1e2)\n",
    "hyp_emb2D = {'euc':model2D.euc, 'sig':model2D.sig, 'lambda':model2D.stan_variable('lambda')}"
   ]
  },
  {
   "cell_type": "code",
   "execution_count": null,
   "id": "546b43c3",
   "metadata": {},
   "outputs": [],
   "source": [
    "process_sim(hyp_emb2D)"
   ]
  },
  {
   "cell_type": "markdown",
   "id": "77ed16b6",
   "metadata": {},
   "source": [
    "#### Most pts are well fit, but a few are poorly fit (the ones with high sigma) which adds a lot of scatter to the shepard diagram\n",
    "#### The optimizer got caught in a false minimum"
   ]
  },
  {
   "cell_type": "code",
   "execution_count": null,
   "id": "bb8c2124",
   "metadata": {},
   "outputs": [],
   "source": [
    "fig, ax = plt.subplots(1, 2, figsize=(15,7.5))\n",
    "\n",
    "ax[0].scatter(mat_2D[np.triu_indices(100, k=1)], hyp_emb2D['emb_mat'][np.triu_indices(100, k=1)])\n",
    "ax[0].plot(np.arange(3), np.arange(3), c='black', linewidth=5, alpha=0.5)\n",
    "\n",
    "ax[0].set_xlabel('Original Distances', fontsize=20)\n",
    "ax[0].set_ylabel('Embedding Distances / $\\lambda$', fontsize=20)\n",
    "\n",
    "ax[1].hist(hyp_emb2D['sig'])\n",
    "ax[1].set_xlabel('Embedding Uncertainties', fontsize=20)"
   ]
  },
  {
   "cell_type": "markdown",
   "id": "23edc498",
   "metadata": {},
   "source": [
    "### Strategy: randomize the positions of the poorly fit points, and then return the coordinates as the initial conditions to continue optimizing. This bumps the simulation out of the false minimium without destroying all of the work its already done"
   ]
  },
  {
   "cell_type": "code",
   "execution_count": null,
   "id": "e47006a6",
   "metadata": {},
   "outputs": [],
   "source": [
    "#figure out which pts have high uncertainty, and randomize their coordinates without touching the rest of the points\n",
    "N_refit = np.where(hyp_emb2D['sig'] > 0.3)[0].shape[0]\n",
    "hyp_emb2D['euc'][np.where(hyp_emb2D['sig'] > 0.3)] = stats.norm.rvs(size=(N_refit,2))"
   ]
  },
  {
   "cell_type": "code",
   "execution_count": null,
   "id": "44aa4765",
   "metadata": {},
   "outputs": [],
   "source": [
    "#re-reun the optimizer, but this time sepcify the initial condition by passing the previous simulation dictionary\n",
    "dat={'N':100, 'D':2, 'deltaij':mat_2D}\n",
    "model2D = ltz_m.optimize(data=dat, iter=250000, algorithm='LBFGS', tol_rel_grad=1e2,inits = hyp_emb2D)\n",
    "hyp_emb2D = {'euc':model2D.euc, 'sig':model2D.sig, 'lambda':model2D.stan_variable('lambda')}\n",
    "# tst_2D = ltz_m.optimizing(data=dat, iter=250000, tol_rel_grad=1e2, init=tst_2D)"
   ]
  },
  {
   "cell_type": "code",
   "execution_count": null,
   "id": "4dc911c9",
   "metadata": {},
   "outputs": [],
   "source": [
    "process_sim(hyp_emb2D)"
   ]
  },
  {
   "cell_type": "markdown",
   "id": "b28b534e",
   "metadata": {},
   "source": [
    "### We see that the fit is significantly better, although there are still a few poorly fit points. We could keep iterating the above process until all points are well fit."
   ]
  },
  {
   "cell_type": "code",
   "execution_count": null,
   "id": "9f3fa17a",
   "metadata": {},
   "outputs": [],
   "source": [
    "fig, ax = plt.subplots(1, 2, figsize=(15,7.5))\n",
    "\n",
    "ax[0].scatter(mat_2D[np.triu_indices(100, k=1)], hyp_emb2D['emb_mat'][np.triu_indices(100, k=1)])\n",
    "ax[0].plot(np.arange(3), np.arange(3), c='black', linewidth=5, alpha=0.5)\n",
    "\n",
    "ax[0].set_xlabel('Original Distances', fontsize=20)\n",
    "ax[0].set_ylabel('Embedding Distances / $\\lambda$', fontsize=20)\n",
    "\n",
    "ax[1].hist(hyp_emb2D['sig'])\n",
    "ax[1].set_xlabel('Embedding Uncertainties', fontsize=20)"
   ]
  }
 ],
 "metadata": {
  "kernelspec": {
   "display_name": "Python 3 (ipykernel)",
   "language": "python",
   "name": "python3"
  },
  "language_info": {
   "codemirror_mode": {
    "name": "ipython",
    "version": 3
   },
   "file_extension": ".py",
   "mimetype": "text/x-python",
   "name": "python",
   "nbconvert_exporter": "python",
   "pygments_lexer": "ipython3",
   "version": "3.1.-1"
  }
 },
 "nbformat": 4,
 "nbformat_minor": 5
}
