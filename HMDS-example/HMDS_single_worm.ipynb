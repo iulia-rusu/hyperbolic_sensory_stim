{
 "cells": [
  {
   "cell_type": "code",
   "execution_count": 58,
   "id": "dbb521f1",
   "metadata": {},
   "outputs": [],
   "source": [
    "'''\n",
    "Method developed by Anoop Praturu: https://www.biorxiv.org/content/10.1101/2022.10.12.511940v1\n",
    "Code from Anoop Praturu on Oct 2021\n",
    "Move from pystan to cmdstanpy based on suggestions by Milo Julis\n",
    "Edited by Mingchen Yao on May 26 2023\n",
    "'''\n",
    "\n",
    "import numpy as np\n",
    "import diptest  \n",
    "import matplotlib.pyplot as plt\n",
    "import cmdstanpy as stan\n",
    "import scipy.stats as stats\n",
    "import pickle\n",
    "import seaborn as sns\n",
    "%matplotlib inline\n",
    "\n",
    "import pandas as pd\n",
    "\n",
    "import plotly.express as px\n",
    "from matplotlib import rcParams\n",
    "import plotly.express as px\n",
    "\n",
    "from sklearn.metrics import r2_score"
   ]
  },
  {
   "cell_type": "code",
   "execution_count": null,
   "id": "73e1d8b7",
   "metadata": {},
   "outputs": [],
   "source": [
    "# # if there is anything wrong with comstan: re-install it. Otherwise don't run this cell\n",
    "# from cmdstanpy import install_cmdstan\n",
    "# install_cmdstan(overwrite = True)"
   ]
  },
  {
   "cell_type": "markdown",
   "id": "93f95b0f",
   "metadata": {},
   "source": [
    "# Functions for Generating Synthetic Data"
   ]
  },
  {
   "cell_type": "code",
   "execution_count": 59,
   "id": "f16c0781",
   "metadata": {},
   "outputs": [],
   "source": [
    "#returns hyperbolic distance between vectors in poincare ball\n",
    "def poincare_dist(v1, v2):\n",
    "    sq = np.sum(np.square(v1-v2))\n",
    "    r1 = np.sum(np.square(v1))\n",
    "    r2 = np.sum(np.square(v2))\n",
    "    inv = 2.0*sq/((1.0-r1)*(1.0-r2))\n",
    "    return np.arccosh(1.0 + inv)\n",
    "\n",
    "#return NxN symmetric distance matrix from poincare coordinates\n",
    "def get_dmat(p_coords):\n",
    "    N = p_coords.shape[0]\n",
    "    dists = np.zeros((N, N))\n",
    "    \n",
    "    for i in np.arange(N):\n",
    "        for j in np.arange(i+1, N):\n",
    "            dists[i][j] = poincare_dist(p_coords[i], p_coords[j])\n",
    "            dists[j][i] = dists[i][j]\n",
    "    return dists"
   ]
  },
  {
   "cell_type": "code",
   "execution_count": null,
   "id": "f942b036",
   "metadata": {},
   "outputs": [],
   "source": [
    "#generate 100 data points uniformly distributed in 5 dimensional hyperbolic space of radius R=4\n",
    "dim=5; R=4.0;\n",
    "n=100\n",
    "dirs = stats.norm.rvs(size=(n, dim))\n",
    "dirs = (dirs.T/np.sqrt(np.sum(np.square(dirs), axis=1))).T\n",
    "U = stats.uniform.rvs(size=n)\n",
    "rs_p = np.tanh(np.log((1-np.exp(-R))/np.exp(-R)*(U) + 1.0)/2.0)\n",
    "p_coords = rs_p.reshape(-1,1)*dirs\n",
    "\n",
    "#add noise to the computed distance matrix to simulate a more realistic dataset\n",
    "mat_dim = get_dmat(p_coords) + 0.05*R*stats.norm.rvs(size=(n,n))\n",
    "for i in np.arange(n):\n",
    "    for j in np.arange(i+1, n):\n",
    "        mat_dim[j][i] = mat_dim[i][j]\n",
    "mat_dim = 2.0*mat_dim/np.max(mat_dim)"
   ]
  },
  {
   "cell_type": "markdown",
   "id": "abf7bb38",
   "metadata": {},
   "source": [
    "# Code for fitting Bayesian Model"
   ]
  },
  {
   "cell_type": "code",
   "execution_count": 60,
   "id": "0a7b4752",
   "metadata": {},
   "outputs": [],
   "source": [
    "path = '/Users/iuliarusu/Documents/Sharpee/HMDS-example/model/'\n",
    "ltz_m = stan.CmdStanModel(stan_file=path+'lorentz.stan')"
   ]
  },
  {
   "cell_type": "markdown",
   "id": "4ea2a559",
   "metadata": {},
   "source": [
    "## Run the optimizer given the synthetically generated Data set"
   ]
  },
  {
   "cell_type": "code",
   "execution_count": 6,
   "id": "b35a571e",
   "metadata": {},
   "outputs": [],
   "source": [
    "ON = pd.read_csv('/Users/iuliarusu/Documents/Sharpee/Clustering/clustered_bacterial_stim/ON_cluster.csv') \n",
    "OFF = pd.read_csv('/Users/iuliarusu/Documents/Sharpee/Clustering/clustered_bacterial_stim/OFF_cluster.csv')\n",
    "AVA_0_df = pd.read_csv ('/Users/iuliarusu/Documents/Sharpee/Clustering/clustered_bacterial_stim/AVA_0_df.csv')\n",
    "RME_0_df = pd.read_csv ('/Users/iuliarusu/Documents/Sharpee/Clustering/clustered_bacterial_stim/RME_0_df.csv')\n",
    "SMDD_0_df = pd.read_csv ('/Users/iuliarusu/Documents/Sharpee/Clustering/clustered_bacterial_stim/SMDD_0_df.csv')\n",
    "SMDV_0_df = pd.read_csv ('/Users/iuliarusu/Documents/Sharpee/Clustering/clustered_bacterial_stim/SMDV_0_df.csv')"
   ]
  },
  {
   "cell_type": "code",
   "execution_count": 7,
   "id": "010b6751",
   "metadata": {},
   "outputs": [],
   "source": [
    "ON_0 = ON[ON['worm_id'] == 0]\n",
    "OFF_0 = OFF[OFF['worm_id'] == 0]"
   ]
  },
  {
   "cell_type": "markdown",
   "id": "c4cbc88c",
   "metadata": {},
   "source": [
    "# for a single worm, concatenate all clustered cells\n"
   ]
  },
  {
   "cell_type": "code",
   "execution_count": 8,
   "id": "f0b3343e",
   "metadata": {},
   "outputs": [],
   "source": [
    "# example for w0\n",
    "ON_0 = np.array(ON_0.iloc[:, 1: -2])\n",
    "OFF_0 = np.array(OFF_0.iloc[:, 1: -2])\n",
    "AVA_0 = np.array(AVA_0_df.iloc[:, 1: -2])\n",
    "RME_0 = np.array(RME_0_df.iloc[:, 1: -2])\n",
    "SMDV_0 = np.array(SMDV_0_df.iloc[:, 1: -2])\n",
    "SMDD_0 = np.array(SMDD_0_df.iloc[:, 1: -2])"
   ]
  },
  {
   "cell_type": "code",
   "execution_count": 9,
   "id": "03a928e5",
   "metadata": {},
   "outputs": [],
   "source": [
    "#concatenate all cell types\n",
    "w_0 = np.concatenate((ON_0, OFF_0, AVA_0, RME_0, SMDV_0, SMDD_0), axis=0)"
   ]
  },
  {
   "cell_type": "code",
   "execution_count": 10,
   "id": "13add130",
   "metadata": {},
   "outputs": [
    {
     "data": {
      "text/plain": [
       "(29, 1600)"
      ]
     },
     "execution_count": 10,
     "metadata": {},
     "output_type": "execute_result"
    }
   ],
   "source": [
    "w_0.shape"
   ]
  },
  {
   "cell_type": "code",
   "execution_count": 11,
   "id": "01dd76a9",
   "metadata": {},
   "outputs": [],
   "source": [
    "w_0_df = pd.DataFrame(w_0)"
   ]
  },
  {
   "cell_type": "markdown",
   "id": "1dd6893c",
   "metadata": {},
   "source": [
    "# All Stim Together"
   ]
  },
  {
   "cell_type": "code",
   "execution_count": 12,
   "id": "90c1b947",
   "metadata": {},
   "outputs": [],
   "source": [
    "ON_counts = np.array(ON.iloc[:, 1: -2])#this has an extra column for each cell's original id\n",
    "OFF_counts = np.array(OFF.iloc[:, 1: -2]) \n",
    "\n"
   ]
  },
  {
   "cell_type": "code",
   "execution_count": null,
   "id": "a3d44fb4",
   "metadata": {},
   "outputs": [],
   "source": [
    "all_stim = np.concatenate((ON_counts, OFF_counts), axis=0)"
   ]
  },
  {
   "cell_type": "code",
   "execution_count": null,
   "id": "531e342f",
   "metadata": {},
   "outputs": [],
   "source": [
    "all_stim_df = pd.DataFrame(all_stim)"
   ]
  },
  {
   "cell_type": "code",
   "execution_count": 70,
   "id": "d57b674f",
   "metadata": {},
   "outputs": [
    {
     "name": "stdout",
     "output_type": "stream",
     "text": [
      "Stored variables and their in-db values:\n",
      "AVA_0_df                                               ->            0         1         2         3        \n",
      "AVA_RME_labels                                         -> array(['AVA', 'AVA', 'AVA', 'AVA', 'AVA', 'AVA', '\n",
      "AVA_RME_pcoords                                        -> array([[ 2.07991102e-01, -1.30040395e-01,  2.60703\n",
      "AVA_RME_pcoords_15dim                                  -> array([[-0.12600773,  0.08347497,  0.14896734, ...\n",
      "AVA_RME_pcoords_sphere                                 -> array([[-0.25741366,  0.62091017, -0.72604386],\n",
      "  \n",
      "AVA_RME_stim0_labels                                   -> array(['AVA', 'AVA', 'AVA', 'AVA', 'AVA', 'AVA', '\n",
      "AVA_RME_stim0_pcoords                                  -> array([[-0.12281661, -0.05609896, -0.21207597, -0.\n",
      "AVA_RME_stim1_labels                                   -> array(['AVA', 'AVA', 'AVA', 'AVA', 'AVA', 'AVA', '\n",
      "AVA_RME_stim1_pcoords                                  -> array([[ 4.50658786e-01,  4.15805332e-02,  1.84402\n",
      "AVA_RME_worm_labels                                    -> array(['worm 0', 'worm 0', 'worm 0', 'worm 0', 'wo\n",
      "AVA_lr_1_10_15_all_best_weights                        -> [[[array([[ 0.44952843],\n",
      "       [-0.61290693],\n",
      "   \n",
      "AVA_lr_1_10_15_all_best_weights_newest                 -> [[[array([[-0.03201341],\n",
      "       [ 0.25451884],\n",
      "   \n",
      "AVA_predictions_0                                      -> array([[0.39977428],\n",
      "       [0.39977428],\n",
      "       [\n",
      "AVA_predictions_1                                      -> array([[0.39977428],\n",
      "       [0.39977428],\n",
      "       [\n",
      "Benzaldehyde_3_Worm1_Buffer_scaled_pcoords             -> array([[-6.39172356e-01, -1.59973744e-01, -7.44803\n",
      "OFF_lr_1_10_10_all_best_weights                        -> [[[array([[-0.706602  ],\n",
      "       [-0.27804548],\n",
      "   \n",
      "OFF_predictions_0                                      -> array([[0.334352  ],\n",
      "       [0.334352  ],\n",
      "       [\n",
      "OFF_predictions_1                                      -> array([[0.334352],\n",
      "       [0.334352],\n",
      "       [0.33\n",
      "ON_OFF_labels                                          -> array(['ON', 'ON', 'ON', 'ON', 'ON', 'ON', 'ON', '\n",
      "ON_OFF_pcoords                                         -> array([[ 0.07966197,  0.00259599,  0.12440066,  0.\n",
      "ON_OFF_pcoords_sphere                                  -> array([[-0.2073611 , -0.35166573,  0.85590138],\n",
      "  \n",
      "ON_lr_1_10_10_all_best_weights                         -> [[[array([[ 0.250712  ],\n",
      "       [-0.0316975 ],\n",
      "   \n",
      "ON_predictions_0                                       -> array([[0.31750754],\n",
      "       [0.31750754],\n",
      "       [\n",
      "ON_predictions_1                                       -> array([[0.31750754],\n",
      "       [0.31750754],\n",
      "       [\n",
      "RME_0_df                                               ->            0         1         2         3        \n",
      "RME_lr_1_10_12_all_best_weights                        -> [[[array([[-0.32917637],\n",
      "       [-0.25909427],\n",
      "   \n",
      "RME_lr_1_6_10_all_best_weights                         -> [[[array([[-0.28820142],\n",
      "       [-0.09331478],\n",
      "   \n",
      "RME_predictions_0                                      -> array([[0.34600326],\n",
      "       [0.34600326],\n",
      "       [\n",
      "RME_predictions_1                                      -> array([[0.34600326],\n",
      "       [0.34600326],\n",
      "       [\n",
      "SMDD_0_df                                              ->           0         1         2         3        4\n",
      "SMDD_SMDV_labels                                       -> array(['SMDD', 'SMDD', 'SMDD', 'SMDD', 'SMDD', 'SM\n",
      "SMDD_SMDV_pcoords                                      -> array([[-0.03107731, -0.95572063,  0.24437986,  0.\n",
      "SMDD_SMDV_pcoords_15                                   -> array([[-0.28855151, -0.08214893, -0.17786911,  0.\n",
      "SMDD_SMDV_pcoords_sphere                               -> array([[ 0.51096545,  0.58419151, -0.62713135],\n",
      "  \n",
      "SMDD_SMDV_stim0_labels                                 -> array(['SMDD', 'SMDD', 'SMDD', 'SMDD', 'SMDD', 'SM\n",
      "SMDD_SMDV_stim0_pcoords                                -> array([[ 0.29088065, -0.09782843,  0.93438751],\n",
      "  \n",
      "SMDD_SMDV_stim1_labels                                 -> array(['SMDD', 'SMDD', 'SMDD', 'SMDD', 'SMDD', 'SM\n",
      "SMDD_SMDV_stim1_pcoords                                -> array([[-0.82962275, -0.41191753,  0.35303398],\n",
      "  \n",
      "SMDD_lr_1_10_10_all_best_weights                       -> [[[array([[ 0.01598796],\n",
      "       [ 0.65261483],\n",
      "   \n",
      "SMDD_predictions_0                                     -> array([[0.3687177 ],\n",
      "       [0.3687177 ],\n",
      "       [\n",
      "SMDD_predictions_1                                     -> array([[0.3687177],\n",
      "       [0.3687177],\n",
      "       [0.\n",
      "SMDV_lr_1_10_15_all_best_weights                       -> [[[array([[-0.32245567],\n",
      "       [-0.15964305],\n",
      "   \n",
      "SMVD_0_df                                              ->            0        1         2         3    4    \n",
      "all_ws_clustered                                       ->             0         1         2         3       \n",
      "ava_rme_0_labels                                       -> ['AVA', 'AVA', 'AVA', 'AVA', 'AVA', 'AVA', 'RME', \n",
      "ava_rme_1_labels                                       -> ['AVA', 'AVA', 'AVA', 'AVA', 'AVA', 'AVA', 'AVA', \n",
      "ava_rme_2_labels                                       -> ['AVA', 'AVA', 'AVA', 'RME', 'RME', 'RME']\n",
      "ava_rme_3_labels                                       -> ['AVA', 'AVA', 'AVA', 'RME', 'RME', 'RME', 'RME', \n",
      "ava_rme_4_labels                                       -> ['AVA', 'AVA', 'AVA', 'AVA', 'AVA', 'AVA', 'AVA', \n",
      "ava_rme_5_labels                                       -> ['AVA', 'RME', 'RME', 'RME', 'RME', 'RME', 'RME', \n",
      "ava_rme_6_labels                                       -> ['AVA', 'AVA', 'AVA', 'AVA', 'AVA', 'AVA', 'AVA', \n",
      "ava_rme_emb_pcoords                                    ->            0         1         2 identity\n",
      "0   0.07\n",
      "ava_rme_stimuli                                        -> array(['stimulus 0', 'stimulus 0', 'stimulus 0', '\n",
      "average_clustered_activity                             -> [368.8798414623162, 408.86759179973296, 353.989836\n",
      "average_unclust_activity                               -> [378.7213159540661, 468.14983473021357, 432.417661\n",
      "buffer_dataframes                                      -> {'2nonanone_10e-2_Worm1_Buffer':       x2nonanone_\n",
      "clust_labs_AVA_RME_stim1                               -> ['RME', 'RME', 'RME', 'RME', 'RME', 'RME', 'RME', \n",
      "clustered_activity                                     -> [10697.51540240717, 13083.762937591455, 6371.81705\n",
      "cont_w1                                                ->       x2nonanone_10eneg2_Worm1_Neuron1  x2nonanone\n",
      "filtered_unclustred                                    ->             0         1         2         3       \n",
      "hyp_emb                                                -> {'euc': array([[ 7.99811e-01,  3.53625e+00,  4.045\n",
      "pcoords_AVA_RME_stim1                                  -> array([[ 0.76242116,  0.48985351, -0.31050488],\n",
      "  \n",
      "ratios                                                 -> [368.8798414623162, 408.86759179973296, 353.989836\n",
      "sensory_cells                                          -> array([[1.11844192e-01, 9.99277417e-01, 1.92603892\n",
      "sensory_pcoords                                        -> array([[ 1.50144439e-01, -7.43878432e-01,  1.56969\n",
      "stim_1_AVA_RME                                         ->             0         1         2         3       \n",
      "stim_1_AVA_RME_labels                                  ->     worm_id  stim_group  OriginalIndex\n",
      "0         4\n",
      "unclust_activity                                       -> [10697.51540240717, 13083.762937591455, 6371.81705\n",
      "w0_ava_rme                                             -> array([[ 0.16049529, -0.34761215, -0.32418401],\n",
      "  \n",
      "w0_hyperbolic_all                                      ->             x         y         z    cells\n",
      "0    0.\n",
      "w0_sorted_new                                          ->            0         1         2         3        \n",
      "w1_ava_rme                                             -> array([[-0.18284076, -0.35745846, -0.10420018],\n",
      "  \n",
      "w1_sorted_new                                          ->             0         1         2         3       \n",
      "w2_ava_rme                                             -> array([[-0.23493681,  0.08037845,  0.14698058],\n",
      "  \n",
      "w2_sorted_new                                          ->             0         1         2         3       \n",
      "w3_ava_rme                                             -> array([[ 0.11736331,  0.18634551,  0.06690917],\n",
      "  \n",
      "w3_sorted_new                                          ->             0         1         2         3       \n",
      "w4_ava_rme                                             -> array([[-0.32920511, -0.20033225, -0.52305676],\n",
      "  \n",
      "w4_sorted_new                                          ->             0         1         2         3       \n",
      "w5_ava_rme                                             -> array([[ 0.35285178,  0.23111142, -0.18289603],\n",
      "  \n",
      "w5_notincluster_pcoords                                -> array([[ 0.40671781,  0.04685631,  0.88769041],\n",
      "  \n",
      "w5_sorted_new                                          ->             0         1         2         3       \n",
      "w6_ava_rme                                             -> array([[-0.48707324,  0.01243367, -0.12093487],\n",
      "  \n",
      "w6_sorted_new                                          ->             0         1         2         3       \n",
      "w_0_cluster_labels                                     -> array(['ON', 'ON', 'ON', 'ON', 'ON', 'ON', 'ON', '\n",
      "w_0_clustered                                          -> array([[ 0.12626865, -0.61447886,  0.7058034 ],\n",
      "  \n",
      "w_0_clustered_radii                                    -> array([2.21932495, 2.23313947, 2.27132814, 2.21848\n",
      "w_0_radii                                              -> array([1.81641173, 1.53441208, 1.58526969, 1.85174\n",
      "w_1_clustered_radii                                    -> array([2.26965188, 2.19364602, 2.36571745, 2.36850\n",
      "w_1_radii                                              -> array([2.26409117, 2.65537119, 2.26485151, 2.31786\n",
      "w_1_unclustered                                        -> array([[-0.13845089, -0.92366882, -0.30190105],\n",
      "  \n",
      "w_2_clustered_radii                                    -> array([1.84172291, 2.06001765, 1.91691076, 1.89527\n",
      "w_2_radii                                              -> array([1.9067896 , 1.87096569, 1.93433479, 1.76526\n",
      "w_3_clustered_radii                                    -> array([2.54063488, 2.58083857, 2.46417155, 2.60859\n",
      "w_3_radii                                              -> array([2.26675395, 2.42544511, 2.49602196, 2.31126\n",
      "w_4_clustered_radii                                    -> array([1.83492668, 1.98188533, 1.64367137, 1.81363\n",
      "w_4_radii                                              -> array([1.90831052, 2.05115179, 2.08767568, 1.97836\n",
      "w_5_clustered_radii                                    -> array([2.06444094, 1.99316673, 1.89715272, 1.96396\n",
      "w_5_radii                                              -> array([1.92306872, 1.76099192, 1.67302891, 2.02243\n",
      "w_6_clustered_radii                                    -> array([2.21592059, 2.18291462, 2.3022416 , 2.10097\n",
      "w_6_radii                                              -> array([1.45730165, 1.44094244, 1.72656391, 1.60304\n"
     ]
    }
   ],
   "source": [
    "%store"
   ]
  },
  {
   "cell_type": "code",
   "execution_count": 62,
   "id": "b0837847",
   "metadata": {},
   "outputs": [],
   "source": [
    "%store -r w_0_clustered_radii"
   ]
  },
  {
   "cell_type": "code",
   "execution_count": 65,
   "id": "0c22b41f",
   "metadata": {},
   "outputs": [],
   "source": [
    "%store -r all_ws_clustered"
   ]
  },
  {
   "cell_type": "code",
   "execution_count": 66,
   "id": "9ecb4550",
   "metadata": {},
   "outputs": [
    {
     "data": {
      "text/html": [
       "<div>\n",
       "<style scoped>\n",
       "    .dataframe tbody tr th:only-of-type {\n",
       "        vertical-align: middle;\n",
       "    }\n",
       "\n",
       "    .dataframe tbody tr th {\n",
       "        vertical-align: top;\n",
       "    }\n",
       "\n",
       "    .dataframe thead th {\n",
       "        text-align: right;\n",
       "    }\n",
       "</style>\n",
       "<table border=\"1\" class=\"dataframe\">\n",
       "  <thead>\n",
       "    <tr style=\"text-align: right;\">\n",
       "      <th></th>\n",
       "      <th>0</th>\n",
       "      <th>1</th>\n",
       "      <th>2</th>\n",
       "      <th>3</th>\n",
       "      <th>4</th>\n",
       "      <th>5</th>\n",
       "      <th>6</th>\n",
       "      <th>7</th>\n",
       "      <th>8</th>\n",
       "      <th>9</th>\n",
       "      <th>...</th>\n",
       "      <th>1593</th>\n",
       "      <th>1594</th>\n",
       "      <th>1595</th>\n",
       "      <th>1596</th>\n",
       "      <th>1597</th>\n",
       "      <th>1598</th>\n",
       "      <th>1599</th>\n",
       "      <th>cell_type</th>\n",
       "      <th>worm_id</th>\n",
       "      <th>entropy</th>\n",
       "    </tr>\n",
       "  </thead>\n",
       "  <tbody>\n",
       "    <tr>\n",
       "      <th>0</th>\n",
       "      <td>0.111328</td>\n",
       "      <td>0.113690</td>\n",
       "      <td>0.104047</td>\n",
       "      <td>0.097544</td>\n",
       "      <td>0.128698</td>\n",
       "      <td>0.096889</td>\n",
       "      <td>0.113149</td>\n",
       "      <td>0.091761</td>\n",
       "      <td>0.110592</td>\n",
       "      <td>0.098088</td>\n",
       "      <td>...</td>\n",
       "      <td>0.087761</td>\n",
       "      <td>0.072876</td>\n",
       "      <td>0.105107</td>\n",
       "      <td>0.077777</td>\n",
       "      <td>0.120296</td>\n",
       "      <td>0.086403</td>\n",
       "      <td>0.073250</td>\n",
       "      <td>ON</td>\n",
       "      <td>0</td>\n",
       "      <td>1.533611</td>\n",
       "    </tr>\n",
       "    <tr>\n",
       "      <th>1</th>\n",
       "      <td>0.111844</td>\n",
       "      <td>0.125500</td>\n",
       "      <td>0.085508</td>\n",
       "      <td>0.112997</td>\n",
       "      <td>0.101238</td>\n",
       "      <td>0.122276</td>\n",
       "      <td>0.166369</td>\n",
       "      <td>0.147508</td>\n",
       "      <td>0.098558</td>\n",
       "      <td>0.156589</td>\n",
       "      <td>...</td>\n",
       "      <td>0.147703</td>\n",
       "      <td>0.164014</td>\n",
       "      <td>0.274072</td>\n",
       "      <td>0.282609</td>\n",
       "      <td>0.370823</td>\n",
       "      <td>0.395895</td>\n",
       "      <td>0.326826</td>\n",
       "      <td>ON</td>\n",
       "      <td>0</td>\n",
       "      <td>1.574685</td>\n",
       "    </tr>\n",
       "    <tr>\n",
       "      <th>2</th>\n",
       "      <td>0.192604</td>\n",
       "      <td>0.220196</td>\n",
       "      <td>0.185329</td>\n",
       "      <td>0.198972</td>\n",
       "      <td>0.199652</td>\n",
       "      <td>0.214086</td>\n",
       "      <td>0.204000</td>\n",
       "      <td>0.212617</td>\n",
       "      <td>0.200606</td>\n",
       "      <td>0.209405</td>\n",
       "      <td>...</td>\n",
       "      <td>0.125827</td>\n",
       "      <td>0.116286</td>\n",
       "      <td>0.147985</td>\n",
       "      <td>0.199686</td>\n",
       "      <td>0.212018</td>\n",
       "      <td>0.182312</td>\n",
       "      <td>0.149742</td>\n",
       "      <td>ON</td>\n",
       "      <td>0</td>\n",
       "      <td>1.724822</td>\n",
       "    </tr>\n",
       "    <tr>\n",
       "      <th>3</th>\n",
       "      <td>0.123674</td>\n",
       "      <td>0.123468</td>\n",
       "      <td>0.094402</td>\n",
       "      <td>0.088443</td>\n",
       "      <td>0.088383</td>\n",
       "      <td>0.105112</td>\n",
       "      <td>0.108088</td>\n",
       "      <td>0.097864</td>\n",
       "      <td>0.118637</td>\n",
       "      <td>0.101049</td>\n",
       "      <td>...</td>\n",
       "      <td>0.070331</td>\n",
       "      <td>0.098578</td>\n",
       "      <td>0.078554</td>\n",
       "      <td>0.111078</td>\n",
       "      <td>0.113384</td>\n",
       "      <td>0.065145</td>\n",
       "      <td>0.054949</td>\n",
       "      <td>ON</td>\n",
       "      <td>0</td>\n",
       "      <td>1.568101</td>\n",
       "    </tr>\n",
       "    <tr>\n",
       "      <th>4</th>\n",
       "      <td>0.999277</td>\n",
       "      <td>0.966674</td>\n",
       "      <td>1.000000</td>\n",
       "      <td>0.947146</td>\n",
       "      <td>0.234203</td>\n",
       "      <td>0.886421</td>\n",
       "      <td>0.281143</td>\n",
       "      <td>0.251201</td>\n",
       "      <td>0.157087</td>\n",
       "      <td>0.222240</td>\n",
       "      <td>...</td>\n",
       "      <td>0.148310</td>\n",
       "      <td>0.246808</td>\n",
       "      <td>0.267268</td>\n",
       "      <td>0.320307</td>\n",
       "      <td>0.321483</td>\n",
       "      <td>0.281932</td>\n",
       "      <td>0.206321</td>\n",
       "      <td>ON</td>\n",
       "      <td>0</td>\n",
       "      <td>2.120277</td>\n",
       "    </tr>\n",
       "    <tr>\n",
       "      <th>...</th>\n",
       "      <td>...</td>\n",
       "      <td>...</td>\n",
       "      <td>...</td>\n",
       "      <td>...</td>\n",
       "      <td>...</td>\n",
       "      <td>...</td>\n",
       "      <td>...</td>\n",
       "      <td>...</td>\n",
       "      <td>...</td>\n",
       "      <td>...</td>\n",
       "      <td>...</td>\n",
       "      <td>...</td>\n",
       "      <td>...</td>\n",
       "      <td>...</td>\n",
       "      <td>...</td>\n",
       "      <td>...</td>\n",
       "      <td>...</td>\n",
       "      <td>...</td>\n",
       "      <td>...</td>\n",
       "      <td>...</td>\n",
       "      <td>...</td>\n",
       "    </tr>\n",
       "    <tr>\n",
       "      <th>179</th>\n",
       "      <td>0.451667</td>\n",
       "      <td>0.260361</td>\n",
       "      <td>0.374523</td>\n",
       "      <td>0.333417</td>\n",
       "      <td>0.296303</td>\n",
       "      <td>0.298341</td>\n",
       "      <td>0.353166</td>\n",
       "      <td>0.275606</td>\n",
       "      <td>0.337890</td>\n",
       "      <td>0.325894</td>\n",
       "      <td>...</td>\n",
       "      <td>0.075282</td>\n",
       "      <td>0.125328</td>\n",
       "      <td>0.123972</td>\n",
       "      <td>0.106423</td>\n",
       "      <td>0.056287</td>\n",
       "      <td>0.071927</td>\n",
       "      <td>0.138741</td>\n",
       "      <td>RME</td>\n",
       "      <td>6</td>\n",
       "      <td>2.840376</td>\n",
       "    </tr>\n",
       "    <tr>\n",
       "      <th>180</th>\n",
       "      <td>0.161421</td>\n",
       "      <td>0.122925</td>\n",
       "      <td>0.152240</td>\n",
       "      <td>0.113289</td>\n",
       "      <td>0.108943</td>\n",
       "      <td>0.120792</td>\n",
       "      <td>0.113263</td>\n",
       "      <td>0.112031</td>\n",
       "      <td>0.109941</td>\n",
       "      <td>0.129438</td>\n",
       "      <td>...</td>\n",
       "      <td>0.019681</td>\n",
       "      <td>0.037760</td>\n",
       "      <td>0.027895</td>\n",
       "      <td>0.011420</td>\n",
       "      <td>0.013922</td>\n",
       "      <td>0.007703</td>\n",
       "      <td>0.034923</td>\n",
       "      <td>SMDV</td>\n",
       "      <td>6</td>\n",
       "      <td>2.060717</td>\n",
       "    </tr>\n",
       "    <tr>\n",
       "      <th>181</th>\n",
       "      <td>0.369088</td>\n",
       "      <td>0.340746</td>\n",
       "      <td>0.314790</td>\n",
       "      <td>0.297447</td>\n",
       "      <td>0.256540</td>\n",
       "      <td>0.212337</td>\n",
       "      <td>0.201304</td>\n",
       "      <td>0.296253</td>\n",
       "      <td>0.233145</td>\n",
       "      <td>0.227632</td>\n",
       "      <td>...</td>\n",
       "      <td>0.069591</td>\n",
       "      <td>0.087507</td>\n",
       "      <td>0.083285</td>\n",
       "      <td>0.035668</td>\n",
       "      <td>0.048541</td>\n",
       "      <td>0.059006</td>\n",
       "      <td>0.046408</td>\n",
       "      <td>SMDV</td>\n",
       "      <td>6</td>\n",
       "      <td>2.658009</td>\n",
       "    </tr>\n",
       "    <tr>\n",
       "      <th>182</th>\n",
       "      <td>0.091142</td>\n",
       "      <td>0.103064</td>\n",
       "      <td>0.103241</td>\n",
       "      <td>0.086204</td>\n",
       "      <td>0.096538</td>\n",
       "      <td>0.102718</td>\n",
       "      <td>0.094449</td>\n",
       "      <td>0.066989</td>\n",
       "      <td>0.092214</td>\n",
       "      <td>0.087939</td>\n",
       "      <td>...</td>\n",
       "      <td>0.162653</td>\n",
       "      <td>0.182036</td>\n",
       "      <td>0.159335</td>\n",
       "      <td>0.197864</td>\n",
       "      <td>0.206459</td>\n",
       "      <td>0.220786</td>\n",
       "      <td>0.211384</td>\n",
       "      <td>SMDD</td>\n",
       "      <td>6</td>\n",
       "      <td>1.833412</td>\n",
       "    </tr>\n",
       "    <tr>\n",
       "      <th>183</th>\n",
       "      <td>0.092022</td>\n",
       "      <td>0.054678</td>\n",
       "      <td>0.081263</td>\n",
       "      <td>0.069906</td>\n",
       "      <td>0.075115</td>\n",
       "      <td>0.030517</td>\n",
       "      <td>0.069158</td>\n",
       "      <td>0.062356</td>\n",
       "      <td>0.059622</td>\n",
       "      <td>0.069981</td>\n",
       "      <td>...</td>\n",
       "      <td>0.133919</td>\n",
       "      <td>0.165936</td>\n",
       "      <td>0.198447</td>\n",
       "      <td>0.195714</td>\n",
       "      <td>0.236082</td>\n",
       "      <td>0.283035</td>\n",
       "      <td>0.257907</td>\n",
       "      <td>SMDD</td>\n",
       "      <td>6</td>\n",
       "      <td>2.216439</td>\n",
       "    </tr>\n",
       "  </tbody>\n",
       "</table>\n",
       "<p>184 rows × 1603 columns</p>\n",
       "</div>"
      ],
      "text/plain": [
       "            0         1         2         3         4         5         6  \\\n",
       "0    0.111328  0.113690  0.104047  0.097544  0.128698  0.096889  0.113149   \n",
       "1    0.111844  0.125500  0.085508  0.112997  0.101238  0.122276  0.166369   \n",
       "2    0.192604  0.220196  0.185329  0.198972  0.199652  0.214086  0.204000   \n",
       "3    0.123674  0.123468  0.094402  0.088443  0.088383  0.105112  0.108088   \n",
       "4    0.999277  0.966674  1.000000  0.947146  0.234203  0.886421  0.281143   \n",
       "..        ...       ...       ...       ...       ...       ...       ...   \n",
       "179  0.451667  0.260361  0.374523  0.333417  0.296303  0.298341  0.353166   \n",
       "180  0.161421  0.122925  0.152240  0.113289  0.108943  0.120792  0.113263   \n",
       "181  0.369088  0.340746  0.314790  0.297447  0.256540  0.212337  0.201304   \n",
       "182  0.091142  0.103064  0.103241  0.086204  0.096538  0.102718  0.094449   \n",
       "183  0.092022  0.054678  0.081263  0.069906  0.075115  0.030517  0.069158   \n",
       "\n",
       "            7         8         9  ...      1593      1594      1595  \\\n",
       "0    0.091761  0.110592  0.098088  ...  0.087761  0.072876  0.105107   \n",
       "1    0.147508  0.098558  0.156589  ...  0.147703  0.164014  0.274072   \n",
       "2    0.212617  0.200606  0.209405  ...  0.125827  0.116286  0.147985   \n",
       "3    0.097864  0.118637  0.101049  ...  0.070331  0.098578  0.078554   \n",
       "4    0.251201  0.157087  0.222240  ...  0.148310  0.246808  0.267268   \n",
       "..        ...       ...       ...  ...       ...       ...       ...   \n",
       "179  0.275606  0.337890  0.325894  ...  0.075282  0.125328  0.123972   \n",
       "180  0.112031  0.109941  0.129438  ...  0.019681  0.037760  0.027895   \n",
       "181  0.296253  0.233145  0.227632  ...  0.069591  0.087507  0.083285   \n",
       "182  0.066989  0.092214  0.087939  ...  0.162653  0.182036  0.159335   \n",
       "183  0.062356  0.059622  0.069981  ...  0.133919  0.165936  0.198447   \n",
       "\n",
       "         1596      1597      1598      1599  cell_type  worm_id   entropy  \n",
       "0    0.077777  0.120296  0.086403  0.073250         ON        0  1.533611  \n",
       "1    0.282609  0.370823  0.395895  0.326826         ON        0  1.574685  \n",
       "2    0.199686  0.212018  0.182312  0.149742         ON        0  1.724822  \n",
       "3    0.111078  0.113384  0.065145  0.054949         ON        0  1.568101  \n",
       "4    0.320307  0.321483  0.281932  0.206321         ON        0  2.120277  \n",
       "..        ...       ...       ...       ...        ...      ...       ...  \n",
       "179  0.106423  0.056287  0.071927  0.138741        RME        6  2.840376  \n",
       "180  0.011420  0.013922  0.007703  0.034923       SMDV        6  2.060717  \n",
       "181  0.035668  0.048541  0.059006  0.046408       SMDV        6  2.658009  \n",
       "182  0.197864  0.206459  0.220786  0.211384       SMDD        6  1.833412  \n",
       "183  0.195714  0.236082  0.283035  0.257907       SMDD        6  2.216439  \n",
       "\n",
       "[184 rows x 1603 columns]"
      ]
     },
     "execution_count": 66,
     "metadata": {},
     "output_type": "execute_result"
    }
   ],
   "source": [
    "all_ws_clustered"
   ]
  },
  {
   "cell_type": "code",
   "execution_count": 75,
   "id": "8973325b",
   "metadata": {},
   "outputs": [],
   "source": [
    "%store -r w1_sorted_new "
   ]
  },
  {
   "cell_type": "code",
   "execution_count": 81,
   "id": "4f32651b",
   "metadata": {},
   "outputs": [
    {
     "data": {
      "text/html": [
       "<div>\n",
       "<style scoped>\n",
       "    .dataframe tbody tr th:only-of-type {\n",
       "        vertical-align: middle;\n",
       "    }\n",
       "\n",
       "    .dataframe tbody tr th {\n",
       "        vertical-align: top;\n",
       "    }\n",
       "\n",
       "    .dataframe thead th {\n",
       "        text-align: right;\n",
       "    }\n",
       "</style>\n",
       "<table border=\"1\" class=\"dataframe\">\n",
       "  <thead>\n",
       "    <tr style=\"text-align: right;\">\n",
       "      <th></th>\n",
       "      <th>0</th>\n",
       "      <th>1</th>\n",
       "      <th>2</th>\n",
       "      <th>3</th>\n",
       "      <th>4</th>\n",
       "      <th>5</th>\n",
       "      <th>6</th>\n",
       "      <th>7</th>\n",
       "      <th>8</th>\n",
       "      <th>9</th>\n",
       "      <th>...</th>\n",
       "      <th>1591</th>\n",
       "      <th>1592</th>\n",
       "      <th>1593</th>\n",
       "      <th>1594</th>\n",
       "      <th>1595</th>\n",
       "      <th>1596</th>\n",
       "      <th>1597</th>\n",
       "      <th>1598</th>\n",
       "      <th>1599</th>\n",
       "      <th>cell_type</th>\n",
       "    </tr>\n",
       "  </thead>\n",
       "  <tbody>\n",
       "    <tr>\n",
       "      <th>137</th>\n",
       "      <td>1.000000</td>\n",
       "      <td>0.860864</td>\n",
       "      <td>0.710613</td>\n",
       "      <td>0.847181</td>\n",
       "      <td>0.691585</td>\n",
       "      <td>0.950200</td>\n",
       "      <td>0.699065</td>\n",
       "      <td>0.683294</td>\n",
       "      <td>0.680645</td>\n",
       "      <td>0.718340</td>\n",
       "      <td>...</td>\n",
       "      <td>0.071723</td>\n",
       "      <td>0.124312</td>\n",
       "      <td>0.139668</td>\n",
       "      <td>0.058358</td>\n",
       "      <td>0.067660</td>\n",
       "      <td>0.040595</td>\n",
       "      <td>0.085299</td>\n",
       "      <td>0.057844</td>\n",
       "      <td>0.041449</td>\n",
       "      <td>NaN</td>\n",
       "    </tr>\n",
       "    <tr>\n",
       "      <th>139</th>\n",
       "      <td>0.886839</td>\n",
       "      <td>1.000000</td>\n",
       "      <td>0.898997</td>\n",
       "      <td>0.842642</td>\n",
       "      <td>0.799843</td>\n",
       "      <td>0.818601</td>\n",
       "      <td>0.837415</td>\n",
       "      <td>0.852753</td>\n",
       "      <td>0.724008</td>\n",
       "      <td>0.767828</td>\n",
       "      <td>...</td>\n",
       "      <td>0.048687</td>\n",
       "      <td>0.073209</td>\n",
       "      <td>0.065058</td>\n",
       "      <td>0.023403</td>\n",
       "      <td>0.015623</td>\n",
       "      <td>0.018776</td>\n",
       "      <td>0.076702</td>\n",
       "      <td>0.043279</td>\n",
       "      <td>0.040270</td>\n",
       "      <td>NaN</td>\n",
       "    </tr>\n",
       "    <tr>\n",
       "      <th>140</th>\n",
       "      <td>0.000000</td>\n",
       "      <td>0.000000</td>\n",
       "      <td>0.000000</td>\n",
       "      <td>0.000000</td>\n",
       "      <td>0.013344</td>\n",
       "      <td>0.001383</td>\n",
       "      <td>0.001551</td>\n",
       "      <td>0.000000</td>\n",
       "      <td>0.003912</td>\n",
       "      <td>0.000000</td>\n",
       "      <td>...</td>\n",
       "      <td>0.058342</td>\n",
       "      <td>0.052130</td>\n",
       "      <td>0.070847</td>\n",
       "      <td>0.023976</td>\n",
       "      <td>0.062439</td>\n",
       "      <td>0.069148</td>\n",
       "      <td>0.081595</td>\n",
       "      <td>0.067708</td>\n",
       "      <td>0.042514</td>\n",
       "      <td>NaN</td>\n",
       "    </tr>\n",
       "    <tr>\n",
       "      <th>144</th>\n",
       "      <td>0.000000</td>\n",
       "      <td>0.041467</td>\n",
       "      <td>0.037232</td>\n",
       "      <td>0.009276</td>\n",
       "      <td>0.027376</td>\n",
       "      <td>0.018430</td>\n",
       "      <td>0.041468</td>\n",
       "      <td>0.042286</td>\n",
       "      <td>0.019679</td>\n",
       "      <td>0.045798</td>\n",
       "      <td>...</td>\n",
       "      <td>0.000000</td>\n",
       "      <td>0.000000</td>\n",
       "      <td>0.000000</td>\n",
       "      <td>0.000000</td>\n",
       "      <td>0.000000</td>\n",
       "      <td>0.000000</td>\n",
       "      <td>0.009189</td>\n",
       "      <td>0.000000</td>\n",
       "      <td>0.000000</td>\n",
       "      <td>NaN</td>\n",
       "    </tr>\n",
       "    <tr>\n",
       "      <th>146</th>\n",
       "      <td>0.534857</td>\n",
       "      <td>0.613685</td>\n",
       "      <td>0.650786</td>\n",
       "      <td>0.717705</td>\n",
       "      <td>0.658136</td>\n",
       "      <td>0.697347</td>\n",
       "      <td>0.718551</td>\n",
       "      <td>0.697871</td>\n",
       "      <td>0.707814</td>\n",
       "      <td>0.763715</td>\n",
       "      <td>...</td>\n",
       "      <td>0.133505</td>\n",
       "      <td>0.134620</td>\n",
       "      <td>0.092800</td>\n",
       "      <td>0.097731</td>\n",
       "      <td>0.152949</td>\n",
       "      <td>0.123994</td>\n",
       "      <td>0.141810</td>\n",
       "      <td>0.150867</td>\n",
       "      <td>0.090372</td>\n",
       "      <td>NaN</td>\n",
       "    </tr>\n",
       "  </tbody>\n",
       "</table>\n",
       "<p>5 rows × 1601 columns</p>\n",
       "</div>"
      ],
      "text/plain": [
       "            0         1         2         3         4         5         6  \\\n",
       "137  1.000000  0.860864  0.710613  0.847181  0.691585  0.950200  0.699065   \n",
       "139  0.886839  1.000000  0.898997  0.842642  0.799843  0.818601  0.837415   \n",
       "140  0.000000  0.000000  0.000000  0.000000  0.013344  0.001383  0.001551   \n",
       "144  0.000000  0.041467  0.037232  0.009276  0.027376  0.018430  0.041468   \n",
       "146  0.534857  0.613685  0.650786  0.717705  0.658136  0.697347  0.718551   \n",
       "\n",
       "            7         8         9  ...      1591      1592      1593  \\\n",
       "137  0.683294  0.680645  0.718340  ...  0.071723  0.124312  0.139668   \n",
       "139  0.852753  0.724008  0.767828  ...  0.048687  0.073209  0.065058   \n",
       "140  0.000000  0.003912  0.000000  ...  0.058342  0.052130  0.070847   \n",
       "144  0.042286  0.019679  0.045798  ...  0.000000  0.000000  0.000000   \n",
       "146  0.697871  0.707814  0.763715  ...  0.133505  0.134620  0.092800   \n",
       "\n",
       "         1594      1595      1596      1597      1598      1599  cell_type  \n",
       "137  0.058358  0.067660  0.040595  0.085299  0.057844  0.041449        NaN  \n",
       "139  0.023403  0.015623  0.018776  0.076702  0.043279  0.040270        NaN  \n",
       "140  0.023976  0.062439  0.069148  0.081595  0.067708  0.042514        NaN  \n",
       "144  0.000000  0.000000  0.000000  0.009189  0.000000  0.000000        NaN  \n",
       "146  0.097731  0.152949  0.123994  0.141810  0.150867  0.090372        NaN  \n",
       "\n",
       "[5 rows x 1601 columns]"
      ]
     },
     "execution_count": 81,
     "metadata": {},
     "output_type": "execute_result"
    }
   ],
   "source": [
    "w1_sorted_new.head()"
   ]
  },
  {
   "cell_type": "code",
   "execution_count": 77,
   "id": "0c9124c9",
   "metadata": {},
   "outputs": [],
   "source": [
    "%store -r w_1_radii "
   ]
  },
  {
   "cell_type": "code",
   "execution_count": 78,
   "id": "9c3a4fc2",
   "metadata": {},
   "outputs": [
    {
     "data": {
      "text/plain": [
       "(135,)"
      ]
     },
     "execution_count": 78,
     "metadata": {},
     "output_type": "execute_result"
    }
   ],
   "source": [
    "w_1_radii.shape"
   ]
  },
  {
   "cell_type": "code",
   "execution_count": 74,
   "id": "dd24f26c",
   "metadata": {},
   "outputs": [
    {
     "ename": "ValueError",
     "evalue": "Length of values (133) does not match length of index (132)",
     "output_type": "error",
     "traceback": [
      "\u001b[0;31m---------------------------------------------------------------------------\u001b[0m",
      "\u001b[0;31mValueError\u001b[0m                                Traceback (most recent call last)",
      "Cell \u001b[0;32mIn[74], line 1\u001b[0m\n\u001b[0;32m----> 1\u001b[0m \u001b[43mw0_sorted_new\u001b[49m\u001b[43m[\u001b[49m\u001b[38;5;124;43m'\u001b[39;49m\u001b[38;5;124;43mradii\u001b[39;49m\u001b[38;5;124;43m'\u001b[39;49m\u001b[43m]\u001b[49m \u001b[38;5;241m=\u001b[39m w_0_radii\n",
      "File \u001b[0;32m~/miniconda3/envs/HMDS/lib/python3.10/site-packages/pandas/core/frame.py:4311\u001b[0m, in \u001b[0;36mDataFrame.__setitem__\u001b[0;34m(self, key, value)\u001b[0m\n\u001b[1;32m   4308\u001b[0m     \u001b[38;5;28mself\u001b[39m\u001b[38;5;241m.\u001b[39m_setitem_array([key], value)\n\u001b[1;32m   4309\u001b[0m \u001b[38;5;28;01melse\u001b[39;00m:\n\u001b[1;32m   4310\u001b[0m     \u001b[38;5;66;03m# set column\u001b[39;00m\n\u001b[0;32m-> 4311\u001b[0m     \u001b[38;5;28;43mself\u001b[39;49m\u001b[38;5;241;43m.\u001b[39;49m\u001b[43m_set_item\u001b[49m\u001b[43m(\u001b[49m\u001b[43mkey\u001b[49m\u001b[43m,\u001b[49m\u001b[43m \u001b[49m\u001b[43mvalue\u001b[49m\u001b[43m)\u001b[49m\n",
      "File \u001b[0;32m~/miniconda3/envs/HMDS/lib/python3.10/site-packages/pandas/core/frame.py:4524\u001b[0m, in \u001b[0;36mDataFrame._set_item\u001b[0;34m(self, key, value)\u001b[0m\n\u001b[1;32m   4514\u001b[0m \u001b[38;5;28;01mdef\u001b[39;00m \u001b[38;5;21m_set_item\u001b[39m(\u001b[38;5;28mself\u001b[39m, key, value) \u001b[38;5;241m-\u001b[39m\u001b[38;5;241m>\u001b[39m \u001b[38;5;28;01mNone\u001b[39;00m:\n\u001b[1;32m   4515\u001b[0m \u001b[38;5;250m    \u001b[39m\u001b[38;5;124;03m\"\"\"\u001b[39;00m\n\u001b[1;32m   4516\u001b[0m \u001b[38;5;124;03m    Add series to DataFrame in specified column.\u001b[39;00m\n\u001b[1;32m   4517\u001b[0m \n\u001b[0;32m   (...)\u001b[0m\n\u001b[1;32m   4522\u001b[0m \u001b[38;5;124;03m    ensure homogeneity.\u001b[39;00m\n\u001b[1;32m   4523\u001b[0m \u001b[38;5;124;03m    \"\"\"\u001b[39;00m\n\u001b[0;32m-> 4524\u001b[0m     value, refs \u001b[38;5;241m=\u001b[39m \u001b[38;5;28;43mself\u001b[39;49m\u001b[38;5;241;43m.\u001b[39;49m\u001b[43m_sanitize_column\u001b[49m\u001b[43m(\u001b[49m\u001b[43mvalue\u001b[49m\u001b[43m)\u001b[49m\n\u001b[1;32m   4526\u001b[0m     \u001b[38;5;28;01mif\u001b[39;00m (\n\u001b[1;32m   4527\u001b[0m         key \u001b[38;5;129;01min\u001b[39;00m \u001b[38;5;28mself\u001b[39m\u001b[38;5;241m.\u001b[39mcolumns\n\u001b[1;32m   4528\u001b[0m         \u001b[38;5;129;01mand\u001b[39;00m value\u001b[38;5;241m.\u001b[39mndim \u001b[38;5;241m==\u001b[39m \u001b[38;5;241m1\u001b[39m\n\u001b[1;32m   4529\u001b[0m         \u001b[38;5;129;01mand\u001b[39;00m \u001b[38;5;129;01mnot\u001b[39;00m \u001b[38;5;28misinstance\u001b[39m(value\u001b[38;5;241m.\u001b[39mdtype, ExtensionDtype)\n\u001b[1;32m   4530\u001b[0m     ):\n\u001b[1;32m   4531\u001b[0m         \u001b[38;5;66;03m# broadcast across multiple columns if necessary\u001b[39;00m\n\u001b[1;32m   4532\u001b[0m         \u001b[38;5;28;01mif\u001b[39;00m \u001b[38;5;129;01mnot\u001b[39;00m \u001b[38;5;28mself\u001b[39m\u001b[38;5;241m.\u001b[39mcolumns\u001b[38;5;241m.\u001b[39mis_unique \u001b[38;5;129;01mor\u001b[39;00m \u001b[38;5;28misinstance\u001b[39m(\u001b[38;5;28mself\u001b[39m\u001b[38;5;241m.\u001b[39mcolumns, MultiIndex):\n",
      "File \u001b[0;32m~/miniconda3/envs/HMDS/lib/python3.10/site-packages/pandas/core/frame.py:5266\u001b[0m, in \u001b[0;36mDataFrame._sanitize_column\u001b[0;34m(self, value)\u001b[0m\n\u001b[1;32m   5263\u001b[0m     \u001b[38;5;28;01mreturn\u001b[39;00m _reindex_for_setitem(value, \u001b[38;5;28mself\u001b[39m\u001b[38;5;241m.\u001b[39mindex)\n\u001b[1;32m   5265\u001b[0m \u001b[38;5;28;01mif\u001b[39;00m is_list_like(value):\n\u001b[0;32m-> 5266\u001b[0m     \u001b[43mcom\u001b[49m\u001b[38;5;241;43m.\u001b[39;49m\u001b[43mrequire_length_match\u001b[49m\u001b[43m(\u001b[49m\u001b[43mvalue\u001b[49m\u001b[43m,\u001b[49m\u001b[43m \u001b[49m\u001b[38;5;28;43mself\u001b[39;49m\u001b[38;5;241;43m.\u001b[39;49m\u001b[43mindex\u001b[49m\u001b[43m)\u001b[49m\n\u001b[1;32m   5267\u001b[0m arr \u001b[38;5;241m=\u001b[39m sanitize_array(value, \u001b[38;5;28mself\u001b[39m\u001b[38;5;241m.\u001b[39mindex, copy\u001b[38;5;241m=\u001b[39m\u001b[38;5;28;01mTrue\u001b[39;00m, allow_2d\u001b[38;5;241m=\u001b[39m\u001b[38;5;28;01mTrue\u001b[39;00m)\n\u001b[1;32m   5268\u001b[0m \u001b[38;5;28;01mif\u001b[39;00m (\n\u001b[1;32m   5269\u001b[0m     \u001b[38;5;28misinstance\u001b[39m(value, Index)\n\u001b[1;32m   5270\u001b[0m     \u001b[38;5;129;01mand\u001b[39;00m value\u001b[38;5;241m.\u001b[39mdtype \u001b[38;5;241m==\u001b[39m \u001b[38;5;124m\"\u001b[39m\u001b[38;5;124mobject\u001b[39m\u001b[38;5;124m\"\u001b[39m\n\u001b[0;32m   (...)\u001b[0m\n\u001b[1;32m   5273\u001b[0m     \u001b[38;5;66;03m# TODO: Remove kludge in sanitize_array for string mode when enforcing\u001b[39;00m\n\u001b[1;32m   5274\u001b[0m     \u001b[38;5;66;03m# this deprecation\u001b[39;00m\n",
      "File \u001b[0;32m~/miniconda3/envs/HMDS/lib/python3.10/site-packages/pandas/core/common.py:573\u001b[0m, in \u001b[0;36mrequire_length_match\u001b[0;34m(data, index)\u001b[0m\n\u001b[1;32m    569\u001b[0m \u001b[38;5;250m\u001b[39m\u001b[38;5;124;03m\"\"\"\u001b[39;00m\n\u001b[1;32m    570\u001b[0m \u001b[38;5;124;03mCheck the length of data matches the length of the index.\u001b[39;00m\n\u001b[1;32m    571\u001b[0m \u001b[38;5;124;03m\"\"\"\u001b[39;00m\n\u001b[1;32m    572\u001b[0m \u001b[38;5;28;01mif\u001b[39;00m \u001b[38;5;28mlen\u001b[39m(data) \u001b[38;5;241m!=\u001b[39m \u001b[38;5;28mlen\u001b[39m(index):\n\u001b[0;32m--> 573\u001b[0m     \u001b[38;5;28;01mraise\u001b[39;00m \u001b[38;5;167;01mValueError\u001b[39;00m(\n\u001b[1;32m    574\u001b[0m         \u001b[38;5;124m\"\u001b[39m\u001b[38;5;124mLength of values \u001b[39m\u001b[38;5;124m\"\u001b[39m\n\u001b[1;32m    575\u001b[0m         \u001b[38;5;124mf\u001b[39m\u001b[38;5;124m\"\u001b[39m\u001b[38;5;124m(\u001b[39m\u001b[38;5;132;01m{\u001b[39;00m\u001b[38;5;28mlen\u001b[39m(data)\u001b[38;5;132;01m}\u001b[39;00m\u001b[38;5;124m) \u001b[39m\u001b[38;5;124m\"\u001b[39m\n\u001b[1;32m    576\u001b[0m         \u001b[38;5;124m\"\u001b[39m\u001b[38;5;124mdoes not match length of index \u001b[39m\u001b[38;5;124m\"\u001b[39m\n\u001b[1;32m    577\u001b[0m         \u001b[38;5;124mf\u001b[39m\u001b[38;5;124m\"\u001b[39m\u001b[38;5;124m(\u001b[39m\u001b[38;5;132;01m{\u001b[39;00m\u001b[38;5;28mlen\u001b[39m(index)\u001b[38;5;132;01m}\u001b[39;00m\u001b[38;5;124m)\u001b[39m\u001b[38;5;124m\"\u001b[39m\n\u001b[1;32m    578\u001b[0m     )\n",
      "\u001b[0;31mValueError\u001b[0m: Length of values (133) does not match length of index (132)"
     ]
    }
   ],
   "source": [
    "w0_sorted_new['radii'] = w_0_radii"
   ]
  },
  {
   "cell_type": "code",
   "execution_count": 13,
   "id": "963960d0",
   "metadata": {},
   "outputs": [],
   "source": [
    "corr_matrix = w_0_df.T.corr()\n"
   ]
  },
  {
   "cell_type": "code",
   "execution_count": 14,
   "id": "028ea7c8",
   "metadata": {},
   "outputs": [],
   "source": [
    "distance_matrix = 1 - corr_matrix\n",
    "distance_matrix_squaredp = (1 - corr_matrix**2) * 2"
   ]
  },
  {
   "cell_type": "code",
   "execution_count": 15,
   "id": "775084ae",
   "metadata": {},
   "outputs": [
    {
     "data": {
      "text/plain": [
       "(29, 29)"
      ]
     },
     "execution_count": 15,
     "metadata": {},
     "output_type": "execute_result"
    }
   ],
   "source": [
    "distance_matrix_squaredp.shape"
   ]
  },
  {
   "cell_type": "markdown",
   "id": "1a6d4ca9",
   "metadata": {},
   "source": [
    "# special sorted worm"
   ]
  },
  {
   "cell_type": "code",
   "execution_count": 5,
   "id": "59b4ff60",
   "metadata": {},
   "outputs": [],
   "source": [
    "%store -r w0_sorted_new\n",
    "%store -r w1_sorted_new\n",
    "%store -r w2_sorted_new\n",
    "%store -r w3_sorted_new\n",
    "%store -r w4_sorted_new\n",
    "%store -r w5_sorted_new\n",
    "%store -r w6_sorted_new\n"
   ]
  },
  {
   "cell_type": "code",
   "execution_count": 6,
   "id": "ed9260df",
   "metadata": {},
   "outputs": [
    {
     "data": {
      "text/html": [
       "<div>\n",
       "<style scoped>\n",
       "    .dataframe tbody tr th:only-of-type {\n",
       "        vertical-align: middle;\n",
       "    }\n",
       "\n",
       "    .dataframe tbody tr th {\n",
       "        vertical-align: top;\n",
       "    }\n",
       "\n",
       "    .dataframe thead th {\n",
       "        text-align: right;\n",
       "    }\n",
       "</style>\n",
       "<table border=\"1\" class=\"dataframe\">\n",
       "  <thead>\n",
       "    <tr style=\"text-align: right;\">\n",
       "      <th></th>\n",
       "      <th>0</th>\n",
       "      <th>1</th>\n",
       "      <th>2</th>\n",
       "      <th>3</th>\n",
       "      <th>4</th>\n",
       "      <th>5</th>\n",
       "      <th>6</th>\n",
       "      <th>7</th>\n",
       "      <th>8</th>\n",
       "      <th>9</th>\n",
       "      <th>...</th>\n",
       "      <th>1591</th>\n",
       "      <th>1592</th>\n",
       "      <th>1593</th>\n",
       "      <th>1594</th>\n",
       "      <th>1595</th>\n",
       "      <th>1596</th>\n",
       "      <th>1597</th>\n",
       "      <th>1598</th>\n",
       "      <th>1599</th>\n",
       "      <th>cell_type</th>\n",
       "    </tr>\n",
       "  </thead>\n",
       "  <tbody>\n",
       "    <tr>\n",
       "      <th>0</th>\n",
       "      <td>0.000000</td>\n",
       "      <td>0.000000</td>\n",
       "      <td>0.000000</td>\n",
       "      <td>0.000000</td>\n",
       "      <td>0.000000</td>\n",
       "      <td>0.000000</td>\n",
       "      <td>0.000000</td>\n",
       "      <td>0.000000</td>\n",
       "      <td>0.000000</td>\n",
       "      <td>0.000000</td>\n",
       "      <td>...</td>\n",
       "      <td>0.010324</td>\n",
       "      <td>0.010237</td>\n",
       "      <td>0.013933</td>\n",
       "      <td>0.005688</td>\n",
       "      <td>0.014389</td>\n",
       "      <td>0.012715</td>\n",
       "      <td>0.012774</td>\n",
       "      <td>0.006379</td>\n",
       "      <td>0.011325</td>\n",
       "      <td>NaN</td>\n",
       "    </tr>\n",
       "    <tr>\n",
       "      <th>3</th>\n",
       "      <td>0.000000</td>\n",
       "      <td>0.000000</td>\n",
       "      <td>0.000000</td>\n",
       "      <td>0.000000</td>\n",
       "      <td>0.000000</td>\n",
       "      <td>0.000000</td>\n",
       "      <td>0.000000</td>\n",
       "      <td>0.000000</td>\n",
       "      <td>0.000000</td>\n",
       "      <td>0.000000</td>\n",
       "      <td>...</td>\n",
       "      <td>0.016547</td>\n",
       "      <td>0.022308</td>\n",
       "      <td>0.021005</td>\n",
       "      <td>0.025381</td>\n",
       "      <td>0.005841</td>\n",
       "      <td>0.004750</td>\n",
       "      <td>0.016866</td>\n",
       "      <td>0.017452</td>\n",
       "      <td>0.028150</td>\n",
       "      <td>NaN</td>\n",
       "    </tr>\n",
       "    <tr>\n",
       "      <th>4</th>\n",
       "      <td>0.006261</td>\n",
       "      <td>0.006576</td>\n",
       "      <td>0.010239</td>\n",
       "      <td>0.005997</td>\n",
       "      <td>0.007404</td>\n",
       "      <td>0.024813</td>\n",
       "      <td>0.017438</td>\n",
       "      <td>0.033881</td>\n",
       "      <td>0.013081</td>\n",
       "      <td>0.004452</td>\n",
       "      <td>...</td>\n",
       "      <td>0.360048</td>\n",
       "      <td>0.367689</td>\n",
       "      <td>0.421811</td>\n",
       "      <td>0.411161</td>\n",
       "      <td>0.503685</td>\n",
       "      <td>0.509207</td>\n",
       "      <td>0.513564</td>\n",
       "      <td>0.600296</td>\n",
       "      <td>0.730846</td>\n",
       "      <td>NaN</td>\n",
       "    </tr>\n",
       "    <tr>\n",
       "      <th>5</th>\n",
       "      <td>0.000000</td>\n",
       "      <td>0.000000</td>\n",
       "      <td>0.000000</td>\n",
       "      <td>0.000000</td>\n",
       "      <td>0.000000</td>\n",
       "      <td>0.000000</td>\n",
       "      <td>0.000000</td>\n",
       "      <td>0.000000</td>\n",
       "      <td>0.000000</td>\n",
       "      <td>0.000000</td>\n",
       "      <td>...</td>\n",
       "      <td>0.087835</td>\n",
       "      <td>0.109091</td>\n",
       "      <td>0.091580</td>\n",
       "      <td>0.073719</td>\n",
       "      <td>0.082665</td>\n",
       "      <td>0.075597</td>\n",
       "      <td>0.073550</td>\n",
       "      <td>0.089175</td>\n",
       "      <td>0.065639</td>\n",
       "      <td>NaN</td>\n",
       "    </tr>\n",
       "    <tr>\n",
       "      <th>6</th>\n",
       "      <td>0.000000</td>\n",
       "      <td>0.000000</td>\n",
       "      <td>0.000000</td>\n",
       "      <td>0.000000</td>\n",
       "      <td>0.000000</td>\n",
       "      <td>0.000000</td>\n",
       "      <td>0.000000</td>\n",
       "      <td>0.000000</td>\n",
       "      <td>0.000000</td>\n",
       "      <td>0.000000</td>\n",
       "      <td>...</td>\n",
       "      <td>0.021678</td>\n",
       "      <td>0.019692</td>\n",
       "      <td>0.020166</td>\n",
       "      <td>0.010673</td>\n",
       "      <td>0.019417</td>\n",
       "      <td>0.040118</td>\n",
       "      <td>0.017528</td>\n",
       "      <td>0.027566</td>\n",
       "      <td>0.042480</td>\n",
       "      <td>NaN</td>\n",
       "    </tr>\n",
       "    <tr>\n",
       "      <th>...</th>\n",
       "      <td>...</td>\n",
       "      <td>...</td>\n",
       "      <td>...</td>\n",
       "      <td>...</td>\n",
       "      <td>...</td>\n",
       "      <td>...</td>\n",
       "      <td>...</td>\n",
       "      <td>...</td>\n",
       "      <td>...</td>\n",
       "      <td>...</td>\n",
       "      <td>...</td>\n",
       "      <td>...</td>\n",
       "      <td>...</td>\n",
       "      <td>...</td>\n",
       "      <td>...</td>\n",
       "      <td>...</td>\n",
       "      <td>...</td>\n",
       "      <td>...</td>\n",
       "      <td>...</td>\n",
       "      <td>...</td>\n",
       "      <td>...</td>\n",
       "    </tr>\n",
       "    <tr>\n",
       "      <th>24</th>\n",
       "      <td>0.103152</td>\n",
       "      <td>0.097947</td>\n",
       "      <td>0.116510</td>\n",
       "      <td>0.079075</td>\n",
       "      <td>0.089215</td>\n",
       "      <td>0.086892</td>\n",
       "      <td>0.077508</td>\n",
       "      <td>0.078101</td>\n",
       "      <td>0.080784</td>\n",
       "      <td>0.099688</td>\n",
       "      <td>...</td>\n",
       "      <td>0.048487</td>\n",
       "      <td>0.041902</td>\n",
       "      <td>0.070060</td>\n",
       "      <td>0.089901</td>\n",
       "      <td>0.044056</td>\n",
       "      <td>0.059849</td>\n",
       "      <td>0.040118</td>\n",
       "      <td>0.041695</td>\n",
       "      <td>0.085804</td>\n",
       "      <td>RME</td>\n",
       "    </tr>\n",
       "    <tr>\n",
       "      <th>25</th>\n",
       "      <td>0.085950</td>\n",
       "      <td>0.113430</td>\n",
       "      <td>0.125605</td>\n",
       "      <td>0.117232</td>\n",
       "      <td>0.105516</td>\n",
       "      <td>0.113757</td>\n",
       "      <td>0.131102</td>\n",
       "      <td>0.125633</td>\n",
       "      <td>0.105564</td>\n",
       "      <td>0.093432</td>\n",
       "      <td>...</td>\n",
       "      <td>0.078178</td>\n",
       "      <td>0.069748</td>\n",
       "      <td>0.056653</td>\n",
       "      <td>0.052905</td>\n",
       "      <td>0.046551</td>\n",
       "      <td>0.023715</td>\n",
       "      <td>0.048978</td>\n",
       "      <td>0.052017</td>\n",
       "      <td>0.060663</td>\n",
       "      <td>RME</td>\n",
       "    </tr>\n",
       "    <tr>\n",
       "      <th>26</th>\n",
       "      <td>0.024950</td>\n",
       "      <td>0.050220</td>\n",
       "      <td>0.033014</td>\n",
       "      <td>0.005006</td>\n",
       "      <td>0.000000</td>\n",
       "      <td>0.000000</td>\n",
       "      <td>0.000000</td>\n",
       "      <td>0.000263</td>\n",
       "      <td>0.000000</td>\n",
       "      <td>0.000000</td>\n",
       "      <td>...</td>\n",
       "      <td>0.139019</td>\n",
       "      <td>0.136998</td>\n",
       "      <td>0.139518</td>\n",
       "      <td>0.091726</td>\n",
       "      <td>0.097137</td>\n",
       "      <td>0.072485</td>\n",
       "      <td>0.085110</td>\n",
       "      <td>0.069823</td>\n",
       "      <td>0.068418</td>\n",
       "      <td>SMDV</td>\n",
       "    </tr>\n",
       "    <tr>\n",
       "      <th>27</th>\n",
       "      <td>0.086319</td>\n",
       "      <td>0.000000</td>\n",
       "      <td>0.000000</td>\n",
       "      <td>0.000000</td>\n",
       "      <td>0.000000</td>\n",
       "      <td>0.000000</td>\n",
       "      <td>0.000000</td>\n",
       "      <td>0.000000</td>\n",
       "      <td>0.000000</td>\n",
       "      <td>0.036027</td>\n",
       "      <td>...</td>\n",
       "      <td>0.142133</td>\n",
       "      <td>0.096184</td>\n",
       "      <td>0.098240</td>\n",
       "      <td>0.094094</td>\n",
       "      <td>0.052114</td>\n",
       "      <td>0.084556</td>\n",
       "      <td>0.088716</td>\n",
       "      <td>0.043587</td>\n",
       "      <td>0.079113</td>\n",
       "      <td>SMDV</td>\n",
       "    </tr>\n",
       "    <tr>\n",
       "      <th>28</th>\n",
       "      <td>0.453060</td>\n",
       "      <td>0.434332</td>\n",
       "      <td>0.497556</td>\n",
       "      <td>0.577081</td>\n",
       "      <td>0.581910</td>\n",
       "      <td>0.525287</td>\n",
       "      <td>0.528457</td>\n",
       "      <td>0.429149</td>\n",
       "      <td>0.395782</td>\n",
       "      <td>0.369393</td>\n",
       "      <td>...</td>\n",
       "      <td>0.088998</td>\n",
       "      <td>0.134701</td>\n",
       "      <td>0.209019</td>\n",
       "      <td>0.300678</td>\n",
       "      <td>0.391215</td>\n",
       "      <td>0.381700</td>\n",
       "      <td>0.497494</td>\n",
       "      <td>0.505217</td>\n",
       "      <td>0.646212</td>\n",
       "      <td>SMDD</td>\n",
       "    </tr>\n",
       "  </tbody>\n",
       "</table>\n",
       "<p>132 rows × 1601 columns</p>\n",
       "</div>"
      ],
      "text/plain": [
       "           0         1         2         3         4         5         6  \\\n",
       "0   0.000000  0.000000  0.000000  0.000000  0.000000  0.000000  0.000000   \n",
       "3   0.000000  0.000000  0.000000  0.000000  0.000000  0.000000  0.000000   \n",
       "4   0.006261  0.006576  0.010239  0.005997  0.007404  0.024813  0.017438   \n",
       "5   0.000000  0.000000  0.000000  0.000000  0.000000  0.000000  0.000000   \n",
       "6   0.000000  0.000000  0.000000  0.000000  0.000000  0.000000  0.000000   \n",
       "..       ...       ...       ...       ...       ...       ...       ...   \n",
       "24  0.103152  0.097947  0.116510  0.079075  0.089215  0.086892  0.077508   \n",
       "25  0.085950  0.113430  0.125605  0.117232  0.105516  0.113757  0.131102   \n",
       "26  0.024950  0.050220  0.033014  0.005006  0.000000  0.000000  0.000000   \n",
       "27  0.086319  0.000000  0.000000  0.000000  0.000000  0.000000  0.000000   \n",
       "28  0.453060  0.434332  0.497556  0.577081  0.581910  0.525287  0.528457   \n",
       "\n",
       "           7         8         9  ...      1591      1592      1593      1594  \\\n",
       "0   0.000000  0.000000  0.000000  ...  0.010324  0.010237  0.013933  0.005688   \n",
       "3   0.000000  0.000000  0.000000  ...  0.016547  0.022308  0.021005  0.025381   \n",
       "4   0.033881  0.013081  0.004452  ...  0.360048  0.367689  0.421811  0.411161   \n",
       "5   0.000000  0.000000  0.000000  ...  0.087835  0.109091  0.091580  0.073719   \n",
       "6   0.000000  0.000000  0.000000  ...  0.021678  0.019692  0.020166  0.010673   \n",
       "..       ...       ...       ...  ...       ...       ...       ...       ...   \n",
       "24  0.078101  0.080784  0.099688  ...  0.048487  0.041902  0.070060  0.089901   \n",
       "25  0.125633  0.105564  0.093432  ...  0.078178  0.069748  0.056653  0.052905   \n",
       "26  0.000263  0.000000  0.000000  ...  0.139019  0.136998  0.139518  0.091726   \n",
       "27  0.000000  0.000000  0.036027  ...  0.142133  0.096184  0.098240  0.094094   \n",
       "28  0.429149  0.395782  0.369393  ...  0.088998  0.134701  0.209019  0.300678   \n",
       "\n",
       "        1595      1596      1597      1598      1599  cell_type  \n",
       "0   0.014389  0.012715  0.012774  0.006379  0.011325        NaN  \n",
       "3   0.005841  0.004750  0.016866  0.017452  0.028150        NaN  \n",
       "4   0.503685  0.509207  0.513564  0.600296  0.730846        NaN  \n",
       "5   0.082665  0.075597  0.073550  0.089175  0.065639        NaN  \n",
       "6   0.019417  0.040118  0.017528  0.027566  0.042480        NaN  \n",
       "..       ...       ...       ...       ...       ...        ...  \n",
       "24  0.044056  0.059849  0.040118  0.041695  0.085804        RME  \n",
       "25  0.046551  0.023715  0.048978  0.052017  0.060663        RME  \n",
       "26  0.097137  0.072485  0.085110  0.069823  0.068418       SMDV  \n",
       "27  0.052114  0.084556  0.088716  0.043587  0.079113       SMDV  \n",
       "28  0.391215  0.381700  0.497494  0.505217  0.646212       SMDD  \n",
       "\n",
       "[132 rows x 1601 columns]"
      ]
     },
     "execution_count": 6,
     "metadata": {},
     "output_type": "execute_result"
    }
   ],
   "source": [
    "w0_sorted_new"
   ]
  },
  {
   "cell_type": "code",
   "execution_count": 7,
   "id": "91557311",
   "metadata": {},
   "outputs": [
    {
     "data": {
      "text/html": [
       "<div>\n",
       "<style scoped>\n",
       "    .dataframe tbody tr th:only-of-type {\n",
       "        vertical-align: middle;\n",
       "    }\n",
       "\n",
       "    .dataframe tbody tr th {\n",
       "        vertical-align: top;\n",
       "    }\n",
       "\n",
       "    .dataframe thead th {\n",
       "        text-align: right;\n",
       "    }\n",
       "</style>\n",
       "<table border=\"1\" class=\"dataframe\">\n",
       "  <thead>\n",
       "    <tr style=\"text-align: right;\">\n",
       "      <th></th>\n",
       "      <th>0</th>\n",
       "      <th>1</th>\n",
       "      <th>2</th>\n",
       "      <th>3</th>\n",
       "      <th>4</th>\n",
       "      <th>5</th>\n",
       "      <th>6</th>\n",
       "      <th>7</th>\n",
       "      <th>8</th>\n",
       "      <th>9</th>\n",
       "      <th>...</th>\n",
       "      <th>1590</th>\n",
       "      <th>1591</th>\n",
       "      <th>1592</th>\n",
       "      <th>1593</th>\n",
       "      <th>1594</th>\n",
       "      <th>1595</th>\n",
       "      <th>1596</th>\n",
       "      <th>1597</th>\n",
       "      <th>1598</th>\n",
       "      <th>1599</th>\n",
       "    </tr>\n",
       "  </thead>\n",
       "  <tbody>\n",
       "    <tr>\n",
       "      <th>0</th>\n",
       "      <td>0.000000</td>\n",
       "      <td>0.000000</td>\n",
       "      <td>0.000000</td>\n",
       "      <td>0.000000</td>\n",
       "      <td>0.000000</td>\n",
       "      <td>0.000000</td>\n",
       "      <td>0.000000</td>\n",
       "      <td>0.000000</td>\n",
       "      <td>0.000000</td>\n",
       "      <td>0.000000</td>\n",
       "      <td>...</td>\n",
       "      <td>0.013149</td>\n",
       "      <td>0.010324</td>\n",
       "      <td>0.010237</td>\n",
       "      <td>0.013933</td>\n",
       "      <td>0.005688</td>\n",
       "      <td>0.014389</td>\n",
       "      <td>0.012715</td>\n",
       "      <td>0.012774</td>\n",
       "      <td>0.006379</td>\n",
       "      <td>0.011325</td>\n",
       "    </tr>\n",
       "    <tr>\n",
       "      <th>3</th>\n",
       "      <td>0.000000</td>\n",
       "      <td>0.000000</td>\n",
       "      <td>0.000000</td>\n",
       "      <td>0.000000</td>\n",
       "      <td>0.000000</td>\n",
       "      <td>0.000000</td>\n",
       "      <td>0.000000</td>\n",
       "      <td>0.000000</td>\n",
       "      <td>0.000000</td>\n",
       "      <td>0.000000</td>\n",
       "      <td>...</td>\n",
       "      <td>0.018943</td>\n",
       "      <td>0.016547</td>\n",
       "      <td>0.022308</td>\n",
       "      <td>0.021005</td>\n",
       "      <td>0.025381</td>\n",
       "      <td>0.005841</td>\n",
       "      <td>0.004750</td>\n",
       "      <td>0.016866</td>\n",
       "      <td>0.017452</td>\n",
       "      <td>0.028150</td>\n",
       "    </tr>\n",
       "    <tr>\n",
       "      <th>4</th>\n",
       "      <td>0.006261</td>\n",
       "      <td>0.006576</td>\n",
       "      <td>0.010239</td>\n",
       "      <td>0.005997</td>\n",
       "      <td>0.007404</td>\n",
       "      <td>0.024813</td>\n",
       "      <td>0.017438</td>\n",
       "      <td>0.033881</td>\n",
       "      <td>0.013081</td>\n",
       "      <td>0.004452</td>\n",
       "      <td>...</td>\n",
       "      <td>0.345051</td>\n",
       "      <td>0.360048</td>\n",
       "      <td>0.367689</td>\n",
       "      <td>0.421811</td>\n",
       "      <td>0.411161</td>\n",
       "      <td>0.503685</td>\n",
       "      <td>0.509207</td>\n",
       "      <td>0.513564</td>\n",
       "      <td>0.600296</td>\n",
       "      <td>0.730846</td>\n",
       "    </tr>\n",
       "    <tr>\n",
       "      <th>5</th>\n",
       "      <td>0.000000</td>\n",
       "      <td>0.000000</td>\n",
       "      <td>0.000000</td>\n",
       "      <td>0.000000</td>\n",
       "      <td>0.000000</td>\n",
       "      <td>0.000000</td>\n",
       "      <td>0.000000</td>\n",
       "      <td>0.000000</td>\n",
       "      <td>0.000000</td>\n",
       "      <td>0.000000</td>\n",
       "      <td>...</td>\n",
       "      <td>0.082460</td>\n",
       "      <td>0.087835</td>\n",
       "      <td>0.109091</td>\n",
       "      <td>0.091580</td>\n",
       "      <td>0.073719</td>\n",
       "      <td>0.082665</td>\n",
       "      <td>0.075597</td>\n",
       "      <td>0.073550</td>\n",
       "      <td>0.089175</td>\n",
       "      <td>0.065639</td>\n",
       "    </tr>\n",
       "    <tr>\n",
       "      <th>6</th>\n",
       "      <td>0.000000</td>\n",
       "      <td>0.000000</td>\n",
       "      <td>0.000000</td>\n",
       "      <td>0.000000</td>\n",
       "      <td>0.000000</td>\n",
       "      <td>0.000000</td>\n",
       "      <td>0.000000</td>\n",
       "      <td>0.000000</td>\n",
       "      <td>0.000000</td>\n",
       "      <td>0.000000</td>\n",
       "      <td>...</td>\n",
       "      <td>0.021689</td>\n",
       "      <td>0.021678</td>\n",
       "      <td>0.019692</td>\n",
       "      <td>0.020166</td>\n",
       "      <td>0.010673</td>\n",
       "      <td>0.019417</td>\n",
       "      <td>0.040118</td>\n",
       "      <td>0.017528</td>\n",
       "      <td>0.027566</td>\n",
       "      <td>0.042480</td>\n",
       "    </tr>\n",
       "    <tr>\n",
       "      <th>...</th>\n",
       "      <td>...</td>\n",
       "      <td>...</td>\n",
       "      <td>...</td>\n",
       "      <td>...</td>\n",
       "      <td>...</td>\n",
       "      <td>...</td>\n",
       "      <td>...</td>\n",
       "      <td>...</td>\n",
       "      <td>...</td>\n",
       "      <td>...</td>\n",
       "      <td>...</td>\n",
       "      <td>...</td>\n",
       "      <td>...</td>\n",
       "      <td>...</td>\n",
       "      <td>...</td>\n",
       "      <td>...</td>\n",
       "      <td>...</td>\n",
       "      <td>...</td>\n",
       "      <td>...</td>\n",
       "      <td>...</td>\n",
       "      <td>...</td>\n",
       "    </tr>\n",
       "    <tr>\n",
       "      <th>24</th>\n",
       "      <td>0.103152</td>\n",
       "      <td>0.097947</td>\n",
       "      <td>0.116510</td>\n",
       "      <td>0.079075</td>\n",
       "      <td>0.089215</td>\n",
       "      <td>0.086892</td>\n",
       "      <td>0.077508</td>\n",
       "      <td>0.078101</td>\n",
       "      <td>0.080784</td>\n",
       "      <td>0.099688</td>\n",
       "      <td>...</td>\n",
       "      <td>0.071627</td>\n",
       "      <td>0.048487</td>\n",
       "      <td>0.041902</td>\n",
       "      <td>0.070060</td>\n",
       "      <td>0.089901</td>\n",
       "      <td>0.044056</td>\n",
       "      <td>0.059849</td>\n",
       "      <td>0.040118</td>\n",
       "      <td>0.041695</td>\n",
       "      <td>0.085804</td>\n",
       "    </tr>\n",
       "    <tr>\n",
       "      <th>25</th>\n",
       "      <td>0.085950</td>\n",
       "      <td>0.113430</td>\n",
       "      <td>0.125605</td>\n",
       "      <td>0.117232</td>\n",
       "      <td>0.105516</td>\n",
       "      <td>0.113757</td>\n",
       "      <td>0.131102</td>\n",
       "      <td>0.125633</td>\n",
       "      <td>0.105564</td>\n",
       "      <td>0.093432</td>\n",
       "      <td>...</td>\n",
       "      <td>0.057269</td>\n",
       "      <td>0.078178</td>\n",
       "      <td>0.069748</td>\n",
       "      <td>0.056653</td>\n",
       "      <td>0.052905</td>\n",
       "      <td>0.046551</td>\n",
       "      <td>0.023715</td>\n",
       "      <td>0.048978</td>\n",
       "      <td>0.052017</td>\n",
       "      <td>0.060663</td>\n",
       "    </tr>\n",
       "    <tr>\n",
       "      <th>26</th>\n",
       "      <td>0.024950</td>\n",
       "      <td>0.050220</td>\n",
       "      <td>0.033014</td>\n",
       "      <td>0.005006</td>\n",
       "      <td>0.000000</td>\n",
       "      <td>0.000000</td>\n",
       "      <td>0.000000</td>\n",
       "      <td>0.000263</td>\n",
       "      <td>0.000000</td>\n",
       "      <td>0.000000</td>\n",
       "      <td>...</td>\n",
       "      <td>0.141856</td>\n",
       "      <td>0.139019</td>\n",
       "      <td>0.136998</td>\n",
       "      <td>0.139518</td>\n",
       "      <td>0.091726</td>\n",
       "      <td>0.097137</td>\n",
       "      <td>0.072485</td>\n",
       "      <td>0.085110</td>\n",
       "      <td>0.069823</td>\n",
       "      <td>0.068418</td>\n",
       "    </tr>\n",
       "    <tr>\n",
       "      <th>27</th>\n",
       "      <td>0.086319</td>\n",
       "      <td>0.000000</td>\n",
       "      <td>0.000000</td>\n",
       "      <td>0.000000</td>\n",
       "      <td>0.000000</td>\n",
       "      <td>0.000000</td>\n",
       "      <td>0.000000</td>\n",
       "      <td>0.000000</td>\n",
       "      <td>0.000000</td>\n",
       "      <td>0.036027</td>\n",
       "      <td>...</td>\n",
       "      <td>0.152193</td>\n",
       "      <td>0.142133</td>\n",
       "      <td>0.096184</td>\n",
       "      <td>0.098240</td>\n",
       "      <td>0.094094</td>\n",
       "      <td>0.052114</td>\n",
       "      <td>0.084556</td>\n",
       "      <td>0.088716</td>\n",
       "      <td>0.043587</td>\n",
       "      <td>0.079113</td>\n",
       "    </tr>\n",
       "    <tr>\n",
       "      <th>28</th>\n",
       "      <td>0.453060</td>\n",
       "      <td>0.434332</td>\n",
       "      <td>0.497556</td>\n",
       "      <td>0.577081</td>\n",
       "      <td>0.581910</td>\n",
       "      <td>0.525287</td>\n",
       "      <td>0.528457</td>\n",
       "      <td>0.429149</td>\n",
       "      <td>0.395782</td>\n",
       "      <td>0.369393</td>\n",
       "      <td>...</td>\n",
       "      <td>0.101272</td>\n",
       "      <td>0.088998</td>\n",
       "      <td>0.134701</td>\n",
       "      <td>0.209019</td>\n",
       "      <td>0.300678</td>\n",
       "      <td>0.391215</td>\n",
       "      <td>0.381700</td>\n",
       "      <td>0.497494</td>\n",
       "      <td>0.505217</td>\n",
       "      <td>0.646212</td>\n",
       "    </tr>\n",
       "  </tbody>\n",
       "</table>\n",
       "<p>132 rows × 1600 columns</p>\n",
       "</div>"
      ],
      "text/plain": [
       "        0         1         2         3         4         5         6     \\\n",
       "0   0.000000  0.000000  0.000000  0.000000  0.000000  0.000000  0.000000   \n",
       "3   0.000000  0.000000  0.000000  0.000000  0.000000  0.000000  0.000000   \n",
       "4   0.006261  0.006576  0.010239  0.005997  0.007404  0.024813  0.017438   \n",
       "5   0.000000  0.000000  0.000000  0.000000  0.000000  0.000000  0.000000   \n",
       "6   0.000000  0.000000  0.000000  0.000000  0.000000  0.000000  0.000000   \n",
       "..       ...       ...       ...       ...       ...       ...       ...   \n",
       "24  0.103152  0.097947  0.116510  0.079075  0.089215  0.086892  0.077508   \n",
       "25  0.085950  0.113430  0.125605  0.117232  0.105516  0.113757  0.131102   \n",
       "26  0.024950  0.050220  0.033014  0.005006  0.000000  0.000000  0.000000   \n",
       "27  0.086319  0.000000  0.000000  0.000000  0.000000  0.000000  0.000000   \n",
       "28  0.453060  0.434332  0.497556  0.577081  0.581910  0.525287  0.528457   \n",
       "\n",
       "        7         8         9     ...      1590      1591      1592      1593  \\\n",
       "0   0.000000  0.000000  0.000000  ...  0.013149  0.010324  0.010237  0.013933   \n",
       "3   0.000000  0.000000  0.000000  ...  0.018943  0.016547  0.022308  0.021005   \n",
       "4   0.033881  0.013081  0.004452  ...  0.345051  0.360048  0.367689  0.421811   \n",
       "5   0.000000  0.000000  0.000000  ...  0.082460  0.087835  0.109091  0.091580   \n",
       "6   0.000000  0.000000  0.000000  ...  0.021689  0.021678  0.019692  0.020166   \n",
       "..       ...       ...       ...  ...       ...       ...       ...       ...   \n",
       "24  0.078101  0.080784  0.099688  ...  0.071627  0.048487  0.041902  0.070060   \n",
       "25  0.125633  0.105564  0.093432  ...  0.057269  0.078178  0.069748  0.056653   \n",
       "26  0.000263  0.000000  0.000000  ...  0.141856  0.139019  0.136998  0.139518   \n",
       "27  0.000000  0.000000  0.036027  ...  0.152193  0.142133  0.096184  0.098240   \n",
       "28  0.429149  0.395782  0.369393  ...  0.101272  0.088998  0.134701  0.209019   \n",
       "\n",
       "        1594      1595      1596      1597      1598      1599  \n",
       "0   0.005688  0.014389  0.012715  0.012774  0.006379  0.011325  \n",
       "3   0.025381  0.005841  0.004750  0.016866  0.017452  0.028150  \n",
       "4   0.411161  0.503685  0.509207  0.513564  0.600296  0.730846  \n",
       "5   0.073719  0.082665  0.075597  0.073550  0.089175  0.065639  \n",
       "6   0.010673  0.019417  0.040118  0.017528  0.027566  0.042480  \n",
       "..       ...       ...       ...       ...       ...       ...  \n",
       "24  0.089901  0.044056  0.059849  0.040118  0.041695  0.085804  \n",
       "25  0.052905  0.046551  0.023715  0.048978  0.052017  0.060663  \n",
       "26  0.091726  0.097137  0.072485  0.085110  0.069823  0.068418  \n",
       "27  0.094094  0.052114  0.084556  0.088716  0.043587  0.079113  \n",
       "28  0.300678  0.391215  0.381700  0.497494  0.505217  0.646212  \n",
       "\n",
       "[132 rows x 1600 columns]"
      ]
     },
     "execution_count": 7,
     "metadata": {},
     "output_type": "execute_result"
    }
   ],
   "source": [
    "w0_sorted_new.iloc[:, :-1]"
   ]
  },
  {
   "cell_type": "code",
   "execution_count": 8,
   "id": "0f41406a",
   "metadata": {},
   "outputs": [],
   "source": [
    "df= w0_sorted_new.iloc[:, :-1]\n",
    "corr_matrix = df.T.corr()\n",
    "distance_matrix = 1 - corr_matrix\n",
    "distance_matrix_squaredp = (1 - corr_matrix**2) * 2\n"
   ]
  },
  {
   "cell_type": "code",
   "execution_count": 9,
   "id": "805c11a0",
   "metadata": {},
   "outputs": [
    {
     "data": {
      "text/plain": [
       "(132, 132)"
      ]
     },
     "execution_count": 9,
     "metadata": {},
     "output_type": "execute_result"
    }
   ],
   "source": [
    "distance_matrix_squaredp.shape"
   ]
  },
  {
   "cell_type": "code",
   "execution_count": 10,
   "id": "8db4cafc",
   "metadata": {},
   "outputs": [
    {
     "name": "stderr",
     "output_type": "stream",
     "text": [
      "14:14:01 - cmdstanpy - INFO - Chain [1] start processing\n"
     ]
    },
    {
     "name": "stderr",
     "output_type": "stream",
     "text": [
      "14:15:42 - cmdstanpy - INFO - Chain [1] done processing\n"
     ]
    }
   ],
   "source": [
    "#dictionary to specify input to simulation\n",
    "\n",
    "# dat={'N':100, 'D':5, 'deltaij':mat_dim}\n",
    "dat = {'N': 132 , 'D': 3 , 'deltaij':distance_matrix_squaredp}\n",
    "#run optimizer\n",
    "model = ltz_m.optimize(data=dat, iter=250000, algorithm='LBFGS', tol_rel_grad=1e2)"
   ]
  },
  {
   "cell_type": "code",
   "execution_count": 11,
   "id": "a880a1ed",
   "metadata": {},
   "outputs": [
    {
     "name": "stderr",
     "output_type": "stream",
     "text": [
      "14:15:45 - cmdstanpy - WARNING - The default behavior of CmdStanMLE.stan_variable() will change in a future release to always return a numpy.ndarray, even for scalar variables.\n"
     ]
    }
   ],
   "source": [
    "# build result \n",
    "hyp_emb = {'euc':model.euc, 'sig':model.sig, 'lambda':model.stan_variable('lambda')}\n",
    "\n",
    "# # and save\n",
    "# fdname = './emb5d.pickle'\n",
    "# with open(fdname,'wb') as file:\n",
    "#     pickle.dump(hyp_emb, file,  protocol=pickle.HIGHEST_PROTOCOL)"
   ]
  },
  {
   "cell_type": "code",
   "execution_count": null,
   "id": "d4ef1297",
   "metadata": {},
   "outputs": [],
   "source": [
    "# # load existing results\n",
    "# fdname = './emb5d.pickle'\n",
    "# with open(fdname, 'rb') as file:\n",
    "#     hyp_emb = pickle.load(file)"
   ]
  },
  {
   "cell_type": "markdown",
   "id": "0f4a4cf9",
   "metadata": {},
   "source": [
    "## Some utility functions for post-processing the simulation output"
   ]
  },
  {
   "cell_type": "code",
   "execution_count": 12,
   "id": "1f033e62",
   "metadata": {},
   "outputs": [],
   "source": [
    "def d_lor(t1, t2, E1, E2):\n",
    "    return np.arccosh(t1*t2 - np.dot(E1, E2))\n",
    "\n",
    "#returns embedding distance matrix from optimization fit\n",
    "def get_embed_dmat(fit):\n",
    "    N = fit['euc'].shape[0]\n",
    "    fit_ts = np.sqrt(1.0 + np.sum(np.square(fit['euc']), axis=1))\n",
    "\n",
    "    fit_mat = np.zeros((N, N))\n",
    "\n",
    "    for i in np.arange(N):\n",
    "        for j in np.arange(i+1,N):\n",
    "            fit_mat[i][j] = d_lor(fit_ts[i], fit_ts[j], fit['euc'][i], fit['euc'][j])\n",
    "            fit_mat[j][i] = fit_mat[i][j]\n",
    "            \n",
    "    return fit_mat\n",
    "\n",
    "#return poincare coordinates\n",
    "def get_poin(fit):\n",
    "    ts = np.sqrt(1.0 + np.sum(np.square(fit['euc']), axis=1))\n",
    "    return (fit['euc'].T / (ts + 1)).T"
   ]
  },
  {
   "cell_type": "code",
   "execution_count": 13,
   "id": "dac6394d",
   "metadata": {},
   "outputs": [],
   "source": [
    "def process_sim(fit):\n",
    "    fit['emb_mat'] = get_embed_dmat(fit)/fit['lambda']\n",
    "    fit['pcoords'] = get_poin(fit)\n",
    "    fit['radii'] = 2.0*np.arctanh(np.sqrt(np.sum(np.square(fit['pcoords']), axis=1)))"
   ]
  },
  {
   "cell_type": "code",
   "execution_count": 14,
   "id": "d651f3ad",
   "metadata": {},
   "outputs": [],
   "source": [
    "#run this function after running the optimizer to process the output data into more usable forms\n",
    "process_sim(hyp_emb)"
   ]
  },
  {
   "cell_type": "code",
   "execution_count": 15,
   "id": "8d3b4c66",
   "metadata": {},
   "outputs": [
    {
     "data": {
      "text/plain": [
       "4.22508"
      ]
     },
     "execution_count": 15,
     "metadata": {},
     "output_type": "execute_result"
    }
   ],
   "source": [
    "#curvature (or radius)\n",
    "hyp_emb['lambda']"
   ]
  },
  {
   "cell_type": "code",
   "execution_count": 16,
   "id": "fa441edb",
   "metadata": {},
   "outputs": [
    {
     "data": {
      "text/plain": [
       "array([[ 1.90662082e-01,  8.24779048e-01, -5.02933843e-01],\n",
       "       [ 4.96150874e-01,  8.47793000e-01,  1.78021651e-02],\n",
       "       [-7.92777196e-01,  5.46476818e-01,  1.54163601e-01],\n",
       "       [ 7.10379481e-01, -4.57271316e-01, -4.75505379e-01],\n",
       "       [-2.04096300e-01,  5.06127467e-01, -8.17986190e-01],\n",
       "       [ 1.44760206e-01, -3.92837123e-01,  8.78216102e-01],\n",
       "       [ 3.00504558e-01,  8.45847775e-01, -3.99241794e-01],\n",
       "       [ 9.40609280e-01, -4.58548197e-02, -2.40715582e-01],\n",
       "       [-1.96021630e-01, -9.23188431e-01,  2.59630841e-01],\n",
       "       [ 6.45903516e-01,  6.00615494e-01,  4.10633496e-01],\n",
       "       [-2.91685076e-02, -7.27722677e-01,  6.48779928e-01],\n",
       "       [ 4.04011653e-01, -6.29441361e-01,  5.70646030e-01],\n",
       "       [-3.31560623e-01, -6.84150493e-01,  5.86715237e-01],\n",
       "       [-1.31387021e-01, -6.95640286e-01, -6.80266034e-01],\n",
       "       [ 7.07614589e-01,  4.59556820e-01,  4.93514856e-01],\n",
       "       [-3.97628090e-01, -3.94186784e-01,  7.74806568e-01],\n",
       "       [-2.83226837e-01, -8.47728055e-01, -3.67086151e-01],\n",
       "       [-1.91059211e-01, -9.37315189e-01, -2.16756540e-02],\n",
       "       [ 7.47473329e-01,  5.79707414e-01,  1.95327387e-01],\n",
       "       [ 1.87571913e-01, -5.54511648e-01,  7.70438437e-01],\n",
       "       [-5.57284776e-01, -7.60892219e-01, -2.55132203e-01],\n",
       "       [ 7.58156059e-01, -2.81618172e-01, -5.36707910e-01],\n",
       "       [-3.25427736e-01, -1.06611565e-01,  9.05022079e-01],\n",
       "       [-2.07923695e-01, -4.70135278e-01,  8.30830094e-01],\n",
       "       [ 6.90010818e-01,  5.48223642e-01,  3.87018603e-01],\n",
       "       [ 6.10002812e-01,  5.22925317e-01,  5.37724997e-01],\n",
       "       [ 7.24542393e-01, -5.79339492e-01, -2.74841621e-01],\n",
       "       [-4.46194824e-01, -5.72510671e-01,  6.32341407e-01],\n",
       "       [ 7.18022636e-01,  3.51820808e-01, -5.42311923e-01],\n",
       "       [ 7.54548733e-01,  4.95593731e-01,  3.36408996e-01],\n",
       "       [ 8.36784649e-01, -2.54015419e-01, -4.26698836e-01],\n",
       "       [ 6.21311577e-01, -5.45150128e-01, -5.11587222e-01],\n",
       "       [ 4.55548439e-01, -8.55348562e-01, -1.11368479e-01],\n",
       "       [ 7.93757877e-01, -2.29269113e-01, -4.98652417e-01],\n",
       "       [ 5.85827056e-01, -6.24982994e-01,  4.26301771e-01],\n",
       "       [ 8.74960668e-01,  1.32566755e-01, -3.97885598e-01],\n",
       "       [-7.98939214e-01,  5.48210058e-01,  1.37207041e-01],\n",
       "       [ 9.13875767e-01, -2.40607426e-01, -1.57586814e-01],\n",
       "       [-3.46211426e-02,  2.71982073e-01,  9.34025384e-01],\n",
       "       [-4.09943771e-01, -8.45088455e-01,  1.76035832e-01],\n",
       "       [ 7.96801849e-01, -2.53367091e-01, -4.88610509e-01],\n",
       "       [-8.40870260e-01, -3.19590437e-01, -3.83618052e-01],\n",
       "       [-6.00016617e-02, -8.86066687e-01, -4.08190233e-01],\n",
       "       [ 1.36497307e-01, -1.56099004e-01,  9.44179408e-01],\n",
       "       [ 3.79628204e-01, -2.67701149e-01, -8.53709185e-01],\n",
       "       [-8.55453336e-01,  4.09389196e-01, -2.07957174e-01],\n",
       "       [ 9.46118310e-01,  8.34240494e-04, -2.32607497e-01],\n",
       "       [-3.72579726e-01, -1.96379531e-01,  8.69264480e-01],\n",
       "       [-7.51651032e-01, -2.86634609e-01,  5.44798309e-01],\n",
       "       [ 7.73011078e-01,  1.65610665e-01, -5.57229586e-01],\n",
       "       [ 1.00065327e-01,  1.13369997e-01,  9.52939831e-01],\n",
       "       [-5.36178604e-01, -3.73931740e-01, -7.24476307e-01],\n",
       "       [ 7.70276333e-01, -2.35330162e-01, -5.42298862e-01],\n",
       "       [ 5.69836762e-01,  5.43883386e-01,  5.60449092e-01],\n",
       "       [-6.66835532e-02, -9.05107515e-02,  9.63146174e-01],\n",
       "       [ 9.48694547e-01,  1.14069573e-01, -1.68893951e-01],\n",
       "       [ 3.75015425e-02,  3.18140666e-03,  9.67806116e-01],\n",
       "       [-9.28830835e-01, -2.43598803e-01, -1.33539078e-01],\n",
       "       [-2.00445553e-01, -2.35519678e-01,  9.17976044e-01],\n",
       "       [-6.48303109e-01,  1.38827617e-01, -7.05822854e-01],\n",
       "       [-2.40477663e-01, -1.62713479e-01,  9.13773147e-01],\n",
       "       [-3.56357266e-01, -2.77679587e-01,  8.45120841e-01],\n",
       "       [-8.66924818e-01,  2.88719348e-02, -4.33730096e-01],\n",
       "       [-4.78884426e-01,  9.71071904e-02, -8.39466106e-01],\n",
       "       [ 4.63242327e-01, -2.35037106e-01,  7.98485190e-01],\n",
       "       [-7.04743235e-01,  2.75799521e-01,  5.97082189e-01],\n",
       "       [-8.62546152e-01,  1.60451078e-01, -4.26532138e-01],\n",
       "       [ 2.20507836e-01, -8.03406547e-02,  9.35611719e-01],\n",
       "       [-4.79179318e-01, -3.26714242e-01,  7.61271902e-01],\n",
       "       [ 7.09337744e-01, -3.84642451e-01,  5.40408417e-01],\n",
       "       [ 1.13505575e-01,  9.75853960e-01, -2.72758150e-02],\n",
       "       [-8.42723135e-01, -1.68934722e-01, -4.60528477e-01],\n",
       "       [-1.42286508e-01, -6.16110345e-03,  9.54578204e-01],\n",
       "       [-2.91977029e-01, -2.35343022e-02,  9.16873400e-01],\n",
       "       [ 4.91383854e-01, -8.13034778e-01,  1.79009333e-01],\n",
       "       [-1.82140432e-01, -9.06986934e-02,  9.39083263e-01],\n",
       "       [-3.66732415e-01, -2.30338094e-01,  8.60795027e-01],\n",
       "       [-3.51192863e-02,  3.92629649e-02,  9.66477354e-01],\n",
       "       [ 1.92868895e-01, -9.24531933e-01, -2.64985749e-01],\n",
       "       [-8.32497349e-01, -3.69471864e-01,  3.39023646e-01],\n",
       "       [-9.02892131e-01,  5.67453043e-02, -3.55109137e-01],\n",
       "       [-3.67884487e-01, -3.54507827e-01, -8.28419997e-01],\n",
       "       [-2.09177339e-01, -1.36122947e-01,  9.29654618e-01],\n",
       "       [-5.25185278e-01, -3.80792925e-01,  7.09399137e-01],\n",
       "       [-9.00889225e-01, -3.44812790e-01,  1.01547957e-01],\n",
       "       [-7.32354262e-01, -4.02216995e-01,  4.80668470e-01],\n",
       "       [-3.74445775e-01, -3.37365106e-01,  8.29750406e-01],\n",
       "       [-8.75560812e-02, -3.40441968e-01,  9.01208657e-01],\n",
       "       [ 2.77775604e-01,  2.02543301e-03,  9.29774113e-01],\n",
       "       [-3.10943045e-01, -2.27245546e-01,  8.79965399e-01],\n",
       "       [ 5.61770489e-01, -5.07431162e-01,  5.93445693e-01],\n",
       "       [-8.77764201e-01, -1.11657903e-02, -4.15251861e-01],\n",
       "       [-2.61059330e-01,  3.07743526e-01,  8.84837508e-01],\n",
       "       [-4.65747688e-01,  2.05177846e-01,  8.28725714e-01],\n",
       "       [-1.51958168e-01, -1.57735903e-01,  9.30860733e-01],\n",
       "       [-4.30878204e-01, -3.07890990e-01,  8.05382570e-01],\n",
       "       [-4.33052844e-01, -2.77520793e-01,  8.17652013e-01],\n",
       "       [-7.03524348e-01, -5.75615664e-02,  6.69751244e-01],\n",
       "       [-6.38884365e-01, -6.42993509e-01,  3.60298045e-01],\n",
       "       [-8.28605139e-01, -4.90797814e-01,  1.07168124e-01],\n",
       "       [-6.41520028e-01, -4.31569820e-01,  5.84941279e-01],\n",
       "       [ 3.35471860e-01, -5.76322121e-01, -7.05452197e-01],\n",
       "       [-4.49613269e-01, -3.29849272e-01,  7.82411272e-01],\n",
       "       [-1.18238537e-01,  8.49427246e-01,  4.67675666e-01],\n",
       "       [-1.69231868e-01,  8.52777165e-01,  4.52591716e-01],\n",
       "       [-2.03312243e-01,  8.01302469e-01,  5.13116656e-01],\n",
       "       [-1.10111726e-01,  8.48980373e-01,  4.69613095e-01],\n",
       "       [-1.45094344e-01,  7.08038711e-01,  6.54266379e-01],\n",
       "       [-2.73316059e-01, -5.38246853e-01,  7.69159383e-01],\n",
       "       [-6.08310386e-01, -5.82873296e-01, -4.93243979e-01],\n",
       "       [-9.11225410e-01, -9.75772980e-02,  3.31889654e-01],\n",
       "       [-4.64883244e-01,  8.40942277e-01, -1.86269792e-01],\n",
       "       [ 2.10142154e-01,  3.95696886e-01, -8.69581230e-01],\n",
       "       [-3.23003717e-01,  8.03362565e-01, -4.48637916e-01],\n",
       "       [-3.78525446e-01,  9.02493047e-01, -4.82311528e-02],\n",
       "       [-2.85106300e-01,  8.32749505e-01, -4.16464108e-01],\n",
       "       [-6.29955491e-01,  5.16862526e-01, -5.42631780e-01],\n",
       "       [ 2.78292410e-01, -2.10893805e-01,  9.03265565e-01],\n",
       "       [ 8.46450071e-01, -1.00933028e-01, -4.53713622e-01],\n",
       "       [ 8.87412620e-01, -9.15599460e-02, -3.78292403e-01],\n",
       "       [ 8.66776356e-01, -1.03372344e-01, -4.28171509e-01],\n",
       "       [ 8.33819961e-01, -5.44794000e-02, -4.90716719e-01],\n",
       "       [ 8.22820817e-01,  3.36719761e-04, -5.07984692e-01],\n",
       "       [ 8.87178814e-01, -6.09044378e-02, -3.92084263e-01],\n",
       "       [ 8.40895508e-01, -1.37898078e-01, -4.60913585e-01],\n",
       "       [ 8.35879210e-01, -1.50955662e-01, -4.67697949e-01],\n",
       "       [ 8.54283203e-01, -2.00080431e-01, -4.15195423e-01],\n",
       "       [ 8.31018908e-01, -2.07595544e-01, -4.59022730e-01],\n",
       "       [ 8.50412324e-01, -1.47162578e-01, -4.43118800e-01],\n",
       "       [ 8.38821848e-01, -5.04527102e-01,  6.69467182e-02],\n",
       "       [ 8.47747063e-01, -4.91681711e-01, -4.82018908e-02],\n",
       "       [-1.40812783e-01, -1.79574474e-02, -9.72251776e-01]])"
      ]
     },
     "execution_count": 16,
     "metadata": {},
     "output_type": "execute_result"
    }
   ],
   "source": [
    "#poincare embedding coordinates\n",
    "hyp_emb['pcoords']"
   ]
  },
  {
   "cell_type": "code",
   "execution_count": 23,
   "id": "48f986dd",
   "metadata": {},
   "outputs": [
    {
     "name": "stdout",
     "output_type": "stream",
     "text": [
      "Stored 'w_0_clustered' (ndarray)\n"
     ]
    }
   ],
   "source": [
    "w_0_clustered = hyp_emb['pcoords']\n",
    "%store w_0_clustered"
   ]
  },
  {
   "cell_type": "code",
   "execution_count": 82,
   "id": "e0b8162b",
   "metadata": {},
   "outputs": [
    {
     "data": {
      "text/plain": [
       "dict_keys(['euc', 'sig', 'lambda', 'emb_mat', 'pcoords', 'radii'])"
      ]
     },
     "execution_count": 82,
     "metadata": {},
     "output_type": "execute_result"
    }
   ],
   "source": [
    "#emebdding uncertainties\n",
    "hyp_emb.keys()"
   ]
  },
  {
   "cell_type": "markdown",
   "id": "ffa4a0f2",
   "metadata": {},
   "source": [
    "# Shepard Diagram"
   ]
  },
  {
   "cell_type": "code",
   "execution_count": 83,
   "id": "b68aec1a",
   "metadata": {},
   "outputs": [],
   "source": [
    "rcParams['font.family'] = 'sans-serif'\n",
    "rcParams['font.sans-serif'] = 'Arial'"
   ]
  },
  {
   "cell_type": "code",
   "execution_count": null,
   "id": "6b924846",
   "metadata": {},
   "outputs": [],
   "source": [
    "# color brewer paisley hex color references\n",
    "#8dd3c7\n",
    "#ffffb3\n",
    "#bebada\n",
    "#fb8072\n",
    "#80b1d3"
   ]
  },
  {
   "cell_type": "code",
   "execution_count": 21,
   "id": "c3ed0ead",
   "metadata": {},
   "outputs": [
    {
     "data": {
      "image/png": "[encoded data removed]",
      "text/plain": [
       "<Figure size 1000x500 with 2 Axes>"
      ]
     },
     "metadata": {},
     "output_type": "display_data"
    }
   ],
   "source": [
    "fig, ax = plt.subplots(1, 2, figsize=(5 * 2, 5))\n",
    "\n",
    "ax[0].scatter(distance_matrix_squaredp.values[np.triu_indices(132, k=1)], hyp_emb['emb_mat'][np.triu_indices(132, k=1)], c='#8dd3c7', edgecolor='black', alpha=0.7) #cornflowerblue, lightcoral\n",
    "ax[0].plot(np.arange(3), np.arange(3), c='black', linewidth=5, alpha=0.5)\n",
    "r2 = r2_score(distance_matrix_squaredp.values[np.triu_indices(132, k=1)], hyp_emb['emb_mat'][np.triu_indices(132, k=1)])\n",
    "\n",
    "ax[0].set_xlabel('Original Distances', fontsize=20)\n",
    "ax[0].tick_params(axis='both', which='major', labelsize=20)\n",
    "ax[0].set_ylabel('Embedding Distances / $\\lambda$', fontsize=20)\n",
    "# ax[0].text(0.1, 2.5, f'R**2 = {r2:.2f}', fontsize=20)\n",
    "ax[0].text(0.1, 2.5, f'$R^2 = {r2:.2f}$', fontsize=20, verticalalignment='top')\n",
    "\n",
    "ax[1].hist(hyp_emb['sig'], color ='#bebada', edgecolor='black') #cornflowerblue, lightcoral\n",
    "ax[1].set_xlabel('Embedding Uncertainties', fontsize=20)\n",
    "ax[1].tick_params(axis='both', which='major', labelsize=20)\n",
    "\n",
    "# plt.savefig('/Users/iuliarusu/Documents/Sharpee/final_images/figure2/w0_all_sorted_.svg', format='svg', bbox_inches='tight')"
   ]
  },
  {
   "cell_type": "code",
   "execution_count": 22,
   "id": "2107906d",
   "metadata": {},
   "outputs": [],
   "source": [
    "r2 = r2_score(distance_matrix_squaredp.values[np.triu_indices(132, k=1)], hyp_emb['emb_mat'][np.triu_indices(132, k=1)])"
   ]
  },
  {
   "cell_type": "code",
   "execution_count": 23,
   "id": "a8f5f1e1",
   "metadata": {},
   "outputs": [
    {
     "data": {
      "text/plain": [
       "0.7295721845422953"
      ]
     },
     "execution_count": 23,
     "metadata": {},
     "output_type": "execute_result"
    }
   ],
   "source": [
    "r2"
   ]
  },
  {
   "cell_type": "code",
   "execution_count": 24,
   "id": "7ea16b78",
   "metadata": {},
   "outputs": [],
   "source": [
    "hyperbolic_df= pd.DataFrame(hyp_emb['pcoords'], columns=['x', 'y', 'z'])\n",
    "\n"
   ]
  },
  {
   "cell_type": "code",
   "execution_count": 40,
   "id": "c4caf498",
   "metadata": {},
   "outputs": [],
   "source": [
    "#cell type label column\n",
    "column = ['ON'] * (ON_0.shape[0]) + ['OFF'] * (OFF_0.shape[0]) + ['AVA'] * (AVA_0.shape[0]) + ['RME'] * (RME_0.shape[0]) + ['SMDV'] * (SMDV_0.shape[0]) + ['SMDD'] * (SMDD_0.shape[0])\n",
    "cell_type = np.array(column)\n",
    "hyperbolic_df['cluster labels'] = cell_type.T\n"
   ]
  },
  {
   "cell_type": "code",
   "execution_count": 41,
   "id": "9a2062e0",
   "metadata": {},
   "outputs": [
    {
     "name": "stdout",
     "output_type": "stream",
     "text": [
      "Stored 'w_0_cluster_labels' (ndarray)\n"
     ]
    }
   ],
   "source": [
    "w_0_cluster_labels =cell_type\n",
    "%store w_0_cluster_labels \n",
    "del w_0_cluster_labels"
   ]
  },
  {
   "cell_type": "code",
   "execution_count": 45,
   "id": "e80f4b1e",
   "metadata": {},
   "outputs": [
    {
     "data": {
      "text/html": [
       "<div>\n",
       "<style scoped>\n",
       "    .dataframe tbody tr th:only-of-type {\n",
       "        vertical-align: middle;\n",
       "    }\n",
       "\n",
       "    .dataframe tbody tr th {\n",
       "        vertical-align: top;\n",
       "    }\n",
       "\n",
       "    .dataframe thead th {\n",
       "        text-align: right;\n",
       "    }\n",
       "</style>\n",
       "<table border=\"1\" class=\"dataframe\">\n",
       "  <thead>\n",
       "    <tr style=\"text-align: right;\">\n",
       "      <th></th>\n",
       "      <th>0</th>\n",
       "      <th>1</th>\n",
       "      <th>2</th>\n",
       "      <th>3</th>\n",
       "      <th>4</th>\n",
       "      <th>5</th>\n",
       "      <th>6</th>\n",
       "      <th>7</th>\n",
       "      <th>8</th>\n",
       "      <th>9</th>\n",
       "      <th>...</th>\n",
       "      <th>1591</th>\n",
       "      <th>1592</th>\n",
       "      <th>1593</th>\n",
       "      <th>1594</th>\n",
       "      <th>1595</th>\n",
       "      <th>1596</th>\n",
       "      <th>1597</th>\n",
       "      <th>1598</th>\n",
       "      <th>1599</th>\n",
       "      <th>cell_type</th>\n",
       "    </tr>\n",
       "  </thead>\n",
       "  <tbody>\n",
       "    <tr>\n",
       "      <th>0</th>\n",
       "      <td>0.000000</td>\n",
       "      <td>0.000000</td>\n",
       "      <td>0.000000</td>\n",
       "      <td>0.000000</td>\n",
       "      <td>0.000000</td>\n",
       "      <td>0.000000</td>\n",
       "      <td>0.000000</td>\n",
       "      <td>0.000000</td>\n",
       "      <td>0.000000</td>\n",
       "      <td>0.000000</td>\n",
       "      <td>...</td>\n",
       "      <td>0.010324</td>\n",
       "      <td>0.010237</td>\n",
       "      <td>0.013933</td>\n",
       "      <td>0.005688</td>\n",
       "      <td>0.014389</td>\n",
       "      <td>0.012715</td>\n",
       "      <td>0.012774</td>\n",
       "      <td>0.006379</td>\n",
       "      <td>0.011325</td>\n",
       "      <td>NaN</td>\n",
       "    </tr>\n",
       "    <tr>\n",
       "      <th>3</th>\n",
       "      <td>0.000000</td>\n",
       "      <td>0.000000</td>\n",
       "      <td>0.000000</td>\n",
       "      <td>0.000000</td>\n",
       "      <td>0.000000</td>\n",
       "      <td>0.000000</td>\n",
       "      <td>0.000000</td>\n",
       "      <td>0.000000</td>\n",
       "      <td>0.000000</td>\n",
       "      <td>0.000000</td>\n",
       "      <td>...</td>\n",
       "      <td>0.016547</td>\n",
       "      <td>0.022308</td>\n",
       "      <td>0.021005</td>\n",
       "      <td>0.025381</td>\n",
       "      <td>0.005841</td>\n",
       "      <td>0.004750</td>\n",
       "      <td>0.016866</td>\n",
       "      <td>0.017452</td>\n",
       "      <td>0.028150</td>\n",
       "      <td>NaN</td>\n",
       "    </tr>\n",
       "    <tr>\n",
       "      <th>4</th>\n",
       "      <td>0.006261</td>\n",
       "      <td>0.006576</td>\n",
       "      <td>0.010239</td>\n",
       "      <td>0.005997</td>\n",
       "      <td>0.007404</td>\n",
       "      <td>0.024813</td>\n",
       "      <td>0.017438</td>\n",
       "      <td>0.033881</td>\n",
       "      <td>0.013081</td>\n",
       "      <td>0.004452</td>\n",
       "      <td>...</td>\n",
       "      <td>0.360048</td>\n",
       "      <td>0.367689</td>\n",
       "      <td>0.421811</td>\n",
       "      <td>0.411161</td>\n",
       "      <td>0.503685</td>\n",
       "      <td>0.509207</td>\n",
       "      <td>0.513564</td>\n",
       "      <td>0.600296</td>\n",
       "      <td>0.730846</td>\n",
       "      <td>NaN</td>\n",
       "    </tr>\n",
       "    <tr>\n",
       "      <th>5</th>\n",
       "      <td>0.000000</td>\n",
       "      <td>0.000000</td>\n",
       "      <td>0.000000</td>\n",
       "      <td>0.000000</td>\n",
       "      <td>0.000000</td>\n",
       "      <td>0.000000</td>\n",
       "      <td>0.000000</td>\n",
       "      <td>0.000000</td>\n",
       "      <td>0.000000</td>\n",
       "      <td>0.000000</td>\n",
       "      <td>...</td>\n",
       "      <td>0.087835</td>\n",
       "      <td>0.109091</td>\n",
       "      <td>0.091580</td>\n",
       "      <td>0.073719</td>\n",
       "      <td>0.082665</td>\n",
       "      <td>0.075597</td>\n",
       "      <td>0.073550</td>\n",
       "      <td>0.089175</td>\n",
       "      <td>0.065639</td>\n",
       "      <td>NaN</td>\n",
       "    </tr>\n",
       "    <tr>\n",
       "      <th>6</th>\n",
       "      <td>0.000000</td>\n",
       "      <td>0.000000</td>\n",
       "      <td>0.000000</td>\n",
       "      <td>0.000000</td>\n",
       "      <td>0.000000</td>\n",
       "      <td>0.000000</td>\n",
       "      <td>0.000000</td>\n",
       "      <td>0.000000</td>\n",
       "      <td>0.000000</td>\n",
       "      <td>0.000000</td>\n",
       "      <td>...</td>\n",
       "      <td>0.021678</td>\n",
       "      <td>0.019692</td>\n",
       "      <td>0.020166</td>\n",
       "      <td>0.010673</td>\n",
       "      <td>0.019417</td>\n",
       "      <td>0.040118</td>\n",
       "      <td>0.017528</td>\n",
       "      <td>0.027566</td>\n",
       "      <td>0.042480</td>\n",
       "      <td>NaN</td>\n",
       "    </tr>\n",
       "  </tbody>\n",
       "</table>\n",
       "<p>5 rows × 1601 columns</p>\n",
       "</div>"
      ],
      "text/plain": [
       "          0         1         2         3         4         5         6  \\\n",
       "0  0.000000  0.000000  0.000000  0.000000  0.000000  0.000000  0.000000   \n",
       "3  0.000000  0.000000  0.000000  0.000000  0.000000  0.000000  0.000000   \n",
       "4  0.006261  0.006576  0.010239  0.005997  0.007404  0.024813  0.017438   \n",
       "5  0.000000  0.000000  0.000000  0.000000  0.000000  0.000000  0.000000   \n",
       "6  0.000000  0.000000  0.000000  0.000000  0.000000  0.000000  0.000000   \n",
       "\n",
       "          7         8         9  ...      1591      1592      1593      1594  \\\n",
       "0  0.000000  0.000000  0.000000  ...  0.010324  0.010237  0.013933  0.005688   \n",
       "3  0.000000  0.000000  0.000000  ...  0.016547  0.022308  0.021005  0.025381   \n",
       "4  0.033881  0.013081  0.004452  ...  0.360048  0.367689  0.421811  0.411161   \n",
       "5  0.000000  0.000000  0.000000  ...  0.087835  0.109091  0.091580  0.073719   \n",
       "6  0.000000  0.000000  0.000000  ...  0.021678  0.019692  0.020166  0.010673   \n",
       "\n",
       "       1595      1596      1597      1598      1599  cell_type  \n",
       "0  0.014389  0.012715  0.012774  0.006379  0.011325        NaN  \n",
       "3  0.005841  0.004750  0.016866  0.017452  0.028150        NaN  \n",
       "4  0.503685  0.509207  0.513564  0.600296  0.730846        NaN  \n",
       "5  0.082665  0.075597  0.073550  0.089175  0.065639        NaN  \n",
       "6  0.019417  0.040118  0.017528  0.027566  0.042480        NaN  \n",
       "\n",
       "[5 rows x 1601 columns]"
      ]
     },
     "execution_count": 45,
     "metadata": {},
     "output_type": "execute_result"
    }
   ],
   "source": [
    "w0_sorted_new.head()"
   ]
  },
  {
   "cell_type": "code",
   "execution_count": 46,
   "id": "6708f9a3",
   "metadata": {},
   "outputs": [
    {
     "data": {
      "text/html": [
       "<div>\n",
       "<style scoped>\n",
       "    .dataframe tbody tr th:only-of-type {\n",
       "        vertical-align: middle;\n",
       "    }\n",
       "\n",
       "    .dataframe tbody tr th {\n",
       "        vertical-align: top;\n",
       "    }\n",
       "\n",
       "    .dataframe thead th {\n",
       "        text-align: right;\n",
       "    }\n",
       "</style>\n",
       "<table border=\"1\" class=\"dataframe\">\n",
       "  <thead>\n",
       "    <tr style=\"text-align: right;\">\n",
       "      <th></th>\n",
       "      <th>0</th>\n",
       "      <th>1</th>\n",
       "      <th>2</th>\n",
       "      <th>3</th>\n",
       "      <th>4</th>\n",
       "      <th>5</th>\n",
       "      <th>6</th>\n",
       "      <th>7</th>\n",
       "      <th>8</th>\n",
       "      <th>9</th>\n",
       "      <th>...</th>\n",
       "      <th>1591</th>\n",
       "      <th>1592</th>\n",
       "      <th>1593</th>\n",
       "      <th>1594</th>\n",
       "      <th>1595</th>\n",
       "      <th>1596</th>\n",
       "      <th>1597</th>\n",
       "      <th>1598</th>\n",
       "      <th>1599</th>\n",
       "      <th>cell_type</th>\n",
       "    </tr>\n",
       "  </thead>\n",
       "  <tbody>\n",
       "    <tr>\n",
       "      <th>24</th>\n",
       "      <td>0.103152</td>\n",
       "      <td>0.097947</td>\n",
       "      <td>0.116510</td>\n",
       "      <td>0.079075</td>\n",
       "      <td>0.089215</td>\n",
       "      <td>0.086892</td>\n",
       "      <td>0.077508</td>\n",
       "      <td>0.078101</td>\n",
       "      <td>0.080784</td>\n",
       "      <td>0.099688</td>\n",
       "      <td>...</td>\n",
       "      <td>0.048487</td>\n",
       "      <td>0.041902</td>\n",
       "      <td>0.070060</td>\n",
       "      <td>0.089901</td>\n",
       "      <td>0.044056</td>\n",
       "      <td>0.059849</td>\n",
       "      <td>0.040118</td>\n",
       "      <td>0.041695</td>\n",
       "      <td>0.085804</td>\n",
       "      <td>RME</td>\n",
       "    </tr>\n",
       "    <tr>\n",
       "      <th>25</th>\n",
       "      <td>0.085950</td>\n",
       "      <td>0.113430</td>\n",
       "      <td>0.125605</td>\n",
       "      <td>0.117232</td>\n",
       "      <td>0.105516</td>\n",
       "      <td>0.113757</td>\n",
       "      <td>0.131102</td>\n",
       "      <td>0.125633</td>\n",
       "      <td>0.105564</td>\n",
       "      <td>0.093432</td>\n",
       "      <td>...</td>\n",
       "      <td>0.078178</td>\n",
       "      <td>0.069748</td>\n",
       "      <td>0.056653</td>\n",
       "      <td>0.052905</td>\n",
       "      <td>0.046551</td>\n",
       "      <td>0.023715</td>\n",
       "      <td>0.048978</td>\n",
       "      <td>0.052017</td>\n",
       "      <td>0.060663</td>\n",
       "      <td>RME</td>\n",
       "    </tr>\n",
       "    <tr>\n",
       "      <th>26</th>\n",
       "      <td>0.024950</td>\n",
       "      <td>0.050220</td>\n",
       "      <td>0.033014</td>\n",
       "      <td>0.005006</td>\n",
       "      <td>0.000000</td>\n",
       "      <td>0.000000</td>\n",
       "      <td>0.000000</td>\n",
       "      <td>0.000263</td>\n",
       "      <td>0.000000</td>\n",
       "      <td>0.000000</td>\n",
       "      <td>...</td>\n",
       "      <td>0.139019</td>\n",
       "      <td>0.136998</td>\n",
       "      <td>0.139518</td>\n",
       "      <td>0.091726</td>\n",
       "      <td>0.097137</td>\n",
       "      <td>0.072485</td>\n",
       "      <td>0.085110</td>\n",
       "      <td>0.069823</td>\n",
       "      <td>0.068418</td>\n",
       "      <td>SMDV</td>\n",
       "    </tr>\n",
       "    <tr>\n",
       "      <th>27</th>\n",
       "      <td>0.086319</td>\n",
       "      <td>0.000000</td>\n",
       "      <td>0.000000</td>\n",
       "      <td>0.000000</td>\n",
       "      <td>0.000000</td>\n",
       "      <td>0.000000</td>\n",
       "      <td>0.000000</td>\n",
       "      <td>0.000000</td>\n",
       "      <td>0.000000</td>\n",
       "      <td>0.036027</td>\n",
       "      <td>...</td>\n",
       "      <td>0.142133</td>\n",
       "      <td>0.096184</td>\n",
       "      <td>0.098240</td>\n",
       "      <td>0.094094</td>\n",
       "      <td>0.052114</td>\n",
       "      <td>0.084556</td>\n",
       "      <td>0.088716</td>\n",
       "      <td>0.043587</td>\n",
       "      <td>0.079113</td>\n",
       "      <td>SMDV</td>\n",
       "    </tr>\n",
       "    <tr>\n",
       "      <th>28</th>\n",
       "      <td>0.453060</td>\n",
       "      <td>0.434332</td>\n",
       "      <td>0.497556</td>\n",
       "      <td>0.577081</td>\n",
       "      <td>0.581910</td>\n",
       "      <td>0.525287</td>\n",
       "      <td>0.528457</td>\n",
       "      <td>0.429149</td>\n",
       "      <td>0.395782</td>\n",
       "      <td>0.369393</td>\n",
       "      <td>...</td>\n",
       "      <td>0.088998</td>\n",
       "      <td>0.134701</td>\n",
       "      <td>0.209019</td>\n",
       "      <td>0.300678</td>\n",
       "      <td>0.391215</td>\n",
       "      <td>0.381700</td>\n",
       "      <td>0.497494</td>\n",
       "      <td>0.505217</td>\n",
       "      <td>0.646212</td>\n",
       "      <td>SMDD</td>\n",
       "    </tr>\n",
       "  </tbody>\n",
       "</table>\n",
       "<p>5 rows × 1601 columns</p>\n",
       "</div>"
      ],
      "text/plain": [
       "           0         1         2         3         4         5         6  \\\n",
       "24  0.103152  0.097947  0.116510  0.079075  0.089215  0.086892  0.077508   \n",
       "25  0.085950  0.113430  0.125605  0.117232  0.105516  0.113757  0.131102   \n",
       "26  0.024950  0.050220  0.033014  0.005006  0.000000  0.000000  0.000000   \n",
       "27  0.086319  0.000000  0.000000  0.000000  0.000000  0.000000  0.000000   \n",
       "28  0.453060  0.434332  0.497556  0.577081  0.581910  0.525287  0.528457   \n",
       "\n",
       "           7         8         9  ...      1591      1592      1593      1594  \\\n",
       "24  0.078101  0.080784  0.099688  ...  0.048487  0.041902  0.070060  0.089901   \n",
       "25  0.125633  0.105564  0.093432  ...  0.078178  0.069748  0.056653  0.052905   \n",
       "26  0.000263  0.000000  0.000000  ...  0.139019  0.136998  0.139518  0.091726   \n",
       "27  0.000000  0.000000  0.036027  ...  0.142133  0.096184  0.098240  0.094094   \n",
       "28  0.429149  0.395782  0.369393  ...  0.088998  0.134701  0.209019  0.300678   \n",
       "\n",
       "        1595      1596      1597      1598      1599  cell_type  \n",
       "24  0.044056  0.059849  0.040118  0.041695  0.085804        RME  \n",
       "25  0.046551  0.023715  0.048978  0.052017  0.060663        RME  \n",
       "26  0.097137  0.072485  0.085110  0.069823  0.068418       SMDV  \n",
       "27  0.052114  0.084556  0.088716  0.043587  0.079113       SMDV  \n",
       "28  0.391215  0.381700  0.497494  0.505217  0.646212       SMDD  \n",
       "\n",
       "[5 rows x 1601 columns]"
      ]
     },
     "execution_count": 46,
     "metadata": {},
     "output_type": "execute_result"
    }
   ],
   "source": [
    "w0_sorted_new.tail()"
   ]
  },
  {
   "cell_type": "code",
   "execution_count": 36,
   "id": "b40283ac",
   "metadata": {},
   "outputs": [
    {
     "data": {
      "text/plain": [
       "0      NaN\n",
       "3      NaN\n",
       "4      NaN\n",
       "5      NaN\n",
       "6      NaN\n",
       "      ... \n",
       "24     RME\n",
       "25     RME\n",
       "26    SMDV\n",
       "27    SMDV\n",
       "28    SMDD\n",
       "Name: cell_type, Length: 132, dtype: object"
      ]
     },
     "execution_count": 36,
     "metadata": {},
     "output_type": "execute_result"
    }
   ],
   "source": [
    "w0_sorted_new['cell_type']"
   ]
  },
  {
   "cell_type": "code",
   "execution_count": 37,
   "id": "28991be2",
   "metadata": {},
   "outputs": [],
   "source": [
    "cluster_labels= w0_sorted_new['cell_type']"
   ]
  },
  {
   "cell_type": "code",
   "execution_count": 42,
   "id": "d2c7409d",
   "metadata": {},
   "outputs": [
    {
     "data": {
      "text/plain": [
       "0      NaN\n",
       "3      NaN\n",
       "4      NaN\n",
       "5      NaN\n",
       "6      NaN\n",
       "      ... \n",
       "24     RME\n",
       "25     RME\n",
       "26    SMDV\n",
       "27    SMDV\n",
       "28    SMDD\n",
       "Name: cell_type, Length: 132, dtype: object"
      ]
     },
     "execution_count": 42,
     "metadata": {},
     "output_type": "execute_result"
    }
   ],
   "source": [
    "cluster_labels"
   ]
  },
  {
   "cell_type": "code",
   "execution_count": 41,
   "id": "1c78c215",
   "metadata": {},
   "outputs": [
    {
     "data": {
      "text/html": [
       "<div>\n",
       "<style scoped>\n",
       "    .dataframe tbody tr th:only-of-type {\n",
       "        vertical-align: middle;\n",
       "    }\n",
       "\n",
       "    .dataframe tbody tr th {\n",
       "        vertical-align: top;\n",
       "    }\n",
       "\n",
       "    .dataframe thead th {\n",
       "        text-align: right;\n",
       "    }\n",
       "</style>\n",
       "<table border=\"1\" class=\"dataframe\">\n",
       "  <thead>\n",
       "    <tr style=\"text-align: right;\">\n",
       "      <th></th>\n",
       "      <th>x</th>\n",
       "      <th>y</th>\n",
       "      <th>z</th>\n",
       "    </tr>\n",
       "  </thead>\n",
       "  <tbody>\n",
       "    <tr>\n",
       "      <th>0</th>\n",
       "      <td>0.190662</td>\n",
       "      <td>0.824779</td>\n",
       "      <td>-0.502934</td>\n",
       "    </tr>\n",
       "    <tr>\n",
       "      <th>1</th>\n",
       "      <td>0.496151</td>\n",
       "      <td>0.847793</td>\n",
       "      <td>0.017802</td>\n",
       "    </tr>\n",
       "    <tr>\n",
       "      <th>2</th>\n",
       "      <td>-0.792777</td>\n",
       "      <td>0.546477</td>\n",
       "      <td>0.154164</td>\n",
       "    </tr>\n",
       "    <tr>\n",
       "      <th>3</th>\n",
       "      <td>0.710379</td>\n",
       "      <td>-0.457271</td>\n",
       "      <td>-0.475505</td>\n",
       "    </tr>\n",
       "    <tr>\n",
       "      <th>4</th>\n",
       "      <td>-0.204096</td>\n",
       "      <td>0.506127</td>\n",
       "      <td>-0.817986</td>\n",
       "    </tr>\n",
       "    <tr>\n",
       "      <th>...</th>\n",
       "      <td>...</td>\n",
       "      <td>...</td>\n",
       "      <td>...</td>\n",
       "    </tr>\n",
       "    <tr>\n",
       "      <th>127</th>\n",
       "      <td>0.831019</td>\n",
       "      <td>-0.207596</td>\n",
       "      <td>-0.459023</td>\n",
       "    </tr>\n",
       "    <tr>\n",
       "      <th>128</th>\n",
       "      <td>0.850412</td>\n",
       "      <td>-0.147163</td>\n",
       "      <td>-0.443119</td>\n",
       "    </tr>\n",
       "    <tr>\n",
       "      <th>129</th>\n",
       "      <td>0.838822</td>\n",
       "      <td>-0.504527</td>\n",
       "      <td>0.066947</td>\n",
       "    </tr>\n",
       "    <tr>\n",
       "      <th>130</th>\n",
       "      <td>0.847747</td>\n",
       "      <td>-0.491682</td>\n",
       "      <td>-0.048202</td>\n",
       "    </tr>\n",
       "    <tr>\n",
       "      <th>131</th>\n",
       "      <td>-0.140813</td>\n",
       "      <td>-0.017957</td>\n",
       "      <td>-0.972252</td>\n",
       "    </tr>\n",
       "  </tbody>\n",
       "</table>\n",
       "<p>132 rows × 3 columns</p>\n",
       "</div>"
      ],
      "text/plain": [
       "            x         y         z\n",
       "0    0.190662  0.824779 -0.502934\n",
       "1    0.496151  0.847793  0.017802\n",
       "2   -0.792777  0.546477  0.154164\n",
       "3    0.710379 -0.457271 -0.475505\n",
       "4   -0.204096  0.506127 -0.817986\n",
       "..        ...       ...       ...\n",
       "127  0.831019 -0.207596 -0.459023\n",
       "128  0.850412 -0.147163 -0.443119\n",
       "129  0.838822 -0.504527  0.066947\n",
       "130  0.847747 -0.491682 -0.048202\n",
       "131 -0.140813 -0.017957 -0.972252\n",
       "\n",
       "[132 rows x 3 columns]"
      ]
     },
     "execution_count": 41,
     "metadata": {},
     "output_type": "execute_result"
    }
   ],
   "source": [
    "hyperbolic_df"
   ]
  },
  {
   "cell_type": "code",
   "execution_count": null,
   "id": "cb072c57",
   "metadata": {},
   "outputs": [],
   "source": []
  },
  {
   "cell_type": "code",
   "execution_count": 47,
   "id": "59b02961",
   "metadata": {},
   "outputs": [],
   "source": [
    "hyperbolic_df['cells'] = cluster_labels.tolist()"
   ]
  },
  {
   "cell_type": "code",
   "execution_count": 48,
   "id": "b9ab026c",
   "metadata": {},
   "outputs": [
    {
     "data": {
      "text/html": [
       "<div>\n",
       "<style scoped>\n",
       "    .dataframe tbody tr th:only-of-type {\n",
       "        vertical-align: middle;\n",
       "    }\n",
       "\n",
       "    .dataframe tbody tr th {\n",
       "        vertical-align: top;\n",
       "    }\n",
       "\n",
       "    .dataframe thead th {\n",
       "        text-align: right;\n",
       "    }\n",
       "</style>\n",
       "<table border=\"1\" class=\"dataframe\">\n",
       "  <thead>\n",
       "    <tr style=\"text-align: right;\">\n",
       "      <th></th>\n",
       "      <th>x</th>\n",
       "      <th>y</th>\n",
       "      <th>z</th>\n",
       "      <th>cells</th>\n",
       "    </tr>\n",
       "  </thead>\n",
       "  <tbody>\n",
       "    <tr>\n",
       "      <th>0</th>\n",
       "      <td>0.190662</td>\n",
       "      <td>0.824779</td>\n",
       "      <td>-0.502934</td>\n",
       "      <td>NaN</td>\n",
       "    </tr>\n",
       "    <tr>\n",
       "      <th>1</th>\n",
       "      <td>0.496151</td>\n",
       "      <td>0.847793</td>\n",
       "      <td>0.017802</td>\n",
       "      <td>NaN</td>\n",
       "    </tr>\n",
       "    <tr>\n",
       "      <th>2</th>\n",
       "      <td>-0.792777</td>\n",
       "      <td>0.546477</td>\n",
       "      <td>0.154164</td>\n",
       "      <td>NaN</td>\n",
       "    </tr>\n",
       "    <tr>\n",
       "      <th>3</th>\n",
       "      <td>0.710379</td>\n",
       "      <td>-0.457271</td>\n",
       "      <td>-0.475505</td>\n",
       "      <td>NaN</td>\n",
       "    </tr>\n",
       "    <tr>\n",
       "      <th>4</th>\n",
       "      <td>-0.204096</td>\n",
       "      <td>0.506127</td>\n",
       "      <td>-0.817986</td>\n",
       "      <td>NaN</td>\n",
       "    </tr>\n",
       "    <tr>\n",
       "      <th>...</th>\n",
       "      <td>...</td>\n",
       "      <td>...</td>\n",
       "      <td>...</td>\n",
       "      <td>...</td>\n",
       "    </tr>\n",
       "    <tr>\n",
       "      <th>127</th>\n",
       "      <td>0.831019</td>\n",
       "      <td>-0.207596</td>\n",
       "      <td>-0.459023</td>\n",
       "      <td>RME</td>\n",
       "    </tr>\n",
       "    <tr>\n",
       "      <th>128</th>\n",
       "      <td>0.850412</td>\n",
       "      <td>-0.147163</td>\n",
       "      <td>-0.443119</td>\n",
       "      <td>RME</td>\n",
       "    </tr>\n",
       "    <tr>\n",
       "      <th>129</th>\n",
       "      <td>0.838822</td>\n",
       "      <td>-0.504527</td>\n",
       "      <td>0.066947</td>\n",
       "      <td>SMDV</td>\n",
       "    </tr>\n",
       "    <tr>\n",
       "      <th>130</th>\n",
       "      <td>0.847747</td>\n",
       "      <td>-0.491682</td>\n",
       "      <td>-0.048202</td>\n",
       "      <td>SMDV</td>\n",
       "    </tr>\n",
       "    <tr>\n",
       "      <th>131</th>\n",
       "      <td>-0.140813</td>\n",
       "      <td>-0.017957</td>\n",
       "      <td>-0.972252</td>\n",
       "      <td>SMDD</td>\n",
       "    </tr>\n",
       "  </tbody>\n",
       "</table>\n",
       "<p>132 rows × 4 columns</p>\n",
       "</div>"
      ],
      "text/plain": [
       "            x         y         z cells\n",
       "0    0.190662  0.824779 -0.502934   NaN\n",
       "1    0.496151  0.847793  0.017802   NaN\n",
       "2   -0.792777  0.546477  0.154164   NaN\n",
       "3    0.710379 -0.457271 -0.475505   NaN\n",
       "4   -0.204096  0.506127 -0.817986   NaN\n",
       "..        ...       ...       ...   ...\n",
       "127  0.831019 -0.207596 -0.459023   RME\n",
       "128  0.850412 -0.147163 -0.443119   RME\n",
       "129  0.838822 -0.504527  0.066947  SMDV\n",
       "130  0.847747 -0.491682 -0.048202  SMDV\n",
       "131 -0.140813 -0.017957 -0.972252  SMDD\n",
       "\n",
       "[132 rows x 4 columns]"
      ]
     },
     "execution_count": 48,
     "metadata": {},
     "output_type": "execute_result"
    }
   ],
   "source": [
    "hyperbolic_df"
   ]
  },
  {
   "cell_type": "code",
   "execution_count": 50,
   "id": "89f034a8",
   "metadata": {},
   "outputs": [],
   "source": [
    "hyperbolic_df['cells'] = hyperbolic_df['cells'].fillna('Unknown')"
   ]
  },
  {
   "cell_type": "code",
   "execution_count": 52,
   "id": "a64eb57c",
   "metadata": {},
   "outputs": [],
   "source": [
    "#save to plot as hyperboloid\n",
    "\n",
    "w0_hyperbolic_all = hyperbolic_df "
   ]
  },
  {
   "cell_type": "code",
   "execution_count": 53,
   "id": "6dbbf4f6",
   "metadata": {},
   "outputs": [
    {
     "name": "stdout",
     "output_type": "stream",
     "text": [
      "Stored 'w0_hyperbolic_all' (DataFrame)\n"
     ]
    }
   ],
   "source": [
    "%store w0_hyperbolic_all"
   ]
  },
  {
   "cell_type": "code",
   "execution_count": 51,
   "id": "09b7a13f",
   "metadata": {},
   "outputs": [
    {
     "data": {
      "application/vnd.plotly.v1+json": {
       "config": {
        "plotlyServerURL": "https://plot.ly"
       },
       "data": [
        {
         "hovertemplate": "cells=Unknown<br>x=%{x}<br>y=%{y}<br>z=%{z}<extra></extra>",
         "legendgroup": "Unknown",
         "marker": {
          "color": "#636efa",
          "symbol": "circle"
         },
         "mode": "markers",
         "name": "Unknown",
         "scene": "scene",
         "showlegend": true,
         "type": "scatter3d",
         "x": [
          0.1906620815650271,
          0.4961508742444481,
          -0.7927771964968923,
          0.7103794808505614,
          -0.20409630030203288,
          0.14476020566424058,
          0.3005045577064932,
          0.9406092797101678,
          -0.19602163040571438,
          0.6459035163264673,
          -0.029168507637074605,
          0.4040116534604505,
          -0.33156062255927,
          -0.13138702113168554,
          0.707614588558415,
          -0.39762809010892525,
          -0.2832268367208131,
          -0.19105921099158013,
          0.7474733293131501,
          0.1875719126355602,
          -0.5572847762875657,
          0.7581560585780852,
          -0.3254277361511499,
          -0.20792369482910725,
          0.690010817512657,
          0.6100028115348589,
          0.7245423933107518,
          -0.4461948242146655,
          0.7180226361992215,
          0.7545487325368581,
          0.8367846491123657,
          0.6213115769270742,
          0.4555484394907223,
          0.7937578765973493,
          0.5858270562347762,
          0.8749606679597289,
          -0.7989392140005918,
          0.9138757671776064,
          -0.03462114256463562,
          -0.40994377074661204,
          0.7968018491250255,
          -0.8408702600524869,
          -0.06000166165665224,
          0.1364973068611819,
          0.3796282037306151,
          -0.8554533363182023,
          0.9461183100518514,
          -0.3725797262047065,
          -0.7516510320277917,
          0.7730110776695671,
          0.10006532731205055,
          -0.5361786044992451,
          0.7702763328862795,
          0.5698367617279261,
          -0.0666835532280605,
          0.9486945467988226,
          0.037501542488129,
          -0.9288308349270683,
          -0.20044555307456358,
          -0.6483031092271435,
          -0.24047766264391773,
          -0.35635726644352334,
          -0.8669248177144536,
          -0.47888442582957835,
          0.46324232678673466,
          -0.7047432346324761,
          -0.8625461519828553,
          0.22050783609071323,
          -0.47917931773091343,
          0.7093377441409286,
          0.11350557535059046,
          -0.8427231345772027,
          -0.14228650827521558,
          -0.29197702860442026,
          0.4913838539266194,
          -0.18214043201407,
          -0.36673241467428513,
          -0.035119286301097404,
          0.19286889516892233,
          -0.8324973487530533,
          -0.9028921310140269,
          -0.36788448686547637,
          -0.20917733933866592,
          -0.525185277836318,
          -0.9008892254770337,
          -0.7323542616269217,
          -0.3744457753649847,
          -0.08755608119644474,
          0.27777560399731605,
          -0.31094304511067006,
          0.56177048850518,
          -0.8777642010667568,
          -0.26105933005201876,
          -0.4657476883035688,
          -0.15195816751375188,
          -0.4308782037426758,
          -0.433052844357678,
          -0.7035243477159109,
          -0.6388843652400135,
          -0.8286051385888413,
          -0.6415200279670178,
          0.33547185984060807,
          -0.4496132692665215
         ],
         "y": [
          0.8247790476898615,
          0.8477930001838946,
          0.5464768175717994,
          -0.4572713160400562,
          0.5061274665388527,
          -0.3928371225142894,
          0.8458477748960016,
          -0.045854819701865175,
          -0.9231884305577965,
          0.6006154939020475,
          -0.7277226772551715,
          -0.6294413607857088,
          -0.6841504929641119,
          -0.6956402858073745,
          0.45955681980225527,
          -0.3941867844354262,
          -0.8477280549104373,
          -0.9373151891367456,
          0.5797074136246855,
          -0.5545116484555965,
          -0.7608922190759206,
          -0.2816181723222728,
          -0.10661156521019427,
          -0.4701352781270355,
          0.5482236417868279,
          0.5229253166652594,
          -0.5793394916640215,
          -0.5725106705809354,
          0.35182080769357565,
          0.49559373102899507,
          -0.2540154190208037,
          -0.5451501280303692,
          -0.8553485624285259,
          -0.22926911318807663,
          -0.6249829938468118,
          0.13256675498948878,
          0.5482100582148952,
          -0.2406074255480099,
          0.2719820729497044,
          -0.8450884550808824,
          -0.2533670907177455,
          -0.3195904369814873,
          -0.8860666872851466,
          -0.15609900357131185,
          -0.26770114945745727,
          0.40938919582661565,
          0.0008342404942713611,
          -0.19637953112389572,
          -0.28663460870163165,
          0.16561066548125253,
          0.11336999737991055,
          -0.373931739705134,
          -0.23533016155903103,
          0.5438833860532379,
          -0.09051075151052561,
          0.11406957313665918,
          0.0031814066605907886,
          -0.24359880349891894,
          -0.23551967806885338,
          0.13882761722840864,
          -0.16271347896569094,
          -0.2776795867080775,
          0.02887193478285626,
          0.09710719035280524,
          -0.2350371056819704,
          0.2757995205295362,
          0.1604510784866795,
          -0.08034065469863874,
          -0.32671424167206525,
          -0.38464245077136067,
          0.9758539604601,
          -0.1689347218566704,
          -0.006161103450850428,
          -0.023534302229168757,
          -0.8130347779558916,
          -0.09069869342561708,
          -0.23033809390955992,
          0.03926296489263755,
          -0.9245319330695482,
          -0.3694718641142463,
          0.05674530426266907,
          -0.3545078274433477,
          -0.13612294746845405,
          -0.380792925472122,
          -0.34481278957136846,
          -0.40221699476661116,
          -0.33736510579496404,
          -0.34044196754390726,
          0.0020254330096089136,
          -0.22724554560879964,
          -0.5074311621106886,
          -0.01116579028354197,
          0.3077435261905851,
          0.2051778455284392,
          -0.15773590314552216,
          -0.30789098966052525,
          -0.2775207933500029,
          -0.05756156638974861,
          -0.6429935086086458,
          -0.49079781435276715,
          -0.4315698201114846,
          -0.576322121167768,
          -0.32984927167241496
         ],
         "z": [
          -0.5029338427473546,
          0.017802165086611147,
          0.15416360137566032,
          -0.4755053789903846,
          -0.8179861899983648,
          0.8782161020596218,
          -0.39924179441329966,
          -0.2407155824052469,
          0.25963084080708404,
          0.4106334959020975,
          0.6487799284223058,
          0.5706460297028575,
          0.5867152371825854,
          -0.6802660336468458,
          0.49351485645468146,
          0.7748065681415207,
          -0.36708615073727174,
          -0.02167565395119325,
          0.19532738711926775,
          0.7704384371831201,
          -0.25513220256759817,
          -0.5367079095730154,
          0.905022078633635,
          0.8308300937362819,
          0.3870186031198673,
          0.5377249973762899,
          -0.2748416207897511,
          0.6323414068152255,
          -0.5423119225280236,
          0.3364089958736613,
          -0.426698836381062,
          -0.5115872223225999,
          -0.11136847884086057,
          -0.498652417248574,
          0.42630177098569916,
          -0.3978855976714149,
          0.1372070412903432,
          -0.15758681438024558,
          0.9340253840837177,
          0.17603583172981652,
          -0.48861050880069534,
          -0.38361805161333706,
          -0.40819023270422383,
          0.9441794075720332,
          -0.8537091853777163,
          -0.20795717391966778,
          -0.23260749712238205,
          0.8692644795331835,
          0.5447983093372091,
          -0.557229586248027,
          0.9529398307257255,
          -0.7244763069903845,
          -0.5422988623558727,
          0.5604490923403059,
          0.9631461742303075,
          -0.16889395143697641,
          0.9678061159834871,
          -0.13353907777943605,
          0.9179760439495794,
          -0.705822854149308,
          0.913773147051192,
          0.845120840828538,
          -0.4337300957485724,
          -0.8394661060762242,
          0.7984851898522676,
          0.5970821886268681,
          -0.4265321381150918,
          0.9356117191787954,
          0.7612719015719933,
          0.5404084168983517,
          -0.027275814992397646,
          -0.4605284767724886,
          0.9545782043450489,
          0.9168734001707772,
          0.17900933259460478,
          0.9390832629988015,
          0.8607950271223009,
          0.966477353658937,
          -0.2649857485772509,
          0.33902364613858543,
          -0.3551091373620414,
          -0.8284199965763425,
          0.9296546183268615,
          0.7093991374165646,
          0.10154795695655917,
          0.48066847003193264,
          0.8297504061566886,
          0.9012086567693152,
          0.9297741132798674,
          0.8799653994659008,
          0.5934456925215026,
          -0.4152518609045396,
          0.8848375078092137,
          0.8287257140736044,
          0.930860733367248,
          0.8053825701733651,
          0.8176520131111199,
          0.6697512441917901,
          0.3602980448484355,
          0.10716812445965239,
          0.5849412794899701,
          -0.705452196770289,
          0.7824112720880353
         ]
        },
        {
         "hovertemplate": "cells=ON<br>x=%{x}<br>y=%{y}<br>z=%{z}<extra></extra>",
         "legendgroup": "ON",
         "marker": {
          "color": "#EF553B",
          "symbol": "circle"
         },
         "mode": "markers",
         "name": "ON",
         "scene": "scene",
         "showlegend": true,
         "type": "scatter3d",
         "x": [
          -0.11823853696975464,
          -0.1692318677670953,
          -0.20331224315775984,
          -0.11011172562828206,
          -0.14509434425316176,
          -0.2733160585957547,
          -0.6083103861930425,
          -0.9112254095518454
         ],
         "y": [
          0.8494272461345779,
          0.8527771648387418,
          0.8013024692390707,
          0.8489803730743892,
          0.7080387106087422,
          -0.5382468533488136,
          -0.5828732956963547,
          -0.09757729800422964
         ],
         "z": [
          0.4676756662852651,
          0.4525917156592548,
          0.513116655636487,
          0.4696130949488402,
          0.6542663792082121,
          0.7691593825936999,
          -0.4932439792234303,
          0.3318896535275633
         ]
        },
        {
         "hovertemplate": "cells=OFF<br>x=%{x}<br>y=%{y}<br>z=%{z}<extra></extra>",
         "legendgroup": "OFF",
         "marker": {
          "color": "#00cc96",
          "symbol": "circle"
         },
         "mode": "markers",
         "name": "OFF",
         "scene": "scene",
         "showlegend": true,
         "type": "scatter3d",
         "x": [
          -0.46488324384592605,
          0.21014215369634562,
          -0.32300371691264024,
          -0.3785254463476488,
          -0.28510629952569033,
          -0.6299554906263573,
          0.278292410128915
         ],
         "y": [
          0.8409422773012615,
          0.39569688552038423,
          0.8033625650022388,
          0.9024930473427263,
          0.8327495048319709,
          0.5168625262291054,
          -0.2108938047147034
         ],
         "z": [
          -0.18626979180483524,
          -0.8695812296262425,
          -0.44863791569025135,
          -0.04823115283646635,
          -0.41646410794550187,
          -0.5426317797108473,
          0.9032655650865745
         ]
        },
        {
         "hovertemplate": "cells=AVA<br>x=%{x}<br>y=%{y}<br>z=%{z}<extra></extra>",
         "legendgroup": "AVA",
         "marker": {
          "color": "#ab63fa",
          "symbol": "circle"
         },
         "mode": "markers",
         "name": "AVA",
         "scene": "scene",
         "showlegend": true,
         "type": "scatter3d",
         "x": [
          0.8464500710442137,
          0.8874126200681383,
          0.8667763563204959,
          0.8338199614098885,
          0.8228208171337269,
          0.8871788138130217
         ],
         "y": [
          -0.10093302787528319,
          -0.09155994597904862,
          -0.10337234363311128,
          -0.054479399964163344,
          0.00033671976081791006,
          -0.06090443780267807
         ],
         "z": [
          -0.4537136219202949,
          -0.3782924033688997,
          -0.4281715091135527,
          -0.4907167190432904,
          -0.5079846922778978,
          -0.39208426267200863
         ]
        },
        {
         "hovertemplate": "cells=RME<br>x=%{x}<br>y=%{y}<br>z=%{z}<extra></extra>",
         "legendgroup": "RME",
         "marker": {
          "color": "#FFA15A",
          "symbol": "circle"
         },
         "mode": "markers",
         "name": "RME",
         "scene": "scene",
         "showlegend": true,
         "type": "scatter3d",
         "x": [
          0.8408955078112846,
          0.8358792097886265,
          0.8542832033587544,
          0.8310189082715194,
          0.8504123241702651
         ],
         "y": [
          -0.13789807771389814,
          -0.15095566187290305,
          -0.2000804308741031,
          -0.20759554402313357,
          -0.14716257759063184
         ],
         "z": [
          -0.46091358471004823,
          -0.4676979490783079,
          -0.4151954233288694,
          -0.4590227302712516,
          -0.4431187998358743
         ]
        },
        {
         "hovertemplate": "cells=SMDV<br>x=%{x}<br>y=%{y}<br>z=%{z}<extra></extra>",
         "legendgroup": "SMDV",
         "marker": {
          "color": "#19d3f3",
          "symbol": "circle"
         },
         "mode": "markers",
         "name": "SMDV",
         "scene": "scene",
         "showlegend": true,
         "type": "scatter3d",
         "x": [
          0.8388218483785471,
          0.8477470627574958
         ],
         "y": [
          -0.5045271017237302,
          -0.4916817114658839
         ],
         "z": [
          0.0669467181819626,
          -0.04820189084419167
         ]
        },
        {
         "hovertemplate": "cells=SMDD<br>x=%{x}<br>y=%{y}<br>z=%{z}<extra></extra>",
         "legendgroup": "SMDD",
         "marker": {
          "color": "#FF6692",
          "symbol": "circle"
         },
         "mode": "markers",
         "name": "SMDD",
         "scene": "scene",
         "showlegend": true,
         "type": "scatter3d",
         "x": [
          -0.14081278254005525
         ],
         "y": [
          -0.017957447371611833
         ],
         "z": [
          -0.97225177571394
         ]
        }
       ],
       "layout": {
        "legend": {
         "title": {
          "text": "cells"
         },
         "tracegroupgap": 0
        },
        "scene": {
         "domain": {
          "x": [
           0,
           1
          ],
          "y": [
           0,
           1
          ]
         },
         "xaxis": {
          "ticktext": [
           -1,
           -0.5,
           0,
           0.5,
           1
          ],
          "title": {
           "text": "x"
          }
         },
         "yaxis": {
          "ticktext": [
           -1,
           -0.5,
           0,
           0.5,
           1
          ],
          "title": {
           "text": "y"
          }
         },
         "zaxis": {
          "ticktext": [
           -1,
           -0.5,
           0,
           0.5,
           1
          ],
          "title": {
           "text": "z"
          }
         }
        },
        "template": {
         "data": {
          "bar": [
           {
            "error_x": {
             "color": "#2a3f5f"
            },
            "error_y": {
             "color": "#2a3f5f"
            },
            "marker": {
             "line": {
              "color": "#E5ECF6",
              "width": 0.5
             },
             "pattern": {
              "fillmode": "overlay",
              "size": 10,
              "solidity": 0.2
             }
            },
            "type": "bar"
           }
          ],
          "barpolar": [
           {
            "marker": {
             "line": {
              "color": "#E5ECF6",
              "width": 0.5
             },
             "pattern": {
              "fillmode": "overlay",
              "size": 10,
              "solidity": 0.2
             }
            },
            "type": "barpolar"
           }
          ],
          "carpet": [
           {
            "aaxis": {
             "endlinecolor": "#2a3f5f",
             "gridcolor": "white",
             "linecolor": "white",
             "minorgridcolor": "white",
             "startlinecolor": "#2a3f5f"
            },
            "baxis": {
             "endlinecolor": "#2a3f5f",
             "gridcolor": "white",
             "linecolor": "white",
             "minorgridcolor": "white",
             "startlinecolor": "#2a3f5f"
            },
            "type": "carpet"
           }
          ],
          "choropleth": [
           {
            "colorbar": {
             "outlinewidth": 0,
             "ticks": ""
            },
            "type": "choropleth"
           }
          ],
          "contour": [
           {
            "colorbar": {
             "outlinewidth": 0,
             "ticks": ""
            },
            "colorscale": [
             [
              0,
              "#0d0887"
             ],
             [
              0.1111111111111111,
              "#46039f"
             ],
             [
              0.2222222222222222,
              "#7201a8"
             ],
             [
              0.3333333333333333,
              "#9c179e"
             ],
             [
              0.4444444444444444,
              "#bd3786"
             ],
             [
              0.5555555555555556,
              "#d8576b"
             ],
             [
              0.6666666666666666,
              "#ed7953"
             ],
             [
              0.7777777777777778,
              "#fb9f3a"
             ],
             [
              0.8888888888888888,
              "#fdca26"
             ],
             [
              1,
              "#f0f921"
             ]
            ],
            "type": "contour"
           }
          ],
          "contourcarpet": [
           {
            "colorbar": {
             "outlinewidth": 0,
             "ticks": ""
            },
            "type": "contourcarpet"
           }
          ],
          "heatmap": [
           {
            "colorbar": {
             "outlinewidth": 0,
             "ticks": ""
            },
            "colorscale": [
             [
              0,
              "#0d0887"
             ],
             [
              0.1111111111111111,
              "#46039f"
             ],
             [
              0.2222222222222222,
              "#7201a8"
             ],
             [
              0.3333333333333333,
              "#9c179e"
             ],
             [
              0.4444444444444444,
              "#bd3786"
             ],
             [
              0.5555555555555556,
              "#d8576b"
             ],
             [
              0.6666666666666666,
              "#ed7953"
             ],
             [
              0.7777777777777778,
              "#fb9f3a"
             ],
             [
              0.8888888888888888,
              "#fdca26"
             ],
             [
              1,
              "#f0f921"
             ]
            ],
            "type": "heatmap"
           }
          ],
          "heatmapgl": [
           {
            "colorbar": {
             "outlinewidth": 0,
             "ticks": ""
            },
            "colorscale": [
             [
              0,
              "#0d0887"
             ],
             [
              0.1111111111111111,
              "#46039f"
             ],
             [
              0.2222222222222222,
              "#7201a8"
             ],
             [
              0.3333333333333333,
              "#9c179e"
             ],
             [
              0.4444444444444444,
              "#bd3786"
             ],
             [
              0.5555555555555556,
              "#d8576b"
             ],
             [
              0.6666666666666666,
              "#ed7953"
             ],
             [
              0.7777777777777778,
              "#fb9f3a"
             ],
             [
              0.8888888888888888,
              "#fdca26"
             ],
             [
              1,
              "#f0f921"
             ]
            ],
            "type": "heatmapgl"
           }
          ],
          "histogram": [
           {
            "marker": {
             "pattern": {
              "fillmode": "overlay",
              "size": 10,
              "solidity": 0.2
             }
            },
            "type": "histogram"
           }
          ],
          "histogram2d": [
           {
            "colorbar": {
             "outlinewidth": 0,
             "ticks": ""
            },
            "colorscale": [
             [
              0,
              "#0d0887"
             ],
             [
              0.1111111111111111,
              "#46039f"
             ],
             [
              0.2222222222222222,
              "#7201a8"
             ],
             [
              0.3333333333333333,
              "#9c179e"
             ],
             [
              0.4444444444444444,
              "#bd3786"
             ],
             [
              0.5555555555555556,
              "#d8576b"
             ],
             [
              0.6666666666666666,
              "#ed7953"
             ],
             [
              0.7777777777777778,
              "#fb9f3a"
             ],
             [
              0.8888888888888888,
              "#fdca26"
             ],
             [
              1,
              "#f0f921"
             ]
            ],
            "type": "histogram2d"
           }
          ],
          "histogram2dcontour": [
           {
            "colorbar": {
             "outlinewidth": 0,
             "ticks": ""
            },
            "colorscale": [
             [
              0,
              "#0d0887"
             ],
             [
              0.1111111111111111,
              "#46039f"
             ],
             [
              0.2222222222222222,
              "#7201a8"
             ],
             [
              0.3333333333333333,
              "#9c179e"
             ],
             [
              0.4444444444444444,
              "#bd3786"
             ],
             [
              0.5555555555555556,
              "#d8576b"
             ],
             [
              0.6666666666666666,
              "#ed7953"
             ],
             [
              0.7777777777777778,
              "#fb9f3a"
             ],
             [
              0.8888888888888888,
              "#fdca26"
             ],
             [
              1,
              "#f0f921"
             ]
            ],
            "type": "histogram2dcontour"
           }
          ],
          "mesh3d": [
           {
            "colorbar": {
             "outlinewidth": 0,
             "ticks": ""
            },
            "type": "mesh3d"
           }
          ],
          "parcoords": [
           {
            "line": {
             "colorbar": {
              "outlinewidth": 0,
              "ticks": ""
             }
            },
            "type": "parcoords"
           }
          ],
          "pie": [
           {
            "automargin": true,
            "type": "pie"
           }
          ],
          "scatter": [
           {
            "fillpattern": {
             "fillmode": "overlay",
             "size": 10,
             "solidity": 0.2
            },
            "type": "scatter"
           }
          ],
          "scatter3d": [
           {
            "line": {
             "colorbar": {
              "outlinewidth": 0,
              "ticks": ""
             }
            },
            "marker": {
             "colorbar": {
              "outlinewidth": 0,
              "ticks": ""
             }
            },
            "type": "scatter3d"
           }
          ],
          "scattercarpet": [
           {
            "marker": {
             "colorbar": {
              "outlinewidth": 0,
              "ticks": ""
             }
            },
            "type": "scattercarpet"
           }
          ],
          "scattergeo": [
           {
            "marker": {
             "colorbar": {
              "outlinewidth": 0,
              "ticks": ""
             }
            },
            "type": "scattergeo"
           }
          ],
          "scattergl": [
           {
            "marker": {
             "colorbar": {
              "outlinewidth": 0,
              "ticks": ""
             }
            },
            "type": "scattergl"
           }
          ],
          "scattermapbox": [
           {
            "marker": {
             "colorbar": {
              "outlinewidth": 0,
              "ticks": ""
             }
            },
            "type": "scattermapbox"
           }
          ],
          "scatterpolar": [
           {
            "marker": {
             "colorbar": {
              "outlinewidth": 0,
              "ticks": ""
             }
            },
            "type": "scatterpolar"
           }
          ],
          "scatterpolargl": [
           {
            "marker": {
             "colorbar": {
              "outlinewidth": 0,
              "ticks": ""
             }
            },
            "type": "scatterpolargl"
           }
          ],
          "scatterternary": [
           {
            "marker": {
             "colorbar": {
              "outlinewidth": 0,
              "ticks": ""
             }
            },
            "type": "scatterternary"
           }
          ],
          "surface": [
           {
            "colorbar": {
             "outlinewidth": 0,
             "ticks": ""
            },
            "colorscale": [
             [
              0,
              "#0d0887"
             ],
             [
              0.1111111111111111,
              "#46039f"
             ],
             [
              0.2222222222222222,
              "#7201a8"
             ],
             [
              0.3333333333333333,
              "#9c179e"
             ],
             [
              0.4444444444444444,
              "#bd3786"
             ],
             [
              0.5555555555555556,
              "#d8576b"
             ],
             [
              0.6666666666666666,
              "#ed7953"
             ],
             [
              0.7777777777777778,
              "#fb9f3a"
             ],
             [
              0.8888888888888888,
              "#fdca26"
             ],
             [
              1,
              "#f0f921"
             ]
            ],
            "type": "surface"
           }
          ],
          "table": [
           {
            "cells": {
             "fill": {
              "color": "#EBF0F8"
             },
             "line": {
              "color": "white"
             }
            },
            "header": {
             "fill": {
              "color": "#C8D4E3"
             },
             "line": {
              "color": "white"
             }
            },
            "type": "table"
           }
          ]
         },
         "layout": {
          "annotationdefaults": {
           "arrowcolor": "#2a3f5f",
           "arrowhead": 0,
           "arrowwidth": 1
          },
          "autotypenumbers": "strict",
          "coloraxis": {
           "colorbar": {
            "outlinewidth": 0,
            "ticks": ""
           }
          },
          "colorscale": {
           "diverging": [
            [
             0,
             "#8e0152"
            ],
            [
             0.1,
             "#c51b7d"
            ],
            [
             0.2,
             "#de77ae"
            ],
            [
             0.3,
             "#f1b6da"
            ],
            [
             0.4,
             "#fde0ef"
            ],
            [
             0.5,
             "#f7f7f7"
            ],
            [
             0.6,
             "#e6f5d0"
            ],
            [
             0.7,
             "#b8e186"
            ],
            [
             0.8,
             "#7fbc41"
            ],
            [
             0.9,
             "#4d9221"
            ],
            [
             1,
             "#276419"
            ]
           ],
           "sequential": [
            [
             0,
             "#0d0887"
            ],
            [
             0.1111111111111111,
             "#46039f"
            ],
            [
             0.2222222222222222,
             "#7201a8"
            ],
            [
             0.3333333333333333,
             "#9c179e"
            ],
            [
             0.4444444444444444,
             "#bd3786"
            ],
            [
             0.5555555555555556,
             "#d8576b"
            ],
            [
             0.6666666666666666,
             "#ed7953"
            ],
            [
             0.7777777777777778,
             "#fb9f3a"
            ],
            [
             0.8888888888888888,
             "#fdca26"
            ],
            [
             1,
             "#f0f921"
            ]
           ],
           "sequentialminus": [
            [
             0,
             "#0d0887"
            ],
            [
             0.1111111111111111,
             "#46039f"
            ],
            [
             0.2222222222222222,
             "#7201a8"
            ],
            [
             0.3333333333333333,
             "#9c179e"
            ],
            [
             0.4444444444444444,
             "#bd3786"
            ],
            [
             0.5555555555555556,
             "#d8576b"
            ],
            [
             0.6666666666666666,
             "#ed7953"
            ],
            [
             0.7777777777777778,
             "#fb9f3a"
            ],
            [
             0.8888888888888888,
             "#fdca26"
            ],
            [
             1,
             "#f0f921"
            ]
           ]
          },
          "colorway": [
           "#636efa",
           "#EF553B",
           "#00cc96",
           "#ab63fa",
           "#FFA15A",
           "#19d3f3",
           "#FF6692",
           "#B6E880",
           "#FF97FF",
           "#FECB52"
          ],
          "font": {
           "color": "#2a3f5f"
          },
          "geo": {
           "bgcolor": "white",
           "lakecolor": "white",
           "landcolor": "#E5ECF6",
           "showlakes": true,
           "showland": true,
           "subunitcolor": "white"
          },
          "hoverlabel": {
           "align": "left"
          },
          "hovermode": "closest",
          "mapbox": {
           "style": "light"
          },
          "paper_bgcolor": "white",
          "plot_bgcolor": "#E5ECF6",
          "polar": {
           "angularaxis": {
            "gridcolor": "white",
            "linecolor": "white",
            "ticks": ""
           },
           "bgcolor": "#E5ECF6",
           "radialaxis": {
            "gridcolor": "white",
            "linecolor": "white",
            "ticks": ""
           }
          },
          "scene": {
           "xaxis": {
            "backgroundcolor": "#E5ECF6",
            "gridcolor": "white",
            "gridwidth": 2,
            "linecolor": "white",
            "showbackground": true,
            "ticks": "",
            "zerolinecolor": "white"
           },
           "yaxis": {
            "backgroundcolor": "#E5ECF6",
            "gridcolor": "white",
            "gridwidth": 2,
            "linecolor": "white",
            "showbackground": true,
            "ticks": "",
            "zerolinecolor": "white"
           },
           "zaxis": {
            "backgroundcolor": "#E5ECF6",
            "gridcolor": "white",
            "gridwidth": 2,
            "linecolor": "white",
            "showbackground": true,
            "ticks": "",
            "zerolinecolor": "white"
           }
          },
          "shapedefaults": {
           "line": {
            "color": "#2a3f5f"
           }
          },
          "ternary": {
           "aaxis": {
            "gridcolor": "white",
            "linecolor": "white",
            "ticks": ""
           },
           "baxis": {
            "gridcolor": "white",
            "linecolor": "white",
            "ticks": ""
           },
           "bgcolor": "#E5ECF6",
           "caxis": {
            "gridcolor": "white",
            "linecolor": "white",
            "ticks": ""
           }
          },
          "title": {
           "x": 0.05
          },
          "xaxis": {
           "automargin": true,
           "gridcolor": "white",
           "linecolor": "white",
           "ticks": "",
           "title": {
            "standoff": 15
           },
           "zerolinecolor": "white",
           "zerolinewidth": 2
          },
          "yaxis": {
           "automargin": true,
           "gridcolor": "white",
           "linecolor": "white",
           "ticks": "",
           "title": {
            "standoff": 15
           },
           "zerolinecolor": "white",
           "zerolinewidth": 2
          }
         }
        },
        "title": {
         "text": "ON and OFF Neurons: Bacterial Stimulus No. 0"
        }
       }
      }
     },
     "metadata": {},
     "output_type": "display_data"
    }
   ],
   "source": [
    "\n",
    "\n",
    "# Create a scatter plot\n",
    "# fig = px.scatter_3d(data_frame = hyperbolic_df, x= 'x', y = 'y', z= 'z', title='AVA and RME: Stimulus 0', color = 'cluster labels') #cornflowerblue, lightcoral\n",
    "\n",
    "fig = px.scatter_3d(data_frame = hyperbolic_df, x= 'x', y = 'y', z= 'z', title='ON and OFF Neurons: Bacterial Stimulus No. 0',  color ='cells') #cornflowerblue, lightcoral\n",
    "fig.update_layout(\n",
    "    scene=dict(\n",
    "        xaxis=dict(ticktext=[-1, -0.5, 0, 0.5, 1]),\n",
    "        yaxis=dict(ticktext=[-1, -0.5, 0, 0.5, 1]),\n",
    "        zaxis=dict(ticktext=[-1, -0.5, 0, 0.5, 1]),\n",
    "    )\n",
    ")\n",
    "\n",
    "fig.show()"
   ]
  },
  {
   "cell_type": "code",
   "execution_count": 43,
   "id": "b3cd3456",
   "metadata": {},
   "outputs": [
    {
     "data": {
      "application/vnd.plotly.v1+json": {
       "config": {
        "plotlyServerURL": "https://plot.ly"
       },
       "data": [
        {
         "hovertemplate": "cluster labels=ON<br>X=%{x}<br>Y=%{y}<br>Z=%{z}<extra></extra>",
         "legendgroup": "ON",
         "marker": {
          "color": "teal",
          "opacity": 0.6,
          "size": 10,
          "symbol": "circle"
         },
         "mode": "markers",
         "name": "ON",
         "scene": "scene",
         "showlegend": true,
         "type": "scatter3d",
         "x": [
          0.12626865417522884,
          0.18127242552837175,
          0.2973325401482394,
          0.1091611016828927,
          0.08768738599999777,
          0.4683594314770854,
          0.24258101048351735,
          -0.8509632683602046
         ],
         "y": [
          -0.614478855549722,
          -0.5527058828229996,
          -0.5291010105829781,
          -0.6176884444014504,
          -0.38305173771475365,
          -0.3924221272750454,
          -0.6211033076346155,
          -0.38337502513773264
         ],
         "z": [
          0.7058034013587962,
          0.7495078961884303,
          0.729667207617921,
          0.7053479022105472,
          0.870663835358495,
          0.7365368115309698,
          0.6741352759473567,
          0.2186128009909014
         ]
        },
        {
         "hovertemplate": "cluster labels=OFF<br>X=%{x}<br>Y=%{y}<br>Z=%{z}<extra></extra>",
         "legendgroup": "OFF",
         "marker": {
          "color": "#FF8C00",
          "opacity": 0.6,
          "size": 10,
          "symbol": "circle"
         },
         "mode": "markers",
         "name": "OFF",
         "scene": "scene",
         "showlegend": true,
         "type": "scatter3d",
         "x": [
          -0.046809658052323753,
          -0.7224262912806104,
          -0.005303210802622189,
          -0.20042557475807452,
          -0.06695857327382215,
          0.4823870932937495,
          -0.7059547294391415
         ],
         "y": [
          -0.9148122879052072,
          0.30713854344088776,
          -0.4644574337559043,
          -0.9184408835643347,
          -0.4055366322235383,
          -0.6335525884550713,
          -0.507726884589872
         ],
         "z": [
          -0.2299988661018551,
          0.529764156576724,
          -0.8248371217701973,
          0.005630798566249997,
          -0.8530406761642022,
          -0.5328739426861666,
          -0.39689761539984875
         ]
        },
        {
         "hovertemplate": "cluster labels=AVA<br>X=%{x}<br>Y=%{y}<br>Z=%{z}<extra></extra>",
         "legendgroup": "AVA",
         "marker": {
          "color": "red",
          "opacity": 0.6,
          "size": 10,
          "symbol": "circle"
         },
         "mode": "markers",
         "name": "AVA",
         "scene": "scene",
         "showlegend": true,
         "type": "scatter3d",
         "x": [
          0.10216528893177793,
          0.03444059710684512,
          0.017292533730533906,
          0.17658938866738355,
          0.24810769170199196,
          0.08972052611351813
         ],
         "y": [
          0.9017798656102902,
          0.9352242382276471,
          0.9238672460422488,
          0.8776946069569982,
          0.8520605510451298,
          0.935482748860759
         ],
         "z": [
          -0.19763465830541332,
          -0.09559585582862598,
          -0.16647177665265492,
          -0.2593105700242825,
          -0.25206394237326085,
          -0.08563219261330914
         ]
        },
        {
         "hovertemplate": "cluster labels=RME<br>X=%{x}<br>Y=%{y}<br>Z=%{z}<extra></extra>",
         "legendgroup": "RME",
         "marker": {
          "color": "blue",
          "opacity": 0.6,
          "size": 10,
          "symbol": "circle"
         },
         "mode": "markers",
         "name": "RME",
         "scene": "scene",
         "showlegend": true,
         "type": "scatter3d",
         "x": [
          0.030214511650101313,
          0.014321816238164229,
          0.06367779707902199,
          -0.012640661873920487,
          0.05873141561859707
         ],
         "y": [
          0.9056278170247685,
          0.9051217747943395,
          0.8529037658712941,
          0.8726827806899368,
          0.8921564415427756
         ],
         "z": [
          -0.22988451312924546,
          -0.2498286130037949,
          -0.3625241953750861,
          -0.34004411187852435,
          -0.2667589248034304
         ]
        },
        {
         "hovertemplate": "cluster labels=SMDV<br>X=%{x}<br>Y=%{y}<br>Z=%{z}<extra></extra>",
         "legendgroup": "SMDV",
         "marker": {
          "color": "purple",
          "opacity": 0.6,
          "size": 10,
          "symbol": "circle"
         },
         "mode": "markers",
         "name": "SMDV",
         "scene": "scene",
         "showlegend": true,
         "type": "scatter3d",
         "x": [
          -0.7232906214987062,
          -0.5581590605536182
         ],
         "y": [
          0.49351544257721064,
          0.604858393265986
         ],
         "z": [
          -0.37582826489914223,
          -0.4733081376723189
         ]
        },
        {
         "hovertemplate": "cluster labels=SMDD<br>X=%{x}<br>Y=%{y}<br>Z=%{z}<extra></extra>",
         "legendgroup": "SMDD",
         "marker": {
          "color": "yellow",
          "opacity": 0.6,
          "size": 10,
          "symbol": "circle"
         },
         "mode": "markers",
         "name": "SMDD",
         "scene": "scene",
         "showlegend": true,
         "type": "scatter3d",
         "x": [
          0.9225253761179952
         ],
         "y": [
          -0.019714492369119947
         ],
         "z": [
          -0.2834071298354813
         ]
        }
       ],
       "layout": {
        "autosize": true,
        "height": 500,
        "legend": {
         "font": {
          "size": 10
         },
         "title": {
          "font": {
           "size": 12
          },
          "text": "Cluster Labels"
         },
         "tracegroupgap": 0
        },
        "margin": {
         "b": 90,
         "l": 20,
         "r": 20,
         "t": 40
        },
        "scene": {
         "domain": {
          "x": [
           0,
           1
          ],
          "y": [
           0,
           1
          ]
         },
         "xaxis": {
          "tickfont": {
           "size": 15
          },
          "ticktext": [
           "-1",
           "-0.5",
           "0",
           "0.5",
           "1"
          ],
          "tickvals": [
           -1,
           -0.5,
           0,
           0.5,
           1
          ],
          "title": {
           "font": {
            "size": 20
           },
           "text": "X"
          }
         },
         "yaxis": {
          "tickfont": {
           "size": 15
          },
          "ticktext": [
           "-1",
           "-0.5",
           "0",
           "0.5",
           "1"
          ],
          "tickvals": [
           -1,
           -0.5,
           0,
           0.5,
           1
          ],
          "title": {
           "font": {
            "size": 20
           },
           "text": "Y "
          }
         },
         "zaxis": {
          "tickfont": {
           "size": 15
          },
          "ticktext": [
           "-1",
           "-0.5",
           "0",
           "0.5",
           "1"
          ],
          "tickvals": [
           -1,
           -0.5,
           0,
           0.5,
           1
          ],
          "title": {
           "font": {
            "size": 20
           },
           "text": "Z "
          }
         }
        },
        "template": {
         "data": {
          "bar": [
           {
            "error_x": {
             "color": "#2a3f5f"
            },
            "error_y": {
             "color": "#2a3f5f"
            },
            "marker": {
             "line": {
              "color": "#E5ECF6",
              "width": 0.5
             },
             "pattern": {
              "fillmode": "overlay",
              "size": 10,
              "solidity": 0.2
             }
            },
            "type": "bar"
           }
          ],
          "barpolar": [
           {
            "marker": {
             "line": {
              "color": "#E5ECF6",
              "width": 0.5
             },
             "pattern": {
              "fillmode": "overlay",
              "size": 10,
              "solidity": 0.2
             }
            },
            "type": "barpolar"
           }
          ],
          "carpet": [
           {
            "aaxis": {
             "endlinecolor": "#2a3f5f",
             "gridcolor": "white",
             "linecolor": "white",
             "minorgridcolor": "white",
             "startlinecolor": "#2a3f5f"
            },
            "baxis": {
             "endlinecolor": "#2a3f5f",
             "gridcolor": "white",
             "linecolor": "white",
             "minorgridcolor": "white",
             "startlinecolor": "#2a3f5f"
            },
            "type": "carpet"
           }
          ],
          "choropleth": [
           {
            "colorbar": {
             "outlinewidth": 0,
             "ticks": ""
            },
            "type": "choropleth"
           }
          ],
          "contour": [
           {
            "colorbar": {
             "outlinewidth": 0,
             "ticks": ""
            },
            "colorscale": [
             [
              0,
              "#0d0887"
             ],
             [
              0.1111111111111111,
              "#46039f"
             ],
             [
              0.2222222222222222,
              "#7201a8"
             ],
             [
              0.3333333333333333,
              "#9c179e"
             ],
             [
              0.4444444444444444,
              "#bd3786"
             ],
             [
              0.5555555555555556,
              "#d8576b"
             ],
             [
              0.6666666666666666,
              "#ed7953"
             ],
             [
              0.7777777777777778,
              "#fb9f3a"
             ],
             [
              0.8888888888888888,
              "#fdca26"
             ],
             [
              1,
              "#f0f921"
             ]
            ],
            "type": "contour"
           }
          ],
          "contourcarpet": [
           {
            "colorbar": {
             "outlinewidth": 0,
             "ticks": ""
            },
            "type": "contourcarpet"
           }
          ],
          "heatmap": [
           {
            "colorbar": {
             "outlinewidth": 0,
             "ticks": ""
            },
            "colorscale": [
             [
              0,
              "#0d0887"
             ],
             [
              0.1111111111111111,
              "#46039f"
             ],
             [
              0.2222222222222222,
              "#7201a8"
             ],
             [
              0.3333333333333333,
              "#9c179e"
             ],
             [
              0.4444444444444444,
              "#bd3786"
             ],
             [
              0.5555555555555556,
              "#d8576b"
             ],
             [
              0.6666666666666666,
              "#ed7953"
             ],
             [
              0.7777777777777778,
              "#fb9f3a"
             ],
             [
              0.8888888888888888,
              "#fdca26"
             ],
             [
              1,
              "#f0f921"
             ]
            ],
            "type": "heatmap"
           }
          ],
          "heatmapgl": [
           {
            "colorbar": {
             "outlinewidth": 0,
             "ticks": ""
            },
            "colorscale": [
             [
              0,
              "#0d0887"
             ],
             [
              0.1111111111111111,
              "#46039f"
             ],
             [
              0.2222222222222222,
              "#7201a8"
             ],
             [
              0.3333333333333333,
              "#9c179e"
             ],
             [
              0.4444444444444444,
              "#bd3786"
             ],
             [
              0.5555555555555556,
              "#d8576b"
             ],
             [
              0.6666666666666666,
              "#ed7953"
             ],
             [
              0.7777777777777778,
              "#fb9f3a"
             ],
             [
              0.8888888888888888,
              "#fdca26"
             ],
             [
              1,
              "#f0f921"
             ]
            ],
            "type": "heatmapgl"
           }
          ],
          "histogram": [
           {
            "marker": {
             "pattern": {
              "fillmode": "overlay",
              "size": 10,
              "solidity": 0.2
             }
            },
            "type": "histogram"
           }
          ],
          "histogram2d": [
           {
            "colorbar": {
             "outlinewidth": 0,
             "ticks": ""
            },
            "colorscale": [
             [
              0,
              "#0d0887"
             ],
             [
              0.1111111111111111,
              "#46039f"
             ],
             [
              0.2222222222222222,
              "#7201a8"
             ],
             [
              0.3333333333333333,
              "#9c179e"
             ],
             [
              0.4444444444444444,
              "#bd3786"
             ],
             [
              0.5555555555555556,
              "#d8576b"
             ],
             [
              0.6666666666666666,
              "#ed7953"
             ],
             [
              0.7777777777777778,
              "#fb9f3a"
             ],
             [
              0.8888888888888888,
              "#fdca26"
             ],
             [
              1,
              "#f0f921"
             ]
            ],
            "type": "histogram2d"
           }
          ],
          "histogram2dcontour": [
           {
            "colorbar": {
             "outlinewidth": 0,
             "ticks": ""
            },
            "colorscale": [
             [
              0,
              "#0d0887"
             ],
             [
              0.1111111111111111,
              "#46039f"
             ],
             [
              0.2222222222222222,
              "#7201a8"
             ],
             [
              0.3333333333333333,
              "#9c179e"
             ],
             [
              0.4444444444444444,
              "#bd3786"
             ],
             [
              0.5555555555555556,
              "#d8576b"
             ],
             [
              0.6666666666666666,
              "#ed7953"
             ],
             [
              0.7777777777777778,
              "#fb9f3a"
             ],
             [
              0.8888888888888888,
              "#fdca26"
             ],
             [
              1,
              "#f0f921"
             ]
            ],
            "type": "histogram2dcontour"
           }
          ],
          "mesh3d": [
           {
            "colorbar": {
             "outlinewidth": 0,
             "ticks": ""
            },
            "type": "mesh3d"
           }
          ],
          "parcoords": [
           {
            "line": {
             "colorbar": {
              "outlinewidth": 0,
              "ticks": ""
             }
            },
            "type": "parcoords"
           }
          ],
          "pie": [
           {
            "automargin": true,
            "type": "pie"
           }
          ],
          "scatter": [
           {
            "fillpattern": {
             "fillmode": "overlay",
             "size": 10,
             "solidity": 0.2
            },
            "type": "scatter"
           }
          ],
          "scatter3d": [
           {
            "line": {
             "colorbar": {
              "outlinewidth": 0,
              "ticks": ""
             }
            },
            "marker": {
             "colorbar": {
              "outlinewidth": 0,
              "ticks": ""
             }
            },
            "type": "scatter3d"
           }
          ],
          "scattercarpet": [
           {
            "marker": {
             "colorbar": {
              "outlinewidth": 0,
              "ticks": ""
             }
            },
            "type": "scattercarpet"
           }
          ],
          "scattergeo": [
           {
            "marker": {
             "colorbar": {
              "outlinewidth": 0,
              "ticks": ""
             }
            },
            "type": "scattergeo"
           }
          ],
          "scattergl": [
           {
            "marker": {
             "colorbar": {
              "outlinewidth": 0,
              "ticks": ""
             }
            },
            "type": "scattergl"
           }
          ],
          "scattermapbox": [
           {
            "marker": {
             "colorbar": {
              "outlinewidth": 0,
              "ticks": ""
             }
            },
            "type": "scattermapbox"
           }
          ],
          "scatterpolar": [
           {
            "marker": {
             "colorbar": {
              "outlinewidth": 0,
              "ticks": ""
             }
            },
            "type": "scatterpolar"
           }
          ],
          "scatterpolargl": [
           {
            "marker": {
             "colorbar": {
              "outlinewidth": 0,
              "ticks": ""
             }
            },
            "type": "scatterpolargl"
           }
          ],
          "scatterternary": [
           {
            "marker": {
             "colorbar": {
              "outlinewidth": 0,
              "ticks": ""
             }
            },
            "type": "scatterternary"
           }
          ],
          "surface": [
           {
            "colorbar": {
             "outlinewidth": 0,
             "ticks": ""
            },
            "colorscale": [
             [
              0,
              "#0d0887"
             ],
             [
              0.1111111111111111,
              "#46039f"
             ],
             [
              0.2222222222222222,
              "#7201a8"
             ],
             [
              0.3333333333333333,
              "#9c179e"
             ],
             [
              0.4444444444444444,
              "#bd3786"
             ],
             [
              0.5555555555555556,
              "#d8576b"
             ],
             [
              0.6666666666666666,
              "#ed7953"
             ],
             [
              0.7777777777777778,
              "#fb9f3a"
             ],
             [
              0.8888888888888888,
              "#fdca26"
             ],
             [
              1,
              "#f0f921"
             ]
            ],
            "type": "surface"
           }
          ],
          "table": [
           {
            "cells": {
             "fill": {
              "color": "#EBF0F8"
             },
             "line": {
              "color": "white"
             }
            },
            "header": {
             "fill": {
              "color": "#C8D4E3"
             },
             "line": {
              "color": "white"
             }
            },
            "type": "table"
           }
          ]
         },
         "layout": {
          "annotationdefaults": {
           "arrowcolor": "#2a3f5f",
           "arrowhead": 0,
           "arrowwidth": 1
          },
          "autotypenumbers": "strict",
          "coloraxis": {
           "colorbar": {
            "outlinewidth": 0,
            "ticks": ""
           }
          },
          "colorscale": {
           "diverging": [
            [
             0,
             "#8e0152"
            ],
            [
             0.1,
             "#c51b7d"
            ],
            [
             0.2,
             "#de77ae"
            ],
            [
             0.3,
             "#f1b6da"
            ],
            [
             0.4,
             "#fde0ef"
            ],
            [
             0.5,
             "#f7f7f7"
            ],
            [
             0.6,
             "#e6f5d0"
            ],
            [
             0.7,
             "#b8e186"
            ],
            [
             0.8,
             "#7fbc41"
            ],
            [
             0.9,
             "#4d9221"
            ],
            [
             1,
             "#276419"
            ]
           ],
           "sequential": [
            [
             0,
             "#0d0887"
            ],
            [
             0.1111111111111111,
             "#46039f"
            ],
            [
             0.2222222222222222,
             "#7201a8"
            ],
            [
             0.3333333333333333,
             "#9c179e"
            ],
            [
             0.4444444444444444,
             "#bd3786"
            ],
            [
             0.5555555555555556,
             "#d8576b"
            ],
            [
             0.6666666666666666,
             "#ed7953"
            ],
            [
             0.7777777777777778,
             "#fb9f3a"
            ],
            [
             0.8888888888888888,
             "#fdca26"
            ],
            [
             1,
             "#f0f921"
            ]
           ],
           "sequentialminus": [
            [
             0,
             "#0d0887"
            ],
            [
             0.1111111111111111,
             "#46039f"
            ],
            [
             0.2222222222222222,
             "#7201a8"
            ],
            [
             0.3333333333333333,
             "#9c179e"
            ],
            [
             0.4444444444444444,
             "#bd3786"
            ],
            [
             0.5555555555555556,
             "#d8576b"
            ],
            [
             0.6666666666666666,
             "#ed7953"
            ],
            [
             0.7777777777777778,
             "#fb9f3a"
            ],
            [
             0.8888888888888888,
             "#fdca26"
            ],
            [
             1,
             "#f0f921"
            ]
           ]
          },
          "colorway": [
           "#636efa",
           "#EF553B",
           "#00cc96",
           "#ab63fa",
           "#FFA15A",
           "#19d3f3",
           "#FF6692",
           "#B6E880",
           "#FF97FF",
           "#FECB52"
          ],
          "font": {
           "color": "#2a3f5f"
          },
          "geo": {
           "bgcolor": "white",
           "lakecolor": "white",
           "landcolor": "#E5ECF6",
           "showlakes": true,
           "showland": true,
           "subunitcolor": "white"
          },
          "hoverlabel": {
           "align": "left"
          },
          "hovermode": "closest",
          "mapbox": {
           "style": "light"
          },
          "paper_bgcolor": "white",
          "plot_bgcolor": "#E5ECF6",
          "polar": {
           "angularaxis": {
            "gridcolor": "white",
            "linecolor": "white",
            "ticks": ""
           },
           "bgcolor": "#E5ECF6",
           "radialaxis": {
            "gridcolor": "white",
            "linecolor": "white",
            "ticks": ""
           }
          },
          "scene": {
           "xaxis": {
            "backgroundcolor": "#E5ECF6",
            "gridcolor": "white",
            "gridwidth": 2,
            "linecolor": "white",
            "showbackground": true,
            "ticks": "",
            "zerolinecolor": "white"
           },
           "yaxis": {
            "backgroundcolor": "#E5ECF6",
            "gridcolor": "white",
            "gridwidth": 2,
            "linecolor": "white",
            "showbackground": true,
            "ticks": "",
            "zerolinecolor": "white"
           },
           "zaxis": {
            "backgroundcolor": "#E5ECF6",
            "gridcolor": "white",
            "gridwidth": 2,
            "linecolor": "white",
            "showbackground": true,
            "ticks": "",
            "zerolinecolor": "white"
           }
          },
          "shapedefaults": {
           "line": {
            "color": "#2a3f5f"
           }
          },
          "ternary": {
           "aaxis": {
            "gridcolor": "white",
            "linecolor": "white",
            "ticks": ""
           },
           "baxis": {
            "gridcolor": "white",
            "linecolor": "white",
            "ticks": ""
           },
           "bgcolor": "#E5ECF6",
           "caxis": {
            "gridcolor": "white",
            "linecolor": "white",
            "ticks": ""
           }
          },
          "title": {
           "x": 0.05
          },
          "xaxis": {
           "automargin": true,
           "gridcolor": "white",
           "linecolor": "white",
           "ticks": "",
           "title": {
            "standoff": 15
           },
           "zerolinecolor": "white",
           "zerolinewidth": 2
          },
          "yaxis": {
           "automargin": true,
           "gridcolor": "white",
           "linecolor": "white",
           "ticks": "",
           "title": {
            "standoff": 15
           },
           "zerolinecolor": "white",
           "zerolinewidth": 2
          }
         }
        },
        "width": 700
       }
      }
     },
     "metadata": {},
     "output_type": "display_data"
    }
   ],
   "source": [
    "fig = px.scatter_3d(\n",
    "    data_frame=hyperbolic_df, \n",
    "    x='x', \n",
    "    y='y', \n",
    "    z='z', \n",
    "    color='cluster labels', \n",
    "    # text='cluster labels',  # assuming 'labels' column contains the point labels\n",
    "    # title='ON and OFF Neurons',\n",
    "    labels={'x': 'X', 'y': 'Y', 'z': 'Z'},\n",
    "    color_discrete_map={'ON': 'teal', 'OFF': '#FF8C00', 'AVA': 'red', 'RME': 'blue', 'SMDV': 'purple', 'SMDD': 'yellow'}\n",
    ")\n",
    "\n",
    "fig.update_layout(\n",
    "    scene=dict(\n",
    "        xaxis=dict(\n",
    "            tickvals=[-1, -0.5, 0, 0.5, 1],\n",
    "            ticktext=['-1', '-0.5', '0', '0.5', '1'],\n",
    "            title=dict(text='X', font=dict(size=20)),\n",
    "            tickfont=dict(size=15)\n",
    "        ),\n",
    "        yaxis=dict(\n",
    "            tickvals=[-1, -0.5, 0, 0.5, 1],\n",
    "            ticktext=['-1', '-0.5', '0', '0.5', '1'],\n",
    "            title=dict(text='Y ', font=dict(size=20)),\n",
    "            tickfont=dict(size=15)\n",
    "            \n",
    "        ),\n",
    "        zaxis=dict(\n",
    "            tickvals=[-1, -0.5, 0, 0.5, 1],\n",
    "            ticktext=['-1', '-0.5', '0', '0.5', '1'],\n",
    "            title=dict(text='Z ', font=dict(size=20)),\n",
    "            tickfont=dict(size=15)\n",
    "            \n",
    "        )\n",
    "    ),\n",
    "    legend=dict(\n",
    "        title=dict(text='Cluster Labels', font=dict(size=12)),\n",
    "        font=dict(size=10)\n",
    "    # ),\n",
    "    # title=dict(\n",
    "    #     text='ON and OFF Neurons',\n",
    "    #     font=dict(size=15)\n",
    "    ),\n",
    "    margin=dict(l=20, r=20, b=90, t=40),\n",
    "    autosize=True,\n",
    "    width=700,\n",
    "    height=500\n",
    ")\n",
    "\n",
    "# Customize marker size and opacity for better visualization\n",
    "fig.update_traces(marker=dict(size=10, opacity=0.6))\n",
    "\n",
    "\n",
    "\n",
    "\n",
    "fig.show()\n"
   ]
  },
  {
   "cell_type": "markdown",
   "id": "b6080734",
   "metadata": {},
   "source": [
    "# Fitting For Dimension\n",
    "\n",
    "Suppose we did not know a-priori that the data was 5D? This is usually the case"
   ]
  },
  {
   "cell_type": "markdown",
   "id": "ea9e919b",
   "metadata": {},
   "source": [
    "## Fit the model across a range of dimensions"
   ]
  },
  {
   "cell_type": "code",
   "execution_count": 44,
   "id": "0ffeb563",
   "metadata": {},
   "outputs": [
    {
     "name": "stderr",
     "output_type": "stream",
     "text": [
      "11:59:40 - cmdstanpy - INFO - Chain [1] start processing\n",
      "11:59:45 - cmdstanpy - INFO - Chain [1] done processing\n",
      "11:59:45 - cmdstanpy - WARNING - The default behavior of CmdStanMLE.stan_variable() will change in a future release to always return a numpy.ndarray, even for scalar variables.\n",
      "11:59:45 - cmdstanpy - INFO - Chain [1] start processing\n",
      "11:59:46 - cmdstanpy - INFO - Chain [1] done processing\n",
      "11:59:46 - cmdstanpy - WARNING - The default behavior of CmdStanMLE.stan_variable() will change in a future release to always return a numpy.ndarray, even for scalar variables.\n",
      "11:59:46 - cmdstanpy - INFO - Chain [1] start processing\n",
      "11:59:47 - cmdstanpy - INFO - Chain [1] done processing\n",
      "11:59:47 - cmdstanpy - WARNING - The default behavior of CmdStanMLE.stan_variable() will change in a future release to always return a numpy.ndarray, even for scalar variables.\n",
      "11:59:47 - cmdstanpy - INFO - Chain [1] start processing\n",
      "11:59:47 - cmdstanpy - INFO - Chain [1] done processing\n",
      "11:59:47 - cmdstanpy - WARNING - The default behavior of CmdStanMLE.stan_variable() will change in a future release to always return a numpy.ndarray, even for scalar variables.\n",
      "11:59:47 - cmdstanpy - INFO - Chain [1] start processing\n",
      "11:59:48 - cmdstanpy - INFO - Chain [1] done processing\n",
      "11:59:48 - cmdstanpy - WARNING - The default behavior of CmdStanMLE.stan_variable() will change in a future release to always return a numpy.ndarray, even for scalar variables.\n",
      "11:59:48 - cmdstanpy - INFO - Chain [1] start processing\n",
      "11:59:48 - cmdstanpy - INFO - Chain [1] done processing\n",
      "11:59:48 - cmdstanpy - WARNING - The default behavior of CmdStanMLE.stan_variable() will change in a future release to always return a numpy.ndarray, even for scalar variables.\n",
      "11:59:48 - cmdstanpy - INFO - Chain [1] start processing\n",
      "11:59:48 - cmdstanpy - INFO - Chain [1] done processing\n",
      "11:59:48 - cmdstanpy - WARNING - The default behavior of CmdStanMLE.stan_variable() will change in a future release to always return a numpy.ndarray, even for scalar variables.\n",
      "11:59:48 - cmdstanpy - INFO - Chain [1] start processing\n",
      "11:59:49 - cmdstanpy - INFO - Chain [1] done processing\n",
      "11:59:49 - cmdstanpy - WARNING - The default behavior of CmdStanMLE.stan_variable() will change in a future release to always return a numpy.ndarray, even for scalar variables.\n",
      "11:59:49 - cmdstanpy - INFO - Chain [1] start processing\n",
      "11:59:49 - cmdstanpy - INFO - Chain [1] done processing\n",
      "11:59:49 - cmdstanpy - WARNING - The default behavior of CmdStanMLE.stan_variable() will change in a future release to always return a numpy.ndarray, even for scalar variables.\n",
      "11:59:49 - cmdstanpy - INFO - Chain [1] start processing\n",
      "11:59:49 - cmdstanpy - INFO - Chain [1] done processing\n",
      "11:59:49 - cmdstanpy - WARNING - The default behavior of CmdStanMLE.stan_variable() will change in a future release to always return a numpy.ndarray, even for scalar variables.\n",
      "11:59:49 - cmdstanpy - INFO - Chain [1] start processing\n",
      "11:59:49 - cmdstanpy - INFO - Chain [1] done processing\n",
      "11:59:49 - cmdstanpy - WARNING - The default behavior of CmdStanMLE.stan_variable() will change in a future release to always return a numpy.ndarray, even for scalar variables.\n",
      "11:59:49 - cmdstanpy - INFO - Chain [1] start processing\n",
      "11:59:50 - cmdstanpy - INFO - Chain [1] done processing\n",
      "11:59:50 - cmdstanpy - WARNING - The default behavior of CmdStanMLE.stan_variable() will change in a future release to always return a numpy.ndarray, even for scalar variables.\n",
      "11:59:50 - cmdstanpy - INFO - Chain [1] start processing\n",
      "11:59:50 - cmdstanpy - INFO - Chain [1] done processing\n",
      "11:59:50 - cmdstanpy - WARNING - The default behavior of CmdStanMLE.stan_variable() will change in a future release to always return a numpy.ndarray, even for scalar variables.\n"
     ]
    }
   ],
   "source": [
    "all_fits = []\n",
    "for d in np.arange(2,15):\n",
    "    dat={'N':29, 'D':d, 'deltaij':distance_matrix_squaredp}\n",
    "    #run optimizer\n",
    "    model = ltz_m.optimize(data=dat, iter=250000, algorithm='LBFGS', tol_rel_grad=1e2)\n",
    "    all_fits.append({'euc':model.euc, 'sig':model.sig, 'lambda':model.stan_variable('lambda'), 't':model.time})\n",
    "\n",
    "\n"
   ]
  },
  {
   "cell_type": "code",
   "execution_count": 45,
   "id": "c6ddd178",
   "metadata": {},
   "outputs": [
    {
     "name": "stderr",
     "output_type": "stream",
     "text": [
      "11:59:53 - cmdstanpy - WARNING - The default behavior of CmdStanMLE.stan_variable() will change in a future release to always return a numpy.ndarray, even for scalar variables.\n"
     ]
    },
    {
     "data": {
      "text/plain": [
       "0.24876"
      ]
     },
     "execution_count": 45,
     "metadata": {},
     "output_type": "execute_result"
    }
   ],
   "source": [
    "model.stan_variable('lambda')"
   ]
  },
  {
   "cell_type": "code",
   "execution_count": 46,
   "id": "09e53bbb",
   "metadata": {},
   "outputs": [
    {
     "data": {
      "text/plain": [
       "array([4.82869, 4.80927, 5.10409, 4.83001, 5.38266, 5.70096, 4.88179,\n",
       "       5.66141, 4.79263, 5.17294, 5.47552, 4.48076, 5.47699, 6.07706,\n",
       "       5.33543, 4.51792, 4.99726, 4.88268, 4.76388, 4.40343, 5.18936,\n",
       "       4.76917, 4.92519, 4.44765, 4.81296, 4.62579, 5.21491, 5.2126 ,\n",
       "       6.98057])"
      ]
     },
     "execution_count": 46,
     "metadata": {},
     "output_type": "execute_result"
    }
   ],
   "source": [
    "#access the correct iteration \n",
    "iteration = all_fits[3]['t']\n",
    "\n",
    "\n",
    "iteration"
   ]
  },
  {
   "cell_type": "code",
   "execution_count": null,
   "id": "c69f3521",
   "metadata": {},
   "outputs": [],
   "source": [
    "model.time.shape"
   ]
  },
  {
   "cell_type": "code",
   "execution_count": 47,
   "id": "cadc132e",
   "metadata": {},
   "outputs": [],
   "source": [
    "#calculate radii based on time parameter\n",
    "radii = np.arccosh(iteration)"
   ]
  },
  {
   "cell_type": "code",
   "execution_count": 48,
   "id": "963b2e19",
   "metadata": {},
   "outputs": [
    {
     "data": {
      "text/plain": [
       "array([2.25682358, 2.252704  , 2.31345191, 2.25710296, 2.36758727,\n",
       "       2.42599938, 2.26799996, 2.41892735, 2.24916029, 2.32711212,\n",
       "       2.38498963, 2.1802487 , 2.38526265, 2.49082897, 2.35861651,\n",
       "       2.18871961, 2.29187221, 2.2681862 , 2.24300717, 2.16238111,\n",
       "       2.33034203, 2.24414226, 2.27704087, 2.1726385 , 2.2534881 ,\n",
       "       2.21290074, 2.33534683, 2.33489539, 2.63110733])"
      ]
     },
     "execution_count": 48,
     "metadata": {},
     "output_type": "execute_result"
    }
   ],
   "source": [
    "radii"
   ]
  },
  {
   "cell_type": "code",
   "execution_count": 49,
   "id": "f44e7938",
   "metadata": {},
   "outputs": [
    {
     "data": {
      "image/png": "[encoded data removed]",
      "text/plain": [
       "<Figure size 1500x750 with 1 Axes>"
      ]
     },
     "metadata": {},
     "output_type": "display_data"
    }
   ],
   "source": [
    "#Histogram of radii\n",
    "fig, ax = plt.subplots(figsize=(15,7.5))\n",
    "\n",
    "ax.hist(radii, color ='#fb8072', edgecolor = 'black')\n",
    "ax.tick_params(axis='both', which='major', labelsize=20)\n",
    "ax.set_ylabel('Cell Count', fontsize= 20)\n",
    "ax.set_xlabel('Hyperbolic Embedding Radii', fontsize=20)\n",
    "plt.savefig('/Users/iuliarusu/Documents/Sharpee/final_images/figure2/singlew_radii_w0_clustered.svg', format='svg', bbox_inches='tight')"
   ]
  },
  {
   "cell_type": "code",
   "execution_count": 50,
   "id": "75c766bc",
   "metadata": {},
   "outputs": [],
   "source": [
    "#DIP analysis of radii\n",
    "dip, pval = diptest.diptest(radii)"
   ]
  },
  {
   "cell_type": "code",
   "execution_count": 51,
   "id": "2ac64e08",
   "metadata": {},
   "outputs": [
    {
     "data": {
      "text/plain": [
       "(0.05435523627774523, 0.7450962679682782)"
      ]
     },
     "execution_count": 51,
     "metadata": {},
     "output_type": "execute_result"
    }
   ],
   "source": [
    "dip, pval"
   ]
  },
  {
   "cell_type": "code",
   "execution_count": null,
   "id": "31b674d5",
   "metadata": {},
   "outputs": [],
   "source": [
    "all_fits[0]['sig']"
   ]
  },
  {
   "cell_type": "code",
   "execution_count": 53,
   "id": "2793645c",
   "metadata": {},
   "outputs": [],
   "source": [
    "#return negative log likelihood of fit\n",
    "def MDS_lkl(fit, dmat):\n",
    "    lkl = 0;\n",
    "    N = fit['sig'].shape[0]\n",
    "    \n",
    "    sigs = fit['sig']\n",
    "    lam = fit['lambda']\n",
    "    emb_mat = get_embed_dmat(fit)\n",
    "    \n",
    "    for i in np.arange(N):\n",
    "        for j in np.arange(i+1, N):\n",
    "            seff = sigs[i]**2 + sigs[j]**2\n",
    "            lkl += ((dmat[i][j] - emb_mat[i][j]/lam)**2 / (2.0*seff)) + 0.5*np.log(seff*2.0*np.pi)\n",
    "    return lkl\n",
    "\n",
    "#input: optimization fit and distance matrix\n",
    "def BIC(fit, dmat):\n",
    "    N,D = fit['euc'].shape\n",
    "    n = 0.5*N*(N-1)\n",
    "    k = N*D + N + 1.0 - 0.5*D*(D-1)\n",
    "    \n",
    "    return k*np.log(n) + 2.0*MDS_lkl(fit, dmat)"
   ]
  },
  {
   "cell_type": "markdown",
   "id": "e7ccab40",
   "metadata": {},
   "source": [
    "## Bayesian information criteria\n",
    "\n",
    "There is a lot of formal Bayesian Theory behind this (see chapter 2 here https://urldefense.proofpoint.com/v2/url?u=https-3A__www.inference.org.uk_mackay_thesis.pdf&d=DwIGAg&c=-35OiAkTchMrZOngvJPOeA&r=B8GeUuyHfxQP8MseZuhipQ&m=KVww4gh9-XOtp1LqNUc0K-PGXOX3bm2QsokPFlBG9Vs&s=UBtNEdIXatq_zFpG53nmPCLbCnlgIgWigHYhEnBRYyo&e= ), but essentially we are trying to find the minimal number of parameters to describe a dataset. If the data is 5D, we don't want to use 7 parameters to describe it. The BIC is like a cost function that rewards a model that has a better fit to the likelihood function, but penalizes models that increase the number of their parameters. The model which minimizes this function will thus have the ideal trade-off of being able to model the data well without introducing too many parameters and overfitting the data."
   ]
  },
  {
   "cell_type": "code",
   "execution_count": 55,
   "id": "f3688551",
   "metadata": {},
   "outputs": [],
   "source": [
    "all_BIC = [BIC(fit, distance_matrix_squaredp) for fit in all_fits]"
   ]
  },
  {
   "cell_type": "code",
   "execution_count": 56,
   "id": "b1160cc0",
   "metadata": {},
   "outputs": [
    {
     "data": {
      "text/plain": [
       "[202.48680444998178,\n",
       " -236.5642832000426,\n",
       " -264.143466252649,\n",
       " -280.5181864255334,\n",
       " -228.8678477208366,\n",
       " -171.60991617389686,\n",
       " -110.60597285797189,\n",
       " -30.97965535828871,\n",
       " 49.538363545123275,\n",
       " 127.20595179575116,\n",
       " 212.88611824247118,\n",
       " 290.682369949777,\n",
       " 363.0901560348723]"
      ]
     },
     "execution_count": 56,
     "metadata": {},
     "output_type": "execute_result"
    }
   ],
   "source": [
    "all_BIC"
   ]
  },
  {
   "cell_type": "markdown",
   "id": "daae8d10",
   "metadata": {},
   "source": [
    "As you can see the BIC is minimized at the true dimension of 5. Any more parameters would have been redundant, any less would not have properly fit the data"
   ]
  },
  {
   "cell_type": "code",
   "execution_count": 65,
   "id": "c3160255",
   "metadata": {},
   "outputs": [
    {
     "data": {
      "image/png": "[encoded data removed]",
      "text/plain": [
       "<Figure size 750x750 with 1 Axes>"
      ]
     },
     "metadata": {},
     "output_type": "display_data"
    }
   ],
   "source": [
    "fig, ax = plt.subplots(figsize=(7.5, 7.5))\n",
    "\n",
    "ax.scatter(np.arange(2,15), all_BIC, c = '#8dd3c7', edgecolor = 'black', s = 200) #cornflowerblue, lightcoral\n",
    "ax.set_xlabel('Dimension', fontsize=35)\n",
    "ax.tick_params(axis='both', which='major', labelsize=25)\n",
    "ax.set_xticks(np.arange(2, 15, 2))\n",
    "ax.set_ylabel('BIC', fontsize=35)\n",
    "\n",
    "plt.savefig('/Users/iuliarusu/Documents/Sharpee/final_images/figure2/singlew_BIC_w0_clustered.svg', format='svg', bbox_inches='tight')"
   ]
  },
  {
   "cell_type": "markdown",
   "id": "ce171280",
   "metadata": {},
   "source": [
    "# Re-Running the optimizer\n",
    "Lets start by generating some 2D data"
   ]
  },
  {
   "cell_type": "markdown",
   "id": "66b6d256",
   "metadata": {},
   "source": [
    "What is the purpose of re-running?"
   ]
  },
  {
   "cell_type": "code",
   "execution_count": null,
   "id": "6159dca9",
   "metadata": {},
   "outputs": [],
   "source": [
    "#generate 100 data points uniformly distributed in 5 dimensional hyperbolic space of radius R=4\n",
    "dim=2; R=4.0;\n",
    "n=100\n",
    "dirs = stats.norm.rvs(size=(n, dim))\n",
    "dirs = (dirs.T/np.sqrt(np.sum(np.square(dirs), axis=1))).T\n",
    "U = stats.uniform.rvs(size=n)\n",
    "rs_p = np.tanh(np.log((1-np.exp(-R))/np.exp(-R)*(U) + 1.0)/2.0)\n",
    "p_coords = rs_p.reshape(-1,1)*dirs\n",
    "\n",
    "#add noise to the computed distance matrix to simulate a more realistic dataset\n",
    "mat_2D = get_dmat(p_coords) + 0.05*R*stats.norm.rvs(size=(n,n))\n",
    "for i in np.arange(n):\n",
    "    for j in np.arange(i+1, n):\n",
    "        mat_2D[j][i] = mat_2D[i][j]\n",
    "mat_2D = 2.0*mat_2D/np.max(mat_2D)"
   ]
  },
  {
   "cell_type": "code",
   "execution_count": null,
   "id": "9f65f1d2",
   "metadata": {},
   "outputs": [],
   "source": [
    "#dictionary to specify input to simulation\n",
    "dat={'N':76, 'D':6, 'deltaij':distance_matrix_squaredp}\n",
    "#run optimizer\n",
    "model2D = ltz_m.optimize(data=dat, iter=250000, algorithm='LBFGS', tol_rel_grad=1e2)\n",
    "hyp_emb2D = {'euc':model2D.euc, 'sig':model2D.sig, 'lambda':model2D.stan_variable('lambda')}"
   ]
  },
  {
   "cell_type": "code",
   "execution_count": null,
   "id": "546b43c3",
   "metadata": {},
   "outputs": [],
   "source": [
    "process_sim(hyp_emb2D)"
   ]
  },
  {
   "cell_type": "markdown",
   "id": "77ed16b6",
   "metadata": {},
   "source": [
    "#### Most pts are well fit, but a few are poorly fit (the ones with high sigma) which adds a lot of scatter to the shepard diagram\n",
    "#### The optimizer got caught in a false minimum"
   ]
  },
  {
   "cell_type": "code",
   "execution_count": null,
   "id": "4bddb3f4",
   "metadata": {},
   "outputs": [],
   "source": [
    "#can't find 'emb_mat' parameter \n",
    "hyp_emb2D.keys()"
   ]
  },
  {
   "cell_type": "code",
   "execution_count": null,
   "id": "bb8c2124",
   "metadata": {},
   "outputs": [],
   "source": [
    "fig, ax = plt.subplots(1, 2, figsize=(15,7.5))\n",
    "\n",
    "ax[0].scatter(distance_matrix_squaredp[np.triu_indices(76, k=1)], hyp_emb2D['sig'][np.triu_indices(76, k=1)])\n",
    "ax[0].plot(np.arange(3), np.arange(3), c='black', linewidth=5, alpha=0.5)\n",
    "\n",
    "ax[0].set_xlabel('Original Distances', fontsize=20)\n",
    "ax[0].set_ylabel('Embedding Distances / $\\lambda$', fontsize=20)\n",
    "\n",
    "ax[1].hist(hyp_emb2D['sig'])\n",
    "ax[1].set_xlabel('Embedding Uncertainties', fontsize=20)"
   ]
  },
  {
   "cell_type": "markdown",
   "id": "23edc498",
   "metadata": {},
   "source": [
    "### Strategy: randomize the positions of the poorly fit points, and then return the coordinates as the initial conditions to continue optimizing. This bumps the simulation out of the false minimium without destroying all of the work its already done"
   ]
  },
  {
   "cell_type": "code",
   "execution_count": null,
   "id": "e47006a6",
   "metadata": {},
   "outputs": [],
   "source": [
    "#figure out which pts have high uncertainty, and randomize their coordinates without touching the rest of the points\n",
    "N_refit = np.where(hyp_emb2D['sig'] > 0.3)[0].shape[0]\n",
    "hyp_emb2D['euc'][np.where(hyp_emb2D['sig'] > 0.3)] = stats.norm.rvs(size=(N_refit,2))"
   ]
  },
  {
   "cell_type": "code",
   "execution_count": null,
   "id": "44aa4765",
   "metadata": {},
   "outputs": [],
   "source": [
    "#re-reun the optimizer, but this time sepcify the initial condition by passing the previous simulation dictionary\n",
    "dat={'N':100, 'D':2, 'deltaij':mat_2D}\n",
    "model2D = ltz_m.optimize(data=dat, iter=250000, algorithm='LBFGS', tol_rel_grad=1e2,inits = hyp_emb2D)\n",
    "hyp_emb2D = {'euc':model2D.euc, 'sig':model2D.sig, 'lambda':model2D.stan_variable('lambda')}\n",
    "# tst_2D = ltz_m.optimizing(data=dat, iter=250000, tol_rel_grad=1e2, init=tst_2D)"
   ]
  },
  {
   "cell_type": "code",
   "execution_count": null,
   "id": "4dc911c9",
   "metadata": {},
   "outputs": [],
   "source": [
    "process_sim(hyp_emb2D)"
   ]
  },
  {
   "cell_type": "markdown",
   "id": "b28b534e",
   "metadata": {},
   "source": [
    "### We see that the fit is significantly better, although there are still a few poorly fit points. We could keep iterating the above process until all points are well fit."
   ]
  },
  {
   "cell_type": "code",
   "execution_count": null,
   "id": "9f3fa17a",
   "metadata": {},
   "outputs": [],
   "source": [
    "fig, ax = plt.subplots(1, 2, figsize=(15,7.5))\n",
    "\n",
    "ax[0].scatter(mat_2D[np.triu_indices(100, k=1)], hyp_emb2D['emb_mat'][np.triu_indices(100, k=1)])\n",
    "ax[0].plot(np.arange(3), np.arange(3), c='black', linewidth=5, alpha=0.5)\n",
    "\n",
    "ax[0].set_xlabel('Original Distances', fontsize=20)\n",
    "ax[0].set_ylabel('Embedding Distances / $\\lambda$', fontsize=20)\n",
    "\n",
    "ax[1].hist(hyp_emb2D['sig'])\n",
    "ax[1].set_xlabel('Embedding Uncertainties', fontsize=20)"
   ]
  }
 ],
 "metadata": {
  "kernelspec": {
   "display_name": "HMDS",
   "language": "python",
   "name": "python3"
  },
  "language_info": {
   "codemirror_mode": {
    "name": "ipython",
    "version": 3
   },
   "file_extension": ".py",
   "mimetype": "text/x-python",
   "name": "python",
   "nbconvert_exporter": "python",
   "pygments_lexer": "ipython3",
   "version": "3.10.14"
  }
 },
 "nbformat": 4,
 "nbformat_minor": 5
}
