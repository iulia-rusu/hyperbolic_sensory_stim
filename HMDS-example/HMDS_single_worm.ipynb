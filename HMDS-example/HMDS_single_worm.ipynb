{
 "cells": [
  {
   "cell_type": "code",
   "execution_count": 26,
   "id": "dbb521f1",
   "metadata": {},
   "outputs": [],
   "source": [
    "'''\n",
    "Method developed by Anoop Praturu: https://www.biorxiv.org/content/10.1101/2022.10.12.511940v1\n",
    "Code from Anoop Praturu on Oct 2021\n",
    "Move from pystan to cmdstanpy based on suggestions by Milo Julis\n",
    "Edited by Mingchen Yao on May 26 2023\n",
    "'''\n",
    "\n",
    "import numpy as np\n",
    "import diptest  \n",
    "import matplotlib.pyplot as plt\n",
    "import cmdstanpy as stan\n",
    "import scipy.stats as stats\n",
    "import pickle\n",
    "import seaborn as sns\n",
    "%matplotlib inline\n",
    "\n",
    "import pandas as pd\n",
    "\n",
    "import plotly.express as px\n",
    "from matplotlib import rcParams\n",
    "import plotly.express as px\n",
    "\n",
    "from sklearn.metrics import r2_score"
   ]
  },
  {
   "cell_type": "code",
   "execution_count": null,
   "id": "73e1d8b7",
   "metadata": {},
   "outputs": [],
   "source": [
    "# # if there is anything wrong with comstan: re-install it. Otherwise don't run this cell\n",
    "# from cmdstanpy import install_cmdstan\n",
    "# install_cmdstan(overwrite = True)"
   ]
  },
  {
   "cell_type": "markdown",
   "id": "93f95b0f",
   "metadata": {},
   "source": [
    "# Functions for Generating Synthetic Data"
   ]
  },
  {
   "cell_type": "code",
   "execution_count": 4,
   "id": "f16c0781",
   "metadata": {},
   "outputs": [],
   "source": [
    "#returns hyperbolic distance between vectors in poincare ball\n",
    "def poincare_dist(v1, v2):\n",
    "    sq = np.sum(np.square(v1-v2))\n",
    "    r1 = np.sum(np.square(v1))\n",
    "    r2 = np.sum(np.square(v2))\n",
    "    inv = 2.0*sq/((1.0-r1)*(1.0-r2))\n",
    "    return np.arccosh(1.0 + inv)\n",
    "\n",
    "#return NxN symmetric distance matrix from poincare coordinates\n",
    "def get_dmat(p_coords):\n",
    "    N = p_coords.shape[0]\n",
    "    dists = np.zeros((N, N))\n",
    "    \n",
    "    for i in np.arange(N):\n",
    "        for j in np.arange(i+1, N):\n",
    "            dists[i][j] = poincare_dist(p_coords[i], p_coords[j])\n",
    "            dists[j][i] = dists[i][j]\n",
    "    return dists"
   ]
  },
  {
   "cell_type": "code",
   "execution_count": null,
   "id": "f942b036",
   "metadata": {},
   "outputs": [],
   "source": [
    "#generate 100 data points uniformly distributed in 5 dimensional hyperbolic space of radius R=4\n",
    "dim=5; R=4.0;\n",
    "n=100\n",
    "dirs = stats.norm.rvs(size=(n, dim))\n",
    "dirs = (dirs.T/np.sqrt(np.sum(np.square(dirs), axis=1))).T\n",
    "U = stats.uniform.rvs(size=n)\n",
    "rs_p = np.tanh(np.log((1-np.exp(-R))/np.exp(-R)*(U) + 1.0)/2.0)\n",
    "p_coords = rs_p.reshape(-1,1)*dirs\n",
    "\n",
    "#add noise to the computed distance matrix to simulate a more realistic dataset\n",
    "mat_dim = get_dmat(p_coords) + 0.05*R*stats.norm.rvs(size=(n,n))\n",
    "for i in np.arange(n):\n",
    "    for j in np.arange(i+1, n):\n",
    "        mat_dim[j][i] = mat_dim[i][j]\n",
    "mat_dim = 2.0*mat_dim/np.max(mat_dim)"
   ]
  },
  {
   "cell_type": "markdown",
   "id": "abf7bb38",
   "metadata": {},
   "source": [
    "# Code for fitting Bayesian Model"
   ]
  },
  {
   "cell_type": "code",
   "execution_count": 5,
   "id": "0a7b4752",
   "metadata": {},
   "outputs": [],
   "source": [
    "path = '/Users/iuliarusu/Documents/Sharpee/HMDS-example/model/'\n",
    "ltz_m = stan.CmdStanModel(stan_file=path+'lorentz.stan')"
   ]
  },
  {
   "cell_type": "markdown",
   "id": "4ea2a559",
   "metadata": {},
   "source": [
    "## Run the optimizer given the synthetically generated Data set"
   ]
  },
  {
   "cell_type": "code",
   "execution_count": 6,
   "id": "b35a571e",
   "metadata": {},
   "outputs": [],
   "source": [
    "ON = pd.read_csv('/Users/iuliarusu/Documents/Sharpee/Clustering/clustered_bacterial_stim/ON_cluster.csv') \n",
    "OFF = pd.read_csv('/Users/iuliarusu/Documents/Sharpee/Clustering/clustered_bacterial_stim/OFF_cluster.csv')\n",
    "AVA_0_df = pd.read_csv ('/Users/iuliarusu/Documents/Sharpee/Clustering/clustered_bacterial_stim/AVA_0_df.csv')\n",
    "RME_0_df = pd.read_csv ('/Users/iuliarusu/Documents/Sharpee/Clustering/clustered_bacterial_stim/RME_0_df.csv')\n",
    "SMDD_0_df = pd.read_csv ('/Users/iuliarusu/Documents/Sharpee/Clustering/clustered_bacterial_stim/SMDD_0_df.csv')\n",
    "SMDV_0_df = pd.read_csv ('/Users/iuliarusu/Documents/Sharpee/Clustering/clustered_bacterial_stim/SMDV_0_df.csv')"
   ]
  },
  {
   "cell_type": "code",
   "execution_count": 7,
   "id": "010b6751",
   "metadata": {},
   "outputs": [],
   "source": [
    "ON_0 = ON[ON['worm_id'] == 0]\n",
    "OFF_0 = OFF[OFF['worm_id'] == 0]"
   ]
  },
  {
   "cell_type": "markdown",
   "id": "c4cbc88c",
   "metadata": {},
   "source": [
    "# for a single worm, concatenate all clustered cells\n"
   ]
  },
  {
   "cell_type": "code",
   "execution_count": 8,
   "id": "f0b3343e",
   "metadata": {},
   "outputs": [],
   "source": [
    "# example for w0\n",
    "ON_0 = np.array(ON_0.iloc[:, 1: -2])\n",
    "OFF_0 = np.array(OFF_0.iloc[:, 1: -2])\n",
    "AVA_0 = np.array(AVA_0_df.iloc[:, 1: -2])\n",
    "RME_0 = np.array(RME_0_df.iloc[:, 1: -2])\n",
    "SMDV_0 = np.array(SMDV_0_df.iloc[:, 1: -2])\n",
    "SMDD_0 = np.array(SMDD_0_df.iloc[:, 1: -2])"
   ]
  },
  {
   "cell_type": "code",
   "execution_count": 9,
   "id": "03a928e5",
   "metadata": {},
   "outputs": [],
   "source": [
    "#concatenate all cell types\n",
    "w_0 = np.concatenate((ON_0, OFF_0, AVA_0, RME_0, SMDV_0, SMDD_0), axis=0)"
   ]
  },
  {
   "cell_type": "code",
   "execution_count": 10,
   "id": "13add130",
   "metadata": {},
   "outputs": [
    {
     "data": {
      "text/plain": [
       "(29, 1600)"
      ]
     },
     "execution_count": 10,
     "metadata": {},
     "output_type": "execute_result"
    }
   ],
   "source": [
    "w_0.shape"
   ]
  },
  {
   "cell_type": "code",
   "execution_count": 11,
   "id": "01dd76a9",
   "metadata": {},
   "outputs": [],
   "source": [
    "w_0_df = pd.DataFrame(w_0)"
   ]
  },
  {
   "cell_type": "markdown",
   "id": "1dd6893c",
   "metadata": {},
   "source": [
    "# All Stim Together"
   ]
  },
  {
   "cell_type": "code",
   "execution_count": 12,
   "id": "90c1b947",
   "metadata": {},
   "outputs": [],
   "source": [
    "ON_counts = np.array(ON.iloc[:, 1: -2])#this has an extra column for each cell's original id\n",
    "OFF_counts = np.array(OFF.iloc[:, 1: -2]) \n",
    "\n"
   ]
  },
  {
   "cell_type": "code",
   "execution_count": null,
   "id": "a3d44fb4",
   "metadata": {},
   "outputs": [],
   "source": [
    "all_stim = np.concatenate((ON_counts, OFF_counts), axis=0)"
   ]
  },
  {
   "cell_type": "code",
   "execution_count": null,
   "id": "531e342f",
   "metadata": {},
   "outputs": [],
   "source": [
    "all_stim_df = pd.DataFrame(all_stim)"
   ]
  },
  {
   "cell_type": "code",
   "execution_count": 13,
   "id": "963960d0",
   "metadata": {},
   "outputs": [],
   "source": [
    "corr_matrix = w_0_df.T.corr()\n"
   ]
  },
  {
   "cell_type": "code",
   "execution_count": 14,
   "id": "028ea7c8",
   "metadata": {},
   "outputs": [],
   "source": [
    "distance_matrix = 1 - corr_matrix\n",
    "distance_matrix_squaredp = (1 - corr_matrix**2) * 2"
   ]
  },
  {
   "cell_type": "code",
   "execution_count": 15,
   "id": "775084ae",
   "metadata": {},
   "outputs": [
    {
     "data": {
      "text/plain": [
       "(29, 29)"
      ]
     },
     "execution_count": 15,
     "metadata": {},
     "output_type": "execute_result"
    }
   ],
   "source": [
    "distance_matrix_squaredp.shape"
   ]
  },
  {
   "cell_type": "code",
   "execution_count": 16,
   "id": "8db4cafc",
   "metadata": {},
   "outputs": [
    {
     "name": "stderr",
     "output_type": "stream",
     "text": [
      "11:10:28 - cmdstanpy - INFO - Chain [1] start processing\n",
      "11:10:28 - cmdstanpy - INFO - Chain [1] done processing\n"
     ]
    }
   ],
   "source": [
    "#dictionary to specify input to simulation\n",
    "\n",
    "# dat={'N':100, 'D':5, 'deltaij':mat_dim}\n",
    "dat = {'N': 29 , 'D': 3 , 'deltaij':distance_matrix_squaredp}\n",
    "#run optimizer\n",
    "model = ltz_m.optimize(data=dat, iter=250000, algorithm='LBFGS', tol_rel_grad=1e2)"
   ]
  },
  {
   "cell_type": "code",
   "execution_count": 17,
   "id": "a880a1ed",
   "metadata": {},
   "outputs": [
    {
     "name": "stderr",
     "output_type": "stream",
     "text": [
      "11:10:31 - cmdstanpy - WARNING - The default behavior of CmdStanMLE.stan_variable() will change in a future release to always return a numpy.ndarray, even for scalar variables.\n"
     ]
    }
   ],
   "source": [
    "# build result \n",
    "hyp_emb = {'euc':model.euc, 'sig':model.sig, 'lambda':model.stan_variable('lambda')}\n",
    "\n",
    "# # and save\n",
    "# fdname = './emb5d.pickle'\n",
    "# with open(fdname,'wb') as file:\n",
    "#     pickle.dump(hyp_emb, file,  protocol=pickle.HIGHEST_PROTOCOL)"
   ]
  },
  {
   "cell_type": "code",
   "execution_count": null,
   "id": "d4ef1297",
   "metadata": {},
   "outputs": [],
   "source": [
    "# # load existing results\n",
    "# fdname = './emb5d.pickle'\n",
    "# with open(fdname, 'rb') as file:\n",
    "#     hyp_emb = pickle.load(file)"
   ]
  },
  {
   "cell_type": "markdown",
   "id": "0f4a4cf9",
   "metadata": {},
   "source": [
    "## Some utility functions for post-processing the simulation output"
   ]
  },
  {
   "cell_type": "code",
   "execution_count": 18,
   "id": "1f033e62",
   "metadata": {},
   "outputs": [],
   "source": [
    "def d_lor(t1, t2, E1, E2):\n",
    "    return np.arccosh(t1*t2 - np.dot(E1, E2))\n",
    "\n",
    "#returns embedding distance matrix from optimization fit\n",
    "def get_embed_dmat(fit):\n",
    "    N = fit['euc'].shape[0]\n",
    "    fit_ts = np.sqrt(1.0 + np.sum(np.square(fit['euc']), axis=1))\n",
    "\n",
    "    fit_mat = np.zeros((N, N))\n",
    "\n",
    "    for i in np.arange(N):\n",
    "        for j in np.arange(i+1,N):\n",
    "            fit_mat[i][j] = d_lor(fit_ts[i], fit_ts[j], fit['euc'][i], fit['euc'][j])\n",
    "            fit_mat[j][i] = fit_mat[i][j]\n",
    "            \n",
    "    return fit_mat\n",
    "\n",
    "#return poincare coordinates\n",
    "def get_poin(fit):\n",
    "    ts = np.sqrt(1.0 + np.sum(np.square(fit['euc']), axis=1))\n",
    "    return (fit['euc'].T / (ts + 1)).T"
   ]
  },
  {
   "cell_type": "code",
   "execution_count": 19,
   "id": "dac6394d",
   "metadata": {},
   "outputs": [],
   "source": [
    "def process_sim(fit):\n",
    "    fit['emb_mat'] = get_embed_dmat(fit)/fit['lambda']\n",
    "    fit['pcoords'] = get_poin(fit)\n",
    "    fit['radii'] = 2.0*np.arctanh(np.sqrt(np.sum(np.square(fit['pcoords']), axis=1)))"
   ]
  },
  {
   "cell_type": "code",
   "execution_count": 20,
   "id": "d651f3ad",
   "metadata": {},
   "outputs": [],
   "source": [
    "#run this function after running the optimizer to process the output data into more usable forms\n",
    "process_sim(hyp_emb)"
   ]
  },
  {
   "cell_type": "code",
   "execution_count": 21,
   "id": "8d3b4c66",
   "metadata": {},
   "outputs": [
    {
     "data": {
      "text/plain": [
       "3.53929"
      ]
     },
     "execution_count": 21,
     "metadata": {},
     "output_type": "execute_result"
    }
   ],
   "source": [
    "#curvature (or radius)\n",
    "hyp_emb['lambda']"
   ]
  },
  {
   "cell_type": "code",
   "execution_count": 22,
   "id": "fa441edb",
   "metadata": {},
   "outputs": [
    {
     "data": {
      "text/plain": [
       "array([[ 0.12626865, -0.61447886,  0.7058034 ],\n",
       "       [ 0.18127243, -0.55270588,  0.7495079 ],\n",
       "       [ 0.29733254, -0.52910101,  0.72966721],\n",
       "       [ 0.1091611 , -0.61768844,  0.7053479 ],\n",
       "       [ 0.08768739, -0.38305174,  0.87066384],\n",
       "       [ 0.46835943, -0.39242213,  0.73653681],\n",
       "       [ 0.24258101, -0.62110331,  0.67413528],\n",
       "       [-0.85096327, -0.38337503,  0.2186128 ],\n",
       "       [-0.04680966, -0.91481229, -0.22999887],\n",
       "       [-0.72242629,  0.30713854,  0.52976416],\n",
       "       [-0.00530321, -0.46445743, -0.82483712],\n",
       "       [-0.20042557, -0.91844088,  0.0056308 ],\n",
       "       [-0.06695857, -0.40553663, -0.85304068],\n",
       "       [ 0.48238709, -0.63355259, -0.53287394],\n",
       "       [-0.70595473, -0.50772688, -0.39689762],\n",
       "       [ 0.10216529,  0.90177987, -0.19763466],\n",
       "       [ 0.0344406 ,  0.93522424, -0.09559586],\n",
       "       [ 0.01729253,  0.92386725, -0.16647178],\n",
       "       [ 0.17658939,  0.87769461, -0.25931057],\n",
       "       [ 0.24810769,  0.85206055, -0.25206394],\n",
       "       [ 0.08972053,  0.93548275, -0.08563219],\n",
       "       [ 0.03021451,  0.90562782, -0.22988451],\n",
       "       [ 0.01432182,  0.90512177, -0.24982861],\n",
       "       [ 0.0636778 ,  0.85290377, -0.3625242 ],\n",
       "       [-0.01264066,  0.87268278, -0.34004411],\n",
       "       [ 0.05873142,  0.89215644, -0.26675892],\n",
       "       [-0.72329062,  0.49351544, -0.37582826],\n",
       "       [-0.55815906,  0.60485839, -0.47330814],\n",
       "       [ 0.92252538, -0.01971449, -0.28340713]])"
      ]
     },
     "execution_count": 22,
     "metadata": {},
     "output_type": "execute_result"
    }
   ],
   "source": [
    "#poincare embedding coordinates\n",
    "hyp_emb['pcoords']"
   ]
  },
  {
   "cell_type": "code",
   "execution_count": 23,
   "id": "48f986dd",
   "metadata": {},
   "outputs": [
    {
     "name": "stdout",
     "output_type": "stream",
     "text": [
      "Stored 'w_0_clustered' (ndarray)\n"
     ]
    }
   ],
   "source": [
    "w_0_clustered = hyp_emb['pcoords']\n",
    "%store w_0_clustered"
   ]
  },
  {
   "cell_type": "code",
   "execution_count": null,
   "id": "e0b8162b",
   "metadata": {},
   "outputs": [],
   "source": [
    "#emebdding uncertainties\n",
    "hyp_emb.keys()"
   ]
  },
  {
   "cell_type": "markdown",
   "id": "ffa4a0f2",
   "metadata": {},
   "source": [
    "# Shepard Diagram"
   ]
  },
  {
   "cell_type": "code",
   "execution_count": 24,
   "id": "b68aec1a",
   "metadata": {},
   "outputs": [],
   "source": [
    "rcParams['font.family'] = 'sans-serif'\n",
    "rcParams['font.sans-serif'] = 'Arial'"
   ]
  },
  {
   "cell_type": "code",
   "execution_count": null,
   "id": "6b924846",
   "metadata": {},
   "outputs": [],
   "source": [
    "# color brewer paisley hex color references\n",
    "#8dd3c7\n",
    "#ffffb3\n",
    "#bebada\n",
    "#fb8072\n",
    "#80b1d3"
   ]
  },
  {
   "cell_type": "code",
   "execution_count": 38,
   "id": "c3ed0ead",
   "metadata": {},
   "outputs": [
    {
     "data": {
      "image/png": "[encoded data removed]",
      "text/plain": [
       "<Figure size 740x370 with 2 Axes>"
      ]
     },
     "metadata": {},
     "output_type": "display_data"
    }
   ],
   "source": [
    "fig, ax = plt.subplots(1, 2, figsize=(3.7 * 2, 3.7))\n",
    "\n",
    "ax[0].scatter(distance_matrix_squaredp.values[np.triu_indices(28, k=1)], hyp_emb['emb_mat'][np.triu_indices(28, k=1)], c='#8dd3c7', edgecolor='black', alpha=0.7) #cornflowerblue, lightcoral\n",
    "ax[0].plot(np.arange(3), np.arange(3), c='black', linewidth=5, alpha=0.5)\n",
    "r2 = r2_score(distance_matrix_squaredp.values[np.triu_indices(28, k=1)], hyp_emb['emb_mat'][np.triu_indices(28, k=1)])\n",
    "\n",
    "ax[0].set_xlabel('Original Distances', fontsize=20)\n",
    "ax[0].tick_params(axis='both', which='major', labelsize=20)\n",
    "ax[0].set_ylabel('Embedding Distances / $\\lambda$', fontsize=20)\n",
    "# ax[0].text(0.1, 2.5, f'R**2 = {r2:.2f}', fontsize=20)\n",
    "ax[0].text(0.1, 2.5, f'$R^2 = {r2:.2f}$', fontsize=20, verticalalignment='top')\n",
    "\n",
    "ax[1].hist(hyp_emb['sig'], color ='#bebada', edgecolor='black') #cornflowerblue, lightcoral\n",
    "ax[1].set_xlabel('Embedding Uncertainties', fontsize=20)\n",
    "ax[1].tick_params(axis='both', which='major', labelsize=20)\n",
    "\n",
    "plt.savefig('/Users/iuliarusu/Documents/Sharpee/final_images/figure2/singlew_embedding_w0_clustered.svg', format='svg', bbox_inches='tight')"
   ]
  },
  {
   "cell_type": "code",
   "execution_count": 27,
   "id": "2107906d",
   "metadata": {},
   "outputs": [],
   "source": [
    "r2 = r2_score(distance_matrix_squaredp.values[np.triu_indices(28, k=1)], hyp_emb['emb_mat'][np.triu_indices(28, k=1)])"
   ]
  },
  {
   "cell_type": "code",
   "execution_count": 28,
   "id": "a8f5f1e1",
   "metadata": {},
   "outputs": [
    {
     "data": {
      "text/plain": [
       "0.9787085067549697"
      ]
     },
     "execution_count": 28,
     "metadata": {},
     "output_type": "execute_result"
    }
   ],
   "source": [
    "r2"
   ]
  },
  {
   "cell_type": "code",
   "execution_count": 39,
   "id": "7ea16b78",
   "metadata": {},
   "outputs": [],
   "source": [
    "hyperbolic_df= pd.DataFrame(hyp_emb['pcoords'], columns=['x', 'y', 'z'])\n",
    "\n"
   ]
  },
  {
   "cell_type": "code",
   "execution_count": 40,
   "id": "c4caf498",
   "metadata": {},
   "outputs": [],
   "source": [
    "#cell type label column\n",
    "column = ['ON'] * (ON_0.shape[0]) + ['OFF'] * (OFF_0.shape[0]) + ['AVA'] * (AVA_0.shape[0]) + ['RME'] * (RME_0.shape[0]) + ['SMDV'] * (SMDV_0.shape[0]) + ['SMDD'] * (SMDD_0.shape[0])\n",
    "cell_type = np.array(column)\n",
    "hyperbolic_df['cluster labels'] = cell_type.T\n"
   ]
  },
  {
   "cell_type": "code",
   "execution_count": 41,
   "id": "9a2062e0",
   "metadata": {},
   "outputs": [
    {
     "name": "stdout",
     "output_type": "stream",
     "text": [
      "Stored 'w_0_cluster_labels' (ndarray)\n"
     ]
    }
   ],
   "source": [
    "w_0_cluster_labels =cell_type\n",
    "%store w_0_cluster_labels \n",
    "del w_0_cluster_labels"
   ]
  },
  {
   "cell_type": "code",
   "execution_count": 42,
   "id": "09b7a13f",
   "metadata": {},
   "outputs": [
    {
     "data": {
      "application/vnd.plotly.v1+json": {
       "config": {
        "plotlyServerURL": "https://plot.ly"
       },
       "data": [
        {
         "hovertemplate": "cluster labels=ON<br>x=%{x}<br>y=%{y}<br>z=%{z}<extra></extra>",
         "legendgroup": "ON",
         "marker": {
          "color": "#636efa",
          "symbol": "circle"
         },
         "mode": "markers",
         "name": "ON",
         "scene": "scene",
         "showlegend": true,
         "type": "scatter3d",
         "x": [
          0.12626865417522884,
          0.18127242552837175,
          0.2973325401482394,
          0.1091611016828927,
          0.08768738599999777,
          0.4683594314770854,
          0.24258101048351735,
          -0.8509632683602046
         ],
         "y": [
          -0.614478855549722,
          -0.5527058828229996,
          -0.5291010105829781,
          -0.6176884444014504,
          -0.38305173771475365,
          -0.3924221272750454,
          -0.6211033076346155,
          -0.38337502513773264
         ],
         "z": [
          0.7058034013587962,
          0.7495078961884303,
          0.729667207617921,
          0.7053479022105472,
          0.870663835358495,
          0.7365368115309698,
          0.6741352759473567,
          0.2186128009909014
         ]
        },
        {
         "hovertemplate": "cluster labels=OFF<br>x=%{x}<br>y=%{y}<br>z=%{z}<extra></extra>",
         "legendgroup": "OFF",
         "marker": {
          "color": "#EF553B",
          "symbol": "circle"
         },
         "mode": "markers",
         "name": "OFF",
         "scene": "scene",
         "showlegend": true,
         "type": "scatter3d",
         "x": [
          -0.046809658052323753,
          -0.7224262912806104,
          -0.005303210802622189,
          -0.20042557475807452,
          -0.06695857327382215,
          0.4823870932937495,
          -0.7059547294391415
         ],
         "y": [
          -0.9148122879052072,
          0.30713854344088776,
          -0.4644574337559043,
          -0.9184408835643347,
          -0.4055366322235383,
          -0.6335525884550713,
          -0.507726884589872
         ],
         "z": [
          -0.2299988661018551,
          0.529764156576724,
          -0.8248371217701973,
          0.005630798566249997,
          -0.8530406761642022,
          -0.5328739426861666,
          -0.39689761539984875
         ]
        },
        {
         "hovertemplate": "cluster labels=AVA<br>x=%{x}<br>y=%{y}<br>z=%{z}<extra></extra>",
         "legendgroup": "AVA",
         "marker": {
          "color": "#00cc96",
          "symbol": "circle"
         },
         "mode": "markers",
         "name": "AVA",
         "scene": "scene",
         "showlegend": true,
         "type": "scatter3d",
         "x": [
          0.10216528893177793,
          0.03444059710684512,
          0.017292533730533906,
          0.17658938866738355,
          0.24810769170199196,
          0.08972052611351813
         ],
         "y": [
          0.9017798656102902,
          0.9352242382276471,
          0.9238672460422488,
          0.8776946069569982,
          0.8520605510451298,
          0.935482748860759
         ],
         "z": [
          -0.19763465830541332,
          -0.09559585582862598,
          -0.16647177665265492,
          -0.2593105700242825,
          -0.25206394237326085,
          -0.08563219261330914
         ]
        },
        {
         "hovertemplate": "cluster labels=RME<br>x=%{x}<br>y=%{y}<br>z=%{z}<extra></extra>",
         "legendgroup": "RME",
         "marker": {
          "color": "#ab63fa",
          "symbol": "circle"
         },
         "mode": "markers",
         "name": "RME",
         "scene": "scene",
         "showlegend": true,
         "type": "scatter3d",
         "x": [
          0.030214511650101313,
          0.014321816238164229,
          0.06367779707902199,
          -0.012640661873920487,
          0.05873141561859707
         ],
         "y": [
          0.9056278170247685,
          0.9051217747943395,
          0.8529037658712941,
          0.8726827806899368,
          0.8921564415427756
         ],
         "z": [
          -0.22988451312924546,
          -0.2498286130037949,
          -0.3625241953750861,
          -0.34004411187852435,
          -0.2667589248034304
         ]
        },
        {
         "hovertemplate": "cluster labels=SMDV<br>x=%{x}<br>y=%{y}<br>z=%{z}<extra></extra>",
         "legendgroup": "SMDV",
         "marker": {
          "color": "#FFA15A",
          "symbol": "circle"
         },
         "mode": "markers",
         "name": "SMDV",
         "scene": "scene",
         "showlegend": true,
         "type": "scatter3d",
         "x": [
          -0.7232906214987062,
          -0.5581590605536182
         ],
         "y": [
          0.49351544257721064,
          0.604858393265986
         ],
         "z": [
          -0.37582826489914223,
          -0.4733081376723189
         ]
        },
        {
         "hovertemplate": "cluster labels=SMDD<br>x=%{x}<br>y=%{y}<br>z=%{z}<extra></extra>",
         "legendgroup": "SMDD",
         "marker": {
          "color": "#19d3f3",
          "symbol": "circle"
         },
         "mode": "markers",
         "name": "SMDD",
         "scene": "scene",
         "showlegend": true,
         "type": "scatter3d",
         "x": [
          0.9225253761179952
         ],
         "y": [
          -0.019714492369119947
         ],
         "z": [
          -0.2834071298354813
         ]
        }
       ],
       "layout": {
        "legend": {
         "title": {
          "text": "cluster labels"
         },
         "tracegroupgap": 0
        },
        "scene": {
         "domain": {
          "x": [
           0,
           1
          ],
          "y": [
           0,
           1
          ]
         },
         "xaxis": {
          "ticktext": [
           -1,
           -0.5,
           0,
           0.5,
           1
          ],
          "title": {
           "text": "x"
          }
         },
         "yaxis": {
          "ticktext": [
           -1,
           -0.5,
           0,
           0.5,
           1
          ],
          "title": {
           "text": "y"
          }
         },
         "zaxis": {
          "ticktext": [
           -1,
           -0.5,
           0,
           0.5,
           1
          ],
          "title": {
           "text": "z"
          }
         }
        },
        "template": {
         "data": {
          "bar": [
           {
            "error_x": {
             "color": "#2a3f5f"
            },
            "error_y": {
             "color": "#2a3f5f"
            },
            "marker": {
             "line": {
              "color": "#E5ECF6",
              "width": 0.5
             },
             "pattern": {
              "fillmode": "overlay",
              "size": 10,
              "solidity": 0.2
             }
            },
            "type": "bar"
           }
          ],
          "barpolar": [
           {
            "marker": {
             "line": {
              "color": "#E5ECF6",
              "width": 0.5
             },
             "pattern": {
              "fillmode": "overlay",
              "size": 10,
              "solidity": 0.2
             }
            },
            "type": "barpolar"
           }
          ],
          "carpet": [
           {
            "aaxis": {
             "endlinecolor": "#2a3f5f",
             "gridcolor": "white",
             "linecolor": "white",
             "minorgridcolor": "white",
             "startlinecolor": "#2a3f5f"
            },
            "baxis": {
             "endlinecolor": "#2a3f5f",
             "gridcolor": "white",
             "linecolor": "white",
             "minorgridcolor": "white",
             "startlinecolor": "#2a3f5f"
            },
            "type": "carpet"
           }
          ],
          "choropleth": [
           {
            "colorbar": {
             "outlinewidth": 0,
             "ticks": ""
            },
            "type": "choropleth"
           }
          ],
          "contour": [
           {
            "colorbar": {
             "outlinewidth": 0,
             "ticks": ""
            },
            "colorscale": [
             [
              0,
              "#0d0887"
             ],
             [
              0.1111111111111111,
              "#46039f"
             ],
             [
              0.2222222222222222,
              "#7201a8"
             ],
             [
              0.3333333333333333,
              "#9c179e"
             ],
             [
              0.4444444444444444,
              "#bd3786"
             ],
             [
              0.5555555555555556,
              "#d8576b"
             ],
             [
              0.6666666666666666,
              "#ed7953"
             ],
             [
              0.7777777777777778,
              "#fb9f3a"
             ],
             [
              0.8888888888888888,
              "#fdca26"
             ],
             [
              1,
              "#f0f921"
             ]
            ],
            "type": "contour"
           }
          ],
          "contourcarpet": [
           {
            "colorbar": {
             "outlinewidth": 0,
             "ticks": ""
            },
            "type": "contourcarpet"
           }
          ],
          "heatmap": [
           {
            "colorbar": {
             "outlinewidth": 0,
             "ticks": ""
            },
            "colorscale": [
             [
              0,
              "#0d0887"
             ],
             [
              0.1111111111111111,
              "#46039f"
             ],
             [
              0.2222222222222222,
              "#7201a8"
             ],
             [
              0.3333333333333333,
              "#9c179e"
             ],
             [
              0.4444444444444444,
              "#bd3786"
             ],
             [
              0.5555555555555556,
              "#d8576b"
             ],
             [
              0.6666666666666666,
              "#ed7953"
             ],
             [
              0.7777777777777778,
              "#fb9f3a"
             ],
             [
              0.8888888888888888,
              "#fdca26"
             ],
             [
              1,
              "#f0f921"
             ]
            ],
            "type": "heatmap"
           }
          ],
          "heatmapgl": [
           {
            "colorbar": {
             "outlinewidth": 0,
             "ticks": ""
            },
            "colorscale": [
             [
              0,
              "#0d0887"
             ],
             [
              0.1111111111111111,
              "#46039f"
             ],
             [
              0.2222222222222222,
              "#7201a8"
             ],
             [
              0.3333333333333333,
              "#9c179e"
             ],
             [
              0.4444444444444444,
              "#bd3786"
             ],
             [
              0.5555555555555556,
              "#d8576b"
             ],
             [
              0.6666666666666666,
              "#ed7953"
             ],
             [
              0.7777777777777778,
              "#fb9f3a"
             ],
             [
              0.8888888888888888,
              "#fdca26"
             ],
             [
              1,
              "#f0f921"
             ]
            ],
            "type": "heatmapgl"
           }
          ],
          "histogram": [
           {
            "marker": {
             "pattern": {
              "fillmode": "overlay",
              "size": 10,
              "solidity": 0.2
             }
            },
            "type": "histogram"
           }
          ],
          "histogram2d": [
           {
            "colorbar": {
             "outlinewidth": 0,
             "ticks": ""
            },
            "colorscale": [
             [
              0,
              "#0d0887"
             ],
             [
              0.1111111111111111,
              "#46039f"
             ],
             [
              0.2222222222222222,
              "#7201a8"
             ],
             [
              0.3333333333333333,
              "#9c179e"
             ],
             [
              0.4444444444444444,
              "#bd3786"
             ],
             [
              0.5555555555555556,
              "#d8576b"
             ],
             [
              0.6666666666666666,
              "#ed7953"
             ],
             [
              0.7777777777777778,
              "#fb9f3a"
             ],
             [
              0.8888888888888888,
              "#fdca26"
             ],
             [
              1,
              "#f0f921"
             ]
            ],
            "type": "histogram2d"
           }
          ],
          "histogram2dcontour": [
           {
            "colorbar": {
             "outlinewidth": 0,
             "ticks": ""
            },
            "colorscale": [
             [
              0,
              "#0d0887"
             ],
             [
              0.1111111111111111,
              "#46039f"
             ],
             [
              0.2222222222222222,
              "#7201a8"
             ],
             [
              0.3333333333333333,
              "#9c179e"
             ],
             [
              0.4444444444444444,
              "#bd3786"
             ],
             [
              0.5555555555555556,
              "#d8576b"
             ],
             [
              0.6666666666666666,
              "#ed7953"
             ],
             [
              0.7777777777777778,
              "#fb9f3a"
             ],
             [
              0.8888888888888888,
              "#fdca26"
             ],
             [
              1,
              "#f0f921"
             ]
            ],
            "type": "histogram2dcontour"
           }
          ],
          "mesh3d": [
           {
            "colorbar": {
             "outlinewidth": 0,
             "ticks": ""
            },
            "type": "mesh3d"
           }
          ],
          "parcoords": [
           {
            "line": {
             "colorbar": {
              "outlinewidth": 0,
              "ticks": ""
             }
            },
            "type": "parcoords"
           }
          ],
          "pie": [
           {
            "automargin": true,
            "type": "pie"
           }
          ],
          "scatter": [
           {
            "fillpattern": {
             "fillmode": "overlay",
             "size": 10,
             "solidity": 0.2
            },
            "type": "scatter"
           }
          ],
          "scatter3d": [
           {
            "line": {
             "colorbar": {
              "outlinewidth": 0,
              "ticks": ""
             }
            },
            "marker": {
             "colorbar": {
              "outlinewidth": 0,
              "ticks": ""
             }
            },
            "type": "scatter3d"
           }
          ],
          "scattercarpet": [
           {
            "marker": {
             "colorbar": {
              "outlinewidth": 0,
              "ticks": ""
             }
            },
            "type": "scattercarpet"
           }
          ],
          "scattergeo": [
           {
            "marker": {
             "colorbar": {
              "outlinewidth": 0,
              "ticks": ""
             }
            },
            "type": "scattergeo"
           }
          ],
          "scattergl": [
           {
            "marker": {
             "colorbar": {
              "outlinewidth": 0,
              "ticks": ""
             }
            },
            "type": "scattergl"
           }
          ],
          "scattermapbox": [
           {
            "marker": {
             "colorbar": {
              "outlinewidth": 0,
              "ticks": ""
             }
            },
            "type": "scattermapbox"
           }
          ],
          "scatterpolar": [
           {
            "marker": {
             "colorbar": {
              "outlinewidth": 0,
              "ticks": ""
             }
            },
            "type": "scatterpolar"
           }
          ],
          "scatterpolargl": [
           {
            "marker": {
             "colorbar": {
              "outlinewidth": 0,
              "ticks": ""
             }
            },
            "type": "scatterpolargl"
           }
          ],
          "scatterternary": [
           {
            "marker": {
             "colorbar": {
              "outlinewidth": 0,
              "ticks": ""
             }
            },
            "type": "scatterternary"
           }
          ],
          "surface": [
           {
            "colorbar": {
             "outlinewidth": 0,
             "ticks": ""
            },
            "colorscale": [
             [
              0,
              "#0d0887"
             ],
             [
              0.1111111111111111,
              "#46039f"
             ],
             [
              0.2222222222222222,
              "#7201a8"
             ],
             [
              0.3333333333333333,
              "#9c179e"
             ],
             [
              0.4444444444444444,
              "#bd3786"
             ],
             [
              0.5555555555555556,
              "#d8576b"
             ],
             [
              0.6666666666666666,
              "#ed7953"
             ],
             [
              0.7777777777777778,
              "#fb9f3a"
             ],
             [
              0.8888888888888888,
              "#fdca26"
             ],
             [
              1,
              "#f0f921"
             ]
            ],
            "type": "surface"
           }
          ],
          "table": [
           {
            "cells": {
             "fill": {
              "color": "#EBF0F8"
             },
             "line": {
              "color": "white"
             }
            },
            "header": {
             "fill": {
              "color": "#C8D4E3"
             },
             "line": {
              "color": "white"
             }
            },
            "type": "table"
           }
          ]
         },
         "layout": {
          "annotationdefaults": {
           "arrowcolor": "#2a3f5f",
           "arrowhead": 0,
           "arrowwidth": 1
          },
          "autotypenumbers": "strict",
          "coloraxis": {
           "colorbar": {
            "outlinewidth": 0,
            "ticks": ""
           }
          },
          "colorscale": {
           "diverging": [
            [
             0,
             "#8e0152"
            ],
            [
             0.1,
             "#c51b7d"
            ],
            [
             0.2,
             "#de77ae"
            ],
            [
             0.3,
             "#f1b6da"
            ],
            [
             0.4,
             "#fde0ef"
            ],
            [
             0.5,
             "#f7f7f7"
            ],
            [
             0.6,
             "#e6f5d0"
            ],
            [
             0.7,
             "#b8e186"
            ],
            [
             0.8,
             "#7fbc41"
            ],
            [
             0.9,
             "#4d9221"
            ],
            [
             1,
             "#276419"
            ]
           ],
           "sequential": [
            [
             0,
             "#0d0887"
            ],
            [
             0.1111111111111111,
             "#46039f"
            ],
            [
             0.2222222222222222,
             "#7201a8"
            ],
            [
             0.3333333333333333,
             "#9c179e"
            ],
            [
             0.4444444444444444,
             "#bd3786"
            ],
            [
             0.5555555555555556,
             "#d8576b"
            ],
            [
             0.6666666666666666,
             "#ed7953"
            ],
            [
             0.7777777777777778,
             "#fb9f3a"
            ],
            [
             0.8888888888888888,
             "#fdca26"
            ],
            [
             1,
             "#f0f921"
            ]
           ],
           "sequentialminus": [
            [
             0,
             "#0d0887"
            ],
            [
             0.1111111111111111,
             "#46039f"
            ],
            [
             0.2222222222222222,
             "#7201a8"
            ],
            [
             0.3333333333333333,
             "#9c179e"
            ],
            [
             0.4444444444444444,
             "#bd3786"
            ],
            [
             0.5555555555555556,
             "#d8576b"
            ],
            [
             0.6666666666666666,
             "#ed7953"
            ],
            [
             0.7777777777777778,
             "#fb9f3a"
            ],
            [
             0.8888888888888888,
             "#fdca26"
            ],
            [
             1,
             "#f0f921"
            ]
           ]
          },
          "colorway": [
           "#636efa",
           "#EF553B",
           "#00cc96",
           "#ab63fa",
           "#FFA15A",
           "#19d3f3",
           "#FF6692",
           "#B6E880",
           "#FF97FF",
           "#FECB52"
          ],
          "font": {
           "color": "#2a3f5f"
          },
          "geo": {
           "bgcolor": "white",
           "lakecolor": "white",
           "landcolor": "#E5ECF6",
           "showlakes": true,
           "showland": true,
           "subunitcolor": "white"
          },
          "hoverlabel": {
           "align": "left"
          },
          "hovermode": "closest",
          "mapbox": {
           "style": "light"
          },
          "paper_bgcolor": "white",
          "plot_bgcolor": "#E5ECF6",
          "polar": {
           "angularaxis": {
            "gridcolor": "white",
            "linecolor": "white",
            "ticks": ""
           },
           "bgcolor": "#E5ECF6",
           "radialaxis": {
            "gridcolor": "white",
            "linecolor": "white",
            "ticks": ""
           }
          },
          "scene": {
           "xaxis": {
            "backgroundcolor": "#E5ECF6",
            "gridcolor": "white",
            "gridwidth": 2,
            "linecolor": "white",
            "showbackground": true,
            "ticks": "",
            "zerolinecolor": "white"
           },
           "yaxis": {
            "backgroundcolor": "#E5ECF6",
            "gridcolor": "white",
            "gridwidth": 2,
            "linecolor": "white",
            "showbackground": true,
            "ticks": "",
            "zerolinecolor": "white"
           },
           "zaxis": {
            "backgroundcolor": "#E5ECF6",
            "gridcolor": "white",
            "gridwidth": 2,
            "linecolor": "white",
            "showbackground": true,
            "ticks": "",
            "zerolinecolor": "white"
           }
          },
          "shapedefaults": {
           "line": {
            "color": "#2a3f5f"
           }
          },
          "ternary": {
           "aaxis": {
            "gridcolor": "white",
            "linecolor": "white",
            "ticks": ""
           },
           "baxis": {
            "gridcolor": "white",
            "linecolor": "white",
            "ticks": ""
           },
           "bgcolor": "#E5ECF6",
           "caxis": {
            "gridcolor": "white",
            "linecolor": "white",
            "ticks": ""
           }
          },
          "title": {
           "x": 0.05
          },
          "xaxis": {
           "automargin": true,
           "gridcolor": "white",
           "linecolor": "white",
           "ticks": "",
           "title": {
            "standoff": 15
           },
           "zerolinecolor": "white",
           "zerolinewidth": 2
          },
          "yaxis": {
           "automargin": true,
           "gridcolor": "white",
           "linecolor": "white",
           "ticks": "",
           "title": {
            "standoff": 15
           },
           "zerolinecolor": "white",
           "zerolinewidth": 2
          }
         }
        },
        "title": {
         "text": "ON and OFF Neurons: Bacterial Stimulus No. 0"
        }
       }
      }
     },
     "metadata": {},
     "output_type": "display_data"
    }
   ],
   "source": [
    "\n",
    "\n",
    "# Create a scatter plot\n",
    "# fig = px.scatter_3d(data_frame = hyperbolic_df, x= 'x', y = 'y', z= 'z', title='AVA and RME: Stimulus 0', color = 'cluster labels') #cornflowerblue, lightcoral\n",
    "\n",
    "fig = px.scatter_3d(data_frame = hyperbolic_df, x= 'x', y = 'y', z= 'z', title='ON and OFF Neurons: Bacterial Stimulus No. 0',  color ='cluster labels') #cornflowerblue, lightcoral\n",
    "fig.update_layout(\n",
    "    scene=dict(\n",
    "        xaxis=dict(ticktext=[-1, -0.5, 0, 0.5, 1]),\n",
    "        yaxis=dict(ticktext=[-1, -0.5, 0, 0.5, 1]),\n",
    "        zaxis=dict(ticktext=[-1, -0.5, 0, 0.5, 1]),\n",
    "    )\n",
    ")\n",
    "\n",
    "fig.show()"
   ]
  },
  {
   "cell_type": "code",
   "execution_count": 43,
   "id": "b3cd3456",
   "metadata": {},
   "outputs": [
    {
     "data": {
      "application/vnd.plotly.v1+json": {
       "config": {
        "plotlyServerURL": "https://plot.ly"
       },
       "data": [
        {
         "hovertemplate": "cluster labels=ON<br>X=%{x}<br>Y=%{y}<br>Z=%{z}<extra></extra>",
         "legendgroup": "ON",
         "marker": {
          "color": "teal",
          "opacity": 0.6,
          "size": 10,
          "symbol": "circle"
         },
         "mode": "markers",
         "name": "ON",
         "scene": "scene",
         "showlegend": true,
         "type": "scatter3d",
         "x": [
          0.12626865417522884,
          0.18127242552837175,
          0.2973325401482394,
          0.1091611016828927,
          0.08768738599999777,
          0.4683594314770854,
          0.24258101048351735,
          -0.8509632683602046
         ],
         "y": [
          -0.614478855549722,
          -0.5527058828229996,
          -0.5291010105829781,
          -0.6176884444014504,
          -0.38305173771475365,
          -0.3924221272750454,
          -0.6211033076346155,
          -0.38337502513773264
         ],
         "z": [
          0.7058034013587962,
          0.7495078961884303,
          0.729667207617921,
          0.7053479022105472,
          0.870663835358495,
          0.7365368115309698,
          0.6741352759473567,
          0.2186128009909014
         ]
        },
        {
         "hovertemplate": "cluster labels=OFF<br>X=%{x}<br>Y=%{y}<br>Z=%{z}<extra></extra>",
         "legendgroup": "OFF",
         "marker": {
          "color": "#FF8C00",
          "opacity": 0.6,
          "size": 10,
          "symbol": "circle"
         },
         "mode": "markers",
         "name": "OFF",
         "scene": "scene",
         "showlegend": true,
         "type": "scatter3d",
         "x": [
          -0.046809658052323753,
          -0.7224262912806104,
          -0.005303210802622189,
          -0.20042557475807452,
          -0.06695857327382215,
          0.4823870932937495,
          -0.7059547294391415
         ],
         "y": [
          -0.9148122879052072,
          0.30713854344088776,
          -0.4644574337559043,
          -0.9184408835643347,
          -0.4055366322235383,
          -0.6335525884550713,
          -0.507726884589872
         ],
         "z": [
          -0.2299988661018551,
          0.529764156576724,
          -0.8248371217701973,
          0.005630798566249997,
          -0.8530406761642022,
          -0.5328739426861666,
          -0.39689761539984875
         ]
        },
        {
         "hovertemplate": "cluster labels=AVA<br>X=%{x}<br>Y=%{y}<br>Z=%{z}<extra></extra>",
         "legendgroup": "AVA",
         "marker": {
          "color": "red",
          "opacity": 0.6,
          "size": 10,
          "symbol": "circle"
         },
         "mode": "markers",
         "name": "AVA",
         "scene": "scene",
         "showlegend": true,
         "type": "scatter3d",
         "x": [
          0.10216528893177793,
          0.03444059710684512,
          0.017292533730533906,
          0.17658938866738355,
          0.24810769170199196,
          0.08972052611351813
         ],
         "y": [
          0.9017798656102902,
          0.9352242382276471,
          0.9238672460422488,
          0.8776946069569982,
          0.8520605510451298,
          0.935482748860759
         ],
         "z": [
          -0.19763465830541332,
          -0.09559585582862598,
          -0.16647177665265492,
          -0.2593105700242825,
          -0.25206394237326085,
          -0.08563219261330914
         ]
        },
        {
         "hovertemplate": "cluster labels=RME<br>X=%{x}<br>Y=%{y}<br>Z=%{z}<extra></extra>",
         "legendgroup": "RME",
         "marker": {
          "color": "blue",
          "opacity": 0.6,
          "size": 10,
          "symbol": "circle"
         },
         "mode": "markers",
         "name": "RME",
         "scene": "scene",
         "showlegend": true,
         "type": "scatter3d",
         "x": [
          0.030214511650101313,
          0.014321816238164229,
          0.06367779707902199,
          -0.012640661873920487,
          0.05873141561859707
         ],
         "y": [
          0.9056278170247685,
          0.9051217747943395,
          0.8529037658712941,
          0.8726827806899368,
          0.8921564415427756
         ],
         "z": [
          -0.22988451312924546,
          -0.2498286130037949,
          -0.3625241953750861,
          -0.34004411187852435,
          -0.2667589248034304
         ]
        },
        {
         "hovertemplate": "cluster labels=SMDV<br>X=%{x}<br>Y=%{y}<br>Z=%{z}<extra></extra>",
         "legendgroup": "SMDV",
         "marker": {
          "color": "purple",
          "opacity": 0.6,
          "size": 10,
          "symbol": "circle"
         },
         "mode": "markers",
         "name": "SMDV",
         "scene": "scene",
         "showlegend": true,
         "type": "scatter3d",
         "x": [
          -0.7232906214987062,
          -0.5581590605536182
         ],
         "y": [
          0.49351544257721064,
          0.604858393265986
         ],
         "z": [
          -0.37582826489914223,
          -0.4733081376723189
         ]
        },
        {
         "hovertemplate": "cluster labels=SMDD<br>X=%{x}<br>Y=%{y}<br>Z=%{z}<extra></extra>",
         "legendgroup": "SMDD",
         "marker": {
          "color": "yellow",
          "opacity": 0.6,
          "size": 10,
          "symbol": "circle"
         },
         "mode": "markers",
         "name": "SMDD",
         "scene": "scene",
         "showlegend": true,
         "type": "scatter3d",
         "x": [
          0.9225253761179952
         ],
         "y": [
          -0.019714492369119947
         ],
         "z": [
          -0.2834071298354813
         ]
        }
       ],
       "layout": {
        "autosize": true,
        "height": 500,
        "legend": {
         "font": {
          "size": 10
         },
         "title": {
          "font": {
           "size": 12
          },
          "text": "Cluster Labels"
         },
         "tracegroupgap": 0
        },
        "margin": {
         "b": 90,
         "l": 20,
         "r": 20,
         "t": 40
        },
        "scene": {
         "domain": {
          "x": [
           0,
           1
          ],
          "y": [
           0,
           1
          ]
         },
         "xaxis": {
          "tickfont": {
           "size": 15
          },
          "ticktext": [
           "-1",
           "-0.5",
           "0",
           "0.5",
           "1"
          ],
          "tickvals": [
           -1,
           -0.5,
           0,
           0.5,
           1
          ],
          "title": {
           "font": {
            "size": 20
           },
           "text": "X"
          }
         },
         "yaxis": {
          "tickfont": {
           "size": 15
          },
          "ticktext": [
           "-1",
           "-0.5",
           "0",
           "0.5",
           "1"
          ],
          "tickvals": [
           -1,
           -0.5,
           0,
           0.5,
           1
          ],
          "title": {
           "font": {
            "size": 20
           },
           "text": "Y "
          }
         },
         "zaxis": {
          "tickfont": {
           "size": 15
          },
          "ticktext": [
           "-1",
           "-0.5",
           "0",
           "0.5",
           "1"
          ],
          "tickvals": [
           -1,
           -0.5,
           0,
           0.5,
           1
          ],
          "title": {
           "font": {
            "size": 20
           },
           "text": "Z "
          }
         }
        },
        "template": {
         "data": {
          "bar": [
           {
            "error_x": {
             "color": "#2a3f5f"
            },
            "error_y": {
             "color": "#2a3f5f"
            },
            "marker": {
             "line": {
              "color": "#E5ECF6",
              "width": 0.5
             },
             "pattern": {
              "fillmode": "overlay",
              "size": 10,
              "solidity": 0.2
             }
            },
            "type": "bar"
           }
          ],
          "barpolar": [
           {
            "marker": {
             "line": {
              "color": "#E5ECF6",
              "width": 0.5
             },
             "pattern": {
              "fillmode": "overlay",
              "size": 10,
              "solidity": 0.2
             }
            },
            "type": "barpolar"
           }
          ],
          "carpet": [
           {
            "aaxis": {
             "endlinecolor": "#2a3f5f",
             "gridcolor": "white",
             "linecolor": "white",
             "minorgridcolor": "white",
             "startlinecolor": "#2a3f5f"
            },
            "baxis": {
             "endlinecolor": "#2a3f5f",
             "gridcolor": "white",
             "linecolor": "white",
             "minorgridcolor": "white",
             "startlinecolor": "#2a3f5f"
            },
            "type": "carpet"
           }
          ],
          "choropleth": [
           {
            "colorbar": {
             "outlinewidth": 0,
             "ticks": ""
            },
            "type": "choropleth"
           }
          ],
          "contour": [
           {
            "colorbar": {
             "outlinewidth": 0,
             "ticks": ""
            },
            "colorscale": [
             [
              0,
              "#0d0887"
             ],
             [
              0.1111111111111111,
              "#46039f"
             ],
             [
              0.2222222222222222,
              "#7201a8"
             ],
             [
              0.3333333333333333,
              "#9c179e"
             ],
             [
              0.4444444444444444,
              "#bd3786"
             ],
             [
              0.5555555555555556,
              "#d8576b"
             ],
             [
              0.6666666666666666,
              "#ed7953"
             ],
             [
              0.7777777777777778,
              "#fb9f3a"
             ],
             [
              0.8888888888888888,
              "#fdca26"
             ],
             [
              1,
              "#f0f921"
             ]
            ],
            "type": "contour"
           }
          ],
          "contourcarpet": [
           {
            "colorbar": {
             "outlinewidth": 0,
             "ticks": ""
            },
            "type": "contourcarpet"
           }
          ],
          "heatmap": [
           {
            "colorbar": {
             "outlinewidth": 0,
             "ticks": ""
            },
            "colorscale": [
             [
              0,
              "#0d0887"
             ],
             [
              0.1111111111111111,
              "#46039f"
             ],
             [
              0.2222222222222222,
              "#7201a8"
             ],
             [
              0.3333333333333333,
              "#9c179e"
             ],
             [
              0.4444444444444444,
              "#bd3786"
             ],
             [
              0.5555555555555556,
              "#d8576b"
             ],
             [
              0.6666666666666666,
              "#ed7953"
             ],
             [
              0.7777777777777778,
              "#fb9f3a"
             ],
             [
              0.8888888888888888,
              "#fdca26"
             ],
             [
              1,
              "#f0f921"
             ]
            ],
            "type": "heatmap"
           }
          ],
          "heatmapgl": [
           {
            "colorbar": {
             "outlinewidth": 0,
             "ticks": ""
            },
            "colorscale": [
             [
              0,
              "#0d0887"
             ],
             [
              0.1111111111111111,
              "#46039f"
             ],
             [
              0.2222222222222222,
              "#7201a8"
             ],
             [
              0.3333333333333333,
              "#9c179e"
             ],
             [
              0.4444444444444444,
              "#bd3786"
             ],
             [
              0.5555555555555556,
              "#d8576b"
             ],
             [
              0.6666666666666666,
              "#ed7953"
             ],
             [
              0.7777777777777778,
              "#fb9f3a"
             ],
             [
              0.8888888888888888,
              "#fdca26"
             ],
             [
              1,
              "#f0f921"
             ]
            ],
            "type": "heatmapgl"
           }
          ],
          "histogram": [
           {
            "marker": {
             "pattern": {
              "fillmode": "overlay",
              "size": 10,
              "solidity": 0.2
             }
            },
            "type": "histogram"
           }
          ],
          "histogram2d": [
           {
            "colorbar": {
             "outlinewidth": 0,
             "ticks": ""
            },
            "colorscale": [
             [
              0,
              "#0d0887"
             ],
             [
              0.1111111111111111,
              "#46039f"
             ],
             [
              0.2222222222222222,
              "#7201a8"
             ],
             [
              0.3333333333333333,
              "#9c179e"
             ],
             [
              0.4444444444444444,
              "#bd3786"
             ],
             [
              0.5555555555555556,
              "#d8576b"
             ],
             [
              0.6666666666666666,
              "#ed7953"
             ],
             [
              0.7777777777777778,
              "#fb9f3a"
             ],
             [
              0.8888888888888888,
              "#fdca26"
             ],
             [
              1,
              "#f0f921"
             ]
            ],
            "type": "histogram2d"
           }
          ],
          "histogram2dcontour": [
           {
            "colorbar": {
             "outlinewidth": 0,
             "ticks": ""
            },
            "colorscale": [
             [
              0,
              "#0d0887"
             ],
             [
              0.1111111111111111,
              "#46039f"
             ],
             [
              0.2222222222222222,
              "#7201a8"
             ],
             [
              0.3333333333333333,
              "#9c179e"
             ],
             [
              0.4444444444444444,
              "#bd3786"
             ],
             [
              0.5555555555555556,
              "#d8576b"
             ],
             [
              0.6666666666666666,
              "#ed7953"
             ],
             [
              0.7777777777777778,
              "#fb9f3a"
             ],
             [
              0.8888888888888888,
              "#fdca26"
             ],
             [
              1,
              "#f0f921"
             ]
            ],
            "type": "histogram2dcontour"
           }
          ],
          "mesh3d": [
           {
            "colorbar": {
             "outlinewidth": 0,
             "ticks": ""
            },
            "type": "mesh3d"
           }
          ],
          "parcoords": [
           {
            "line": {
             "colorbar": {
              "outlinewidth": 0,
              "ticks": ""
             }
            },
            "type": "parcoords"
           }
          ],
          "pie": [
           {
            "automargin": true,
            "type": "pie"
           }
          ],
          "scatter": [
           {
            "fillpattern": {
             "fillmode": "overlay",
             "size": 10,
             "solidity": 0.2
            },
            "type": "scatter"
           }
          ],
          "scatter3d": [
           {
            "line": {
             "colorbar": {
              "outlinewidth": 0,
              "ticks": ""
             }
            },
            "marker": {
             "colorbar": {
              "outlinewidth": 0,
              "ticks": ""
             }
            },
            "type": "scatter3d"
           }
          ],
          "scattercarpet": [
           {
            "marker": {
             "colorbar": {
              "outlinewidth": 0,
              "ticks": ""
             }
            },
            "type": "scattercarpet"
           }
          ],
          "scattergeo": [
           {
            "marker": {
             "colorbar": {
              "outlinewidth": 0,
              "ticks": ""
             }
            },
            "type": "scattergeo"
           }
          ],
          "scattergl": [
           {
            "marker": {
             "colorbar": {
              "outlinewidth": 0,
              "ticks": ""
             }
            },
            "type": "scattergl"
           }
          ],
          "scattermapbox": [
           {
            "marker": {
             "colorbar": {
              "outlinewidth": 0,
              "ticks": ""
             }
            },
            "type": "scattermapbox"
           }
          ],
          "scatterpolar": [
           {
            "marker": {
             "colorbar": {
              "outlinewidth": 0,
              "ticks": ""
             }
            },
            "type": "scatterpolar"
           }
          ],
          "scatterpolargl": [
           {
            "marker": {
             "colorbar": {
              "outlinewidth": 0,
              "ticks": ""
             }
            },
            "type": "scatterpolargl"
           }
          ],
          "scatterternary": [
           {
            "marker": {
             "colorbar": {
              "outlinewidth": 0,
              "ticks": ""
             }
            },
            "type": "scatterternary"
           }
          ],
          "surface": [
           {
            "colorbar": {
             "outlinewidth": 0,
             "ticks": ""
            },
            "colorscale": [
             [
              0,
              "#0d0887"
             ],
             [
              0.1111111111111111,
              "#46039f"
             ],
             [
              0.2222222222222222,
              "#7201a8"
             ],
             [
              0.3333333333333333,
              "#9c179e"
             ],
             [
              0.4444444444444444,
              "#bd3786"
             ],
             [
              0.5555555555555556,
              "#d8576b"
             ],
             [
              0.6666666666666666,
              "#ed7953"
             ],
             [
              0.7777777777777778,
              "#fb9f3a"
             ],
             [
              0.8888888888888888,
              "#fdca26"
             ],
             [
              1,
              "#f0f921"
             ]
            ],
            "type": "surface"
           }
          ],
          "table": [
           {
            "cells": {
             "fill": {
              "color": "#EBF0F8"
             },
             "line": {
              "color": "white"
             }
            },
            "header": {
             "fill": {
              "color": "#C8D4E3"
             },
             "line": {
              "color": "white"
             }
            },
            "type": "table"
           }
          ]
         },
         "layout": {
          "annotationdefaults": {
           "arrowcolor": "#2a3f5f",
           "arrowhead": 0,
           "arrowwidth": 1
          },
          "autotypenumbers": "strict",
          "coloraxis": {
           "colorbar": {
            "outlinewidth": 0,
            "ticks": ""
           }
          },
          "colorscale": {
           "diverging": [
            [
             0,
             "#8e0152"
            ],
            [
             0.1,
             "#c51b7d"
            ],
            [
             0.2,
             "#de77ae"
            ],
            [
             0.3,
             "#f1b6da"
            ],
            [
             0.4,
             "#fde0ef"
            ],
            [
             0.5,
             "#f7f7f7"
            ],
            [
             0.6,
             "#e6f5d0"
            ],
            [
             0.7,
             "#b8e186"
            ],
            [
             0.8,
             "#7fbc41"
            ],
            [
             0.9,
             "#4d9221"
            ],
            [
             1,
             "#276419"
            ]
           ],
           "sequential": [
            [
             0,
             "#0d0887"
            ],
            [
             0.1111111111111111,
             "#46039f"
            ],
            [
             0.2222222222222222,
             "#7201a8"
            ],
            [
             0.3333333333333333,
             "#9c179e"
            ],
            [
             0.4444444444444444,
             "#bd3786"
            ],
            [
             0.5555555555555556,
             "#d8576b"
            ],
            [
             0.6666666666666666,
             "#ed7953"
            ],
            [
             0.7777777777777778,
             "#fb9f3a"
            ],
            [
             0.8888888888888888,
             "#fdca26"
            ],
            [
             1,
             "#f0f921"
            ]
           ],
           "sequentialminus": [
            [
             0,
             "#0d0887"
            ],
            [
             0.1111111111111111,
             "#46039f"
            ],
            [
             0.2222222222222222,
             "#7201a8"
            ],
            [
             0.3333333333333333,
             "#9c179e"
            ],
            [
             0.4444444444444444,
             "#bd3786"
            ],
            [
             0.5555555555555556,
             "#d8576b"
            ],
            [
             0.6666666666666666,
             "#ed7953"
            ],
            [
             0.7777777777777778,
             "#fb9f3a"
            ],
            [
             0.8888888888888888,
             "#fdca26"
            ],
            [
             1,
             "#f0f921"
            ]
           ]
          },
          "colorway": [
           "#636efa",
           "#EF553B",
           "#00cc96",
           "#ab63fa",
           "#FFA15A",
           "#19d3f3",
           "#FF6692",
           "#B6E880",
           "#FF97FF",
           "#FECB52"
          ],
          "font": {
           "color": "#2a3f5f"
          },
          "geo": {
           "bgcolor": "white",
           "lakecolor": "white",
           "landcolor": "#E5ECF6",
           "showlakes": true,
           "showland": true,
           "subunitcolor": "white"
          },
          "hoverlabel": {
           "align": "left"
          },
          "hovermode": "closest",
          "mapbox": {
           "style": "light"
          },
          "paper_bgcolor": "white",
          "plot_bgcolor": "#E5ECF6",
          "polar": {
           "angularaxis": {
            "gridcolor": "white",
            "linecolor": "white",
            "ticks": ""
           },
           "bgcolor": "#E5ECF6",
           "radialaxis": {
            "gridcolor": "white",
            "linecolor": "white",
            "ticks": ""
           }
          },
          "scene": {
           "xaxis": {
            "backgroundcolor": "#E5ECF6",
            "gridcolor": "white",
            "gridwidth": 2,
            "linecolor": "white",
            "showbackground": true,
            "ticks": "",
            "zerolinecolor": "white"
           },
           "yaxis": {
            "backgroundcolor": "#E5ECF6",
            "gridcolor": "white",
            "gridwidth": 2,
            "linecolor": "white",
            "showbackground": true,
            "ticks": "",
            "zerolinecolor": "white"
           },
           "zaxis": {
            "backgroundcolor": "#E5ECF6",
            "gridcolor": "white",
            "gridwidth": 2,
            "linecolor": "white",
            "showbackground": true,
            "ticks": "",
            "zerolinecolor": "white"
           }
          },
          "shapedefaults": {
           "line": {
            "color": "#2a3f5f"
           }
          },
          "ternary": {
           "aaxis": {
            "gridcolor": "white",
            "linecolor": "white",
            "ticks": ""
           },
           "baxis": {
            "gridcolor": "white",
            "linecolor": "white",
            "ticks": ""
           },
           "bgcolor": "#E5ECF6",
           "caxis": {
            "gridcolor": "white",
            "linecolor": "white",
            "ticks": ""
           }
          },
          "title": {
           "x": 0.05
          },
          "xaxis": {
           "automargin": true,
           "gridcolor": "white",
           "linecolor": "white",
           "ticks": "",
           "title": {
            "standoff": 15
           },
           "zerolinecolor": "white",
           "zerolinewidth": 2
          },
          "yaxis": {
           "automargin": true,
           "gridcolor": "white",
           "linecolor": "white",
           "ticks": "",
           "title": {
            "standoff": 15
           },
           "zerolinecolor": "white",
           "zerolinewidth": 2
          }
         }
        },
        "width": 700
       }
      }
     },
     "metadata": {},
     "output_type": "display_data"
    }
   ],
   "source": [
    "fig = px.scatter_3d(\n",
    "    data_frame=hyperbolic_df, \n",
    "    x='x', \n",
    "    y='y', \n",
    "    z='z', \n",
    "    color='cluster labels', \n",
    "    # text='cluster labels',  # assuming 'labels' column contains the point labels\n",
    "    # title='ON and OFF Neurons',\n",
    "    labels={'x': 'X', 'y': 'Y', 'z': 'Z'},\n",
    "    color_discrete_map={'ON': 'teal', 'OFF': '#FF8C00', 'AVA': 'red', 'RME': 'blue', 'SMDV': 'purple', 'SMDD': 'yellow'}\n",
    ")\n",
    "\n",
    "fig.update_layout(\n",
    "    scene=dict(\n",
    "        xaxis=dict(\n",
    "            tickvals=[-1, -0.5, 0, 0.5, 1],\n",
    "            ticktext=['-1', '-0.5', '0', '0.5', '1'],\n",
    "            title=dict(text='X', font=dict(size=20)),\n",
    "            tickfont=dict(size=15)\n",
    "        ),\n",
    "        yaxis=dict(\n",
    "            tickvals=[-1, -0.5, 0, 0.5, 1],\n",
    "            ticktext=['-1', '-0.5', '0', '0.5', '1'],\n",
    "            title=dict(text='Y ', font=dict(size=20)),\n",
    "            tickfont=dict(size=15)\n",
    "            \n",
    "        ),\n",
    "        zaxis=dict(\n",
    "            tickvals=[-1, -0.5, 0, 0.5, 1],\n",
    "            ticktext=['-1', '-0.5', '0', '0.5', '1'],\n",
    "            title=dict(text='Z ', font=dict(size=20)),\n",
    "            tickfont=dict(size=15)\n",
    "            \n",
    "        )\n",
    "    ),\n",
    "    legend=dict(\n",
    "        title=dict(text='Cluster Labels', font=dict(size=12)),\n",
    "        font=dict(size=10)\n",
    "    # ),\n",
    "    # title=dict(\n",
    "    #     text='ON and OFF Neurons',\n",
    "    #     font=dict(size=15)\n",
    "    ),\n",
    "    margin=dict(l=20, r=20, b=90, t=40),\n",
    "    autosize=True,\n",
    "    width=700,\n",
    "    height=500\n",
    ")\n",
    "\n",
    "# Customize marker size and opacity for better visualization\n",
    "fig.update_traces(marker=dict(size=10, opacity=0.6))\n",
    "\n",
    "\n",
    "\n",
    "\n",
    "fig.show()\n"
   ]
  },
  {
   "cell_type": "markdown",
   "id": "b6080734",
   "metadata": {},
   "source": [
    "# Fitting For Dimension\n",
    "\n",
    "Suppose we did not know a-priori that the data was 5D? This is usually the case"
   ]
  },
  {
   "cell_type": "markdown",
   "id": "ea9e919b",
   "metadata": {},
   "source": [
    "## Fit the model across a range of dimensions"
   ]
  },
  {
   "cell_type": "code",
   "execution_count": 44,
   "id": "0ffeb563",
   "metadata": {},
   "outputs": [
    {
     "name": "stderr",
     "output_type": "stream",
     "text": [
      "11:59:40 - cmdstanpy - INFO - Chain [1] start processing\n",
      "11:59:45 - cmdstanpy - INFO - Chain [1] done processing\n",
      "11:59:45 - cmdstanpy - WARNING - The default behavior of CmdStanMLE.stan_variable() will change in a future release to always return a numpy.ndarray, even for scalar variables.\n",
      "11:59:45 - cmdstanpy - INFO - Chain [1] start processing\n",
      "11:59:46 - cmdstanpy - INFO - Chain [1] done processing\n",
      "11:59:46 - cmdstanpy - WARNING - The default behavior of CmdStanMLE.stan_variable() will change in a future release to always return a numpy.ndarray, even for scalar variables.\n",
      "11:59:46 - cmdstanpy - INFO - Chain [1] start processing\n",
      "11:59:47 - cmdstanpy - INFO - Chain [1] done processing\n",
      "11:59:47 - cmdstanpy - WARNING - The default behavior of CmdStanMLE.stan_variable() will change in a future release to always return a numpy.ndarray, even for scalar variables.\n",
      "11:59:47 - cmdstanpy - INFO - Chain [1] start processing\n",
      "11:59:47 - cmdstanpy - INFO - Chain [1] done processing\n",
      "11:59:47 - cmdstanpy - WARNING - The default behavior of CmdStanMLE.stan_variable() will change in a future release to always return a numpy.ndarray, even for scalar variables.\n",
      "11:59:47 - cmdstanpy - INFO - Chain [1] start processing\n",
      "11:59:48 - cmdstanpy - INFO - Chain [1] done processing\n",
      "11:59:48 - cmdstanpy - WARNING - The default behavior of CmdStanMLE.stan_variable() will change in a future release to always return a numpy.ndarray, even for scalar variables.\n",
      "11:59:48 - cmdstanpy - INFO - Chain [1] start processing\n",
      "11:59:48 - cmdstanpy - INFO - Chain [1] done processing\n",
      "11:59:48 - cmdstanpy - WARNING - The default behavior of CmdStanMLE.stan_variable() will change in a future release to always return a numpy.ndarray, even for scalar variables.\n",
      "11:59:48 - cmdstanpy - INFO - Chain [1] start processing\n",
      "11:59:48 - cmdstanpy - INFO - Chain [1] done processing\n",
      "11:59:48 - cmdstanpy - WARNING - The default behavior of CmdStanMLE.stan_variable() will change in a future release to always return a numpy.ndarray, even for scalar variables.\n",
      "11:59:48 - cmdstanpy - INFO - Chain [1] start processing\n",
      "11:59:49 - cmdstanpy - INFO - Chain [1] done processing\n",
      "11:59:49 - cmdstanpy - WARNING - The default behavior of CmdStanMLE.stan_variable() will change in a future release to always return a numpy.ndarray, even for scalar variables.\n",
      "11:59:49 - cmdstanpy - INFO - Chain [1] start processing\n",
      "11:59:49 - cmdstanpy - INFO - Chain [1] done processing\n",
      "11:59:49 - cmdstanpy - WARNING - The default behavior of CmdStanMLE.stan_variable() will change in a future release to always return a numpy.ndarray, even for scalar variables.\n",
      "11:59:49 - cmdstanpy - INFO - Chain [1] start processing\n",
      "11:59:49 - cmdstanpy - INFO - Chain [1] done processing\n",
      "11:59:49 - cmdstanpy - WARNING - The default behavior of CmdStanMLE.stan_variable() will change in a future release to always return a numpy.ndarray, even for scalar variables.\n",
      "11:59:49 - cmdstanpy - INFO - Chain [1] start processing\n",
      "11:59:49 - cmdstanpy - INFO - Chain [1] done processing\n",
      "11:59:49 - cmdstanpy - WARNING - The default behavior of CmdStanMLE.stan_variable() will change in a future release to always return a numpy.ndarray, even for scalar variables.\n",
      "11:59:49 - cmdstanpy - INFO - Chain [1] start processing\n",
      "11:59:50 - cmdstanpy - INFO - Chain [1] done processing\n",
      "11:59:50 - cmdstanpy - WARNING - The default behavior of CmdStanMLE.stan_variable() will change in a future release to always return a numpy.ndarray, even for scalar variables.\n",
      "11:59:50 - cmdstanpy - INFO - Chain [1] start processing\n",
      "11:59:50 - cmdstanpy - INFO - Chain [1] done processing\n",
      "11:59:50 - cmdstanpy - WARNING - The default behavior of CmdStanMLE.stan_variable() will change in a future release to always return a numpy.ndarray, even for scalar variables.\n"
     ]
    }
   ],
   "source": [
    "all_fits = []\n",
    "for d in np.arange(2,15):\n",
    "    dat={'N':29, 'D':d, 'deltaij':distance_matrix_squaredp}\n",
    "    #run optimizer\n",
    "    model = ltz_m.optimize(data=dat, iter=250000, algorithm='LBFGS', tol_rel_grad=1e2)\n",
    "    all_fits.append({'euc':model.euc, 'sig':model.sig, 'lambda':model.stan_variable('lambda'), 't':model.time})\n",
    "\n",
    "\n"
   ]
  },
  {
   "cell_type": "code",
   "execution_count": 45,
   "id": "c6ddd178",
   "metadata": {},
   "outputs": [
    {
     "name": "stderr",
     "output_type": "stream",
     "text": [
      "11:59:53 - cmdstanpy - WARNING - The default behavior of CmdStanMLE.stan_variable() will change in a future release to always return a numpy.ndarray, even for scalar variables.\n"
     ]
    },
    {
     "data": {
      "text/plain": [
       "0.24876"
      ]
     },
     "execution_count": 45,
     "metadata": {},
     "output_type": "execute_result"
    }
   ],
   "source": [
    "model.stan_variable('lambda')"
   ]
  },
  {
   "cell_type": "code",
   "execution_count": 46,
   "id": "09e53bbb",
   "metadata": {},
   "outputs": [
    {
     "data": {
      "text/plain": [
       "array([4.82869, 4.80927, 5.10409, 4.83001, 5.38266, 5.70096, 4.88179,\n",
       "       5.66141, 4.79263, 5.17294, 5.47552, 4.48076, 5.47699, 6.07706,\n",
       "       5.33543, 4.51792, 4.99726, 4.88268, 4.76388, 4.40343, 5.18936,\n",
       "       4.76917, 4.92519, 4.44765, 4.81296, 4.62579, 5.21491, 5.2126 ,\n",
       "       6.98057])"
      ]
     },
     "execution_count": 46,
     "metadata": {},
     "output_type": "execute_result"
    }
   ],
   "source": [
    "#access the correct iteration \n",
    "iteration = all_fits[3]['t']\n",
    "\n",
    "\n",
    "iteration"
   ]
  },
  {
   "cell_type": "code",
   "execution_count": null,
   "id": "c69f3521",
   "metadata": {},
   "outputs": [],
   "source": [
    "model.time.shape"
   ]
  },
  {
   "cell_type": "code",
   "execution_count": 47,
   "id": "cadc132e",
   "metadata": {},
   "outputs": [],
   "source": [
    "#calculate radii based on time parameter\n",
    "radii = np.arccosh(iteration)"
   ]
  },
  {
   "cell_type": "code",
   "execution_count": 48,
   "id": "963b2e19",
   "metadata": {},
   "outputs": [
    {
     "data": {
      "text/plain": [
       "array([2.25682358, 2.252704  , 2.31345191, 2.25710296, 2.36758727,\n",
       "       2.42599938, 2.26799996, 2.41892735, 2.24916029, 2.32711212,\n",
       "       2.38498963, 2.1802487 , 2.38526265, 2.49082897, 2.35861651,\n",
       "       2.18871961, 2.29187221, 2.2681862 , 2.24300717, 2.16238111,\n",
       "       2.33034203, 2.24414226, 2.27704087, 2.1726385 , 2.2534881 ,\n",
       "       2.21290074, 2.33534683, 2.33489539, 2.63110733])"
      ]
     },
     "execution_count": 48,
     "metadata": {},
     "output_type": "execute_result"
    }
   ],
   "source": [
    "radii"
   ]
  },
  {
   "cell_type": "code",
   "execution_count": 49,
   "id": "f44e7938",
   "metadata": {},
   "outputs": [
    {
     "data": {
      "image/png": "[encoded data removed]",
      "text/plain": [
       "<Figure size 1500x750 with 1 Axes>"
      ]
     },
     "metadata": {},
     "output_type": "display_data"
    }
   ],
   "source": [
    "#Histogram of radii\n",
    "fig, ax = plt.subplots(figsize=(15,7.5))\n",
    "\n",
    "ax.hist(radii, color ='#fb8072', edgecolor = 'black')\n",
    "ax.tick_params(axis='both', which='major', labelsize=20)\n",
    "ax.set_ylabel('Cell Count', fontsize= 20)\n",
    "ax.set_xlabel('Hyperbolic Embedding Radii', fontsize=20)\n",
    "plt.savefig('/Users/iuliarusu/Documents/Sharpee/final_images/figure2/singlew_radii_w0_clustered.svg', format='svg', bbox_inches='tight')"
   ]
  },
  {
   "cell_type": "code",
   "execution_count": 50,
   "id": "75c766bc",
   "metadata": {},
   "outputs": [],
   "source": [
    "#DIP analysis of radii\n",
    "dip, pval = diptest.diptest(radii)"
   ]
  },
  {
   "cell_type": "code",
   "execution_count": 51,
   "id": "2ac64e08",
   "metadata": {},
   "outputs": [
    {
     "data": {
      "text/plain": [
       "(0.05435523627774523, 0.7450962679682782)"
      ]
     },
     "execution_count": 51,
     "metadata": {},
     "output_type": "execute_result"
    }
   ],
   "source": [
    "dip, pval"
   ]
  },
  {
   "cell_type": "code",
   "execution_count": null,
   "id": "31b674d5",
   "metadata": {},
   "outputs": [],
   "source": [
    "all_fits[0]['sig']"
   ]
  },
  {
   "cell_type": "code",
   "execution_count": 53,
   "id": "2793645c",
   "metadata": {},
   "outputs": [],
   "source": [
    "#return negative log likelihood of fit\n",
    "def MDS_lkl(fit, dmat):\n",
    "    lkl = 0;\n",
    "    N = fit['sig'].shape[0]\n",
    "    \n",
    "    sigs = fit['sig']\n",
    "    lam = fit['lambda']\n",
    "    emb_mat = get_embed_dmat(fit)\n",
    "    \n",
    "    for i in np.arange(N):\n",
    "        for j in np.arange(i+1, N):\n",
    "            seff = sigs[i]**2 + sigs[j]**2\n",
    "            lkl += ((dmat[i][j] - emb_mat[i][j]/lam)**2 / (2.0*seff)) + 0.5*np.log(seff*2.0*np.pi)\n",
    "    return lkl\n",
    "\n",
    "#input: optimization fit and distance matrix\n",
    "def BIC(fit, dmat):\n",
    "    N,D = fit['euc'].shape\n",
    "    n = 0.5*N*(N-1)\n",
    "    k = N*D + N + 1.0 - 0.5*D*(D-1)\n",
    "    \n",
    "    return k*np.log(n) + 2.0*MDS_lkl(fit, dmat)"
   ]
  },
  {
   "cell_type": "markdown",
   "id": "e7ccab40",
   "metadata": {},
   "source": [
    "## Bayesian information criteria\n",
    "\n",
    "There is a lot of formal Bayesian Theory behind this (see chapter 2 here https://urldefense.proofpoint.com/v2/url?u=https-3A__www.inference.org.uk_mackay_thesis.pdf&d=DwIGAg&c=-35OiAkTchMrZOngvJPOeA&r=B8GeUuyHfxQP8MseZuhipQ&m=KVww4gh9-XOtp1LqNUc0K-PGXOX3bm2QsokPFlBG9Vs&s=UBtNEdIXatq_zFpG53nmPCLbCnlgIgWigHYhEnBRYyo&e= ), but essentially we are trying to find the minimal number of parameters to describe a dataset. If the data is 5D, we don't want to use 7 parameters to describe it. The BIC is like a cost function that rewards a model that has a better fit to the likelihood function, but penalizes models that increase the number of their parameters. The model which minimizes this function will thus have the ideal trade-off of being able to model the data well without introducing too many parameters and overfitting the data."
   ]
  },
  {
   "cell_type": "code",
   "execution_count": 55,
   "id": "f3688551",
   "metadata": {},
   "outputs": [],
   "source": [
    "all_BIC = [BIC(fit, distance_matrix_squaredp) for fit in all_fits]"
   ]
  },
  {
   "cell_type": "code",
   "execution_count": 56,
   "id": "b1160cc0",
   "metadata": {},
   "outputs": [
    {
     "data": {
      "text/plain": [
       "[202.48680444998178,\n",
       " -236.5642832000426,\n",
       " -264.143466252649,\n",
       " -280.5181864255334,\n",
       " -228.8678477208366,\n",
       " -171.60991617389686,\n",
       " -110.60597285797189,\n",
       " -30.97965535828871,\n",
       " 49.538363545123275,\n",
       " 127.20595179575116,\n",
       " 212.88611824247118,\n",
       " 290.682369949777,\n",
       " 363.0901560348723]"
      ]
     },
     "execution_count": 56,
     "metadata": {},
     "output_type": "execute_result"
    }
   ],
   "source": [
    "all_BIC"
   ]
  },
  {
   "cell_type": "markdown",
   "id": "daae8d10",
   "metadata": {},
   "source": [
    "As you can see the BIC is minimized at the true dimension of 5. Any more parameters would have been redundant, any less would not have properly fit the data"
   ]
  },
  {
   "cell_type": "code",
   "execution_count": 65,
   "id": "c3160255",
   "metadata": {},
   "outputs": [
    {
     "data": {
      "image/png": "[encoded data removed]",
      "text/plain": [
       "<Figure size 750x750 with 1 Axes>"
      ]
     },
     "metadata": {},
     "output_type": "display_data"
    }
   ],
   "source": [
    "fig, ax = plt.subplots(figsize=(7.5, 7.5))\n",
    "\n",
    "ax.scatter(np.arange(2,15), all_BIC, c = '#8dd3c7', edgecolor = 'black', s = 200) #cornflowerblue, lightcoral\n",
    "ax.set_xlabel('Dimension', fontsize=35)\n",
    "ax.tick_params(axis='both', which='major', labelsize=25)\n",
    "ax.set_xticks(np.arange(2, 15, 2))\n",
    "ax.set_ylabel('BIC', fontsize=35)\n",
    "\n",
    "plt.savefig('/Users/iuliarusu/Documents/Sharpee/final_images/figure2/singlew_BIC_w0_clustered.svg', format='svg', bbox_inches='tight')"
   ]
  },
  {
   "cell_type": "markdown",
   "id": "ce171280",
   "metadata": {},
   "source": [
    "# Re-Running the optimizer\n",
    "Lets start by generating some 2D data"
   ]
  },
  {
   "cell_type": "markdown",
   "id": "66b6d256",
   "metadata": {},
   "source": [
    "What is the purpose of re-running?"
   ]
  },
  {
   "cell_type": "code",
   "execution_count": null,
   "id": "6159dca9",
   "metadata": {},
   "outputs": [],
   "source": [
    "#generate 100 data points uniformly distributed in 5 dimensional hyperbolic space of radius R=4\n",
    "dim=2; R=4.0;\n",
    "n=100\n",
    "dirs = stats.norm.rvs(size=(n, dim))\n",
    "dirs = (dirs.T/np.sqrt(np.sum(np.square(dirs), axis=1))).T\n",
    "U = stats.uniform.rvs(size=n)\n",
    "rs_p = np.tanh(np.log((1-np.exp(-R))/np.exp(-R)*(U) + 1.0)/2.0)\n",
    "p_coords = rs_p.reshape(-1,1)*dirs\n",
    "\n",
    "#add noise to the computed distance matrix to simulate a more realistic dataset\n",
    "mat_2D = get_dmat(p_coords) + 0.05*R*stats.norm.rvs(size=(n,n))\n",
    "for i in np.arange(n):\n",
    "    for j in np.arange(i+1, n):\n",
    "        mat_2D[j][i] = mat_2D[i][j]\n",
    "mat_2D = 2.0*mat_2D/np.max(mat_2D)"
   ]
  },
  {
   "cell_type": "code",
   "execution_count": null,
   "id": "9f65f1d2",
   "metadata": {},
   "outputs": [],
   "source": [
    "#dictionary to specify input to simulation\n",
    "dat={'N':76, 'D':6, 'deltaij':distance_matrix_squaredp}\n",
    "#run optimizer\n",
    "model2D = ltz_m.optimize(data=dat, iter=250000, algorithm='LBFGS', tol_rel_grad=1e2)\n",
    "hyp_emb2D = {'euc':model2D.euc, 'sig':model2D.sig, 'lambda':model2D.stan_variable('lambda')}"
   ]
  },
  {
   "cell_type": "code",
   "execution_count": null,
   "id": "546b43c3",
   "metadata": {},
   "outputs": [],
   "source": [
    "process_sim(hyp_emb2D)"
   ]
  },
  {
   "cell_type": "markdown",
   "id": "77ed16b6",
   "metadata": {},
   "source": [
    "#### Most pts are well fit, but a few are poorly fit (the ones with high sigma) which adds a lot of scatter to the shepard diagram\n",
    "#### The optimizer got caught in a false minimum"
   ]
  },
  {
   "cell_type": "code",
   "execution_count": null,
   "id": "4bddb3f4",
   "metadata": {},
   "outputs": [],
   "source": [
    "#can't find 'emb_mat' parameter \n",
    "hyp_emb2D.keys()"
   ]
  },
  {
   "cell_type": "code",
   "execution_count": null,
   "id": "bb8c2124",
   "metadata": {},
   "outputs": [],
   "source": [
    "fig, ax = plt.subplots(1, 2, figsize=(15,7.5))\n",
    "\n",
    "ax[0].scatter(distance_matrix_squaredp[np.triu_indices(76, k=1)], hyp_emb2D['sig'][np.triu_indices(76, k=1)])\n",
    "ax[0].plot(np.arange(3), np.arange(3), c='black', linewidth=5, alpha=0.5)\n",
    "\n",
    "ax[0].set_xlabel('Original Distances', fontsize=20)\n",
    "ax[0].set_ylabel('Embedding Distances / $\\lambda$', fontsize=20)\n",
    "\n",
    "ax[1].hist(hyp_emb2D['sig'])\n",
    "ax[1].set_xlabel('Embedding Uncertainties', fontsize=20)"
   ]
  },
  {
   "cell_type": "markdown",
   "id": "23edc498",
   "metadata": {},
   "source": [
    "### Strategy: randomize the positions of the poorly fit points, and then return the coordinates as the initial conditions to continue optimizing. This bumps the simulation out of the false minimium without destroying all of the work its already done"
   ]
  },
  {
   "cell_type": "code",
   "execution_count": null,
   "id": "e47006a6",
   "metadata": {},
   "outputs": [],
   "source": [
    "#figure out which pts have high uncertainty, and randomize their coordinates without touching the rest of the points\n",
    "N_refit = np.where(hyp_emb2D['sig'] > 0.3)[0].shape[0]\n",
    "hyp_emb2D['euc'][np.where(hyp_emb2D['sig'] > 0.3)] = stats.norm.rvs(size=(N_refit,2))"
   ]
  },
  {
   "cell_type": "code",
   "execution_count": null,
   "id": "44aa4765",
   "metadata": {},
   "outputs": [],
   "source": [
    "#re-reun the optimizer, but this time sepcify the initial condition by passing the previous simulation dictionary\n",
    "dat={'N':100, 'D':2, 'deltaij':mat_2D}\n",
    "model2D = ltz_m.optimize(data=dat, iter=250000, algorithm='LBFGS', tol_rel_grad=1e2,inits = hyp_emb2D)\n",
    "hyp_emb2D = {'euc':model2D.euc, 'sig':model2D.sig, 'lambda':model2D.stan_variable('lambda')}\n",
    "# tst_2D = ltz_m.optimizing(data=dat, iter=250000, tol_rel_grad=1e2, init=tst_2D)"
   ]
  },
  {
   "cell_type": "code",
   "execution_count": null,
   "id": "4dc911c9",
   "metadata": {},
   "outputs": [],
   "source": [
    "process_sim(hyp_emb2D)"
   ]
  },
  {
   "cell_type": "markdown",
   "id": "b28b534e",
   "metadata": {},
   "source": [
    "### We see that the fit is significantly better, although there are still a few poorly fit points. We could keep iterating the above process until all points are well fit."
   ]
  },
  {
   "cell_type": "code",
   "execution_count": null,
   "id": "9f3fa17a",
   "metadata": {},
   "outputs": [],
   "source": [
    "fig, ax = plt.subplots(1, 2, figsize=(15,7.5))\n",
    "\n",
    "ax[0].scatter(mat_2D[np.triu_indices(100, k=1)], hyp_emb2D['emb_mat'][np.triu_indices(100, k=1)])\n",
    "ax[0].plot(np.arange(3), np.arange(3), c='black', linewidth=5, alpha=0.5)\n",
    "\n",
    "ax[0].set_xlabel('Original Distances', fontsize=20)\n",
    "ax[0].set_ylabel('Embedding Distances / $\\lambda$', fontsize=20)\n",
    "\n",
    "ax[1].hist(hyp_emb2D['sig'])\n",
    "ax[1].set_xlabel('Embedding Uncertainties', fontsize=20)"
   ]
  }
 ],
 "metadata": {
  "kernelspec": {
   "display_name": "Python 3 (ipykernel)",
   "language": "python",
   "name": "python3"
  },
  "language_info": {
   "codemirror_mode": {
    "name": "ipython",
    "version": 3
   },
   "file_extension": ".py",
   "mimetype": "text/x-python",
   "name": "python",
   "nbconvert_exporter": "python",
   "pygments_lexer": "ipython3",
   "version": "3.10.14"
  }
 },
 "nbformat": 4,
 "nbformat_minor": 5
}
