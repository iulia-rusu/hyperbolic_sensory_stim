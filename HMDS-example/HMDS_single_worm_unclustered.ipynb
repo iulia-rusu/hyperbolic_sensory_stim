{
 "cells": [
  {
   "cell_type": "code",
   "execution_count": 1,
   "id": "dbb521f1",
   "metadata": {},
   "outputs": [],
   "source": [
    "'''\n",
    "Method developed by Anoop Praturu: https://www.biorxiv.org/content/10.1101/2022.10.12.511940v1\n",
    "Code from Anoop Praturu on Oct 2021\n",
    "Move from pystan to cmdstanpy based on suggestions by Milo Julis\n",
    "Edited by Mingchen Yao on May 26 2023\n",
    "'''\n",
    "\n",
    "import numpy as np\n",
    "import diptest  \n",
    "import matplotlib.pyplot as plt\n",
    "import cmdstanpy as stan\n",
    "import scipy.stats as stats\n",
    "import pickle\n",
    "import seaborn as sns\n",
    "%matplotlib inline\n",
    "\n",
    "import pandas as pd\n",
    "\n",
    "import plotly.express as px\n",
    "from matplotlib import rcParams\n",
    "import plotly.express as px"
   ]
  },
  {
   "cell_type": "code",
   "execution_count": null,
   "id": "73e1d8b7",
   "metadata": {},
   "outputs": [],
   "source": [
    "# # if there is anything wrong with comstan: re-install it. Otherwise don't run this cell\n",
    "# from cmdstanpy import install_cmdstan\n",
    "# install_cmdstan(overwrite = True)"
   ]
  },
  {
   "cell_type": "code",
   "execution_count": null,
   "id": "e6c280a4",
   "metadata": {},
   "outputs": [],
   "source": [
    "!python --version"
   ]
  },
  {
   "cell_type": "markdown",
   "id": "93f95b0f",
   "metadata": {},
   "source": [
    "# Functions for Generating Synthetic Data"
   ]
  },
  {
   "cell_type": "code",
   "execution_count": 2,
   "id": "f16c0781",
   "metadata": {},
   "outputs": [],
   "source": [
    "#returns hyperbolic distance between vectors in poincare ball\n",
    "def poincare_dist(v1, v2):\n",
    "    sq = np.sum(np.square(v1-v2))\n",
    "    r1 = np.sum(np.square(v1))\n",
    "    r2 = np.sum(np.square(v2))\n",
    "    inv = 2.0*sq/((1.0-r1)*(1.0-r2))\n",
    "    return np.arccosh(1.0 + inv)\n",
    "\n",
    "#return NxN symmetric distance matrix from poincare coordinates\n",
    "def get_dmat(p_coords):\n",
    "    N = p_coords.shape[0]\n",
    "    dists = np.zeros((N, N))\n",
    "    \n",
    "    for i in np.arange(N):\n",
    "        for j in np.arange(i+1, N):\n",
    "            dists[i][j] = poincare_dist(p_coords[i], p_coords[j])\n",
    "            dists[j][i] = dists[i][j]\n",
    "    return dists"
   ]
  },
  {
   "cell_type": "code",
   "execution_count": null,
   "id": "f942b036",
   "metadata": {},
   "outputs": [],
   "source": [
    "#generate 100 data points uniformly distributed in 5 dimensional hyperbolic space of radius R=4\n",
    "dim=5; R=4.0;\n",
    "n=100\n",
    "dirs = stats.norm.rvs(size=(n, dim))\n",
    "dirs = (dirs.T/np.sqrt(np.sum(np.square(dirs), axis=1))).T\n",
    "U = stats.uniform.rvs(size=n)\n",
    "rs_p = np.tanh(np.log((1-np.exp(-R))/np.exp(-R)*(U) + 1.0)/2.0)\n",
    "p_coords = rs_p.reshape(-1,1)*dirs\n",
    "\n",
    "#add noise to the computed distance matrix to simulate a more realistic dataset\n",
    "mat_dim = get_dmat(p_coords) + 0.05*R*stats.norm.rvs(size=(n,n))\n",
    "for i in np.arange(n):\n",
    "    for j in np.arange(i+1, n):\n",
    "        mat_dim[j][i] = mat_dim[i][j]\n",
    "mat_dim = 2.0*mat_dim/np.max(mat_dim)"
   ]
  },
  {
   "cell_type": "markdown",
   "id": "abf7bb38",
   "metadata": {},
   "source": [
    "# Code for fitting Bayesian Model"
   ]
  },
  {
   "cell_type": "code",
   "execution_count": 3,
   "id": "0a7b4752",
   "metadata": {},
   "outputs": [],
   "source": [
    "path = '/Users/iuliarusu/Documents/Sharpee/HMDS-example/model/'\n",
    "ltz_m = stan.CmdStanModel(stan_file=path+'lorentz.stan')"
   ]
  },
  {
   "cell_type": "markdown",
   "id": "4ea2a559",
   "metadata": {},
   "source": [
    "## Run the optimizer given the synthetically generated Data set"
   ]
  },
  {
   "cell_type": "code",
   "execution_count": 4,
   "id": "b35a571e",
   "metadata": {},
   "outputs": [],
   "source": [
    "ON = pd.read_csv('/Users/iuliarusu/Documents/Sharpee/Clustering/clustered_bacterial_stim/ON_cluster.csv') \n",
    "OFF = pd.read_csv('/Users/iuliarusu/Documents/Sharpee/Clustering/clustered_bacterial_stim/OFF_cluster.csv')\n",
    "AVA_0_df = pd.read_csv ('/Users/iuliarusu/Documents/Sharpee/Clustering/clustered_bacterial_stim/AVA_0_df.csv')\n",
    "RME_0_df = pd.read_csv ('/Users/iuliarusu/Documents/Sharpee/Clustering/clustered_bacterial_stim/RME_0_df.csv')\n",
    "SMDD_0_df = pd.read_csv ('/Users/iuliarusu/Documents/Sharpee/Clustering/clustered_bacterial_stim/SMDD_0_df.csv')\n",
    "SMDV_0_df = pd.read_csv ('/Users/iuliarusu/Documents/Sharpee/Clustering/clustered_bacterial_stim/SMDV_0_df.csv')"
   ]
  },
  {
   "cell_type": "code",
   "execution_count": 5,
   "id": "010b6751",
   "metadata": {},
   "outputs": [],
   "source": [
    "ON_0 = ON[ON['worm_id'] == 0]\n",
    "OFF_0 = OFF[OFF['worm_id'] == 0]"
   ]
  },
  {
   "cell_type": "markdown",
   "id": "c4cbc88c",
   "metadata": {},
   "source": [
    "# for a single worm, concatenate all clustered cells\n"
   ]
  },
  {
   "cell_type": "code",
   "execution_count": 6,
   "id": "f0b3343e",
   "metadata": {},
   "outputs": [],
   "source": [
    "# example for w0\n",
    "ON_0 = np.array(ON_0.iloc[:, 1: -2])\n",
    "OFF_0 = np.array(OFF_0.iloc[:, 1: -2])\n",
    "AVA_0 = np.array(AVA_0_df.iloc[:, 1: -2])\n",
    "RME_0 = np.array(RME_0_df.iloc[:, 1: -2])\n",
    "SMDV_0 = np.array(SMDV_0_df.iloc[:, 1: -2])\n",
    "SMDD_0 = np.array(SMDD_0_df.iloc[:, 1: -2])"
   ]
  },
  {
   "cell_type": "code",
   "execution_count": 7,
   "id": "03a928e5",
   "metadata": {},
   "outputs": [],
   "source": [
    "#concatenate all cell types\n",
    "w_0 = np.concatenate((ON_0, OFF_0, AVA_0, RME_0, SMDV_0, SMDD_0), axis=0)"
   ]
  },
  {
   "cell_type": "code",
   "execution_count": 8,
   "id": "13add130",
   "metadata": {},
   "outputs": [
    {
     "data": {
      "text/plain": [
       "(29, 1600)"
      ]
     },
     "execution_count": 8,
     "metadata": {},
     "output_type": "execute_result"
    }
   ],
   "source": [
    "w_0.shape"
   ]
  },
  {
   "cell_type": "code",
   "execution_count": 9,
   "id": "01dd76a9",
   "metadata": {},
   "outputs": [],
   "source": [
    "w_0_df = pd.DataFrame(w_0)"
   ]
  },
  {
   "cell_type": "markdown",
   "id": "1dd6893c",
   "metadata": {},
   "source": [
    "# All Stim Together"
   ]
  },
  {
   "cell_type": "code",
   "execution_count": 10,
   "id": "90c1b947",
   "metadata": {},
   "outputs": [],
   "source": [
    "ON_counts = np.array(ON.iloc[:, 1: -2])#this has an extra column for each cell's original id\n",
    "OFF_counts = np.array(OFF.iloc[:, 1: -2]) \n",
    "\n"
   ]
  },
  {
   "cell_type": "code",
   "execution_count": 11,
   "id": "a3d44fb4",
   "metadata": {},
   "outputs": [],
   "source": [
    "all_stim = np.concatenate((ON_counts, OFF_counts), axis=0)"
   ]
  },
  {
   "cell_type": "markdown",
   "id": "8f61d6d2",
   "metadata": {},
   "source": [
    "# whole worm no cluster\n"
   ]
  },
  {
   "cell_type": "code",
   "execution_count": 35,
   "id": "f5b73b96",
   "metadata": {},
   "outputs": [],
   "source": [
    "bacteria = np.load('/Users/iuliarusu/Documents/Sharpee/ProcAiryData/Yfull_op50_SF.npz')\n",
    "bacteria_arr_0= bacteria['arr_1']\n",
    "bacteria_0_df = pd.DataFrame(bacteria_arr_0)\n",
    "corr_matrix = bacteria_0_df.corr()\n",
    "distance_matrix = 1 - corr_matrix\n",
    "distance_matrix_squaredp = (1 - corr_matrix**2) * 2"
   ]
  },
  {
   "cell_type": "code",
   "execution_count": 36,
   "id": "ac053860",
   "metadata": {},
   "outputs": [
    {
     "data": {
      "text/plain": [
       "(135, 135)"
      ]
     },
     "execution_count": 36,
     "metadata": {},
     "output_type": "execute_result"
    }
   ],
   "source": [
    "distance_matrix_squaredp.shape"
   ]
  },
  {
   "cell_type": "code",
   "execution_count": 37,
   "id": "8db4cafc",
   "metadata": {},
   "outputs": [
    {
     "name": "stderr",
     "output_type": "stream",
     "text": [
      "23:13:57 - cmdstanpy - INFO - Chain [1] start processing\n",
      "23:20:36 - cmdstanpy - INFO - Chain [1] done processing\n"
     ]
    }
   ],
   "source": [
    "#dictionary to specify input to simulation\n",
    "\n",
    "# dat={'N':100, 'D':5, 'deltaij':mat_dim}\n",
    "dat = {'N': 135 , 'D': 3 , 'deltaij':distance_matrix_squaredp}\n",
    "#run optimizer\n",
    "model = ltz_m.optimize(data=dat, iter=250000, algorithm='LBFGS', tol_rel_grad=1e2)"
   ]
  },
  {
   "cell_type": "code",
   "execution_count": 38,
   "id": "a880a1ed",
   "metadata": {},
   "outputs": [
    {
     "name": "stderr",
     "output_type": "stream",
     "text": [
      "23:21:47 - cmdstanpy - WARNING - The default behavior of CmdStanMLE.stan_variable() will change in a future release to always return a numpy.ndarray, even for scalar variables.\n"
     ]
    }
   ],
   "source": [
    "# build result \n",
    "hyp_emb = {'euc':model.euc, 'sig':model.sig, 'lambda':model.stan_variable('lambda')}\n",
    "\n",
    "# # and save\n",
    "# fdname = './emb5d.pickle'\n",
    "# with open(fdname,'wb') as file:\n",
    "#     pickle.dump(hyp_emb, file,  protocol=pickle.HIGHEST_PROTOCOL)"
   ]
  },
  {
   "cell_type": "code",
   "execution_count": null,
   "id": "d4ef1297",
   "metadata": {},
   "outputs": [],
   "source": [
    "# # load existing results\n",
    "# fdname = './emb5d.pickle'\n",
    "# with open(fdname, 'rb') as file:\n",
    "#     hyp_emb = pickle.load(file)"
   ]
  },
  {
   "cell_type": "markdown",
   "id": "0f4a4cf9",
   "metadata": {},
   "source": [
    "## Some utility functions for post-processing the simulation output"
   ]
  },
  {
   "cell_type": "code",
   "execution_count": 9,
   "id": "1f033e62",
   "metadata": {},
   "outputs": [],
   "source": [
    "def d_lor(t1, t2, E1, E2):\n",
    "    return np.arccosh(t1*t2 - np.dot(E1, E2))\n",
    "\n",
    "#returns embedding distance matrix from optimization fit\n",
    "def get_embed_dmat(fit):\n",
    "    N = fit['euc'].shape[0]\n",
    "    fit_ts = np.sqrt(1.0 + np.sum(np.square(fit['euc']), axis=1))\n",
    "\n",
    "    fit_mat = np.zeros((N, N))\n",
    "\n",
    "    for i in np.arange(N):\n",
    "        for j in np.arange(i+1,N):\n",
    "            fit_mat[i][j] = d_lor(fit_ts[i], fit_ts[j], fit['euc'][i], fit['euc'][j])\n",
    "            fit_mat[j][i] = fit_mat[i][j]\n",
    "            \n",
    "    return fit_mat\n",
    "\n",
    "#return poincare coordinates\n",
    "def get_poin(fit):\n",
    "    ts = np.sqrt(1.0 + np.sum(np.square(fit['euc']), axis=1))\n",
    "    return (fit['euc'].T / (ts + 1)).T"
   ]
  },
  {
   "cell_type": "code",
   "execution_count": 10,
   "id": "dac6394d",
   "metadata": {},
   "outputs": [],
   "source": [
    "def process_sim(fit):\n",
    "    fit['emb_mat'] = get_embed_dmat(fit)/fit['lambda']\n",
    "    fit['pcoords'] = get_poin(fit)\n",
    "    fit['radii'] = 2.0*np.arctanh(np.sqrt(np.sum(np.square(fit['pcoords']), axis=1)))"
   ]
  },
  {
   "cell_type": "code",
   "execution_count": 42,
   "id": "d651f3ad",
   "metadata": {},
   "outputs": [],
   "source": [
    "#run this function after running the optimizer to process the output data into more usable forms\n",
    "process_sim(hyp_emb)"
   ]
  },
  {
   "cell_type": "code",
   "execution_count": 43,
   "id": "8d3b4c66",
   "metadata": {},
   "outputs": [
    {
     "data": {
      "text/plain": [
       "5.21632"
      ]
     },
     "execution_count": 43,
     "metadata": {},
     "output_type": "execute_result"
    }
   ],
   "source": [
    "#curvature (or radius)\n",
    "hyp_emb['lambda']"
   ]
  },
  {
   "cell_type": "code",
   "execution_count": 44,
   "id": "fa441edb",
   "metadata": {},
   "outputs": [
    {
     "data": {
      "text/plain": [
       "array([[ 6.36865490e-02, -7.28968981e-01, -6.56928584e-01],\n",
       "       [ 2.60642749e-01,  5.90887025e-01,  7.52372646e-01],\n",
       "       [ 6.01007097e-02, -7.35963756e-01, -6.49631091e-01],\n",
       "       [ 3.41310252e-02, -7.29872281e-01, -6.61636887e-01],\n",
       "       [-5.43649548e-01,  9.53395197e-02,  8.17108663e-01],\n",
       "       [ 3.38353149e-02, -7.13496761e-01, -6.79717109e-01],\n",
       "       [-4.63734037e-01,  5.85475131e-02, -8.74456804e-01],\n",
       "       [ 1.39154335e-01, -6.38745189e-01, -7.43946645e-01],\n",
       "       [ 7.16349637e-02, -6.94831860e-01, -6.96930513e-01],\n",
       "       [ 1.14439413e-01, -7.01484139e-01, -6.83571725e-01],\n",
       "       [ 2.63795444e-01,  5.80531010e-01,  7.59271008e-01],\n",
       "       [ 2.94449050e-01, -3.40213239e-01, -8.82326803e-01],\n",
       "       [ 5.66778920e-02, -7.05000136e-01, -6.86896097e-01],\n",
       "       [ 1.85184573e-01, -7.74408510e-01, -5.86765980e-01],\n",
       "       [ 1.57601721e-01, -5.34337656e-01, -8.17369674e-01],\n",
       "       [ 9.80274005e-01, -1.01383588e-01,  1.23890060e-01],\n",
       "       [ 1.51650998e-01, -4.33421680e-01, -8.77659002e-01],\n",
       "       [ 1.66841092e-01, -7.78789510e-01, -5.82380619e-01],\n",
       "       [-8.77958893e-01,  2.94418062e-01,  3.54180554e-01],\n",
       "       [-9.39942728e-01, -2.47704811e-01,  1.73688409e-01],\n",
       "       [ 5.69204320e-02, -7.30119608e-01, -6.56681846e-01],\n",
       "       [-9.74572338e-01,  1.31647285e-01, -1.28668489e-01],\n",
       "       [-3.75620182e-01, -2.92984399e-01, -8.64750666e-01],\n",
       "       [ 7.17219509e-01,  6.85348397e-01, -8.16158126e-03],\n",
       "       [ 5.78990898e-02, -7.36874187e-01, -6.49909576e-01],\n",
       "       [ 2.57553196e-01, -3.68669765e-01, -8.79805509e-01],\n",
       "       [ 2.71374654e-02, -7.24330410e-01, -6.68105821e-01],\n",
       "       [ 7.73970961e-01, -7.16295186e-03,  6.21227246e-01],\n",
       "       [ 5.45850886e-01, -4.24189058e-01,  7.11833757e-01],\n",
       "       [-5.54820411e-01, -6.16792322e-01,  5.22223743e-01],\n",
       "       [ 6.05032129e-01,  2.15431202e-01, -7.55742495e-01],\n",
       "       [-4.51042600e-01, -7.18202820e-01, -4.99587586e-01],\n",
       "       [-4.15571675e-01,  7.93029950e-01,  4.27006980e-01],\n",
       "       [ 2.16562510e-02, -9.11884244e-01, -3.56340596e-01],\n",
       "       [ 3.19077542e-02, -7.12736013e-01, -6.81285205e-01],\n",
       "       [ 2.33590924e-01, -3.91514442e-01, -8.76892122e-01],\n",
       "       [ 8.00068001e-01, -5.86670188e-01,  1.85960963e-02],\n",
       "       [-4.84732912e-01,  1.88915309e-01,  8.38045833e-01],\n",
       "       [ 4.21697477e-01, -1.26591684e-01, -8.81571448e-01],\n",
       "       [-3.17492685e-01, -7.96706571e-01, -4.85710191e-01],\n",
       "       [-7.64067259e-01, -4.35200282e-01,  4.47503913e-01],\n",
       "       [ 9.49236154e-02, -7.06976573e-01, -6.78689505e-01],\n",
       "       [ 6.01847255e-01, -2.55143178e-01,  7.43968885e-01],\n",
       "       [ 3.88773921e-01, -5.44384959e-01, -7.31166166e-01],\n",
       "       [-9.38045216e-01,  4.77761843e-02, -3.17047471e-01],\n",
       "       [ 2.56840599e-01, -7.28443013e-01, -6.17570764e-01],\n",
       "       [ 8.07300253e-01, -3.22489139e-01, -4.78746756e-01],\n",
       "       [ 3.03165380e-01,  5.76568836e-01,  7.48370352e-01],\n",
       "       [-9.43105081e-01,  1.18896460e-02,  2.89496646e-01],\n",
       "       [-7.02690036e-01,  5.42317885e-01, -4.42670417e-01],\n",
       "       [ 1.06584628e-01, -6.86190128e-01, -7.02645056e-01],\n",
       "       [-3.92975916e-01,  4.36037212e-01,  7.93691112e-01],\n",
       "       [ 9.83144558e-01, -6.67962399e-02,  1.11851410e-01],\n",
       "       [-8.48926033e-01, -3.81289339e-01,  3.16749824e-01],\n",
       "       [-1.32174182e-01, -6.98812188e-01, -6.84358060e-01],\n",
       "       [-9.72506064e-01,  1.64876431e-01, -1.14113232e-01],\n",
       "       [ 6.17652870e-02, -6.99952132e-01, -6.92502170e-01],\n",
       "       [ 2.39064054e-01, -7.68826108e-01, -5.78480430e-01],\n",
       "       [-3.76139737e-01,  2.16146389e-01,  8.85433703e-01],\n",
       "       [ 2.42492737e-01,  5.92122037e-01,  7.56624927e-01],\n",
       "       [-1.98645543e-01, -4.13719530e-01,  8.75235354e-01],\n",
       "       [ 1.55581253e-01, -8.09033316e-01, -5.47794613e-01],\n",
       "       [ 8.67137883e-01,  9.34473495e-02, -4.72146345e-01],\n",
       "       [ 7.62139389e-01, -6.32834316e-01,  2.27424421e-02],\n",
       "       [ 6.63467538e-02,  3.85453636e-01, -9.11257022e-01],\n",
       "       [ 2.53115816e-01,  1.38186934e-01, -9.45222393e-01],\n",
       "       [ 1.49486830e-01, -7.69336915e-01, -6.03025982e-01],\n",
       "       [ 2.67208843e-01,  6.08855121e-01,  7.35454441e-01],\n",
       "       [ 9.69749153e-01, -2.01457064e-01,  2.21962215e-02],\n",
       "       [ 3.25683148e-01, -9.36768764e-01,  4.56539483e-03],\n",
       "       [ 4.61233343e-01, -7.34221985e-01, -4.80992289e-01],\n",
       "       [ 4.02947650e-01, -3.04247097e-03,  9.07544353e-01],\n",
       "       [-8.19561162e-01, -1.34421016e-01,  5.33158831e-01],\n",
       "       [-2.71845850e-01, -9.52567450e-01,  3.80210997e-02],\n",
       "       [-4.61826824e-01,  2.32055399e-02,  8.69622535e-01],\n",
       "       [-5.69493016e-01, -5.50344854e-01, -5.91328720e-01],\n",
       "       [ 3.15244710e-01, -6.90434395e-01, -6.35813122e-01],\n",
       "       [-5.40174990e-04, -9.88060529e-01, -6.11511971e-02],\n",
       "       [-5.22888269e-01, -7.63793904e-01,  3.20435457e-01],\n",
       "       [-7.42215682e-01,  4.13633672e-01,  5.06359412e-01],\n",
       "       [ 1.46267644e-01,  8.47539768e-01, -4.90837535e-01],\n",
       "       [-7.31045453e-01, -8.07524283e-02,  6.59651424e-01],\n",
       "       [-6.77046864e-01, -1.60693148e-01,  6.94685935e-01],\n",
       "       [-5.79566035e-01, -4.65867243e-02,  7.96926281e-01],\n",
       "       [-6.41690551e-02, -8.59797840e-01, -4.78692730e-01],\n",
       "       [-2.90087407e-01, -6.81131891e-01, -6.52529867e-01],\n",
       "       [ 8.18698608e-02,  9.63057305e-01, -2.24208827e-01],\n",
       "       [ 7.07812948e-02, -6.85596797e-01, -7.07798567e-01],\n",
       "       [-4.00575323e-01,  7.20052403e-01,  5.51941409e-01],\n",
       "       [-4.34137641e-01, -7.75297212e-02,  8.87330829e-01],\n",
       "       [ 9.27266685e-02, -6.72683690e-01,  7.21919411e-01],\n",
       "       [ 9.92079619e-02, -3.51655529e-01,  9.22172127e-01],\n",
       "       [-4.53401705e-01, -3.57066266e-01,  8.03173571e-01],\n",
       "       [-8.60419739e-02,  9.76092227e-01, -1.39797098e-01],\n",
       "       [-8.03396190e-01, -5.65671168e-01, -3.65819509e-02],\n",
       "       [-1.97917799e-01, -7.10742836e-01,  6.60791252e-01],\n",
       "       [-5.71164954e-01, -7.95851116e-01, -1.30078003e-01],\n",
       "       [-7.36310323e-01, -2.41060103e-01,  6.11123437e-01],\n",
       "       [-2.39698281e-01, -8.74214720e-01, -3.61112270e-01],\n",
       "       [-3.38943438e-01,  6.27752060e-01, -6.91732189e-01],\n",
       "       [ 9.84859233e-01,  8.75981611e-02,  3.91898577e-02],\n",
       "       [ 8.26871988e-01,  5.13145882e-01,  1.96314120e-01],\n",
       "       [ 6.49884859e-01,  5.87998653e-01, -4.60550235e-01],\n",
       "       [-7.86017650e-01,  2.89974437e-01, -5.31728571e-01],\n",
       "       [ 6.77283474e-01,  6.50518666e-01, -3.17023872e-01],\n",
       "       [-7.93440942e-01,  6.88517146e-02,  5.83798692e-01],\n",
       "       [-7.14163470e-02,  9.48543794e-01,  2.75968176e-01],\n",
       "       [ 1.76066181e-01, -9.52733461e-01,  1.97608164e-01],\n",
       "       [ 1.13809308e-01, -6.92169631e-01, -6.95415030e-01],\n",
       "       [-3.69974342e-01, -8.43425593e-01,  3.55883763e-01],\n",
       "       [-4.28369667e-01, -5.61526746e-01,  6.86756226e-01],\n",
       "       [ 4.07026447e-01,  8.86386125e-01, -1.79107345e-01],\n",
       "       [-3.33477576e-02, -7.33177443e-01, -6.56223914e-01],\n",
       "       [ 2.16513898e-01, -5.98097834e-01, -7.56640080e-01],\n",
       "       [-8.76973563e-01,  4.59420271e-01, -5.89870273e-02],\n",
       "       [ 1.39884738e-01,  5.21647331e-01,  8.24158583e-01],\n",
       "       [ 6.65701613e-01,  3.12641545e-01,  6.62593268e-01],\n",
       "       [-5.32658887e-01, -7.92307924e-01,  2.04864112e-01],\n",
       "       [-6.27176360e-01,  2.00531472e-01,  7.38472688e-01],\n",
       "       [-5.94752484e-01, -4.84213833e-01,  6.25117668e-01],\n",
       "       [-8.20882914e-01, -2.86509766e-01,  4.64560235e-01],\n",
       "       [-7.60348081e-01, -5.33191168e-01,  3.09665065e-01],\n",
       "       [ 4.60680493e-01, -7.31767639e-01,  4.88482112e-01],\n",
       "       [-6.47439550e-01, -2.15899913e-01,  7.08580997e-01],\n",
       "       [-7.17423278e-02,  8.00417656e-01, -5.80124503e-01],\n",
       "       [ 2.87560282e-01,  5.46026415e-01,  7.74684865e-01],\n",
       "       [ 3.42375912e-01,  8.26384637e-01, -4.30551867e-01],\n",
       "       [-6.69515656e-01, -5.62959544e-01,  4.39632250e-01],\n",
       "       [-4.02524578e-01,  8.25038766e-01, -3.80823709e-01],\n",
       "       [-2.78661188e-01, -1.19915818e-01,  9.41393753e-01],\n",
       "       [ 4.43325046e-01,  6.71878144e-01, -5.75326980e-01],\n",
       "       [-5.93636280e-01,  7.96992210e-01,  1.46409202e-02],\n",
       "       [-6.49855554e-01, -5.15714222e-02,  7.42916167e-01],\n",
       "       [-5.69899205e-01, -1.51102295e-01,  7.91818911e-01],\n",
       "       [-7.12043617e-01, -3.68524483e-01,  5.69134520e-01]])"
      ]
     },
     "execution_count": 44,
     "metadata": {},
     "output_type": "execute_result"
    }
   ],
   "source": [
    "#poincare embedding coordinates\n",
    "hyp_emb['pcoords']"
   ]
  },
  {
   "cell_type": "code",
   "execution_count": 74,
   "id": "d32d1b0c",
   "metadata": {},
   "outputs": [
    {
     "name": "stdout",
     "output_type": "stream",
     "text": [
      "Stored 'w_1_unclustered' (ndarray)\n"
     ]
    }
   ],
   "source": [
    "w_1_unclustered = hyp_emb['pcoords']\n",
    "%store w_1_unclustered"
   ]
  },
  {
   "cell_type": "code",
   "execution_count": 13,
   "id": "e0b8162b",
   "metadata": {},
   "outputs": [
    {
     "data": {
      "text/plain": [
       "dict_keys(['euc', 'sig', 'lambda', 'emb_mat', 'pcoords', 'radii'])"
      ]
     },
     "execution_count": 13,
     "metadata": {},
     "output_type": "execute_result"
    }
   ],
   "source": [
    "#emebdding uncertainties\n",
    "hyp_emb.keys()"
   ]
  },
  {
   "cell_type": "markdown",
   "id": "ffa4a0f2",
   "metadata": {},
   "source": [
    "# Shepard Diagram"
   ]
  },
  {
   "cell_type": "code",
   "execution_count": 14,
   "id": "b68aec1a",
   "metadata": {},
   "outputs": [],
   "source": [
    "rcParams['font.family'] = 'sans-serif'\n",
    "rcParams['font.sans-serif'] = 'Arial'"
   ]
  },
  {
   "cell_type": "code",
   "execution_count": null,
   "id": "6b924846",
   "metadata": {},
   "outputs": [],
   "source": [
    "# color brewer paisley hex color references\n",
    "#8dd3c7\n",
    "#ffffb3\n",
    "#bebada\n",
    "#fb8072\n",
    "#80b1d3"
   ]
  },
  {
   "cell_type": "code",
   "execution_count": 59,
   "id": "c3ed0ead",
   "metadata": {},
   "outputs": [
    {
     "data": {
      "image/png": "[encoded data removed]",
      "text/plain": [
       "<Figure size 1500x750 with 2 Axes>"
      ]
     },
     "metadata": {},
     "output_type": "display_data"
    }
   ],
   "source": [
    "fig, ax = plt.subplots(1, 2, figsize=(15,7.5))\n",
    "\n",
    "ax[0].scatter(distance_matrix_squaredp.values[np.triu_indices(135, k=1)], hyp_emb['emb_mat'][np.triu_indices(135, k=1)], c='#8dd3c7', edgecolor='black', alpha=0.7) #cornflowerblue, lightcoral\n",
    "ax[0].plot(np.arange(3), np.arange(3), c='black', linewidth=5, alpha=0.5)\n",
    "\n",
    "ax[0].set_xlabel('Original Distances', fontsize=20)\n",
    "ax[0].tick_params(axis='both', which='major', labelsize=20)\n",
    "ax[0].set_ylabel('Embedding Distances / $\\lambda$', fontsize=20)\n",
    "\n",
    "ax[1].hist(hyp_emb['sig'], color ='#bebada', edgecolor='black') #cornflowerblue, lightcoral\n",
    "ax[1].set_xlabel('Embedding Uncertainties', fontsize=20)\n",
    "ax[1].tick_params(axis='both', which='major', labelsize=20)"
   ]
  },
  {
   "cell_type": "code",
   "execution_count": 15,
   "id": "7ea16b78",
   "metadata": {},
   "outputs": [],
   "source": [
    "hyperbolic_df= pd.DataFrame(hyp_emb['pcoords'], columns=['x', 'y', 'z'])\n",
    "\n"
   ]
  },
  {
   "cell_type": "code",
   "execution_count": 38,
   "id": "c4caf498",
   "metadata": {},
   "outputs": [],
   "source": [
    "#cell type label column\n",
    "column = ['ON'] * (ON_0.shape[0]) + ['OFF'] * (OFF_0.shape[0]) + ['AVA'] * (AVA_0.shape[0]) + ['RME'] * (RME_0.shape[0]) + ['SMDV'] * (SMDV_0.shape[0]) + ['SMDD'] * (SMDD_0.shape[0])\n",
    "cell_type = np.array(column)\n",
    "hyperbolic_df['cluster labels'] = cell_type.T\n"
   ]
  },
  {
   "cell_type": "code",
   "execution_count": null,
   "id": "b4eddd58",
   "metadata": {},
   "outputs": [],
   "source": [
    "#8dd3c7\n",
    "#ffffb3\n",
    "#bebada\n",
    "#fb8072\n",
    "#80b1d3"
   ]
  },
  {
   "cell_type": "code",
   "execution_count": 75,
   "id": "13337882",
   "metadata": {},
   "outputs": [
    {
     "data": {
      "text/html": [
       "<div>\n",
       "<style scoped>\n",
       "    .dataframe tbody tr th:only-of-type {\n",
       "        vertical-align: middle;\n",
       "    }\n",
       "\n",
       "    .dataframe tbody tr th {\n",
       "        vertical-align: top;\n",
       "    }\n",
       "\n",
       "    .dataframe thead th {\n",
       "        text-align: right;\n",
       "    }\n",
       "</style>\n",
       "<table border=\"1\" class=\"dataframe\">\n",
       "  <thead>\n",
       "    <tr style=\"text-align: right;\">\n",
       "      <th></th>\n",
       "      <th>x</th>\n",
       "      <th>y</th>\n",
       "      <th>z</th>\n",
       "    </tr>\n",
       "  </thead>\n",
       "  <tbody>\n",
       "    <tr>\n",
       "      <th>0</th>\n",
       "      <td>-0.138451</td>\n",
       "      <td>-0.923669</td>\n",
       "      <td>-0.301901</td>\n",
       "    </tr>\n",
       "    <tr>\n",
       "      <th>1</th>\n",
       "      <td>-0.563209</td>\n",
       "      <td>0.720774</td>\n",
       "      <td>0.379041</td>\n",
       "    </tr>\n",
       "    <tr>\n",
       "      <th>2</th>\n",
       "      <td>-0.129600</td>\n",
       "      <td>-0.927211</td>\n",
       "      <td>-0.295215</td>\n",
       "    </tr>\n",
       "    <tr>\n",
       "      <th>3</th>\n",
       "      <td>-0.152381</td>\n",
       "      <td>-0.932179</td>\n",
       "      <td>-0.274223</td>\n",
       "    </tr>\n",
       "    <tr>\n",
       "      <th>4</th>\n",
       "      <td>0.251156</td>\n",
       "      <td>0.282375</td>\n",
       "      <td>0.909630</td>\n",
       "    </tr>\n",
       "    <tr>\n",
       "      <th>...</th>\n",
       "      <td>...</td>\n",
       "      <td>...</td>\n",
       "      <td>...</td>\n",
       "    </tr>\n",
       "    <tr>\n",
       "      <th>130</th>\n",
       "      <td>0.344498</td>\n",
       "      <td>0.573575</td>\n",
       "      <td>-0.726857</td>\n",
       "    </tr>\n",
       "    <tr>\n",
       "      <th>131</th>\n",
       "      <td>0.523202</td>\n",
       "      <td>0.832691</td>\n",
       "      <td>0.138685</td>\n",
       "    </tr>\n",
       "    <tr>\n",
       "      <th>132</th>\n",
       "      <td>0.503046</td>\n",
       "      <td>0.159651</td>\n",
       "      <td>0.834317</td>\n",
       "    </tr>\n",
       "    <tr>\n",
       "      <th>133</th>\n",
       "      <td>0.382575</td>\n",
       "      <td>0.171904</td>\n",
       "      <td>0.892175</td>\n",
       "    </tr>\n",
       "    <tr>\n",
       "      <th>134</th>\n",
       "      <td>0.440495</td>\n",
       "      <td>-0.135714</td>\n",
       "      <td>0.866267</td>\n",
       "    </tr>\n",
       "  </tbody>\n",
       "</table>\n",
       "<p>135 rows × 3 columns</p>\n",
       "</div>"
      ],
      "text/plain": [
       "            x         y         z\n",
       "0   -0.138451 -0.923669 -0.301901\n",
       "1   -0.563209  0.720774  0.379041\n",
       "2   -0.129600 -0.927211 -0.295215\n",
       "3   -0.152381 -0.932179 -0.274223\n",
       "4    0.251156  0.282375  0.909630\n",
       "..        ...       ...       ...\n",
       "130  0.344498  0.573575 -0.726857\n",
       "131  0.523202  0.832691  0.138685\n",
       "132  0.503046  0.159651  0.834317\n",
       "133  0.382575  0.171904  0.892175\n",
       "134  0.440495 -0.135714  0.866267\n",
       "\n",
       "[135 rows x 3 columns]"
      ]
     },
     "execution_count": 75,
     "metadata": {},
     "output_type": "execute_result"
    }
   ],
   "source": [
    "hyperbolic_df"
   ]
  },
  {
   "cell_type": "code",
   "execution_count": 61,
   "id": "09b7a13f",
   "metadata": {},
   "outputs": [
    {
     "data": {
      "application/vnd.plotly.v1+json": {
       "config": {
        "plotlyServerURL": "https://plot.ly"
       },
       "data": [
        {
         "hovertemplate": "x=%{x}<br>y=%{y}<br>z=%{z}<extra></extra>",
         "legendgroup": "",
         "marker": {
          "color": "#80b1d3",
          "opacity": 0.8,
          "size": 8,
          "symbol": "circle"
         },
         "mode": "markers",
         "name": "",
         "scene": "scene",
         "showlegend": false,
         "type": "scatter3d",
         "x": [
          -0.1384508894834247,
          -0.5632090942653796,
          -0.12959954437203186,
          -0.15238144806872678,
          0.25115565678366314,
          -0.17738158836105905,
          -0.39220362874252845,
          -0.20823774323824754,
          -0.18398524352459736,
          -0.15062038051096843,
          -0.575793319798963,
          -0.3246907777951225,
          -0.17810367176943956,
          -0.029514094070906622,
          -0.2978300216882783,
          -0.7810256808418904,
          -0.4009715807698475,
          -0.01395698727031298,
          0.9377892218004785,
          0.06822203394106806,
          -0.13997300829894604,
          -0.47486882024505533,
          0.3449968980882353,
          -0.09303111566642729,
          -0.1303926623179718,
          -0.3497515981812613,
          -0.16388232338305872,
          0.014770812986549302,
          -0.36808107598632034,
          0.4728211054985448,
          -0.899454548680453,
          -0.15265410921478526,
          0.17819055799070793,
          0.2058828701068468,
          -0.18001109176842114,
          -0.35441815886516076,
          -0.8933267935873918,
          0.20349076485287176,
          -0.34126315956711845,
          -0.10660137117079278,
          0.23500562381594423,
          -0.15282471243899584,
          -0.08146819852329197,
          -0.4122135637688911,
          -0.6105283539424619,
          0.03839829160582424,
          0.5151039820049297,
          -0.5360001572477772,
          0.11008661589939905,
          -0.8389105388583645,
          -0.1772974446065317,
          0.10943529681310263,
          -0.7554883242465459,
          0.6089090904081803,
          -0.06396104821207409,
          -0.4359224730818206,
          -0.18284538241363646,
          -0.013860660791865318,
          0.11350216476172038,
          -0.5529508305790404,
          0.12086349625125715,
          -0.3134756141497641,
          -0.9750036079733085,
          -0.8932402692681297,
          -0.13322798505288663,
          0.12400298821584901,
          -0.03521284033571469,
          -0.5794821800389756,
          -0.7552185707356402,
          0.547791290195803,
          0.09473805169544372,
          -0.9096108259086507,
          0.696761600998181,
          -0.5906593885195535,
          0.3787741293877286,
          -0.31869591269207526,
          -0.0420294901542122,
          0.55400479440128,
          0.7827105862649678,
          0.8938714097739392,
          0.4894888308623164,
          0.555383296821102,
          0.43711484463379763,
          0.43768417609309146,
          0.11158405735396065,
          -0.3059703228658381,
          0.817550653563558,
          -0.19776649691728782,
          0.10973320237991774,
          0.5142628842222635,
          0.9848951233923783,
          0.9225039120421782,
          0.6843323506672179,
          0.9179225692241123,
          0.24622424152102676,
          0.7902719397314246,
          0.2463736410063556,
          0.6503769292231331,
          0.08065206029906608,
          0.6213447047771118,
          -0.6668411704609633,
          0.8228789467703667,
          0.32056041126908336,
          -0.8263660023527242,
          0.14983258152282944,
          0.5862573929655548,
          -0.3922433991625231,
          0.7632265334723984,
          -0.1652974205542933,
          0.5260631917174033,
          0.7850728500838989,
          0.2647397869197651,
          -0.1813036950122896,
          -0.20110624377185535,
          -0.29855361499572236,
          -0.4204238512503542,
          -0.5804866798752809,
          0.5903591731245929,
          0.2914512814454093,
          0.38735429125454524,
          0.5736181021895514,
          0.21852612511513592,
          -0.22363144514701394,
          0.46781429655820705,
          0.7331952302919783,
          -0.5556040381324782,
          0.4820554245060445,
          0.33799040889372567,
          0.6924364590222006,
          0.5632165154586772,
          0.34449808327385667,
          0.5232022488047339,
          0.5030458133148842,
          0.3825753058530973,
          0.4404948614117341
         ],
         "y": [
          -0.9236688225737637,
          0.7207743485661889,
          -0.9272112605358593,
          -0.9321788411114025,
          0.28237491288050565,
          -0.9254526186185634,
          0.7557527165710161,
          -0.8681230910593559,
          -0.9099855484129584,
          -0.9021745978032633,
          0.716571834193278,
          -0.6430586785274015,
          -0.9169975885948166,
          -0.8982578119716877,
          -0.7917040708724628,
          0.1359093448478908,
          -0.7259407694386631,
          -0.9052641655424902,
          -0.19102285273000405,
          -0.2435771001560744,
          -0.9258221603142286,
          -0.01373636722995869,
          -0.92605411333789,
          0.6930135498899708,
          -0.9285982021900469,
          -0.6649478822884638,
          -0.9313650320818476,
          0.9824332399619861,
          0.7933995460071458,
          -0.4482971763617019,
          0.3585632511876797,
          -0.9395883490136343,
          0.9046895915399809,
          -0.9181089649914334,
          -0.9258557680054339,
          -0.6869097657719925,
          -0.2976724074180831,
          0.3508191579455878,
          -0.4457213457095628,
          -0.972304380913687,
          -0.0864313060248614,
          -0.9083621016804886,
          0.7736882586409299,
          -0.8725746520327534,
          -0.04932100037049816,
          -0.872318634504585,
          -0.47747416619254435,
          0.7496518522591422,
          0.19996208426506892,
          0.088444309770962,
          -0.8986739653448591,
          0.6520239762248401,
          0.15482382236900752,
          -0.3598419445746056,
          -0.9728359023169267,
          -0.02031038512345677,
          -0.9141704067126983,
          -0.8737856698239811,
          0.4684354825937088,
          0.719701275331342,
          -0.4656013664759543,
          -0.8729690444788651,
          -0.13244218167931607,
          -0.34066669144486555,
          -0.004569784811371512,
          -0.3084377829274692,
          -0.9155068663918695,
          0.6985705507840937,
          -0.025877367989734147,
          -0.8256601850455314,
          -0.6751948243460981,
          0.31875431244086516,
          0.020331258538150557,
          -0.5541590846112735,
          0.3455225591920742,
          -0.8834074553152537,
          -0.8264405033909901,
          -0.7700461880955374,
          0.18360167509018627,
          -0.013138921417897265,
          0.7426121633152892,
          0.05152420947719302,
          0.06718058187048714,
          0.23793588116666828,
          -0.9714595433593763,
          -0.9349316755658962,
          0.39630689993293483,
          -0.9067416777164535,
          0.8569272217111876,
          0.38270806154929743,
          0.057451188957193096,
          0.26003303304730624,
          0.25775658538395624,
          0.27982445375355397,
          -0.6902243213281943,
          -0.4074536011502814,
          -0.8634989571703323,
          -0.10714067355046028,
          -0.9651822745686586,
          0.04671372094644746,
          0.295044975415813,
          -0.05158417274741558,
          0.34982750973637516,
          -0.23078039042359358,
          0.4774404850889222,
          -0.07163287803746443,
          -0.39292458476218994,
          -0.563313202122917,
          -0.8993715594767693,
          -0.657492610552287,
          -0.14510452591219453,
          0.8092827664178959,
          -0.9433083381376527,
          -0.823184048321576,
          0.2458282271181846,
          0.7536609193188315,
          0.002516439465426235,
          -0.6774062527206255,
          0.448833792744215,
          -0.3349493013158448,
          -0.2346430290474139,
          -0.2272476534130607,
          -0.6839927374318387,
          0.009460826421651195,
          0.2961242823301559,
          0.7497988456013425,
          0.6151976845057039,
          -0.21119011045639097,
          0.6942581509852441,
          0.5123826834291912,
          0.5735751960274943,
          0.8326908260961092,
          0.15965069057620826,
          0.17190443146556464,
          -0.13571425340166723
         ],
         "z": [
          -0.3019010508415705,
          0.37904130276951264,
          -0.2952148168211222,
          -0.2742230218863093,
          0.9096302066318065,
          -0.28279684976063674,
          -0.5016599585880419,
          -0.4261820081349499,
          -0.33015291336834074,
          -0.3643616278431016,
          0.3671185536989181,
          -0.6780999018468001,
          -0.3099563917919887,
          -0.41009346046940637,
          -0.5098282633891775,
          -0.5965438325875856,
          -0.5390954783141424,
          -0.38744748439808774,
          0.25651653267253166,
          0.9535849088280577,
          -0.29499406038508297,
          0.8692580245047541,
          -0.015866218260554486,
          -0.7017854265743015,
          -0.29320003611374645,
          -0.639593218021423,
          -0.2701830451903188,
          -0.12778933636232448,
          -0.46301695314238095,
          0.7308168121746983,
          -0.20415528525515,
          0.24329986055161051,
          0.36308162253302445,
          -0.26329989215820115,
          -0.28156354758655383,
          -0.6137064040263145,
          -0.30913900076350687,
          0.8984778646086444,
          -0.8080577367610325,
          0.10967962688715624,
          0.9516916028008449,
          -0.34325483373334187,
          -0.6091418045532825,
          -0.22364027346353912,
          0.7774331676419057,
          -0.45887402034073277,
          -0.69947919500806,
          0.36445981402593697,
          0.9593801553702783,
          0.5203099536007035,
          -0.3665903836075486,
          0.7313444311895901,
          -0.6214188725571688,
          0.6808890420773165,
          -0.14580183045755754,
          0.8910208113974301,
          -0.3179942968667332,
          -0.46581835616141487,
          0.8584645158511756,
          0.3944951128892552,
          0.8631980722809778,
          -0.33946150243544493,
          0.11591426545697332,
          -0.2547732195295064,
          -0.9813939627061175,
          -0.9292822864111552,
          -0.36763051944938063,
          0.39543985068644816,
          -0.6382219627393562,
          0.023641453809871416,
          -0.7170361953519744,
          0.2335453222688848,
          0.6971299692936752,
          0.5650544946072138,
          0.8395815899306966,
          0.3054478235926421,
          -0.5411384772506469,
          -0.2751402659407417,
          0.5527595525263945,
          0.4232221178178552,
          -0.43253818302368247,
          0.8140694431296348,
          0.8757442599446457,
          0.8498902909781848,
          -0.10476335496267601,
          0.03958750425104148,
          -0.39711492948747207,
          -0.3351174341050118,
          0.48514852011378473,
          0.7538230098431583,
          -0.06696836256305187,
          0.2507327908343257,
          0.6630651831825941,
          -0.24124153862541564,
          0.6546678785269839,
          0.43463436370467184,
          0.41002531847859375,
          0.7317966880884221,
          0.09883447717522528,
          -0.7733790250025251,
          -0.6663051626085469,
          -0.5526669947331794,
          -0.8669543760962598,
          0.49759432863736275,
          -0.8537398577540305,
          0.7922713508659586,
          0.8220834631768316,
          -0.2701749957899853,
          -0.36985849911910945,
          0.514378935580328,
          0.5740050666760784,
          -0.5057206409129047,
          -0.20235469781024973,
          -0.5062320296289753,
          0.913064309447158,
          0.47155199444327117,
          0.8023308123151571,
          0.3758313181189922,
          0.830656814049436,
          0.8451604249773996,
          0.7652646368814304,
          0.9248931153920487,
          0.6848701548817322,
          0.8636395693912495,
          -0.5962264167338394,
          0.3276445915629528,
          -0.6101788167996939,
          0.8930652759010879,
          -0.15871874917715653,
          0.628425379499292,
          -0.7268571358351579,
          0.1386848758580075,
          0.83431731743934,
          0.8921749060645844,
          0.8662665241709879
         ]
        }
       ],
       "layout": {
        "legend": {
         "tracegroupgap": 0
        },
        "scene": {
         "domain": {
          "x": [
           0,
           1
          ],
          "y": [
           0,
           1
          ]
         },
         "xaxis": {
          "ticktext": [
           -1,
           -0.5,
           0,
           0.5,
           1
          ],
          "title": {
           "text": "x"
          }
         },
         "yaxis": {
          "ticktext": [
           -1,
           -0.5,
           0,
           0.5,
           1
          ],
          "title": {
           "text": "y"
          }
         },
         "zaxis": {
          "ticktext": [
           -1,
           -0.5,
           0,
           0.5,
           1
          ],
          "title": {
           "text": "z"
          }
         }
        },
        "template": {
         "data": {
          "bar": [
           {
            "error_x": {
             "color": "#2a3f5f"
            },
            "error_y": {
             "color": "#2a3f5f"
            },
            "marker": {
             "line": {
              "color": "#E5ECF6",
              "width": 0.5
             },
             "pattern": {
              "fillmode": "overlay",
              "size": 10,
              "solidity": 0.2
             }
            },
            "type": "bar"
           }
          ],
          "barpolar": [
           {
            "marker": {
             "line": {
              "color": "#E5ECF6",
              "width": 0.5
             },
             "pattern": {
              "fillmode": "overlay",
              "size": 10,
              "solidity": 0.2
             }
            },
            "type": "barpolar"
           }
          ],
          "carpet": [
           {
            "aaxis": {
             "endlinecolor": "#2a3f5f",
             "gridcolor": "white",
             "linecolor": "white",
             "minorgridcolor": "white",
             "startlinecolor": "#2a3f5f"
            },
            "baxis": {
             "endlinecolor": "#2a3f5f",
             "gridcolor": "white",
             "linecolor": "white",
             "minorgridcolor": "white",
             "startlinecolor": "#2a3f5f"
            },
            "type": "carpet"
           }
          ],
          "choropleth": [
           {
            "colorbar": {
             "outlinewidth": 0,
             "ticks": ""
            },
            "type": "choropleth"
           }
          ],
          "contour": [
           {
            "colorbar": {
             "outlinewidth": 0,
             "ticks": ""
            },
            "colorscale": [
             [
              0,
              "#0d0887"
             ],
             [
              0.1111111111111111,
              "#46039f"
             ],
             [
              0.2222222222222222,
              "#7201a8"
             ],
             [
              0.3333333333333333,
              "#9c179e"
             ],
             [
              0.4444444444444444,
              "#bd3786"
             ],
             [
              0.5555555555555556,
              "#d8576b"
             ],
             [
              0.6666666666666666,
              "#ed7953"
             ],
             [
              0.7777777777777778,
              "#fb9f3a"
             ],
             [
              0.8888888888888888,
              "#fdca26"
             ],
             [
              1,
              "#f0f921"
             ]
            ],
            "type": "contour"
           }
          ],
          "contourcarpet": [
           {
            "colorbar": {
             "outlinewidth": 0,
             "ticks": ""
            },
            "type": "contourcarpet"
           }
          ],
          "heatmap": [
           {
            "colorbar": {
             "outlinewidth": 0,
             "ticks": ""
            },
            "colorscale": [
             [
              0,
              "#0d0887"
             ],
             [
              0.1111111111111111,
              "#46039f"
             ],
             [
              0.2222222222222222,
              "#7201a8"
             ],
             [
              0.3333333333333333,
              "#9c179e"
             ],
             [
              0.4444444444444444,
              "#bd3786"
             ],
             [
              0.5555555555555556,
              "#d8576b"
             ],
             [
              0.6666666666666666,
              "#ed7953"
             ],
             [
              0.7777777777777778,
              "#fb9f3a"
             ],
             [
              0.8888888888888888,
              "#fdca26"
             ],
             [
              1,
              "#f0f921"
             ]
            ],
            "type": "heatmap"
           }
          ],
          "heatmapgl": [
           {
            "colorbar": {
             "outlinewidth": 0,
             "ticks": ""
            },
            "colorscale": [
             [
              0,
              "#0d0887"
             ],
             [
              0.1111111111111111,
              "#46039f"
             ],
             [
              0.2222222222222222,
              "#7201a8"
             ],
             [
              0.3333333333333333,
              "#9c179e"
             ],
             [
              0.4444444444444444,
              "#bd3786"
             ],
             [
              0.5555555555555556,
              "#d8576b"
             ],
             [
              0.6666666666666666,
              "#ed7953"
             ],
             [
              0.7777777777777778,
              "#fb9f3a"
             ],
             [
              0.8888888888888888,
              "#fdca26"
             ],
             [
              1,
              "#f0f921"
             ]
            ],
            "type": "heatmapgl"
           }
          ],
          "histogram": [
           {
            "marker": {
             "pattern": {
              "fillmode": "overlay",
              "size": 10,
              "solidity": 0.2
             }
            },
            "type": "histogram"
           }
          ],
          "histogram2d": [
           {
            "colorbar": {
             "outlinewidth": 0,
             "ticks": ""
            },
            "colorscale": [
             [
              0,
              "#0d0887"
             ],
             [
              0.1111111111111111,
              "#46039f"
             ],
             [
              0.2222222222222222,
              "#7201a8"
             ],
             [
              0.3333333333333333,
              "#9c179e"
             ],
             [
              0.4444444444444444,
              "#bd3786"
             ],
             [
              0.5555555555555556,
              "#d8576b"
             ],
             [
              0.6666666666666666,
              "#ed7953"
             ],
             [
              0.7777777777777778,
              "#fb9f3a"
             ],
             [
              0.8888888888888888,
              "#fdca26"
             ],
             [
              1,
              "#f0f921"
             ]
            ],
            "type": "histogram2d"
           }
          ],
          "histogram2dcontour": [
           {
            "colorbar": {
             "outlinewidth": 0,
             "ticks": ""
            },
            "colorscale": [
             [
              0,
              "#0d0887"
             ],
             [
              0.1111111111111111,
              "#46039f"
             ],
             [
              0.2222222222222222,
              "#7201a8"
             ],
             [
              0.3333333333333333,
              "#9c179e"
             ],
             [
              0.4444444444444444,
              "#bd3786"
             ],
             [
              0.5555555555555556,
              "#d8576b"
             ],
             [
              0.6666666666666666,
              "#ed7953"
             ],
             [
              0.7777777777777778,
              "#fb9f3a"
             ],
             [
              0.8888888888888888,
              "#fdca26"
             ],
             [
              1,
              "#f0f921"
             ]
            ],
            "type": "histogram2dcontour"
           }
          ],
          "mesh3d": [
           {
            "colorbar": {
             "outlinewidth": 0,
             "ticks": ""
            },
            "type": "mesh3d"
           }
          ],
          "parcoords": [
           {
            "line": {
             "colorbar": {
              "outlinewidth": 0,
              "ticks": ""
             }
            },
            "type": "parcoords"
           }
          ],
          "pie": [
           {
            "automargin": true,
            "type": "pie"
           }
          ],
          "scatter": [
           {
            "fillpattern": {
             "fillmode": "overlay",
             "size": 10,
             "solidity": 0.2
            },
            "type": "scatter"
           }
          ],
          "scatter3d": [
           {
            "line": {
             "colorbar": {
              "outlinewidth": 0,
              "ticks": ""
             }
            },
            "marker": {
             "colorbar": {
              "outlinewidth": 0,
              "ticks": ""
             }
            },
            "type": "scatter3d"
           }
          ],
          "scattercarpet": [
           {
            "marker": {
             "colorbar": {
              "outlinewidth": 0,
              "ticks": ""
             }
            },
            "type": "scattercarpet"
           }
          ],
          "scattergeo": [
           {
            "marker": {
             "colorbar": {
              "outlinewidth": 0,
              "ticks": ""
             }
            },
            "type": "scattergeo"
           }
          ],
          "scattergl": [
           {
            "marker": {
             "colorbar": {
              "outlinewidth": 0,
              "ticks": ""
             }
            },
            "type": "scattergl"
           }
          ],
          "scattermapbox": [
           {
            "marker": {
             "colorbar": {
              "outlinewidth": 0,
              "ticks": ""
             }
            },
            "type": "scattermapbox"
           }
          ],
          "scatterpolar": [
           {
            "marker": {
             "colorbar": {
              "outlinewidth": 0,
              "ticks": ""
             }
            },
            "type": "scatterpolar"
           }
          ],
          "scatterpolargl": [
           {
            "marker": {
             "colorbar": {
              "outlinewidth": 0,
              "ticks": ""
             }
            },
            "type": "scatterpolargl"
           }
          ],
          "scatterternary": [
           {
            "marker": {
             "colorbar": {
              "outlinewidth": 0,
              "ticks": ""
             }
            },
            "type": "scatterternary"
           }
          ],
          "surface": [
           {
            "colorbar": {
             "outlinewidth": 0,
             "ticks": ""
            },
            "colorscale": [
             [
              0,
              "#0d0887"
             ],
             [
              0.1111111111111111,
              "#46039f"
             ],
             [
              0.2222222222222222,
              "#7201a8"
             ],
             [
              0.3333333333333333,
              "#9c179e"
             ],
             [
              0.4444444444444444,
              "#bd3786"
             ],
             [
              0.5555555555555556,
              "#d8576b"
             ],
             [
              0.6666666666666666,
              "#ed7953"
             ],
             [
              0.7777777777777778,
              "#fb9f3a"
             ],
             [
              0.8888888888888888,
              "#fdca26"
             ],
             [
              1,
              "#f0f921"
             ]
            ],
            "type": "surface"
           }
          ],
          "table": [
           {
            "cells": {
             "fill": {
              "color": "#EBF0F8"
             },
             "line": {
              "color": "white"
             }
            },
            "header": {
             "fill": {
              "color": "#C8D4E3"
             },
             "line": {
              "color": "white"
             }
            },
            "type": "table"
           }
          ]
         },
         "layout": {
          "annotationdefaults": {
           "arrowcolor": "#2a3f5f",
           "arrowhead": 0,
           "arrowwidth": 1
          },
          "autotypenumbers": "strict",
          "coloraxis": {
           "colorbar": {
            "outlinewidth": 0,
            "ticks": ""
           }
          },
          "colorscale": {
           "diverging": [
            [
             0,
             "#8e0152"
            ],
            [
             0.1,
             "#c51b7d"
            ],
            [
             0.2,
             "#de77ae"
            ],
            [
             0.3,
             "#f1b6da"
            ],
            [
             0.4,
             "#fde0ef"
            ],
            [
             0.5,
             "#f7f7f7"
            ],
            [
             0.6,
             "#e6f5d0"
            ],
            [
             0.7,
             "#b8e186"
            ],
            [
             0.8,
             "#7fbc41"
            ],
            [
             0.9,
             "#4d9221"
            ],
            [
             1,
             "#276419"
            ]
           ],
           "sequential": [
            [
             0,
             "#0d0887"
            ],
            [
             0.1111111111111111,
             "#46039f"
            ],
            [
             0.2222222222222222,
             "#7201a8"
            ],
            [
             0.3333333333333333,
             "#9c179e"
            ],
            [
             0.4444444444444444,
             "#bd3786"
            ],
            [
             0.5555555555555556,
             "#d8576b"
            ],
            [
             0.6666666666666666,
             "#ed7953"
            ],
            [
             0.7777777777777778,
             "#fb9f3a"
            ],
            [
             0.8888888888888888,
             "#fdca26"
            ],
            [
             1,
             "#f0f921"
            ]
           ],
           "sequentialminus": [
            [
             0,
             "#0d0887"
            ],
            [
             0.1111111111111111,
             "#46039f"
            ],
            [
             0.2222222222222222,
             "#7201a8"
            ],
            [
             0.3333333333333333,
             "#9c179e"
            ],
            [
             0.4444444444444444,
             "#bd3786"
            ],
            [
             0.5555555555555556,
             "#d8576b"
            ],
            [
             0.6666666666666666,
             "#ed7953"
            ],
            [
             0.7777777777777778,
             "#fb9f3a"
            ],
            [
             0.8888888888888888,
             "#fdca26"
            ],
            [
             1,
             "#f0f921"
            ]
           ]
          },
          "colorway": [
           "#636efa",
           "#EF553B",
           "#00cc96",
           "#ab63fa",
           "#FFA15A",
           "#19d3f3",
           "#FF6692",
           "#B6E880",
           "#FF97FF",
           "#FECB52"
          ],
          "font": {
           "color": "#2a3f5f"
          },
          "geo": {
           "bgcolor": "white",
           "lakecolor": "white",
           "landcolor": "#E5ECF6",
           "showlakes": true,
           "showland": true,
           "subunitcolor": "white"
          },
          "hoverlabel": {
           "align": "left"
          },
          "hovermode": "closest",
          "mapbox": {
           "style": "light"
          },
          "paper_bgcolor": "white",
          "plot_bgcolor": "#E5ECF6",
          "polar": {
           "angularaxis": {
            "gridcolor": "white",
            "linecolor": "white",
            "ticks": ""
           },
           "bgcolor": "#E5ECF6",
           "radialaxis": {
            "gridcolor": "white",
            "linecolor": "white",
            "ticks": ""
           }
          },
          "scene": {
           "xaxis": {
            "backgroundcolor": "#E5ECF6",
            "gridcolor": "white",
            "gridwidth": 2,
            "linecolor": "white",
            "showbackground": true,
            "ticks": "",
            "zerolinecolor": "white"
           },
           "yaxis": {
            "backgroundcolor": "#E5ECF6",
            "gridcolor": "white",
            "gridwidth": 2,
            "linecolor": "white",
            "showbackground": true,
            "ticks": "",
            "zerolinecolor": "white"
           },
           "zaxis": {
            "backgroundcolor": "#E5ECF6",
            "gridcolor": "white",
            "gridwidth": 2,
            "linecolor": "white",
            "showbackground": true,
            "ticks": "",
            "zerolinecolor": "white"
           }
          },
          "shapedefaults": {
           "line": {
            "color": "#2a3f5f"
           }
          },
          "ternary": {
           "aaxis": {
            "gridcolor": "white",
            "linecolor": "white",
            "ticks": ""
           },
           "baxis": {
            "gridcolor": "white",
            "linecolor": "white",
            "ticks": ""
           },
           "bgcolor": "#E5ECF6",
           "caxis": {
            "gridcolor": "white",
            "linecolor": "white",
            "ticks": ""
           }
          },
          "title": {
           "x": 0.05
          },
          "xaxis": {
           "automargin": true,
           "gridcolor": "white",
           "linecolor": "white",
           "ticks": "",
           "title": {
            "standoff": 15
           },
           "zerolinecolor": "white",
           "zerolinewidth": 2
          },
          "yaxis": {
           "automargin": true,
           "gridcolor": "white",
           "linecolor": "white",
           "ticks": "",
           "title": {
            "standoff": 15
           },
           "zerolinecolor": "white",
           "zerolinewidth": 2
          }
         }
        },
        "title": {
         "text": "ON and OFF Neurons: Bacterial Stimulus No. 0"
        }
       }
      }
     },
     "metadata": {},
     "output_type": "display_data"
    }
   ],
   "source": [
    "\n",
    "\n",
    "# Create a scatter plot\n",
    "# fig = px.scatter_3d(data_frame = hyperbolic_df, x= 'x', y = 'y', z= 'z', title='AVA and RME: Stimulus 0', color = 'cluster labels') #cornflowerblue, lightcoral\n",
    "\n",
    "fig = px.scatter_3d(data_frame = hyperbolic_df, x= 'x', y = 'y', z= 'z', title='ON and OFF Neurons: Bacterial Stimulus No. 0' ) #cornflowerblue, lightcoral\n",
    "fig.update_layout(\n",
    "    scene=dict(\n",
    "        xaxis=dict(ticktext=[-1, -0.5, 0, 0.5, 1]),\n",
    "        yaxis=dict(ticktext=[-1, -0.5, 0, 0.5, 1]),\n",
    "        zaxis=dict(ticktext=[-1, -0.5, 0, 0.5, 1]),\n",
    "        )\n",
    ")\n",
    "fig.update_traces(marker=dict(color='#80b1d3', size=8, opacity = 0.8))\n",
    "\n",
    "fig.show()"
   ]
  },
  {
   "cell_type": "code",
   "execution_count": 62,
   "id": "b3cd3456",
   "metadata": {},
   "outputs": [
    {
     "data": {
      "application/vnd.plotly.v1+json": {
       "config": {
        "plotlyServerURL": "https://plot.ly"
       },
       "data": [
        {
         "hovertemplate": "X=%{x}<br>Y=%{y}<br>Z=%{z}<extra></extra>",
         "legendgroup": "",
         "marker": {
          "color": "#8dd3c7",
          "opacity": 0.8,
          "size": 10,
          "symbol": "circle"
         },
         "mode": "markers",
         "name": "",
         "scene": "scene",
         "showlegend": false,
         "type": "scatter3d",
         "x": [
          -0.1384508894834247,
          -0.5632090942653796,
          -0.12959954437203186,
          -0.15238144806872678,
          0.25115565678366314,
          -0.17738158836105905,
          -0.39220362874252845,
          -0.20823774323824754,
          -0.18398524352459736,
          -0.15062038051096843,
          -0.575793319798963,
          -0.3246907777951225,
          -0.17810367176943956,
          -0.029514094070906622,
          -0.2978300216882783,
          -0.7810256808418904,
          -0.4009715807698475,
          -0.01395698727031298,
          0.9377892218004785,
          0.06822203394106806,
          -0.13997300829894604,
          -0.47486882024505533,
          0.3449968980882353,
          -0.09303111566642729,
          -0.1303926623179718,
          -0.3497515981812613,
          -0.16388232338305872,
          0.014770812986549302,
          -0.36808107598632034,
          0.4728211054985448,
          -0.899454548680453,
          -0.15265410921478526,
          0.17819055799070793,
          0.2058828701068468,
          -0.18001109176842114,
          -0.35441815886516076,
          -0.8933267935873918,
          0.20349076485287176,
          -0.34126315956711845,
          -0.10660137117079278,
          0.23500562381594423,
          -0.15282471243899584,
          -0.08146819852329197,
          -0.4122135637688911,
          -0.6105283539424619,
          0.03839829160582424,
          0.5151039820049297,
          -0.5360001572477772,
          0.11008661589939905,
          -0.8389105388583645,
          -0.1772974446065317,
          0.10943529681310263,
          -0.7554883242465459,
          0.6089090904081803,
          -0.06396104821207409,
          -0.4359224730818206,
          -0.18284538241363646,
          -0.013860660791865318,
          0.11350216476172038,
          -0.5529508305790404,
          0.12086349625125715,
          -0.3134756141497641,
          -0.9750036079733085,
          -0.8932402692681297,
          -0.13322798505288663,
          0.12400298821584901,
          -0.03521284033571469,
          -0.5794821800389756,
          -0.7552185707356402,
          0.547791290195803,
          0.09473805169544372,
          -0.9096108259086507,
          0.696761600998181,
          -0.5906593885195535,
          0.3787741293877286,
          -0.31869591269207526,
          -0.0420294901542122,
          0.55400479440128,
          0.7827105862649678,
          0.8938714097739392,
          0.4894888308623164,
          0.555383296821102,
          0.43711484463379763,
          0.43768417609309146,
          0.11158405735396065,
          -0.3059703228658381,
          0.817550653563558,
          -0.19776649691728782,
          0.10973320237991774,
          0.5142628842222635,
          0.9848951233923783,
          0.9225039120421782,
          0.6843323506672179,
          0.9179225692241123,
          0.24622424152102676,
          0.7902719397314246,
          0.2463736410063556,
          0.6503769292231331,
          0.08065206029906608,
          0.6213447047771118,
          -0.6668411704609633,
          0.8228789467703667,
          0.32056041126908336,
          -0.8263660023527242,
          0.14983258152282944,
          0.5862573929655548,
          -0.3922433991625231,
          0.7632265334723984,
          -0.1652974205542933,
          0.5260631917174033,
          0.7850728500838989,
          0.2647397869197651,
          -0.1813036950122896,
          -0.20110624377185535,
          -0.29855361499572236,
          -0.4204238512503542,
          -0.5804866798752809,
          0.5903591731245929,
          0.2914512814454093,
          0.38735429125454524,
          0.5736181021895514,
          0.21852612511513592,
          -0.22363144514701394,
          0.46781429655820705,
          0.7331952302919783,
          -0.5556040381324782,
          0.4820554245060445,
          0.33799040889372567,
          0.6924364590222006,
          0.5632165154586772,
          0.34449808327385667,
          0.5232022488047339,
          0.5030458133148842,
          0.3825753058530973,
          0.4404948614117341
         ],
         "y": [
          -0.9236688225737637,
          0.7207743485661889,
          -0.9272112605358593,
          -0.9321788411114025,
          0.28237491288050565,
          -0.9254526186185634,
          0.7557527165710161,
          -0.8681230910593559,
          -0.9099855484129584,
          -0.9021745978032633,
          0.716571834193278,
          -0.6430586785274015,
          -0.9169975885948166,
          -0.8982578119716877,
          -0.7917040708724628,
          0.1359093448478908,
          -0.7259407694386631,
          -0.9052641655424902,
          -0.19102285273000405,
          -0.2435771001560744,
          -0.9258221603142286,
          -0.01373636722995869,
          -0.92605411333789,
          0.6930135498899708,
          -0.9285982021900469,
          -0.6649478822884638,
          -0.9313650320818476,
          0.9824332399619861,
          0.7933995460071458,
          -0.4482971763617019,
          0.3585632511876797,
          -0.9395883490136343,
          0.9046895915399809,
          -0.9181089649914334,
          -0.9258557680054339,
          -0.6869097657719925,
          -0.2976724074180831,
          0.3508191579455878,
          -0.4457213457095628,
          -0.972304380913687,
          -0.0864313060248614,
          -0.9083621016804886,
          0.7736882586409299,
          -0.8725746520327534,
          -0.04932100037049816,
          -0.872318634504585,
          -0.47747416619254435,
          0.7496518522591422,
          0.19996208426506892,
          0.088444309770962,
          -0.8986739653448591,
          0.6520239762248401,
          0.15482382236900752,
          -0.3598419445746056,
          -0.9728359023169267,
          -0.02031038512345677,
          -0.9141704067126983,
          -0.8737856698239811,
          0.4684354825937088,
          0.719701275331342,
          -0.4656013664759543,
          -0.8729690444788651,
          -0.13244218167931607,
          -0.34066669144486555,
          -0.004569784811371512,
          -0.3084377829274692,
          -0.9155068663918695,
          0.6985705507840937,
          -0.025877367989734147,
          -0.8256601850455314,
          -0.6751948243460981,
          0.31875431244086516,
          0.020331258538150557,
          -0.5541590846112735,
          0.3455225591920742,
          -0.8834074553152537,
          -0.8264405033909901,
          -0.7700461880955374,
          0.18360167509018627,
          -0.013138921417897265,
          0.7426121633152892,
          0.05152420947719302,
          0.06718058187048714,
          0.23793588116666828,
          -0.9714595433593763,
          -0.9349316755658962,
          0.39630689993293483,
          -0.9067416777164535,
          0.8569272217111876,
          0.38270806154929743,
          0.057451188957193096,
          0.26003303304730624,
          0.25775658538395624,
          0.27982445375355397,
          -0.6902243213281943,
          -0.4074536011502814,
          -0.8634989571703323,
          -0.10714067355046028,
          -0.9651822745686586,
          0.04671372094644746,
          0.295044975415813,
          -0.05158417274741558,
          0.34982750973637516,
          -0.23078039042359358,
          0.4774404850889222,
          -0.07163287803746443,
          -0.39292458476218994,
          -0.563313202122917,
          -0.8993715594767693,
          -0.657492610552287,
          -0.14510452591219453,
          0.8092827664178959,
          -0.9433083381376527,
          -0.823184048321576,
          0.2458282271181846,
          0.7536609193188315,
          0.002516439465426235,
          -0.6774062527206255,
          0.448833792744215,
          -0.3349493013158448,
          -0.2346430290474139,
          -0.2272476534130607,
          -0.6839927374318387,
          0.009460826421651195,
          0.2961242823301559,
          0.7497988456013425,
          0.6151976845057039,
          -0.21119011045639097,
          0.6942581509852441,
          0.5123826834291912,
          0.5735751960274943,
          0.8326908260961092,
          0.15965069057620826,
          0.17190443146556464,
          -0.13571425340166723
         ],
         "z": [
          -0.3019010508415705,
          0.37904130276951264,
          -0.2952148168211222,
          -0.2742230218863093,
          0.9096302066318065,
          -0.28279684976063674,
          -0.5016599585880419,
          -0.4261820081349499,
          -0.33015291336834074,
          -0.3643616278431016,
          0.3671185536989181,
          -0.6780999018468001,
          -0.3099563917919887,
          -0.41009346046940637,
          -0.5098282633891775,
          -0.5965438325875856,
          -0.5390954783141424,
          -0.38744748439808774,
          0.25651653267253166,
          0.9535849088280577,
          -0.29499406038508297,
          0.8692580245047541,
          -0.015866218260554486,
          -0.7017854265743015,
          -0.29320003611374645,
          -0.639593218021423,
          -0.2701830451903188,
          -0.12778933636232448,
          -0.46301695314238095,
          0.7308168121746983,
          -0.20415528525515,
          0.24329986055161051,
          0.36308162253302445,
          -0.26329989215820115,
          -0.28156354758655383,
          -0.6137064040263145,
          -0.30913900076350687,
          0.8984778646086444,
          -0.8080577367610325,
          0.10967962688715624,
          0.9516916028008449,
          -0.34325483373334187,
          -0.6091418045532825,
          -0.22364027346353912,
          0.7774331676419057,
          -0.45887402034073277,
          -0.69947919500806,
          0.36445981402593697,
          0.9593801553702783,
          0.5203099536007035,
          -0.3665903836075486,
          0.7313444311895901,
          -0.6214188725571688,
          0.6808890420773165,
          -0.14580183045755754,
          0.8910208113974301,
          -0.3179942968667332,
          -0.46581835616141487,
          0.8584645158511756,
          0.3944951128892552,
          0.8631980722809778,
          -0.33946150243544493,
          0.11591426545697332,
          -0.2547732195295064,
          -0.9813939627061175,
          -0.9292822864111552,
          -0.36763051944938063,
          0.39543985068644816,
          -0.6382219627393562,
          0.023641453809871416,
          -0.7170361953519744,
          0.2335453222688848,
          0.6971299692936752,
          0.5650544946072138,
          0.8395815899306966,
          0.3054478235926421,
          -0.5411384772506469,
          -0.2751402659407417,
          0.5527595525263945,
          0.4232221178178552,
          -0.43253818302368247,
          0.8140694431296348,
          0.8757442599446457,
          0.8498902909781848,
          -0.10476335496267601,
          0.03958750425104148,
          -0.39711492948747207,
          -0.3351174341050118,
          0.48514852011378473,
          0.7538230098431583,
          -0.06696836256305187,
          0.2507327908343257,
          0.6630651831825941,
          -0.24124153862541564,
          0.6546678785269839,
          0.43463436370467184,
          0.41002531847859375,
          0.7317966880884221,
          0.09883447717522528,
          -0.7733790250025251,
          -0.6663051626085469,
          -0.5526669947331794,
          -0.8669543760962598,
          0.49759432863736275,
          -0.8537398577540305,
          0.7922713508659586,
          0.8220834631768316,
          -0.2701749957899853,
          -0.36985849911910945,
          0.514378935580328,
          0.5740050666760784,
          -0.5057206409129047,
          -0.20235469781024973,
          -0.5062320296289753,
          0.913064309447158,
          0.47155199444327117,
          0.8023308123151571,
          0.3758313181189922,
          0.830656814049436,
          0.8451604249773996,
          0.7652646368814304,
          0.9248931153920487,
          0.6848701548817322,
          0.8636395693912495,
          -0.5962264167338394,
          0.3276445915629528,
          -0.6101788167996939,
          0.8930652759010879,
          -0.15871874917715653,
          0.628425379499292,
          -0.7268571358351579,
          0.1386848758580075,
          0.83431731743934,
          0.8921749060645844,
          0.8662665241709879
         ]
        }
       ],
       "layout": {
        "autosize": true,
        "height": 500,
        "legend": {
         "font": {
          "size": 10
         },
         "title": {
          "font": {
           "size": 12
          },
          "text": "Cluster Labels"
         },
         "tracegroupgap": 0
        },
        "margin": {
         "b": 90,
         "l": 20,
         "r": 20,
         "t": 40
        },
        "scene": {
         "domain": {
          "x": [
           0,
           1
          ],
          "y": [
           0,
           1
          ]
         },
         "xaxis": {
          "tickfont": {
           "size": 15
          },
          "ticktext": [
           "-1",
           "-0.5",
           "0",
           "0.5",
           "1"
          ],
          "tickvals": [
           -1,
           -0.5,
           0,
           0.5,
           1
          ],
          "title": {
           "font": {
            "size": 20
           },
           "text": "X"
          }
         },
         "yaxis": {
          "tickfont": {
           "size": 15
          },
          "ticktext": [
           "-1",
           "-0.5",
           "0",
           "0.5",
           "1"
          ],
          "tickvals": [
           -1,
           -0.5,
           0,
           0.5,
           1
          ],
          "title": {
           "font": {
            "size": 20
           },
           "text": "Y "
          }
         },
         "zaxis": {
          "tickfont": {
           "size": 15
          },
          "ticktext": [
           "-1",
           "-0.5",
           "0",
           "0.5",
           "1"
          ],
          "tickvals": [
           -1,
           -0.5,
           0,
           0.5,
           1
          ],
          "title": {
           "font": {
            "size": 20
           },
           "text": "Z "
          }
         }
        },
        "template": {
         "data": {
          "bar": [
           {
            "error_x": {
             "color": "#2a3f5f"
            },
            "error_y": {
             "color": "#2a3f5f"
            },
            "marker": {
             "line": {
              "color": "#E5ECF6",
              "width": 0.5
             },
             "pattern": {
              "fillmode": "overlay",
              "size": 10,
              "solidity": 0.2
             }
            },
            "type": "bar"
           }
          ],
          "barpolar": [
           {
            "marker": {
             "line": {
              "color": "#E5ECF6",
              "width": 0.5
             },
             "pattern": {
              "fillmode": "overlay",
              "size": 10,
              "solidity": 0.2
             }
            },
            "type": "barpolar"
           }
          ],
          "carpet": [
           {
            "aaxis": {
             "endlinecolor": "#2a3f5f",
             "gridcolor": "white",
             "linecolor": "white",
             "minorgridcolor": "white",
             "startlinecolor": "#2a3f5f"
            },
            "baxis": {
             "endlinecolor": "#2a3f5f",
             "gridcolor": "white",
             "linecolor": "white",
             "minorgridcolor": "white",
             "startlinecolor": "#2a3f5f"
            },
            "type": "carpet"
           }
          ],
          "choropleth": [
           {
            "colorbar": {
             "outlinewidth": 0,
             "ticks": ""
            },
            "type": "choropleth"
           }
          ],
          "contour": [
           {
            "colorbar": {
             "outlinewidth": 0,
             "ticks": ""
            },
            "colorscale": [
             [
              0,
              "#0d0887"
             ],
             [
              0.1111111111111111,
              "#46039f"
             ],
             [
              0.2222222222222222,
              "#7201a8"
             ],
             [
              0.3333333333333333,
              "#9c179e"
             ],
             [
              0.4444444444444444,
              "#bd3786"
             ],
             [
              0.5555555555555556,
              "#d8576b"
             ],
             [
              0.6666666666666666,
              "#ed7953"
             ],
             [
              0.7777777777777778,
              "#fb9f3a"
             ],
             [
              0.8888888888888888,
              "#fdca26"
             ],
             [
              1,
              "#f0f921"
             ]
            ],
            "type": "contour"
           }
          ],
          "contourcarpet": [
           {
            "colorbar": {
             "outlinewidth": 0,
             "ticks": ""
            },
            "type": "contourcarpet"
           }
          ],
          "heatmap": [
           {
            "colorbar": {
             "outlinewidth": 0,
             "ticks": ""
            },
            "colorscale": [
             [
              0,
              "#0d0887"
             ],
             [
              0.1111111111111111,
              "#46039f"
             ],
             [
              0.2222222222222222,
              "#7201a8"
             ],
             [
              0.3333333333333333,
              "#9c179e"
             ],
             [
              0.4444444444444444,
              "#bd3786"
             ],
             [
              0.5555555555555556,
              "#d8576b"
             ],
             [
              0.6666666666666666,
              "#ed7953"
             ],
             [
              0.7777777777777778,
              "#fb9f3a"
             ],
             [
              0.8888888888888888,
              "#fdca26"
             ],
             [
              1,
              "#f0f921"
             ]
            ],
            "type": "heatmap"
           }
          ],
          "heatmapgl": [
           {
            "colorbar": {
             "outlinewidth": 0,
             "ticks": ""
            },
            "colorscale": [
             [
              0,
              "#0d0887"
             ],
             [
              0.1111111111111111,
              "#46039f"
             ],
             [
              0.2222222222222222,
              "#7201a8"
             ],
             [
              0.3333333333333333,
              "#9c179e"
             ],
             [
              0.4444444444444444,
              "#bd3786"
             ],
             [
              0.5555555555555556,
              "#d8576b"
             ],
             [
              0.6666666666666666,
              "#ed7953"
             ],
             [
              0.7777777777777778,
              "#fb9f3a"
             ],
             [
              0.8888888888888888,
              "#fdca26"
             ],
             [
              1,
              "#f0f921"
             ]
            ],
            "type": "heatmapgl"
           }
          ],
          "histogram": [
           {
            "marker": {
             "pattern": {
              "fillmode": "overlay",
              "size": 10,
              "solidity": 0.2
             }
            },
            "type": "histogram"
           }
          ],
          "histogram2d": [
           {
            "colorbar": {
             "outlinewidth": 0,
             "ticks": ""
            },
            "colorscale": [
             [
              0,
              "#0d0887"
             ],
             [
              0.1111111111111111,
              "#46039f"
             ],
             [
              0.2222222222222222,
              "#7201a8"
             ],
             [
              0.3333333333333333,
              "#9c179e"
             ],
             [
              0.4444444444444444,
              "#bd3786"
             ],
             [
              0.5555555555555556,
              "#d8576b"
             ],
             [
              0.6666666666666666,
              "#ed7953"
             ],
             [
              0.7777777777777778,
              "#fb9f3a"
             ],
             [
              0.8888888888888888,
              "#fdca26"
             ],
             [
              1,
              "#f0f921"
             ]
            ],
            "type": "histogram2d"
           }
          ],
          "histogram2dcontour": [
           {
            "colorbar": {
             "outlinewidth": 0,
             "ticks": ""
            },
            "colorscale": [
             [
              0,
              "#0d0887"
             ],
             [
              0.1111111111111111,
              "#46039f"
             ],
             [
              0.2222222222222222,
              "#7201a8"
             ],
             [
              0.3333333333333333,
              "#9c179e"
             ],
             [
              0.4444444444444444,
              "#bd3786"
             ],
             [
              0.5555555555555556,
              "#d8576b"
             ],
             [
              0.6666666666666666,
              "#ed7953"
             ],
             [
              0.7777777777777778,
              "#fb9f3a"
             ],
             [
              0.8888888888888888,
              "#fdca26"
             ],
             [
              1,
              "#f0f921"
             ]
            ],
            "type": "histogram2dcontour"
           }
          ],
          "mesh3d": [
           {
            "colorbar": {
             "outlinewidth": 0,
             "ticks": ""
            },
            "type": "mesh3d"
           }
          ],
          "parcoords": [
           {
            "line": {
             "colorbar": {
              "outlinewidth": 0,
              "ticks": ""
             }
            },
            "type": "parcoords"
           }
          ],
          "pie": [
           {
            "automargin": true,
            "type": "pie"
           }
          ],
          "scatter": [
           {
            "fillpattern": {
             "fillmode": "overlay",
             "size": 10,
             "solidity": 0.2
            },
            "type": "scatter"
           }
          ],
          "scatter3d": [
           {
            "line": {
             "colorbar": {
              "outlinewidth": 0,
              "ticks": ""
             }
            },
            "marker": {
             "colorbar": {
              "outlinewidth": 0,
              "ticks": ""
             }
            },
            "type": "scatter3d"
           }
          ],
          "scattercarpet": [
           {
            "marker": {
             "colorbar": {
              "outlinewidth": 0,
              "ticks": ""
             }
            },
            "type": "scattercarpet"
           }
          ],
          "scattergeo": [
           {
            "marker": {
             "colorbar": {
              "outlinewidth": 0,
              "ticks": ""
             }
            },
            "type": "scattergeo"
           }
          ],
          "scattergl": [
           {
            "marker": {
             "colorbar": {
              "outlinewidth": 0,
              "ticks": ""
             }
            },
            "type": "scattergl"
           }
          ],
          "scattermapbox": [
           {
            "marker": {
             "colorbar": {
              "outlinewidth": 0,
              "ticks": ""
             }
            },
            "type": "scattermapbox"
           }
          ],
          "scatterpolar": [
           {
            "marker": {
             "colorbar": {
              "outlinewidth": 0,
              "ticks": ""
             }
            },
            "type": "scatterpolar"
           }
          ],
          "scatterpolargl": [
           {
            "marker": {
             "colorbar": {
              "outlinewidth": 0,
              "ticks": ""
             }
            },
            "type": "scatterpolargl"
           }
          ],
          "scatterternary": [
           {
            "marker": {
             "colorbar": {
              "outlinewidth": 0,
              "ticks": ""
             }
            },
            "type": "scatterternary"
           }
          ],
          "surface": [
           {
            "colorbar": {
             "outlinewidth": 0,
             "ticks": ""
            },
            "colorscale": [
             [
              0,
              "#0d0887"
             ],
             [
              0.1111111111111111,
              "#46039f"
             ],
             [
              0.2222222222222222,
              "#7201a8"
             ],
             [
              0.3333333333333333,
              "#9c179e"
             ],
             [
              0.4444444444444444,
              "#bd3786"
             ],
             [
              0.5555555555555556,
              "#d8576b"
             ],
             [
              0.6666666666666666,
              "#ed7953"
             ],
             [
              0.7777777777777778,
              "#fb9f3a"
             ],
             [
              0.8888888888888888,
              "#fdca26"
             ],
             [
              1,
              "#f0f921"
             ]
            ],
            "type": "surface"
           }
          ],
          "table": [
           {
            "cells": {
             "fill": {
              "color": "#EBF0F8"
             },
             "line": {
              "color": "white"
             }
            },
            "header": {
             "fill": {
              "color": "#C8D4E3"
             },
             "line": {
              "color": "white"
             }
            },
            "type": "table"
           }
          ]
         },
         "layout": {
          "annotationdefaults": {
           "arrowcolor": "#2a3f5f",
           "arrowhead": 0,
           "arrowwidth": 1
          },
          "autotypenumbers": "strict",
          "coloraxis": {
           "colorbar": {
            "outlinewidth": 0,
            "ticks": ""
           }
          },
          "colorscale": {
           "diverging": [
            [
             0,
             "#8e0152"
            ],
            [
             0.1,
             "#c51b7d"
            ],
            [
             0.2,
             "#de77ae"
            ],
            [
             0.3,
             "#f1b6da"
            ],
            [
             0.4,
             "#fde0ef"
            ],
            [
             0.5,
             "#f7f7f7"
            ],
            [
             0.6,
             "#e6f5d0"
            ],
            [
             0.7,
             "#b8e186"
            ],
            [
             0.8,
             "#7fbc41"
            ],
            [
             0.9,
             "#4d9221"
            ],
            [
             1,
             "#276419"
            ]
           ],
           "sequential": [
            [
             0,
             "#0d0887"
            ],
            [
             0.1111111111111111,
             "#46039f"
            ],
            [
             0.2222222222222222,
             "#7201a8"
            ],
            [
             0.3333333333333333,
             "#9c179e"
            ],
            [
             0.4444444444444444,
             "#bd3786"
            ],
            [
             0.5555555555555556,
             "#d8576b"
            ],
            [
             0.6666666666666666,
             "#ed7953"
            ],
            [
             0.7777777777777778,
             "#fb9f3a"
            ],
            [
             0.8888888888888888,
             "#fdca26"
            ],
            [
             1,
             "#f0f921"
            ]
           ],
           "sequentialminus": [
            [
             0,
             "#0d0887"
            ],
            [
             0.1111111111111111,
             "#46039f"
            ],
            [
             0.2222222222222222,
             "#7201a8"
            ],
            [
             0.3333333333333333,
             "#9c179e"
            ],
            [
             0.4444444444444444,
             "#bd3786"
            ],
            [
             0.5555555555555556,
             "#d8576b"
            ],
            [
             0.6666666666666666,
             "#ed7953"
            ],
            [
             0.7777777777777778,
             "#fb9f3a"
            ],
            [
             0.8888888888888888,
             "#fdca26"
            ],
            [
             1,
             "#f0f921"
            ]
           ]
          },
          "colorway": [
           "#636efa",
           "#EF553B",
           "#00cc96",
           "#ab63fa",
           "#FFA15A",
           "#19d3f3",
           "#FF6692",
           "#B6E880",
           "#FF97FF",
           "#FECB52"
          ],
          "font": {
           "color": "#2a3f5f"
          },
          "geo": {
           "bgcolor": "white",
           "lakecolor": "white",
           "landcolor": "#E5ECF6",
           "showlakes": true,
           "showland": true,
           "subunitcolor": "white"
          },
          "hoverlabel": {
           "align": "left"
          },
          "hovermode": "closest",
          "mapbox": {
           "style": "light"
          },
          "paper_bgcolor": "white",
          "plot_bgcolor": "#E5ECF6",
          "polar": {
           "angularaxis": {
            "gridcolor": "white",
            "linecolor": "white",
            "ticks": ""
           },
           "bgcolor": "#E5ECF6",
           "radialaxis": {
            "gridcolor": "white",
            "linecolor": "white",
            "ticks": ""
           }
          },
          "scene": {
           "xaxis": {
            "backgroundcolor": "#E5ECF6",
            "gridcolor": "white",
            "gridwidth": 2,
            "linecolor": "white",
            "showbackground": true,
            "ticks": "",
            "zerolinecolor": "white"
           },
           "yaxis": {
            "backgroundcolor": "#E5ECF6",
            "gridcolor": "white",
            "gridwidth": 2,
            "linecolor": "white",
            "showbackground": true,
            "ticks": "",
            "zerolinecolor": "white"
           },
           "zaxis": {
            "backgroundcolor": "#E5ECF6",
            "gridcolor": "white",
            "gridwidth": 2,
            "linecolor": "white",
            "showbackground": true,
            "ticks": "",
            "zerolinecolor": "white"
           }
          },
          "shapedefaults": {
           "line": {
            "color": "#2a3f5f"
           }
          },
          "ternary": {
           "aaxis": {
            "gridcolor": "white",
            "linecolor": "white",
            "ticks": ""
           },
           "baxis": {
            "gridcolor": "white",
            "linecolor": "white",
            "ticks": ""
           },
           "bgcolor": "#E5ECF6",
           "caxis": {
            "gridcolor": "white",
            "linecolor": "white",
            "ticks": ""
           }
          },
          "title": {
           "x": 0.05
          },
          "xaxis": {
           "automargin": true,
           "gridcolor": "white",
           "linecolor": "white",
           "ticks": "",
           "title": {
            "standoff": 15
           },
           "zerolinecolor": "white",
           "zerolinewidth": 2
          },
          "yaxis": {
           "automargin": true,
           "gridcolor": "white",
           "linecolor": "white",
           "ticks": "",
           "title": {
            "standoff": 15
           },
           "zerolinecolor": "white",
           "zerolinewidth": 2
          }
         }
        },
        "width": 700
       }
      }
     },
     "metadata": {},
     "output_type": "display_data"
    }
   ],
   "source": [
    "fig = px.scatter_3d(\n",
    "    data_frame=hyperbolic_df, \n",
    "    x='x', \n",
    "    y='y', \n",
    "    z='z', \n",
    "     \n",
    "    # text='cluster labels',  # assuming 'labels' column contains the point labels\n",
    "    # title='ON and OFF Neurons',\n",
    "    labels={'x': 'X', 'y': 'Y', 'z': 'Z'},\n",
    "    \n",
    ")\n",
    "\n",
    "fig.update_layout(\n",
    "    scene=dict(\n",
    "        xaxis=dict(\n",
    "            tickvals=[-1, -0.5, 0, 0.5, 1],\n",
    "            ticktext=['-1', '-0.5', '0', '0.5', '1'],\n",
    "            title=dict(text='X', font=dict(size=20)),\n",
    "            tickfont=dict(size=15)\n",
    "        ),\n",
    "        yaxis=dict(\n",
    "            tickvals=[-1, -0.5, 0, 0.5, 1],\n",
    "            ticktext=['-1', '-0.5', '0', '0.5', '1'],\n",
    "            title=dict(text='Y ', font=dict(size=20)),\n",
    "            tickfont=dict(size=15)\n",
    "            \n",
    "        ),\n",
    "        zaxis=dict(\n",
    "            tickvals=[-1, -0.5, 0, 0.5, 1],\n",
    "            ticktext=['-1', '-0.5', '0', '0.5', '1'],\n",
    "            title=dict(text='Z ', font=dict(size=20)),\n",
    "            tickfont=dict(size=15)\n",
    "            \n",
    "        )\n",
    "    ),\n",
    "    legend=dict(\n",
    "        title=dict(text='Cluster Labels', font=dict(size=12)),\n",
    "        font=dict(size=10)\n",
    "    # ),\n",
    "    # title=dict(\n",
    "    #     text='ON and OFF Neurons',\n",
    "    #     font=dict(size=15)\n",
    "    ),\n",
    "    margin=dict(l=20, r=20, b=90, t=40),\n",
    "    autosize=True,\n",
    "    width=700,\n",
    "    height=500\n",
    ")\n",
    "\n",
    "# Customize marker size and opacity for better visualization\n",
    "fig.update_traces(marker=dict(size=10, opacity=0.8, color='#8dd3c7' ))\n",
    "\n",
    "\n",
    "\n",
    "\n",
    "fig.show()\n"
   ]
  },
  {
   "cell_type": "markdown",
   "id": "b6080734",
   "metadata": {},
   "source": [
    "# Fitting For Dimension\n",
    "\n",
    "Suppose we did not know a-priori that the data was 5D? This is usually the case"
   ]
  },
  {
   "cell_type": "markdown",
   "id": "ea9e919b",
   "metadata": {},
   "source": [
    "## Fit the model across a range of dimensions"
   ]
  },
  {
   "cell_type": "code",
   "execution_count": 41,
   "id": "0ffeb563",
   "metadata": {},
   "outputs": [
    {
     "name": "stderr",
     "output_type": "stream",
     "text": [
      "23:22:18 - cmdstanpy - INFO - Chain [1] start processing\n",
      "23:28:14 - cmdstanpy - INFO - Chain [1] done processing\n",
      "23:28:14 - cmdstanpy - WARNING - The default behavior of CmdStanMLE.stan_variable() will change in a future release to always return a numpy.ndarray, even for scalar variables.\n",
      "23:28:14 - cmdstanpy - INFO - Chain [1] start processing\n",
      "23:30:38 - cmdstanpy - INFO - Chain [1] done processing\n",
      "23:30:38 - cmdstanpy - WARNING - The default behavior of CmdStanMLE.stan_variable() will change in a future release to always return a numpy.ndarray, even for scalar variables.\n",
      "23:30:38 - cmdstanpy - INFO - Chain [1] start processing\n",
      "23:32:28 - cmdstanpy - INFO - Chain [1] done processing\n",
      "23:32:28 - cmdstanpy - WARNING - The default behavior of CmdStanMLE.stan_variable() will change in a future release to always return a numpy.ndarray, even for scalar variables.\n",
      "23:32:28 - cmdstanpy - INFO - Chain [1] start processing\n",
      "23:33:14 - cmdstanpy - INFO - Chain [1] done processing\n",
      "23:33:14 - cmdstanpy - WARNING - The default behavior of CmdStanMLE.stan_variable() will change in a future release to always return a numpy.ndarray, even for scalar variables.\n",
      "23:33:14 - cmdstanpy - INFO - Chain [1] start processing\n",
      "23:34:26 - cmdstanpy - INFO - Chain [1] done processing\n",
      "23:34:26 - cmdstanpy - WARNING - The default behavior of CmdStanMLE.stan_variable() will change in a future release to always return a numpy.ndarray, even for scalar variables.\n",
      "23:34:26 - cmdstanpy - INFO - Chain [1] start processing\n",
      "23:34:48 - cmdstanpy - INFO - Chain [1] done processing\n",
      "23:34:48 - cmdstanpy - WARNING - The default behavior of CmdStanMLE.stan_variable() will change in a future release to always return a numpy.ndarray, even for scalar variables.\n",
      "23:34:48 - cmdstanpy - INFO - Chain [1] start processing\n",
      "23:35:15 - cmdstanpy - INFO - Chain [1] done processing\n",
      "23:35:15 - cmdstanpy - WARNING - The default behavior of CmdStanMLE.stan_variable() will change in a future release to always return a numpy.ndarray, even for scalar variables.\n",
      "23:35:15 - cmdstanpy - INFO - Chain [1] start processing\n",
      "23:35:34 - cmdstanpy - INFO - Chain [1] done processing\n",
      "23:35:34 - cmdstanpy - WARNING - The default behavior of CmdStanMLE.stan_variable() will change in a future release to always return a numpy.ndarray, even for scalar variables.\n",
      "23:35:34 - cmdstanpy - INFO - Chain [1] start processing\n",
      "23:35:54 - cmdstanpy - INFO - Chain [1] done processing\n",
      "23:35:54 - cmdstanpy - WARNING - The default behavior of CmdStanMLE.stan_variable() will change in a future release to always return a numpy.ndarray, even for scalar variables.\n",
      "23:35:54 - cmdstanpy - INFO - Chain [1] start processing\n",
      "23:36:21 - cmdstanpy - INFO - Chain [1] done processing\n",
      "23:36:21 - cmdstanpy - WARNING - The default behavior of CmdStanMLE.stan_variable() will change in a future release to always return a numpy.ndarray, even for scalar variables.\n",
      "23:36:21 - cmdstanpy - INFO - Chain [1] start processing\n",
      "23:36:42 - cmdstanpy - INFO - Chain [1] done processing\n",
      "23:36:42 - cmdstanpy - WARNING - The default behavior of CmdStanMLE.stan_variable() will change in a future release to always return a numpy.ndarray, even for scalar variables.\n",
      "23:36:42 - cmdstanpy - INFO - Chain [1] start processing\n",
      "23:37:05 - cmdstanpy - INFO - Chain [1] done processing\n",
      "23:37:05 - cmdstanpy - WARNING - The default behavior of CmdStanMLE.stan_variable() will change in a future release to always return a numpy.ndarray, even for scalar variables.\n",
      "23:37:05 - cmdstanpy - INFO - Chain [1] start processing\n",
      "23:37:36 - cmdstanpy - INFO - Chain [1] done processing\n",
      "23:37:36 - cmdstanpy - WARNING - The default behavior of CmdStanMLE.stan_variable() will change in a future release to always return a numpy.ndarray, even for scalar variables.\n"
     ]
    }
   ],
   "source": [
    "all_fits = []\n",
    "for d in np.arange(2,15):\n",
    "    dat={'N':135, 'D':d, 'deltaij':distance_matrix_squaredp}\n",
    "    #run optimizer\n",
    "    model = ltz_m.optimize(data=dat, iter=250000, algorithm='LBFGS', tol_rel_grad=1e2)\n",
    "    all_fits.append({'euc':model.euc, 'sig':model.sig, 'lambda':model.stan_variable('lambda'), 't':model.time})\n",
    "\n",
    "\n"
   ]
  },
  {
   "cell_type": "code",
   "execution_count": 17,
   "id": "c6ddd178",
   "metadata": {},
   "outputs": [
    {
     "name": "stderr",
     "output_type": "stream",
     "text": [
      "22:55:55 - cmdstanpy - WARNING - The default behavior of CmdStanMLE.stan_variable() will change in a future release to always return a numpy.ndarray, even for scalar variables.\n"
     ]
    },
    {
     "data": {
      "text/plain": [
       "0.798842"
      ]
     },
     "execution_count": 17,
     "metadata": {},
     "output_type": "execute_result"
    }
   ],
   "source": [
    "model.stan_variable('lambda')"
   ]
  },
  {
   "cell_type": "code",
   "execution_count": 21,
   "id": "64f93260",
   "metadata": {},
   "outputs": [
    {
     "data": {
      "text/plain": [
       "2.1141"
      ]
     },
     "execution_count": 21,
     "metadata": {},
     "output_type": "execute_result"
    }
   ],
   "source": [
    "#lambda extracted for specific dimension\n",
    "all_fits[4]['lambda']"
   ]
  },
  {
   "cell_type": "code",
   "execution_count": 48,
   "id": "09e53bbb",
   "metadata": {},
   "outputs": [
    {
     "data": {
      "text/plain": [
       "array([4.86315, 7.15027, 4.86677, 5.12625, 5.68725, 5.14975, 7.01214,\n",
       "       6.08551, 5.42314, 5.21929, 7.015  , 6.50444, 5.26306, 5.78434,\n",
       "       6.13302, 7.88907, 6.3114 , 5.22442, 7.11452, 6.0336 , 4.88988,\n",
       "       7.11104, 5.85667, 7.42256, 4.96455, 5.81686, 5.08113, 7.89675,\n",
       "       7.33044, 4.98055, 7.50826, 5.43145, 7.5964 , 4.58505, 5.20735,\n",
       "       5.88548, 7.22388, 5.7175 , 5.61865, 5.39061, 5.54955, 5.10154,\n",
       "       6.87555, 6.68474, 6.90707, 5.68345, 7.21582, 7.37077, 5.84703,\n",
       "       7.47024, 5.62806, 6.09867, 7.31565, 5.20069, 5.45371, 7.50847,\n",
       "       5.3925 , 6.32238, 5.6433 , 6.93605, 6.44462, 5.86123, 7.48052,\n",
       "       6.82243, 7.17688, 6.27415, 5.70467, 7.00666, 7.03852, 6.87735,\n",
       "       6.43121, 7.75148, 5.72012, 6.29686, 5.36667, 6.37431, 6.0809 ,\n",
       "       6.28754, 4.71835, 6.41348, 6.85884, 5.87904, 5.13287, 5.72119,\n",
       "       5.30166, 5.57657, 7.40902, 5.60551, 7.52914, 6.5945 , 6.80344,\n",
       "       7.17469, 6.19164, 6.94365, 5.4029 , 6.74295, 6.18184, 5.5513 ,\n",
       "       4.55567, 8.10914, 6.69221, 7.7093 , 6.65473, 7.63834, 7.02152,\n",
       "       5.78119, 7.07439, 6.19688, 5.52571, 5.89004, 5.46883, 7.19741,\n",
       "       4.87633, 5.71936, 7.2679 , 5.83888, 6.97896, 4.5773 , 6.3266 ,\n",
       "       6.20044, 5.43552, 4.76428, 7.48409, 5.2615 , 7.06446, 6.77333,\n",
       "       7.5377 , 4.83967, 8.22707, 6.27142, 6.70668, 8.28081, 5.97086,\n",
       "       5.79254, 5.17727])"
      ]
     },
     "execution_count": 48,
     "metadata": {},
     "output_type": "execute_result"
    }
   ],
   "source": [
    "#access the correct iteration \n",
    "iteration = all_fits[6]['t']\n",
    "\n",
    "\n",
    "iteration"
   ]
  },
  {
   "cell_type": "code",
   "execution_count": 49,
   "id": "c69f3521",
   "metadata": {},
   "outputs": [
    {
     "data": {
      "text/plain": [
       "(135,)"
      ]
     },
     "execution_count": 49,
     "metadata": {},
     "output_type": "execute_result"
    }
   ],
   "source": [
    "model.time.shape"
   ]
  },
  {
   "cell_type": "code",
   "execution_count": 50,
   "id": "cadc132e",
   "metadata": {},
   "outputs": [],
   "source": [
    "#calculate radii based on time parameter\n",
    "radii = np.arccosh(iteration)"
   ]
  },
  {
   "cell_type": "code",
   "execution_count": 51,
   "id": "963b2e19",
   "metadata": {},
   "outputs": [
    {
     "data": {
      "text/plain": [
       "array([2.26409117, 2.65537119, 2.26485151, 2.31786937, 2.42355361,\n",
       "       2.32253231, 2.6356665 , 2.49223766, 2.3752113 , 2.33620224,\n",
       "       2.63607849, 2.55967004, 2.34470976, 2.44074436, 2.50012074,\n",
       "       2.75458414, 2.5291687 , 2.33720317, 2.65030884, 2.48355187,\n",
       "       2.26969158, 2.64981467, 2.45335886, 2.69310232, 2.28516861,\n",
       "       2.44643591, 2.30885389, 2.75556507, 2.68049748, 2.28845339,\n",
       "       2.70468646, 2.37676913, 2.71646085, 2.20383836, 2.33386861,\n",
       "       2.45833874, 2.66571389, 2.42894193, 2.41122374, 2.36908925,\n",
       "       2.39864582, 2.31294231, 2.61578796, 2.58733233, 2.62041078,\n",
       "       2.42287464, 2.66458666, 2.68603561, 2.45168692, 2.69956397,\n",
       "       2.41292422, 2.49442754, 2.67845873, 2.33256453, 2.38092994,\n",
       "       2.70471468, 2.36944599, 2.53092909, 2.41567203, 2.62464209,\n",
       "       2.55031848, 2.45414874, 2.70095163, 2.60794801, 2.65912255,\n",
       "       2.523173  , 2.42666017, 2.63487662, 2.63946012, 2.61605254,\n",
       "       2.54820991, 2.73684402, 2.42940724, 2.5268327 , 2.36455933,\n",
       "       2.53921264, 2.49146938, 2.52533243, 2.23318285, 2.54541515,\n",
       "       2.61332843, 2.45722776, 2.31918518, 2.4295972 , 2.3521517 ,\n",
       "       2.4035833 , 2.69125966, 2.40884428, 2.70748843, 2.57358415,\n",
       "       2.60513015, 2.65881435, 2.50976123, 2.62574877, 2.37140668,\n",
       "       2.59610034, 2.50815609, 2.39896636, 2.19725033, 2.78231533,\n",
       "       2.58846187, 2.73134139, 2.58278145, 2.72201476, 2.63701707,\n",
       "       2.44019131, 2.64459525, 2.51061842, 2.39426876, 2.45912465,\n",
       "       2.38374614, 2.6620071 , 2.26685662, 2.42927229, 2.67184777,\n",
       "       2.45027119, 2.63087426, 2.20210485, 2.53160484, 2.51120036,\n",
       "       2.3775312 , 2.24309305, 2.70143307, 2.3444078 , 2.64317634,\n",
       "       2.6006457 , 2.70863485, 2.25914512, 2.79686289, 2.52273215,\n",
       "       2.59064623, 2.80342206, 2.47295083, 2.4421826 , 2.32796489])"
      ]
     },
     "execution_count": 51,
     "metadata": {},
     "output_type": "execute_result"
    }
   ],
   "source": [
    "radii"
   ]
  },
  {
   "cell_type": "code",
   "execution_count": 52,
   "id": "6d7d5f94",
   "metadata": {},
   "outputs": [
    {
     "name": "stdout",
     "output_type": "stream",
     "text": [
      "Stored 'w_1_radii' (ndarray)\n"
     ]
    }
   ],
   "source": [
    "w_1_radii = radii\n",
    "%store w_1_radii"
   ]
  },
  {
   "cell_type": "code",
   "execution_count": 53,
   "id": "f44e7938",
   "metadata": {},
   "outputs": [
    {
     "data": {
      "text/plain": [
       "Text(0.5, 0, 'Hyperbolic Embedding Radii')"
      ]
     },
     "execution_count": 53,
     "metadata": {},
     "output_type": "execute_result"
    },
    {
     "data": {
      "image/png": "[encoded data removed]",
      "text/plain": [
       "<Figure size 1500x750 with 1 Axes>"
      ]
     },
     "metadata": {},
     "output_type": "display_data"
    }
   ],
   "source": [
    "#Histogram of radii\n",
    "fig, ax = plt.subplots(figsize=(15,7.5))\n",
    "\n",
    "ax.hist(radii, color ='#fb8072', edgecolor = 'black')\n",
    "ax.tick_params(axis='both', which='major', labelsize=20)\n",
    "ax.set_ylabel('Cell Count', fontsize= 20)\n",
    "ax.set_xlabel('Hyperbolic Embedding Radii', fontsize=20)"
   ]
  },
  {
   "cell_type": "code",
   "execution_count": null,
   "id": "75c766bc",
   "metadata": {},
   "outputs": [],
   "source": [
    "#DIP analysis of radii\n",
    "dip, pval = diptest.diptest(radii)"
   ]
  },
  {
   "cell_type": "code",
   "execution_count": null,
   "id": "2ac64e08",
   "metadata": {},
   "outputs": [],
   "source": [
    "dip, pval"
   ]
  },
  {
   "cell_type": "code",
   "execution_count": null,
   "id": "31b674d5",
   "metadata": {},
   "outputs": [],
   "source": [
    "all_fits[0]['sig']"
   ]
  },
  {
   "cell_type": "code",
   "execution_count": 24,
   "id": "2793645c",
   "metadata": {},
   "outputs": [],
   "source": [
    "#return negative log likelihood of fit\n",
    "def MDS_lkl(fit, dmat):\n",
    "    lkl = 0;\n",
    "    N = fit['sig'].shape[0]\n",
    "    \n",
    "    sigs = fit['sig']\n",
    "    lam = fit['lambda']\n",
    "    emb_mat = get_embed_dmat(fit)\n",
    "    \n",
    "    for i in np.arange(N):\n",
    "        for j in np.arange(i+1, N):\n",
    "            seff = sigs[i]**2 + sigs[j]**2\n",
    "            lkl += ((dmat[i][j] - emb_mat[i][j]/lam)**2 / (2.0*seff)) + 0.5*np.log(seff*2.0*np.pi)\n",
    "    return lkl\n",
    "\n",
    "#input: optimization fit and distance matrix\n",
    "def BIC(fit, dmat):\n",
    "    N,D = fit['euc'].shape\n",
    "    n = 0.5*N*(N-1)\n",
    "    k = N*D + N + 1.0 - 0.5*D*(D-1)\n",
    "    \n",
    "    return k*np.log(n) + 2.0*MDS_lkl(fit, dmat)"
   ]
  },
  {
   "cell_type": "markdown",
   "id": "e7ccab40",
   "metadata": {},
   "source": [
    "## Bayesian information criteria\n",
    "\n",
    "There is a lot of formal Bayesian Theory behind this (see chapter 2 here https://urldefense.proofpoint.com/v2/url?u=https-3A__www.inference.org.uk_mackay_thesis.pdf&d=DwIGAg&c=-35OiAkTchMrZOngvJPOeA&r=B8GeUuyHfxQP8MseZuhipQ&m=KVww4gh9-XOtp1LqNUc0K-PGXOX3bm2QsokPFlBG9Vs&s=UBtNEdIXatq_zFpG53nmPCLbCnlgIgWigHYhEnBRYyo&e= ), but essentially we are trying to find the minimal number of parameters to describe a dataset. If the data is 5D, we don't want to use 7 parameters to describe it. The BIC is like a cost function that rewards a model that has a better fit to the likelihood function, but penalizes models that increase the number of their parameters. The model which minimizes this function will thus have the ideal trade-off of being able to model the data well without introducing too many parameters and overfitting the data."
   ]
  },
  {
   "cell_type": "code",
   "execution_count": 45,
   "id": "f3688551",
   "metadata": {},
   "outputs": [],
   "source": [
    "all_BIC = [BIC(fit, distance_matrix_squaredp) for fit in all_fits]"
   ]
  },
  {
   "cell_type": "code",
   "execution_count": 46,
   "id": "b1160cc0",
   "metadata": {},
   "outputs": [
    {
     "data": {
      "text/plain": [
       "[2534.087105676815,\n",
       " -7021.757180018744,\n",
       " -8602.348015330725,\n",
       " -9286.877680707199,\n",
       " -9735.41273896239,\n",
       " -9914.959233219293,\n",
       " -9998.646794097083,\n",
       " -9929.035244644956,\n",
       " -9805.367463899236,\n",
       " -9661.45603727559,\n",
       " -9399.037989144865,\n",
       " -9185.125446444945,\n",
       " -8843.98467744849]"
      ]
     },
     "execution_count": 46,
     "metadata": {},
     "output_type": "execute_result"
    }
   ],
   "source": [
    "all_BIC"
   ]
  },
  {
   "cell_type": "markdown",
   "id": "daae8d10",
   "metadata": {},
   "source": [
    "As you can see the BIC is minimized at the true dimension of 5. Any more parameters would have been redundant, any less would not have properly fit the data"
   ]
  },
  {
   "cell_type": "code",
   "execution_count": 47,
   "id": "c3160255",
   "metadata": {},
   "outputs": [
    {
     "data": {
      "text/plain": [
       "Text(0, 0.5, 'BIC')"
      ]
     },
     "execution_count": 47,
     "metadata": {},
     "output_type": "execute_result"
    },
    {
     "data": {
      "image/png": "[encoded data removed]",
      "text/plain": [
       "<Figure size 750x750 with 1 Axes>"
      ]
     },
     "metadata": {},
     "output_type": "display_data"
    }
   ],
   "source": [
    "fig, ax = plt.subplots(figsize=(7.5,7.5))\n",
    "\n",
    "ax.scatter(np.arange(2,15), all_BIC, c = '#8dd3c7', edgecolor = 'black', s = 200) #cornflowerblue, lightcoral\n",
    "ax.set_xlabel('Dimension', fontsize=20)\n",
    "ax.tick_params(axis='both', which='major', labelsize=15)\n",
    "ax.set_ylabel('BIC', fontsize=20)"
   ]
  },
  {
   "cell_type": "markdown",
   "id": "ce171280",
   "metadata": {},
   "source": [
    "# Re-Running the optimizer\n",
    "Lets start by generating some 2D data"
   ]
  },
  {
   "cell_type": "markdown",
   "id": "66b6d256",
   "metadata": {},
   "source": [
    "What is the purpose of re-running?"
   ]
  },
  {
   "cell_type": "code",
   "execution_count": null,
   "id": "6159dca9",
   "metadata": {},
   "outputs": [],
   "source": [
    "#generate 100 data points uniformly distributed in 5 dimensional hyperbolic space of radius R=4\n",
    "dim=2; R=4.0;\n",
    "n=100\n",
    "dirs = stats.norm.rvs(size=(n, dim))\n",
    "dirs = (dirs.T/np.sqrt(np.sum(np.square(dirs), axis=1))).T\n",
    "U = stats.uniform.rvs(size=n)\n",
    "rs_p = np.tanh(np.log((1-np.exp(-R))/np.exp(-R)*(U) + 1.0)/2.0)\n",
    "p_coords = rs_p.reshape(-1,1)*dirs\n",
    "\n",
    "#add noise to the computed distance matrix to simulate a more realistic dataset\n",
    "mat_2D = get_dmat(p_coords) + 0.05*R*stats.norm.rvs(size=(n,n))\n",
    "for i in np.arange(n):\n",
    "    for j in np.arange(i+1, n):\n",
    "        mat_2D[j][i] = mat_2D[i][j]\n",
    "mat_2D = 2.0*mat_2D/np.max(mat_2D)"
   ]
  },
  {
   "cell_type": "code",
   "execution_count": null,
   "id": "9f65f1d2",
   "metadata": {},
   "outputs": [],
   "source": [
    "#dictionary to specify input to simulation\n",
    "dat={'N':76, 'D':6, 'deltaij':distance_matrix_squaredp}\n",
    "#run optimizer\n",
    "model2D = ltz_m.optimize(data=dat, iter=250000, algorithm='LBFGS', tol_rel_grad=1e2)\n",
    "hyp_emb2D = {'euc':model2D.euc, 'sig':model2D.sig, 'lambda':model2D.stan_variable('lambda')}"
   ]
  },
  {
   "cell_type": "code",
   "execution_count": null,
   "id": "546b43c3",
   "metadata": {},
   "outputs": [],
   "source": [
    "process_sim(hyp_emb2D)"
   ]
  },
  {
   "cell_type": "markdown",
   "id": "77ed16b6",
   "metadata": {},
   "source": [
    "#### Most pts are well fit, but a few are poorly fit (the ones with high sigma) which adds a lot of scatter to the shepard diagram\n",
    "#### The optimizer got caught in a false minimum"
   ]
  },
  {
   "cell_type": "code",
   "execution_count": null,
   "id": "4bddb3f4",
   "metadata": {},
   "outputs": [],
   "source": [
    "#can't find 'emb_mat' parameter \n",
    "hyp_emb2D.keys()"
   ]
  },
  {
   "cell_type": "code",
   "execution_count": null,
   "id": "bb8c2124",
   "metadata": {},
   "outputs": [],
   "source": [
    "fig, ax = plt.subplots(1, 2, figsize=(15,7.5))\n",
    "\n",
    "ax[0].scatter(distance_matrix_squaredp[np.triu_indices(76, k=1)], hyp_emb2D['sig'][np.triu_indices(76, k=1)])\n",
    "ax[0].plot(np.arange(3), np.arange(3), c='black', linewidth=5, alpha=0.5)\n",
    "\n",
    "ax[0].set_xlabel('Original Distances', fontsize=20)\n",
    "ax[0].set_ylabel('Embedding Distances / $\\lambda$', fontsize=20)\n",
    "\n",
    "ax[1].hist(hyp_emb2D['sig'])\n",
    "ax[1].set_xlabel('Embedding Uncertainties', fontsize=20)"
   ]
  },
  {
   "cell_type": "markdown",
   "id": "23edc498",
   "metadata": {},
   "source": [
    "### Strategy: randomize the positions of the poorly fit points, and then return the coordinates as the initial conditions to continue optimizing. This bumps the simulation out of the false minimium without destroying all of the work its already done"
   ]
  },
  {
   "cell_type": "code",
   "execution_count": null,
   "id": "e47006a6",
   "metadata": {},
   "outputs": [],
   "source": [
    "#figure out which pts have high uncertainty, and randomize their coordinates without touching the rest of the points\n",
    "N_refit = np.where(hyp_emb2D['sig'] > 0.3)[0].shape[0]\n",
    "hyp_emb2D['euc'][np.where(hyp_emb2D['sig'] > 0.3)] = stats.norm.rvs(size=(N_refit,2))"
   ]
  },
  {
   "cell_type": "code",
   "execution_count": null,
   "id": "44aa4765",
   "metadata": {},
   "outputs": [],
   "source": [
    "#re-reun the optimizer, but this time sepcify the initial condition by passing the previous simulation dictionary\n",
    "dat={'N':100, 'D':2, 'deltaij':mat_2D}\n",
    "model2D = ltz_m.optimize(data=dat, iter=250000, algorithm='LBFGS', tol_rel_grad=1e2,inits = hyp_emb2D)\n",
    "hyp_emb2D = {'euc':model2D.euc, 'sig':model2D.sig, 'lambda':model2D.stan_variable('lambda')}\n",
    "# tst_2D = ltz_m.optimizing(data=dat, iter=250000, tol_rel_grad=1e2, init=tst_2D)"
   ]
  },
  {
   "cell_type": "code",
   "execution_count": null,
   "id": "4dc911c9",
   "metadata": {},
   "outputs": [],
   "source": [
    "process_sim(hyp_emb2D)"
   ]
  },
  {
   "cell_type": "markdown",
   "id": "b28b534e",
   "metadata": {},
   "source": [
    "### We see that the fit is significantly better, although there are still a few poorly fit points. We could keep iterating the above process until all points are well fit."
   ]
  },
  {
   "cell_type": "code",
   "execution_count": null,
   "id": "9f3fa17a",
   "metadata": {},
   "outputs": [],
   "source": [
    "fig, ax = plt.subplots(1, 2, figsize=(15,7.5))\n",
    "\n",
    "ax[0].scatter(mat_2D[np.triu_indices(100, k=1)], hyp_emb2D['emb_mat'][np.triu_indices(100, k=1)])\n",
    "ax[0].plot(np.arange(3), np.arange(3), c='black', linewidth=5, alpha=0.5)\n",
    "\n",
    "ax[0].set_xlabel('Original Distances', fontsize=20)\n",
    "ax[0].set_ylabel('Embedding Distances / $\\lambda$', fontsize=20)\n",
    "\n",
    "ax[1].hist(hyp_emb2D['sig'])\n",
    "ax[1].set_xlabel('Embedding Uncertainties', fontsize=20)"
   ]
  }
 ],
 "metadata": {
  "kernelspec": {
   "display_name": "Python 3 (ipykernel)",
   "language": "python",
   "name": "python3"
  },
  "language_info": {
   "codemirror_mode": {
    "name": "ipython",
    "version": 3
   },
   "file_extension": ".py",
   "mimetype": "text/x-python",
   "name": "python",
   "nbconvert_exporter": "python",
   "pygments_lexer": "ipython3",
   "version": "3.10.14"
  }
 },
 "nbformat": 4,
 "nbformat_minor": 5
}
