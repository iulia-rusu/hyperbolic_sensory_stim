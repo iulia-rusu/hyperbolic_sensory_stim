{
 "cells": [
  {
   "cell_type": "code",
   "execution_count": 26,
   "id": "dbb521f1",
   "metadata": {},
   "outputs": [],
   "source": [
    "'''\n",
    "Method developed by Anoop Praturu: https://www.biorxiv.org/content/10.1101/2022.10.12.511940v1\n",
    "Code from Anoop Praturu on Oct 2021\n",
    "Move from pystan to cmdstanpy based on suggestions by Milo Julis\n",
    "Edited by Mingchen Yao on May 26 2023\n",
    "'''\n",
    "\n",
    "import numpy as np\n",
    "import diptest  \n",
    "import matplotlib.pyplot as plt\n",
    "import cmdstanpy as stan\n",
    "import scipy.stats as stats\n",
    "import pickle\n",
    "import seaborn as sns\n",
    "%matplotlib inline\n",
    "\n",
    "import pandas as pd\n",
    "\n",
    "import plotly.express as px\n",
    "from matplotlib import rcParams\n",
    "import plotly.express as px"
   ]
  },
  {
   "cell_type": "code",
   "execution_count": null,
   "id": "73e1d8b7",
   "metadata": {},
   "outputs": [],
   "source": [
    "# # if there is anything wrong with comstan: re-install it. Otherwise don't run this cell\n",
    "# from cmdstanpy import install_cmdstan\n",
    "# install_cmdstan(overwrite = True)"
   ]
  },
  {
   "cell_type": "code",
   "execution_count": null,
   "id": "e6c280a4",
   "metadata": {},
   "outputs": [],
   "source": [
    "!python --version"
   ]
  },
  {
   "cell_type": "markdown",
   "id": "93f95b0f",
   "metadata": {},
   "source": [
    "# Functions for Generating Synthetic Data"
   ]
  },
  {
   "cell_type": "code",
   "execution_count": 27,
   "id": "f16c0781",
   "metadata": {},
   "outputs": [],
   "source": [
    "#returns hyperbolic distance between vectors in poincare ball\n",
    "def poincare_dist(v1, v2):\n",
    "    sq = np.sum(np.square(v1-v2))\n",
    "    r1 = np.sum(np.square(v1))\n",
    "    r2 = np.sum(np.square(v2))\n",
    "    inv = 2.0*sq/((1.0-r1)*(1.0-r2))\n",
    "    return np.arccosh(1.0 + inv)\n",
    "\n",
    "#return NxN symmetric distance matrix from poincare coordinates\n",
    "def get_dmat(p_coords):\n",
    "    N = p_coords.shape[0]\n",
    "    dists = np.zeros((N, N))\n",
    "    \n",
    "    for i in np.arange(N):\n",
    "        for j in np.arange(i+1, N):\n",
    "            dists[i][j] = poincare_dist(p_coords[i], p_coords[j])\n",
    "            dists[j][i] = dists[i][j]\n",
    "    return dists"
   ]
  },
  {
   "cell_type": "code",
   "execution_count": null,
   "id": "f942b036",
   "metadata": {},
   "outputs": [],
   "source": [
    "#generate 100 data points uniformly distributed in 5 dimensional hyperbolic space of radius R=4\n",
    "dim=5; R=4.0;\n",
    "n=100\n",
    "dirs = stats.norm.rvs(size=(n, dim))\n",
    "dirs = (dirs.T/np.sqrt(np.sum(np.square(dirs), axis=1))).T\n",
    "U = stats.uniform.rvs(size=n)\n",
    "rs_p = np.tanh(np.log((1-np.exp(-R))/np.exp(-R)*(U) + 1.0)/2.0)\n",
    "p_coords = rs_p.reshape(-1,1)*dirs\n",
    "\n",
    "#add noise to the computed distance matrix to simulate a more realistic dataset\n",
    "mat_dim = get_dmat(p_coords) + 0.05*R*stats.norm.rvs(size=(n,n))\n",
    "for i in np.arange(n):\n",
    "    for j in np.arange(i+1, n):\n",
    "        mat_dim[j][i] = mat_dim[i][j]\n",
    "mat_dim = 2.0*mat_dim/np.max(mat_dim)"
   ]
  },
  {
   "cell_type": "markdown",
   "id": "abf7bb38",
   "metadata": {},
   "source": [
    "# Code for fitting Bayesian Model"
   ]
  },
  {
   "cell_type": "code",
   "execution_count": 28,
   "id": "0a7b4752",
   "metadata": {},
   "outputs": [],
   "source": [
    "path = '/Users/iuliarusu/Documents/Sharpee/HMDS-example/model/'\n",
    "ltz_m = stan.CmdStanModel(stan_file=path+'lorentz.stan')"
   ]
  },
  {
   "cell_type": "markdown",
   "id": "8f61d6d2",
   "metadata": {},
   "source": [
    "# whole worm no cluster\n"
   ]
  },
  {
   "cell_type": "code",
   "execution_count": 455,
   "id": "2bc34960",
   "metadata": {},
   "outputs": [],
   "source": [
    "%store -r w3_sorted_new"
   ]
  },
  {
   "cell_type": "code",
   "execution_count": 456,
   "id": "effe5db9",
   "metadata": {},
   "outputs": [
    {
     "data": {
      "text/html": [
       "<div>\n",
       "<style scoped>\n",
       "    .dataframe tbody tr th:only-of-type {\n",
       "        vertical-align: middle;\n",
       "    }\n",
       "\n",
       "    .dataframe tbody tr th {\n",
       "        vertical-align: top;\n",
       "    }\n",
       "\n",
       "    .dataframe thead th {\n",
       "        text-align: right;\n",
       "    }\n",
       "</style>\n",
       "<table border=\"1\" class=\"dataframe\">\n",
       "  <thead>\n",
       "    <tr style=\"text-align: right;\">\n",
       "      <th></th>\n",
       "      <th>0</th>\n",
       "      <th>1</th>\n",
       "      <th>2</th>\n",
       "      <th>3</th>\n",
       "      <th>4</th>\n",
       "      <th>5</th>\n",
       "      <th>6</th>\n",
       "      <th>7</th>\n",
       "      <th>8</th>\n",
       "      <th>9</th>\n",
       "      <th>...</th>\n",
       "      <th>1591</th>\n",
       "      <th>1592</th>\n",
       "      <th>1593</th>\n",
       "      <th>1594</th>\n",
       "      <th>1595</th>\n",
       "      <th>1596</th>\n",
       "      <th>1597</th>\n",
       "      <th>1598</th>\n",
       "      <th>1599</th>\n",
       "      <th>cell_type</th>\n",
       "    </tr>\n",
       "  </thead>\n",
       "  <tbody>\n",
       "    <tr>\n",
       "      <th>404</th>\n",
       "      <td>1.000000</td>\n",
       "      <td>0.989704</td>\n",
       "      <td>0.944525</td>\n",
       "      <td>0.908084</td>\n",
       "      <td>0.843754</td>\n",
       "      <td>0.864612</td>\n",
       "      <td>0.837278</td>\n",
       "      <td>0.832220</td>\n",
       "      <td>0.762030</td>\n",
       "      <td>0.792770</td>\n",
       "      <td>...</td>\n",
       "      <td>0.609278</td>\n",
       "      <td>0.568807</td>\n",
       "      <td>0.641839</td>\n",
       "      <td>0.624177</td>\n",
       "      <td>0.600329</td>\n",
       "      <td>0.602627</td>\n",
       "      <td>0.593473</td>\n",
       "      <td>0.589147</td>\n",
       "      <td>0.606888</td>\n",
       "      <td>NaN</td>\n",
       "    </tr>\n",
       "    <tr>\n",
       "      <th>405</th>\n",
       "      <td>0.135084</td>\n",
       "      <td>0.182258</td>\n",
       "      <td>0.177245</td>\n",
       "      <td>0.151273</td>\n",
       "      <td>0.154221</td>\n",
       "      <td>0.182463</td>\n",
       "      <td>0.177743</td>\n",
       "      <td>0.166893</td>\n",
       "      <td>0.160427</td>\n",
       "      <td>0.165714</td>\n",
       "      <td>...</td>\n",
       "      <td>0.043090</td>\n",
       "      <td>0.040307</td>\n",
       "      <td>0.041656</td>\n",
       "      <td>0.049395</td>\n",
       "      <td>0.035583</td>\n",
       "      <td>0.046479</td>\n",
       "      <td>0.041009</td>\n",
       "      <td>0.037621</td>\n",
       "      <td>0.035455</td>\n",
       "      <td>NaN</td>\n",
       "    </tr>\n",
       "    <tr>\n",
       "      <th>407</th>\n",
       "      <td>0.000000</td>\n",
       "      <td>0.000000</td>\n",
       "      <td>0.000000</td>\n",
       "      <td>0.000000</td>\n",
       "      <td>0.000000</td>\n",
       "      <td>0.000000</td>\n",
       "      <td>0.000000</td>\n",
       "      <td>0.000000</td>\n",
       "      <td>0.000000</td>\n",
       "      <td>0.000000</td>\n",
       "      <td>...</td>\n",
       "      <td>0.038840</td>\n",
       "      <td>0.071981</td>\n",
       "      <td>0.081240</td>\n",
       "      <td>0.080497</td>\n",
       "      <td>0.062098</td>\n",
       "      <td>0.086486</td>\n",
       "      <td>0.044516</td>\n",
       "      <td>0.041087</td>\n",
       "      <td>0.061547</td>\n",
       "      <td>NaN</td>\n",
       "    </tr>\n",
       "    <tr>\n",
       "      <th>408</th>\n",
       "      <td>1.000000</td>\n",
       "      <td>0.909935</td>\n",
       "      <td>0.915828</td>\n",
       "      <td>0.928278</td>\n",
       "      <td>0.891202</td>\n",
       "      <td>0.861636</td>\n",
       "      <td>0.854499</td>\n",
       "      <td>0.804113</td>\n",
       "      <td>0.796091</td>\n",
       "      <td>0.762453</td>\n",
       "      <td>...</td>\n",
       "      <td>0.292896</td>\n",
       "      <td>0.259564</td>\n",
       "      <td>0.291442</td>\n",
       "      <td>0.290645</td>\n",
       "      <td>0.287001</td>\n",
       "      <td>0.313942</td>\n",
       "      <td>0.299676</td>\n",
       "      <td>0.319195</td>\n",
       "      <td>0.297368</td>\n",
       "      <td>NaN</td>\n",
       "    </tr>\n",
       "    <tr>\n",
       "      <th>409</th>\n",
       "      <td>1.000000</td>\n",
       "      <td>0.966189</td>\n",
       "      <td>0.926487</td>\n",
       "      <td>0.861591</td>\n",
       "      <td>0.872651</td>\n",
       "      <td>0.756645</td>\n",
       "      <td>0.801236</td>\n",
       "      <td>0.792823</td>\n",
       "      <td>0.778115</td>\n",
       "      <td>0.801977</td>\n",
       "      <td>...</td>\n",
       "      <td>0.382881</td>\n",
       "      <td>0.301860</td>\n",
       "      <td>0.363058</td>\n",
       "      <td>0.331529</td>\n",
       "      <td>0.311944</td>\n",
       "      <td>0.381838</td>\n",
       "      <td>0.403150</td>\n",
       "      <td>0.359195</td>\n",
       "      <td>0.317732</td>\n",
       "      <td>NaN</td>\n",
       "    </tr>\n",
       "    <tr>\n",
       "      <th>...</th>\n",
       "      <td>...</td>\n",
       "      <td>...</td>\n",
       "      <td>...</td>\n",
       "      <td>...</td>\n",
       "      <td>...</td>\n",
       "      <td>...</td>\n",
       "      <td>...</td>\n",
       "      <td>...</td>\n",
       "      <td>...</td>\n",
       "      <td>...</td>\n",
       "      <td>...</td>\n",
       "      <td>...</td>\n",
       "      <td>...</td>\n",
       "      <td>...</td>\n",
       "      <td>...</td>\n",
       "      <td>...</td>\n",
       "      <td>...</td>\n",
       "      <td>...</td>\n",
       "      <td>...</td>\n",
       "      <td>...</td>\n",
       "      <td>...</td>\n",
       "    </tr>\n",
       "    <tr>\n",
       "      <th>100</th>\n",
       "      <td>0.140460</td>\n",
       "      <td>0.112791</td>\n",
       "      <td>0.105255</td>\n",
       "      <td>0.129685</td>\n",
       "      <td>0.127429</td>\n",
       "      <td>0.115848</td>\n",
       "      <td>0.111250</td>\n",
       "      <td>0.147613</td>\n",
       "      <td>0.089326</td>\n",
       "      <td>0.140699</td>\n",
       "      <td>...</td>\n",
       "      <td>0.132090</td>\n",
       "      <td>0.081079</td>\n",
       "      <td>0.107051</td>\n",
       "      <td>0.101537</td>\n",
       "      <td>0.118726</td>\n",
       "      <td>0.067406</td>\n",
       "      <td>0.087785</td>\n",
       "      <td>0.069696</td>\n",
       "      <td>0.099976</td>\n",
       "      <td>RME</td>\n",
       "    </tr>\n",
       "    <tr>\n",
       "      <th>101</th>\n",
       "      <td>0.161518</td>\n",
       "      <td>0.105332</td>\n",
       "      <td>0.090907</td>\n",
       "      <td>0.117587</td>\n",
       "      <td>0.083464</td>\n",
       "      <td>0.102537</td>\n",
       "      <td>0.068601</td>\n",
       "      <td>0.069919</td>\n",
       "      <td>0.086537</td>\n",
       "      <td>0.130948</td>\n",
       "      <td>...</td>\n",
       "      <td>0.547456</td>\n",
       "      <td>0.450282</td>\n",
       "      <td>0.423755</td>\n",
       "      <td>0.397421</td>\n",
       "      <td>0.436734</td>\n",
       "      <td>0.427425</td>\n",
       "      <td>0.424936</td>\n",
       "      <td>0.409142</td>\n",
       "      <td>0.352581</td>\n",
       "      <td>SMDV</td>\n",
       "    </tr>\n",
       "    <tr>\n",
       "      <th>102</th>\n",
       "      <td>0.203242</td>\n",
       "      <td>0.248373</td>\n",
       "      <td>0.184946</td>\n",
       "      <td>0.222029</td>\n",
       "      <td>0.226858</td>\n",
       "      <td>0.160685</td>\n",
       "      <td>0.189393</td>\n",
       "      <td>0.144383</td>\n",
       "      <td>0.193044</td>\n",
       "      <td>0.233782</td>\n",
       "      <td>...</td>\n",
       "      <td>0.309835</td>\n",
       "      <td>0.355453</td>\n",
       "      <td>0.528991</td>\n",
       "      <td>0.528460</td>\n",
       "      <td>0.487436</td>\n",
       "      <td>0.448959</td>\n",
       "      <td>0.395836</td>\n",
       "      <td>0.257709</td>\n",
       "      <td>0.211084</td>\n",
       "      <td>SMDV</td>\n",
       "    </tr>\n",
       "    <tr>\n",
       "      <th>103</th>\n",
       "      <td>0.162636</td>\n",
       "      <td>0.133730</td>\n",
       "      <td>0.176616</td>\n",
       "      <td>0.220100</td>\n",
       "      <td>0.246730</td>\n",
       "      <td>0.289122</td>\n",
       "      <td>0.298373</td>\n",
       "      <td>0.295147</td>\n",
       "      <td>0.253575</td>\n",
       "      <td>0.209242</td>\n",
       "      <td>...</td>\n",
       "      <td>0.060020</td>\n",
       "      <td>0.069258</td>\n",
       "      <td>0.065571</td>\n",
       "      <td>0.064594</td>\n",
       "      <td>0.075902</td>\n",
       "      <td>0.094592</td>\n",
       "      <td>0.069104</td>\n",
       "      <td>0.093176</td>\n",
       "      <td>0.079022</td>\n",
       "      <td>SMDD</td>\n",
       "    </tr>\n",
       "    <tr>\n",
       "      <th>104</th>\n",
       "      <td>0.288534</td>\n",
       "      <td>0.309377</td>\n",
       "      <td>0.352628</td>\n",
       "      <td>0.315536</td>\n",
       "      <td>0.327323</td>\n",
       "      <td>0.454405</td>\n",
       "      <td>0.464296</td>\n",
       "      <td>0.511276</td>\n",
       "      <td>0.361326</td>\n",
       "      <td>0.318887</td>\n",
       "      <td>...</td>\n",
       "      <td>0.191056</td>\n",
       "      <td>0.203439</td>\n",
       "      <td>0.250887</td>\n",
       "      <td>0.161580</td>\n",
       "      <td>0.248423</td>\n",
       "      <td>0.180412</td>\n",
       "      <td>0.237147</td>\n",
       "      <td>0.179536</td>\n",
       "      <td>0.302771</td>\n",
       "      <td>SMDD</td>\n",
       "    </tr>\n",
       "  </tbody>\n",
       "</table>\n",
       "<p>136 rows × 1601 columns</p>\n",
       "</div>"
      ],
      "text/plain": [
       "            0         1         2         3         4         5         6  \\\n",
       "404  1.000000  0.989704  0.944525  0.908084  0.843754  0.864612  0.837278   \n",
       "405  0.135084  0.182258  0.177245  0.151273  0.154221  0.182463  0.177743   \n",
       "407  0.000000  0.000000  0.000000  0.000000  0.000000  0.000000  0.000000   \n",
       "408  1.000000  0.909935  0.915828  0.928278  0.891202  0.861636  0.854499   \n",
       "409  1.000000  0.966189  0.926487  0.861591  0.872651  0.756645  0.801236   \n",
       "..        ...       ...       ...       ...       ...       ...       ...   \n",
       "100  0.140460  0.112791  0.105255  0.129685  0.127429  0.115848  0.111250   \n",
       "101  0.161518  0.105332  0.090907  0.117587  0.083464  0.102537  0.068601   \n",
       "102  0.203242  0.248373  0.184946  0.222029  0.226858  0.160685  0.189393   \n",
       "103  0.162636  0.133730  0.176616  0.220100  0.246730  0.289122  0.298373   \n",
       "104  0.288534  0.309377  0.352628  0.315536  0.327323  0.454405  0.464296   \n",
       "\n",
       "            7         8         9  ...      1591      1592      1593  \\\n",
       "404  0.832220  0.762030  0.792770  ...  0.609278  0.568807  0.641839   \n",
       "405  0.166893  0.160427  0.165714  ...  0.043090  0.040307  0.041656   \n",
       "407  0.000000  0.000000  0.000000  ...  0.038840  0.071981  0.081240   \n",
       "408  0.804113  0.796091  0.762453  ...  0.292896  0.259564  0.291442   \n",
       "409  0.792823  0.778115  0.801977  ...  0.382881  0.301860  0.363058   \n",
       "..        ...       ...       ...  ...       ...       ...       ...   \n",
       "100  0.147613  0.089326  0.140699  ...  0.132090  0.081079  0.107051   \n",
       "101  0.069919  0.086537  0.130948  ...  0.547456  0.450282  0.423755   \n",
       "102  0.144383  0.193044  0.233782  ...  0.309835  0.355453  0.528991   \n",
       "103  0.295147  0.253575  0.209242  ...  0.060020  0.069258  0.065571   \n",
       "104  0.511276  0.361326  0.318887  ...  0.191056  0.203439  0.250887   \n",
       "\n",
       "         1594      1595      1596      1597      1598      1599  cell_type  \n",
       "404  0.624177  0.600329  0.602627  0.593473  0.589147  0.606888        NaN  \n",
       "405  0.049395  0.035583  0.046479  0.041009  0.037621  0.035455        NaN  \n",
       "407  0.080497  0.062098  0.086486  0.044516  0.041087  0.061547        NaN  \n",
       "408  0.290645  0.287001  0.313942  0.299676  0.319195  0.297368        NaN  \n",
       "409  0.331529  0.311944  0.381838  0.403150  0.359195  0.317732        NaN  \n",
       "..        ...       ...       ...       ...       ...       ...        ...  \n",
       "100  0.101537  0.118726  0.067406  0.087785  0.069696  0.099976        RME  \n",
       "101  0.397421  0.436734  0.427425  0.424936  0.409142  0.352581       SMDV  \n",
       "102  0.528460  0.487436  0.448959  0.395836  0.257709  0.211084       SMDV  \n",
       "103  0.064594  0.075902  0.094592  0.069104  0.093176  0.079022       SMDD  \n",
       "104  0.161580  0.248423  0.180412  0.237147  0.179536  0.302771       SMDD  \n",
       "\n",
       "[136 rows x 1601 columns]"
      ]
     },
     "execution_count": 456,
     "metadata": {},
     "output_type": "execute_result"
    }
   ],
   "source": [
    "w3_sorted_new"
   ]
  },
  {
   "cell_type": "code",
   "execution_count": 457,
   "id": "1da87968",
   "metadata": {},
   "outputs": [],
   "source": [
    "w3_pre_rad = w3_sorted_new.iloc[:, : -1]"
   ]
  },
  {
   "cell_type": "code",
   "execution_count": 458,
   "id": "f5b73b96",
   "metadata": {},
   "outputs": [],
   "source": [
    "# bacteria = np.load('/Users/iuliarusu/Documents/Sharpee/ProcAiryData/Yfull_op50_SF.npz')\n",
    "# bacteria_arr_0= bacteria['arr_0']\n",
    "# bacteria_0_df = pd.DataFrame(bacteria_arr_0)\n",
    "corr_matrix = w3_pre_rad.T.corr()\n",
    "distance_matrix = 1 - corr_matrix\n",
    "distance_matrix_squaredp = (1 - corr_matrix**2) * 2"
   ]
  },
  {
   "cell_type": "code",
   "execution_count": 459,
   "id": "5e457978",
   "metadata": {},
   "outputs": [
    {
     "data": {
      "text/plain": [
       "(136, 136)"
      ]
     },
     "execution_count": 459,
     "metadata": {},
     "output_type": "execute_result"
    }
   ],
   "source": [
    "distance_matrix_squaredp.shape"
   ]
  },
  {
   "cell_type": "code",
   "execution_count": 460,
   "id": "ee1e7d32",
   "metadata": {},
   "outputs": [],
   "source": [
    "distance_matrix_squaredp.reset_index(drop=True, inplace=True)"
   ]
  },
  {
   "cell_type": "code",
   "execution_count": 469,
   "id": "8db4cafc",
   "metadata": {},
   "outputs": [
    {
     "name": "stderr",
     "output_type": "stream",
     "text": [
      "11:14:30 - cmdstanpy - INFO - Chain [1] start processing\n",
      "11:15:04 - cmdstanpy - INFO - Chain [1] done processing\n"
     ]
    }
   ],
   "source": [
    "#dictionary to specify input to simulation\n",
    "\n",
    "# dat={'N':100, 'D':5, 'deltaij':mat_dim}\n",
    "dat = {'N': 136 , 'D': 8 , 'deltaij':distance_matrix_squaredp}\n",
    "#run optimizer\n",
    "model = ltz_m.optimize(data=dat, iter=250000, algorithm='LBFGS', tol_rel_grad=1e2)"
   ]
  },
  {
   "cell_type": "code",
   "execution_count": 470,
   "id": "a880a1ed",
   "metadata": {},
   "outputs": [
    {
     "name": "stderr",
     "output_type": "stream",
     "text": [
      "11:15:07 - cmdstanpy - WARNING - The default behavior of CmdStanMLE.stan_variable() will change in a future release to always return a numpy.ndarray, even for scalar variables.\n"
     ]
    }
   ],
   "source": [
    "# build result \n",
    "hyp_emb = {'euc':model.euc, 'sig':model.sig, 'lambda':model.stan_variable('lambda')}\n",
    "\n",
    "# # and save\n",
    "# fdname = './emb5d.pickle'\n",
    "# with open(fdname,'wb') as file:\n",
    "#     pickle.dump(hyp_emb, file,  protocol=pickle.HIGHEST_PROTOCOL)"
   ]
  },
  {
   "cell_type": "code",
   "execution_count": null,
   "id": "d4ef1297",
   "metadata": {},
   "outputs": [],
   "source": [
    "# # load existing results\n",
    "# fdname = './emb5d.pickle'\n",
    "# with open(fdname, 'rb') as file:\n",
    "#     hyp_emb = pickle.load(file)"
   ]
  },
  {
   "cell_type": "markdown",
   "id": "0f4a4cf9",
   "metadata": {},
   "source": [
    "## Some utility functions for post-processing the simulation output"
   ]
  },
  {
   "cell_type": "code",
   "execution_count": 143,
   "id": "1f033e62",
   "metadata": {},
   "outputs": [],
   "source": [
    "def d_lor(t1, t2, E1, E2):\n",
    "    return np.arccosh(t1*t2 - np.dot(E1, E2))\n",
    "\n",
    "#returns embedding distance matrix from optimization fit\n",
    "def get_embed_dmat(fit):\n",
    "    N = fit['euc'].shape[0]\n",
    "    fit_ts = np.sqrt(1.0 + np.sum(np.square(fit['euc']), axis=1))\n",
    "\n",
    "    fit_mat = np.zeros((N, N))\n",
    "\n",
    "    for i in np.arange(N):\n",
    "        for j in np.arange(i+1,N):\n",
    "            fit_mat[i][j] = d_lor(fit_ts[i], fit_ts[j], fit['euc'][i], fit['euc'][j])\n",
    "            fit_mat[j][i] = fit_mat[i][j]\n",
    "            \n",
    "    return fit_mat\n",
    "\n",
    "#return poincare coordinates\n",
    "def get_poin(fit):\n",
    "    ts = np.sqrt(1.0 + np.sum(np.square(fit['euc']), axis=1))\n",
    "    return (fit['euc'].T / (ts + 1)).T"
   ]
  },
  {
   "cell_type": "code",
   "execution_count": 107,
   "id": "dac6394d",
   "metadata": {},
   "outputs": [],
   "source": [
    "def process_sim(fit):\n",
    "    fit['emb_mat'] = get_embed_dmat(fit)/fit['lambda']\n",
    "    fit['pcoords'] = get_poin(fit)\n",
    "    fit['radii'] = 2.0*np.arctanh(np.sqrt(np.sum(np.square(fit['pcoords']), axis=1)))"
   ]
  },
  {
   "cell_type": "code",
   "execution_count": 471,
   "id": "d651f3ad",
   "metadata": {},
   "outputs": [],
   "source": [
    "#run this function after running the optimizer to process the output data into more usable forms\n",
    "process_sim(hyp_emb)"
   ]
  },
  {
   "cell_type": "code",
   "execution_count": 472,
   "id": "8d3b4c66",
   "metadata": {},
   "outputs": [
    {
     "data": {
      "text/plain": [
       "2.16349"
      ]
     },
     "execution_count": 472,
     "metadata": {},
     "output_type": "execute_result"
    }
   ],
   "source": [
    "#curvature (or radius)\n",
    "hyp_emb['lambda']"
   ]
  },
  {
   "cell_type": "code",
   "execution_count": 465,
   "id": "fa441edb",
   "metadata": {},
   "outputs": [
    {
     "data": {
      "text/plain": [
       "(136, 3)"
      ]
     },
     "execution_count": 465,
     "metadata": {},
     "output_type": "execute_result"
    }
   ],
   "source": [
    "#poincare embedding coordinates\n",
    "hyp_emb['pcoords'].shape"
   ]
  },
  {
   "cell_type": "code",
   "execution_count": 466,
   "id": "54068739",
   "metadata": {},
   "outputs": [
    {
     "data": {
      "text/html": [
       "<div>\n",
       "<style scoped>\n",
       "    .dataframe tbody tr th:only-of-type {\n",
       "        vertical-align: middle;\n",
       "    }\n",
       "\n",
       "    .dataframe tbody tr th {\n",
       "        vertical-align: top;\n",
       "    }\n",
       "\n",
       "    .dataframe thead th {\n",
       "        text-align: right;\n",
       "    }\n",
       "</style>\n",
       "<table border=\"1\" class=\"dataframe\">\n",
       "  <thead>\n",
       "    <tr style=\"text-align: right;\">\n",
       "      <th></th>\n",
       "      <th>0</th>\n",
       "      <th>1</th>\n",
       "      <th>2</th>\n",
       "      <th>3</th>\n",
       "      <th>4</th>\n",
       "      <th>5</th>\n",
       "      <th>6</th>\n",
       "      <th>7</th>\n",
       "      <th>cell_type</th>\n",
       "    </tr>\n",
       "  </thead>\n",
       "  <tbody>\n",
       "    <tr>\n",
       "      <th>0</th>\n",
       "      <td>0.056773</td>\n",
       "      <td>-0.196749</td>\n",
       "      <td>-0.040661</td>\n",
       "      <td>-0.404240</td>\n",
       "      <td>-0.391122</td>\n",
       "      <td>0.357550</td>\n",
       "      <td>-0.156557</td>\n",
       "      <td>-0.066641</td>\n",
       "      <td>NaN</td>\n",
       "    </tr>\n",
       "    <tr>\n",
       "      <th>1</th>\n",
       "      <td>-0.303167</td>\n",
       "      <td>-0.092105</td>\n",
       "      <td>0.015582</td>\n",
       "      <td>-0.053827</td>\n",
       "      <td>0.256096</td>\n",
       "      <td>0.028660</td>\n",
       "      <td>-0.124819</td>\n",
       "      <td>-0.561747</td>\n",
       "      <td>NaN</td>\n",
       "    </tr>\n",
       "    <tr>\n",
       "      <th>2</th>\n",
       "      <td>-0.486983</td>\n",
       "      <td>-0.184659</td>\n",
       "      <td>-0.260072</td>\n",
       "      <td>0.063266</td>\n",
       "      <td>0.053446</td>\n",
       "      <td>-0.162210</td>\n",
       "      <td>0.114458</td>\n",
       "      <td>-0.297354</td>\n",
       "      <td>NaN</td>\n",
       "    </tr>\n",
       "    <tr>\n",
       "      <th>3</th>\n",
       "      <td>0.463369</td>\n",
       "      <td>0.094530</td>\n",
       "      <td>-0.312475</td>\n",
       "      <td>-0.165623</td>\n",
       "      <td>-0.008478</td>\n",
       "      <td>0.254318</td>\n",
       "      <td>-0.180074</td>\n",
       "      <td>-0.173187</td>\n",
       "      <td>NaN</td>\n",
       "    </tr>\n",
       "    <tr>\n",
       "      <th>4</th>\n",
       "      <td>0.033422</td>\n",
       "      <td>-0.237016</td>\n",
       "      <td>-0.000544</td>\n",
       "      <td>0.041812</td>\n",
       "      <td>0.061503</td>\n",
       "      <td>-0.260849</td>\n",
       "      <td>-0.466126</td>\n",
       "      <td>-0.402553</td>\n",
       "      <td>NaN</td>\n",
       "    </tr>\n",
       "    <tr>\n",
       "      <th>...</th>\n",
       "      <td>...</td>\n",
       "      <td>...</td>\n",
       "      <td>...</td>\n",
       "      <td>...</td>\n",
       "      <td>...</td>\n",
       "      <td>...</td>\n",
       "      <td>...</td>\n",
       "      <td>...</td>\n",
       "      <td>...</td>\n",
       "    </tr>\n",
       "    <tr>\n",
       "      <th>131</th>\n",
       "      <td>0.489693</td>\n",
       "      <td>-0.046614</td>\n",
       "      <td>0.077801</td>\n",
       "      <td>-0.023549</td>\n",
       "      <td>0.030520</td>\n",
       "      <td>0.060681</td>\n",
       "      <td>0.423136</td>\n",
       "      <td>0.085341</td>\n",
       "      <td>NaN</td>\n",
       "    </tr>\n",
       "    <tr>\n",
       "      <th>132</th>\n",
       "      <td>0.348656</td>\n",
       "      <td>-0.226001</td>\n",
       "      <td>-0.302361</td>\n",
       "      <td>0.052101</td>\n",
       "      <td>0.202159</td>\n",
       "      <td>0.223597</td>\n",
       "      <td>0.036454</td>\n",
       "      <td>0.424199</td>\n",
       "      <td>NaN</td>\n",
       "    </tr>\n",
       "    <tr>\n",
       "      <th>133</th>\n",
       "      <td>0.444859</td>\n",
       "      <td>-0.202391</td>\n",
       "      <td>-0.363143</td>\n",
       "      <td>0.107134</td>\n",
       "      <td>0.143668</td>\n",
       "      <td>0.245818</td>\n",
       "      <td>-0.014923</td>\n",
       "      <td>0.228628</td>\n",
       "      <td>NaN</td>\n",
       "    </tr>\n",
       "    <tr>\n",
       "      <th>134</th>\n",
       "      <td>-0.272392</td>\n",
       "      <td>-0.401643</td>\n",
       "      <td>0.035419</td>\n",
       "      <td>0.386667</td>\n",
       "      <td>-0.380951</td>\n",
       "      <td>0.002885</td>\n",
       "      <td>0.052484</td>\n",
       "      <td>0.086198</td>\n",
       "      <td>NaN</td>\n",
       "    </tr>\n",
       "    <tr>\n",
       "      <th>135</th>\n",
       "      <td>-0.241745</td>\n",
       "      <td>-0.430621</td>\n",
       "      <td>0.040041</td>\n",
       "      <td>0.287823</td>\n",
       "      <td>-0.414512</td>\n",
       "      <td>-0.066810</td>\n",
       "      <td>0.037066</td>\n",
       "      <td>0.162977</td>\n",
       "      <td>NaN</td>\n",
       "    </tr>\n",
       "  </tbody>\n",
       "</table>\n",
       "<p>136 rows × 9 columns</p>\n",
       "</div>"
      ],
      "text/plain": [
       "            0         1         2         3         4         5         6  \\\n",
       "0    0.056773 -0.196749 -0.040661 -0.404240 -0.391122  0.357550 -0.156557   \n",
       "1   -0.303167 -0.092105  0.015582 -0.053827  0.256096  0.028660 -0.124819   \n",
       "2   -0.486983 -0.184659 -0.260072  0.063266  0.053446 -0.162210  0.114458   \n",
       "3    0.463369  0.094530 -0.312475 -0.165623 -0.008478  0.254318 -0.180074   \n",
       "4    0.033422 -0.237016 -0.000544  0.041812  0.061503 -0.260849 -0.466126   \n",
       "..        ...       ...       ...       ...       ...       ...       ...   \n",
       "131  0.489693 -0.046614  0.077801 -0.023549  0.030520  0.060681  0.423136   \n",
       "132  0.348656 -0.226001 -0.302361  0.052101  0.202159  0.223597  0.036454   \n",
       "133  0.444859 -0.202391 -0.363143  0.107134  0.143668  0.245818 -0.014923   \n",
       "134 -0.272392 -0.401643  0.035419  0.386667 -0.380951  0.002885  0.052484   \n",
       "135 -0.241745 -0.430621  0.040041  0.287823 -0.414512 -0.066810  0.037066   \n",
       "\n",
       "            7 cell_type  \n",
       "0   -0.066641       NaN  \n",
       "1   -0.561747       NaN  \n",
       "2   -0.297354       NaN  \n",
       "3   -0.173187       NaN  \n",
       "4   -0.402553       NaN  \n",
       "..        ...       ...  \n",
       "131  0.085341       NaN  \n",
       "132  0.424199       NaN  \n",
       "133  0.228628       NaN  \n",
       "134  0.086198       NaN  \n",
       "135  0.162977       NaN  \n",
       "\n",
       "[136 rows x 9 columns]"
      ]
     },
     "execution_count": 466,
     "metadata": {},
     "output_type": "execute_result"
    }
   ],
   "source": [
    "pcoords"
   ]
  },
  {
   "cell_type": "code",
   "execution_count": 473,
   "id": "89a6a1d7",
   "metadata": {},
   "outputs": [],
   "source": [
    "pcoords = pd.DataFrame(hyp_emb['pcoords'])\n",
    "pcoords['cell_type'] = w3_sorted_new['cell_type'] \n",
    "w3_8d_pcoords = pcoords\n"
   ]
  },
  {
   "cell_type": "code",
   "execution_count": 474,
   "id": "b434b5b0",
   "metadata": {},
   "outputs": [
    {
     "name": "stdout",
     "output_type": "stream",
     "text": [
      "Stored 'w3_8d_pcoords' (DataFrame)\n"
     ]
    }
   ],
   "source": [
    "%store w3_8d_pcoords"
   ]
  },
  {
   "cell_type": "code",
   "execution_count": null,
   "id": "d32d1b0c",
   "metadata": {},
   "outputs": [],
   "source": [
    "w_1_unclustered = hyp_emb['pcoords']\n",
    "%store w_1_unclustered"
   ]
  },
  {
   "cell_type": "code",
   "execution_count": 209,
   "id": "e0b8162b",
   "metadata": {},
   "outputs": [
    {
     "data": {
      "text/plain": [
       "dict_keys(['euc', 'sig', 'lambda', 'emb_mat', 'pcoords', 'radii'])"
      ]
     },
     "execution_count": 209,
     "metadata": {},
     "output_type": "execute_result"
    }
   ],
   "source": [
    "#emebdding uncertainties\n",
    "hyp_emb.keys()"
   ]
  },
  {
   "cell_type": "markdown",
   "id": "ffa4a0f2",
   "metadata": {},
   "source": [
    "# Shepard Diagram"
   ]
  },
  {
   "cell_type": "code",
   "execution_count": 47,
   "id": "b68aec1a",
   "metadata": {},
   "outputs": [],
   "source": [
    "rcParams['font.family'] = 'sans-serif'\n",
    "rcParams['font.sans-serif'] = 'Arial'"
   ]
  },
  {
   "cell_type": "code",
   "execution_count": null,
   "id": "6b924846",
   "metadata": {},
   "outputs": [],
   "source": [
    "# color brewer paisley hex color references\n",
    "#8dd3c7\n",
    "#ffffb3\n",
    "#bebada\n",
    "#fb8072\n",
    "#80b1d3"
   ]
  },
  {
   "cell_type": "code",
   "execution_count": 17,
   "id": "48b2060c",
   "metadata": {},
   "outputs": [],
   "source": [
    "from sklearn.metrics import r2_score"
   ]
  },
  {
   "cell_type": "code",
   "execution_count": 327,
   "id": "25cc5d87",
   "metadata": {},
   "outputs": [],
   "source": [
    "def r_squared(x, y):\n",
    "    # Fit a linear model: Y = aX + b\n",
    "    a, b = np.polyfit(x, y, 1)  # Linear regression (degree = 1)\n",
    "    \n",
    "    # Predicted Y values\n",
    "    y_pred = a * x + b  \n",
    "\n",
    "    # Compute variance\n",
    "    total_variance = np.var(y, ddof=1)  # Variance of Y\n",
    "    unexplained_variance = np.var(y - y_pred, ddof=1)  # Variance of residuals\n",
    "\n",
    "    # Compute R²\n",
    "    r2 = 1 - (unexplained_variance / total_variance)\n",
    "    return r2"
   ]
  },
  {
   "cell_type": "code",
   "execution_count": 328,
   "id": "ff05671f",
   "metadata": {},
   "outputs": [
    {
     "data": {
      "text/plain": [
       "0.7478046272359005"
      ]
     },
     "execution_count": 328,
     "metadata": {},
     "output_type": "execute_result"
    }
   ],
   "source": [
    "r = r_squared(hyp_emb['emb_mat'][np.triu_indices(133, k=1)], distance_matrix_squaredp.values[np.triu_indices(133, k=1)])\n",
    "r"
   ]
  },
  {
   "cell_type": "code",
   "execution_count": 25,
   "id": "c3ed0ead",
   "metadata": {},
   "outputs": [
    {
     "data": {
      "image/png": "[encoded data removed]",
      "text/plain": [
       "<Figure size 740x370 with 2 Axes>"
      ]
     },
     "metadata": {},
     "output_type": "display_data"
    }
   ],
   "source": [
    "fig, ax = plt.subplots(1, 2, figsize=(3.7 * 2, 3.7))\n",
    "\n",
    "ax[0].scatter(distance_matrix_squaredp.values[np.triu_indices(133, k=1)], hyp_emb['emb_mat'][np.triu_indices(133, k=1)], c='#8dd3c7', edgecolor='black', alpha=0.7) #cornflowerblue, lightcoral\n",
    "ax[0].plot(np.arange(3), np.arange(3), c='black', linewidth=5, alpha=0.5)\n",
    "r2 = r2_score(distance_matrix_squaredp.values[np.triu_indices(133, k=1)], hyp_emb['emb_mat'][np.triu_indices(133, k=1)])\n",
    "\n",
    "ax[0].set_xlabel('Original Distances', fontsize=20)\n",
    "ax[0].tick_params(axis='both', which='major', labelsize=20)\n",
    "ax[0].set_ylabel('Embedding Distances / $\\lambda$', fontsize=20)\n",
    "ax[0].text(0.1, 2.5, f'$R^2 = {r2:.2f}$', fontsize=20)\n",
    "# ax[0].text(0.1, 2.5, f'$R^2 = {r2:.2f}$', fontsize=20, verticalalignment='top')\n",
    "\n",
    "ax[1].hist(hyp_emb['sig'], color ='#bebada', edgecolor='black') #cornflowerblue, lightcoral\n",
    "ax[1].set_xlabel('Embedding Uncertainties', fontsize=20)\n",
    "ax[1].tick_params(axis='both', which='major', labelsize=20)\n",
    "\n",
    "# plt.savefig('/Users/iuliarusu/Documents/Sharpee/final_images/figure2/singlew_embedding_w1.svg', format='svg', bbox_inches='tight')"
   ]
  },
  {
   "cell_type": "code",
   "execution_count": 48,
   "id": "7ea16b78",
   "metadata": {},
   "outputs": [],
   "source": [
    "hyperbolic_df= pd.DataFrame(hyp_emb['pcoords'], columns=['x', 'y', 'z'])\n",
    "\n"
   ]
  },
  {
   "cell_type": "code",
   "execution_count": null,
   "id": "c4caf498",
   "metadata": {},
   "outputs": [],
   "source": [
    "#cell type label column\n",
    "column = ['ON'] * (ON_0.shape[0]) + ['OFF'] * (OFF_0.shape[0]) + ['AVA'] * (AVA_0.shape[0]) + ['RME'] * (RME_0.shape[0]) + ['SMDV'] * (SMDV_0.shape[0]) + ['SMDD'] * (SMDD_0.shape[0])\n",
    "cell_type = np.array(column)\n",
    "hyperbolic_df['cluster labels'] = cell_type.T\n"
   ]
  },
  {
   "cell_type": "code",
   "execution_count": null,
   "id": "b4eddd58",
   "metadata": {},
   "outputs": [],
   "source": [
    "#8dd3c7\n",
    "#ffffb3\n",
    "#bebada\n",
    "#fb8072\n",
    "#80b1d3"
   ]
  },
  {
   "cell_type": "code",
   "execution_count": null,
   "id": "13337882",
   "metadata": {},
   "outputs": [],
   "source": [
    "hyperbolic_df"
   ]
  },
  {
   "cell_type": "code",
   "execution_count": null,
   "id": "09b7a13f",
   "metadata": {},
   "outputs": [],
   "source": [
    "\n",
    "\n",
    "# Create a scatter plot\n",
    "# fig = px.scatter_3d(data_frame = hyperbolic_df, x= 'x', y = 'y', z= 'z', title='AVA and RME: Stimulus 0', color = 'cluster labels') #cornflowerblue, lightcoral\n",
    "\n",
    "fig = px.scatter_3d(data_frame = hyperbolic_df, x= 'x', y = 'y', z= 'z', title='ON and OFF Neurons: Bacterial Stimulus No. 0' ) #cornflowerblue, lightcoral\n",
    "fig.update_layout(\n",
    "    scene=dict(\n",
    "        xaxis=dict(ticktext=[-1, -0.5, 0, 0.5, 1]),\n",
    "        yaxis=dict(ticktext=[-1, -0.5, 0, 0.5, 1]),\n",
    "        zaxis=dict(ticktext=[-1, -0.5, 0, 0.5, 1]),\n",
    "        )\n",
    ")\n",
    "fig.update_traces(marker=dict(color='#80b1d3', size=8, opacity = 0.8))\n",
    "\n",
    "fig.show()"
   ]
  },
  {
   "cell_type": "code",
   "execution_count": null,
   "id": "b3cd3456",
   "metadata": {},
   "outputs": [],
   "source": [
    "fig = px.scatter_3d(\n",
    "    data_frame=hyperbolic_df, \n",
    "    x='x', \n",
    "    y='y', \n",
    "    z='z', \n",
    "     \n",
    "    # text='cluster labels',  # assuming 'labels' column contains the point labels\n",
    "    # title='ON and OFF Neurons',\n",
    "    labels={'x': 'X', 'y': 'Y', 'z': 'Z'},\n",
    "    \n",
    ")\n",
    "\n",
    "fig.update_layout(\n",
    "    scene=dict(\n",
    "        xaxis=dict(\n",
    "            tickvals=[-1, -0.5, 0, 0.5, 1],\n",
    "            ticktext=['-1', '-0.5', '0', '0.5', '1'],\n",
    "            title=dict(text='X', font=dict(size=20)),\n",
    "            tickfont=dict(size=15)\n",
    "        ),\n",
    "        yaxis=dict(\n",
    "            tickvals=[-1, -0.5, 0, 0.5, 1],\n",
    "            ticktext=['-1', '-0.5', '0', '0.5', '1'],\n",
    "            title=dict(text='Y ', font=dict(size=20)),\n",
    "            tickfont=dict(size=15)\n",
    "            \n",
    "        ),\n",
    "        zaxis=dict(\n",
    "            tickvals=[-1, -0.5, 0, 0.5, 1],\n",
    "            ticktext=['-1', '-0.5', '0', '0.5', '1'],\n",
    "            title=dict(text='Z ', font=dict(size=20)),\n",
    "            tickfont=dict(size=15)\n",
    "            \n",
    "        )\n",
    "    ),\n",
    "    legend=dict(\n",
    "        title=dict(text='Cluster Labels', font=dict(size=12)),\n",
    "        font=dict(size=10)\n",
    "    # ),\n",
    "    # title=dict(\n",
    "    #     text='ON and OFF Neurons',\n",
    "    #     font=dict(size=15)\n",
    "    ),\n",
    "    margin=dict(l=20, r=20, b=90, t=40),\n",
    "    autosize=True,\n",
    "    width=700,\n",
    "    height=500\n",
    ")\n",
    "\n",
    "# Customize marker size and opacity for better visualization\n",
    "fig.update_traces(marker=dict(size=10, opacity=0.8, color='#8dd3c7' ))\n",
    "\n",
    "\n",
    "\n",
    "\n",
    "fig.show()\n"
   ]
  },
  {
   "cell_type": "markdown",
   "id": "b6080734",
   "metadata": {},
   "source": [
    "# Fitting For Dimension\n",
    "\n",
    "Suppose we did not know a-priori that the data was 5D? This is usually the case"
   ]
  },
  {
   "cell_type": "markdown",
   "id": "ea9e919b",
   "metadata": {},
   "source": [
    "## Fit the model across a range of dimensions"
   ]
  },
  {
   "cell_type": "code",
   "execution_count": 397,
   "id": "0ffeb563",
   "metadata": {},
   "outputs": [
    {
     "name": "stderr",
     "output_type": "stream",
     "text": [
      "17:17:57 - cmdstanpy - INFO - Chain [1] start processing\n"
     ]
    },
    {
     "name": "stderr",
     "output_type": "stream",
     "text": [
      "17:20:28 - cmdstanpy - INFO - Chain [1] done processing\n",
      "17:20:28 - cmdstanpy - WARNING - The default behavior of CmdStanMLE.stan_variable() will change in a future release to always return a numpy.ndarray, even for scalar variables.\n",
      "17:20:28 - cmdstanpy - INFO - Chain [1] start processing\n",
      "17:30:00 - cmdstanpy - INFO - Chain [1] done processing\n",
      "17:30:00 - cmdstanpy - WARNING - The default behavior of CmdStanMLE.stan_variable() will change in a future release to always return a numpy.ndarray, even for scalar variables.\n",
      "17:30:00 - cmdstanpy - INFO - Chain [1] start processing\n",
      "17:30:38 - cmdstanpy - INFO - Chain [1] done processing\n",
      "17:30:38 - cmdstanpy - WARNING - The default behavior of CmdStanMLE.stan_variable() will change in a future release to always return a numpy.ndarray, even for scalar variables.\n",
      "17:30:38 - cmdstanpy - INFO - Chain [1] start processing\n",
      "17:30:57 - cmdstanpy - INFO - Chain [1] done processing\n",
      "17:30:57 - cmdstanpy - WARNING - The default behavior of CmdStanMLE.stan_variable() will change in a future release to always return a numpy.ndarray, even for scalar variables.\n",
      "17:30:57 - cmdstanpy - INFO - Chain [1] start processing\n",
      "17:31:21 - cmdstanpy - INFO - Chain [1] done processing\n",
      "17:31:21 - cmdstanpy - WARNING - The default behavior of CmdStanMLE.stan_variable() will change in a future release to always return a numpy.ndarray, even for scalar variables.\n",
      "17:31:21 - cmdstanpy - INFO - Chain [1] start processing\n",
      "17:31:34 - cmdstanpy - INFO - Chain [1] done processing\n",
      "17:31:34 - cmdstanpy - WARNING - The default behavior of CmdStanMLE.stan_variable() will change in a future release to always return a numpy.ndarray, even for scalar variables.\n",
      "17:31:34 - cmdstanpy - INFO - Chain [1] start processing\n",
      "17:31:55 - cmdstanpy - INFO - Chain [1] done processing\n",
      "17:31:55 - cmdstanpy - WARNING - The default behavior of CmdStanMLE.stan_variable() will change in a future release to always return a numpy.ndarray, even for scalar variables.\n"
     ]
    }
   ],
   "source": [
    "all_fits = []\n",
    "for d in np.arange(2,9):\n",
    "    dat={'N':132, 'D':d, 'deltaij':distance_matrix_squaredp}\n",
    "    #run optimizer\n",
    "    model = ltz_m.optimize(data=dat, iter=250000, algorithm='LBFGS', tol_rel_grad=1e2)\n",
    "    all_fits.append({'euc':model.euc, 'sig':model.sig, 'lambda':model.stan_variable('lambda'), 't':model.time})\n",
    "\n",
    "\n"
   ]
  },
  {
   "cell_type": "code",
   "execution_count": 398,
   "id": "c6ddd178",
   "metadata": {},
   "outputs": [
    {
     "name": "stderr",
     "output_type": "stream",
     "text": [
      "17:32:00 - cmdstanpy - WARNING - The default behavior of CmdStanMLE.stan_variable() will change in a future release to always return a numpy.ndarray, even for scalar variables.\n"
     ]
    },
    {
     "data": {
      "text/plain": [
       "1.65362"
      ]
     },
     "execution_count": 398,
     "metadata": {},
     "output_type": "execute_result"
    }
   ],
   "source": [
    "model.stan_variable('lambda')"
   ]
  },
  {
   "cell_type": "code",
   "execution_count": 399,
   "id": "d7d85d29",
   "metadata": {},
   "outputs": [
    {
     "data": {
      "text/plain": [
       "array([[ 0.80745691,  0.18589559,  0.53487854],\n",
       "       [ 0.98057222,  0.08262071, -0.01695346],\n",
       "       [-0.71220929, -0.4280684 , -0.51421202],\n",
       "       [ 0.18990505,  0.88964923, -0.34389722],\n",
       "       [ 0.58366834,  0.5036622 ,  0.61555579],\n",
       "       [-0.95536046,  0.11126083,  0.14397197],\n",
       "       [ 0.86343689,  0.24088677,  0.40682049],\n",
       "       [ 0.49463738,  0.59172283, -0.59423824],\n",
       "       [-0.39560528, -0.89302531,  0.06065546],\n",
       "       [-0.1824998 , -0.07210677, -0.95398024],\n",
       "       [-0.42945668,  0.45505321,  0.74782103],\n",
       "       [-0.62361183,  0.69239999,  0.13889419],\n",
       "       [-0.35601115, -0.20520538,  0.87340118],\n",
       "       [ 0.92346344, -0.09095217, -0.32433622],\n",
       "       [-0.18727028, -0.30192756, -0.90988435],\n",
       "       [-0.56159821, -0.22148143,  0.74506995],\n",
       "       [ 0.85824804,  0.42273476, -0.15331598],\n",
       "       [-0.63930824,  0.40127008, -0.596287  ],\n",
       "       [ 0.00422159, -0.0431297 , -0.96720752],\n",
       "       [-0.67698114,  0.42432687,  0.54807509],\n",
       "       [ 0.55035326, -0.33648414,  0.73552708],\n",
       "       [ 0.29448223,  0.80652019, -0.45917925],\n",
       "       [-0.76905076, -0.16595824,  0.56934266],\n",
       "       [-0.6894294 , -0.46649035,  0.50882522],\n",
       "       [-0.10449258, -0.12227581, -0.94981145],\n",
       "       [-0.2441201 , -0.19671276, -0.91436897],\n",
       "       [-0.02530762,  0.93068102, -0.26879217],\n",
       "       [-0.43173599, -0.25781314,  0.82640019],\n",
       "       [ 0.09109304,  0.39999841, -0.88097268],\n",
       "       [-0.03420092, -0.18873326, -0.94423927],\n",
       "       [ 0.2009656 ,  0.76329579, -0.57221411],\n",
       "       [ 0.19817481,  0.92829376, -0.22588269],\n",
       "       [-0.46001132,  0.66089093, -0.5549917 ],\n",
       "       [ 0.27969928,  0.76803862, -0.51903014],\n",
       "       [-0.51797498,  0.80679784,  0.00880886],\n",
       "       [ 0.33608008,  0.52164343, -0.7514529 ],\n",
       "       [-0.70674551, -0.42449621, -0.53048412],\n",
       "       [-0.03292701,  0.81134942, -0.51247883],\n",
       "       [-0.95813881, -0.14882858,  0.10059411],\n",
       "       [-0.0220085 , -0.28388602,  0.91730269],\n",
       "       [ 0.25960955,  0.78122774, -0.51494806],\n",
       "       [ 0.55979191, -0.64775555,  0.47548778],\n",
       "       [-0.43951083,  0.24009325, -0.84323547],\n",
       "       [-0.89381819,  0.22284668,  0.29553538],\n",
       "       [-0.10436004,  0.96912416,  0.05577736],\n",
       "       [-0.87804211,  0.23838617, -0.35660741],\n",
       "       [ 0.51829191,  0.5569652 , -0.61019377],\n",
       "       [-0.70532321, -0.19905329,  0.63192561],\n",
       "       [-0.36001274, -0.59447374,  0.67960725],\n",
       "       [ 0.16735634,  0.52599557, -0.80043968],\n",
       "       [-0.83631909,  0.19153242,  0.45576533],\n",
       "       [ 0.84184045, -0.35003546,  0.3517782 ],\n",
       "       [ 0.31147945,  0.78270579, -0.48981211],\n",
       "       [-0.19401447,  0.63157683,  0.71004655],\n",
       "       [-0.8299376 ,  0.07696345,  0.50074129],\n",
       "       [ 0.60358182,  0.43354033, -0.62317767],\n",
       "       [-0.88667294,  0.12881457,  0.37436072],\n",
       "       [ 0.31112313, -0.80263692,  0.44809342],\n",
       "       [-0.73867607, -0.01831423,  0.62767319],\n",
       "       [ 0.75909598, -0.59463061, -0.10963737],\n",
       "       [-0.76091959, -0.07669256,  0.58185965],\n",
       "       [-0.66141208, -0.23896554,  0.65289006],\n",
       "       [ 0.55037219, -0.78021086,  0.1795119 ],\n",
       "       [ 0.77537956, -0.4727036 , -0.35143263],\n",
       "       [-0.74895282,  0.54210587,  0.23866828],\n",
       "       [-0.21438279,  0.87462314,  0.33980687],\n",
       "       [ 0.48027956, -0.8452963 ,  0.09155895],\n",
       "       [-0.85349241,  0.32554827,  0.31584221],\n",
       "       [-0.58716978, -0.30307383,  0.69581235],\n",
       "       [-0.7232105 ,  0.57572527, -0.30229616],\n",
       "       [-0.48296486, -0.79956911, -0.31070099],\n",
       "       [ 0.63161746, -0.66759193,  0.33091736],\n",
       "       [-0.85049003, -0.00365787,  0.46330192],\n",
       "       [-0.7968384 , -0.19088234,  0.51249777],\n",
       "       [-0.54718615,  0.72087943, -0.34776443],\n",
       "       [-0.80733896, -0.03592283,  0.5263067 ],\n",
       "       [-0.68309486, -0.17637086,  0.65900879],\n",
       "       [-0.90449684,  0.05544172,  0.34487359],\n",
       "       [ 0.29067474,  0.82143183,  0.45402642],\n",
       "       [-0.12844186, -0.59475433,  0.75921031],\n",
       "       [ 0.60885162, -0.74844945,  0.12376942],\n",
       "       [ 0.91341334, -0.28089549,  0.191803  ],\n",
       "       [-0.79149158, -0.07696214,  0.54619744],\n",
       "       [-0.52221888, -0.35431054,  0.72777104],\n",
       "       [ 0.17880555, -0.68539166,  0.66299088],\n",
       "       [-0.26137659, -0.51663221,  0.77219875],\n",
       "       [-0.61510766, -0.16642776,  0.73350758],\n",
       "       [-0.87663189, -0.13971781,  0.38542963],\n",
       "       [-0.83322229,  0.38675069,  0.32207771],\n",
       "       [-0.70122088, -0.13539211,  0.64510668],\n",
       "       [-0.74660623,  0.59978335, -0.09936156],\n",
       "       [ 0.5662363 , -0.76209682,  0.2129511 ],\n",
       "       [-0.88538774, -0.36750809,  0.17078067],\n",
       "       [-0.56434382,  0.15052477,  0.78301618],\n",
       "       [-0.78748585, -0.005646  ,  0.54541501],\n",
       "       [-0.61792976, -0.25018593,  0.69952469],\n",
       "       [-0.62839891, -0.22098998,  0.7039876 ],\n",
       "       [-0.68412622, -0.61052726,  0.32403281],\n",
       "       [-0.41561555, -0.78036841,  0.41143499],\n",
       "       [ 0.07852746, -0.60031785,  0.75893922],\n",
       "       [-0.36514919, -0.43652249,  0.78658425],\n",
       "       [ 0.13338012,  0.9567187 ,  0.12761395],\n",
       "       [-0.59339915, -0.2643187 ,  0.7119281 ],\n",
       "       [-0.11264725, -0.95134792, -0.18760574],\n",
       "       [ 0.22358012,  0.31524425,  0.90399872],\n",
       "       [-0.68683386, -0.69270862,  0.05243382],\n",
       "       [ 0.26154461,  0.33963202,  0.8807058 ],\n",
       "       [ 0.03131093,  0.32085834,  0.92380846],\n",
       "       [-0.37173202,  0.01510144,  0.90164446],\n",
       "       [ 0.25338845,  0.27367982,  0.90736052],\n",
       "       [-0.11389206, -0.79360609,  0.55576453],\n",
       "       [ 0.32309516, -0.73257135, -0.56619124],\n",
       "       [ 0.56390766, -0.22034758, -0.77088932],\n",
       "       [-0.11082982, -0.64191361, -0.7279074 ],\n",
       "       [ 0.20232353, -0.77512628, -0.56785978],\n",
       "       [-0.16225607, -0.6543016 , -0.70510522],\n",
       "       [ 0.51072813, -0.78463834, -0.29291347],\n",
       "       [-0.90447513,  0.30550807,  0.16107914],\n",
       "       [ 0.28855867,  0.67717853, -0.63082234],\n",
       "       [ 0.36412655,  0.65877381, -0.61589769],\n",
       "       [ 0.32758774,  0.68724133, -0.61047461],\n",
       "       [ 0.24547666,  0.66586815, -0.66504346],\n",
       "       [ 0.22791535,  0.63624378, -0.69814924],\n",
       "       [ 0.3540629 ,  0.6442115 , -0.64067928],\n",
       "       [ 0.29884567,  0.70759252, -0.59602675],\n",
       "       [ 0.29213646,  0.71751221, -0.58856303],\n",
       "       [ 0.22097739,  0.72220585, -0.61271983],\n",
       "       [ 0.24838054,  0.74779772, -0.57219383],\n",
       "       [ 0.27398131,  0.7048727 , -0.61144725],\n",
       "       [ 0.52171192,  0.83011652,  0.02602843],\n",
       "       [ 0.5802624 ,  0.78582281, -0.08403204],\n",
       "       [-0.62280748, -0.11219145, -0.75548266]])"
      ]
     },
     "execution_count": 399,
     "metadata": {},
     "output_type": "execute_result"
    }
   ],
   "source": [
    "hyp_emb['pcoords']"
   ]
  },
  {
   "cell_type": "code",
   "execution_count": 400,
   "id": "64f93260",
   "metadata": {},
   "outputs": [
    {
     "data": {
      "text/plain": [
       "1.65362"
      ]
     },
     "execution_count": 400,
     "metadata": {},
     "output_type": "execute_result"
    }
   ],
   "source": [
    "#lambda extracted for specific dimension\n",
    "all_fits[6]['lambda']"
   ]
  },
  {
   "cell_type": "code",
   "execution_count": 401,
   "id": "09e53bbb",
   "metadata": {},
   "outputs": [
    {
     "data": {
      "text/plain": [
       "array([3.98459, 3.85218, 3.37125, 3.09766, 4.01615, 3.2901 , 3.68352,\n",
       "       3.19067, 3.64163, 3.2282 , 3.32067, 2.61893, 2.90014, 3.86832,\n",
       "       3.44994, 2.6307 , 3.02058, 2.83997, 2.93101, 3.24248, 3.42824,\n",
       "       3.13722, 2.85551, 3.01755, 2.89193, 3.05487, 3.15904, 2.86851,\n",
       "       2.97245, 2.92233, 3.01431, 3.25289, 3.38726, 2.88694, 2.99959,\n",
       "       3.04095, 3.54162, 2.85094, 3.14265, 2.80941, 2.99393, 3.45405,\n",
       "       3.29463, 2.96143, 3.38488, 3.44699, 3.21867, 2.72575, 3.02199,\n",
       "       2.98106, 2.87075, 3.48012, 3.16037, 3.05786, 2.94639, 3.0135 ,\n",
       "       2.98132, 3.10585, 2.919  , 3.02849, 2.61052, 2.58071, 3.02333,\n",
       "       3.12893, 2.7648 , 2.99589, 3.38102, 2.93353, 2.63345, 3.2588 ,\n",
       "       3.93806, 3.30914, 2.77985, 2.65291, 3.16408, 2.64679, 2.67974,\n",
       "       2.91949, 3.6542 , 3.08655, 3.17284, 3.50318, 2.7097 , 2.758  ,\n",
       "       3.07555, 2.92278, 2.90334, 2.95073, 3.11758, 2.63732, 2.98957,\n",
       "       3.07402, 3.09081, 3.07762, 2.59724, 2.74323, 2.77936, 3.3306 ,\n",
       "       3.23193, 3.16103, 3.02972, 3.2205 , 2.68325, 3.39343, 3.60394,\n",
       "       3.19733, 3.36717, 3.35965, 3.03221, 3.44018, 3.37868, 3.66218,\n",
       "       3.79805, 3.51215, 3.83422, 3.49282, 3.62759, 3.136  , 2.79023,\n",
       "       2.92428, 3.03997, 2.86462, 2.78925, 3.06623, 2.9457 , 2.97383,\n",
       "       2.87498, 3.0056 , 2.89593, 3.72111, 3.54321, 3.863  ])"
      ]
     },
     "execution_count": 401,
     "metadata": {},
     "output_type": "execute_result"
    }
   ],
   "source": [
    "#access the correct iteration \n",
    "iteration = all_fits[6]['t']\n",
    "\n",
    "\n",
    "iteration"
   ]
  },
  {
   "cell_type": "code",
   "execution_count": 402,
   "id": "c69f3521",
   "metadata": {},
   "outputs": [
    {
     "data": {
      "text/plain": [
       "(132,)"
      ]
     },
     "execution_count": 402,
     "metadata": {},
     "output_type": "execute_result"
    }
   ],
   "source": [
    "model.time.shape"
   ]
  },
  {
   "cell_type": "code",
   "execution_count": 403,
   "id": "cadc132e",
   "metadata": {},
   "outputs": [],
   "source": [
    "#calculate radii based on time parameter\n",
    "radii = np.arccosh(iteration)"
   ]
  },
  {
   "cell_type": "code",
   "execution_count": 404,
   "id": "963b2e19",
   "metadata": {},
   "outputs": [
    {
     "data": {
      "text/plain": [
       "array([2.05945003, 2.02449682, 1.8856706 , 1.79665876, 2.06759803,\n",
       "       1.86012612, 1.97805957, 1.82786369, 1.96617038, 1.84017013,\n",
       "       1.86982947, 1.61729192, 1.72676229, 2.02882567, 1.9098048 ,\n",
       "       1.62214182, 1.76999538, 1.70439486, 1.73803413, 1.84481115,\n",
       "       1.90321001, 1.81005691, 1.71022299, 1.76893171, 1.72374159,\n",
       "       1.78194991, 1.81736662, 1.71507082, 1.75295609, 1.73487837,\n",
       "       1.767793  , 1.8481802 , 1.89063049, 1.72190085, 1.76260221,\n",
       "       1.77711521, 1.93717636, 1.70851282, 1.81188124, 1.69282664,\n",
       "       1.76059866, 1.91104875, 1.86157026, 1.74901099, 1.88989479,\n",
       "       1.90891094, 1.83706022, 1.66040435, 1.77048994, 1.75602697,\n",
       "       1.71590361, 1.91890182, 1.81781036, 1.78298517, 1.74359991,\n",
       "       1.76750811, 1.75611955, 1.79944815, 1.73366487, 1.7727665 ,\n",
       "       1.61381087, 1.6013652 , 1.77095971, 1.80726491, 1.67567852,\n",
       "       1.76129295, 1.8887004 , 1.73894834, 1.62327131, 1.85008759,\n",
       "       2.04731063, 1.86618128, 1.68149904, 1.6312249 , 1.81904705,\n",
       "       1.62873092, 1.64207992, 1.73384354, 1.96975345, 1.79286168,\n",
       "       1.82196072, 1.92579492, 1.65405307, 1.67303669, 1.78908713,\n",
       "       1.73504224, 1.72793704, 1.74516455, 1.80342894, 1.62485849,\n",
       "       1.75905238, 1.78856092, 1.79431943, 1.78979858, 1.6082872 ,\n",
       "       1.66727254, 1.68131011, 1.87296026, 1.84138457, 1.81803048,\n",
       "       1.77319668, 1.83765819, 1.64349066, 1.89253509, 1.95534613,\n",
       "       1.83005924, 1.88440249, 1.88206077, 1.77406693, 1.90684429,\n",
       "       1.88797561, 1.97202123, 2.00983544, 1.9284629 , 2.0196569 ,\n",
       "       1.92270424, 1.96215245, 1.80964654, 1.68549241, 1.73558825,\n",
       "       1.7767739 , 1.71362283, 1.68511611, 1.78587721, 1.74335092,\n",
       "       1.75344896, 1.71747422, 1.764725  , 1.72521452, 1.98860473,\n",
       "       1.93764424, 2.02740095])"
      ]
     },
     "execution_count": 404,
     "metadata": {},
     "output_type": "execute_result"
    }
   ],
   "source": [
    "radii"
   ]
  },
  {
   "cell_type": "code",
   "execution_count": 405,
   "id": "4f7d2bbd",
   "metadata": {},
   "outputs": [],
   "source": [
    "w_0_labeled_radii = pd.DataFrame(radii)"
   ]
  },
  {
   "cell_type": "code",
   "execution_count": 406,
   "id": "21df7d61",
   "metadata": {},
   "outputs": [],
   "source": [
    "labels = w0_sorted_new['cell_type']"
   ]
  },
  {
   "cell_type": "code",
   "execution_count": 407,
   "id": "ba85b5ce",
   "metadata": {},
   "outputs": [],
   "source": [
    "labels = pd.DataFrame(labels)\n",
    "labels = labels.reset_index(drop=True)"
   ]
  },
  {
   "cell_type": "code",
   "execution_count": 408,
   "id": "5c680705",
   "metadata": {},
   "outputs": [],
   "source": [
    "w_0_labeled_radii['cell_type'] = labels.iloc[:, 0]"
   ]
  },
  {
   "cell_type": "code",
   "execution_count": 409,
   "id": "48e51b17",
   "metadata": {},
   "outputs": [
    {
     "data": {
      "text/html": [
       "<div>\n",
       "<style scoped>\n",
       "    .dataframe tbody tr th:only-of-type {\n",
       "        vertical-align: middle;\n",
       "    }\n",
       "\n",
       "    .dataframe tbody tr th {\n",
       "        vertical-align: top;\n",
       "    }\n",
       "\n",
       "    .dataframe thead th {\n",
       "        text-align: right;\n",
       "    }\n",
       "</style>\n",
       "<table border=\"1\" class=\"dataframe\">\n",
       "  <thead>\n",
       "    <tr style=\"text-align: right;\">\n",
       "      <th></th>\n",
       "      <th>0</th>\n",
       "      <th>cell_type</th>\n",
       "    </tr>\n",
       "  </thead>\n",
       "  <tbody>\n",
       "    <tr>\n",
       "      <th>0</th>\n",
       "      <td>2.059450</td>\n",
       "      <td>NaN</td>\n",
       "    </tr>\n",
       "    <tr>\n",
       "      <th>1</th>\n",
       "      <td>2.024497</td>\n",
       "      <td>NaN</td>\n",
       "    </tr>\n",
       "    <tr>\n",
       "      <th>2</th>\n",
       "      <td>1.885671</td>\n",
       "      <td>NaN</td>\n",
       "    </tr>\n",
       "    <tr>\n",
       "      <th>3</th>\n",
       "      <td>1.796659</td>\n",
       "      <td>NaN</td>\n",
       "    </tr>\n",
       "    <tr>\n",
       "      <th>4</th>\n",
       "      <td>2.067598</td>\n",
       "      <td>NaN</td>\n",
       "    </tr>\n",
       "    <tr>\n",
       "      <th>...</th>\n",
       "      <td>...</td>\n",
       "      <td>...</td>\n",
       "    </tr>\n",
       "    <tr>\n",
       "      <th>127</th>\n",
       "      <td>1.764725</td>\n",
       "      <td>RME</td>\n",
       "    </tr>\n",
       "    <tr>\n",
       "      <th>128</th>\n",
       "      <td>1.725215</td>\n",
       "      <td>RME</td>\n",
       "    </tr>\n",
       "    <tr>\n",
       "      <th>129</th>\n",
       "      <td>1.988605</td>\n",
       "      <td>SMDV</td>\n",
       "    </tr>\n",
       "    <tr>\n",
       "      <th>130</th>\n",
       "      <td>1.937644</td>\n",
       "      <td>SMDV</td>\n",
       "    </tr>\n",
       "    <tr>\n",
       "      <th>131</th>\n",
       "      <td>2.027401</td>\n",
       "      <td>SMDD</td>\n",
       "    </tr>\n",
       "  </tbody>\n",
       "</table>\n",
       "<p>132 rows × 2 columns</p>\n",
       "</div>"
      ],
      "text/plain": [
       "            0 cell_type\n",
       "0    2.059450       NaN\n",
       "1    2.024497       NaN\n",
       "2    1.885671       NaN\n",
       "3    1.796659       NaN\n",
       "4    2.067598       NaN\n",
       "..        ...       ...\n",
       "127  1.764725       RME\n",
       "128  1.725215       RME\n",
       "129  1.988605      SMDV\n",
       "130  1.937644      SMDV\n",
       "131  2.027401      SMDD\n",
       "\n",
       "[132 rows x 2 columns]"
      ]
     },
     "execution_count": 409,
     "metadata": {},
     "output_type": "execute_result"
    }
   ],
   "source": [
    "w_0_labeled_radii"
   ]
  },
  {
   "cell_type": "code",
   "execution_count": 316,
   "id": "a8fd2a5f",
   "metadata": {},
   "outputs": [
    {
     "name": "stdout",
     "output_type": "stream",
     "text": [
      "Stored 'w_6_labeled_radii' (DataFrame)\n"
     ]
    }
   ],
   "source": [
    "%store w_6_labeled_radii"
   ]
  },
  {
   "cell_type": "code",
   "execution_count": null,
   "id": "6d7d5f94",
   "metadata": {},
   "outputs": [],
   "source": [
    "w_1_radii = radii\n",
    "%store w_1_radii"
   ]
  },
  {
   "cell_type": "code",
   "execution_count": null,
   "id": "f44e7938",
   "metadata": {},
   "outputs": [],
   "source": [
    "#Histogram of radii\n",
    "fig, ax = plt.subplots(figsize=(7.5, 7.5))\n",
    "\n",
    "ax.scatter(np.arange(2,15), all_BIC, c = '#8dd3c7', edgecolor = 'black', s = 200) #cornflowerblue, lightcoral\n",
    "ax.set_xlabel('Dimension', fontsize=35)\n",
    "ax.tick_params(axis='both', which='major', labelsize=25)\n",
    "ax.set_xticks(np.arange(2, 15, 2))\n",
    "ax.set_ylabel('BIC', fontsize=35)\n",
    "\n",
    "plt.savefig('/Users/iuliarusu/Documents/Sharpee/final_images/figure2/singlew_BIC_w1.svg', format='svg', bbox_inches='tight')"
   ]
  },
  {
   "cell_type": "code",
   "execution_count": null,
   "id": "75c766bc",
   "metadata": {},
   "outputs": [],
   "source": [
    "#DIP analysis of radii\n",
    "dip, pval = diptest.diptest(radii)"
   ]
  },
  {
   "cell_type": "code",
   "execution_count": null,
   "id": "2ac64e08",
   "metadata": {},
   "outputs": [],
   "source": [
    "dip, pval"
   ]
  },
  {
   "cell_type": "code",
   "execution_count": null,
   "id": "31b674d5",
   "metadata": {},
   "outputs": [],
   "source": [
    "all_fits[0]['sig']"
   ]
  },
  {
   "cell_type": "code",
   "execution_count": null,
   "id": "2793645c",
   "metadata": {},
   "outputs": [],
   "source": [
    "#return negative log likelihood of fit\n",
    "def MDS_lkl(fit, dmat):\n",
    "    lkl = 0;\n",
    "    N = fit['sig'].shape[0]\n",
    "    \n",
    "    sigs = fit['sig']\n",
    "    lam = fit['lambda']\n",
    "    emb_mat = get_embed_dmat(fit)\n",
    "    \n",
    "    for i in np.arange(N):\n",
    "        for j in np.arange(i+1, N):\n",
    "            seff = sigs[i]**2 + sigs[j]**2\n",
    "            lkl += ((dmat[i][j] - emb_mat[i][j]/lam)**2 / (2.0*seff)) + 0.5*np.log(seff*2.0*np.pi)\n",
    "    return lkl\n",
    "\n",
    "#input: optimization fit and distance matrix\n",
    "def BIC(fit, dmat):\n",
    "    N,D = fit['euc'].shape\n",
    "    n = 0.5*N*(N-1)\n",
    "    k = N*D + N + 1.0 - 0.5*D*(D-1)\n",
    "    \n",
    "    return k*np.log(n) + 2.0*MDS_lkl(fit, dmat)"
   ]
  },
  {
   "cell_type": "markdown",
   "id": "e7ccab40",
   "metadata": {},
   "source": [
    "## Bayesian information criteria\n",
    "\n",
    "There is a lot of formal Bayesian Theory behind this (see chapter 2 here https://urldefense.proofpoint.com/v2/url?u=https-3A__www.inference.org.uk_mackay_thesis.pdf&d=DwIGAg&c=-35OiAkTchMrZOngvJPOeA&r=B8GeUuyHfxQP8MseZuhipQ&m=KVww4gh9-XOtp1LqNUc0K-PGXOX3bm2QsokPFlBG9Vs&s=UBtNEdIXatq_zFpG53nmPCLbCnlgIgWigHYhEnBRYyo&e= ), but essentially we are trying to find the minimal number of parameters to describe a dataset. If the data is 5D, we don't want to use 7 parameters to describe it. The BIC is like a cost function that rewards a model that has a better fit to the likelihood function, but penalizes models that increase the number of their parameters. The model which minimizes this function will thus have the ideal trade-off of being able to model the data well without introducing too many parameters and overfitting the data."
   ]
  },
  {
   "cell_type": "code",
   "execution_count": null,
   "id": "f3688551",
   "metadata": {},
   "outputs": [],
   "source": [
    "all_BIC = [BIC(fit, distance_matrix_squaredp) for fit in all_fits]"
   ]
  },
  {
   "cell_type": "code",
   "execution_count": null,
   "id": "b1160cc0",
   "metadata": {},
   "outputs": [],
   "source": [
    "all_BIC"
   ]
  },
  {
   "cell_type": "markdown",
   "id": "daae8d10",
   "metadata": {},
   "source": [
    "As you can see the BIC is minimized at the true dimension of 5. Any more parameters would have been redundant, any less would not have properly fit the data"
   ]
  },
  {
   "cell_type": "code",
   "execution_count": null,
   "id": "c3160255",
   "metadata": {},
   "outputs": [],
   "source": [
    "fig, ax = plt.subplots(figsize=(7.5,7.5))\n",
    "\n",
    "ax.scatter(np.arange(2,15), all_BIC, c = '#8dd3c7', edgecolor = 'black', s = 200) #cornflowerblue, lightcoral\n",
    "ax.set_xlabel('Dimension', fontsize=20)\n",
    "ax.tick_params(axis='both', which='major', labelsize=15)\n",
    "ax.set_ylabel('BIC', fontsize=20)"
   ]
  },
  {
   "cell_type": "markdown",
   "id": "ce171280",
   "metadata": {},
   "source": [
    "# Re-Running the optimizer\n",
    "Lets start by generating some 2D data"
   ]
  },
  {
   "cell_type": "markdown",
   "id": "66b6d256",
   "metadata": {},
   "source": [
    "What is the purpose of re-running?"
   ]
  },
  {
   "cell_type": "code",
   "execution_count": null,
   "id": "6159dca9",
   "metadata": {},
   "outputs": [],
   "source": [
    "#generate 100 data points uniformly distributed in 5 dimensional hyperbolic space of radius R=4\n",
    "dim=2; R=4.0;\n",
    "n=100\n",
    "dirs = stats.norm.rvs(size=(n, dim))\n",
    "dirs = (dirs.T/np.sqrt(np.sum(np.square(dirs), axis=1))).T\n",
    "U = stats.uniform.rvs(size=n)\n",
    "rs_p = np.tanh(np.log((1-np.exp(-R))/np.exp(-R)*(U) + 1.0)/2.0)\n",
    "p_coords = rs_p.reshape(-1,1)*dirs\n",
    "\n",
    "#add noise to the computed distance matrix to simulate a more realistic dataset\n",
    "mat_2D = get_dmat(p_coords) + 0.05*R*stats.norm.rvs(size=(n,n))\n",
    "for i in np.arange(n):\n",
    "    for j in np.arange(i+1, n):\n",
    "        mat_2D[j][i] = mat_2D[i][j]\n",
    "mat_2D = 2.0*mat_2D/np.max(mat_2D)"
   ]
  },
  {
   "cell_type": "code",
   "execution_count": null,
   "id": "9f65f1d2",
   "metadata": {},
   "outputs": [],
   "source": [
    "#dictionary to specify input to simulation\n",
    "dat={'N':76, 'D':6, 'deltaij':distance_matrix_squaredp}\n",
    "#run optimizer\n",
    "model2D = ltz_m.optimize(data=dat, iter=250000, algorithm='LBFGS', tol_rel_grad=1e2)\n",
    "hyp_emb2D = {'euc':model2D.euc, 'sig':model2D.sig, 'lambda':model2D.stan_variable('lambda')}"
   ]
  },
  {
   "cell_type": "code",
   "execution_count": null,
   "id": "546b43c3",
   "metadata": {},
   "outputs": [],
   "source": [
    "process_sim(hyp_emb2D)"
   ]
  },
  {
   "cell_type": "markdown",
   "id": "77ed16b6",
   "metadata": {},
   "source": [
    "#### Most pts are well fit, but a few are poorly fit (the ones with high sigma) which adds a lot of scatter to the shepard diagram\n",
    "#### The optimizer got caught in a false minimum"
   ]
  },
  {
   "cell_type": "code",
   "execution_count": null,
   "id": "4bddb3f4",
   "metadata": {},
   "outputs": [],
   "source": [
    "#can't find 'emb_mat' parameter \n",
    "hyp_emb2D.keys()"
   ]
  },
  {
   "cell_type": "code",
   "execution_count": null,
   "id": "bb8c2124",
   "metadata": {},
   "outputs": [],
   "source": [
    "fig, ax = plt.subplots(1, 2, figsize=(15,7.5))\n",
    "\n",
    "ax[0].scatter(distance_matrix_squaredp[np.triu_indices(76, k=1)], hyp_emb2D['sig'][np.triu_indices(76, k=1)])\n",
    "ax[0].plot(np.arange(3), np.arange(3), c='black', linewidth=5, alpha=0.5)\n",
    "\n",
    "ax[0].set_xlabel('Original Distances', fontsize=20)\n",
    "ax[0].set_ylabel('Embedding Distances / $\\lambda$', fontsize=20)\n",
    "\n",
    "ax[1].hist(hyp_emb2D['sig'])\n",
    "ax[1].set_xlabel('Embedding Uncertainties', fontsize=20)"
   ]
  },
  {
   "cell_type": "markdown",
   "id": "23edc498",
   "metadata": {},
   "source": [
    "### Strategy: randomize the positions of the poorly fit points, and then return the coordinates as the initial conditions to continue optimizing. This bumps the simulation out of the false minimium without destroying all of the work its already done"
   ]
  },
  {
   "cell_type": "code",
   "execution_count": null,
   "id": "e47006a6",
   "metadata": {},
   "outputs": [],
   "source": [
    "#figure out which pts have high uncertainty, and randomize their coordinates without touching the rest of the points\n",
    "N_refit = np.where(hyp_emb2D['sig'] > 0.3)[0].shape[0]\n",
    "hyp_emb2D['euc'][np.where(hyp_emb2D['sig'] > 0.3)] = stats.norm.rvs(size=(N_refit,2))"
   ]
  },
  {
   "cell_type": "code",
   "execution_count": null,
   "id": "44aa4765",
   "metadata": {},
   "outputs": [],
   "source": [
    "#re-reun the optimizer, but this time sepcify the initial condition by passing the previous simulation dictionary\n",
    "dat={'N':100, 'D':2, 'deltaij':mat_2D}\n",
    "model2D = ltz_m.optimize(data=dat, iter=250000, algorithm='LBFGS', tol_rel_grad=1e2,inits = hyp_emb2D)\n",
    "hyp_emb2D = {'euc':model2D.euc, 'sig':model2D.sig, 'lambda':model2D.stan_variable('lambda')}\n",
    "# tst_2D = ltz_m.optimizing(data=dat, iter=250000, tol_rel_grad=1e2, init=tst_2D)"
   ]
  },
  {
   "cell_type": "code",
   "execution_count": null,
   "id": "4dc911c9",
   "metadata": {},
   "outputs": [],
   "source": [
    "process_sim(hyp_emb2D)"
   ]
  },
  {
   "cell_type": "markdown",
   "id": "b28b534e",
   "metadata": {},
   "source": [
    "### We see that the fit is significantly better, although there are still a few poorly fit points. We could keep iterating the above process until all points are well fit."
   ]
  },
  {
   "cell_type": "code",
   "execution_count": null,
   "id": "9f3fa17a",
   "metadata": {},
   "outputs": [],
   "source": [
    "fig, ax = plt.subplots(1, 2, figsize=(15,7.5))\n",
    "\n",
    "ax[0].scatter(mat_2D[np.triu_indices(100, k=1)], hyp_emb2D['emb_mat'][np.triu_indices(100, k=1)])\n",
    "ax[0].plot(np.arange(3), np.arange(3), c='black', linewidth=5, alpha=0.5)\n",
    "\n",
    "ax[0].set_xlabel('Original Distances', fontsize=20)\n",
    "ax[0].set_ylabel('Embedding Distances / $\\lambda$', fontsize=20)\n",
    "\n",
    "ax[1].hist(hyp_emb2D['sig'])\n",
    "ax[1].set_xlabel('Embedding Uncertainties', fontsize=20)"
   ]
  }
 ],
 "metadata": {
  "kernelspec": {
   "display_name": "HMDS",
   "language": "python",
   "name": "python3"
  },
  "language_info": {
   "codemirror_mode": {
    "name": "ipython",
    "version": 3
   },
   "file_extension": ".py",
   "mimetype": "text/x-python",
   "name": "python",
   "nbconvert_exporter": "python",
   "pygments_lexer": "ipython3",
   "version": "3.10.14"
  }
 },
 "nbformat": 4,
 "nbformat_minor": 5
}
