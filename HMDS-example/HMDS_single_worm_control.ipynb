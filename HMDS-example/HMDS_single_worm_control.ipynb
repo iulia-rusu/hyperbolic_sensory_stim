{
 "cells": [
  {
   "cell_type": "code",
   "execution_count": 222,
   "id": "dbb521f1",
   "metadata": {},
   "outputs": [],
   "source": [
    "'''\n",
    "Method developed by Anoop Praturu: https://www.biorxiv.org/content/10.1101/2022.10.12.511940v1\n",
    "Code from Anoop Praturu on Oct 2021\n",
    "Move from pystan to cmdstanpy based on suggestions by Milo Julis\n",
    "Edited by Mingchen Yao on May 26 2023\n",
    "'''\n",
    "\n",
    "import numpy as np\n",
    "import diptest  \n",
    "import matplotlib.pyplot as plt\n",
    "import cmdstanpy as stan\n",
    "import scipy.stats as stats\n",
    "import pickle\n",
    "import seaborn as sns\n",
    "%matplotlib inline\n",
    "\n",
    "import pandas as pd\n",
    "\n",
    "import plotly.express as px\n",
    "from matplotlib import rcParams\n",
    "import plotly.express as px\n",
    "from sklearn.preprocessing import MinMaxScaler"
   ]
  },
  {
   "cell_type": "code",
   "execution_count": 44,
   "id": "427f9e50",
   "metadata": {},
   "outputs": [
    {
     "name": "stdout",
     "output_type": "stream",
     "text": [
      "/Users/iuliarusu/miniconda3/envs/HMDS/bin/python\n"
     ]
    }
   ],
   "source": [
    "import sys\n",
    "print(sys.executable)"
   ]
  },
  {
   "cell_type": "code",
   "execution_count": null,
   "id": "73e1d8b7",
   "metadata": {},
   "outputs": [],
   "source": [
    "# # if there is anything wrong with comstan: re-install it. Otherwise don't run this cell\n",
    "# from cmdstanpy import install_cmdstan\n",
    "# install_cmdstan(overwrite = True)"
   ]
  },
  {
   "cell_type": "code",
   "execution_count": null,
   "id": "e6c280a4",
   "metadata": {},
   "outputs": [],
   "source": [
    "!python --version"
   ]
  },
  {
   "cell_type": "markdown",
   "id": "93f95b0f",
   "metadata": {},
   "source": [
    "# Functions for Generating Synthetic Data"
   ]
  },
  {
   "cell_type": "code",
   "execution_count": 2,
   "id": "f16c0781",
   "metadata": {},
   "outputs": [],
   "source": [
    "#returns hyperbolic distance between vectors in poincare ball\n",
    "def poincare_dist(v1, v2):\n",
    "    sq = np.sum(np.square(v1-v2))\n",
    "    r1 = np.sum(np.square(v1))\n",
    "    r2 = np.sum(np.square(v2))\n",
    "    inv = 2.0*sq/((1.0-r1)*(1.0-r2))\n",
    "    return np.arccosh(1.0 + inv)\n",
    "\n",
    "#return NxN symmetric distance matrix from poincare coordinates\n",
    "def get_dmat(p_coords):\n",
    "    N = p_coords.shape[0]\n",
    "    dists = np.zeros((N, N))\n",
    "    \n",
    "    for i in np.arange(N):\n",
    "        for j in np.arange(i+1, N):\n",
    "            dists[i][j] = poincare_dist(p_coords[i], p_coords[j])\n",
    "            dists[j][i] = dists[i][j]\n",
    "    return dists"
   ]
  },
  {
   "cell_type": "code",
   "execution_count": null,
   "id": "f942b036",
   "metadata": {},
   "outputs": [],
   "source": [
    "#generate 100 data points uniformly distributed in 5 dimensional hyperbolic space of radius R=4\n",
    "dim=5; R=4.0;\n",
    "n=100\n",
    "dirs = stats.norm.rvs(size=(n, dim))\n",
    "dirs = (dirs.T/np.sqrt(np.sum(np.square(dirs), axis=1))).T\n",
    "U = stats.uniform.rvs(size=n)\n",
    "rs_p = np.tanh(np.log((1-np.exp(-R))/np.exp(-R)*(U) + 1.0)/2.0)\n",
    "p_coords = rs_p.reshape(-1,1)*dirs\n",
    "\n",
    "#add noise to the computed distance matrix to simulate a more realistic dataset\n",
    "mat_dim = get_dmat(p_coords) + 0.05*R*stats.norm.rvs(size=(n,n))\n",
    "for i in np.arange(n):\n",
    "    for j in np.arange(i+1, n):\n",
    "        mat_dim[j][i] = mat_dim[i][j]\n",
    "mat_dim = 2.0*mat_dim/np.max(mat_dim)"
   ]
  },
  {
   "cell_type": "markdown",
   "id": "abf7bb38",
   "metadata": {},
   "source": [
    "# Code for fitting Bayesian Model"
   ]
  },
  {
   "cell_type": "code",
   "execution_count": 3,
   "id": "0a7b4752",
   "metadata": {},
   "outputs": [],
   "source": [
    "path = '/Users/iuliarusu/Documents/Sharpee/HMDS-example/model/'\n",
    "ltz_m = stan.CmdStanModel(stan_file=path+'lorentz.stan')"
   ]
  },
  {
   "cell_type": "markdown",
   "id": "8f61d6d2",
   "metadata": {},
   "source": [
    "# Filtered Unclustered (Stim)\n"
   ]
  },
  {
   "cell_type": "code",
   "execution_count": null,
   "id": "1333b8d7",
   "metadata": {},
   "outputs": [],
   "source": []
  },
  {
   "cell_type": "code",
   "execution_count": 254,
   "id": "47ef3ff1",
   "metadata": {},
   "outputs": [],
   "source": [
    "np.random.seed(42)\n",
    "\n",
    "# Load the filtered unclustered data\n",
    "file_path = '/Users/iuliarusu/Documents/Sharpee/filtered_unclustred.csv'\n",
    "filtered_unclustred = pd.read_csv(file_path)\n",
    "\n",
    "# Split data by worm_id and select a random subset of 50 cells\n",
    "unclustered_dfs = []\n",
    "for i in range(7):\n",
    "    df = filtered_unclustred[filtered_unclustred['worm_id'] == i].iloc[:, :-1]\n",
    "    \n",
    "    # # Select a random sample of 50 rows (cells)\n",
    "    # if len(df) >= 50:\n",
    "    #     df = df.sample(n=50, random_state=42)\n",
    "    \n",
    "    unclustered_dfs.append(df)"
   ]
  },
  {
   "cell_type": "code",
   "execution_count": 256,
   "id": "a6e4eccd",
   "metadata": {},
   "outputs": [
    {
     "data": {
      "text/plain": [
       "(110, 1600)"
      ]
     },
     "execution_count": 256,
     "metadata": {},
     "output_type": "execute_result"
    }
   ],
   "source": [
    "unclustered_dfs[5].shape"
   ]
  },
  {
   "cell_type": "markdown",
   "id": "e260d5ea",
   "metadata": {},
   "source": [
    "# Buffer"
   ]
  },
  {
   "cell_type": "code",
   "execution_count": 223,
   "id": "37757fb9",
   "metadata": {},
   "outputs": [],
   "source": [
    "scaler = MinMaxScaler()"
   ]
  },
  {
   "cell_type": "code",
   "execution_count": 224,
   "id": "756dc703",
   "metadata": {},
   "outputs": [],
   "source": [
    "Benzaldehyde_3_Worm1_Buffer = pd.read_csv('/Users/iuliarusu/Documents/Sharpee/Buffer_control_data/Benzaldehyde_10e-3_Worm1_Buffer.csv')\n",
    "Benzaldehyde_3_Worm1_Buffer = Benzaldehyde_3_Worm1_Buffer.T\n",
    "# Scale each row individually\n",
    "Benzaldehyde_3_Worm1_Buffer_scaled = Benzaldehyde_3_Worm1_Buffer.apply(lambda row: scaler.fit_transform(row.values.reshape(-1, 1)).flatten(), axis=1)\n",
    "\n",
    "# Convert back to a DataFrame\n",
    "Benzaldehyde_3_Worm1_Buffer_scaled = pd.DataFrame(Benzaldehyde_3_Worm1_Buffer_scaled.tolist(), index=Benzaldehyde_3_Worm1_Buffer.index, columns=Benzaldehyde_3_Worm1_Buffer.columns)"
   ]
  },
  {
   "cell_type": "code",
   "execution_count": 225,
   "id": "12de007c",
   "metadata": {},
   "outputs": [],
   "source": [
    "corr_matrix = Benzaldehyde_3_Worm1_Buffer_scaled.T.corr()\n",
    "distance_matrix = 1 - corr_matrix\n",
    "distance_matrix_squaredp = (1 - corr_matrix**2) * 2"
   ]
  },
  {
   "cell_type": "code",
   "execution_count": 257,
   "id": "593e17af",
   "metadata": {},
   "outputs": [],
   "source": [
    "corr_matrix = unclustered_dfs[4].T.corr()\n",
    "distance_matrix = 1 - corr_matrix\n",
    "distance_matrix_squaredp = (1 - corr_matrix**2) * 2"
   ]
  },
  {
   "cell_type": "code",
   "execution_count": 258,
   "id": "45086cac",
   "metadata": {},
   "outputs": [
    {
     "data": {
      "text/plain": [
       "(110, 110)"
      ]
     },
     "execution_count": 258,
     "metadata": {},
     "output_type": "execute_result"
    }
   ],
   "source": [
    "corr_matrix.shape"
   ]
  },
  {
   "cell_type": "code",
   "execution_count": 259,
   "id": "8db4cafc",
   "metadata": {},
   "outputs": [
    {
     "name": "stderr",
     "output_type": "stream",
     "text": [
      "01:44:04 - cmdstanpy - INFO - Chain [1] start processing\n"
     ]
    },
    {
     "name": "stderr",
     "output_type": "stream",
     "text": [
      "01:50:00 - cmdstanpy - INFO - Chain [1] done processing\n"
     ]
    }
   ],
   "source": [
    "#dictionary to specify input to simulation\n",
    "\n",
    "# dat={'N':100, 'D':5, 'deltaij':mat_dim}\n",
    "dat = {'N': 110 , 'D': 3 , 'deltaij':distance_matrix_squaredp}\n",
    "#run optimizer\n",
    "model = ltz_m.optimize(data=dat, iter=250000, algorithm='LBFGS', tol_rel_grad=1e2)"
   ]
  },
  {
   "cell_type": "code",
   "execution_count": 260,
   "id": "a880a1ed",
   "metadata": {},
   "outputs": [
    {
     "name": "stderr",
     "output_type": "stream",
     "text": [
      "01:50:22 - cmdstanpy - WARNING - The default behavior of CmdStanMLE.stan_variable() will change in a future release to always return a numpy.ndarray, even for scalar variables.\n"
     ]
    }
   ],
   "source": [
    "# build result \n",
    "hyp_emb = {'euc':model.euc, 'sig':model.sig, 'lambda':model.stan_variable('lambda')}\n",
    "\n",
    "# # and save\n",
    "# fdname = './emb5d.pickle'\n",
    "# with open(fdname,'wb') as file:\n",
    "#     pickle.dump(hyp_emb, file,  protocol=pickle.HIGHEST_PROTOCOL)"
   ]
  },
  {
   "cell_type": "code",
   "execution_count": null,
   "id": "d4ef1297",
   "metadata": {},
   "outputs": [],
   "source": [
    "# # load existing results\n",
    "# fdname = './emb5d.pickle'\n",
    "# with open(fdname, 'rb') as file:\n",
    "#     hyp_emb = pickle.load(file)"
   ]
  },
  {
   "cell_type": "markdown",
   "id": "0f4a4cf9",
   "metadata": {},
   "source": [
    "## Some utility functions for post-processing the simulation output"
   ]
  },
  {
   "cell_type": "code",
   "execution_count": 229,
   "id": "1f033e62",
   "metadata": {},
   "outputs": [],
   "source": [
    "def d_lor(t1, t2, E1, E2):\n",
    "    return np.arccosh(t1*t2 - np.dot(E1, E2))\n",
    "\n",
    "#returns embedding distance matrix from optimization fit\n",
    "def get_embed_dmat(fit):\n",
    "    N = fit['euc'].shape[0]\n",
    "    fit_ts = np.sqrt(1.0 + np.sum(np.square(fit['euc']), axis=1))\n",
    "\n",
    "    fit_mat = np.zeros((N, N))\n",
    "\n",
    "    for i in np.arange(N):\n",
    "        for j in np.arange(i+1,N):\n",
    "            fit_mat[i][j] = d_lor(fit_ts[i], fit_ts[j], fit['euc'][i], fit['euc'][j])\n",
    "            fit_mat[j][i] = fit_mat[i][j]\n",
    "            \n",
    "    return fit_mat\n",
    "\n",
    "#return poincare coordinates\n",
    "def get_poin(fit):\n",
    "    ts = np.sqrt(1.0 + np.sum(np.square(fit['euc']), axis=1))\n",
    "    return (fit['euc'].T / (ts + 1)).T"
   ]
  },
  {
   "cell_type": "code",
   "execution_count": 230,
   "id": "dac6394d",
   "metadata": {},
   "outputs": [],
   "source": [
    "def process_sim(fit):\n",
    "    fit['emb_mat'] = get_embed_dmat(fit)/fit['lambda']\n",
    "    fit['pcoords'] = get_poin(fit)\n",
    "    fit['radii'] = 2.0*np.arctanh(np.sqrt(np.sum(np.square(fit['pcoords']), axis=1)))"
   ]
  },
  {
   "cell_type": "code",
   "execution_count": 261,
   "id": "d651f3ad",
   "metadata": {},
   "outputs": [],
   "source": [
    "#run this function after running the optimizer to process the output data into more usable forms\n",
    "process_sim(hyp_emb)"
   ]
  },
  {
   "cell_type": "code",
   "execution_count": 262,
   "id": "8d3b4c66",
   "metadata": {},
   "outputs": [
    {
     "data": {
      "text/plain": [
       "4.82177"
      ]
     },
     "execution_count": 262,
     "metadata": {},
     "output_type": "execute_result"
    }
   ],
   "source": [
    "#curvature (or radius)\n",
    "hyp_emb['lambda']"
   ]
  },
  {
   "cell_type": "code",
   "execution_count": 263,
   "id": "fa441edb",
   "metadata": {},
   "outputs": [
    {
     "data": {
      "text/plain": [
       "array([[ 0.40671781,  0.04685631,  0.88769041],\n",
       "       [ 0.44413811,  0.50956083,  0.71772646],\n",
       "       [ 0.62944432,  0.14829698,  0.7275721 ],\n",
       "       [ 0.72723981,  0.03497959,  0.65181991],\n",
       "       [ 0.93853351, -0.27722328,  0.123298  ],\n",
       "       [-0.75580777,  0.27395484, -0.56765022],\n",
       "       [-0.69204872,  0.69974432,  0.03582068],\n",
       "       [-0.89253386, -0.21778037, -0.35036774],\n",
       "       [-0.89226812, -0.26520912, -0.30680414],\n",
       "       [-0.96942783,  0.13870668, -0.09002404],\n",
       "       [-0.94000696,  0.06195573, -0.28766169],\n",
       "       [-0.16773429,  0.89101742, -0.39570967],\n",
       "       [-0.66721789,  0.7060179 ,  0.09773839],\n",
       "       [-0.82573342,  0.48632465, -0.18121627],\n",
       "       [ 0.45431423,  0.48081951,  0.72564741],\n",
       "       [ 0.65033135, -0.04545027, -0.74408389],\n",
       "       [-0.91462664, -0.18551728, -0.31013896],\n",
       "       [ 0.49790053, -0.42785353,  0.70313812],\n",
       "       [-0.85288701,  0.41411666, -0.21051865],\n",
       "       [-0.77873967,  0.49029532, -0.32449601],\n",
       "       [-0.36663207, -0.14854918, -0.90730113],\n",
       "       [ 0.32760959,  0.14899404, -0.92325501],\n",
       "       [ 0.72330452,  0.12257627,  0.64802916],\n",
       "       [-0.60288553,  0.77329813,  0.07224864],\n",
       "       [ 0.72923976, -0.52283827,  0.36776374],\n",
       "       [ 0.85887951, -0.33395371,  0.33452352],\n",
       "       [ 0.24807791,  0.1973337 ,  0.92813743],\n",
       "       [-0.69470789, -0.5600611 , -0.40579869],\n",
       "       [ 0.81150119, -0.48914817, -0.27870716],\n",
       "       [-0.77228699, -0.35561033,  0.51079382],\n",
       "       [ 0.61505775, -0.26651982,  0.69682717],\n",
       "       [ 0.2215492 , -0.20858515, -0.94126511],\n",
       "       [-0.47953675, -0.85088052, -0.09020864],\n",
       "       [-0.32315451, -0.925115  , -0.0124168 ],\n",
       "       [-0.95489462, -0.11244363, -0.2088156 ],\n",
       "       [ 0.44236211,  0.51311564, -0.72313276],\n",
       "       [ 0.56626801,  0.02650188,  0.7803256 ],\n",
       "       [-0.26799072, -0.93985896,  0.05238287],\n",
       "       [ 0.60391469, -0.76300872, -0.13108837],\n",
       "       [-0.64015349,  0.72743544,  0.13962515],\n",
       "       [ 0.48411688,  0.82664907, -0.24523989],\n",
       "       [ 0.26708909,  0.95307162,  0.03459307],\n",
       "       [ 0.60111705, -0.72652197,  0.26076471],\n",
       "       [ 0.80918502, -0.54617734,  0.09894178],\n",
       "       [ 0.48710632, -0.19127995,  0.81258463],\n",
       "       [-0.0289791 , -0.91317437,  0.31643807],\n",
       "       [-0.69162128, -0.6314256 , -0.29763364],\n",
       "       [ 0.69950017, -0.6427202 ,  0.24555148],\n",
       "       [ 0.7108752 , -0.25464746,  0.61574595],\n",
       "       [-0.62181869, -0.49310441, -0.58356807],\n",
       "       [-0.53214233,  0.57254087, -0.60297463],\n",
       "       [-0.83693691,  0.0106212 , -0.52188868],\n",
       "       [-0.8641481 ,  0.31047166, -0.34124953],\n",
       "       [-0.77217339,  0.4485315 , -0.40198524],\n",
       "       [ 0.94509027,  0.26090825,  0.05004317],\n",
       "       [-0.25090668, -0.90562087,  0.26906334],\n",
       "       [ 0.12021633, -0.74997363,  0.62217071],\n",
       "       [ 0.80833543,  0.46098362, -0.33235511],\n",
       "       [-0.55032986,  0.75684842,  0.24481296],\n",
       "       [ 0.4833786 , -0.26412905,  0.80976778],\n",
       "       [ 0.53138335, -0.06108194,  0.81887329],\n",
       "       [ 0.5967587 , -0.58430447,  0.51073396],\n",
       "       [-0.39009016,  0.21863854,  0.88001574],\n",
       "       [ 0.49721018,  0.17639139,  0.82669149],\n",
       "       [ 0.0973776 ,  0.60601513,  0.76208132],\n",
       "       [ 0.30389978, -0.38513758,  0.85080953],\n",
       "       [ 0.29773561,  0.86365004, -0.37519704],\n",
       "       [ 0.29899639,  0.15982307,  0.91943153],\n",
       "       [ 0.19157545, -0.90047975,  0.34104736],\n",
       "       [ 0.96435616, -0.10787802, -0.17968558],\n",
       "       [ 0.25925886,  0.30004546,  0.90090372],\n",
       "       [ 0.34469075, -0.8367395 ,  0.38159006],\n",
       "       [-0.67047926,  0.46100211,  0.5531049 ],\n",
       "       [ 0.03814027, -0.86106563,  0.47947648],\n",
       "       [ 0.2429225 , -0.58251607,  0.753534  ],\n",
       "       [ 0.58330698, -0.37302317,  0.6606964 ],\n",
       "       [ 0.43085009, -0.65949855,  0.59061743],\n",
       "       [ 0.59278502,  0.71821131,  0.32246119],\n",
       "       [ 0.35988254, -0.2681551 ,  0.87301087],\n",
       "       [-0.44755114, -0.84679163,  0.21615244],\n",
       "       [-0.21030805,  0.44554443,  0.85677849],\n",
       "       [ 0.5503476 , -0.31938996,  0.72455808],\n",
       "       [-0.1267841 ,  0.94760768,  0.26126863],\n",
       "       [ 0.5450356 , -0.79348324, -0.20596781],\n",
       "       [ 0.69311343, -0.12133464,  0.66127912],\n",
       "       [ 0.57413102, -0.79284961,  0.12718295],\n",
       "       [-0.93158495,  0.29326839,  0.04389287],\n",
       "       [-0.85415374,  0.31365865,  0.36511759],\n",
       "       [-0.02393237, -0.02624164,  0.98475121],\n",
       "       [ 0.82374245,  0.43501094,  0.25811836],\n",
       "       [-0.72143218, -0.08822916,  0.67697549],\n",
       "       [ 0.34672001, -0.50457591, -0.7790747 ],\n",
       "       [ 0.13196239,  0.58676323, -0.78609101],\n",
       "       [-0.89132057, -0.41465902, -0.0696377 ],\n",
       "       [ 0.32140601,  0.77656981,  0.52184337],\n",
       "       [ 0.34761046, -0.91781324,  0.04804722],\n",
       "       [ 0.65703266, -0.4078416 ,  0.58955633],\n",
       "       [ 0.65218437,  0.36777286,  0.63900946],\n",
       "       [ 0.60578412, -0.15469297,  0.75734163],\n",
       "       [ 0.28406096, -0.09967167,  0.93323163],\n",
       "       [-0.27163697, -0.7299251 , -0.60880047],\n",
       "       [ 0.88702276, -0.15263545,  0.38691435],\n",
       "       [-0.90161253,  0.36734388,  0.05768689],\n",
       "       [ 0.57751535, -0.48200669,  0.60255457],\n",
       "       [-0.08531515, -0.65037568,  0.73601964],\n",
       "       [ 0.43614191, -0.33118793,  0.80690136],\n",
       "       [ 0.68790904, -0.4020798 , -0.58552941],\n",
       "       [-0.24944082,  0.2502138 , -0.92323918],\n",
       "       [-0.1070659 , -0.93948841,  0.22087781],\n",
       "       [-0.12698839, -0.33626235,  0.91970079]])"
      ]
     },
     "execution_count": 263,
     "metadata": {},
     "output_type": "execute_result"
    }
   ],
   "source": [
    "#poincare embedding coordinates\n",
    "hyp_emb['pcoords']"
   ]
  },
  {
   "cell_type": "code",
   "execution_count": 264,
   "id": "d32d1b0c",
   "metadata": {},
   "outputs": [
    {
     "name": "stdout",
     "output_type": "stream",
     "text": [
      "Stored 'w5_notincluster_pcoords' (ndarray)\n"
     ]
    }
   ],
   "source": [
    "w5_notincluster_pcoords = hyp_emb['pcoords']\n",
    "%store w5_notincluster_pcoords "
   ]
  },
  {
   "cell_type": "code",
   "execution_count": 97,
   "id": "e0b8162b",
   "metadata": {},
   "outputs": [
    {
     "data": {
      "text/plain": [
       "dict_keys(['euc', 'sig', 'lambda', 'emb_mat', 'pcoords', 'radii'])"
      ]
     },
     "execution_count": 97,
     "metadata": {},
     "output_type": "execute_result"
    }
   ],
   "source": [
    "#emebdding uncertainties\n",
    "hyp_emb.keys()"
   ]
  },
  {
   "cell_type": "markdown",
   "id": "ffa4a0f2",
   "metadata": {},
   "source": [
    "# Shepard Diagram"
   ]
  },
  {
   "cell_type": "code",
   "execution_count": 246,
   "id": "b68aec1a",
   "metadata": {},
   "outputs": [],
   "source": [
    "rcParams['font.family'] = 'sans-serif'\n",
    "rcParams['font.sans-serif'] = 'Arial'"
   ]
  },
  {
   "cell_type": "code",
   "execution_count": null,
   "id": "6b924846",
   "metadata": {},
   "outputs": [],
   "source": [
    "# color brewer paisley hex color references\n",
    "#8dd3c7\n",
    "#ffffb3\n",
    "#bebada\n",
    "#fb8072\n",
    "#80b1d3"
   ]
  },
  {
   "cell_type": "code",
   "execution_count": 265,
   "id": "c3ed0ead",
   "metadata": {},
   "outputs": [
    {
     "data": {
      "image/png": "[encoded data removed]",
      "text/plain": [
       "<Figure size 1500x750 with 2 Axes>"
      ]
     },
     "metadata": {},
     "output_type": "display_data"
    }
   ],
   "source": [
    "fig, ax = plt.subplots(1, 2, figsize=(15,7.5))\n",
    "\n",
    "ax[0].scatter(distance_matrix_squaredp.values[np.triu_indices(29, k=1)], hyp_emb['emb_mat'][np.triu_indices(29, k=1)], c='#8dd3c7', edgecolor='black', alpha=0.7) #cornflowerblue, lightcoral\n",
    "ax[0].plot(np.arange(3), np.arange(3), c='black', linewidth=2, alpha=0.5)\n",
    "\n",
    "ax[0].set_xlabel('Original Distances', fontsize=20)\n",
    "ax[0].tick_params(axis='both', which='major', labelsize=20)\n",
    "ax[0].set_ylabel('Embedding Distances / $\\lambda$', fontsize=20)\n",
    "\n",
    "ax[1].hist(hyp_emb['sig'], color ='#bebada', edgecolor='black') #cornflowerblue, lightcoral\n",
    "ax[1].set_xlabel('Embedding Uncertainties', fontsize=20)\n",
    "ax[1].tick_params(axis='both', which='major', labelsize=20)\n",
    "\n",
    "# plt.savefig('/Users/iuliarusu/Documents/Sharpee/final_images/figure2/not_clustered_sheppard.svg', format='svg', bbox_inches='tight')\n",
    "\n"
   ]
  },
  {
   "cell_type": "code",
   "execution_count": 266,
   "id": "7ea16b78",
   "metadata": {},
   "outputs": [],
   "source": [
    "hyperbolic_df= pd.DataFrame(hyp_emb['pcoords'], columns=['x', 'y', 'z'])\n",
    "\n"
   ]
  },
  {
   "cell_type": "code",
   "execution_count": null,
   "id": "c4caf498",
   "metadata": {},
   "outputs": [],
   "source": [
    "#cell type label column\n",
    "column = ['ON'] * (ON_0.shape[0]) + ['OFF'] * (OFF_0.shape[0]) + ['AVA'] * (AVA_0.shape[0]) + ['RME'] * (RME_0.shape[0]) + ['SMDV'] * (SMDV_0.shape[0]) + ['SMDD'] * (SMDD_0.shape[0])\n",
    "cell_type = np.array(column)\n",
    "hyperbolic_df['cluster labels'] = cell_type.T\n"
   ]
  },
  {
   "cell_type": "code",
   "execution_count": null,
   "id": "b4eddd58",
   "metadata": {},
   "outputs": [],
   "source": [
    "#8dd3c7\n",
    "#ffffb3\n",
    "#bebada\n",
    "#fb8072\n",
    "#80b1d3"
   ]
  },
  {
   "cell_type": "code",
   "execution_count": null,
   "id": "13337882",
   "metadata": {},
   "outputs": [],
   "source": [
    "hyperbolic_df"
   ]
  },
  {
   "cell_type": "code",
   "execution_count": 273,
   "id": "09b7a13f",
   "metadata": {},
   "outputs": [
    {
     "data": {
      "application/vnd.plotly.v1+json": {
       "config": {
        "plotlyServerURL": "https://plot.ly"
       },
       "data": [
        {
         "hovertemplate": "x=%{x}<br>y=%{y}<br>z=%{z}<extra></extra>",
         "legendgroup": "",
         "marker": {
          "color": "#80b1d3",
          "opacity": 0.8,
          "size": 8,
          "symbol": "circle"
         },
         "mode": "markers",
         "name": "",
         "scene": "scene",
         "showlegend": false,
         "type": "scatter3d",
         "x": [
          0.40671781056827133,
          0.444138108900933,
          0.6294443193410826,
          0.727239808393074,
          0.9385335054158076,
          -0.7558077740899736,
          -0.6920487242006331,
          -0.89253385731927,
          -0.8922681165631374,
          -0.9694278346182741,
          -0.9400069583769881,
          -0.16773428718843772,
          -0.667217891499668,
          -0.8257334178940239,
          0.4543142335361496,
          0.6503313532862537,
          -0.9146266415881491,
          0.4979005265856793,
          -0.852887014480345,
          -0.7787396729139022,
          -0.3666320734354027,
          0.327609590032653,
          0.7233045225511291,
          -0.6028855289182938,
          0.7292397564930524,
          0.8588795144153772,
          0.24807790735729696,
          -0.6947078923161145,
          0.8115011863036852,
          -0.7722869922470024,
          0.6150577496587002,
          0.22154920432318906,
          -0.4795367499614553,
          -0.3231545077585953,
          -0.9548946173927876,
          0.44236211276093246,
          0.5662680149895631,
          -0.2679907192844985,
          0.6039146914769883,
          -0.640153487019531,
          0.4841168806137212,
          0.26708908784559554,
          0.6011170512137827,
          0.8091850163509958,
          0.4871063171969846,
          -0.028979103620718323,
          -0.6916212842128687,
          0.6995001651998934,
          0.7108752025025036,
          -0.6218186931270003,
          -0.5321423250369153,
          -0.8369369106139781,
          -0.8641481024854749,
          -0.7721733860829711,
          0.9450902736036247,
          -0.25090668458138493,
          0.12021633491411632,
          0.8083354317083496,
          -0.550329856642855,
          0.4833785958453491,
          0.5313833519611868,
          0.5967587033108134,
          -0.3900901583513159,
          0.4972101844768638,
          0.09737760071760007,
          0.3038997810248947,
          0.2977356102833357,
          0.298996394545866,
          0.1915754493746825,
          0.9643561564720236,
          0.25925886036965196,
          0.34469074530014426,
          -0.6704792612940921,
          0.038140273601813574,
          0.24292250360461265,
          0.5833069762165615,
          0.4308500885441191,
          0.5927850164982371,
          0.3598825398311742,
          -0.4475511422884935,
          -0.2103080485889886,
          0.5503476031135922,
          -0.12678409838258134,
          0.5450356006537164,
          0.6931134337697051,
          0.5741310231518788,
          -0.9315849549673725,
          -0.8541537409891341,
          -0.02393237242982621,
          0.823742449499881,
          -0.7214321769343093,
          0.34672000761506294,
          0.13196238953643202,
          -0.8913205695925525,
          0.3214060120628531,
          0.3476104551740249,
          0.6570326553325224,
          0.6521843726846538,
          0.6057841236757732,
          0.2840609582039194,
          -0.2716369678165742,
          0.8870227584480012,
          -0.9016125291807394,
          0.5775153491259811,
          -0.08531514799906972,
          0.436141905717067,
          0.6879090393311277,
          -0.24944081599928108,
          -0.10706590433302453,
          -0.12698838801595724
         ],
         "y": [
          0.046856313742030635,
          0.5095608321625237,
          0.1482969788412263,
          0.03497958500813395,
          -0.2772232846227935,
          0.2739548417505338,
          0.6997443171064907,
          -0.21778037254489427,
          -0.26520911805062003,
          0.1387066753936915,
          0.06195572534989752,
          0.8910174221295346,
          0.7060179021036463,
          0.48632465163806576,
          0.4808195117324639,
          -0.04545026719430131,
          -0.18551728054685884,
          -0.42785352836539403,
          0.4141166634186987,
          0.49029531772704793,
          -0.1485491758935803,
          0.14899403879874296,
          0.12257626569835665,
          0.773298128607646,
          -0.5228382704563799,
          -0.3339537069586451,
          0.19733370382245047,
          -0.5600610974544885,
          -0.48914817219543866,
          -0.3556103303627299,
          -0.266519816608612,
          -0.2085851532536592,
          -0.8508805227228415,
          -0.9251149974858345,
          -0.11244362611976998,
          0.5131156424193216,
          0.026501881418199553,
          -0.9398589566479943,
          -0.7630087205795105,
          0.7274354359175264,
          0.8266490675296198,
          0.9530716207811398,
          -0.7265219659859632,
          -0.5461773353624646,
          -0.19127994833520018,
          -0.9131743675266006,
          -0.6314256004166648,
          -0.6427201979868998,
          -0.254647459755103,
          -0.49310441240598735,
          0.5725408707549939,
          0.010621199764327039,
          0.310471658424216,
          0.44853149883415644,
          0.260908247454562,
          -0.9056208691213532,
          -0.749973630616462,
          0.4609836247921419,
          0.7568484171940768,
          -0.2641290520677907,
          -0.06108193924740019,
          -0.5843044674931592,
          0.21863854006685982,
          0.17639138693058937,
          0.6060151340104103,
          -0.3851375798192299,
          0.8636500418281986,
          0.15982306696076656,
          -0.9004797453543741,
          -0.10787801607518195,
          0.30004545525529036,
          -0.8367395001375139,
          0.4610021064039068,
          -0.8610656304320562,
          -0.5825160723559887,
          -0.3730231694927686,
          -0.6594985506221701,
          0.7182113086826679,
          -0.2681550963741188,
          -0.8467916250624012,
          0.4455444330948207,
          -0.31938996061586317,
          0.9476076765758038,
          -0.7934832443872021,
          -0.12133463957229249,
          -0.7928496138510435,
          0.2932683930697597,
          0.3136586461061608,
          -0.02624164406875581,
          0.43501094194399403,
          -0.08822916451064143,
          -0.5045759081067598,
          0.586763229367475,
          -0.4146590242061169,
          0.7765698083591663,
          -0.9178132375645123,
          -0.4078416022608967,
          0.367772862200485,
          -0.15469296844786048,
          -0.0996716686331264,
          -0.7299250951383435,
          -0.15263545028896858,
          0.3673438765593096,
          -0.4820066942382813,
          -0.6503756755201218,
          -0.33118793187741147,
          -0.40207979776279956,
          0.25021379511289865,
          -0.9394884115831122,
          -0.3362623470494656
         ],
         "z": [
          0.8876904090289786,
          0.7177264570802925,
          0.7275720957614904,
          0.6518199118538419,
          0.12329800123599693,
          -0.5676502207597234,
          0.035820679011795205,
          -0.3503677417219791,
          -0.3068041373230414,
          -0.09002403870677415,
          -0.2876616924099413,
          -0.39570967328386725,
          0.09773839452644578,
          -0.1812162720985213,
          0.7256474114148923,
          -0.7440838942889806,
          -0.3101389614072614,
          0.703138119421302,
          -0.2105186477987855,
          -0.3244960095494648,
          -0.9073011302642191,
          -0.9232550108300877,
          0.6480291587409137,
          0.07224863827988726,
          0.367763743914613,
          0.3345235175009718,
          0.9281374325827139,
          -0.4057986856432912,
          -0.2787071612279077,
          0.5107938196710534,
          0.6968271724734626,
          -0.9412651062904168,
          -0.0902086431606161,
          -0.01241679563661184,
          -0.2088155984117357,
          -0.7231327605500425,
          0.7803256016233466,
          0.05238286525635031,
          -0.13108837207450788,
          0.13962515197644018,
          -0.24523989493374326,
          0.03459306767016652,
          0.26076470786376477,
          0.09894178019108088,
          0.8125846254847706,
          0.31643807226587223,
          -0.29763364139357684,
          0.24555148243253389,
          0.6157459483160644,
          -0.5835680655052408,
          -0.6029746284453074,
          -0.5218886791412272,
          -0.34124953051216933,
          -0.401985236069509,
          0.050043173106099355,
          0.26906333655219183,
          0.6221707126534659,
          -0.3323551100007425,
          0.24481295805859649,
          0.8097677769204416,
          0.8188732865829533,
          0.5107339566605508,
          0.8800157399138754,
          0.8266914902182116,
          0.7620813213013966,
          0.8508095318341483,
          -0.3751970376036156,
          0.9194315316131716,
          0.34104735704351796,
          -0.179685582348437,
          0.90090372156188,
          0.38159005998311785,
          0.5531048984370468,
          0.4794764812294933,
          0.7535340023363722,
          0.6606964017653851,
          0.5906174344858752,
          0.32246119175272453,
          0.8730108748602762,
          0.21615244038437986,
          0.8567784870174634,
          0.7245580777125822,
          0.26126863224660846,
          -0.20596780702426815,
          0.6612791246148029,
          0.1271829471820631,
          0.0438928720375254,
          0.3651175869534732,
          0.9847512146634415,
          0.2581183637870309,
          0.6769754907912198,
          -0.7790746968247854,
          -0.7860910060717772,
          -0.0696377039881903,
          0.5218433744565859,
          0.04804721682810167,
          0.5895563309966355,
          0.6390094642614259,
          0.7573416278979253,
          0.9332316327991931,
          -0.6088004671208882,
          0.38691434725083107,
          0.0576868941352622,
          0.6025545656142507,
          0.7360196362795675,
          0.8069013620262484,
          -0.5855294083353528,
          -0.9232391847643175,
          0.22087780845791644,
          0.9197007931902549
         ]
        }
       ],
       "layout": {
        "legend": {
         "tracegroupgap": 0
        },
        "scene": {
         "domain": {
          "x": [
           0,
           1
          ],
          "y": [
           0,
           1
          ]
         },
         "xaxis": {
          "ticktext": [
           -1,
           -0.5,
           0,
           0.5,
           1
          ],
          "title": {
           "text": "x"
          }
         },
         "yaxis": {
          "ticktext": [
           -1,
           -0.5,
           0,
           0.5,
           1
          ],
          "title": {
           "text": "y"
          }
         },
         "zaxis": {
          "ticktext": [
           -1,
           -0.5,
           0,
           0.5,
           1
          ],
          "title": {
           "text": "z"
          }
         }
        },
        "template": {
         "data": {
          "bar": [
           {
            "error_x": {
             "color": "#2a3f5f"
            },
            "error_y": {
             "color": "#2a3f5f"
            },
            "marker": {
             "line": {
              "color": "#E5ECF6",
              "width": 0.5
             },
             "pattern": {
              "fillmode": "overlay",
              "size": 10,
              "solidity": 0.2
             }
            },
            "type": "bar"
           }
          ],
          "barpolar": [
           {
            "marker": {
             "line": {
              "color": "#E5ECF6",
              "width": 0.5
             },
             "pattern": {
              "fillmode": "overlay",
              "size": 10,
              "solidity": 0.2
             }
            },
            "type": "barpolar"
           }
          ],
          "carpet": [
           {
            "aaxis": {
             "endlinecolor": "#2a3f5f",
             "gridcolor": "white",
             "linecolor": "white",
             "minorgridcolor": "white",
             "startlinecolor": "#2a3f5f"
            },
            "baxis": {
             "endlinecolor": "#2a3f5f",
             "gridcolor": "white",
             "linecolor": "white",
             "minorgridcolor": "white",
             "startlinecolor": "#2a3f5f"
            },
            "type": "carpet"
           }
          ],
          "choropleth": [
           {
            "colorbar": {
             "outlinewidth": 0,
             "ticks": ""
            },
            "type": "choropleth"
           }
          ],
          "contour": [
           {
            "colorbar": {
             "outlinewidth": 0,
             "ticks": ""
            },
            "colorscale": [
             [
              0,
              "#0d0887"
             ],
             [
              0.1111111111111111,
              "#46039f"
             ],
             [
              0.2222222222222222,
              "#7201a8"
             ],
             [
              0.3333333333333333,
              "#9c179e"
             ],
             [
              0.4444444444444444,
              "#bd3786"
             ],
             [
              0.5555555555555556,
              "#d8576b"
             ],
             [
              0.6666666666666666,
              "#ed7953"
             ],
             [
              0.7777777777777778,
              "#fb9f3a"
             ],
             [
              0.8888888888888888,
              "#fdca26"
             ],
             [
              1,
              "#f0f921"
             ]
            ],
            "type": "contour"
           }
          ],
          "contourcarpet": [
           {
            "colorbar": {
             "outlinewidth": 0,
             "ticks": ""
            },
            "type": "contourcarpet"
           }
          ],
          "heatmap": [
           {
            "colorbar": {
             "outlinewidth": 0,
             "ticks": ""
            },
            "colorscale": [
             [
              0,
              "#0d0887"
             ],
             [
              0.1111111111111111,
              "#46039f"
             ],
             [
              0.2222222222222222,
              "#7201a8"
             ],
             [
              0.3333333333333333,
              "#9c179e"
             ],
             [
              0.4444444444444444,
              "#bd3786"
             ],
             [
              0.5555555555555556,
              "#d8576b"
             ],
             [
              0.6666666666666666,
              "#ed7953"
             ],
             [
              0.7777777777777778,
              "#fb9f3a"
             ],
             [
              0.8888888888888888,
              "#fdca26"
             ],
             [
              1,
              "#f0f921"
             ]
            ],
            "type": "heatmap"
           }
          ],
          "heatmapgl": [
           {
            "colorbar": {
             "outlinewidth": 0,
             "ticks": ""
            },
            "colorscale": [
             [
              0,
              "#0d0887"
             ],
             [
              0.1111111111111111,
              "#46039f"
             ],
             [
              0.2222222222222222,
              "#7201a8"
             ],
             [
              0.3333333333333333,
              "#9c179e"
             ],
             [
              0.4444444444444444,
              "#bd3786"
             ],
             [
              0.5555555555555556,
              "#d8576b"
             ],
             [
              0.6666666666666666,
              "#ed7953"
             ],
             [
              0.7777777777777778,
              "#fb9f3a"
             ],
             [
              0.8888888888888888,
              "#fdca26"
             ],
             [
              1,
              "#f0f921"
             ]
            ],
            "type": "heatmapgl"
           }
          ],
          "histogram": [
           {
            "marker": {
             "pattern": {
              "fillmode": "overlay",
              "size": 10,
              "solidity": 0.2
             }
            },
            "type": "histogram"
           }
          ],
          "histogram2d": [
           {
            "colorbar": {
             "outlinewidth": 0,
             "ticks": ""
            },
            "colorscale": [
             [
              0,
              "#0d0887"
             ],
             [
              0.1111111111111111,
              "#46039f"
             ],
             [
              0.2222222222222222,
              "#7201a8"
             ],
             [
              0.3333333333333333,
              "#9c179e"
             ],
             [
              0.4444444444444444,
              "#bd3786"
             ],
             [
              0.5555555555555556,
              "#d8576b"
             ],
             [
              0.6666666666666666,
              "#ed7953"
             ],
             [
              0.7777777777777778,
              "#fb9f3a"
             ],
             [
              0.8888888888888888,
              "#fdca26"
             ],
             [
              1,
              "#f0f921"
             ]
            ],
            "type": "histogram2d"
           }
          ],
          "histogram2dcontour": [
           {
            "colorbar": {
             "outlinewidth": 0,
             "ticks": ""
            },
            "colorscale": [
             [
              0,
              "#0d0887"
             ],
             [
              0.1111111111111111,
              "#46039f"
             ],
             [
              0.2222222222222222,
              "#7201a8"
             ],
             [
              0.3333333333333333,
              "#9c179e"
             ],
             [
              0.4444444444444444,
              "#bd3786"
             ],
             [
              0.5555555555555556,
              "#d8576b"
             ],
             [
              0.6666666666666666,
              "#ed7953"
             ],
             [
              0.7777777777777778,
              "#fb9f3a"
             ],
             [
              0.8888888888888888,
              "#fdca26"
             ],
             [
              1,
              "#f0f921"
             ]
            ],
            "type": "histogram2dcontour"
           }
          ],
          "mesh3d": [
           {
            "colorbar": {
             "outlinewidth": 0,
             "ticks": ""
            },
            "type": "mesh3d"
           }
          ],
          "parcoords": [
           {
            "line": {
             "colorbar": {
              "outlinewidth": 0,
              "ticks": ""
             }
            },
            "type": "parcoords"
           }
          ],
          "pie": [
           {
            "automargin": true,
            "type": "pie"
           }
          ],
          "scatter": [
           {
            "fillpattern": {
             "fillmode": "overlay",
             "size": 10,
             "solidity": 0.2
            },
            "type": "scatter"
           }
          ],
          "scatter3d": [
           {
            "line": {
             "colorbar": {
              "outlinewidth": 0,
              "ticks": ""
             }
            },
            "marker": {
             "colorbar": {
              "outlinewidth": 0,
              "ticks": ""
             }
            },
            "type": "scatter3d"
           }
          ],
          "scattercarpet": [
           {
            "marker": {
             "colorbar": {
              "outlinewidth": 0,
              "ticks": ""
             }
            },
            "type": "scattercarpet"
           }
          ],
          "scattergeo": [
           {
            "marker": {
             "colorbar": {
              "outlinewidth": 0,
              "ticks": ""
             }
            },
            "type": "scattergeo"
           }
          ],
          "scattergl": [
           {
            "marker": {
             "colorbar": {
              "outlinewidth": 0,
              "ticks": ""
             }
            },
            "type": "scattergl"
           }
          ],
          "scattermapbox": [
           {
            "marker": {
             "colorbar": {
              "outlinewidth": 0,
              "ticks": ""
             }
            },
            "type": "scattermapbox"
           }
          ],
          "scatterpolar": [
           {
            "marker": {
             "colorbar": {
              "outlinewidth": 0,
              "ticks": ""
             }
            },
            "type": "scatterpolar"
           }
          ],
          "scatterpolargl": [
           {
            "marker": {
             "colorbar": {
              "outlinewidth": 0,
              "ticks": ""
             }
            },
            "type": "scatterpolargl"
           }
          ],
          "scatterternary": [
           {
            "marker": {
             "colorbar": {
              "outlinewidth": 0,
              "ticks": ""
             }
            },
            "type": "scatterternary"
           }
          ],
          "surface": [
           {
            "colorbar": {
             "outlinewidth": 0,
             "ticks": ""
            },
            "colorscale": [
             [
              0,
              "#0d0887"
             ],
             [
              0.1111111111111111,
              "#46039f"
             ],
             [
              0.2222222222222222,
              "#7201a8"
             ],
             [
              0.3333333333333333,
              "#9c179e"
             ],
             [
              0.4444444444444444,
              "#bd3786"
             ],
             [
              0.5555555555555556,
              "#d8576b"
             ],
             [
              0.6666666666666666,
              "#ed7953"
             ],
             [
              0.7777777777777778,
              "#fb9f3a"
             ],
             [
              0.8888888888888888,
              "#fdca26"
             ],
             [
              1,
              "#f0f921"
             ]
            ],
            "type": "surface"
           }
          ],
          "table": [
           {
            "cells": {
             "fill": {
              "color": "#EBF0F8"
             },
             "line": {
              "color": "white"
             }
            },
            "header": {
             "fill": {
              "color": "#C8D4E3"
             },
             "line": {
              "color": "white"
             }
            },
            "type": "table"
           }
          ]
         },
         "layout": {
          "annotationdefaults": {
           "arrowcolor": "#2a3f5f",
           "arrowhead": 0,
           "arrowwidth": 1
          },
          "autotypenumbers": "strict",
          "coloraxis": {
           "colorbar": {
            "outlinewidth": 0,
            "ticks": ""
           }
          },
          "colorscale": {
           "diverging": [
            [
             0,
             "#8e0152"
            ],
            [
             0.1,
             "#c51b7d"
            ],
            [
             0.2,
             "#de77ae"
            ],
            [
             0.3,
             "#f1b6da"
            ],
            [
             0.4,
             "#fde0ef"
            ],
            [
             0.5,
             "#f7f7f7"
            ],
            [
             0.6,
             "#e6f5d0"
            ],
            [
             0.7,
             "#b8e186"
            ],
            [
             0.8,
             "#7fbc41"
            ],
            [
             0.9,
             "#4d9221"
            ],
            [
             1,
             "#276419"
            ]
           ],
           "sequential": [
            [
             0,
             "#0d0887"
            ],
            [
             0.1111111111111111,
             "#46039f"
            ],
            [
             0.2222222222222222,
             "#7201a8"
            ],
            [
             0.3333333333333333,
             "#9c179e"
            ],
            [
             0.4444444444444444,
             "#bd3786"
            ],
            [
             0.5555555555555556,
             "#d8576b"
            ],
            [
             0.6666666666666666,
             "#ed7953"
            ],
            [
             0.7777777777777778,
             "#fb9f3a"
            ],
            [
             0.8888888888888888,
             "#fdca26"
            ],
            [
             1,
             "#f0f921"
            ]
           ],
           "sequentialminus": [
            [
             0,
             "#0d0887"
            ],
            [
             0.1111111111111111,
             "#46039f"
            ],
            [
             0.2222222222222222,
             "#7201a8"
            ],
            [
             0.3333333333333333,
             "#9c179e"
            ],
            [
             0.4444444444444444,
             "#bd3786"
            ],
            [
             0.5555555555555556,
             "#d8576b"
            ],
            [
             0.6666666666666666,
             "#ed7953"
            ],
            [
             0.7777777777777778,
             "#fb9f3a"
            ],
            [
             0.8888888888888888,
             "#fdca26"
            ],
            [
             1,
             "#f0f921"
            ]
           ]
          },
          "colorway": [
           "#636efa",
           "#EF553B",
           "#00cc96",
           "#ab63fa",
           "#FFA15A",
           "#19d3f3",
           "#FF6692",
           "#B6E880",
           "#FF97FF",
           "#FECB52"
          ],
          "font": {
           "color": "#2a3f5f"
          },
          "geo": {
           "bgcolor": "white",
           "lakecolor": "white",
           "landcolor": "#E5ECF6",
           "showlakes": true,
           "showland": true,
           "subunitcolor": "white"
          },
          "hoverlabel": {
           "align": "left"
          },
          "hovermode": "closest",
          "mapbox": {
           "style": "light"
          },
          "paper_bgcolor": "white",
          "plot_bgcolor": "#E5ECF6",
          "polar": {
           "angularaxis": {
            "gridcolor": "white",
            "linecolor": "white",
            "ticks": ""
           },
           "bgcolor": "#E5ECF6",
           "radialaxis": {
            "gridcolor": "white",
            "linecolor": "white",
            "ticks": ""
           }
          },
          "scene": {
           "xaxis": {
            "backgroundcolor": "#E5ECF6",
            "gridcolor": "white",
            "gridwidth": 2,
            "linecolor": "white",
            "showbackground": true,
            "ticks": "",
            "zerolinecolor": "white"
           },
           "yaxis": {
            "backgroundcolor": "#E5ECF6",
            "gridcolor": "white",
            "gridwidth": 2,
            "linecolor": "white",
            "showbackground": true,
            "ticks": "",
            "zerolinecolor": "white"
           },
           "zaxis": {
            "backgroundcolor": "#E5ECF6",
            "gridcolor": "white",
            "gridwidth": 2,
            "linecolor": "white",
            "showbackground": true,
            "ticks": "",
            "zerolinecolor": "white"
           }
          },
          "shapedefaults": {
           "line": {
            "color": "#2a3f5f"
           }
          },
          "ternary": {
           "aaxis": {
            "gridcolor": "white",
            "linecolor": "white",
            "ticks": ""
           },
           "baxis": {
            "gridcolor": "white",
            "linecolor": "white",
            "ticks": ""
           },
           "bgcolor": "#E5ECF6",
           "caxis": {
            "gridcolor": "white",
            "linecolor": "white",
            "ticks": ""
           }
          },
          "title": {
           "x": 0.05
          },
          "xaxis": {
           "automargin": true,
           "gridcolor": "white",
           "linecolor": "white",
           "ticks": "",
           "title": {
            "standoff": 15
           },
           "zerolinecolor": "white",
           "zerolinewidth": 2
          },
          "yaxis": {
           "automargin": true,
           "gridcolor": "white",
           "linecolor": "white",
           "ticks": "",
           "title": {
            "standoff": 15
           },
           "zerolinecolor": "white",
           "zerolinewidth": 2
          }
         }
        },
        "title": {
         "text": "Control W1"
        }
       }
      }
     },
     "metadata": {},
     "output_type": "display_data"
    }
   ],
   "source": [
    "\n",
    "\n",
    "# Create a scatter plot\n",
    "# fig = px.scatter_3d(data_frame = hyperbolic_df, x= 'x', y = 'y', z= 'z', title='AVA and RME: Stimulus 0', color = 'cluster labels') #cornflowerblue, lightcoral\n",
    "\n",
    "fig = px.scatter_3d(data_frame = hyperbolic_df, x= 'x', y = 'y', z= 'z', title='Control W1' ) #cornflowerblue, lightcoral\n",
    "fig.update_layout(\n",
    "    scene=dict(\n",
    "        xaxis=dict(ticktext=[-1, -0.5, 0, 0.5, 1]),\n",
    "        yaxis=dict(ticktext=[-1, -0.5, 0, 0.5, 1]),\n",
    "        zaxis=dict(ticktext=[-1, -0.5, 0, 0.5, 1]),\n",
    "        )\n",
    ")\n",
    "fig.update_traces(marker=dict(color='#80b1d3', size=8, opacity = 0.8))\n",
    "\n",
    "fig.show()"
   ]
  },
  {
   "cell_type": "code",
   "execution_count": null,
   "id": "b3cd3456",
   "metadata": {},
   "outputs": [],
   "source": [
    "fig = px.scatter_3d(\n",
    "    data_frame=hyperbolic_df, \n",
    "    x='x', \n",
    "    y='y', \n",
    "    z='z', \n",
    "     \n",
    "    # text='cluster labels',  # assuming 'labels' column contains the point labels\n",
    "    # title='ON and OFF Neurons',\n",
    "    labels={'x': 'X', 'y': 'Y', 'z': 'Z'},\n",
    "    \n",
    ")\n",
    "\n",
    "fig.update_layout(\n",
    "    scene=dict(\n",
    "        xaxis=dict(\n",
    "            tickvals=[-1, -0.5, 0, 0.5, 1],\n",
    "            ticktext=['-1', '-0.5', '0', '0.5', '1'],\n",
    "            title=dict(text='X', font=dict(size=20)),\n",
    "            tickfont=dict(size=15)\n",
    "        ),\n",
    "        yaxis=dict(\n",
    "            tickvals=[-1, -0.5, 0, 0.5, 1],\n",
    "            ticktext=['-1', '-0.5', '0', '0.5', '1'],\n",
    "            title=dict(text='Y ', font=dict(size=20)),\n",
    "            tickfont=dict(size=15)\n",
    "            \n",
    "        ),\n",
    "        zaxis=dict(\n",
    "            tickvals=[-1, -0.5, 0, 0.5, 1],\n",
    "            ticktext=['-1', '-0.5', '0', '0.5', '1'],\n",
    "            title=dict(text='Z ', font=dict(size=20)),\n",
    "            tickfont=dict(size=15)\n",
    "            \n",
    "        )\n",
    "    ),\n",
    "    legend=dict(\n",
    "        title=dict(text='Cluster Labels', font=dict(size=12)),\n",
    "        font=dict(size=10)\n",
    "    # ),\n",
    "    # title=dict(\n",
    "    #     text='ON and OFF Neurons',\n",
    "    #     font=dict(size=15)\n",
    "    ),\n",
    "    margin=dict(l=20, r=20, b=90, t=40),\n",
    "    autosize=True,\n",
    "    width=700,\n",
    "    height=500\n",
    ")\n",
    "\n",
    "# Customize marker size and opacity for better visualization\n",
    "fig.update_traces(marker=dict(size=10, opacity=0.8, color='#8dd3c7' ))\n",
    "\n",
    "\n",
    "\n",
    "\n",
    "fig.show()\n"
   ]
  },
  {
   "cell_type": "markdown",
   "id": "b6080734",
   "metadata": {},
   "source": [
    "# Fitting For Dimension\n",
    "\n",
    "Suppose we did not know a-priori that the data was 5D? This is usually the case"
   ]
  },
  {
   "cell_type": "markdown",
   "id": "ea9e919b",
   "metadata": {},
   "source": [
    "## Fit the model across a range of dimensions"
   ]
  },
  {
   "cell_type": "code",
   "execution_count": 267,
   "id": "0ffeb563",
   "metadata": {},
   "outputs": [
    {
     "name": "stderr",
     "output_type": "stream",
     "text": [
      "01:57:00 - cmdstanpy - INFO - Chain [1] start processing\n"
     ]
    },
    {
     "name": "stderr",
     "output_type": "stream",
     "text": [
      "02:00:19 - cmdstanpy - INFO - Chain [1] done processing\n",
      "02:00:19 - cmdstanpy - WARNING - The default behavior of CmdStanMLE.stan_variable() will change in a future release to always return a numpy.ndarray, even for scalar variables.\n",
      "02:00:19 - cmdstanpy - INFO - Chain [1] start processing\n",
      "02:02:39 - cmdstanpy - INFO - Chain [1] done processing\n",
      "02:02:39 - cmdstanpy - WARNING - The default behavior of CmdStanMLE.stan_variable() will change in a future release to always return a numpy.ndarray, even for scalar variables.\n",
      "02:02:39 - cmdstanpy - INFO - Chain [1] start processing\n",
      "02:02:57 - cmdstanpy - INFO - Chain [1] done processing\n",
      "02:02:57 - cmdstanpy - WARNING - The default behavior of CmdStanMLE.stan_variable() will change in a future release to always return a numpy.ndarray, even for scalar variables.\n",
      "02:02:57 - cmdstanpy - INFO - Chain [1] start processing\n",
      "02:04:08 - cmdstanpy - INFO - Chain [1] done processing\n",
      "02:04:08 - cmdstanpy - WARNING - The default behavior of CmdStanMLE.stan_variable() will change in a future release to always return a numpy.ndarray, even for scalar variables.\n",
      "02:04:08 - cmdstanpy - INFO - Chain [1] start processing\n",
      "02:04:18 - cmdstanpy - INFO - Chain [1] done processing\n",
      "02:04:18 - cmdstanpy - WARNING - The default behavior of CmdStanMLE.stan_variable() will change in a future release to always return a numpy.ndarray, even for scalar variables.\n",
      "02:04:18 - cmdstanpy - INFO - Chain [1] start processing\n",
      "02:04:38 - cmdstanpy - INFO - Chain [1] done processing\n",
      "02:04:38 - cmdstanpy - WARNING - The default behavior of CmdStanMLE.stan_variable() will change in a future release to always return a numpy.ndarray, even for scalar variables.\n",
      "02:04:38 - cmdstanpy - INFO - Chain [1] start processing\n",
      "02:04:52 - cmdstanpy - INFO - Chain [1] done processing\n",
      "02:04:52 - cmdstanpy - WARNING - The default behavior of CmdStanMLE.stan_variable() will change in a future release to always return a numpy.ndarray, even for scalar variables.\n",
      "02:04:52 - cmdstanpy - INFO - Chain [1] start processing\n",
      "02:05:08 - cmdstanpy - INFO - Chain [1] done processing\n",
      "02:05:08 - cmdstanpy - WARNING - The default behavior of CmdStanMLE.stan_variable() will change in a future release to always return a numpy.ndarray, even for scalar variables.\n"
     ]
    }
   ],
   "source": [
    "all_fits = []\n",
    "for d in np.arange(2,10):\n",
    "    dat={'N':110, 'D':d, 'deltaij':distance_matrix_squaredp}\n",
    "    #run optimizer\n",
    "    model = ltz_m.optimize(data=dat, iter=250000, algorithm='LBFGS', tol_rel_grad=1e2)\n",
    "    all_fits.append({'euc':model.euc, 'sig':model.sig, 'lambda':model.stan_variable('lambda'), 't':model.time})\n",
    "\n",
    "\n"
   ]
  },
  {
   "cell_type": "code",
   "execution_count": 268,
   "id": "c6ddd178",
   "metadata": {},
   "outputs": [
    {
     "name": "stderr",
     "output_type": "stream",
     "text": [
      "02:06:22 - cmdstanpy - WARNING - The default behavior of CmdStanMLE.stan_variable() will change in a future release to always return a numpy.ndarray, even for scalar variables.\n"
     ]
    },
    {
     "data": {
      "text/plain": [
       "2.02479"
      ]
     },
     "execution_count": 268,
     "metadata": {},
     "output_type": "execute_result"
    }
   ],
   "source": [
    "model.stan_variable('lambda')"
   ]
  },
  {
   "cell_type": "code",
   "execution_count": 240,
   "id": "1da0065b",
   "metadata": {},
   "outputs": [
    {
     "data": {
      "image/png": "[encoded data removed]",
      "text/plain": [
       "<Figure size 1000x600 with 1 Axes>"
      ]
     },
     "metadata": {},
     "output_type": "display_data"
    }
   ],
   "source": [
    "# Extract lambda values from all_fits for dimensions 2 to 9\n",
    "lambda_values = [fit['lambda'] for fit in all_fits]\n",
    "\n",
    "# Plotting\n",
    "plt.figure(figsize=(10, 6))\n",
    "plt.plot(range(2, 10), lambda_values, marker='o', linestyle='-', color='b')\n",
    "plt.xlabel(\"Dimension\")\n",
    "plt.ylabel(\"Lambda\")\n",
    "plt.title(\"Lambda values across dimensions 2 to 9\")\n",
    "plt.xticks(range(2, 10))  # Set x-axis ticks to reflect the dimensions 2 through 9\n",
    "plt.grid(True)\n",
    "plt.show()"
   ]
  },
  {
   "cell_type": "code",
   "execution_count": null,
   "id": "ec86aaae",
   "metadata": {},
   "outputs": [],
   "source": []
  },
  {
   "cell_type": "code",
   "execution_count": 220,
   "id": "bcfa49bb",
   "metadata": {},
   "outputs": [
    {
     "data": {
      "text/plain": [
       "(50,)"
      ]
     },
     "execution_count": 220,
     "metadata": {},
     "output_type": "execute_result"
    }
   ],
   "source": [
    "all_fits[7]['t']"
   ]
  },
  {
   "cell_type": "code",
   "execution_count": null,
   "id": "09e53bbb",
   "metadata": {},
   "outputs": [],
   "source": [
    "#access the correct iteration \n",
    "iteration = all_fits[6]['t']\n",
    "\n",
    "\n",
    "iteration"
   ]
  },
  {
   "cell_type": "code",
   "execution_count": null,
   "id": "c69f3521",
   "metadata": {},
   "outputs": [],
   "source": [
    "model.time.shape"
   ]
  },
  {
   "cell_type": "code",
   "execution_count": null,
   "id": "cadc132e",
   "metadata": {},
   "outputs": [],
   "source": [
    "#calculate radii based on time parameter\n",
    "radii = np.arccosh(iteration)"
   ]
  },
  {
   "cell_type": "code",
   "execution_count": null,
   "id": "963b2e19",
   "metadata": {},
   "outputs": [],
   "source": [
    "radii"
   ]
  },
  {
   "cell_type": "code",
   "execution_count": null,
   "id": "6d7d5f94",
   "metadata": {},
   "outputs": [],
   "source": [
    "w_1_radii = radii\n",
    "%store w_1_radii"
   ]
  },
  {
   "cell_type": "code",
   "execution_count": null,
   "id": "75c766bc",
   "metadata": {},
   "outputs": [],
   "source": [
    "#DIP analysis of radii\n",
    "dip, pval = diptest.diptest(radii)"
   ]
  },
  {
   "cell_type": "code",
   "execution_count": null,
   "id": "2ac64e08",
   "metadata": {},
   "outputs": [],
   "source": [
    "dip, pval"
   ]
  },
  {
   "cell_type": "code",
   "execution_count": null,
   "id": "31b674d5",
   "metadata": {},
   "outputs": [],
   "source": [
    "all_fits[0]['sig']"
   ]
  },
  {
   "cell_type": "code",
   "execution_count": 22,
   "id": "2793645c",
   "metadata": {},
   "outputs": [],
   "source": [
    "#return negative log likelihood of fit\n",
    "def MDS_lkl(fit, dmat):\n",
    "    lkl = 0;\n",
    "    N = fit['sig'].shape[0]\n",
    "    \n",
    "    sigs = fit['sig']\n",
    "    lam = fit['lambda']\n",
    "    emb_mat = get_embed_dmat(fit)\n",
    "    \n",
    "    for i in np.arange(N):\n",
    "        for j in np.arange(i+1, N):\n",
    "            seff = sigs[i]**2 + sigs[j]**2\n",
    "            lkl += ((dmat[i][j] - emb_mat[i][j]/lam)**2 / (2.0*seff)) + 0.5*np.log(seff*2.0*np.pi)\n",
    "    return lkl\n",
    "\n",
    "#input: optimization fit and distance matrix\n",
    "def BIC(fit, dmat):\n",
    "    N,D = fit['euc'].shape\n",
    "    n = 0.5*N*(N-1)\n",
    "    k = N*D + N + 1.0 - 0.5*D*(D-1)\n",
    "    \n",
    "    return k*np.log(n) + 2.0*MDS_lkl(fit, dmat)"
   ]
  },
  {
   "cell_type": "markdown",
   "id": "e7ccab40",
   "metadata": {},
   "source": [
    "## Bayesian information criteria\n",
    "\n",
    "There is a lot of formal Bayesian Theory behind this (see chapter 2 here https://urldefense.proofpoint.com/v2/url?u=https-3A__www.inference.org.uk_mackay_thesis.pdf&d=DwIGAg&c=-35OiAkTchMrZOngvJPOeA&r=B8GeUuyHfxQP8MseZuhipQ&m=KVww4gh9-XOtp1LqNUc0K-PGXOX3bm2QsokPFlBG9Vs&s=UBtNEdIXatq_zFpG53nmPCLbCnlgIgWigHYhEnBRYyo&e= ), but essentially we are trying to find the minimal number of parameters to describe a dataset. If the data is 5D, we don't want to use 7 parameters to describe it. The BIC is like a cost function that rewards a model that has a better fit to the likelihood function, but penalizes models that increase the number of their parameters. The model which minimizes this function will thus have the ideal trade-off of being able to model the data well without introducing too many parameters and overfitting the data."
   ]
  },
  {
   "cell_type": "code",
   "execution_count": 269,
   "id": "b98c8ecb",
   "metadata": {},
   "outputs": [],
   "source": [
    "array_matrix = distance_matrix_squaredp.to_numpy()"
   ]
  },
  {
   "cell_type": "code",
   "execution_count": 270,
   "id": "f3688551",
   "metadata": {},
   "outputs": [],
   "source": [
    "all_BIC = [BIC(fit, array_matrix) for fit in all_fits]"
   ]
  },
  {
   "cell_type": "code",
   "execution_count": 271,
   "id": "b1160cc0",
   "metadata": {},
   "outputs": [
    {
     "data": {
      "text/plain": [
       "[3519.2175462637124,\n",
       " -3055.4396577804287,\n",
       " -4065.654390824172,\n",
       " -4850.844035656999,\n",
       " -5040.179285982322,\n",
       " -5060.09576204032,\n",
       " -4939.141955703761,\n",
       " -4871.6730717664705]"
      ]
     },
     "execution_count": 271,
     "metadata": {},
     "output_type": "execute_result"
    }
   ],
   "source": [
    "all_BIC"
   ]
  },
  {
   "cell_type": "code",
   "execution_count": 203,
   "id": "c54c7988",
   "metadata": {},
   "outputs": [
    {
     "data": {
      "text/plain": [
       "4"
      ]
     },
     "execution_count": 203,
     "metadata": {},
     "output_type": "execute_result"
    }
   ],
   "source": [
    "min_BIC = (np.argmin(all_BIC)) + 2\n",
    "min_BIC"
   ]
  },
  {
   "cell_type": "code",
   "execution_count": 204,
   "id": "43e0a13f",
   "metadata": {},
   "outputs": [
    {
     "data": {
      "text/plain": [
       "3.74483"
      ]
     },
     "execution_count": 204,
     "metadata": {},
     "output_type": "execute_result"
    }
   ],
   "source": [
    "#lambda extracted for specific dimension\n",
    "optimal_lambda = min_BIC - 2\n",
    "all_fits[optimal_lambda]['lambda']"
   ]
  },
  {
   "cell_type": "code",
   "execution_count": 134,
   "id": "82652ec6",
   "metadata": {},
   "outputs": [
    {
     "data": {
      "text/plain": [
       "4.571428571428571"
      ]
     },
     "execution_count": 134,
     "metadata": {},
     "output_type": "execute_result"
    }
   ],
   "source": [
    "bics= [5, 5, 5, 3, 5, 6, 3]\n",
    "avg_bics = np.average(bics)\n",
    "avg_bics"
   ]
  },
  {
   "cell_type": "markdown",
   "id": "daae8d10",
   "metadata": {},
   "source": [
    "As you can see the BIC is minimized at the true dimension of 5. Any more parameters would have been redundant, any less would not have properly fit the data"
   ]
  },
  {
   "cell_type": "code",
   "execution_count": 272,
   "id": "c3160255",
   "metadata": {},
   "outputs": [
    {
     "data": {
      "text/plain": [
       "Text(0, 0.5, 'BIC')"
      ]
     },
     "execution_count": 272,
     "metadata": {},
     "output_type": "execute_result"
    },
    {
     "data": {
      "image/png": "[encoded data removed]",
      "text/plain": [
       "<Figure size 750x750 with 1 Axes>"
      ]
     },
     "metadata": {},
     "output_type": "display_data"
    }
   ],
   "source": [
    "fig, ax = plt.subplots(figsize=(7.5,7.5))\n",
    "\n",
    "ax.scatter(np.arange(2,10), all_BIC, c = '#8dd3c7', edgecolor = 'black', s = 200) #cornflowerblue, lightcoral\n",
    "ax.set_xlabel('Dimension', fontsize=20)\n",
    "ax.tick_params(axis='both', which='major', labelsize=15)\n",
    "ax.set_ylabel('BIC', fontsize=20)\n",
    "\n",
    "# plt.savefig('/Users/iuliarusu/Documents/Sharpee/final_images/figure2/buffer_bic.svg', format='svg', bbox_inches='tight')"
   ]
  },
  {
   "cell_type": "markdown",
   "id": "ce171280",
   "metadata": {},
   "source": [
    "# Re-Running the optimizer\n",
    "Lets start by generating some 2D data"
   ]
  },
  {
   "cell_type": "markdown",
   "id": "66b6d256",
   "metadata": {},
   "source": [
    "What is the purpose of re-running?"
   ]
  },
  {
   "cell_type": "code",
   "execution_count": null,
   "id": "6159dca9",
   "metadata": {},
   "outputs": [],
   "source": [
    "#generate 100 data points uniformly distributed in 5 dimensional hyperbolic space of radius R=4\n",
    "dim=2; R=4.0;\n",
    "n=100\n",
    "dirs = stats.norm.rvs(size=(n, dim))\n",
    "dirs = (dirs.T/np.sqrt(np.sum(np.square(dirs), axis=1))).T\n",
    "U = stats.uniform.rvs(size=n)\n",
    "rs_p = np.tanh(np.log((1-np.exp(-R))/np.exp(-R)*(U) + 1.0)/2.0)\n",
    "p_coords = rs_p.reshape(-1,1)*dirs\n",
    "\n",
    "#add noise to the computed distance matrix to simulate a more realistic dataset\n",
    "mat_2D = get_dmat(p_coords) + 0.05*R*stats.norm.rvs(size=(n,n))\n",
    "for i in np.arange(n):\n",
    "    for j in np.arange(i+1, n):\n",
    "        mat_2D[j][i] = mat_2D[i][j]\n",
    "mat_2D = 2.0*mat_2D/np.max(mat_2D)"
   ]
  },
  {
   "cell_type": "code",
   "execution_count": null,
   "id": "9f65f1d2",
   "metadata": {},
   "outputs": [],
   "source": [
    "#dictionary to specify input to simulation\n",
    "dat={'N':76, 'D':6, 'deltaij':distance_matrix_squaredp}\n",
    "#run optimizer\n",
    "model2D = ltz_m.optimize(data=dat, iter=250000, algorithm='LBFGS', tol_rel_grad=1e2)\n",
    "hyp_emb2D = {'euc':model2D.euc, 'sig':model2D.sig, 'lambda':model2D.stan_variable('lambda')}"
   ]
  },
  {
   "cell_type": "code",
   "execution_count": null,
   "id": "546b43c3",
   "metadata": {},
   "outputs": [],
   "source": [
    "process_sim(hyp_emb2D)"
   ]
  },
  {
   "cell_type": "markdown",
   "id": "77ed16b6",
   "metadata": {},
   "source": [
    "#### Most pts are well fit, but a few are poorly fit (the ones with high sigma) which adds a lot of scatter to the shepard diagram\n",
    "#### The optimizer got caught in a false minimum"
   ]
  },
  {
   "cell_type": "code",
   "execution_count": null,
   "id": "4bddb3f4",
   "metadata": {},
   "outputs": [],
   "source": [
    "#can't find 'emb_mat' parameter \n",
    "hyp_emb2D.keys()"
   ]
  },
  {
   "cell_type": "code",
   "execution_count": null,
   "id": "bb8c2124",
   "metadata": {},
   "outputs": [],
   "source": [
    "fig, ax = plt.subplots(1, 2, figsize=(15,7.5))\n",
    "\n",
    "ax[0].scatter(distance_matrix_squaredp[np.triu_indices(76, k=1)], hyp_emb2D['sig'][np.triu_indices(76, k=1)])\n",
    "ax[0].plot(np.arange(3), np.arange(3), c='black', linewidth=5, alpha=0.5)\n",
    "\n",
    "ax[0].set_xlabel('Original Distances', fontsize=20)\n",
    "ax[0].set_ylabel('Embedding Distances / $\\lambda$', fontsize=20)\n",
    "\n",
    "ax[1].hist(hyp_emb2D['sig'])\n",
    "ax[1].set_xlabel('Embedding Uncertainties', fontsize=20)"
   ]
  },
  {
   "cell_type": "markdown",
   "id": "23edc498",
   "metadata": {},
   "source": [
    "### Strategy: randomize the positions of the poorly fit points, and then return the coordinates as the initial conditions to continue optimizing. This bumps the simulation out of the false minimium without destroying all of the work its already done"
   ]
  },
  {
   "cell_type": "code",
   "execution_count": null,
   "id": "e47006a6",
   "metadata": {},
   "outputs": [],
   "source": [
    "#figure out which pts have high uncertainty, and randomize their coordinates without touching the rest of the points\n",
    "N_refit = np.where(hyp_emb2D['sig'] > 0.3)[0].shape[0]\n",
    "hyp_emb2D['euc'][np.where(hyp_emb2D['sig'] > 0.3)] = stats.norm.rvs(size=(N_refit,2))"
   ]
  },
  {
   "cell_type": "code",
   "execution_count": null,
   "id": "44aa4765",
   "metadata": {},
   "outputs": [],
   "source": [
    "#re-reun the optimizer, but this time sepcify the initial condition by passing the previous simulation dictionary\n",
    "dat={'N':100, 'D':2, 'deltaij':mat_2D}\n",
    "model2D = ltz_m.optimize(data=dat, iter=250000, algorithm='LBFGS', tol_rel_grad=1e2,inits = hyp_emb2D)\n",
    "hyp_emb2D = {'euc':model2D.euc, 'sig':model2D.sig, 'lambda':model2D.stan_variable('lambda')}\n",
    "# tst_2D = ltz_m.optimizing(data=dat, iter=250000, tol_rel_grad=1e2, init=tst_2D)"
   ]
  },
  {
   "cell_type": "code",
   "execution_count": null,
   "id": "4dc911c9",
   "metadata": {},
   "outputs": [],
   "source": [
    "process_sim(hyp_emb2D)"
   ]
  },
  {
   "cell_type": "markdown",
   "id": "b28b534e",
   "metadata": {},
   "source": [
    "### We see that the fit is significantly better, although there are still a few poorly fit points. We could keep iterating the above process until all points are well fit."
   ]
  },
  {
   "cell_type": "code",
   "execution_count": null,
   "id": "9f3fa17a",
   "metadata": {},
   "outputs": [],
   "source": [
    "fig, ax = plt.subplots(1, 2, figsize=(15,7.5))\n",
    "\n",
    "ax[0].scatter(mat_2D[np.triu_indices(100, k=1)], hyp_emb2D['emb_mat'][np.triu_indices(100, k=1)])\n",
    "ax[0].plot(np.arange(3), np.arange(3), c='black', linewidth=5, alpha=0.5)\n",
    "\n",
    "ax[0].set_xlabel('Original Distances', fontsize=20)\n",
    "ax[0].set_ylabel('Embedding Distances / $\\lambda$', fontsize=20)\n",
    "\n",
    "ax[1].hist(hyp_emb2D['sig'])\n",
    "ax[1].set_xlabel('Embedding Uncertainties', fontsize=20)"
   ]
  }
 ],
 "metadata": {
  "kernelspec": {
   "display_name": "HMDS",
   "language": "python",
   "name": "python3"
  },
  "language_info": {
   "codemirror_mode": {
    "name": "ipython",
    "version": 3
   },
   "file_extension": ".py",
   "mimetype": "text/x-python",
   "name": "python",
   "nbconvert_exporter": "python",
   "pygments_lexer": "ipython3",
   "version": "3.10.14"
  }
 },
 "nbformat": 4,
 "nbformat_minor": 5
}
