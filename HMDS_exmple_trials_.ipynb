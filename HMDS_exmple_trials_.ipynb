{
 "cells": [
  {
   "cell_type": "code",
   "execution_count": 12,
   "id": "dbb521f1",
   "metadata": {},
   "outputs": [],
   "source": [
    "'''\n",
    "Method developed by Anoop Praturu: https://www.biorxiv.org/content/10.1101/2022.10.12.511940v1\n",
    "Code from Anoop Praturu on Oct 2021\n",
    "Move from pystan to cmdstanpy based on suggestions by Milo Julis\n",
    "Edited by Mingchen Yao on May 26 2023\n",
    "'''\n",
    "\n",
    "import numpy as np\n",
    "import diptest  \n",
    "import matplotlib.pyplot as plt\n",
    "import cmdstanpy as stan\n",
    "import scipy.stats as stats\n",
    "import pickle\n",
    "import seaborn as sns\n",
    "%matplotlib inline\n",
    "\n",
    "import pandas as pd\n",
    "\n",
    "import plotly.express as px\n",
    "from matplotlib import rcParams"
   ]
  },
  {
   "cell_type": "code",
   "execution_count": null,
   "id": "73e1d8b7",
   "metadata": {},
   "outputs": [],
   "source": [
    "# # if there is anything wrong with comstan: re-install it. Otherwise don't run this cell\n",
    "# from cmdstanpy import install_cmdstan\n",
    "# install_cmdstan(overwrite = True)"
   ]
  },
  {
   "cell_type": "code",
   "execution_count": 17,
   "id": "e6c280a4",
   "metadata": {},
   "outputs": [
    {
     "name": "stdout",
     "output_type": "stream",
     "text": [
      "Python 3.10.14\n"
     ]
    }
   ],
   "source": [
    "!python --version"
   ]
  },
  {
   "cell_type": "markdown",
   "id": "93f95b0f",
   "metadata": {},
   "source": [
    "# Functions for Generating Synthetic Data"
   ]
  },
  {
   "cell_type": "code",
   "execution_count": 13,
   "id": "f16c0781",
   "metadata": {},
   "outputs": [],
   "source": [
    "#returns hyperbolic distance between vectors in poincare ball\n",
    "def poincare_dist(v1, v2):\n",
    "    sq = np.sum(np.square(v1-v2))\n",
    "    r1 = np.sum(np.square(v1))\n",
    "    r2 = np.sum(np.square(v2))\n",
    "    inv = 2.0*sq/((1.0-r1)*(1.0-r2))\n",
    "    return np.arccosh(1.0 + inv)\n",
    "\n",
    "#return NxN symmetric distance matrix from poincare coordinates\n",
    "def get_dmat(p_coords):\n",
    "    N = p_coords.shape[0]\n",
    "    dists = np.zeros((N, N))\n",
    "    \n",
    "    for i in np.arange(N):\n",
    "        for j in np.arange(i+1, N):\n",
    "            dists[i][j] = poincare_dist(p_coords[i], p_coords[j])\n",
    "            dists[j][i] = dists[i][j]\n",
    "    return dists"
   ]
  },
  {
   "cell_type": "code",
   "execution_count": 19,
   "id": "f942b036",
   "metadata": {},
   "outputs": [],
   "source": [
    "#generate 100 data points uniformly distributed in 5 dimensional hyperbolic space of radius R=4\n",
    "dim=5; R=4.0;\n",
    "n=100\n",
    "dirs = stats.norm.rvs(size=(n, dim))\n",
    "dirs = (dirs.T/np.sqrt(np.sum(np.square(dirs), axis=1))).T\n",
    "U = stats.uniform.rvs(size=n)\n",
    "rs_p = np.tanh(np.log((1-np.exp(-R))/np.exp(-R)*(U) + 1.0)/2.0)\n",
    "p_coords = rs_p.reshape(-1,1)*dirs\n",
    "\n",
    "#add noise to the computed distance matrix to simulate a more realistic dataset\n",
    "mat_dim = get_dmat(p_coords) + 0.05*R*stats.norm.rvs(size=(n,n))\n",
    "for i in np.arange(n):\n",
    "    for j in np.arange(i+1, n):\n",
    "        mat_dim[j][i] = mat_dim[i][j]\n",
    "mat_dim = 2.0*mat_dim/np.max(mat_dim)"
   ]
  },
  {
   "cell_type": "markdown",
   "id": "abf7bb38",
   "metadata": {},
   "source": [
    "# Code for fitting Bayesian Model"
   ]
  },
  {
   "cell_type": "code",
   "execution_count": 14,
   "id": "0a7b4752",
   "metadata": {},
   "outputs": [],
   "source": [
    "path = '/Users/iuliarusu/Documents/Sharpee/HMDS-example/model/'\n",
    "ltz_m = stan.CmdStanModel(stan_file=path+'lorentz.stan')"
   ]
  },
  {
   "cell_type": "markdown",
   "id": "4ea2a559",
   "metadata": {},
   "source": [
    "## Run the optimizer given the synthetically generated Data set"
   ]
  },
  {
   "cell_type": "code",
   "execution_count": 15,
   "id": "905f2220",
   "metadata": {},
   "outputs": [],
   "source": [
    "#import data, compute distance matrix \n",
    "\n",
    "# bacteria = np.load('/Users/iuliarusu/Documents/Sharpee/ProcAiryData/Yfull_op50_SF.npz')\n",
    "# bacteria_arr_0= bacteria['arr_1']\n",
    "# bacteria_0_df = pd.DataFrame(bacteria_arr_0)\n",
    "%store -r stim_1_AVA_RME\n",
    "\n",
    "#move index columns, and reset index so code for BIC runs\n",
    "stim_1_AVA_RME = stim_1_AVA_RME.reset_index().rename(columns={'index': 'OriginalIndex'})\n",
    "columns = list(stim_1_AVA_RME.columns.drop('OriginalIndex')) + ['OriginalIndex']\n",
    "stim_1_AVA_RME = stim_1_AVA_RME[columns]\n",
    "\n",
    "\n",
    "#perform correlation\n",
    "corr_matrix = stim_1_AVA_RME.iloc[: , 0 : -3].T.corr()\n",
    "distance_matrix = 1 - corr_matrix\n",
    "distance_matrix_squaredp = (1 - corr_matrix**2) * 2"
   ]
  },
  {
   "cell_type": "code",
   "execution_count": 16,
   "id": "2eee4d23",
   "metadata": {},
   "outputs": [
    {
     "data": {
      "text/plain": [
       "(58, 1603)"
      ]
     },
     "execution_count": 16,
     "metadata": {},
     "output_type": "execute_result"
    }
   ],
   "source": [
    "stim_1_AVA_RME.shape"
   ]
  },
  {
   "cell_type": "code",
   "execution_count": 17,
   "id": "4b34c4e4",
   "metadata": {},
   "outputs": [],
   "source": [
    "stim_1_AVA_RME_labels = stim_1_AVA_RME.iloc[:, -3:]"
   ]
  },
  {
   "cell_type": "code",
   "execution_count": 18,
   "id": "10b9c858",
   "metadata": {},
   "outputs": [
    {
     "name": "stdout",
     "output_type": "stream",
     "text": [
      "Stored 'stim_1_AVA_RME_labels' (DataFrame)\n"
     ]
    }
   ],
   "source": [
    "%store stim_1_AVA_RME_labels"
   ]
  },
  {
   "cell_type": "code",
   "execution_count": null,
   "id": "dc016a27",
   "metadata": {},
   "outputs": [],
   "source": [
    "# bacteria = np.load('/Users/iuliarusu/Documents/Sharpee/ProcAiryData/Yfull_op50_SF.npz')\n",
    "# bacteria_arr_0= bacteria['arr_1']\n",
    "# bacteria_arr_0.shape"
   ]
  },
  {
   "cell_type": "code",
   "execution_count": 8,
   "id": "fc8e0c0c",
   "metadata": {},
   "outputs": [
    {
     "data": {
      "text/plain": [
       "(58, 58)"
      ]
     },
     "execution_count": 8,
     "metadata": {},
     "output_type": "execute_result"
    }
   ],
   "source": [
    "distance_matrix_squaredp.shape"
   ]
  },
  {
   "cell_type": "code",
   "execution_count": 19,
   "id": "8db4cafc",
   "metadata": {},
   "outputs": [
    {
     "name": "stderr",
     "output_type": "stream",
     "text": [
      "10:36:27 - cmdstanpy - INFO - Chain [1] start processing\n",
      "10:36:31 - cmdstanpy - INFO - Chain [1] done processing\n"
     ]
    }
   ],
   "source": [
    "#dictionary to specify input to simulation\n",
    "\n",
    "# dat={'N':100, 'D':5, 'deltaij':mat_dim}\n",
    "dat = {'N': 58 , 'D': 3 , 'deltaij': distance_matrix_squaredp}\n",
    "#run optimizer\n",
    "model = ltz_m.optimize(data=dat, iter=250000, algorithm='LBFGS', tol_rel_grad=1e2)"
   ]
  },
  {
   "cell_type": "code",
   "execution_count": 20,
   "id": "a880a1ed",
   "metadata": {},
   "outputs": [
    {
     "name": "stderr",
     "output_type": "stream",
     "text": [
      "10:36:33 - cmdstanpy - WARNING - The default behavior of CmdStanMLE.stan_variable() will change in a future release to always return a numpy.ndarray, even for scalar variables.\n"
     ]
    }
   ],
   "source": [
    "# build result \n",
    "hyp_emb = {'euc':model.euc, 'sig':model.sig, 'lambda':model.stan_variable('lambda')}\n",
    "\n",
    "# # and save\n",
    "# fdname = './emb5d.pickle'\n",
    "# with open(fdname,'wb') as file:\n",
    "#     pickle.dump(hyp_emb, file,  protocol=pickle.HIGHEST_PROTOCOL)"
   ]
  },
  {
   "cell_type": "code",
   "execution_count": null,
   "id": "d4ef1297",
   "metadata": {},
   "outputs": [],
   "source": [
    "# # load existing results\n",
    "# fdname = './emb5d.pickle'\n",
    "# with open(fdname, 'rb') as file:\n",
    "#     hyp_emb = pickle.load(file)"
   ]
  },
  {
   "cell_type": "markdown",
   "id": "0f4a4cf9",
   "metadata": {},
   "source": [
    "## Some utility functions for post-processing the simulation output"
   ]
  },
  {
   "cell_type": "code",
   "execution_count": 21,
   "id": "1f033e62",
   "metadata": {},
   "outputs": [],
   "source": [
    "def d_lor(t1, t2, E1, E2):\n",
    "    return np.arccosh(t1*t2 - np.dot(E1, E2))\n",
    "\n",
    "#returns embedding distance matrix from optimization fit\n",
    "def get_embed_dmat(fit):\n",
    "    N = fit['euc'].shape[0]\n",
    "    fit_ts = np.sqrt(1.0 + np.sum(np.square(fit['euc']), axis=1))\n",
    "\n",
    "    fit_mat = np.zeros((N, N))\n",
    "\n",
    "    for i in np.arange(N):\n",
    "        for j in np.arange(i+1,N):\n",
    "            fit_mat[i][j] = d_lor(fit_ts[i], fit_ts[j], fit['euc'][i], fit['euc'][j])\n",
    "            fit_mat[j][i] = fit_mat[i][j]\n",
    "            \n",
    "    return fit_mat\n",
    "\n",
    "#return poincare coordinates\n",
    "def get_poin(fit):\n",
    "    ts = np.sqrt(1.0 + np.sum(np.square(fit['euc']), axis=1))\n",
    "    return (fit['euc'].T / (ts + 1)).T"
   ]
  },
  {
   "cell_type": "code",
   "execution_count": 22,
   "id": "dac6394d",
   "metadata": {},
   "outputs": [],
   "source": [
    "def process_sim(fit):\n",
    "    fit['emb_mat'] = get_embed_dmat(fit)/fit['lambda']\n",
    "    fit['pcoords'] = get_poin(fit)\n",
    "    fit['radii'] = 2.0*np.arctanh(np.sqrt(np.sum(np.square(fit['pcoords']), axis=1)))"
   ]
  },
  {
   "cell_type": "code",
   "execution_count": 23,
   "id": "d651f3ad",
   "metadata": {},
   "outputs": [],
   "source": [
    "#run this function after running the optimizer to process the output data into more usable forms\n",
    "process_sim(hyp_emb)"
   ]
  },
  {
   "cell_type": "code",
   "execution_count": 24,
   "id": "8d3b4c66",
   "metadata": {},
   "outputs": [
    {
     "data": {
      "text/plain": [
       "3.81743"
      ]
     },
     "execution_count": 24,
     "metadata": {},
     "output_type": "execute_result"
    }
   ],
   "source": [
    "#curvature (or radius)\n",
    "hyp_emb['lambda']"
   ]
  },
  {
   "cell_type": "code",
   "execution_count": 25,
   "id": "fa441edb",
   "metadata": {},
   "outputs": [
    {
     "data": {
      "text/plain": [
       "(58, 3)"
      ]
     },
     "execution_count": 25,
     "metadata": {},
     "output_type": "execute_result"
    }
   ],
   "source": [
    "#poincare embedding coordinates\n",
    "hyp_emb['pcoords'].shape"
   ]
  },
  {
   "cell_type": "code",
   "execution_count": 26,
   "id": "e0b8162b",
   "metadata": {},
   "outputs": [
    {
     "data": {
      "text/plain": [
       "array([0.0424945, 0.0633995, 0.0434523, 0.0348256, 0.0420663, 0.0960235,\n",
       "       0.120816 , 0.0359435, 0.0339098, 0.0367737, 0.089159 , 0.0419275,\n",
       "       0.0381432, 0.0547265, 0.0338875, 0.141821 , 0.0879426, 0.164345 ,\n",
       "       0.0375148, 0.0506822, 0.0483539, 0.0475091, 0.069567 , 0.0427947,\n",
       "       0.0349846, 0.0327413, 0.0730731, 0.0686004, 0.0715101, 0.0370559,\n",
       "       0.0575201, 0.125158 , 0.0484605, 0.120726 , 0.120971 , 0.0523331,\n",
       "       0.0383202, 0.0411328, 0.0339502, 0.0400894, 0.03579  , 0.0464844,\n",
       "       0.0308363, 0.0334937, 0.0418862, 0.0343562, 0.0331756, 0.0330153,\n",
       "       0.0424009, 0.0389847, 0.0324175, 0.338592 , 0.217019 , 0.281253 ,\n",
       "       0.264682 , 0.0344262, 0.0327319, 0.0450355])"
      ]
     },
     "execution_count": 26,
     "metadata": {},
     "output_type": "execute_result"
    }
   ],
   "source": [
    "#emebdding uncertainties\n",
    "hyp_emb['sig']"
   ]
  },
  {
   "cell_type": "code",
   "execution_count": 35,
   "id": "6f13c519",
   "metadata": {},
   "outputs": [
    {
     "name": "stdout",
     "output_type": "stream",
     "text": [
      "Stored 'pcoords_AVA_RME_stim1' (ndarray)\n"
     ]
    }
   ],
   "source": [
    "#store hyperbolic matrix data\n",
    "pcoords_AVA_RME_stim1 = hyp_emb['pcoords']\n",
    "%store pcoords_AVA_RME_stim1 "
   ]
  },
  {
   "cell_type": "markdown",
   "id": "ffa4a0f2",
   "metadata": {},
   "source": [
    "# Shepard Diagram"
   ]
  },
  {
   "cell_type": "code",
   "execution_count": 36,
   "id": "b68aec1a",
   "metadata": {},
   "outputs": [],
   "source": [
    "rcParams['font.family'] = 'sans-serif'\n",
    "rcParams['font.sans-serif'] = 'Arial'"
   ]
  },
  {
   "cell_type": "code",
   "execution_count": 27,
   "id": "c3ed0ead",
   "metadata": {},
   "outputs": [
    {
     "data": {
      "text/plain": [
       "Text(0.5, 0, 'Embedding Uncertainties')"
      ]
     },
     "execution_count": 27,
     "metadata": {},
     "output_type": "execute_result"
    },
    {
     "data": {
      "image/png": "[encoded data removed]",
      "text/plain": [
       "<Figure size 1500x750 with 2 Axes>"
      ]
     },
     "metadata": {},
     "output_type": "display_data"
    }
   ],
   "source": [
    "fig, ax = plt.subplots(1, 2, figsize=(15,7.5))\n",
    "\n",
    "ax[0].scatter(distance_matrix_squaredp.values[np.triu_indices(58, k=1)], hyp_emb['emb_mat'][np.triu_indices(58, k=1)], c='lightcoral') #cornflowerblue, lightcoral\n",
    "ax[0].plot(np.arange(3), np.arange(3), c='black', linewidth=5, alpha=0.5)\n",
    "\n",
    "ax[0].set_xlabel('Original Distances', fontsize=20)\n",
    "ax[0].set_ylabel('Embedding Distances / $\\lambda$', fontsize=20)\n",
    "\n",
    "ax[1].hist(hyp_emb['sig'], color ='lightcoral') #cornflowerblue, lightcoral\n",
    "ax[1].set_xlabel('Embedding Uncertainties', fontsize=20)"
   ]
  },
  {
   "cell_type": "code",
   "execution_count": 28,
   "id": "7ea16b78",
   "metadata": {},
   "outputs": [],
   "source": [
    "hyperbolic_df= pd.DataFrame(hyp_emb['pcoords'], columns=['x', 'y', 'z'])\n",
    "\n"
   ]
  },
  {
   "cell_type": "code",
   "execution_count": 29,
   "id": "2bfa717b",
   "metadata": {},
   "outputs": [],
   "source": [
    "%store -r clust_labs_AVA_RME_stim1\n"
   ]
  },
  {
   "cell_type": "code",
   "execution_count": 30,
   "id": "879cee76",
   "metadata": {},
   "outputs": [],
   "source": [
    "clust_labs_AVA_RME_stim1 = np.array(clust_labs_AVA_RME_stim1)"
   ]
  },
  {
   "cell_type": "code",
   "execution_count": 31,
   "id": "befaad8c",
   "metadata": {},
   "outputs": [],
   "source": [
    "clust_labs_AVA_RME_stim1 = clust_labs_AVA_RME_stim1[:, np.newaxis]\n"
   ]
  },
  {
   "cell_type": "code",
   "execution_count": 32,
   "id": "9f7be375",
   "metadata": {},
   "outputs": [
    {
     "data": {
      "text/plain": [
       "array([['RME'],\n",
       "       ['RME'],\n",
       "       ['RME'],\n",
       "       ['RME'],\n",
       "       ['RME'],\n",
       "       ['RME'],\n",
       "       ['RME'],\n",
       "       ['RME'],\n",
       "       ['RME'],\n",
       "       ['RME'],\n",
       "       ['RME'],\n",
       "       ['AVA'],\n",
       "       ['AVA'],\n",
       "       ['AVA'],\n",
       "       ['AVA'],\n",
       "       ['AVA'],\n",
       "       ['AVA'],\n",
       "       ['AVA'],\n",
       "       ['AVA'],\n",
       "       ['AVA'],\n",
       "       ['AVA'],\n",
       "       ['AVA'],\n",
       "       ['AVA'],\n",
       "       ['RME'],\n",
       "       ['RME'],\n",
       "       ['RME'],\n",
       "       ['RME'],\n",
       "       ['RME'],\n",
       "       ['RME'],\n",
       "       ['RME'],\n",
       "       ['RME'],\n",
       "       ['RME'],\n",
       "       ['RME'],\n",
       "       ['RME'],\n",
       "       ['RME'],\n",
       "       ['AVA'],\n",
       "       ['AVA'],\n",
       "       ['AVA'],\n",
       "       ['AVA'],\n",
       "       ['AVA'],\n",
       "       ['RME'],\n",
       "       ['RME'],\n",
       "       ['RME'],\n",
       "       ['RME'],\n",
       "       ['AVA'],\n",
       "       ['AVA'],\n",
       "       ['AVA'],\n",
       "       ['AVA'],\n",
       "       ['AVA'],\n",
       "       ['AVA'],\n",
       "       ['AVA'],\n",
       "       ['RME'],\n",
       "       ['RME'],\n",
       "       ['RME'],\n",
       "       ['RME'],\n",
       "       ['AVA'],\n",
       "       ['AVA'],\n",
       "       ['AVA']], dtype='<U3')"
      ]
     },
     "execution_count": 32,
     "metadata": {},
     "output_type": "execute_result"
    }
   ],
   "source": [
    "clust_labs_AVA_RME_stim1"
   ]
  },
  {
   "cell_type": "code",
   "execution_count": 33,
   "id": "f5a19912",
   "metadata": {},
   "outputs": [],
   "source": [
    "hyperbolic_df['clusters'] = clust_labs_AVA_RME_stim1"
   ]
  },
  {
   "cell_type": "code",
   "execution_count": 34,
   "id": "47e8571c",
   "metadata": {},
   "outputs": [
    {
     "data": {
      "text/html": [
       "<div>\n",
       "<style scoped>\n",
       "    .dataframe tbody tr th:only-of-type {\n",
       "        vertical-align: middle;\n",
       "    }\n",
       "\n",
       "    .dataframe tbody tr th {\n",
       "        vertical-align: top;\n",
       "    }\n",
       "\n",
       "    .dataframe thead th {\n",
       "        text-align: right;\n",
       "    }\n",
       "</style>\n",
       "<table border=\"1\" class=\"dataframe\">\n",
       "  <thead>\n",
       "    <tr style=\"text-align: right;\">\n",
       "      <th></th>\n",
       "      <th>x</th>\n",
       "      <th>y</th>\n",
       "      <th>z</th>\n",
       "      <th>clusters</th>\n",
       "    </tr>\n",
       "  </thead>\n",
       "  <tbody>\n",
       "    <tr>\n",
       "      <th>0</th>\n",
       "      <td>0.235535</td>\n",
       "      <td>-0.712744</td>\n",
       "      <td>0.589421</td>\n",
       "      <td>RME</td>\n",
       "    </tr>\n",
       "    <tr>\n",
       "      <th>1</th>\n",
       "      <td>0.208975</td>\n",
       "      <td>-0.767925</td>\n",
       "      <td>0.526192</td>\n",
       "      <td>RME</td>\n",
       "    </tr>\n",
       "    <tr>\n",
       "      <th>2</th>\n",
       "      <td>0.291998</td>\n",
       "      <td>-0.669814</td>\n",
       "      <td>0.612439</td>\n",
       "      <td>RME</td>\n",
       "    </tr>\n",
       "    <tr>\n",
       "      <th>3</th>\n",
       "      <td>0.357153</td>\n",
       "      <td>-0.739968</td>\n",
       "      <td>0.493124</td>\n",
       "      <td>RME</td>\n",
       "    </tr>\n",
       "    <tr>\n",
       "      <th>4</th>\n",
       "      <td>0.278304</td>\n",
       "      <td>-0.675583</td>\n",
       "      <td>0.612221</td>\n",
       "      <td>RME</td>\n",
       "    </tr>\n",
       "    <tr>\n",
       "      <th>5</th>\n",
       "      <td>0.103625</td>\n",
       "      <td>-0.884813</td>\n",
       "      <td>0.355345</td>\n",
       "      <td>RME</td>\n",
       "    </tr>\n",
       "    <tr>\n",
       "      <th>6</th>\n",
       "      <td>0.180624</td>\n",
       "      <td>-0.870899</td>\n",
       "      <td>0.363942</td>\n",
       "      <td>RME</td>\n",
       "    </tr>\n",
       "    <tr>\n",
       "      <th>7</th>\n",
       "      <td>0.297530</td>\n",
       "      <td>-0.716054</td>\n",
       "      <td>0.558931</td>\n",
       "      <td>RME</td>\n",
       "    </tr>\n",
       "    <tr>\n",
       "      <th>8</th>\n",
       "      <td>0.350773</td>\n",
       "      <td>-0.739884</td>\n",
       "      <td>0.496377</td>\n",
       "      <td>RME</td>\n",
       "    </tr>\n",
       "    <tr>\n",
       "      <th>9</th>\n",
       "      <td>0.246078</td>\n",
       "      <td>-0.757072</td>\n",
       "      <td>0.531374</td>\n",
       "      <td>RME</td>\n",
       "    </tr>\n",
       "    <tr>\n",
       "      <th>10</th>\n",
       "      <td>0.132309</td>\n",
       "      <td>-0.705817</td>\n",
       "      <td>0.631807</td>\n",
       "      <td>RME</td>\n",
       "    </tr>\n",
       "    <tr>\n",
       "      <th>11</th>\n",
       "      <td>0.408601</td>\n",
       "      <td>-0.681418</td>\n",
       "      <td>0.532032</td>\n",
       "      <td>AVA</td>\n",
       "    </tr>\n",
       "    <tr>\n",
       "      <th>12</th>\n",
       "      <td>0.500685</td>\n",
       "      <td>-0.569437</td>\n",
       "      <td>0.583346</td>\n",
       "      <td>AVA</td>\n",
       "    </tr>\n",
       "    <tr>\n",
       "      <th>13</th>\n",
       "      <td>0.427090</td>\n",
       "      <td>-0.471068</td>\n",
       "      <td>0.718718</td>\n",
       "      <td>AVA</td>\n",
       "    </tr>\n",
       "    <tr>\n",
       "      <th>14</th>\n",
       "      <td>0.481421</td>\n",
       "      <td>-0.627723</td>\n",
       "      <td>0.538166</td>\n",
       "      <td>AVA</td>\n",
       "    </tr>\n",
       "    <tr>\n",
       "      <th>15</th>\n",
       "      <td>0.378796</td>\n",
       "      <td>-0.845471</td>\n",
       "      <td>0.260917</td>\n",
       "      <td>AVA</td>\n",
       "    </tr>\n",
       "    <tr>\n",
       "      <th>16</th>\n",
       "      <td>0.459840</td>\n",
       "      <td>-0.698682</td>\n",
       "      <td>0.458920</td>\n",
       "      <td>AVA</td>\n",
       "    </tr>\n",
       "    <tr>\n",
       "      <th>17</th>\n",
       "      <td>0.087691</td>\n",
       "      <td>-0.773798</td>\n",
       "      <td>0.553726</td>\n",
       "      <td>AVA</td>\n",
       "    </tr>\n",
       "    <tr>\n",
       "      <th>18</th>\n",
       "      <td>0.490548</td>\n",
       "      <td>-0.639933</td>\n",
       "      <td>0.516268</td>\n",
       "      <td>AVA</td>\n",
       "    </tr>\n",
       "    <tr>\n",
       "      <th>19</th>\n",
       "      <td>0.391192</td>\n",
       "      <td>-0.677540</td>\n",
       "      <td>0.543505</td>\n",
       "      <td>AVA</td>\n",
       "    </tr>\n",
       "    <tr>\n",
       "      <th>20</th>\n",
       "      <td>0.474981</td>\n",
       "      <td>-0.587510</td>\n",
       "      <td>0.584213</td>\n",
       "      <td>AVA</td>\n",
       "    </tr>\n",
       "    <tr>\n",
       "      <th>21</th>\n",
       "      <td>0.371820</td>\n",
       "      <td>-0.587556</td>\n",
       "      <td>0.663382</td>\n",
       "      <td>AVA</td>\n",
       "    </tr>\n",
       "    <tr>\n",
       "      <th>22</th>\n",
       "      <td>0.414960</td>\n",
       "      <td>-0.608642</td>\n",
       "      <td>0.608050</td>\n",
       "      <td>AVA</td>\n",
       "    </tr>\n",
       "    <tr>\n",
       "      <th>23</th>\n",
       "      <td>0.540631</td>\n",
       "      <td>0.378811</td>\n",
       "      <td>-0.696717</td>\n",
       "      <td>RME</td>\n",
       "    </tr>\n",
       "    <tr>\n",
       "      <th>24</th>\n",
       "      <td>0.394401</td>\n",
       "      <td>0.343635</td>\n",
       "      <td>-0.803711</td>\n",
       "      <td>RME</td>\n",
       "    </tr>\n",
       "    <tr>\n",
       "      <th>25</th>\n",
       "      <td>0.409789</td>\n",
       "      <td>0.372113</td>\n",
       "      <td>-0.783902</td>\n",
       "      <td>RME</td>\n",
       "    </tr>\n",
       "    <tr>\n",
       "      <th>26</th>\n",
       "      <td>0.696708</td>\n",
       "      <td>0.296576</td>\n",
       "      <td>-0.584028</td>\n",
       "      <td>RME</td>\n",
       "    </tr>\n",
       "    <tr>\n",
       "      <th>27</th>\n",
       "      <td>0.283604</td>\n",
       "      <td>0.157275</td>\n",
       "      <td>-0.906637</td>\n",
       "      <td>RME</td>\n",
       "    </tr>\n",
       "    <tr>\n",
       "      <th>28</th>\n",
       "      <td>0.615187</td>\n",
       "      <td>0.357133</td>\n",
       "      <td>-0.631879</td>\n",
       "      <td>RME</td>\n",
       "    </tr>\n",
       "    <tr>\n",
       "      <th>29</th>\n",
       "      <td>0.433653</td>\n",
       "      <td>0.359753</td>\n",
       "      <td>-0.771966</td>\n",
       "      <td>RME</td>\n",
       "    </tr>\n",
       "    <tr>\n",
       "      <th>30</th>\n",
       "      <td>0.415859</td>\n",
       "      <td>0.454379</td>\n",
       "      <td>-0.733882</td>\n",
       "      <td>RME</td>\n",
       "    </tr>\n",
       "    <tr>\n",
       "      <th>31</th>\n",
       "      <td>0.074364</td>\n",
       "      <td>0.151472</td>\n",
       "      <td>-0.951187</td>\n",
       "      <td>RME</td>\n",
       "    </tr>\n",
       "    <tr>\n",
       "      <th>32</th>\n",
       "      <td>0.359167</td>\n",
       "      <td>0.335495</td>\n",
       "      <td>-0.827573</td>\n",
       "      <td>RME</td>\n",
       "    </tr>\n",
       "    <tr>\n",
       "      <th>33</th>\n",
       "      <td>0.384785</td>\n",
       "      <td>0.641230</td>\n",
       "      <td>-0.604286</td>\n",
       "      <td>RME</td>\n",
       "    </tr>\n",
       "    <tr>\n",
       "      <th>34</th>\n",
       "      <td>0.410748</td>\n",
       "      <td>0.004133</td>\n",
       "      <td>-0.873559</td>\n",
       "      <td>RME</td>\n",
       "    </tr>\n",
       "    <tr>\n",
       "      <th>35</th>\n",
       "      <td>0.405711</td>\n",
       "      <td>0.291407</td>\n",
       "      <td>-0.811797</td>\n",
       "      <td>AVA</td>\n",
       "    </tr>\n",
       "    <tr>\n",
       "      <th>36</th>\n",
       "      <td>0.434664</td>\n",
       "      <td>0.210306</td>\n",
       "      <td>-0.825575</td>\n",
       "      <td>AVA</td>\n",
       "    </tr>\n",
       "    <tr>\n",
       "      <th>37</th>\n",
       "      <td>0.506402</td>\n",
       "      <td>0.270917</td>\n",
       "      <td>-0.768976</td>\n",
       "      <td>AVA</td>\n",
       "    </tr>\n",
       "    <tr>\n",
       "      <th>38</th>\n",
       "      <td>0.457532</td>\n",
       "      <td>0.281903</td>\n",
       "      <td>-0.788140</td>\n",
       "      <td>AVA</td>\n",
       "    </tr>\n",
       "    <tr>\n",
       "      <th>39</th>\n",
       "      <td>0.467091</td>\n",
       "      <td>0.215465</td>\n",
       "      <td>-0.800534</td>\n",
       "      <td>AVA</td>\n",
       "    </tr>\n",
       "    <tr>\n",
       "      <th>40</th>\n",
       "      <td>-0.741956</td>\n",
       "      <td>0.568944</td>\n",
       "      <td>0.239550</td>\n",
       "      <td>RME</td>\n",
       "    </tr>\n",
       "    <tr>\n",
       "      <th>41</th>\n",
       "      <td>-0.713638</td>\n",
       "      <td>0.610659</td>\n",
       "      <td>0.229384</td>\n",
       "      <td>RME</td>\n",
       "    </tr>\n",
       "    <tr>\n",
       "      <th>42</th>\n",
       "      <td>-0.717561</td>\n",
       "      <td>0.561298</td>\n",
       "      <td>0.317883</td>\n",
       "      <td>RME</td>\n",
       "    </tr>\n",
       "    <tr>\n",
       "      <th>43</th>\n",
       "      <td>-0.719634</td>\n",
       "      <td>0.530880</td>\n",
       "      <td>0.364016</td>\n",
       "      <td>RME</td>\n",
       "    </tr>\n",
       "    <tr>\n",
       "      <th>44</th>\n",
       "      <td>-0.875011</td>\n",
       "      <td>0.381724</td>\n",
       "      <td>0.162270</td>\n",
       "      <td>AVA</td>\n",
       "    </tr>\n",
       "    <tr>\n",
       "      <th>45</th>\n",
       "      <td>-0.792182</td>\n",
       "      <td>0.437019</td>\n",
       "      <td>0.342361</td>\n",
       "      <td>AVA</td>\n",
       "    </tr>\n",
       "    <tr>\n",
       "      <th>46</th>\n",
       "      <td>-0.785718</td>\n",
       "      <td>0.462063</td>\n",
       "      <td>0.318418</td>\n",
       "      <td>AVA</td>\n",
       "    </tr>\n",
       "    <tr>\n",
       "      <th>47</th>\n",
       "      <td>-0.800294</td>\n",
       "      <td>0.432687</td>\n",
       "      <td>0.324873</td>\n",
       "      <td>AVA</td>\n",
       "    </tr>\n",
       "    <tr>\n",
       "      <th>48</th>\n",
       "      <td>-0.831856</td>\n",
       "      <td>0.480857</td>\n",
       "      <td>0.070063</td>\n",
       "      <td>AVA</td>\n",
       "    </tr>\n",
       "    <tr>\n",
       "      <th>49</th>\n",
       "      <td>-0.843126</td>\n",
       "      <td>0.396441</td>\n",
       "      <td>0.261421</td>\n",
       "      <td>AVA</td>\n",
       "    </tr>\n",
       "    <tr>\n",
       "      <th>50</th>\n",
       "      <td>-0.827283</td>\n",
       "      <td>0.418909</td>\n",
       "      <td>0.274266</td>\n",
       "      <td>AVA</td>\n",
       "    </tr>\n",
       "    <tr>\n",
       "      <th>51</th>\n",
       "      <td>0.226506</td>\n",
       "      <td>0.832934</td>\n",
       "      <td>0.429455</td>\n",
       "      <td>RME</td>\n",
       "    </tr>\n",
       "    <tr>\n",
       "      <th>52</th>\n",
       "      <td>0.375898</td>\n",
       "      <td>0.808497</td>\n",
       "      <td>0.377847</td>\n",
       "      <td>RME</td>\n",
       "    </tr>\n",
       "    <tr>\n",
       "      <th>53</th>\n",
       "      <td>0.291869</td>\n",
       "      <td>0.771938</td>\n",
       "      <td>0.503371</td>\n",
       "      <td>RME</td>\n",
       "    </tr>\n",
       "    <tr>\n",
       "      <th>54</th>\n",
       "      <td>0.331050</td>\n",
       "      <td>0.797686</td>\n",
       "      <td>0.435727</td>\n",
       "      <td>RME</td>\n",
       "    </tr>\n",
       "    <tr>\n",
       "      <th>55</th>\n",
       "      <td>-0.595049</td>\n",
       "      <td>-0.486761</td>\n",
       "      <td>-0.596376</td>\n",
       "      <td>AVA</td>\n",
       "    </tr>\n",
       "    <tr>\n",
       "      <th>56</th>\n",
       "      <td>-0.549961</td>\n",
       "      <td>-0.501009</td>\n",
       "      <td>-0.625891</td>\n",
       "      <td>AVA</td>\n",
       "    </tr>\n",
       "    <tr>\n",
       "      <th>57</th>\n",
       "      <td>-0.666880</td>\n",
       "      <td>-0.453033</td>\n",
       "      <td>-0.541621</td>\n",
       "      <td>AVA</td>\n",
       "    </tr>\n",
       "  </tbody>\n",
       "</table>\n",
       "</div>"
      ],
      "text/plain": [
       "           x         y         z clusters\n",
       "0   0.235535 -0.712744  0.589421      RME\n",
       "1   0.208975 -0.767925  0.526192      RME\n",
       "2   0.291998 -0.669814  0.612439      RME\n",
       "3   0.357153 -0.739968  0.493124      RME\n",
       "4   0.278304 -0.675583  0.612221      RME\n",
       "5   0.103625 -0.884813  0.355345      RME\n",
       "6   0.180624 -0.870899  0.363942      RME\n",
       "7   0.297530 -0.716054  0.558931      RME\n",
       "8   0.350773 -0.739884  0.496377      RME\n",
       "9   0.246078 -0.757072  0.531374      RME\n",
       "10  0.132309 -0.705817  0.631807      RME\n",
       "11  0.408601 -0.681418  0.532032      AVA\n",
       "12  0.500685 -0.569437  0.583346      AVA\n",
       "13  0.427090 -0.471068  0.718718      AVA\n",
       "14  0.481421 -0.627723  0.538166      AVA\n",
       "15  0.378796 -0.845471  0.260917      AVA\n",
       "16  0.459840 -0.698682  0.458920      AVA\n",
       "17  0.087691 -0.773798  0.553726      AVA\n",
       "18  0.490548 -0.639933  0.516268      AVA\n",
       "19  0.391192 -0.677540  0.543505      AVA\n",
       "20  0.474981 -0.587510  0.584213      AVA\n",
       "21  0.371820 -0.587556  0.663382      AVA\n",
       "22  0.414960 -0.608642  0.608050      AVA\n",
       "23  0.540631  0.378811 -0.696717      RME\n",
       "24  0.394401  0.343635 -0.803711      RME\n",
       "25  0.409789  0.372113 -0.783902      RME\n",
       "26  0.696708  0.296576 -0.584028      RME\n",
       "27  0.283604  0.157275 -0.906637      RME\n",
       "28  0.615187  0.357133 -0.631879      RME\n",
       "29  0.433653  0.359753 -0.771966      RME\n",
       "30  0.415859  0.454379 -0.733882      RME\n",
       "31  0.074364  0.151472 -0.951187      RME\n",
       "32  0.359167  0.335495 -0.827573      RME\n",
       "33  0.384785  0.641230 -0.604286      RME\n",
       "34  0.410748  0.004133 -0.873559      RME\n",
       "35  0.405711  0.291407 -0.811797      AVA\n",
       "36  0.434664  0.210306 -0.825575      AVA\n",
       "37  0.506402  0.270917 -0.768976      AVA\n",
       "38  0.457532  0.281903 -0.788140      AVA\n",
       "39  0.467091  0.215465 -0.800534      AVA\n",
       "40 -0.741956  0.568944  0.239550      RME\n",
       "41 -0.713638  0.610659  0.229384      RME\n",
       "42 -0.717561  0.561298  0.317883      RME\n",
       "43 -0.719634  0.530880  0.364016      RME\n",
       "44 -0.875011  0.381724  0.162270      AVA\n",
       "45 -0.792182  0.437019  0.342361      AVA\n",
       "46 -0.785718  0.462063  0.318418      AVA\n",
       "47 -0.800294  0.432687  0.324873      AVA\n",
       "48 -0.831856  0.480857  0.070063      AVA\n",
       "49 -0.843126  0.396441  0.261421      AVA\n",
       "50 -0.827283  0.418909  0.274266      AVA\n",
       "51  0.226506  0.832934  0.429455      RME\n",
       "52  0.375898  0.808497  0.377847      RME\n",
       "53  0.291869  0.771938  0.503371      RME\n",
       "54  0.331050  0.797686  0.435727      RME\n",
       "55 -0.595049 -0.486761 -0.596376      AVA\n",
       "56 -0.549961 -0.501009 -0.625891      AVA\n",
       "57 -0.666880 -0.453033 -0.541621      AVA"
      ]
     },
     "execution_count": 34,
     "metadata": {},
     "output_type": "execute_result"
    }
   ],
   "source": [
    "hyperbolic_df"
   ]
  },
  {
   "cell_type": "code",
   "execution_count": 38,
   "id": "09b7a13f",
   "metadata": {},
   "outputs": [
    {
     "data": {
      "application/vnd.plotly.v1+json": {
       "config": {
        "plotlyServerURL": "https://plot.ly"
       },
       "data": [
        {
         "hovertemplate": "clusters=RME<br>x=%{x}<br>y=%{y}<br>z=%{z}<extra></extra>",
         "legendgroup": "RME",
         "marker": {
          "color": "blue",
          "symbol": "circle"
         },
         "mode": "markers",
         "name": "RME",
         "scene": "scene",
         "showlegend": true,
         "type": "scatter3d",
         "x": [
          0.23553508296151465,
          0.20897506930848142,
          0.2919977139545085,
          0.3571531701221161,
          0.2783036777267296,
          0.10362529798215071,
          0.1806235154807626,
          0.2975300168905749,
          0.3507734357391233,
          0.24607835198086672,
          0.13230865171933295,
          0.5406314088669444,
          0.3944010269419591,
          0.40978870453443994,
          0.6967080057725631,
          0.2836043805536746,
          0.6151872344432167,
          0.4336534124596325,
          0.415858877358562,
          0.07436401859932756,
          0.359167087007508,
          0.384784759920158,
          0.41074808338474744,
          -0.7419555056765534,
          -0.7136380334198212,
          -0.7175606339315921,
          -0.7196343112085801,
          0.22650635030509433,
          0.37589822113110744,
          0.2918687094084454,
          0.33105018159405986
         ],
         "y": [
          -0.7127435136571563,
          -0.7679253279622699,
          -0.6698135385217038,
          -0.7399680788932799,
          -0.6755832449807947,
          -0.8848132827445311,
          -0.8708991485527031,
          -0.7160542040761757,
          -0.7398842017290886,
          -0.7570721604554655,
          -0.7058167005764701,
          0.3788111886747441,
          0.343634627534422,
          0.3721131399976754,
          0.2965762465954205,
          0.15727483118335894,
          0.3571327626385375,
          0.35975283042978623,
          0.45437891004922104,
          0.15147156474667636,
          0.33549524751061693,
          0.6412298101994903,
          0.0041333146896881,
          0.5689439657602845,
          0.6106591295885723,
          0.5612975318596255,
          0.5308797707813719,
          0.8329336213242869,
          0.808497321828408,
          0.7719375448531983,
          0.7976857765426416
         ],
         "z": [
          0.5894213281652994,
          0.5261922470914595,
          0.6124391717817586,
          0.4931241024032046,
          0.6122210613460388,
          0.3553450352275471,
          0.36394247640325733,
          0.5589307474999173,
          0.4963766406350331,
          0.5313735345386424,
          0.6318069835185502,
          -0.6967169730105103,
          -0.8037105248777128,
          -0.7839023379859665,
          -0.584028452200432,
          -0.906636588573659,
          -0.6318786914132193,
          -0.7719664583553629,
          -0.7338818748170863,
          -0.9511874774667862,
          -0.8275727466600633,
          -0.6042864511726638,
          -0.8735592250572786,
          0.23955015044397038,
          0.22938388645357596,
          0.31788252459714167,
          0.3640164459079119,
          0.4294553522491907,
          0.3778470901042825,
          0.5033714170192015,
          0.43572742732326
         ]
        },
        {
         "hovertemplate": "clusters=AVA<br>x=%{x}<br>y=%{y}<br>z=%{z}<extra></extra>",
         "legendgroup": "AVA",
         "marker": {
          "color": "red",
          "symbol": "circle"
         },
         "mode": "markers",
         "name": "AVA",
         "scene": "scene",
         "showlegend": true,
         "type": "scatter3d",
         "x": [
          0.4086009665958849,
          0.50068501762736,
          0.4270895998032927,
          0.4814210011748278,
          0.37879646148003737,
          0.4598398617002433,
          0.08769117295821836,
          0.4905484862346576,
          0.3911923570528366,
          0.47498080415249044,
          0.3718202892890988,
          0.4149601900154191,
          0.40571111053873093,
          0.43466421183789844,
          0.5064016816697671,
          0.45753226658319013,
          0.4670909609320932,
          -0.875010605131593,
          -0.7921820425061742,
          -0.7857182467448979,
          -0.8002939503347996,
          -0.831855625542396,
          -0.8431261634153642,
          -0.8272826173181843,
          -0.5950487216716343,
          -0.5499614206490309,
          -0.666880318472453
         ],
         "y": [
          -0.6814177607594608,
          -0.5694366564530541,
          -0.4710682631639582,
          -0.6277227480907708,
          -0.8454706985359095,
          -0.698682031722597,
          -0.773797804911453,
          -0.6399329705232758,
          -0.6775395026076553,
          -0.5875100376847673,
          -0.5875560569021485,
          -0.6086415813719581,
          0.2914065224209355,
          0.21030590774197225,
          0.27091670064377316,
          0.28190271712867976,
          0.2154646605133002,
          0.3817235634247806,
          0.4370188740513703,
          0.46206325365419,
          0.43268687644352727,
          0.4808570046077692,
          0.3964412932444715,
          0.41890931228805933,
          -0.4867608641216333,
          -0.5010094790316469,
          -0.45303289800453345
         ],
         "z": [
          0.5320321293781631,
          0.5833463395146943,
          0.718717794404989,
          0.5381664745356695,
          0.260916937266773,
          0.4589195804271326,
          0.5537255136984679,
          0.5162679454091675,
          0.5435052983786105,
          0.5842130252170273,
          0.6633815794597167,
          0.6080500205612538,
          -0.8117972316290629,
          -0.8255750883864852,
          -0.7689762435792427,
          -0.7881402928222281,
          -0.8005339466469634,
          0.1622699016801571,
          0.3423611674029076,
          0.3184182716990143,
          0.32487320641563144,
          0.07006278523265061,
          0.2614209068487554,
          0.2742655403344677,
          -0.5963762949233982,
          -0.6258906271593171,
          -0.5416211615060862
         ]
        }
       ],
       "layout": {
        "legend": {
         "title": {
          "text": "clusters"
         },
         "tracegroupgap": 0
        },
        "scene": {
         "domain": {
          "x": [
           0,
           1
          ],
          "y": [
           0,
           1
          ]
         },
         "xaxis": {
          "ticktext": [
           -1,
           -0.5,
           0,
           0.5,
           1
          ],
          "title": {
           "text": "x"
          }
         },
         "yaxis": {
          "ticktext": [
           -1,
           -0.5,
           0,
           0.5,
           1
          ],
          "title": {
           "text": "y"
          }
         },
         "zaxis": {
          "ticktext": [
           -1,
           -0.5,
           0,
           0.5,
           1
          ],
          "title": {
           "text": "z"
          }
         }
        },
        "template": {
         "data": {
          "bar": [
           {
            "error_x": {
             "color": "#2a3f5f"
            },
            "error_y": {
             "color": "#2a3f5f"
            },
            "marker": {
             "line": {
              "color": "#E5ECF6",
              "width": 0.5
             },
             "pattern": {
              "fillmode": "overlay",
              "size": 10,
              "solidity": 0.2
             }
            },
            "type": "bar"
           }
          ],
          "barpolar": [
           {
            "marker": {
             "line": {
              "color": "#E5ECF6",
              "width": 0.5
             },
             "pattern": {
              "fillmode": "overlay",
              "size": 10,
              "solidity": 0.2
             }
            },
            "type": "barpolar"
           }
          ],
          "carpet": [
           {
            "aaxis": {
             "endlinecolor": "#2a3f5f",
             "gridcolor": "white",
             "linecolor": "white",
             "minorgridcolor": "white",
             "startlinecolor": "#2a3f5f"
            },
            "baxis": {
             "endlinecolor": "#2a3f5f",
             "gridcolor": "white",
             "linecolor": "white",
             "minorgridcolor": "white",
             "startlinecolor": "#2a3f5f"
            },
            "type": "carpet"
           }
          ],
          "choropleth": [
           {
            "colorbar": {
             "outlinewidth": 0,
             "ticks": ""
            },
            "type": "choropleth"
           }
          ],
          "contour": [
           {
            "colorbar": {
             "outlinewidth": 0,
             "ticks": ""
            },
            "colorscale": [
             [
              0,
              "#0d0887"
             ],
             [
              0.1111111111111111,
              "#46039f"
             ],
             [
              0.2222222222222222,
              "#7201a8"
             ],
             [
              0.3333333333333333,
              "#9c179e"
             ],
             [
              0.4444444444444444,
              "#bd3786"
             ],
             [
              0.5555555555555556,
              "#d8576b"
             ],
             [
              0.6666666666666666,
              "#ed7953"
             ],
             [
              0.7777777777777778,
              "#fb9f3a"
             ],
             [
              0.8888888888888888,
              "#fdca26"
             ],
             [
              1,
              "#f0f921"
             ]
            ],
            "type": "contour"
           }
          ],
          "contourcarpet": [
           {
            "colorbar": {
             "outlinewidth": 0,
             "ticks": ""
            },
            "type": "contourcarpet"
           }
          ],
          "heatmap": [
           {
            "colorbar": {
             "outlinewidth": 0,
             "ticks": ""
            },
            "colorscale": [
             [
              0,
              "#0d0887"
             ],
             [
              0.1111111111111111,
              "#46039f"
             ],
             [
              0.2222222222222222,
              "#7201a8"
             ],
             [
              0.3333333333333333,
              "#9c179e"
             ],
             [
              0.4444444444444444,
              "#bd3786"
             ],
             [
              0.5555555555555556,
              "#d8576b"
             ],
             [
              0.6666666666666666,
              "#ed7953"
             ],
             [
              0.7777777777777778,
              "#fb9f3a"
             ],
             [
              0.8888888888888888,
              "#fdca26"
             ],
             [
              1,
              "#f0f921"
             ]
            ],
            "type": "heatmap"
           }
          ],
          "heatmapgl": [
           {
            "colorbar": {
             "outlinewidth": 0,
             "ticks": ""
            },
            "colorscale": [
             [
              0,
              "#0d0887"
             ],
             [
              0.1111111111111111,
              "#46039f"
             ],
             [
              0.2222222222222222,
              "#7201a8"
             ],
             [
              0.3333333333333333,
              "#9c179e"
             ],
             [
              0.4444444444444444,
              "#bd3786"
             ],
             [
              0.5555555555555556,
              "#d8576b"
             ],
             [
              0.6666666666666666,
              "#ed7953"
             ],
             [
              0.7777777777777778,
              "#fb9f3a"
             ],
             [
              0.8888888888888888,
              "#fdca26"
             ],
             [
              1,
              "#f0f921"
             ]
            ],
            "type": "heatmapgl"
           }
          ],
          "histogram": [
           {
            "marker": {
             "pattern": {
              "fillmode": "overlay",
              "size": 10,
              "solidity": 0.2
             }
            },
            "type": "histogram"
           }
          ],
          "histogram2d": [
           {
            "colorbar": {
             "outlinewidth": 0,
             "ticks": ""
            },
            "colorscale": [
             [
              0,
              "#0d0887"
             ],
             [
              0.1111111111111111,
              "#46039f"
             ],
             [
              0.2222222222222222,
              "#7201a8"
             ],
             [
              0.3333333333333333,
              "#9c179e"
             ],
             [
              0.4444444444444444,
              "#bd3786"
             ],
             [
              0.5555555555555556,
              "#d8576b"
             ],
             [
              0.6666666666666666,
              "#ed7953"
             ],
             [
              0.7777777777777778,
              "#fb9f3a"
             ],
             [
              0.8888888888888888,
              "#fdca26"
             ],
             [
              1,
              "#f0f921"
             ]
            ],
            "type": "histogram2d"
           }
          ],
          "histogram2dcontour": [
           {
            "colorbar": {
             "outlinewidth": 0,
             "ticks": ""
            },
            "colorscale": [
             [
              0,
              "#0d0887"
             ],
             [
              0.1111111111111111,
              "#46039f"
             ],
             [
              0.2222222222222222,
              "#7201a8"
             ],
             [
              0.3333333333333333,
              "#9c179e"
             ],
             [
              0.4444444444444444,
              "#bd3786"
             ],
             [
              0.5555555555555556,
              "#d8576b"
             ],
             [
              0.6666666666666666,
              "#ed7953"
             ],
             [
              0.7777777777777778,
              "#fb9f3a"
             ],
             [
              0.8888888888888888,
              "#fdca26"
             ],
             [
              1,
              "#f0f921"
             ]
            ],
            "type": "histogram2dcontour"
           }
          ],
          "mesh3d": [
           {
            "colorbar": {
             "outlinewidth": 0,
             "ticks": ""
            },
            "type": "mesh3d"
           }
          ],
          "parcoords": [
           {
            "line": {
             "colorbar": {
              "outlinewidth": 0,
              "ticks": ""
             }
            },
            "type": "parcoords"
           }
          ],
          "pie": [
           {
            "automargin": true,
            "type": "pie"
           }
          ],
          "scatter": [
           {
            "fillpattern": {
             "fillmode": "overlay",
             "size": 10,
             "solidity": 0.2
            },
            "type": "scatter"
           }
          ],
          "scatter3d": [
           {
            "line": {
             "colorbar": {
              "outlinewidth": 0,
              "ticks": ""
             }
            },
            "marker": {
             "colorbar": {
              "outlinewidth": 0,
              "ticks": ""
             }
            },
            "type": "scatter3d"
           }
          ],
          "scattercarpet": [
           {
            "marker": {
             "colorbar": {
              "outlinewidth": 0,
              "ticks": ""
             }
            },
            "type": "scattercarpet"
           }
          ],
          "scattergeo": [
           {
            "marker": {
             "colorbar": {
              "outlinewidth": 0,
              "ticks": ""
             }
            },
            "type": "scattergeo"
           }
          ],
          "scattergl": [
           {
            "marker": {
             "colorbar": {
              "outlinewidth": 0,
              "ticks": ""
             }
            },
            "type": "scattergl"
           }
          ],
          "scattermapbox": [
           {
            "marker": {
             "colorbar": {
              "outlinewidth": 0,
              "ticks": ""
             }
            },
            "type": "scattermapbox"
           }
          ],
          "scatterpolar": [
           {
            "marker": {
             "colorbar": {
              "outlinewidth": 0,
              "ticks": ""
             }
            },
            "type": "scatterpolar"
           }
          ],
          "scatterpolargl": [
           {
            "marker": {
             "colorbar": {
              "outlinewidth": 0,
              "ticks": ""
             }
            },
            "type": "scatterpolargl"
           }
          ],
          "scatterternary": [
           {
            "marker": {
             "colorbar": {
              "outlinewidth": 0,
              "ticks": ""
             }
            },
            "type": "scatterternary"
           }
          ],
          "surface": [
           {
            "colorbar": {
             "outlinewidth": 0,
             "ticks": ""
            },
            "colorscale": [
             [
              0,
              "#0d0887"
             ],
             [
              0.1111111111111111,
              "#46039f"
             ],
             [
              0.2222222222222222,
              "#7201a8"
             ],
             [
              0.3333333333333333,
              "#9c179e"
             ],
             [
              0.4444444444444444,
              "#bd3786"
             ],
             [
              0.5555555555555556,
              "#d8576b"
             ],
             [
              0.6666666666666666,
              "#ed7953"
             ],
             [
              0.7777777777777778,
              "#fb9f3a"
             ],
             [
              0.8888888888888888,
              "#fdca26"
             ],
             [
              1,
              "#f0f921"
             ]
            ],
            "type": "surface"
           }
          ],
          "table": [
           {
            "cells": {
             "fill": {
              "color": "#EBF0F8"
             },
             "line": {
              "color": "white"
             }
            },
            "header": {
             "fill": {
              "color": "#C8D4E3"
             },
             "line": {
              "color": "white"
             }
            },
            "type": "table"
           }
          ]
         },
         "layout": {
          "annotationdefaults": {
           "arrowcolor": "#2a3f5f",
           "arrowhead": 0,
           "arrowwidth": 1
          },
          "autotypenumbers": "strict",
          "coloraxis": {
           "colorbar": {
            "outlinewidth": 0,
            "ticks": ""
           }
          },
          "colorscale": {
           "diverging": [
            [
             0,
             "#8e0152"
            ],
            [
             0.1,
             "#c51b7d"
            ],
            [
             0.2,
             "#de77ae"
            ],
            [
             0.3,
             "#f1b6da"
            ],
            [
             0.4,
             "#fde0ef"
            ],
            [
             0.5,
             "#f7f7f7"
            ],
            [
             0.6,
             "#e6f5d0"
            ],
            [
             0.7,
             "#b8e186"
            ],
            [
             0.8,
             "#7fbc41"
            ],
            [
             0.9,
             "#4d9221"
            ],
            [
             1,
             "#276419"
            ]
           ],
           "sequential": [
            [
             0,
             "#0d0887"
            ],
            [
             0.1111111111111111,
             "#46039f"
            ],
            [
             0.2222222222222222,
             "#7201a8"
            ],
            [
             0.3333333333333333,
             "#9c179e"
            ],
            [
             0.4444444444444444,
             "#bd3786"
            ],
            [
             0.5555555555555556,
             "#d8576b"
            ],
            [
             0.6666666666666666,
             "#ed7953"
            ],
            [
             0.7777777777777778,
             "#fb9f3a"
            ],
            [
             0.8888888888888888,
             "#fdca26"
            ],
            [
             1,
             "#f0f921"
            ]
           ],
           "sequentialminus": [
            [
             0,
             "#0d0887"
            ],
            [
             0.1111111111111111,
             "#46039f"
            ],
            [
             0.2222222222222222,
             "#7201a8"
            ],
            [
             0.3333333333333333,
             "#9c179e"
            ],
            [
             0.4444444444444444,
             "#bd3786"
            ],
            [
             0.5555555555555556,
             "#d8576b"
            ],
            [
             0.6666666666666666,
             "#ed7953"
            ],
            [
             0.7777777777777778,
             "#fb9f3a"
            ],
            [
             0.8888888888888888,
             "#fdca26"
            ],
            [
             1,
             "#f0f921"
            ]
           ]
          },
          "colorway": [
           "#636efa",
           "#EF553B",
           "#00cc96",
           "#ab63fa",
           "#FFA15A",
           "#19d3f3",
           "#FF6692",
           "#B6E880",
           "#FF97FF",
           "#FECB52"
          ],
          "font": {
           "color": "#2a3f5f"
          },
          "geo": {
           "bgcolor": "white",
           "lakecolor": "white",
           "landcolor": "#E5ECF6",
           "showlakes": true,
           "showland": true,
           "subunitcolor": "white"
          },
          "hoverlabel": {
           "align": "left"
          },
          "hovermode": "closest",
          "mapbox": {
           "style": "light"
          },
          "paper_bgcolor": "white",
          "plot_bgcolor": "#E5ECF6",
          "polar": {
           "angularaxis": {
            "gridcolor": "white",
            "linecolor": "white",
            "ticks": ""
           },
           "bgcolor": "#E5ECF6",
           "radialaxis": {
            "gridcolor": "white",
            "linecolor": "white",
            "ticks": ""
           }
          },
          "scene": {
           "xaxis": {
            "backgroundcolor": "#E5ECF6",
            "gridcolor": "white",
            "gridwidth": 2,
            "linecolor": "white",
            "showbackground": true,
            "ticks": "",
            "zerolinecolor": "white"
           },
           "yaxis": {
            "backgroundcolor": "#E5ECF6",
            "gridcolor": "white",
            "gridwidth": 2,
            "linecolor": "white",
            "showbackground": true,
            "ticks": "",
            "zerolinecolor": "white"
           },
           "zaxis": {
            "backgroundcolor": "#E5ECF6",
            "gridcolor": "white",
            "gridwidth": 2,
            "linecolor": "white",
            "showbackground": true,
            "ticks": "",
            "zerolinecolor": "white"
           }
          },
          "shapedefaults": {
           "line": {
            "color": "#2a3f5f"
           }
          },
          "ternary": {
           "aaxis": {
            "gridcolor": "white",
            "linecolor": "white",
            "ticks": ""
           },
           "baxis": {
            "gridcolor": "white",
            "linecolor": "white",
            "ticks": ""
           },
           "bgcolor": "#E5ECF6",
           "caxis": {
            "gridcolor": "white",
            "linecolor": "white",
            "ticks": ""
           }
          },
          "title": {
           "x": 0.05
          },
          "xaxis": {
           "automargin": true,
           "gridcolor": "white",
           "linecolor": "white",
           "ticks": "",
           "title": {
            "standoff": 15
           },
           "zerolinecolor": "white",
           "zerolinewidth": 2
          },
          "yaxis": {
           "automargin": true,
           "gridcolor": "white",
           "linecolor": "white",
           "ticks": "",
           "title": {
            "standoff": 15
           },
           "zerolinecolor": "white",
           "zerolinewidth": 2
          }
         }
        },
        "title": {
         "text": "Stim1 AVA and RME Bacterial Stimulus"
        }
       }
      }
     },
     "metadata": {},
     "output_type": "display_data"
    }
   ],
   "source": [
    "\n",
    "\n",
    "# Create a scatter plot\n",
    "fig = px.scatter_3d(data_frame = hyperbolic_df, x= 'x', y = 'y', z= 'z', title='Stim1 AVA and RME Bacterial Stimulus',  color ='clusters', color_discrete_map={'RME': 'blue', 'AVA': 'red'}) #cornflowerblue, lightcoral\n",
    "fig.update_layout(\n",
    "    scene=dict(\n",
    "        xaxis=dict(ticktext=[-1, -0.5, 0, 0.5, 1]),\n",
    "        yaxis=dict(ticktext=[-1, -0.5, 0, 0.5, 1]),\n",
    "        zaxis=dict(ticktext=[-1, -0.5, 0, 0.5, 1]),\n",
    "    )\n",
    ")\n",
    "\n",
    "fig.show()"
   ]
  },
  {
   "cell_type": "markdown",
   "id": "b6080734",
   "metadata": {},
   "source": [
    "# Fitting For Dimension\n",
    "\n",
    "Suppose we did not know a-priori that the data was 5D? This is usually the case"
   ]
  },
  {
   "cell_type": "markdown",
   "id": "ea9e919b",
   "metadata": {},
   "source": [
    "## Fit the model across a range of dimensions"
   ]
  },
  {
   "cell_type": "code",
   "execution_count": 84,
   "id": "0ffeb563",
   "metadata": {},
   "outputs": [
    {
     "name": "stderr",
     "output_type": "stream",
     "text": [
      "20:19:05 - cmdstanpy - INFO - Chain [1] start processing\n",
      "20:19:25 - cmdstanpy - INFO - Chain [1] done processing\n",
      "20:19:25 - cmdstanpy - WARNING - The default behavior of CmdStanMLE.stan_variable() will change in a future release to always return a numpy.ndarray, even for scalar variables.\n",
      "20:19:25 - cmdstanpy - INFO - Chain [1] start processing\n",
      "20:19:32 - cmdstanpy - INFO - Chain [1] done processing\n",
      "20:19:32 - cmdstanpy - WARNING - The default behavior of CmdStanMLE.stan_variable() will change in a future release to always return a numpy.ndarray, even for scalar variables.\n",
      "20:19:32 - cmdstanpy - INFO - Chain [1] start processing\n",
      "20:19:34 - cmdstanpy - INFO - Chain [1] done processing\n",
      "20:19:34 - cmdstanpy - WARNING - The default behavior of CmdStanMLE.stan_variable() will change in a future release to always return a numpy.ndarray, even for scalar variables.\n",
      "20:19:34 - cmdstanpy - INFO - Chain [1] start processing\n",
      "20:19:38 - cmdstanpy - INFO - Chain [1] done processing\n",
      "20:19:38 - cmdstanpy - WARNING - The default behavior of CmdStanMLE.stan_variable() will change in a future release to always return a numpy.ndarray, even for scalar variables.\n",
      "20:19:38 - cmdstanpy - INFO - Chain [1] start processing\n",
      "20:19:41 - cmdstanpy - INFO - Chain [1] done processing\n",
      "20:19:41 - cmdstanpy - WARNING - The default behavior of CmdStanMLE.stan_variable() will change in a future release to always return a numpy.ndarray, even for scalar variables.\n",
      "20:19:41 - cmdstanpy - INFO - Chain [1] start processing\n",
      "20:19:44 - cmdstanpy - INFO - Chain [1] done processing\n",
      "20:19:44 - cmdstanpy - WARNING - The default behavior of CmdStanMLE.stan_variable() will change in a future release to always return a numpy.ndarray, even for scalar variables.\n",
      "20:19:44 - cmdstanpy - INFO - Chain [1] start processing\n",
      "20:19:47 - cmdstanpy - INFO - Chain [1] done processing\n",
      "20:19:47 - cmdstanpy - WARNING - The default behavior of CmdStanMLE.stan_variable() will change in a future release to always return a numpy.ndarray, even for scalar variables.\n",
      "20:19:47 - cmdstanpy - INFO - Chain [1] start processing\n",
      "20:19:49 - cmdstanpy - INFO - Chain [1] done processing\n",
      "20:19:49 - cmdstanpy - WARNING - The default behavior of CmdStanMLE.stan_variable() will change in a future release to always return a numpy.ndarray, even for scalar variables.\n",
      "20:19:49 - cmdstanpy - INFO - Chain [1] start processing\n",
      "20:19:53 - cmdstanpy - INFO - Chain [1] done processing\n",
      "20:19:53 - cmdstanpy - WARNING - The default behavior of CmdStanMLE.stan_variable() will change in a future release to always return a numpy.ndarray, even for scalar variables.\n",
      "20:19:53 - cmdstanpy - INFO - Chain [1] start processing\n",
      "20:19:56 - cmdstanpy - INFO - Chain [1] done processing\n",
      "20:19:56 - cmdstanpy - WARNING - The default behavior of CmdStanMLE.stan_variable() will change in a future release to always return a numpy.ndarray, even for scalar variables.\n",
      "20:19:56 - cmdstanpy - INFO - Chain [1] start processing\n",
      "20:20:00 - cmdstanpy - INFO - Chain [1] done processing\n",
      "20:20:00 - cmdstanpy - WARNING - The default behavior of CmdStanMLE.stan_variable() will change in a future release to always return a numpy.ndarray, even for scalar variables.\n",
      "20:20:00 - cmdstanpy - INFO - Chain [1] start processing\n",
      "20:20:02 - cmdstanpy - INFO - Chain [1] done processing\n",
      "20:20:02 - cmdstanpy - WARNING - The default behavior of CmdStanMLE.stan_variable() will change in a future release to always return a numpy.ndarray, even for scalar variables.\n",
      "20:20:02 - cmdstanpy - INFO - Chain [1] start processing\n",
      "20:20:04 - cmdstanpy - INFO - Chain [1] done processing\n",
      "20:20:04 - cmdstanpy - WARNING - The default behavior of CmdStanMLE.stan_variable() will change in a future release to always return a numpy.ndarray, even for scalar variables.\n"
     ]
    }
   ],
   "source": [
    "all_fits = []\n",
    "for d in np.arange(2,15):\n",
    "    dat={'N':58, 'D':d , 'deltaij':distance_matrix_squaredp}\n",
    "    #run optimizer\n",
    "    model = ltz_m.optimize(data=dat, iter=250000, algorithm='LBFGS', tol_rel_grad=1e-2)\n",
    "    all_fits.append({'euc':model.euc, 'sig':model.sig, 'lambda':model.stan_variable('lambda'), 't':model.time})"
   ]
  },
  {
   "cell_type": "code",
   "execution_count": 85,
   "id": "c6ddd178",
   "metadata": {},
   "outputs": [
    {
     "name": "stderr",
     "output_type": "stream",
     "text": [
      "20:20:28 - cmdstanpy - WARNING - The default behavior of CmdStanMLE.stan_variable() will change in a future release to always return a numpy.ndarray, even for scalar variables.\n"
     ]
    },
    {
     "data": {
      "text/plain": [
       "0.902937"
      ]
     },
     "execution_count": 85,
     "metadata": {},
     "output_type": "execute_result"
    }
   ],
   "source": [
    "model.stan_variable('lambda')"
   ]
  },
  {
   "cell_type": "code",
   "execution_count": null,
   "id": "09e53bbb",
   "metadata": {},
   "outputs": [],
   "source": [
    "#access the correct iteration \n",
    "iteration = all_fits[6]['t']\n",
    "\n",
    "\n",
    "iteration"
   ]
  },
  {
   "cell_type": "code",
   "execution_count": null,
   "id": "c69f3521",
   "metadata": {},
   "outputs": [],
   "source": [
    "model.time.shape"
   ]
  },
  {
   "cell_type": "code",
   "execution_count": 39,
   "id": "cadc132e",
   "metadata": {},
   "outputs": [
    {
     "ename": "NameError",
     "evalue": "name 'iteration' is not defined",
     "output_type": "error",
     "traceback": [
      "\u001b[0;31m---------------------------------------------------------------------------\u001b[0m",
      "\u001b[0;31mNameError\u001b[0m                                 Traceback (most recent call last)",
      "Cell \u001b[0;32mIn[39], line 2\u001b[0m\n\u001b[1;32m      1\u001b[0m \u001b[38;5;66;03m#calculate radii based on time parameter\u001b[39;00m\n\u001b[0;32m----> 2\u001b[0m radii \u001b[38;5;241m=\u001b[39m np\u001b[38;5;241m.\u001b[39marccosh(\u001b[43miteration\u001b[49m)\n",
      "\u001b[0;31mNameError\u001b[0m: name 'iteration' is not defined"
     ]
    }
   ],
   "source": [
    "#calculate radii based on time parameter\n",
    "radii = np.arccosh(iteration)"
   ]
  },
  {
   "cell_type": "code",
   "execution_count": null,
   "id": "963b2e19",
   "metadata": {},
   "outputs": [],
   "source": [
    "radii"
   ]
  },
  {
   "cell_type": "code",
   "execution_count": 77,
   "id": "f44e7938",
   "metadata": {},
   "outputs": [
    {
     "ename": "NameError",
     "evalue": "name 'radii' is not defined",
     "output_type": "error",
     "traceback": [
      "\u001b[0;31m---------------------------------------------------------------------------\u001b[0m",
      "\u001b[0;31mNameError\u001b[0m                                 Traceback (most recent call last)",
      "Cell \u001b[0;32mIn[77], line 4\u001b[0m\n\u001b[1;32m      1\u001b[0m \u001b[38;5;66;03m#Histogram of radii\u001b[39;00m\n\u001b[1;32m      2\u001b[0m fig, ax \u001b[38;5;241m=\u001b[39m plt\u001b[38;5;241m.\u001b[39msubplots(figsize\u001b[38;5;241m=\u001b[39m(\u001b[38;5;241m15\u001b[39m,\u001b[38;5;241m7.5\u001b[39m))\n\u001b[0;32m----> 4\u001b[0m ax\u001b[38;5;241m.\u001b[39mhist(\u001b[43mradii\u001b[49m, color \u001b[38;5;241m=\u001b[39m\u001b[38;5;124m'\u001b[39m\u001b[38;5;124mlightcoral\u001b[39m\u001b[38;5;124m'\u001b[39m) \u001b[38;5;66;03m#cornflowerblue, lightcoral\u001b[39;00m\n\u001b[1;32m      5\u001b[0m ax\u001b[38;5;241m.\u001b[39mset_xlabel(\u001b[38;5;124m'\u001b[39m\u001b[38;5;124mHyperbolic Embedding Radii\u001b[39m\u001b[38;5;124m'\u001b[39m, fontsize\u001b[38;5;241m=\u001b[39m\u001b[38;5;241m20\u001b[39m)\n",
      "\u001b[0;31mNameError\u001b[0m: name 'radii' is not defined"
     ]
    },
    {
     "data": {
      "image/png": "[encoded data removed]",
      "text/plain": [
       "<Figure size 1500x750 with 1 Axes>"
      ]
     },
     "metadata": {},
     "output_type": "display_data"
    }
   ],
   "source": [
    "#Histogram of radii\n",
    "fig, ax = plt.subplots(figsize=(15,7.5))\n",
    "\n",
    "ax.hist(radii, color ='lightcoral') #cornflowerblue, lightcoral\n",
    "ax.set_xlabel('Hyperbolic Embedding Radii', fontsize=20)"
   ]
  },
  {
   "cell_type": "code",
   "execution_count": null,
   "id": "75c766bc",
   "metadata": {},
   "outputs": [],
   "source": [
    "#DIP analysis of radii\n",
    "dip, pval = diptest.diptest(radii)"
   ]
  },
  {
   "cell_type": "code",
   "execution_count": null,
   "id": "2ac64e08",
   "metadata": {},
   "outputs": [],
   "source": [
    "dip, pval"
   ]
  },
  {
   "cell_type": "code",
   "execution_count": 86,
   "id": "2793645c",
   "metadata": {},
   "outputs": [],
   "source": [
    "#return negative log likelihood of fit\n",
    "def MDS_lkl(fit, dmat):\n",
    "    lkl = 0;\n",
    "    N = fit['sig'].shape[0]\n",
    "    \n",
    "    sigs = fit['sig']\n",
    "    lam = fit['lambda']\n",
    "    emb_mat = get_embed_dmat(fit)\n",
    "    \n",
    "    for i in np.arange(N):\n",
    "        for j in np.arange(i+1, N):\n",
    "            seff = sigs[i]**2 + sigs[j]**2\n",
    "            lkl += ((dmat[i][j] - emb_mat[i][j]/lam)**2 / (2.0*seff)) + 0.5*np.log(seff*2.0*np.pi)\n",
    "    return lkl\n",
    "\n",
    "#input: optimization fit and distance matrix\n",
    "def BIC(fit, dmat):\n",
    "    N,D = fit['euc'].shape\n",
    "    n = 0.5*N*(N-1)\n",
    "    k = N*D + N + 1.0 - 0.5*D*(D-1)\n",
    "    \n",
    "    return k*np.log(n) + 2.0*MDS_lkl(fit, dmat)\n",
    "\n",
    "\n",
    "\n"
   ]
  },
  {
   "cell_type": "markdown",
   "id": "e7ccab40",
   "metadata": {},
   "source": [
    "## Bayesian information criteria\n",
    "\n",
    "There is a lot of formal Bayesian Theory behind this (see chapter 2 here https://urldefense.proofpoint.com/v2/url?u=https-3A__www.inference.org.uk_mackay_thesis.pdf&d=DwIGAg&c=-35OiAkTchMrZOngvJPOeA&r=B8GeUuyHfxQP8MseZuhipQ&m=KVww4gh9-XOtp1LqNUc0K-PGXOX3bm2QsokPFlBG9Vs&s=UBtNEdIXatq_zFpG53nmPCLbCnlgIgWigHYhEnBRYyo&e= ), but essentially we are trying to find the minimal number of parameters to describe a dataset. If the data is 5D, we don't want to use 7 parameters to describe it. The BIC is like a cost function that rewards a model that has a better fit to the likelihood function, but penalizes models that increase the number of their parameters. The model which minimizes this function will thus have the ideal trade-off of being able to model the data well without introducing too many parameters and overfitting the data."
   ]
  },
  {
   "cell_type": "code",
   "execution_count": 87,
   "id": "f3688551",
   "metadata": {},
   "outputs": [],
   "source": [
    "all_BIC = [BIC(fit, distance_matrix_squaredp) for fit in all_fits]\n"
   ]
  },
  {
   "cell_type": "code",
   "execution_count": 88,
   "id": "772ef329",
   "metadata": {},
   "outputs": [
    {
     "name": "stdout",
     "output_type": "stream",
     "text": [
      "RangeIndex(start=0, stop=58, step=1)\n"
     ]
    }
   ],
   "source": [
    "print(distance_matrix_squaredp.index)"
   ]
  },
  {
   "cell_type": "code",
   "execution_count": 89,
   "id": "b1160cc0",
   "metadata": {},
   "outputs": [
    {
     "data": {
      "text/plain": [
       "[580.8612817444922,\n",
       " -2934.0207442640312,\n",
       " -3098.0635381713173,\n",
       " -3106.9787827171313,\n",
       " -3134.43959282534,\n",
       " -2986.310697618953,\n",
       " -2798.6577540081717,\n",
       " -2611.1546443258917,\n",
       " -2386.716059585221,\n",
       " -2123.3928619021126,\n",
       " -1859.9571446835698,\n",
       " -1607.2573066144641,\n",
       " -1376.848431246307]"
      ]
     },
     "execution_count": 89,
     "metadata": {},
     "output_type": "execute_result"
    }
   ],
   "source": [
    "all_BIC"
   ]
  },
  {
   "cell_type": "markdown",
   "id": "daae8d10",
   "metadata": {},
   "source": [
    "As you can see the BIC is minimized at the true dimension of 5. Any more parameters would have been redundant, any less would not have properly fit the data"
   ]
  },
  {
   "cell_type": "code",
   "execution_count": 90,
   "id": "c3160255",
   "metadata": {},
   "outputs": [
    {
     "data": {
      "text/plain": [
       "Text(0, 0.5, 'BIC')"
      ]
     },
     "execution_count": 90,
     "metadata": {},
     "output_type": "execute_result"
    },
    {
     "data": {
      "image/png": "[encoded data removed]",
      "text/plain": [
       "<Figure size 750x750 with 1 Axes>"
      ]
     },
     "metadata": {},
     "output_type": "display_data"
    }
   ],
   "source": [
    "fig, ax = plt.subplots(figsize=(7.5,7.5))\n",
    "\n",
    "ax.scatter(np.arange(2,15), all_BIC, c = 'lightcoral') #cornflowerblue, lightcoral\n",
    "ax.set_xlabel('Dimension', fontsize=20)\n",
    "ax.set_ylabel('BIC', fontsize=20)"
   ]
  },
  {
   "cell_type": "markdown",
   "id": "ce171280",
   "metadata": {},
   "source": [
    "# Re-Running the optimizer\n",
    "Lets start by generating some 2D data"
   ]
  },
  {
   "cell_type": "code",
   "execution_count": null,
   "id": "6159dca9",
   "metadata": {},
   "outputs": [],
   "source": [
    "#generate 100 data points uniformly distributed in 5 dimensional hyperbolic space of radius R=4\n",
    "dim=2; R=4.0;\n",
    "n=100\n",
    "dirs = stats.norm.rvs(size=(n, dim))\n",
    "dirs = (dirs.T/np.sqrt(np.sum(np.square(dirs), axis=1))).T\n",
    "U = stats.uniform.rvs(size=n)\n",
    "rs_p = np.tanh(np.log((1-np.exp(-R))/np.exp(-R)*(U) + 1.0)/2.0)\n",
    "p_coords = rs_p.reshape(-1,1)*dirs\n",
    "\n",
    "#add noise to the computed distance matrix to simulate a more realistic dataset\n",
    "mat_2D = get_dmat(p_coords) + 0.05*R*stats.norm.rvs(size=(n,n))\n",
    "for i in np.arange(n):\n",
    "    for j in np.arange(i+1, n):\n",
    "        mat_2D[j][i] = mat_2D[i][j]\n",
    "mat_2D = 2.0*mat_2D/np.max(mat_2D)"
   ]
  },
  {
   "cell_type": "code",
   "execution_count": null,
   "id": "9f65f1d2",
   "metadata": {},
   "outputs": [],
   "source": [
    "#dictionary to specify input to simulation\n",
    "dat={'N':100, 'D':2, 'deltaij':mat_2D}\n",
    "#run optimizer\n",
    "model2D = ltz_m.optimize(data=dat, iter=250000, algorithm='LBFGS', tol_rel_grad=1e2)\n",
    "hyp_emb2D = {'euc':model2D.euc, 'sig':model2D.sig, 'lambda':model2D.stan_variable('lambda')}"
   ]
  },
  {
   "cell_type": "code",
   "execution_count": null,
   "id": "546b43c3",
   "metadata": {},
   "outputs": [],
   "source": [
    "process_sim(hyp_emb2D)"
   ]
  },
  {
   "cell_type": "markdown",
   "id": "77ed16b6",
   "metadata": {},
   "source": [
    "#### Most pts are well fit, but a few are poorly fit (the ones with high sigma) which adds a lot of scatter to the shepard diagram\n",
    "#### The optimizer got caught in a false minimum"
   ]
  },
  {
   "cell_type": "code",
   "execution_count": null,
   "id": "bb8c2124",
   "metadata": {},
   "outputs": [],
   "source": [
    "fig, ax = plt.subplots(1, 2, figsize=(15,7.5))\n",
    "\n",
    "ax[0].scatter(mat_2D[np.triu_indices(100, k=1)], hyp_emb2D['emb_mat'][np.triu_indices(100, k=1)])\n",
    "ax[0].plot(np.arange(3), np.arange(3), c='black', linewidth=5, alpha=0.5)\n",
    "\n",
    "ax[0].set_xlabel('Original Distances', fontsize=20)\n",
    "ax[0].set_ylabel('Embedding Distances / $\\lambda$', fontsize=20)\n",
    "\n",
    "ax[1].hist(hyp_emb2D['sig'])\n",
    "ax[1].set_xlabel('Embedding Uncertainties', fontsize=20)"
   ]
  },
  {
   "cell_type": "markdown",
   "id": "23edc498",
   "metadata": {},
   "source": [
    "### Strategy: randomize the positions of the poorly fit points, and then return the coordinates as the initial conditions to continue optimizing. This bumps the simulation out of the false minimium without destroying all of the work its already done"
   ]
  },
  {
   "cell_type": "code",
   "execution_count": null,
   "id": "e47006a6",
   "metadata": {},
   "outputs": [],
   "source": [
    "#figure out which pts have high uncertainty, and randomize their coordinates without touching the rest of the points\n",
    "N_refit = np.where(hyp_emb2D['sig'] > 0.3)[0].shape[0]\n",
    "hyp_emb2D['euc'][np.where(hyp_emb2D['sig'] > 0.3)] = stats.norm.rvs(size=(N_refit,2))"
   ]
  },
  {
   "cell_type": "code",
   "execution_count": null,
   "id": "44aa4765",
   "metadata": {},
   "outputs": [],
   "source": [
    "#re-reun the optimizer, but this time sepcify the initial condition by passing the previous simulation dictionary\n",
    "dat={'N':100, 'D':2, 'deltaij':mat_2D}\n",
    "model2D = ltz_m.optimize(data=dat, iter=250000, algorithm='LBFGS', tol_rel_grad=1e2,inits = hyp_emb2D)\n",
    "hyp_emb2D = {'euc':model2D.euc, 'sig':model2D.sig, 'lambda':model2D.stan_variable('lambda')}\n",
    "# tst_2D = ltz_m.optimizing(data=dat, iter=250000, tol_rel_grad=1e2, init=tst_2D)"
   ]
  },
  {
   "cell_type": "code",
   "execution_count": null,
   "id": "4dc911c9",
   "metadata": {},
   "outputs": [],
   "source": [
    "process_sim(hyp_emb2D)"
   ]
  },
  {
   "cell_type": "markdown",
   "id": "b28b534e",
   "metadata": {},
   "source": [
    "### We see that the fit is significantly better, although there are still a few poorly fit points. We could keep iterating the above process until all points are well fit."
   ]
  },
  {
   "cell_type": "code",
   "execution_count": null,
   "id": "9f3fa17a",
   "metadata": {},
   "outputs": [],
   "source": [
    "fig, ax = plt.subplots(1, 2, figsize=(15,7.5))\n",
    "\n",
    "ax[0].scatter(mat_2D[np.triu_indices(100, k=1)], hyp_emb2D['emb_mat'][np.triu_indices(100, k=1)])\n",
    "ax[0].plot(np.arange(3), np.arange(3), c='black', linewidth=5, alpha=0.5)\n",
    "\n",
    "ax[0].set_xlabel('Original Distances', fontsize=20)\n",
    "ax[0].set_ylabel('Embedding Distances / $\\lambda$', fontsize=20)\n",
    "\n",
    "ax[1].hist(hyp_emb2D['sig'])\n",
    "ax[1].set_xlabel('Embedding Uncertainties', fontsize=20)"
   ]
  }
 ],
 "metadata": {
  "kernelspec": {
   "display_name": "Python 3 (ipykernel)",
   "language": "python",
   "name": "python3"
  },
  "language_info": {
   "codemirror_mode": {
    "name": "ipython",
    "version": 3
   },
   "file_extension": ".py",
   "mimetype": "text/x-python",
   "name": "python",
   "nbconvert_exporter": "python",
   "pygments_lexer": "ipython3",
   "version": "3.1.-1"
  }
 },
 "nbformat": 4,
 "nbformat_minor": 5
}
