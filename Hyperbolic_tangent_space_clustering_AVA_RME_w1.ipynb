{
 "cells": [
  {
   "cell_type": "code",
   "execution_count": 1,
   "metadata": {},
   "outputs": [],
   "source": [
    "''' Code from Haodong Qin\n",
    "edited by Iulia Rusu \n",
    "'''\n",
    "\n",
    "import sys, os #, re, glob, socket, glob\n",
    "\n",
    "import pandas as pd\n",
    "import numpy as np\n",
    "import matplotlib.pyplot as plt\n",
    "import seaborn as sns\n",
    "from matplotlib import rcParams\n",
    "\n",
    "\n"
   ]
  },
  {
   "cell_type": "code",
   "execution_count": 2,
   "metadata": {},
   "outputs": [],
   "source": [
    "#import sci-kit learn for logistic regression\n",
    "from sklearn.model_selection import train_test_split\n",
    "from sklearn.linear_model import LogisticRegression\n",
    "from sklearn.metrics import accuracy_score, confusion_matrix\n",
    "from sklearn import metrics\n",
    "from sklearn.metrics import classification_report"
   ]
  },
  {
   "cell_type": "markdown",
   "metadata": {},
   "source": [
    "### 1: Functions needed for geodesic projection"
   ]
  },
  {
   "cell_type": "code",
   "execution_count": 3,
   "metadata": {},
   "outputs": [],
   "source": [
    "def Mobius_addition(x,y,c):\n",
    "\n",
    "    # x,y are N-dim vectors, c is the curvature of the hyperbolic space\n",
    "    # vector addition in hyperbolic space\n",
    "\n",
    "    top = (1 + 2*c* np.dot(x,y) + c* np.dot(y,y))*x + (1-c*np.dot(x,x))*y\n",
    "    bottom = 1 + 2*c* np.dot(x,y) + c**2*np.dot(x,x)*np.dot(y,y)\n",
    "    return top/bottom\n",
    "\n",
    "\n",
    "def Mobius_scalarMulti(x,r,c):\n",
    "\n",
    "    # scalar vector multiplication\n",
    "    # x is a N-dim vector, c is the curvature of the hyperbolic space\n",
    "\n",
    "    result = 1/np.sqrt(c)*np.tanh(r*np.arctanh(np.sqrt( c*np.dot(x,x) ))) * x/np.sqrt(np.dot(x,x))\n",
    "    return result \n",
    "\n",
    "\n",
    "def Geodesic_distance(x,y,c):\n",
    "    \n",
    "    # x,y are N-dim vectors, c is the curvature of the hyperbolic space\n",
    "    # vector addition in hyperbolic space\n",
    "    direc_vector = Mobius_addition(-x,y,c)\n",
    "    dist = 2/np.sqrt(c)*np.arctanh(np.sqrt(c * np.dot(direc_vector,direc_vector) ))\n",
    "\n",
    "    return dist\n",
    "\n",
    "def Geodesic_r(t,x,y,c):\n",
    "\n",
    "    # find the position vector on the geodesic connecting two vectors x and y \n",
    "    # when t = 0, final_position = x\n",
    "    # when t = 1, final_position = y\n",
    "    direc_vector = Mobius_addition(-x,y,c)\n",
    "\n",
    "    displace_vector = Mobius_scalarMulti(direc_vector,t,c)\n",
    "\n",
    "    final_position = Mobius_addition(x,displace_vector,c)\n",
    "\n",
    "    return final_position\n",
    "\n",
    "def Geodesic_projection_OptFun(t,x,y,c,p):\n",
    "    # Function that is needed to optimized to find the geometric projection t\n",
    "    # x,y are N-dim vectors, c is the curvature of the hyperbolic space\n",
    "    # geodesic is connecting x and y\n",
    "    # p is some vector \n",
    "\n",
    "    r_geodesic = Geodesic_r(t,x,y,c)\n",
    "\n",
    "    dist = Geodesic_distance(p,r_geodesic,c)\n",
    "\n",
    "    return dist\n",
    "\n",
    "\n",
    "def conformal_factor(x,c):\n",
    "    # deformation of the mapping from linear to hyperbolic space at position x\n",
    "\n",
    "    lambda_c_x = 2/(1-c*np.dot(x,x))\n",
    "    return lambda_c_x\n",
    "\n",
    "def logarithmic_map(x,y,c):\n",
    "\n",
    "    # the logarithmic_map will map a position vector y onto the tangent space at x in a hyperbolic space with curvature c\n",
    "    # logarithmic_map: position in hyperbolic space -> tangent vector in tangent space\n",
    "    \n",
    "    minus_x_plus_y = Mobius_addition(-x,y,c)\n",
    "\n",
    "    length_minus_x_plus_y = np.sqrt(np.dot(minus_x_plus_y,minus_x_plus_y))\n",
    "\n",
    "    prefactor = 2/np.sqrt(c)/conformal_factor(x,c)*np.arctanh(np.sqrt(c)*length_minus_x_plus_y) \n",
    "\n",
    "    tangent_vector = prefactor*minus_x_plus_y/length_minus_x_plus_y\n",
    "\n",
    "    return tangent_vector\n",
    "\n",
    "def exponential_map(x,v,c):\n",
    "\n",
    "    # the exponential_map will map a tangent vector v in the tangent space at x to a position vector in hyperbolic space with curvature c\n",
    "    # exponential_map: tangent vector in tangent space -> position in hyperbolic space\n",
    "\n",
    "    # first mapping the tangent vector v in linear space to vector in hyperbolic space\n",
    "    length_v = np.sqrt(np.dot(v,v))\n",
    "    constant_1 = np.sqrt(c)*conformal_factor(x,c)*length_v/2\n",
    "    v_hyp = np.tanh(constant_1)*v/length_v/np.sqrt(c)\n",
    "\n",
    "    # position vector in hyperbolic space:\n",
    "    position_vector = Mobius_addition(x,v_hyp,c)\n",
    "\n",
    "    return position_vector\n",
    "\n",
    "\n",
    "    "
   ]
  },
  {
   "cell_type": "markdown",
   "metadata": {},
   "source": [
    "### 3: doing the geometric projection"
   ]
  },
  {
   "cell_type": "code",
   "execution_count": 4,
   "metadata": {},
   "outputs": [],
   "source": [
    "def hyp_to_hyp_poincare(hyp):\n",
    "\n",
    "    t = 1\n",
    "    for coord_idx in hyp.columns:\n",
    "\n",
    "        t = t + hyp[coord_idx]**2\n",
    "\n",
    "    t = np.sqrt(t)\n",
    "\n",
    "    hyp_geo = hyp.copy()\n",
    "\n",
    "    for coord_idx in hyp_geo.columns:\n",
    "\n",
    "        hyp_geo[coord_idx] =  hyp_geo[coord_idx]/(1+t)\n",
    "\n",
    "    return hyp_geo\n"
   ]
  },
  {
   "cell_type": "code",
   "execution_count": 5,
   "metadata": {},
   "outputs": [],
   "source": [
    "#access hyp_emb from different notebook\n",
    "%store -r w0_ava_rme\n",
    "%store -r w1_ava_rme\n",
    "%store -r w2_ava_rme\n",
    "%store -r w3_ava_rme\n",
    "%store -r w4_ava_rme\n",
    "%store -r w5_ava_rme\n",
    "%store -r w6_ava_rme\n"
   ]
  },
  {
   "cell_type": "code",
   "execution_count": 6,
   "metadata": {},
   "outputs": [],
   "source": [
    "#  import your data as dataframe, make sure the columns only include coordinates in the hyperbolic space\n",
    "df_data = pd.DataFrame(np.concatenate([w0_ava_rme, w1_ava_rme, w2_ava_rme, w3_ava_rme, w4_ava_rme, w5_ava_rme, w6_ava_rme],axis = 0) )\n",
    "\n",
    "# select the point where the tangent space is located, usually at the origin\n",
    "reference_point_tangent_space =  np.zeros(df_data.shape[1])"
   ]
  },
  {
   "cell_type": "code",
   "execution_count": 7,
   "metadata": {},
   "outputs": [
    {
     "data": {
      "text/html": [
       "<div>\n",
       "<style scoped>\n",
       "    .dataframe tbody tr th:only-of-type {\n",
       "        vertical-align: middle;\n",
       "    }\n",
       "\n",
       "    .dataframe tbody tr th {\n",
       "        vertical-align: top;\n",
       "    }\n",
       "\n",
       "    .dataframe thead th {\n",
       "        text-align: right;\n",
       "    }\n",
       "</style>\n",
       "<table border=\"1\" class=\"dataframe\">\n",
       "  <thead>\n",
       "    <tr style=\"text-align: right;\">\n",
       "      <th></th>\n",
       "      <th>0</th>\n",
       "      <th>1</th>\n",
       "      <th>2</th>\n",
       "    </tr>\n",
       "  </thead>\n",
       "  <tbody>\n",
       "    <tr>\n",
       "      <th>0</th>\n",
       "      <td>0.160495</td>\n",
       "      <td>-0.347612</td>\n",
       "      <td>-0.324184</td>\n",
       "    </tr>\n",
       "    <tr>\n",
       "      <th>1</th>\n",
       "      <td>0.149646</td>\n",
       "      <td>-0.342553</td>\n",
       "      <td>-0.329839</td>\n",
       "    </tr>\n",
       "    <tr>\n",
       "      <th>2</th>\n",
       "      <td>0.157287</td>\n",
       "      <td>-0.349319</td>\n",
       "      <td>-0.335812</td>\n",
       "    </tr>\n",
       "    <tr>\n",
       "      <th>3</th>\n",
       "      <td>0.166503</td>\n",
       "      <td>-0.356502</td>\n",
       "      <td>-0.323718</td>\n",
       "    </tr>\n",
       "    <tr>\n",
       "      <th>4</th>\n",
       "      <td>0.167412</td>\n",
       "      <td>-0.362113</td>\n",
       "      <td>-0.326391</td>\n",
       "    </tr>\n",
       "    <tr>\n",
       "      <th>...</th>\n",
       "      <td>...</td>\n",
       "      <td>...</td>\n",
       "      <td>...</td>\n",
       "    </tr>\n",
       "    <tr>\n",
       "      <th>77</th>\n",
       "      <td>-0.039181</td>\n",
       "      <td>-0.179207</td>\n",
       "      <td>0.561834</td>\n",
       "    </tr>\n",
       "    <tr>\n",
       "      <th>78</th>\n",
       "      <td>-0.125978</td>\n",
       "      <td>0.372208</td>\n",
       "      <td>0.494992</td>\n",
       "    </tr>\n",
       "    <tr>\n",
       "      <th>79</th>\n",
       "      <td>0.453220</td>\n",
       "      <td>0.113079</td>\n",
       "      <td>0.186094</td>\n",
       "    </tr>\n",
       "    <tr>\n",
       "      <th>80</th>\n",
       "      <td>0.536327</td>\n",
       "      <td>0.312181</td>\n",
       "      <td>0.062281</td>\n",
       "    </tr>\n",
       "    <tr>\n",
       "      <th>81</th>\n",
       "      <td>0.070481</td>\n",
       "      <td>0.423927</td>\n",
       "      <td>0.287155</td>\n",
       "    </tr>\n",
       "  </tbody>\n",
       "</table>\n",
       "<p>82 rows × 3 columns</p>\n",
       "</div>"
      ],
      "text/plain": [
       "           0         1         2\n",
       "0   0.160495 -0.347612 -0.324184\n",
       "1   0.149646 -0.342553 -0.329839\n",
       "2   0.157287 -0.349319 -0.335812\n",
       "3   0.166503 -0.356502 -0.323718\n",
       "4   0.167412 -0.362113 -0.326391\n",
       "..       ...       ...       ...\n",
       "77 -0.039181 -0.179207  0.561834\n",
       "78 -0.125978  0.372208  0.494992\n",
       "79  0.453220  0.113079  0.186094\n",
       "80  0.536327  0.312181  0.062281\n",
       "81  0.070481  0.423927  0.287155\n",
       "\n",
       "[82 rows x 3 columns]"
      ]
     },
     "execution_count": 7,
     "metadata": {},
     "output_type": "execute_result"
    }
   ],
   "source": [
    "df_data"
   ]
  },
  {
   "cell_type": "code",
   "execution_count": 8,
   "metadata": {},
   "outputs": [],
   "source": [
    "# transform the coordinates from native to Poincare ball\n",
    "hyp_poincare = hyp_to_hyp_poincare(df_data)\n",
    "\n",
    "# constant, this is fixed, no change\n",
    "c_hyperbolicSpace = 1\n",
    "\n",
    "# calculate the tangent vector using logrithmic map\n",
    "hyp_tangent = hyp_poincare.copy()\n",
    "\n",
    "for i in range(hyp_poincare.shape[0]):\n",
    "    current_position_hyp = np.squeeze(hyp_tangent.values[i])\n",
    "    hyp_tangent.iloc[i] = logarithmic_map(reference_point_tangent_space,current_position_hyp,c_hyperbolicSpace)\n"
   ]
  },
  {
   "cell_type": "code",
   "execution_count": 9,
   "metadata": {},
   "outputs": [
    {
     "data": {
      "text/html": [
       "<div>\n",
       "<style scoped>\n",
       "    .dataframe tbody tr th:only-of-type {\n",
       "        vertical-align: middle;\n",
       "    }\n",
       "\n",
       "    .dataframe tbody tr th {\n",
       "        vertical-align: top;\n",
       "    }\n",
       "\n",
       "    .dataframe thead th {\n",
       "        text-align: right;\n",
       "    }\n",
       "</style>\n",
       "<table border=\"1\" class=\"dataframe\">\n",
       "  <thead>\n",
       "    <tr style=\"text-align: right;\">\n",
       "      <th></th>\n",
       "      <th>0</th>\n",
       "      <th>1</th>\n",
       "      <th>2</th>\n",
       "    </tr>\n",
       "  </thead>\n",
       "  <tbody>\n",
       "    <tr>\n",
       "      <th>0</th>\n",
       "      <td>0.077214</td>\n",
       "      <td>-0.167235</td>\n",
       "      <td>-0.155964</td>\n",
       "    </tr>\n",
       "    <tr>\n",
       "      <th>1</th>\n",
       "      <td>0.072026</td>\n",
       "      <td>-0.164875</td>\n",
       "      <td>-0.158755</td>\n",
       "    </tr>\n",
       "    <tr>\n",
       "      <th>2</th>\n",
       "      <td>0.075587</td>\n",
       "      <td>-0.167871</td>\n",
       "      <td>-0.161380</td>\n",
       "    </tr>\n",
       "    <tr>\n",
       "      <th>3</th>\n",
       "      <td>0.080015</td>\n",
       "      <td>-0.171321</td>\n",
       "      <td>-0.155566</td>\n",
       "    </tr>\n",
       "    <tr>\n",
       "      <th>4</th>\n",
       "      <td>0.080383</td>\n",
       "      <td>-0.173869</td>\n",
       "      <td>-0.156717</td>\n",
       "    </tr>\n",
       "    <tr>\n",
       "      <th>...</th>\n",
       "      <td>...</td>\n",
       "      <td>...</td>\n",
       "      <td>...</td>\n",
       "    </tr>\n",
       "    <tr>\n",
       "      <th>77</th>\n",
       "      <td>-0.018599</td>\n",
       "      <td>-0.085069</td>\n",
       "      <td>0.266700</td>\n",
       "    </tr>\n",
       "    <tr>\n",
       "      <th>78</th>\n",
       "      <td>-0.059408</td>\n",
       "      <td>0.175524</td>\n",
       "      <td>0.233426</td>\n",
       "    </tr>\n",
       "    <tr>\n",
       "      <th>79</th>\n",
       "      <td>0.218008</td>\n",
       "      <td>0.054393</td>\n",
       "      <td>0.089515</td>\n",
       "    </tr>\n",
       "    <tr>\n",
       "      <th>80</th>\n",
       "      <td>0.253262</td>\n",
       "      <td>0.147417</td>\n",
       "      <td>0.029410</td>\n",
       "    </tr>\n",
       "    <tr>\n",
       "      <th>81</th>\n",
       "      <td>0.033835</td>\n",
       "      <td>0.203508</td>\n",
       "      <td>0.137850</td>\n",
       "    </tr>\n",
       "  </tbody>\n",
       "</table>\n",
       "<p>82 rows × 3 columns</p>\n",
       "</div>"
      ],
      "text/plain": [
       "           0         1         2\n",
       "0   0.077214 -0.167235 -0.155964\n",
       "1   0.072026 -0.164875 -0.158755\n",
       "2   0.075587 -0.167871 -0.161380\n",
       "3   0.080015 -0.171321 -0.155566\n",
       "4   0.080383 -0.173869 -0.156717\n",
       "..       ...       ...       ...\n",
       "77 -0.018599 -0.085069  0.266700\n",
       "78 -0.059408  0.175524  0.233426\n",
       "79  0.218008  0.054393  0.089515\n",
       "80  0.253262  0.147417  0.029410\n",
       "81  0.033835  0.203508  0.137850\n",
       "\n",
       "[82 rows x 3 columns]"
      ]
     },
     "execution_count": 9,
     "metadata": {},
     "output_type": "execute_result"
    }
   ],
   "source": [
    "hyp_tangent\n"
   ]
  },
  {
   "cell_type": "code",
   "execution_count": 10,
   "metadata": {},
   "outputs": [],
   "source": [
    "%store -r ava_rme_0_labels\n",
    "%store -r ava_rme_1_labels\n",
    "%store -r ava_rme_2_labels\n",
    "%store -r ava_rme_3_labels\n",
    "%store -r ava_rme_4_labels\n",
    "%store -r ava_rme_5_labels\n",
    "%store -r ava_rme_6_labels"
   ]
  },
  {
   "cell_type": "code",
   "execution_count": 11,
   "metadata": {},
   "outputs": [],
   "source": [
    "labels = np.concatenate([ava_rme_0_labels, ava_rme_1_labels, ava_rme_2_labels, ava_rme_3_labels, ava_rme_4_labels, ava_rme_5_labels, ava_rme_6_labels],axis = 0)"
   ]
  },
  {
   "cell_type": "code",
   "execution_count": 12,
   "metadata": {},
   "outputs": [],
   "source": [
    "hyp_tangent['identity'] = labels"
   ]
  },
  {
   "cell_type": "code",
   "execution_count": 13,
   "metadata": {},
   "outputs": [
    {
     "data": {
      "text/html": [
       "<div>\n",
       "<style scoped>\n",
       "    .dataframe tbody tr th:only-of-type {\n",
       "        vertical-align: middle;\n",
       "    }\n",
       "\n",
       "    .dataframe tbody tr th {\n",
       "        vertical-align: top;\n",
       "    }\n",
       "\n",
       "    .dataframe thead th {\n",
       "        text-align: right;\n",
       "    }\n",
       "</style>\n",
       "<table border=\"1\" class=\"dataframe\">\n",
       "  <thead>\n",
       "    <tr style=\"text-align: right;\">\n",
       "      <th></th>\n",
       "      <th>0</th>\n",
       "      <th>1</th>\n",
       "      <th>2</th>\n",
       "      <th>identity</th>\n",
       "    </tr>\n",
       "  </thead>\n",
       "  <tbody>\n",
       "    <tr>\n",
       "      <th>0</th>\n",
       "      <td>0.077214</td>\n",
       "      <td>-0.167235</td>\n",
       "      <td>-0.155964</td>\n",
       "      <td>AVA</td>\n",
       "    </tr>\n",
       "    <tr>\n",
       "      <th>1</th>\n",
       "      <td>0.072026</td>\n",
       "      <td>-0.164875</td>\n",
       "      <td>-0.158755</td>\n",
       "      <td>AVA</td>\n",
       "    </tr>\n",
       "    <tr>\n",
       "      <th>2</th>\n",
       "      <td>0.075587</td>\n",
       "      <td>-0.167871</td>\n",
       "      <td>-0.161380</td>\n",
       "      <td>AVA</td>\n",
       "    </tr>\n",
       "    <tr>\n",
       "      <th>3</th>\n",
       "      <td>0.080015</td>\n",
       "      <td>-0.171321</td>\n",
       "      <td>-0.155566</td>\n",
       "      <td>AVA</td>\n",
       "    </tr>\n",
       "    <tr>\n",
       "      <th>4</th>\n",
       "      <td>0.080383</td>\n",
       "      <td>-0.173869</td>\n",
       "      <td>-0.156717</td>\n",
       "      <td>AVA</td>\n",
       "    </tr>\n",
       "    <tr>\n",
       "      <th>...</th>\n",
       "      <td>...</td>\n",
       "      <td>...</td>\n",
       "      <td>...</td>\n",
       "      <td>...</td>\n",
       "    </tr>\n",
       "    <tr>\n",
       "      <th>77</th>\n",
       "      <td>-0.018599</td>\n",
       "      <td>-0.085069</td>\n",
       "      <td>0.266700</td>\n",
       "      <td>RME</td>\n",
       "    </tr>\n",
       "    <tr>\n",
       "      <th>78</th>\n",
       "      <td>-0.059408</td>\n",
       "      <td>0.175524</td>\n",
       "      <td>0.233426</td>\n",
       "      <td>RME</td>\n",
       "    </tr>\n",
       "    <tr>\n",
       "      <th>79</th>\n",
       "      <td>0.218008</td>\n",
       "      <td>0.054393</td>\n",
       "      <td>0.089515</td>\n",
       "      <td>RME</td>\n",
       "    </tr>\n",
       "    <tr>\n",
       "      <th>80</th>\n",
       "      <td>0.253262</td>\n",
       "      <td>0.147417</td>\n",
       "      <td>0.029410</td>\n",
       "      <td>RME</td>\n",
       "    </tr>\n",
       "    <tr>\n",
       "      <th>81</th>\n",
       "      <td>0.033835</td>\n",
       "      <td>0.203508</td>\n",
       "      <td>0.137850</td>\n",
       "      <td>RME</td>\n",
       "    </tr>\n",
       "  </tbody>\n",
       "</table>\n",
       "<p>82 rows × 4 columns</p>\n",
       "</div>"
      ],
      "text/plain": [
       "           0         1         2 identity\n",
       "0   0.077214 -0.167235 -0.155964      AVA\n",
       "1   0.072026 -0.164875 -0.158755      AVA\n",
       "2   0.075587 -0.167871 -0.161380      AVA\n",
       "3   0.080015 -0.171321 -0.155566      AVA\n",
       "4   0.080383 -0.173869 -0.156717      AVA\n",
       "..       ...       ...       ...      ...\n",
       "77 -0.018599 -0.085069  0.266700      RME\n",
       "78 -0.059408  0.175524  0.233426      RME\n",
       "79  0.218008  0.054393  0.089515      RME\n",
       "80  0.253262  0.147417  0.029410      RME\n",
       "81  0.033835  0.203508  0.137850      RME\n",
       "\n",
       "[82 rows x 4 columns]"
      ]
     },
     "execution_count": 13,
     "metadata": {},
     "output_type": "execute_result"
    }
   ],
   "source": [
    "hyp_tangent"
   ]
  },
  {
   "cell_type": "code",
   "execution_count": 46,
   "metadata": {},
   "outputs": [],
   "source": [
    "ava_rme_emb_pcoords = hyp_tangent  "
   ]
  },
  {
   "cell_type": "code",
   "execution_count": null,
   "metadata": {},
   "outputs": [],
   "source": [
    "%store ava_rme_emb_pcoords"
   ]
  },
  {
   "cell_type": "code",
   "execution_count": 14,
   "metadata": {},
   "outputs": [],
   "source": [
    "data = hyp_tangent"
   ]
  },
  {
   "cell_type": "code",
   "execution_count": 15,
   "metadata": {},
   "outputs": [],
   "source": [
    "# ON_means= np.mean(data.values[0:29, :], axis = 0)\n",
    "#caluclate means across the column\n",
    "\n",
    "RME_means = data[data['identity'] == 'RME'].iloc[:, 0:3].mean(axis=0)"
   ]
  },
  {
   "cell_type": "code",
   "execution_count": 16,
   "metadata": {},
   "outputs": [],
   "source": [
    "RME_means = np.array(RME_means)"
   ]
  },
  {
   "cell_type": "code",
   "execution_count": 17,
   "metadata": {},
   "outputs": [
    {
     "data": {
      "text/plain": [
       "array([0.06194536, 0.00585337, 0.00849334])"
      ]
     },
     "execution_count": 17,
     "metadata": {},
     "output_type": "execute_result"
    }
   ],
   "source": [
    "RME_means"
   ]
  },
  {
   "cell_type": "code",
   "execution_count": 18,
   "metadata": {},
   "outputs": [],
   "source": [
    "AVA_means = data[data['identity'] == 'AVA'].iloc[:, 0:3].mean(axis=0)"
   ]
  },
  {
   "cell_type": "code",
   "execution_count": 19,
   "metadata": {},
   "outputs": [],
   "source": [
    "AVA_means = np.array(AVA_means)"
   ]
  },
  {
   "cell_type": "code",
   "execution_count": 21,
   "metadata": {},
   "outputs": [
    {
     "data": {
      "text/plain": [
       "array([-0.05510674, -0.07945679, -0.07615414])"
      ]
     },
     "execution_count": 21,
     "metadata": {},
     "output_type": "execute_result"
    }
   ],
   "source": [
    "AVA_means"
   ]
  },
  {
   "cell_type": "code",
   "execution_count": 22,
   "metadata": {},
   "outputs": [],
   "source": [
    "#subtract ON from OFF\n",
    "diff_means = RME_means[0:3] - AVA_means[0:3]"
   ]
  },
  {
   "cell_type": "code",
   "execution_count": 23,
   "metadata": {},
   "outputs": [],
   "source": [
    "#normalize the difference\n",
    "normalized = diff_means/np.linalg.norm(diff_means)"
   ]
  },
  {
   "cell_type": "code",
   "execution_count": 24,
   "metadata": {},
   "outputs": [
    {
     "data": {
      "text/plain": [
       "array([0.69772558, 0.50851787, 0.50456772])"
      ]
     },
     "execution_count": 24,
     "metadata": {},
     "output_type": "execute_result"
    }
   ],
   "source": [
    "normalized"
   ]
  },
  {
   "cell_type": "code",
   "execution_count": 25,
   "metadata": {},
   "outputs": [],
   "source": [
    "axis_trans = np.dot(data.values[:, 0:3], normalized)"
   ]
  },
  {
   "cell_type": "code",
   "execution_count": 26,
   "metadata": {},
   "outputs": [
    {
     "data": {
      "text/plain": [
       "(82,)"
      ]
     },
     "execution_count": 26,
     "metadata": {},
     "output_type": "execute_result"
    }
   ],
   "source": [
    "axis_trans.shape"
   ]
  },
  {
   "cell_type": "code",
   "execution_count": 27,
   "metadata": {},
   "outputs": [],
   "source": [
    "axis_trans_df = pd.DataFrame(axis_trans)"
   ]
  },
  {
   "cell_type": "code",
   "execution_count": 28,
   "metadata": {},
   "outputs": [
    {
     "data": {
      "text/html": [
       "<div>\n",
       "<style scoped>\n",
       "    .dataframe tbody tr th:only-of-type {\n",
       "        vertical-align: middle;\n",
       "    }\n",
       "\n",
       "    .dataframe tbody tr th {\n",
       "        vertical-align: top;\n",
       "    }\n",
       "\n",
       "    .dataframe thead th {\n",
       "        text-align: right;\n",
       "    }\n",
       "</style>\n",
       "<table border=\"1\" class=\"dataframe\">\n",
       "  <thead>\n",
       "    <tr style=\"text-align: right;\">\n",
       "      <th></th>\n",
       "      <th>0</th>\n",
       "    </tr>\n",
       "  </thead>\n",
       "  <tbody>\n",
       "    <tr>\n",
       "      <th>0</th>\n",
       "      <td>-0.109862</td>\n",
       "    </tr>\n",
       "    <tr>\n",
       "      <th>1</th>\n",
       "      <td>-0.11369</td>\n",
       "    </tr>\n",
       "    <tr>\n",
       "      <th>2</th>\n",
       "      <td>-0.114053</td>\n",
       "    </tr>\n",
       "    <tr>\n",
       "      <th>3</th>\n",
       "      <td>-0.109785</td>\n",
       "    </tr>\n",
       "    <tr>\n",
       "      <th>4</th>\n",
       "      <td>-0.111404</td>\n",
       "    </tr>\n",
       "    <tr>\n",
       "      <th>...</th>\n",
       "      <td>...</td>\n",
       "    </tr>\n",
       "    <tr>\n",
       "      <th>77</th>\n",
       "      <td>0.078332</td>\n",
       "    </tr>\n",
       "    <tr>\n",
       "      <th>78</th>\n",
       "      <td>0.165586</td>\n",
       "    </tr>\n",
       "    <tr>\n",
       "      <th>79</th>\n",
       "      <td>0.224936</td>\n",
       "    </tr>\n",
       "    <tr>\n",
       "      <th>80</th>\n",
       "      <td>0.266511</td>\n",
       "    </tr>\n",
       "    <tr>\n",
       "      <th>81</th>\n",
       "      <td>0.196649</td>\n",
       "    </tr>\n",
       "  </tbody>\n",
       "</table>\n",
       "<p>82 rows × 1 columns</p>\n",
       "</div>"
      ],
      "text/plain": [
       "           0\n",
       "0  -0.109862\n",
       "1   -0.11369\n",
       "2  -0.114053\n",
       "3  -0.109785\n",
       "4  -0.111404\n",
       "..       ...\n",
       "77  0.078332\n",
       "78  0.165586\n",
       "79  0.224936\n",
       "80  0.266511\n",
       "81  0.196649\n",
       "\n",
       "[82 rows x 1 columns]"
      ]
     },
     "execution_count": 28,
     "metadata": {},
     "output_type": "execute_result"
    }
   ],
   "source": [
    "axis_trans_df"
   ]
  },
  {
   "cell_type": "code",
   "execution_count": 29,
   "metadata": {},
   "outputs": [
    {
     "data": {
      "text/plain": [
       "(82,)"
      ]
     },
     "execution_count": 29,
     "metadata": {},
     "output_type": "execute_result"
    }
   ],
   "source": [
    "labels.shape"
   ]
  },
  {
   "cell_type": "code",
   "execution_count": 30,
   "metadata": {},
   "outputs": [],
   "source": [
    "axis_trans_df['identities'] = labels"
   ]
  },
  {
   "cell_type": "code",
   "execution_count": null,
   "metadata": {},
   "outputs": [],
   "source": [
    "clust_labs_reshaped = AVA_RME_stim1_labels[:, np.newaxis]\n",
    "clust_labs_reshaped.shape"
   ]
  },
  {
   "cell_type": "code",
   "execution_count": 62,
   "metadata": {},
   "outputs": [],
   "source": [
    "axis_trans_reshaped = axis_trans[:, np.newaxis]"
   ]
  },
  {
   "cell_type": "code",
   "execution_count": null,
   "metadata": {},
   "outputs": [],
   "source": [
    "combined_array = np.concatenate((axis_trans_reshaped, clust_labs_reshaped), axis=1)"
   ]
  },
  {
   "cell_type": "code",
   "execution_count": null,
   "metadata": {},
   "outputs": [],
   "source": [
    "axis_trans_df = pd.DataFrame(combined_array)"
   ]
  },
  {
   "cell_type": "code",
   "execution_count": 31,
   "metadata": {},
   "outputs": [
    {
     "data": {
      "text/html": [
       "<div>\n",
       "<style scoped>\n",
       "    .dataframe tbody tr th:only-of-type {\n",
       "        vertical-align: middle;\n",
       "    }\n",
       "\n",
       "    .dataframe tbody tr th {\n",
       "        vertical-align: top;\n",
       "    }\n",
       "\n",
       "    .dataframe thead th {\n",
       "        text-align: right;\n",
       "    }\n",
       "</style>\n",
       "<table border=\"1\" class=\"dataframe\">\n",
       "  <thead>\n",
       "    <tr style=\"text-align: right;\">\n",
       "      <th></th>\n",
       "      <th>0</th>\n",
       "      <th>identities</th>\n",
       "    </tr>\n",
       "  </thead>\n",
       "  <tbody>\n",
       "    <tr>\n",
       "      <th>0</th>\n",
       "      <td>-0.109862</td>\n",
       "      <td>AVA</td>\n",
       "    </tr>\n",
       "    <tr>\n",
       "      <th>1</th>\n",
       "      <td>-0.11369</td>\n",
       "      <td>AVA</td>\n",
       "    </tr>\n",
       "    <tr>\n",
       "      <th>2</th>\n",
       "      <td>-0.114053</td>\n",
       "      <td>AVA</td>\n",
       "    </tr>\n",
       "    <tr>\n",
       "      <th>3</th>\n",
       "      <td>-0.109785</td>\n",
       "      <td>AVA</td>\n",
       "    </tr>\n",
       "    <tr>\n",
       "      <th>4</th>\n",
       "      <td>-0.111404</td>\n",
       "      <td>AVA</td>\n",
       "    </tr>\n",
       "    <tr>\n",
       "      <th>...</th>\n",
       "      <td>...</td>\n",
       "      <td>...</td>\n",
       "    </tr>\n",
       "    <tr>\n",
       "      <th>77</th>\n",
       "      <td>0.078332</td>\n",
       "      <td>RME</td>\n",
       "    </tr>\n",
       "    <tr>\n",
       "      <th>78</th>\n",
       "      <td>0.165586</td>\n",
       "      <td>RME</td>\n",
       "    </tr>\n",
       "    <tr>\n",
       "      <th>79</th>\n",
       "      <td>0.224936</td>\n",
       "      <td>RME</td>\n",
       "    </tr>\n",
       "    <tr>\n",
       "      <th>80</th>\n",
       "      <td>0.266511</td>\n",
       "      <td>RME</td>\n",
       "    </tr>\n",
       "    <tr>\n",
       "      <th>81</th>\n",
       "      <td>0.196649</td>\n",
       "      <td>RME</td>\n",
       "    </tr>\n",
       "  </tbody>\n",
       "</table>\n",
       "<p>82 rows × 2 columns</p>\n",
       "</div>"
      ],
      "text/plain": [
       "           0 identities\n",
       "0  -0.109862        AVA\n",
       "1   -0.11369        AVA\n",
       "2  -0.114053        AVA\n",
       "3  -0.109785        AVA\n",
       "4  -0.111404        AVA\n",
       "..       ...        ...\n",
       "77  0.078332        RME\n",
       "78  0.165586        RME\n",
       "79  0.224936        RME\n",
       "80  0.266511        RME\n",
       "81  0.196649        RME\n",
       "\n",
       "[82 rows x 2 columns]"
      ]
     },
     "execution_count": 31,
     "metadata": {},
     "output_type": "execute_result"
    }
   ],
   "source": [
    "axis_trans_df"
   ]
  },
  {
   "cell_type": "code",
   "execution_count": 32,
   "metadata": {},
   "outputs": [
    {
     "data": {
      "image/png": "[encoded data removed]",
      "text/plain": [
       "<Figure size 1000x500 with 1 Axes>"
      ]
     },
     "metadata": {},
     "output_type": "display_data"
    }
   ],
   "source": [
    "axis_trans_df.columns = ['Value', 'Category']\n",
    "\n",
    "# Create a color map manually\n",
    "color_map = {\n",
    "    'RME': 'blue',  # Color for 'RME'\n",
    "    'AVA': 'red'  # Color for 'AVA'\n",
    "}\n",
    "\n",
    "# Map labels to colors using the color map\n",
    "label_colors = axis_trans_df['Category'].map(color_map)\n",
    "\n",
    "# Create scatter plot with specified figure size\n",
    "fig, ax = plt.subplots(figsize=(10, 5))\n",
    "ax.scatter(axis_trans_df['Value'], [0] * len(axis_trans_df), c=label_colors, s=100, alpha = 0.5)\n",
    "ax.set_xlabel('Value')\n",
    "ax.yaxis.set_visible(False)\n",
    "ax.set_title('AVA and RME: Worm 0')\n",
    "# plt.savefig('/Users/iuliarusu/Documents/Sharpee/final_images/figure3/ava_rme_axis_0.svg', format='svg', bbox_inches='tight')\n",
    "plt.show()\n"
   ]
  },
  {
   "cell_type": "code",
   "execution_count": 33,
   "metadata": {},
   "outputs": [
    {
     "data": {
      "text/html": [
       "<div>\n",
       "<style scoped>\n",
       "    .dataframe tbody tr th:only-of-type {\n",
       "        vertical-align: middle;\n",
       "    }\n",
       "\n",
       "    .dataframe tbody tr th {\n",
       "        vertical-align: top;\n",
       "    }\n",
       "\n",
       "    .dataframe thead th {\n",
       "        text-align: right;\n",
       "    }\n",
       "</style>\n",
       "<table border=\"1\" class=\"dataframe\">\n",
       "  <thead>\n",
       "    <tr style=\"text-align: right;\">\n",
       "      <th></th>\n",
       "      <th>Value</th>\n",
       "      <th>Category</th>\n",
       "    </tr>\n",
       "  </thead>\n",
       "  <tbody>\n",
       "    <tr>\n",
       "      <th>0</th>\n",
       "      <td>-0.109862</td>\n",
       "      <td>AVA</td>\n",
       "    </tr>\n",
       "    <tr>\n",
       "      <th>1</th>\n",
       "      <td>-0.11369</td>\n",
       "      <td>AVA</td>\n",
       "    </tr>\n",
       "    <tr>\n",
       "      <th>2</th>\n",
       "      <td>-0.114053</td>\n",
       "      <td>AVA</td>\n",
       "    </tr>\n",
       "    <tr>\n",
       "      <th>3</th>\n",
       "      <td>-0.109785</td>\n",
       "      <td>AVA</td>\n",
       "    </tr>\n",
       "    <tr>\n",
       "      <th>4</th>\n",
       "      <td>-0.111404</td>\n",
       "      <td>AVA</td>\n",
       "    </tr>\n",
       "    <tr>\n",
       "      <th>...</th>\n",
       "      <td>...</td>\n",
       "      <td>...</td>\n",
       "    </tr>\n",
       "    <tr>\n",
       "      <th>77</th>\n",
       "      <td>0.078332</td>\n",
       "      <td>RME</td>\n",
       "    </tr>\n",
       "    <tr>\n",
       "      <th>78</th>\n",
       "      <td>0.165586</td>\n",
       "      <td>RME</td>\n",
       "    </tr>\n",
       "    <tr>\n",
       "      <th>79</th>\n",
       "      <td>0.224936</td>\n",
       "      <td>RME</td>\n",
       "    </tr>\n",
       "    <tr>\n",
       "      <th>80</th>\n",
       "      <td>0.266511</td>\n",
       "      <td>RME</td>\n",
       "    </tr>\n",
       "    <tr>\n",
       "      <th>81</th>\n",
       "      <td>0.196649</td>\n",
       "      <td>RME</td>\n",
       "    </tr>\n",
       "  </tbody>\n",
       "</table>\n",
       "<p>82 rows × 2 columns</p>\n",
       "</div>"
      ],
      "text/plain": [
       "       Value Category\n",
       "0  -0.109862      AVA\n",
       "1   -0.11369      AVA\n",
       "2  -0.114053      AVA\n",
       "3  -0.109785      AVA\n",
       "4  -0.111404      AVA\n",
       "..       ...      ...\n",
       "77  0.078332      RME\n",
       "78  0.165586      RME\n",
       "79  0.224936      RME\n",
       "80  0.266511      RME\n",
       "81  0.196649      RME\n",
       "\n",
       "[82 rows x 2 columns]"
      ]
     },
     "execution_count": 33,
     "metadata": {},
     "output_type": "execute_result"
    }
   ],
   "source": [
    "axis_trans_df"
   ]
  },
  {
   "cell_type": "code",
   "execution_count": 44,
   "metadata": {},
   "outputs": [],
   "source": [
    "axis_trans_dfs = []\n",
    "\n",
    "#bulk code\n",
    "worms = [\n",
    "w0_ava_rme,\n",
    "w1_ava_rme,\n",
    "w2_ava_rme,\n",
    "w3_ava_rme,\n",
    "w4_ava_rme,\n",
    "w5_ava_rme,\n",
    "w6_ava_rme\n",
    "]\n",
    "\n",
    "worm_labels = [\n",
    "ava_rme_0_labels,\n",
    "ava_rme_1_labels,\n",
    "ava_rme_2_labels,\n",
    "ava_rme_3_labels,\n",
    "ava_rme_4_labels,\n",
    "ava_rme_5_labels,\n",
    "ava_rme_6_labels\n",
    "]\n",
    "\n",
    "for worm, worm_label in zip(worms, worm_labels):  # Iterate over both worms and their labels simultaneously\n",
    "    # Convert worm data to a DataFrame\n",
    "    df_data = pd.DataFrame(worm)\n",
    "\n",
    "    # Reference point for tangent space (origin)\n",
    "    reference_point_tangent_space = np.zeros(df_data.shape[1])\n",
    "\n",
    "    # Transform coordinates from native to Poincare ball\n",
    "    hyp_poincare = hyp_to_hyp_poincare(df_data)\n",
    "\n",
    "    # Constant for hyperbolic space\n",
    "    c_hyperbolicSpace = 1\n",
    "\n",
    "    # Calculate tangent vectors using the logarithmic map\n",
    "    hyp_tangent = hyp_poincare.copy()\n",
    "    for i in range(hyp_poincare.shape[0]):\n",
    "        current_position_hyp = np.squeeze(hyp_tangent.values[i])\n",
    "        hyp_tangent.iloc[i] = logarithmic_map(reference_point_tangent_space, current_position_hyp, c_hyperbolicSpace)\n",
    "\n",
    "    # Add identity labels to the tangent data\n",
    "    hyp_tangent['identity'] = worm_label\n",
    "\n",
    "    # Compute mean for RME and AVA groups\n",
    "    RME_means = hyp_tangent[hyp_tangent['identity'] == 'RME'].iloc[:, 0:3].mean(axis=0).to_numpy()\n",
    "    AVA_means = hyp_tangent[hyp_tangent['identity'] == 'AVA'].iloc[:, 0:3].mean(axis=0).to_numpy()\n",
    "\n",
    "    # Calculate the normalized difference between RME and AVA means\n",
    "    diff_means = RME_means - AVA_means\n",
    "    normalized = diff_means / np.linalg.norm(diff_means)\n",
    "\n",
    "    # Project data onto the axis of normalized difference\n",
    "    axis_trans = np.dot(hyp_tangent.iloc[:, 0:3].values, normalized)\n",
    "\n",
    "    # Create a DataFrame for the transformed axis\n",
    "    axis_trans_df = pd.DataFrame({'Value': axis_trans, 'Category': worm_label})\n",
    "    axis_trans_dfs.append(axis_trans_df)"
   ]
  },
  {
   "cell_type": "code",
   "execution_count": 35,
   "metadata": {},
   "outputs": [],
   "source": [
    "rcParams['font.family'] = 'sans-serif'\n",
    "rcParams['font.sans-serif'] = 'Arial'"
   ]
  },
  {
   "cell_type": "code",
   "execution_count": 45,
   "metadata": {},
   "outputs": [
    {
     "name": "stderr",
     "output_type": "stream",
     "text": [
      "/var/folders/4x/v6r504vx43l3xd43p7kmbr400000gn/T/ipykernel_40327/3164474713.py:44: UserWarning: This figure includes Axes that are not compatible with tight_layout, so results might be incorrect.\n",
      "  plt.tight_layout()\n"
     ]
    },
    {
     "data": {
      "image/png": "[encoded data removed]",
      "text/plain": [
       "<Figure size 1700x400 with 7 Axes>"
      ]
     },
     "metadata": {},
     "output_type": "display_data"
    }
   ],
   "source": [
    "# Define color map for categories\n",
    "color_map = {\n",
    "    'RME': 'blue',\n",
    "    'AVA': 'red'\n",
    "}\n",
    "\n",
    "# Create a figure with 7 subplots arranged in a row\n",
    "fig, axes = plt.subplots(\n",
    "    1, 7, \n",
    "    figsize=(17, 4), \n",
    "    sharey=True,\n",
    "    gridspec_kw={'wspace': 0.09}\n",
    ")\n",
    "\n",
    "# Iterate through each transformed dataset and corresponding subplot\n",
    "for i, (axis_trans_df, ax) in enumerate(zip(axis_trans_dfs, axes)):\n",
    "    # Map categories to colors\n",
    "    axis_trans_df.columns = ['Value', 'Category']  # Ensure consistent column names\n",
    "    label_colors = axis_trans_df['Category'].map(color_map)\n",
    "    \n",
    "    # Create scatter plot\n",
    "    ax.scatter(\n",
    "        axis_trans_df['Value'], \n",
    "        [0] * len(axis_trans_df),  # Plot all points at y=0\n",
    "        c=label_colors, \n",
    "        s=100, \n",
    "        alpha=0.5\n",
    "    )\n",
    "    ax.set_title(f'Worm {i}')\n",
    "    ax.set_ylim([-0.001, 0.001])  # Adjust the y-axis range to minimize empty space\n",
    "    ax.yaxis.set_visible(False)  # Hide the y-axis\n",
    "\n",
    "    # Set x-axis ticks to 3 evenly spaced values\n",
    "    x_min, x_max = axis_trans_df['Value'].min(), axis_trans_df['Value'].max()\n",
    "    xticks = np.linspace(x_min, x_max, 3)  # Define xticks correctly\n",
    "    ax.set_xticks(xticks)\n",
    "    ax.set_xticklabels([f'{x:.1f}' for x in xticks])\n",
    "\n",
    "       # Reduce the width of the box (spines)\n",
    "    for spine in ax.spines.values():\n",
    "        spine.set_linewidth(0.2) \n",
    "\n",
    "# Adjust layout to avoid overlap\n",
    "plt.tight_layout()\n",
    "# plt.savefig('/Users/iuliarusu/Documents/Sharpee/final_images/figure3/ava_rme_axis_all.svg', format='svg', bbox_inches='tight')\n",
    "# Show the figure\n",
    "plt.show()"
   ]
  },
  {
   "cell_type": "code",
   "execution_count": 63,
   "metadata": {},
   "outputs": [
    {
     "name": "stderr",
     "output_type": "stream",
     "text": [
      "/var/folders/4x/v6r504vx43l3xd43p7kmbr400000gn/T/ipykernel_40327/1894818439.py:55: UserWarning: This figure includes Axes that are not compatible with tight_layout, so results might be incorrect.\n",
      "  plt.tight_layout()\n"
     ]
    },
    {
     "data": {
      "image/png": "[encoded data removed]",
      "text/plain": [
       "<Figure size 500x1400 with 7 Axes>"
      ]
     },
     "metadata": {},
     "output_type": "display_data"
    }
   ],
   "source": [
    "import matplotlib.pyplot as plt\n",
    "import numpy as np\n",
    "\n",
    "# Define color map for categories\n",
    "color_map = {\n",
    "    'RME': 'blue',\n",
    "    'AVA': 'red'\n",
    "}\n",
    "\n",
    "# Create a figure with 7 vertical subplots, each having its own x-axis\n",
    "fig, axes = plt.subplots(\n",
    "    7, 1, \n",
    "    figsize=(5, 14), \n",
    "    sharey=True,  # Keep y-axis consistent but allow separate x-axes\n",
    "    gridspec_kw={'hspace': 0.3}  # Adjust spacing between plots\n",
    ")\n",
    "\n",
    "# Iterate through each transformed dataset and corresponding subplot\n",
    "for i, (axis_trans_df, ax) in enumerate(zip(axis_trans_dfs, axes)):\n",
    "    # Ensure correct column names\n",
    "    axis_trans_df.columns = ['Value', 'Category']  \n",
    "\n",
    "    # Map categories to colors\n",
    "    label_colors = axis_trans_df['Category'].map(color_map)\n",
    "    \n",
    "    # Create scatter plot for each worm\n",
    "    ax.scatter(\n",
    "        axis_trans_df['Value'], \n",
    "        [0] * len(axis_trans_df),  # Align points along y=0\n",
    "        c=label_colors, \n",
    "        s=100, \n",
    "        alpha=0.5\n",
    "    )\n",
    "    \n",
    "    # Set worm labels on the left side\n",
    "    # ax.set_ylabel(f'Worm {i}', rotation=0, fontsize=12, labelpad=30, ha='right', va='center')\n",
    "\n",
    "    # Remove y-axis ticks and labels\n",
    "    ax.set_yticks([])\n",
    "    ax.spines['right'].set_visible(True)\n",
    "\n",
    "    # Set x-axis ticks separately for each subplot\n",
    "    x_min, x_max = axis_trans_df['Value'].min(), axis_trans_df['Value'].max()\n",
    "    xticks = np.linspace(x_min, x_max, 3)  # Define xticks for each worm\n",
    "    ax.set_xticks(xticks)\n",
    "    ax.set_xticklabels([f'{x:.3f}' for x in xticks], fontsize=15)\n",
    "    gridspec_kw={'hspace': 0.2} # Reduce the width of the box (spines)\n",
    "    for spine in ax.spines.values():\n",
    "        spine.set_linewidth(0.2)\n",
    "\n",
    "# Set a general x-axis label at the bottom\n",
    "fig.text(0.5, 0.08, \"Dimension\", fontsize=14, ha='center')\n",
    "plt.savefig('/Users/iuliarusu/Documents/Sharpee/final_images/figure3/ava_rme_seperate_graphs.svg', format='svg', bbox_inches='tight')\n",
    "# Adjust layout to avoid overlap\n",
    "plt.tight_layout()\n",
    "plt.show()\n"
   ]
  },
  {
   "cell_type": "code",
   "execution_count": null,
   "metadata": {},
   "outputs": [],
   "source": [
    "axis_trans_df"
   ]
  },
  {
   "cell_type": "code",
   "execution_count": 37,
   "metadata": {},
   "outputs": [],
   "source": [
    "RME = axis_trans_df[axis_trans_df['Category'] == 'RME']['Value']\n",
    "AVA = axis_trans_df[axis_trans_df['Category'] == 'AVA']['Value']\n",
    "\n",
    "\n",
    "\n"
   ]
  },
  {
   "cell_type": "code",
   "execution_count": null,
   "metadata": {},
   "outputs": [],
   "source": [
    "plt.hist([RME, AVA], bins = 20, alpha=0.5, label=['RME', 'AVA'], color = [ 'blue','red'], histtype='stepfilled')\n"
   ]
  },
  {
   "cell_type": "code",
   "execution_count": null,
   "metadata": {},
   "outputs": [],
   "source": [
    "# Plotting KDE for each category\n",
    "sns.kdeplot(RME, color='blue', fill=True, alpha=0.5, label='RME')\n",
    "sns.kdeplot(AVA, color='red', fill=True, alpha=0.5, label='AVA')\n",
    "\n",
    "# Adding labels and title\n",
    "plt.xlabel('')\n",
    "plt.ylabel('Density')\n",
    "plt.title('Kernel Density Estimate of RME and AVA Values: Stimulus 1')\n",
    "plt.legend()\n",
    "\n",
    "# Show the plot\n",
    "plt.show()\n",
    "\n",
    "#what should the x-axis be?"
   ]
  },
  {
   "cell_type": "code",
   "execution_count": null,
   "metadata": {},
   "outputs": [],
   "source": [
    "#look at distance between distributions, KS distance "
   ]
  },
  {
   "cell_type": "code",
   "execution_count": 136,
   "metadata": {},
   "outputs": [],
   "source": [
    "#use svm in 8 dim space \n",
    "#also try a logistic regression, using 8 dim tangent space data and correspoding labels\n",
    "#try MNE on tangent space coords\n",
    "y = data.iloc[:, -1]\n",
    "X = data.iloc[:, 0:5]\n",
    "X_train, X_test, y_train, y_test = train_test_split(X, y, test_size=0.25, random_state=0)"
   ]
  },
  {
   "cell_type": "code",
   "execution_count": null,
   "metadata": {},
   "outputs": [],
   "source": [
    "logreg = LogisticRegression(random_state=16)\n",
    "\n",
    "# Train the model\n",
    "logreg.fit(X_train, y_train)"
   ]
  },
  {
   "cell_type": "code",
   "execution_count": null,
   "metadata": {},
   "outputs": [],
   "source": [
    "logreg.fit(X_train, y_train)"
   ]
  },
  {
   "cell_type": "code",
   "execution_count": 140,
   "metadata": {},
   "outputs": [],
   "source": [
    "y_pred = logreg.predict(X_test)"
   ]
  },
  {
   "cell_type": "code",
   "execution_count": null,
   "metadata": {},
   "outputs": [],
   "source": [
    "y_pred"
   ]
  },
  {
   "cell_type": "code",
   "execution_count": null,
   "metadata": {},
   "outputs": [],
   "source": [
    "cnf_matrix = metrics.confusion_matrix(y_test, y_pred)\n",
    "cnf_matrix"
   ]
  },
  {
   "cell_type": "code",
   "execution_count": null,
   "metadata": {},
   "outputs": [],
   "source": [
    "class_names=[0,1] # name  of classes\n",
    "fig, ax = plt.subplots()\n",
    "tick_marks = np.arange(len(class_names))\n",
    "plt.xticks(tick_marks, class_names)\n",
    "plt.yticks(tick_marks, class_names)\n",
    "# create heatmap\n",
    "sns.heatmap(pd.DataFrame(cnf_matrix), annot=True, cmap=\"YlGnBu\" ,fmt='g')\n",
    "ax.xaxis.set_label_position(\"top\")\n",
    "plt.tight_layout()\n",
    "plt.title('Confusion matrix', y=1.1)\n",
    "plt.ylabel('Actual label')\n",
    "plt.xlabel('Predicted label')\n",
    "\n",
    "Text(0.5,257.44,'Predicted label');"
   ]
  },
  {
   "cell_type": "code",
   "execution_count": null,
   "metadata": {},
   "outputs": [],
   "source": [
    "target_names = ['AVA', 'RME']\n",
    "print(classification_report(y_test, y_pred, target_names=target_names))"
   ]
  }
 ],
 "metadata": {
  "kernelspec": {
   "display_name": "HMDS",
   "language": "python",
   "name": "python3"
  },
  "language_info": {
   "codemirror_mode": {
    "name": "ipython",
    "version": 3
   },
   "file_extension": ".py",
   "mimetype": "text/x-python",
   "name": "python",
   "nbconvert_exporter": "python",
   "pygments_lexer": "ipython3",
   "version": "3.10.14"
  },
  "orig_nbformat": 4
 },
 "nbformat": 4,
 "nbformat_minor": 2
}
